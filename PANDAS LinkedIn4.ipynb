{
 "cells": [
  {
   "cell_type": "code",
   "execution_count": 1,
   "metadata": {},
   "outputs": [
    {
     "name": "stdout",
     "output_type": "stream",
     "text": [
      "          A         B         C\n",
      "0  0.425740  0.243265 -0.101590\n",
      "1 -1.915159 -1.259725  0.128850\n",
      "2 -0.441888  1.660112 -0.911302\n",
      "3 -0.713125  1.112932  0.455816\n",
      "4  0.107172  0.701779  0.333783\n",
      "5 -1.205306 -1.367592 -0.255276\n",
      "6  0.825607 -0.512594 -0.842594\n",
      "7 -1.907580  0.432363 -0.286529\n",
      "8 -1.535363 -0.471954  0.867232\n",
      "9  2.293268 -1.524857 -0.767390\n"
     ]
    }
   ],
   "source": [
    "#1.import python packages and create a Data Frame random numbers\n",
    "import pandas as pd\n",
    "import numpy as np\n",
    "data = np.random.randn(10,3)\n",
    "df = pd.DataFrame(data = data,columns = list(\"ABC\"))\n",
    "print(df)"
   ]
  },
  {
   "cell_type": "code",
   "execution_count": 2,
   "metadata": {},
   "outputs": [
    {
     "name": "stdout",
     "output_type": "stream",
     "text": [
      "RangeIndex(start=0, stop=10, step=1)\n"
     ]
    }
   ],
   "source": [
    "#2.Get the index of the dataframe\n",
    "print(df.index)"
   ]
  },
  {
   "cell_type": "code",
   "execution_count": 3,
   "metadata": {},
   "outputs": [
    {
     "name": "stdout",
     "output_type": "stream",
     "text": [
      "DatetimeIndex(['2021-06-01', '2021-06-02', '2021-06-03', '2021-06-04',\n",
      "               '2021-06-05', '2021-06-06', '2021-06-07', '2021-06-08',\n",
      "               '2021-06-09', '2021-06-10'],\n",
      "              dtype='datetime64[ns]', freq='D')\n"
     ]
    }
   ],
   "source": [
    "#3. Create a date index with 10 dates\n",
    "dates = pd.date_range(\"20210601\",periods = 10)\n",
    "print(dates)"
   ]
  },
  {
   "cell_type": "code",
   "execution_count": 4,
   "metadata": {},
   "outputs": [
    {
     "name": "stdout",
     "output_type": "stream",
     "text": [
      "                   A         B         C\n",
      "2021-06-01  0.425740  0.243265 -0.101590\n",
      "2021-06-02 -1.915159 -1.259725  0.128850\n",
      "2021-06-03 -0.441888  1.660112 -0.911302\n",
      "2021-06-04 -0.713125  1.112932  0.455816\n",
      "2021-06-05  0.107172  0.701779  0.333783\n",
      "2021-06-06 -1.205306 -1.367592 -0.255276\n",
      "2021-06-07  0.825607 -0.512594 -0.842594\n",
      "2021-06-08 -1.907580  0.432363 -0.286529\n",
      "2021-06-09 -1.535363 -0.471954  0.867232\n",
      "2021-06-10  2.293268 -1.524857 -0.767390\n"
     ]
    }
   ],
   "source": [
    "#4. Set index of the data frame as the dates\n",
    "df.index = dates\n",
    "print(df)"
   ]
  },
  {
   "cell_type": "code",
   "execution_count": 5,
   "metadata": {},
   "outputs": [
    {
     "name": "stdout",
     "output_type": "stream",
     "text": [
      "       index         A         B         C\n",
      "0 2021-06-01  0.425740  0.243265 -0.101590\n",
      "1 2021-06-02 -1.915159 -1.259725  0.128850\n",
      "2 2021-06-03 -0.441888  1.660112 -0.911302\n",
      "3 2021-06-04 -0.713125  1.112932  0.455816\n",
      "4 2021-06-05  0.107172  0.701779  0.333783\n",
      "5 2021-06-06 -1.205306 -1.367592 -0.255276\n",
      "6 2021-06-07  0.825607 -0.512594 -0.842594\n",
      "7 2021-06-08 -1.907580  0.432363 -0.286529\n",
      "8 2021-06-09 -1.535363 -0.471954  0.867232\n",
      "9 2021-06-10  2.293268 -1.524857 -0.767390\n"
     ]
    }
   ],
   "source": [
    "#5. Reset the index to have numeric index and dates as an columns\n",
    "df = df.reset_index()\n",
    "print(df)"
   ]
  },
  {
   "cell_type": "code",
   "execution_count": 6,
   "metadata": {},
   "outputs": [
    {
     "name": "stdout",
     "output_type": "stream",
     "text": [
      "       index         A         B         C     A1\n",
      "0 2021-06-01  0.425740  0.243265 -0.101590   True\n",
      "1 2021-06-02 -1.915159 -1.259725  0.128850  False\n",
      "2 2021-06-03 -0.441888  1.660112 -0.911302  False\n",
      "3 2021-06-04 -0.713125  1.112932  0.455816  False\n",
      "4 2021-06-05  0.107172  0.701779  0.333783   True\n",
      "5 2021-06-06 -1.205306 -1.367592 -0.255276  False\n",
      "6 2021-06-07  0.825607 -0.512594 -0.842594   True\n",
      "7 2021-06-08 -1.907580  0.432363 -0.286529  False\n",
      "8 2021-06-09 -1.535363 -0.471954  0.867232  False\n",
      "9 2021-06-10  2.293268 -1.524857 -0.767390   True\n"
     ]
    }
   ],
   "source": [
    "#6. Create new column \"A1\" with value True if value of \"A\" is positive and False other\n",
    "df['A1'] = df['A'] > 0\n",
    "print(df)"
   ]
  },
  {
   "cell_type": "code",
   "execution_count": 7,
   "metadata": {},
   "outputs": [
    {
     "name": "stdout",
     "output_type": "stream",
     "text": [
      "       index         A         B         C     A1  B1\n",
      "0 2021-06-01  0.425740  0.243265 -0.101590   True   0\n",
      "1 2021-06-02 -1.915159 -1.259725  0.128850  False  -1\n",
      "2 2021-06-03 -0.441888  1.660112 -0.911302  False   1\n",
      "3 2021-06-04 -0.713125  1.112932  0.455816  False   1\n",
      "4 2021-06-05  0.107172  0.701779  0.333783   True   0\n",
      "5 2021-06-06 -1.205306 -1.367592 -0.255276  False  -1\n",
      "6 2021-06-07  0.825607 -0.512594 -0.842594   True   0\n",
      "7 2021-06-08 -1.907580  0.432363 -0.286529  False   0\n",
      "8 2021-06-09 -1.535363 -0.471954  0.867232  False   0\n",
      "9 2021-06-10  2.293268 -1.524857 -0.767390   True  -1\n"
     ]
    }
   ],
   "source": [
    "#7. Create new column \"B1\" as integer part of \"B\"\n",
    "df[\"B1\"] = df[\"B\"].apply(lambda x: int(x))\n",
    "print(df)"
   ]
  },
  {
   "cell_type": "code",
   "execution_count": 8,
   "metadata": {},
   "outputs": [
    {
     "name": "stdout",
     "output_type": "stream",
     "text": [
      "       index         A         B         C     A1  B1  C1\n",
      "0 2021-06-01  0.425740  0.243265 -0.101590   True   0   0\n",
      "1 2021-06-02 -1.915159 -1.259725  0.128850  False  -1   0\n",
      "2 2021-06-03 -0.441888  1.660112 -0.911302  False   1  -1\n",
      "3 2021-06-04 -0.713125  1.112932  0.455816  False   1   0\n",
      "4 2021-06-05  0.107172  0.701779  0.333783   True   0   0\n",
      "5 2021-06-06 -1.205306 -1.367592 -0.255276  False  -1   0\n",
      "6 2021-06-07  0.825607 -0.512594 -0.842594   True   0  -1\n",
      "7 2021-06-08 -1.907580  0.432363 -0.286529  False   0   0\n",
      "8 2021-06-09 -1.535363 -0.471954  0.867232  False   0   1\n",
      "9 2021-06-10  2.293268 -1.524857 -0.767390   True  -1  -1\n"
     ]
    }
   ],
   "source": [
    "#8. Create new column \"C1\" by rounding \"C\" to nearest integer\n",
    "df[\"C1\"] = df[\"C\"].apply(lambda x: int(round(x,0)))\n",
    "print(df)"
   ]
  },
  {
   "cell_type": "code",
   "execution_count": 9,
   "metadata": {},
   "outputs": [
    {
     "name": "stdout",
     "output_type": "stream",
     "text": [
      "index    datetime64[ns]\n",
      "A               float64\n",
      "B               float64\n",
      "C               float64\n",
      "A1                 bool\n",
      "B1                int64\n",
      "C1                int64\n",
      "dtype: object\n"
     ]
    }
   ],
   "source": [
    "#9. Find out the data types of all the columns\n",
    "print(df.dtypes)"
   ]
  },
  {
   "cell_type": "code",
   "execution_count": 10,
   "metadata": {},
   "outputs": [
    {
     "name": "stdout",
     "output_type": "stream",
     "text": [
      "               A          B          C         B1         C1\n",
      "count  10.000000  10.000000  10.000000  10.000000  10.000000\n",
      "mean   -0.406663  -0.098627  -0.137900  -0.100000  -0.200000\n",
      "std     1.345788   1.100698   0.594850   0.737865   0.632456\n",
      "min    -1.915159  -1.524857  -0.911302  -1.000000  -1.000000\n",
      "25%    -1.452849  -1.072942  -0.647174  -0.750000  -0.750000\n",
      "50%    -0.577506  -0.114344  -0.178433   0.000000   0.000000\n",
      "75%     0.346098   0.634425   0.282550   0.000000   0.000000\n",
      "max     2.293268   1.660112   0.867232   1.000000   1.000000\n"
     ]
    }
   ],
   "source": [
    "#10. Find out descriptive statistics of numeric columns\n",
    "print(df.describe())"
   ]
  },
  {
   "cell_type": "code",
   "execution_count": null,
   "metadata": {},
   "outputs": [],
   "source": []
  }
 ],
 "metadata": {
  "kernelspec": {
   "display_name": "Python 3",
   "language": "python",
   "name": "python3"
  },
  "language_info": {
   "codemirror_mode": {
    "name": "ipython",
    "version": 3
   },
   "file_extension": ".py",
   "mimetype": "text/x-python",
   "name": "python",
   "nbconvert_exporter": "python",
   "pygments_lexer": "ipython3",
   "version": "3.7.6"
  }
 },
 "nbformat": 4,
 "nbformat_minor": 4
}
