{
 "cells": [
  {
   "cell_type": "code",
   "execution_count": 1,
   "metadata": {},
   "outputs": [],
   "source": [
    "#1. import python packages\n",
    "import pandas as pd\n",
    "import numpy as np"
   ]
  },
  {
   "cell_type": "code",
   "execution_count": 2,
   "metadata": {},
   "outputs": [
    {
     "name": "stdout",
     "output_type": "stream",
     "text": [
      "a    1\n",
      "b    2\n",
      "c    3\n",
      "d    4\n",
      "dtype: int64\n"
     ]
    }
   ],
   "source": [
    "#2. create a Series in pandas\n",
    "X = pd.Series([1,2,3,4],index = ['a','b','c','d'])\n",
    "print(X)"
   ]
  },
  {
   "cell_type": "code",
   "execution_count": 5,
   "metadata": {},
   "outputs": [
    {
     "name": "stdout",
     "output_type": "stream",
     "text": [
      "{'name': ['Tom', 'Dick', 'Harry'], 'age': [10, 20, 30]}\n"
     ]
    }
   ],
   "source": [
    "#3. Craete a python Dictionary with name and age of people\n",
    "age_data = {\"name\":['Tom','Dick','Harry'],\"age\":[10,20,30]}\n",
    "print(age_data)"
   ]
  },
  {
   "cell_type": "code",
   "execution_count": 6,
   "metadata": {},
   "outputs": [
    {
     "name": "stdout",
     "output_type": "stream",
     "text": [
      "    name  age\n",
      "0    Tom   10\n",
      "1   Dick   20\n",
      "2  Harry   30\n"
     ]
    }
   ],
   "source": [
    "#4. Create a Data Frame in pandas\n",
    "df = pd.DataFrame(data = age_data,columns = [\"name\",\"age\"])\n",
    "print(df)"
   ]
  },
  {
   "cell_type": "code",
   "execution_count": 7,
   "metadata": {},
   "outputs": [
    {
     "name": "stdout",
     "output_type": "stream",
     "text": [
      "name    Harry\n",
      "age        30\n",
      "Name: 2, dtype: object\n"
     ]
    }
   ],
   "source": [
    "#5. Get the data at 3 rd Row\n",
    "print(df.iloc[2,:])"
   ]
  },
  {
   "cell_type": "code",
   "execution_count": 9,
   "metadata": {},
   "outputs": [
    {
     "name": "stdout",
     "output_type": "stream",
     "text": [
      "0      Tom\n",
      "1     Dick\n",
      "2    Harry\n",
      "Name: name, dtype: object\n"
     ]
    }
   ],
   "source": [
    "#6.Get the data at the 1 st column\n",
    "print(df.iloc[:,0])"
   ]
  },
  {
   "cell_type": "code",
   "execution_count": 10,
   "metadata": {},
   "outputs": [
    {
     "name": "stdout",
     "output_type": "stream",
     "text": [
      "30\n"
     ]
    }
   ],
   "source": [
    "#7.Get the data at 3 rd row and 1 st column\n",
    "print(df.iloc[2,1])"
   ]
  },
  {
   "cell_type": "code",
   "execution_count": 11,
   "metadata": {},
   "outputs": [
    {
     "name": "stdout",
     "output_type": "stream",
     "text": [
      "    name  age Gender\n",
      "0    Tom   10   Male\n",
      "1   Dick   20   Male\n",
      "2  Harry   30   Male\n"
     ]
    }
   ],
   "source": [
    "#8.Add a new column in Data Frame with same values for all rows\n",
    "\n",
    "df[\"Gender\"] = \"Male\"\n",
    "print(df)"
   ]
  },
  {
   "cell_type": "code",
   "execution_count": 12,
   "metadata": {},
   "outputs": [
    {
     "name": "stdout",
     "output_type": "stream",
     "text": [
      "0      Tom\n",
      "1     Dick\n",
      "2    Harry\n",
      "Name: name, dtype: object\n"
     ]
    }
   ],
   "source": [
    "#9.Get the data of \"name\" column\n",
    "print(df[\"name\"])"
   ]
  },
  {
   "cell_type": "code",
   "execution_count": 13,
   "metadata": {},
   "outputs": [
    {
     "name": "stdout",
     "output_type": "stream",
     "text": [
      "Index(['name', 'age', 'Gender'], dtype='object')\n"
     ]
    }
   ],
   "source": [
    "#10.Get all the column names of the Data Frame\n",
    "print(df.columns)"
   ]
  },
  {
   "cell_type": "code",
   "execution_count": null,
   "metadata": {},
   "outputs": [],
   "source": []
  }
 ],
 "metadata": {
  "kernelspec": {
   "display_name": "Python 3",
   "language": "python",
   "name": "python3"
  },
  "language_info": {
   "codemirror_mode": {
    "name": "ipython",
    "version": 3
   },
   "file_extension": ".py",
   "mimetype": "text/x-python",
   "name": "python",
   "nbconvert_exporter": "python",
   "pygments_lexer": "ipython3",
   "version": "3.7.6"
  }
 },
 "nbformat": 4,
 "nbformat_minor": 4
}
