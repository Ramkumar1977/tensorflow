{
 "cells": [
  {
   "cell_type": "markdown",
   "metadata": {},
   "source": [
    "___\n",
    "\n",
    "<a href='http://www.pieriandata.com'> <img src='../Pierian_Data_Logo.png' /></a>\n",
    "___\n",
    "# Plotly and Cufflinks"
   ]
  },
  {
   "cell_type": "markdown",
   "metadata": {},
   "source": [
    "Plotly is a library that allows you to create interactive plots that you can use in dashboards or websites (you can save them as html files or static images).\n",
    "\n",
    "## Installation\n",
    "\n",
    "In order for this all to work, you'll need to install plotly and cufflinks to call plots directly off of a pandas dataframe. These libraries are not currently available through **conda** but are available through **pip**. Install the libraries at your command line/terminal using:\n",
    "\n",
    "    pip install plotly\n",
    "    pip install cufflinks\n",
    "\n",
    "** NOTE: Make sure you only have one installation of Python on your computer when you do this, otherwise the installation may not work. **\n",
    "\n",
    "## Imports and Set-up"
   ]
  },
  {
   "cell_type": "code",
   "execution_count": 1,
   "metadata": {},
   "outputs": [],
   "source": [
    "import pandas as pd\n",
    "import numpy as np\n",
    "%matplotlib inline"
   ]
  },
  {
   "cell_type": "code",
   "execution_count": 2,
   "metadata": {},
   "outputs": [
    {
     "name": "stdout",
     "output_type": "stream",
     "text": [
      "4.14.3\n"
     ]
    }
   ],
   "source": [
    "from plotly import __version__\n",
    "from plotly.offline import download_plotlyjs, init_notebook_mode, plot, iplot\n",
    "\n",
    "print(__version__) # requires version >= 1.9.0"
   ]
  },
  {
   "cell_type": "code",
   "execution_count": 3,
   "metadata": {},
   "outputs": [],
   "source": [
    "import cufflinks as cf"
   ]
  },
  {
   "cell_type": "code",
   "execution_count": 4,
   "metadata": {},
   "outputs": [
    {
     "data": {
      "text/html": [
       "        <script type=\"text/javascript\">\n",
       "        window.PlotlyConfig = {MathJaxConfig: 'local'};\n",
       "        if (window.MathJax) {MathJax.Hub.Config({SVG: {font: \"STIX-Web\"}});}\n",
       "        if (typeof require !== 'undefined') {\n",
       "        require.undef(\"plotly\");\n",
       "        requirejs.config({\n",
       "            paths: {\n",
       "                'plotly': ['https://cdn.plot.ly/plotly-latest.min']\n",
       "            }\n",
       "        });\n",
       "        require(['plotly'], function(Plotly) {\n",
       "            window._Plotly = Plotly;\n",
       "        });\n",
       "        }\n",
       "        </script>\n",
       "        "
      ]
     },
     "metadata": {},
     "output_type": "display_data"
    }
   ],
   "source": [
    "# For Notebooks\n",
    "init_notebook_mode(connected=True)"
   ]
  },
  {
   "cell_type": "code",
   "execution_count": 5,
   "metadata": {},
   "outputs": [
    {
     "data": {
      "text/html": [
       "        <script type=\"text/javascript\">\n",
       "        window.PlotlyConfig = {MathJaxConfig: 'local'};\n",
       "        if (window.MathJax) {MathJax.Hub.Config({SVG: {font: \"STIX-Web\"}});}\n",
       "        if (typeof require !== 'undefined') {\n",
       "        require.undef(\"plotly\");\n",
       "        requirejs.config({\n",
       "            paths: {\n",
       "                'plotly': ['https://cdn.plot.ly/plotly-latest.min']\n",
       "            }\n",
       "        });\n",
       "        require(['plotly'], function(Plotly) {\n",
       "            window._Plotly = Plotly;\n",
       "        });\n",
       "        }\n",
       "        </script>\n",
       "        "
      ]
     },
     "metadata": {},
     "output_type": "display_data"
    }
   ],
   "source": [
    "# For offline use\n",
    "cf.go_offline()"
   ]
  },
  {
   "cell_type": "markdown",
   "metadata": {},
   "source": [
    "### Fake Data"
   ]
  },
  {
   "cell_type": "code",
   "execution_count": 6,
   "metadata": {},
   "outputs": [],
   "source": [
    "df = pd.DataFrame(np.random.randn(100,4),columns='A B C D'.split())"
   ]
  },
  {
   "cell_type": "code",
   "execution_count": 7,
   "metadata": {},
   "outputs": [
    {
     "data": {
      "text/html": [
       "<div>\n",
       "<style scoped>\n",
       "    .dataframe tbody tr th:only-of-type {\n",
       "        vertical-align: middle;\n",
       "    }\n",
       "\n",
       "    .dataframe tbody tr th {\n",
       "        vertical-align: top;\n",
       "    }\n",
       "\n",
       "    .dataframe thead th {\n",
       "        text-align: right;\n",
       "    }\n",
       "</style>\n",
       "<table border=\"1\" class=\"dataframe\">\n",
       "  <thead>\n",
       "    <tr style=\"text-align: right;\">\n",
       "      <th></th>\n",
       "      <th>A</th>\n",
       "      <th>B</th>\n",
       "      <th>C</th>\n",
       "      <th>D</th>\n",
       "    </tr>\n",
       "  </thead>\n",
       "  <tbody>\n",
       "    <tr>\n",
       "      <th>0</th>\n",
       "      <td>0.062403</td>\n",
       "      <td>-1.299068</td>\n",
       "      <td>1.327748</td>\n",
       "      <td>0.951095</td>\n",
       "    </tr>\n",
       "    <tr>\n",
       "      <th>1</th>\n",
       "      <td>0.682158</td>\n",
       "      <td>1.624681</td>\n",
       "      <td>1.050548</td>\n",
       "      <td>0.469564</td>\n",
       "    </tr>\n",
       "    <tr>\n",
       "      <th>2</th>\n",
       "      <td>0.326846</td>\n",
       "      <td>1.105014</td>\n",
       "      <td>1.329487</td>\n",
       "      <td>-0.128212</td>\n",
       "    </tr>\n",
       "    <tr>\n",
       "      <th>3</th>\n",
       "      <td>0.284224</td>\n",
       "      <td>-0.188556</td>\n",
       "      <td>-0.138704</td>\n",
       "      <td>-1.525708</td>\n",
       "    </tr>\n",
       "    <tr>\n",
       "      <th>4</th>\n",
       "      <td>-0.893068</td>\n",
       "      <td>0.484786</td>\n",
       "      <td>1.221828</td>\n",
       "      <td>-0.162337</td>\n",
       "    </tr>\n",
       "  </tbody>\n",
       "</table>\n",
       "</div>"
      ],
      "text/plain": [
       "          A         B         C         D\n",
       "0  0.062403 -1.299068  1.327748  0.951095\n",
       "1  0.682158  1.624681  1.050548  0.469564\n",
       "2  0.326846  1.105014  1.329487 -0.128212\n",
       "3  0.284224 -0.188556 -0.138704 -1.525708\n",
       "4 -0.893068  0.484786  1.221828 -0.162337"
      ]
     },
     "execution_count": 7,
     "metadata": {},
     "output_type": "execute_result"
    }
   ],
   "source": [
    "df.head()"
   ]
  },
  {
   "cell_type": "code",
   "execution_count": 8,
   "metadata": {},
   "outputs": [],
   "source": [
    "df2 = pd.DataFrame({'Category':['A','B','C'],'Values':[32,43,50]})"
   ]
  },
  {
   "cell_type": "code",
   "execution_count": 9,
   "metadata": {},
   "outputs": [
    {
     "data": {
      "text/html": [
       "<div>\n",
       "<style scoped>\n",
       "    .dataframe tbody tr th:only-of-type {\n",
       "        vertical-align: middle;\n",
       "    }\n",
       "\n",
       "    .dataframe tbody tr th {\n",
       "        vertical-align: top;\n",
       "    }\n",
       "\n",
       "    .dataframe thead th {\n",
       "        text-align: right;\n",
       "    }\n",
       "</style>\n",
       "<table border=\"1\" class=\"dataframe\">\n",
       "  <thead>\n",
       "    <tr style=\"text-align: right;\">\n",
       "      <th></th>\n",
       "      <th>Category</th>\n",
       "      <th>Values</th>\n",
       "    </tr>\n",
       "  </thead>\n",
       "  <tbody>\n",
       "    <tr>\n",
       "      <th>0</th>\n",
       "      <td>A</td>\n",
       "      <td>32</td>\n",
       "    </tr>\n",
       "    <tr>\n",
       "      <th>1</th>\n",
       "      <td>B</td>\n",
       "      <td>43</td>\n",
       "    </tr>\n",
       "    <tr>\n",
       "      <th>2</th>\n",
       "      <td>C</td>\n",
       "      <td>50</td>\n",
       "    </tr>\n",
       "  </tbody>\n",
       "</table>\n",
       "</div>"
      ],
      "text/plain": [
       "  Category  Values\n",
       "0        A      32\n",
       "1        B      43\n",
       "2        C      50"
      ]
     },
     "execution_count": 9,
     "metadata": {},
     "output_type": "execute_result"
    }
   ],
   "source": [
    "df2.head()"
   ]
  },
  {
   "cell_type": "markdown",
   "metadata": {},
   "source": [
    "## Using Cufflinks and iplot()\n",
    "\n",
    "* scatter\n",
    "* bar\n",
    "* box\n",
    "* spread\n",
    "* ratio\n",
    "* heatmap\n",
    "* surface\n",
    "* histogram\n",
    "* bubble"
   ]
  },
  {
   "cell_type": "markdown",
   "metadata": {},
   "source": [
    "## Scatter"
   ]
  },
  {
   "cell_type": "code",
   "execution_count": 10,
   "metadata": {},
   "outputs": [
    {
     "data": {
      "application/vnd.plotly.v1+json": {
       "config": {
        "linkText": "Export to plot.ly",
        "plotlyServerURL": "https://plot.ly",
        "showLink": true
       },
       "data": [
        {
         "line": {
          "color": "rgba(255, 153, 51, 1.0)",
          "dash": "solid",
          "shape": "linear",
          "width": 1.3
         },
         "marker": {
          "size": 10,
          "symbol": "circle"
         },
         "mode": "markers",
         "name": "B",
         "text": "",
         "type": "scatter",
         "x": [
          0.062403000348056896,
          0.682158388145421,
          0.3268464575434144,
          0.28422394171376936,
          -0.8930677967906131,
          0.041223291518847946,
          1.4782858523800568,
          -0.01722465247120283,
          0.20354506830826805,
          -0.4545305600633967,
          -0.38981019744658657,
          -1.3603820914539406,
          -0.1930434719473086,
          -0.4242067670561226,
          0.5805237728658952,
          0.0182563537413149,
          0.5893475068103087,
          0.03891119531541383,
          -1.1659803041570214,
          -1.4954814632608548,
          0.6410459252420906,
          -1.8173897668947723,
          1.1476736695558079,
          -0.008637510156530056,
          0.7333610287703045,
          -0.00341856027323607,
          -0.1705957221128231,
          -0.2755653598251552,
          -0.7028999920512963,
          -0.7686762441966566,
          -1.4320039221064242,
          -0.3777920709864464,
          -0.7893304727600577,
          -1.462585693582685,
          0.25606012549675394,
          -0.7328012321850637,
          0.9282689238426763,
          1.1757725189552224,
          0.5497232961895439,
          1.3504414595074608,
          0.36879921331976007,
          0.6474329912861589,
          0.3425748143184703,
          -0.5524096866845196,
          0.22771702810119573,
          -0.01856107928186663,
          -0.505035272141574,
          1.83767051387475,
          0.7758446792672782,
          0.49530351834577024,
          -0.8959516679869598,
          0.19244410049328461,
          -0.028152661422717846,
          0.2446391640032037,
          -0.8544538723417219,
          -1.1987174971252845,
          -1.0351821498442066,
          1.630876494005205,
          -1.1732747762090505,
          -0.6522848289203391,
          -1.166608830105591,
          -0.6660716373175085,
          0.49650677118547343,
          0.280945589781803,
          2.590006720593593,
          0.4641214459824001,
          0.4167417130776699,
          0.814643013951977,
          -2.135518795380281,
          0.6136241313529066,
          -0.9426705484649059,
          1.050069499491585,
          1.478207789341703,
          -0.6391499024396073,
          1.1037544258288825,
          1.598744213446337,
          -0.9214180706170372,
          -1.2027125149729223,
          -0.8141297322283779,
          0.4167869704791297,
          -0.5529385483286148,
          0.3472229204713509,
          0.718239409702939,
          -0.28359798177231077,
          -0.39401886897279204,
          -0.8053865090960546,
          0.31592140452817635,
          1.2882667023943803,
          0.6850003377061532,
          -1.653096366834222,
          0.10423440668142835,
          -1.1225488317606467,
          -0.7634534972151744,
          0.845927206975368,
          2.4774967936593364,
          -1.1920806362525922,
          -0.932594950136978,
          2.440937192420902,
          -1.0872222548948827,
          0.8000874593014355
         ],
         "y": [
          -1.2990683753780665,
          1.624681381422417,
          1.1050144336626813,
          -0.18855637354967572,
          0.48478649153248393,
          -0.1518918367515998,
          -0.7101304630074858,
          -0.8314894580215793,
          0.14864838275340203,
          -0.9883549688724185,
          0.2619736329233981,
          0.433341791706317,
          0.4144785136898204,
          0.5033067567904287,
          1.4965554538363868,
          1.956617306686328,
          -0.578245281812172,
          -1.4174671610760066,
          0.2509113970016073,
          -0.6854460438222966,
          0.23852252212573566,
          -0.4374775713005923,
          0.7413855687297202,
          0.10556881914297436,
          0.1585873008040566,
          2.233260861019369,
          -0.09929731120607435,
          0.7241044725523446,
          0.535088540547648,
          0.5580949721210654,
          -0.11338290316044461,
          -0.7731897813122994,
          -0.45846386467525907,
          -0.2617599441544949,
          -0.6477024075551885,
          -1.4554017026133887,
          0.24741918994602477,
          -0.22522232259468344,
          0.5469031092445472,
          -0.2815805553595161,
          -0.14730474978832764,
          2.152082602828211,
          -0.5849732814667612,
          -1.1672480227212263,
          -1.936000387514932,
          -0.6068892020585201,
          -0.004093622653018009,
          1.768152919880954,
          -0.47379149100178425,
          0.4096662408886199,
          -0.8298725088760005,
          0.23714593080153104,
          1.7182916716167476,
          -0.5536416369860518,
          -0.5008585162696602,
          0.12531474389952071,
          -0.3102922723523502,
          0.3212082519347096,
          0.1273991345162948,
          1.4676643819725206,
          -0.00954134812271558,
          -2.515191437159899,
          0.2858322905211471,
          1.6148968929893681,
          -0.41540727418007933,
          0.7432364152956532,
          0.08943293717910389,
          0.45863524503738756,
          -1.5130666419626568,
          0.25537119307039896,
          0.646208704821914,
          0.14045644314235028,
          -1.654436346805644,
          -1.2485137655752985,
          -1.220472804150455,
          0.5874098939074718,
          -0.8832102261481436,
          -0.7988314318980299,
          -0.573780450292032,
          -1.0383213758032692,
          -0.6318717788688629,
          0.00039752972621937476,
          1.1981581595577502,
          -2.5099274433561014,
          -0.2712993286356339,
          0.18780065535996154,
          -0.5580110046021268,
          -1.373552616923043,
          -0.08136658740476707,
          -0.500895465414146,
          -0.28648841769671246,
          0.760700335336526,
          1.2828632663819213,
          0.6375084363947762,
          0.09553303045392961,
          0.9602945758003074,
          1.264248937029117,
          -0.12940953282095385,
          -1.8627436208339199,
          -0.35263576599728114
         ]
        }
       ],
       "layout": {
        "legend": {
         "bgcolor": "#F5F6F9",
         "font": {
          "color": "#4D5663"
         }
        },
        "paper_bgcolor": "#F5F6F9",
        "plot_bgcolor": "#F5F6F9",
        "template": {
         "data": {
          "bar": [
           {
            "error_x": {
             "color": "#2a3f5f"
            },
            "error_y": {
             "color": "#2a3f5f"
            },
            "marker": {
             "line": {
              "color": "#E5ECF6",
              "width": 0.5
             }
            },
            "type": "bar"
           }
          ],
          "barpolar": [
           {
            "marker": {
             "line": {
              "color": "#E5ECF6",
              "width": 0.5
             }
            },
            "type": "barpolar"
           }
          ],
          "carpet": [
           {
            "aaxis": {
             "endlinecolor": "#2a3f5f",
             "gridcolor": "white",
             "linecolor": "white",
             "minorgridcolor": "white",
             "startlinecolor": "#2a3f5f"
            },
            "baxis": {
             "endlinecolor": "#2a3f5f",
             "gridcolor": "white",
             "linecolor": "white",
             "minorgridcolor": "white",
             "startlinecolor": "#2a3f5f"
            },
            "type": "carpet"
           }
          ],
          "choropleth": [
           {
            "colorbar": {
             "outlinewidth": 0,
             "ticks": ""
            },
            "type": "choropleth"
           }
          ],
          "contour": [
           {
            "colorbar": {
             "outlinewidth": 0,
             "ticks": ""
            },
            "colorscale": [
             [
              0,
              "#0d0887"
             ],
             [
              0.1111111111111111,
              "#46039f"
             ],
             [
              0.2222222222222222,
              "#7201a8"
             ],
             [
              0.3333333333333333,
              "#9c179e"
             ],
             [
              0.4444444444444444,
              "#bd3786"
             ],
             [
              0.5555555555555556,
              "#d8576b"
             ],
             [
              0.6666666666666666,
              "#ed7953"
             ],
             [
              0.7777777777777778,
              "#fb9f3a"
             ],
             [
              0.8888888888888888,
              "#fdca26"
             ],
             [
              1,
              "#f0f921"
             ]
            ],
            "type": "contour"
           }
          ],
          "contourcarpet": [
           {
            "colorbar": {
             "outlinewidth": 0,
             "ticks": ""
            },
            "type": "contourcarpet"
           }
          ],
          "heatmap": [
           {
            "colorbar": {
             "outlinewidth": 0,
             "ticks": ""
            },
            "colorscale": [
             [
              0,
              "#0d0887"
             ],
             [
              0.1111111111111111,
              "#46039f"
             ],
             [
              0.2222222222222222,
              "#7201a8"
             ],
             [
              0.3333333333333333,
              "#9c179e"
             ],
             [
              0.4444444444444444,
              "#bd3786"
             ],
             [
              0.5555555555555556,
              "#d8576b"
             ],
             [
              0.6666666666666666,
              "#ed7953"
             ],
             [
              0.7777777777777778,
              "#fb9f3a"
             ],
             [
              0.8888888888888888,
              "#fdca26"
             ],
             [
              1,
              "#f0f921"
             ]
            ],
            "type": "heatmap"
           }
          ],
          "heatmapgl": [
           {
            "colorbar": {
             "outlinewidth": 0,
             "ticks": ""
            },
            "colorscale": [
             [
              0,
              "#0d0887"
             ],
             [
              0.1111111111111111,
              "#46039f"
             ],
             [
              0.2222222222222222,
              "#7201a8"
             ],
             [
              0.3333333333333333,
              "#9c179e"
             ],
             [
              0.4444444444444444,
              "#bd3786"
             ],
             [
              0.5555555555555556,
              "#d8576b"
             ],
             [
              0.6666666666666666,
              "#ed7953"
             ],
             [
              0.7777777777777778,
              "#fb9f3a"
             ],
             [
              0.8888888888888888,
              "#fdca26"
             ],
             [
              1,
              "#f0f921"
             ]
            ],
            "type": "heatmapgl"
           }
          ],
          "histogram": [
           {
            "marker": {
             "colorbar": {
              "outlinewidth": 0,
              "ticks": ""
             }
            },
            "type": "histogram"
           }
          ],
          "histogram2d": [
           {
            "colorbar": {
             "outlinewidth": 0,
             "ticks": ""
            },
            "colorscale": [
             [
              0,
              "#0d0887"
             ],
             [
              0.1111111111111111,
              "#46039f"
             ],
             [
              0.2222222222222222,
              "#7201a8"
             ],
             [
              0.3333333333333333,
              "#9c179e"
             ],
             [
              0.4444444444444444,
              "#bd3786"
             ],
             [
              0.5555555555555556,
              "#d8576b"
             ],
             [
              0.6666666666666666,
              "#ed7953"
             ],
             [
              0.7777777777777778,
              "#fb9f3a"
             ],
             [
              0.8888888888888888,
              "#fdca26"
             ],
             [
              1,
              "#f0f921"
             ]
            ],
            "type": "histogram2d"
           }
          ],
          "histogram2dcontour": [
           {
            "colorbar": {
             "outlinewidth": 0,
             "ticks": ""
            },
            "colorscale": [
             [
              0,
              "#0d0887"
             ],
             [
              0.1111111111111111,
              "#46039f"
             ],
             [
              0.2222222222222222,
              "#7201a8"
             ],
             [
              0.3333333333333333,
              "#9c179e"
             ],
             [
              0.4444444444444444,
              "#bd3786"
             ],
             [
              0.5555555555555556,
              "#d8576b"
             ],
             [
              0.6666666666666666,
              "#ed7953"
             ],
             [
              0.7777777777777778,
              "#fb9f3a"
             ],
             [
              0.8888888888888888,
              "#fdca26"
             ],
             [
              1,
              "#f0f921"
             ]
            ],
            "type": "histogram2dcontour"
           }
          ],
          "mesh3d": [
           {
            "colorbar": {
             "outlinewidth": 0,
             "ticks": ""
            },
            "type": "mesh3d"
           }
          ],
          "parcoords": [
           {
            "line": {
             "colorbar": {
              "outlinewidth": 0,
              "ticks": ""
             }
            },
            "type": "parcoords"
           }
          ],
          "pie": [
           {
            "automargin": true,
            "type": "pie"
           }
          ],
          "scatter": [
           {
            "marker": {
             "colorbar": {
              "outlinewidth": 0,
              "ticks": ""
             }
            },
            "type": "scatter"
           }
          ],
          "scatter3d": [
           {
            "line": {
             "colorbar": {
              "outlinewidth": 0,
              "ticks": ""
             }
            },
            "marker": {
             "colorbar": {
              "outlinewidth": 0,
              "ticks": ""
             }
            },
            "type": "scatter3d"
           }
          ],
          "scattercarpet": [
           {
            "marker": {
             "colorbar": {
              "outlinewidth": 0,
              "ticks": ""
             }
            },
            "type": "scattercarpet"
           }
          ],
          "scattergeo": [
           {
            "marker": {
             "colorbar": {
              "outlinewidth": 0,
              "ticks": ""
             }
            },
            "type": "scattergeo"
           }
          ],
          "scattergl": [
           {
            "marker": {
             "colorbar": {
              "outlinewidth": 0,
              "ticks": ""
             }
            },
            "type": "scattergl"
           }
          ],
          "scattermapbox": [
           {
            "marker": {
             "colorbar": {
              "outlinewidth": 0,
              "ticks": ""
             }
            },
            "type": "scattermapbox"
           }
          ],
          "scatterpolar": [
           {
            "marker": {
             "colorbar": {
              "outlinewidth": 0,
              "ticks": ""
             }
            },
            "type": "scatterpolar"
           }
          ],
          "scatterpolargl": [
           {
            "marker": {
             "colorbar": {
              "outlinewidth": 0,
              "ticks": ""
             }
            },
            "type": "scatterpolargl"
           }
          ],
          "scatterternary": [
           {
            "marker": {
             "colorbar": {
              "outlinewidth": 0,
              "ticks": ""
             }
            },
            "type": "scatterternary"
           }
          ],
          "surface": [
           {
            "colorbar": {
             "outlinewidth": 0,
             "ticks": ""
            },
            "colorscale": [
             [
              0,
              "#0d0887"
             ],
             [
              0.1111111111111111,
              "#46039f"
             ],
             [
              0.2222222222222222,
              "#7201a8"
             ],
             [
              0.3333333333333333,
              "#9c179e"
             ],
             [
              0.4444444444444444,
              "#bd3786"
             ],
             [
              0.5555555555555556,
              "#d8576b"
             ],
             [
              0.6666666666666666,
              "#ed7953"
             ],
             [
              0.7777777777777778,
              "#fb9f3a"
             ],
             [
              0.8888888888888888,
              "#fdca26"
             ],
             [
              1,
              "#f0f921"
             ]
            ],
            "type": "surface"
           }
          ],
          "table": [
           {
            "cells": {
             "fill": {
              "color": "#EBF0F8"
             },
             "line": {
              "color": "white"
             }
            },
            "header": {
             "fill": {
              "color": "#C8D4E3"
             },
             "line": {
              "color": "white"
             }
            },
            "type": "table"
           }
          ]
         },
         "layout": {
          "annotationdefaults": {
           "arrowcolor": "#2a3f5f",
           "arrowhead": 0,
           "arrowwidth": 1
          },
          "autotypenumbers": "strict",
          "coloraxis": {
           "colorbar": {
            "outlinewidth": 0,
            "ticks": ""
           }
          },
          "colorscale": {
           "diverging": [
            [
             0,
             "#8e0152"
            ],
            [
             0.1,
             "#c51b7d"
            ],
            [
             0.2,
             "#de77ae"
            ],
            [
             0.3,
             "#f1b6da"
            ],
            [
             0.4,
             "#fde0ef"
            ],
            [
             0.5,
             "#f7f7f7"
            ],
            [
             0.6,
             "#e6f5d0"
            ],
            [
             0.7,
             "#b8e186"
            ],
            [
             0.8,
             "#7fbc41"
            ],
            [
             0.9,
             "#4d9221"
            ],
            [
             1,
             "#276419"
            ]
           ],
           "sequential": [
            [
             0,
             "#0d0887"
            ],
            [
             0.1111111111111111,
             "#46039f"
            ],
            [
             0.2222222222222222,
             "#7201a8"
            ],
            [
             0.3333333333333333,
             "#9c179e"
            ],
            [
             0.4444444444444444,
             "#bd3786"
            ],
            [
             0.5555555555555556,
             "#d8576b"
            ],
            [
             0.6666666666666666,
             "#ed7953"
            ],
            [
             0.7777777777777778,
             "#fb9f3a"
            ],
            [
             0.8888888888888888,
             "#fdca26"
            ],
            [
             1,
             "#f0f921"
            ]
           ],
           "sequentialminus": [
            [
             0,
             "#0d0887"
            ],
            [
             0.1111111111111111,
             "#46039f"
            ],
            [
             0.2222222222222222,
             "#7201a8"
            ],
            [
             0.3333333333333333,
             "#9c179e"
            ],
            [
             0.4444444444444444,
             "#bd3786"
            ],
            [
             0.5555555555555556,
             "#d8576b"
            ],
            [
             0.6666666666666666,
             "#ed7953"
            ],
            [
             0.7777777777777778,
             "#fb9f3a"
            ],
            [
             0.8888888888888888,
             "#fdca26"
            ],
            [
             1,
             "#f0f921"
            ]
           ]
          },
          "colorway": [
           "#636efa",
           "#EF553B",
           "#00cc96",
           "#ab63fa",
           "#FFA15A",
           "#19d3f3",
           "#FF6692",
           "#B6E880",
           "#FF97FF",
           "#FECB52"
          ],
          "font": {
           "color": "#2a3f5f"
          },
          "geo": {
           "bgcolor": "white",
           "lakecolor": "white",
           "landcolor": "#E5ECF6",
           "showlakes": true,
           "showland": true,
           "subunitcolor": "white"
          },
          "hoverlabel": {
           "align": "left"
          },
          "hovermode": "closest",
          "mapbox": {
           "style": "light"
          },
          "paper_bgcolor": "white",
          "plot_bgcolor": "#E5ECF6",
          "polar": {
           "angularaxis": {
            "gridcolor": "white",
            "linecolor": "white",
            "ticks": ""
           },
           "bgcolor": "#E5ECF6",
           "radialaxis": {
            "gridcolor": "white",
            "linecolor": "white",
            "ticks": ""
           }
          },
          "scene": {
           "xaxis": {
            "backgroundcolor": "#E5ECF6",
            "gridcolor": "white",
            "gridwidth": 2,
            "linecolor": "white",
            "showbackground": true,
            "ticks": "",
            "zerolinecolor": "white"
           },
           "yaxis": {
            "backgroundcolor": "#E5ECF6",
            "gridcolor": "white",
            "gridwidth": 2,
            "linecolor": "white",
            "showbackground": true,
            "ticks": "",
            "zerolinecolor": "white"
           },
           "zaxis": {
            "backgroundcolor": "#E5ECF6",
            "gridcolor": "white",
            "gridwidth": 2,
            "linecolor": "white",
            "showbackground": true,
            "ticks": "",
            "zerolinecolor": "white"
           }
          },
          "shapedefaults": {
           "line": {
            "color": "#2a3f5f"
           }
          },
          "ternary": {
           "aaxis": {
            "gridcolor": "white",
            "linecolor": "white",
            "ticks": ""
           },
           "baxis": {
            "gridcolor": "white",
            "linecolor": "white",
            "ticks": ""
           },
           "bgcolor": "#E5ECF6",
           "caxis": {
            "gridcolor": "white",
            "linecolor": "white",
            "ticks": ""
           }
          },
          "title": {
           "x": 0.05
          },
          "xaxis": {
           "automargin": true,
           "gridcolor": "white",
           "linecolor": "white",
           "ticks": "",
           "title": {
            "standoff": 15
           },
           "zerolinecolor": "white",
           "zerolinewidth": 2
          },
          "yaxis": {
           "automargin": true,
           "gridcolor": "white",
           "linecolor": "white",
           "ticks": "",
           "title": {
            "standoff": 15
           },
           "zerolinecolor": "white",
           "zerolinewidth": 2
          }
         }
        },
        "title": {
         "font": {
          "color": "#4D5663"
         }
        },
        "xaxis": {
         "gridcolor": "#E1E5ED",
         "showgrid": true,
         "tickfont": {
          "color": "#4D5663"
         },
         "title": {
          "font": {
           "color": "#4D5663"
          },
          "text": ""
         },
         "zerolinecolor": "#E1E5ED"
        },
        "yaxis": {
         "gridcolor": "#E1E5ED",
         "showgrid": true,
         "tickfont": {
          "color": "#4D5663"
         },
         "title": {
          "font": {
           "color": "#4D5663"
          },
          "text": ""
         },
         "zerolinecolor": "#E1E5ED"
        }
       }
      },
      "text/html": [
       "<div>                            <div id=\"e5a5e368-73fd-4fe3-8c5f-fc01335b3f90\" class=\"plotly-graph-div\" style=\"height:525px; width:100%;\"></div>            <script type=\"text/javascript\">                require([\"plotly\"], function(Plotly) {                    window.PLOTLYENV=window.PLOTLYENV || {};\n",
       "                    window.PLOTLYENV.BASE_URL='https://plot.ly';                                    if (document.getElementById(\"e5a5e368-73fd-4fe3-8c5f-fc01335b3f90\")) {                    Plotly.newPlot(                        \"e5a5e368-73fd-4fe3-8c5f-fc01335b3f90\",                        [{\"line\": {\"color\": \"rgba(255, 153, 51, 1.0)\", \"dash\": \"solid\", \"shape\": \"linear\", \"width\": 1.3}, \"marker\": {\"size\": 10, \"symbol\": \"circle\"}, \"mode\": \"markers\", \"name\": \"B\", \"text\": \"\", \"type\": \"scatter\", \"x\": [0.062403000348056896, 0.682158388145421, 0.3268464575434144, 0.28422394171376936, -0.8930677967906131, 0.041223291518847946, 1.4782858523800568, -0.01722465247120283, 0.20354506830826805, -0.4545305600633967, -0.38981019744658657, -1.3603820914539406, -0.1930434719473086, -0.4242067670561226, 0.5805237728658952, 0.0182563537413149, 0.5893475068103087, 0.03891119531541383, -1.1659803041570214, -1.4954814632608548, 0.6410459252420906, -1.8173897668947723, 1.1476736695558079, -0.008637510156530056, 0.7333610287703045, -0.00341856027323607, -0.1705957221128231, -0.2755653598251552, -0.7028999920512963, -0.7686762441966566, -1.4320039221064242, -0.3777920709864464, -0.7893304727600577, -1.462585693582685, 0.25606012549675394, -0.7328012321850637, 0.9282689238426763, 1.1757725189552224, 0.5497232961895439, 1.3504414595074608, 0.36879921331976007, 0.6474329912861589, 0.3425748143184703, -0.5524096866845196, 0.22771702810119573, -0.01856107928186663, -0.505035272141574, 1.83767051387475, 0.7758446792672782, 0.49530351834577024, -0.8959516679869598, 0.19244410049328461, -0.028152661422717846, 0.2446391640032037, -0.8544538723417219, -1.1987174971252845, -1.0351821498442066, 1.630876494005205, -1.1732747762090505, -0.6522848289203391, -1.166608830105591, -0.6660716373175085, 0.49650677118547343, 0.280945589781803, 2.590006720593593, 0.4641214459824001, 0.4167417130776699, 0.814643013951977, -2.135518795380281, 0.6136241313529066, -0.9426705484649059, 1.050069499491585, 1.478207789341703, -0.6391499024396073, 1.1037544258288825, 1.598744213446337, -0.9214180706170372, -1.2027125149729223, -0.8141297322283779, 0.4167869704791297, -0.5529385483286148, 0.3472229204713509, 0.718239409702939, -0.28359798177231077, -0.39401886897279204, -0.8053865090960546, 0.31592140452817635, 1.2882667023943803, 0.6850003377061532, -1.653096366834222, 0.10423440668142835, -1.1225488317606467, -0.7634534972151744, 0.845927206975368, 2.4774967936593364, -1.1920806362525922, -0.932594950136978, 2.440937192420902, -1.0872222548948827, 0.8000874593014355], \"y\": [-1.2990683753780665, 1.624681381422417, 1.1050144336626813, -0.18855637354967572, 0.48478649153248393, -0.1518918367515998, -0.7101304630074858, -0.8314894580215793, 0.14864838275340203, -0.9883549688724185, 0.2619736329233981, 0.433341791706317, 0.4144785136898204, 0.5033067567904287, 1.4965554538363868, 1.956617306686328, -0.578245281812172, -1.4174671610760066, 0.2509113970016073, -0.6854460438222966, 0.23852252212573566, -0.4374775713005923, 0.7413855687297202, 0.10556881914297436, 0.1585873008040566, 2.233260861019369, -0.09929731120607435, 0.7241044725523446, 0.535088540547648, 0.5580949721210654, -0.11338290316044461, -0.7731897813122994, -0.45846386467525907, -0.2617599441544949, -0.6477024075551885, -1.4554017026133887, 0.24741918994602477, -0.22522232259468344, 0.5469031092445472, -0.2815805553595161, -0.14730474978832764, 2.152082602828211, -0.5849732814667612, -1.1672480227212263, -1.936000387514932, -0.6068892020585201, -0.004093622653018009, 1.768152919880954, -0.47379149100178425, 0.4096662408886199, -0.8298725088760005, 0.23714593080153104, 1.7182916716167476, -0.5536416369860518, -0.5008585162696602, 0.12531474389952071, -0.3102922723523502, 0.3212082519347096, 0.1273991345162948, 1.4676643819725206, -0.00954134812271558, -2.515191437159899, 0.2858322905211471, 1.6148968929893681, -0.41540727418007933, 0.7432364152956532, 0.08943293717910389, 0.45863524503738756, -1.5130666419626568, 0.25537119307039896, 0.646208704821914, 0.14045644314235028, -1.654436346805644, -1.2485137655752985, -1.220472804150455, 0.5874098939074718, -0.8832102261481436, -0.7988314318980299, -0.573780450292032, -1.0383213758032692, -0.6318717788688629, 0.00039752972621937476, 1.1981581595577502, -2.5099274433561014, -0.2712993286356339, 0.18780065535996154, -0.5580110046021268, -1.373552616923043, -0.08136658740476707, -0.500895465414146, -0.28648841769671246, 0.760700335336526, 1.2828632663819213, 0.6375084363947762, 0.09553303045392961, 0.9602945758003074, 1.264248937029117, -0.12940953282095385, -1.8627436208339199, -0.35263576599728114]}],                        {\"legend\": {\"bgcolor\": \"#F5F6F9\", \"font\": {\"color\": \"#4D5663\"}}, \"paper_bgcolor\": \"#F5F6F9\", \"plot_bgcolor\": \"#F5F6F9\", \"template\": {\"data\": {\"bar\": [{\"error_x\": {\"color\": \"#2a3f5f\"}, \"error_y\": {\"color\": \"#2a3f5f\"}, \"marker\": {\"line\": {\"color\": \"#E5ECF6\", \"width\": 0.5}}, \"type\": \"bar\"}], \"barpolar\": [{\"marker\": {\"line\": {\"color\": \"#E5ECF6\", \"width\": 0.5}}, \"type\": \"barpolar\"}], \"carpet\": [{\"aaxis\": {\"endlinecolor\": \"#2a3f5f\", \"gridcolor\": \"white\", \"linecolor\": \"white\", \"minorgridcolor\": \"white\", \"startlinecolor\": \"#2a3f5f\"}, \"baxis\": {\"endlinecolor\": \"#2a3f5f\", \"gridcolor\": \"white\", \"linecolor\": \"white\", \"minorgridcolor\": \"white\", \"startlinecolor\": \"#2a3f5f\"}, \"type\": \"carpet\"}], \"choropleth\": [{\"colorbar\": {\"outlinewidth\": 0, \"ticks\": \"\"}, \"type\": \"choropleth\"}], \"contour\": [{\"colorbar\": {\"outlinewidth\": 0, \"ticks\": \"\"}, \"colorscale\": [[0.0, \"#0d0887\"], [0.1111111111111111, \"#46039f\"], [0.2222222222222222, \"#7201a8\"], [0.3333333333333333, \"#9c179e\"], [0.4444444444444444, \"#bd3786\"], [0.5555555555555556, \"#d8576b\"], [0.6666666666666666, \"#ed7953\"], [0.7777777777777778, \"#fb9f3a\"], [0.8888888888888888, \"#fdca26\"], [1.0, \"#f0f921\"]], \"type\": \"contour\"}], \"contourcarpet\": [{\"colorbar\": {\"outlinewidth\": 0, \"ticks\": \"\"}, \"type\": \"contourcarpet\"}], \"heatmap\": [{\"colorbar\": {\"outlinewidth\": 0, \"ticks\": \"\"}, \"colorscale\": [[0.0, \"#0d0887\"], [0.1111111111111111, \"#46039f\"], [0.2222222222222222, \"#7201a8\"], [0.3333333333333333, \"#9c179e\"], [0.4444444444444444, \"#bd3786\"], [0.5555555555555556, \"#d8576b\"], [0.6666666666666666, \"#ed7953\"], [0.7777777777777778, \"#fb9f3a\"], [0.8888888888888888, \"#fdca26\"], [1.0, \"#f0f921\"]], \"type\": \"heatmap\"}], \"heatmapgl\": [{\"colorbar\": {\"outlinewidth\": 0, \"ticks\": \"\"}, \"colorscale\": [[0.0, \"#0d0887\"], [0.1111111111111111, \"#46039f\"], [0.2222222222222222, \"#7201a8\"], [0.3333333333333333, \"#9c179e\"], [0.4444444444444444, \"#bd3786\"], [0.5555555555555556, \"#d8576b\"], [0.6666666666666666, \"#ed7953\"], [0.7777777777777778, \"#fb9f3a\"], [0.8888888888888888, \"#fdca26\"], [1.0, \"#f0f921\"]], \"type\": \"heatmapgl\"}], \"histogram\": [{\"marker\": {\"colorbar\": {\"outlinewidth\": 0, \"ticks\": \"\"}}, \"type\": \"histogram\"}], \"histogram2d\": [{\"colorbar\": {\"outlinewidth\": 0, \"ticks\": \"\"}, \"colorscale\": [[0.0, \"#0d0887\"], [0.1111111111111111, \"#46039f\"], [0.2222222222222222, \"#7201a8\"], [0.3333333333333333, \"#9c179e\"], [0.4444444444444444, \"#bd3786\"], [0.5555555555555556, \"#d8576b\"], [0.6666666666666666, \"#ed7953\"], [0.7777777777777778, \"#fb9f3a\"], [0.8888888888888888, \"#fdca26\"], [1.0, \"#f0f921\"]], \"type\": \"histogram2d\"}], \"histogram2dcontour\": [{\"colorbar\": {\"outlinewidth\": 0, \"ticks\": \"\"}, \"colorscale\": [[0.0, \"#0d0887\"], [0.1111111111111111, \"#46039f\"], [0.2222222222222222, \"#7201a8\"], [0.3333333333333333, \"#9c179e\"], [0.4444444444444444, \"#bd3786\"], [0.5555555555555556, \"#d8576b\"], [0.6666666666666666, \"#ed7953\"], [0.7777777777777778, \"#fb9f3a\"], [0.8888888888888888, \"#fdca26\"], [1.0, \"#f0f921\"]], \"type\": \"histogram2dcontour\"}], \"mesh3d\": [{\"colorbar\": {\"outlinewidth\": 0, \"ticks\": \"\"}, \"type\": \"mesh3d\"}], \"parcoords\": [{\"line\": {\"colorbar\": {\"outlinewidth\": 0, \"ticks\": \"\"}}, \"type\": \"parcoords\"}], \"pie\": [{\"automargin\": true, \"type\": \"pie\"}], \"scatter\": [{\"marker\": {\"colorbar\": {\"outlinewidth\": 0, \"ticks\": \"\"}}, \"type\": \"scatter\"}], \"scatter3d\": [{\"line\": {\"colorbar\": {\"outlinewidth\": 0, \"ticks\": \"\"}}, \"marker\": {\"colorbar\": {\"outlinewidth\": 0, \"ticks\": \"\"}}, \"type\": \"scatter3d\"}], \"scattercarpet\": [{\"marker\": {\"colorbar\": {\"outlinewidth\": 0, \"ticks\": \"\"}}, \"type\": \"scattercarpet\"}], \"scattergeo\": [{\"marker\": {\"colorbar\": {\"outlinewidth\": 0, \"ticks\": \"\"}}, \"type\": \"scattergeo\"}], \"scattergl\": [{\"marker\": {\"colorbar\": {\"outlinewidth\": 0, \"ticks\": \"\"}}, \"type\": \"scattergl\"}], \"scattermapbox\": [{\"marker\": {\"colorbar\": {\"outlinewidth\": 0, \"ticks\": \"\"}}, \"type\": \"scattermapbox\"}], \"scatterpolar\": [{\"marker\": {\"colorbar\": {\"outlinewidth\": 0, \"ticks\": \"\"}}, \"type\": \"scatterpolar\"}], \"scatterpolargl\": [{\"marker\": {\"colorbar\": {\"outlinewidth\": 0, \"ticks\": \"\"}}, \"type\": \"scatterpolargl\"}], \"scatterternary\": [{\"marker\": {\"colorbar\": {\"outlinewidth\": 0, \"ticks\": \"\"}}, \"type\": \"scatterternary\"}], \"surface\": [{\"colorbar\": {\"outlinewidth\": 0, \"ticks\": \"\"}, \"colorscale\": [[0.0, \"#0d0887\"], [0.1111111111111111, \"#46039f\"], [0.2222222222222222, \"#7201a8\"], [0.3333333333333333, \"#9c179e\"], [0.4444444444444444, \"#bd3786\"], [0.5555555555555556, \"#d8576b\"], [0.6666666666666666, \"#ed7953\"], [0.7777777777777778, \"#fb9f3a\"], [0.8888888888888888, \"#fdca26\"], [1.0, \"#f0f921\"]], \"type\": \"surface\"}], \"table\": [{\"cells\": {\"fill\": {\"color\": \"#EBF0F8\"}, \"line\": {\"color\": \"white\"}}, \"header\": {\"fill\": {\"color\": \"#C8D4E3\"}, \"line\": {\"color\": \"white\"}}, \"type\": \"table\"}]}, \"layout\": {\"annotationdefaults\": {\"arrowcolor\": \"#2a3f5f\", \"arrowhead\": 0, \"arrowwidth\": 1}, \"autotypenumbers\": \"strict\", \"coloraxis\": {\"colorbar\": {\"outlinewidth\": 0, \"ticks\": \"\"}}, \"colorscale\": {\"diverging\": [[0, \"#8e0152\"], [0.1, \"#c51b7d\"], [0.2, \"#de77ae\"], [0.3, \"#f1b6da\"], [0.4, \"#fde0ef\"], [0.5, \"#f7f7f7\"], [0.6, \"#e6f5d0\"], [0.7, \"#b8e186\"], [0.8, \"#7fbc41\"], [0.9, \"#4d9221\"], [1, \"#276419\"]], \"sequential\": [[0.0, \"#0d0887\"], [0.1111111111111111, \"#46039f\"], [0.2222222222222222, \"#7201a8\"], [0.3333333333333333, \"#9c179e\"], [0.4444444444444444, \"#bd3786\"], [0.5555555555555556, \"#d8576b\"], [0.6666666666666666, \"#ed7953\"], [0.7777777777777778, \"#fb9f3a\"], [0.8888888888888888, \"#fdca26\"], [1.0, \"#f0f921\"]], \"sequentialminus\": [[0.0, \"#0d0887\"], [0.1111111111111111, \"#46039f\"], [0.2222222222222222, \"#7201a8\"], [0.3333333333333333, \"#9c179e\"], [0.4444444444444444, \"#bd3786\"], [0.5555555555555556, \"#d8576b\"], [0.6666666666666666, \"#ed7953\"], [0.7777777777777778, \"#fb9f3a\"], [0.8888888888888888, \"#fdca26\"], [1.0, \"#f0f921\"]]}, \"colorway\": [\"#636efa\", \"#EF553B\", \"#00cc96\", \"#ab63fa\", \"#FFA15A\", \"#19d3f3\", \"#FF6692\", \"#B6E880\", \"#FF97FF\", \"#FECB52\"], \"font\": {\"color\": \"#2a3f5f\"}, \"geo\": {\"bgcolor\": \"white\", \"lakecolor\": \"white\", \"landcolor\": \"#E5ECF6\", \"showlakes\": true, \"showland\": true, \"subunitcolor\": \"white\"}, \"hoverlabel\": {\"align\": \"left\"}, \"hovermode\": \"closest\", \"mapbox\": {\"style\": \"light\"}, \"paper_bgcolor\": \"white\", \"plot_bgcolor\": \"#E5ECF6\", \"polar\": {\"angularaxis\": {\"gridcolor\": \"white\", \"linecolor\": \"white\", \"ticks\": \"\"}, \"bgcolor\": \"#E5ECF6\", \"radialaxis\": {\"gridcolor\": \"white\", \"linecolor\": \"white\", \"ticks\": \"\"}}, \"scene\": {\"xaxis\": {\"backgroundcolor\": \"#E5ECF6\", \"gridcolor\": \"white\", \"gridwidth\": 2, \"linecolor\": \"white\", \"showbackground\": true, \"ticks\": \"\", \"zerolinecolor\": \"white\"}, \"yaxis\": {\"backgroundcolor\": \"#E5ECF6\", \"gridcolor\": \"white\", \"gridwidth\": 2, \"linecolor\": \"white\", \"showbackground\": true, \"ticks\": \"\", \"zerolinecolor\": \"white\"}, \"zaxis\": {\"backgroundcolor\": \"#E5ECF6\", \"gridcolor\": \"white\", \"gridwidth\": 2, \"linecolor\": \"white\", \"showbackground\": true, \"ticks\": \"\", \"zerolinecolor\": \"white\"}}, \"shapedefaults\": {\"line\": {\"color\": \"#2a3f5f\"}}, \"ternary\": {\"aaxis\": {\"gridcolor\": \"white\", \"linecolor\": \"white\", \"ticks\": \"\"}, \"baxis\": {\"gridcolor\": \"white\", \"linecolor\": \"white\", \"ticks\": \"\"}, \"bgcolor\": \"#E5ECF6\", \"caxis\": {\"gridcolor\": \"white\", \"linecolor\": \"white\", \"ticks\": \"\"}}, \"title\": {\"x\": 0.05}, \"xaxis\": {\"automargin\": true, \"gridcolor\": \"white\", \"linecolor\": \"white\", \"ticks\": \"\", \"title\": {\"standoff\": 15}, \"zerolinecolor\": \"white\", \"zerolinewidth\": 2}, \"yaxis\": {\"automargin\": true, \"gridcolor\": \"white\", \"linecolor\": \"white\", \"ticks\": \"\", \"title\": {\"standoff\": 15}, \"zerolinecolor\": \"white\", \"zerolinewidth\": 2}}}, \"title\": {\"font\": {\"color\": \"#4D5663\"}}, \"xaxis\": {\"gridcolor\": \"#E1E5ED\", \"showgrid\": true, \"tickfont\": {\"color\": \"#4D5663\"}, \"title\": {\"font\": {\"color\": \"#4D5663\"}, \"text\": \"\"}, \"zerolinecolor\": \"#E1E5ED\"}, \"yaxis\": {\"gridcolor\": \"#E1E5ED\", \"showgrid\": true, \"tickfont\": {\"color\": \"#4D5663\"}, \"title\": {\"font\": {\"color\": \"#4D5663\"}, \"text\": \"\"}, \"zerolinecolor\": \"#E1E5ED\"}},                        {\"showLink\": true, \"linkText\": \"Export to plot.ly\", \"plotlyServerURL\": \"https://plot.ly\", \"responsive\": true}                    ).then(function(){\n",
       "                            \n",
       "var gd = document.getElementById('e5a5e368-73fd-4fe3-8c5f-fc01335b3f90');\n",
       "var x = new MutationObserver(function (mutations, observer) {{\n",
       "        var display = window.getComputedStyle(gd).display;\n",
       "        if (!display || display === 'none') {{\n",
       "            console.log([gd, 'removed!']);\n",
       "            Plotly.purge(gd);\n",
       "            observer.disconnect();\n",
       "        }}\n",
       "}});\n",
       "\n",
       "// Listen for the removal of the full notebook cells\n",
       "var notebookContainer = gd.closest('#notebook-container');\n",
       "if (notebookContainer) {{\n",
       "    x.observe(notebookContainer, {childList: true});\n",
       "}}\n",
       "\n",
       "// Listen for the clearing of the current output cell\n",
       "var outputEl = gd.closest('.output');\n",
       "if (outputEl) {{\n",
       "    x.observe(outputEl, {childList: true});\n",
       "}}\n",
       "\n",
       "                        })                };                });            </script>        </div>"
      ]
     },
     "metadata": {},
     "output_type": "display_data"
    }
   ],
   "source": [
    "df.iplot(kind='scatter',x='A',y='B',mode='markers',size=10)"
   ]
  },
  {
   "cell_type": "markdown",
   "metadata": {},
   "source": [
    "## Bar Plots"
   ]
  },
  {
   "cell_type": "code",
   "execution_count": 11,
   "metadata": {},
   "outputs": [
    {
     "data": {
      "application/vnd.plotly.v1+json": {
       "config": {
        "linkText": "Export to plot.ly",
        "plotlyServerURL": "https://plot.ly",
        "showLink": true
       },
       "data": [
        {
         "marker": {
          "color": "rgba(255, 153, 51, 0.6)",
          "line": {
           "color": "rgba(255, 153, 51, 1.0)",
           "width": 1
          }
         },
         "name": "Values",
         "orientation": "v",
         "text": "",
         "type": "bar",
         "x": [
          "A",
          "B",
          "C"
         ],
         "y": [
          32,
          43,
          50
         ]
        }
       ],
       "layout": {
        "legend": {
         "bgcolor": "#F5F6F9",
         "font": {
          "color": "#4D5663"
         }
        },
        "paper_bgcolor": "#F5F6F9",
        "plot_bgcolor": "#F5F6F9",
        "template": {
         "data": {
          "bar": [
           {
            "error_x": {
             "color": "#2a3f5f"
            },
            "error_y": {
             "color": "#2a3f5f"
            },
            "marker": {
             "line": {
              "color": "#E5ECF6",
              "width": 0.5
             }
            },
            "type": "bar"
           }
          ],
          "barpolar": [
           {
            "marker": {
             "line": {
              "color": "#E5ECF6",
              "width": 0.5
             }
            },
            "type": "barpolar"
           }
          ],
          "carpet": [
           {
            "aaxis": {
             "endlinecolor": "#2a3f5f",
             "gridcolor": "white",
             "linecolor": "white",
             "minorgridcolor": "white",
             "startlinecolor": "#2a3f5f"
            },
            "baxis": {
             "endlinecolor": "#2a3f5f",
             "gridcolor": "white",
             "linecolor": "white",
             "minorgridcolor": "white",
             "startlinecolor": "#2a3f5f"
            },
            "type": "carpet"
           }
          ],
          "choropleth": [
           {
            "colorbar": {
             "outlinewidth": 0,
             "ticks": ""
            },
            "type": "choropleth"
           }
          ],
          "contour": [
           {
            "colorbar": {
             "outlinewidth": 0,
             "ticks": ""
            },
            "colorscale": [
             [
              0,
              "#0d0887"
             ],
             [
              0.1111111111111111,
              "#46039f"
             ],
             [
              0.2222222222222222,
              "#7201a8"
             ],
             [
              0.3333333333333333,
              "#9c179e"
             ],
             [
              0.4444444444444444,
              "#bd3786"
             ],
             [
              0.5555555555555556,
              "#d8576b"
             ],
             [
              0.6666666666666666,
              "#ed7953"
             ],
             [
              0.7777777777777778,
              "#fb9f3a"
             ],
             [
              0.8888888888888888,
              "#fdca26"
             ],
             [
              1,
              "#f0f921"
             ]
            ],
            "type": "contour"
           }
          ],
          "contourcarpet": [
           {
            "colorbar": {
             "outlinewidth": 0,
             "ticks": ""
            },
            "type": "contourcarpet"
           }
          ],
          "heatmap": [
           {
            "colorbar": {
             "outlinewidth": 0,
             "ticks": ""
            },
            "colorscale": [
             [
              0,
              "#0d0887"
             ],
             [
              0.1111111111111111,
              "#46039f"
             ],
             [
              0.2222222222222222,
              "#7201a8"
             ],
             [
              0.3333333333333333,
              "#9c179e"
             ],
             [
              0.4444444444444444,
              "#bd3786"
             ],
             [
              0.5555555555555556,
              "#d8576b"
             ],
             [
              0.6666666666666666,
              "#ed7953"
             ],
             [
              0.7777777777777778,
              "#fb9f3a"
             ],
             [
              0.8888888888888888,
              "#fdca26"
             ],
             [
              1,
              "#f0f921"
             ]
            ],
            "type": "heatmap"
           }
          ],
          "heatmapgl": [
           {
            "colorbar": {
             "outlinewidth": 0,
             "ticks": ""
            },
            "colorscale": [
             [
              0,
              "#0d0887"
             ],
             [
              0.1111111111111111,
              "#46039f"
             ],
             [
              0.2222222222222222,
              "#7201a8"
             ],
             [
              0.3333333333333333,
              "#9c179e"
             ],
             [
              0.4444444444444444,
              "#bd3786"
             ],
             [
              0.5555555555555556,
              "#d8576b"
             ],
             [
              0.6666666666666666,
              "#ed7953"
             ],
             [
              0.7777777777777778,
              "#fb9f3a"
             ],
             [
              0.8888888888888888,
              "#fdca26"
             ],
             [
              1,
              "#f0f921"
             ]
            ],
            "type": "heatmapgl"
           }
          ],
          "histogram": [
           {
            "marker": {
             "colorbar": {
              "outlinewidth": 0,
              "ticks": ""
             }
            },
            "type": "histogram"
           }
          ],
          "histogram2d": [
           {
            "colorbar": {
             "outlinewidth": 0,
             "ticks": ""
            },
            "colorscale": [
             [
              0,
              "#0d0887"
             ],
             [
              0.1111111111111111,
              "#46039f"
             ],
             [
              0.2222222222222222,
              "#7201a8"
             ],
             [
              0.3333333333333333,
              "#9c179e"
             ],
             [
              0.4444444444444444,
              "#bd3786"
             ],
             [
              0.5555555555555556,
              "#d8576b"
             ],
             [
              0.6666666666666666,
              "#ed7953"
             ],
             [
              0.7777777777777778,
              "#fb9f3a"
             ],
             [
              0.8888888888888888,
              "#fdca26"
             ],
             [
              1,
              "#f0f921"
             ]
            ],
            "type": "histogram2d"
           }
          ],
          "histogram2dcontour": [
           {
            "colorbar": {
             "outlinewidth": 0,
             "ticks": ""
            },
            "colorscale": [
             [
              0,
              "#0d0887"
             ],
             [
              0.1111111111111111,
              "#46039f"
             ],
             [
              0.2222222222222222,
              "#7201a8"
             ],
             [
              0.3333333333333333,
              "#9c179e"
             ],
             [
              0.4444444444444444,
              "#bd3786"
             ],
             [
              0.5555555555555556,
              "#d8576b"
             ],
             [
              0.6666666666666666,
              "#ed7953"
             ],
             [
              0.7777777777777778,
              "#fb9f3a"
             ],
             [
              0.8888888888888888,
              "#fdca26"
             ],
             [
              1,
              "#f0f921"
             ]
            ],
            "type": "histogram2dcontour"
           }
          ],
          "mesh3d": [
           {
            "colorbar": {
             "outlinewidth": 0,
             "ticks": ""
            },
            "type": "mesh3d"
           }
          ],
          "parcoords": [
           {
            "line": {
             "colorbar": {
              "outlinewidth": 0,
              "ticks": ""
             }
            },
            "type": "parcoords"
           }
          ],
          "pie": [
           {
            "automargin": true,
            "type": "pie"
           }
          ],
          "scatter": [
           {
            "marker": {
             "colorbar": {
              "outlinewidth": 0,
              "ticks": ""
             }
            },
            "type": "scatter"
           }
          ],
          "scatter3d": [
           {
            "line": {
             "colorbar": {
              "outlinewidth": 0,
              "ticks": ""
             }
            },
            "marker": {
             "colorbar": {
              "outlinewidth": 0,
              "ticks": ""
             }
            },
            "type": "scatter3d"
           }
          ],
          "scattercarpet": [
           {
            "marker": {
             "colorbar": {
              "outlinewidth": 0,
              "ticks": ""
             }
            },
            "type": "scattercarpet"
           }
          ],
          "scattergeo": [
           {
            "marker": {
             "colorbar": {
              "outlinewidth": 0,
              "ticks": ""
             }
            },
            "type": "scattergeo"
           }
          ],
          "scattergl": [
           {
            "marker": {
             "colorbar": {
              "outlinewidth": 0,
              "ticks": ""
             }
            },
            "type": "scattergl"
           }
          ],
          "scattermapbox": [
           {
            "marker": {
             "colorbar": {
              "outlinewidth": 0,
              "ticks": ""
             }
            },
            "type": "scattermapbox"
           }
          ],
          "scatterpolar": [
           {
            "marker": {
             "colorbar": {
              "outlinewidth": 0,
              "ticks": ""
             }
            },
            "type": "scatterpolar"
           }
          ],
          "scatterpolargl": [
           {
            "marker": {
             "colorbar": {
              "outlinewidth": 0,
              "ticks": ""
             }
            },
            "type": "scatterpolargl"
           }
          ],
          "scatterternary": [
           {
            "marker": {
             "colorbar": {
              "outlinewidth": 0,
              "ticks": ""
             }
            },
            "type": "scatterternary"
           }
          ],
          "surface": [
           {
            "colorbar": {
             "outlinewidth": 0,
             "ticks": ""
            },
            "colorscale": [
             [
              0,
              "#0d0887"
             ],
             [
              0.1111111111111111,
              "#46039f"
             ],
             [
              0.2222222222222222,
              "#7201a8"
             ],
             [
              0.3333333333333333,
              "#9c179e"
             ],
             [
              0.4444444444444444,
              "#bd3786"
             ],
             [
              0.5555555555555556,
              "#d8576b"
             ],
             [
              0.6666666666666666,
              "#ed7953"
             ],
             [
              0.7777777777777778,
              "#fb9f3a"
             ],
             [
              0.8888888888888888,
              "#fdca26"
             ],
             [
              1,
              "#f0f921"
             ]
            ],
            "type": "surface"
           }
          ],
          "table": [
           {
            "cells": {
             "fill": {
              "color": "#EBF0F8"
             },
             "line": {
              "color": "white"
             }
            },
            "header": {
             "fill": {
              "color": "#C8D4E3"
             },
             "line": {
              "color": "white"
             }
            },
            "type": "table"
           }
          ]
         },
         "layout": {
          "annotationdefaults": {
           "arrowcolor": "#2a3f5f",
           "arrowhead": 0,
           "arrowwidth": 1
          },
          "autotypenumbers": "strict",
          "coloraxis": {
           "colorbar": {
            "outlinewidth": 0,
            "ticks": ""
           }
          },
          "colorscale": {
           "diverging": [
            [
             0,
             "#8e0152"
            ],
            [
             0.1,
             "#c51b7d"
            ],
            [
             0.2,
             "#de77ae"
            ],
            [
             0.3,
             "#f1b6da"
            ],
            [
             0.4,
             "#fde0ef"
            ],
            [
             0.5,
             "#f7f7f7"
            ],
            [
             0.6,
             "#e6f5d0"
            ],
            [
             0.7,
             "#b8e186"
            ],
            [
             0.8,
             "#7fbc41"
            ],
            [
             0.9,
             "#4d9221"
            ],
            [
             1,
             "#276419"
            ]
           ],
           "sequential": [
            [
             0,
             "#0d0887"
            ],
            [
             0.1111111111111111,
             "#46039f"
            ],
            [
             0.2222222222222222,
             "#7201a8"
            ],
            [
             0.3333333333333333,
             "#9c179e"
            ],
            [
             0.4444444444444444,
             "#bd3786"
            ],
            [
             0.5555555555555556,
             "#d8576b"
            ],
            [
             0.6666666666666666,
             "#ed7953"
            ],
            [
             0.7777777777777778,
             "#fb9f3a"
            ],
            [
             0.8888888888888888,
             "#fdca26"
            ],
            [
             1,
             "#f0f921"
            ]
           ],
           "sequentialminus": [
            [
             0,
             "#0d0887"
            ],
            [
             0.1111111111111111,
             "#46039f"
            ],
            [
             0.2222222222222222,
             "#7201a8"
            ],
            [
             0.3333333333333333,
             "#9c179e"
            ],
            [
             0.4444444444444444,
             "#bd3786"
            ],
            [
             0.5555555555555556,
             "#d8576b"
            ],
            [
             0.6666666666666666,
             "#ed7953"
            ],
            [
             0.7777777777777778,
             "#fb9f3a"
            ],
            [
             0.8888888888888888,
             "#fdca26"
            ],
            [
             1,
             "#f0f921"
            ]
           ]
          },
          "colorway": [
           "#636efa",
           "#EF553B",
           "#00cc96",
           "#ab63fa",
           "#FFA15A",
           "#19d3f3",
           "#FF6692",
           "#B6E880",
           "#FF97FF",
           "#FECB52"
          ],
          "font": {
           "color": "#2a3f5f"
          },
          "geo": {
           "bgcolor": "white",
           "lakecolor": "white",
           "landcolor": "#E5ECF6",
           "showlakes": true,
           "showland": true,
           "subunitcolor": "white"
          },
          "hoverlabel": {
           "align": "left"
          },
          "hovermode": "closest",
          "mapbox": {
           "style": "light"
          },
          "paper_bgcolor": "white",
          "plot_bgcolor": "#E5ECF6",
          "polar": {
           "angularaxis": {
            "gridcolor": "white",
            "linecolor": "white",
            "ticks": ""
           },
           "bgcolor": "#E5ECF6",
           "radialaxis": {
            "gridcolor": "white",
            "linecolor": "white",
            "ticks": ""
           }
          },
          "scene": {
           "xaxis": {
            "backgroundcolor": "#E5ECF6",
            "gridcolor": "white",
            "gridwidth": 2,
            "linecolor": "white",
            "showbackground": true,
            "ticks": "",
            "zerolinecolor": "white"
           },
           "yaxis": {
            "backgroundcolor": "#E5ECF6",
            "gridcolor": "white",
            "gridwidth": 2,
            "linecolor": "white",
            "showbackground": true,
            "ticks": "",
            "zerolinecolor": "white"
           },
           "zaxis": {
            "backgroundcolor": "#E5ECF6",
            "gridcolor": "white",
            "gridwidth": 2,
            "linecolor": "white",
            "showbackground": true,
            "ticks": "",
            "zerolinecolor": "white"
           }
          },
          "shapedefaults": {
           "line": {
            "color": "#2a3f5f"
           }
          },
          "ternary": {
           "aaxis": {
            "gridcolor": "white",
            "linecolor": "white",
            "ticks": ""
           },
           "baxis": {
            "gridcolor": "white",
            "linecolor": "white",
            "ticks": ""
           },
           "bgcolor": "#E5ECF6",
           "caxis": {
            "gridcolor": "white",
            "linecolor": "white",
            "ticks": ""
           }
          },
          "title": {
           "x": 0.05
          },
          "xaxis": {
           "automargin": true,
           "gridcolor": "white",
           "linecolor": "white",
           "ticks": "",
           "title": {
            "standoff": 15
           },
           "zerolinecolor": "white",
           "zerolinewidth": 2
          },
          "yaxis": {
           "automargin": true,
           "gridcolor": "white",
           "linecolor": "white",
           "ticks": "",
           "title": {
            "standoff": 15
           },
           "zerolinecolor": "white",
           "zerolinewidth": 2
          }
         }
        },
        "title": {
         "font": {
          "color": "#4D5663"
         }
        },
        "xaxis": {
         "gridcolor": "#E1E5ED",
         "showgrid": true,
         "tickfont": {
          "color": "#4D5663"
         },
         "title": {
          "font": {
           "color": "#4D5663"
          },
          "text": ""
         },
         "zerolinecolor": "#E1E5ED"
        },
        "yaxis": {
         "gridcolor": "#E1E5ED",
         "showgrid": true,
         "tickfont": {
          "color": "#4D5663"
         },
         "title": {
          "font": {
           "color": "#4D5663"
          },
          "text": ""
         },
         "zerolinecolor": "#E1E5ED"
        }
       }
      },
      "text/html": [
       "<div>                            <div id=\"33ae976a-e317-4de5-bc6a-014c6c185fa8\" class=\"plotly-graph-div\" style=\"height:525px; width:100%;\"></div>            <script type=\"text/javascript\">                require([\"plotly\"], function(Plotly) {                    window.PLOTLYENV=window.PLOTLYENV || {};\n",
       "                    window.PLOTLYENV.BASE_URL='https://plot.ly';                                    if (document.getElementById(\"33ae976a-e317-4de5-bc6a-014c6c185fa8\")) {                    Plotly.newPlot(                        \"33ae976a-e317-4de5-bc6a-014c6c185fa8\",                        [{\"marker\": {\"color\": \"rgba(255, 153, 51, 0.6)\", \"line\": {\"color\": \"rgba(255, 153, 51, 1.0)\", \"width\": 1}}, \"name\": \"Values\", \"orientation\": \"v\", \"text\": \"\", \"type\": \"bar\", \"x\": [\"A\", \"B\", \"C\"], \"y\": [32, 43, 50]}],                        {\"legend\": {\"bgcolor\": \"#F5F6F9\", \"font\": {\"color\": \"#4D5663\"}}, \"paper_bgcolor\": \"#F5F6F9\", \"plot_bgcolor\": \"#F5F6F9\", \"template\": {\"data\": {\"bar\": [{\"error_x\": {\"color\": \"#2a3f5f\"}, \"error_y\": {\"color\": \"#2a3f5f\"}, \"marker\": {\"line\": {\"color\": \"#E5ECF6\", \"width\": 0.5}}, \"type\": \"bar\"}], \"barpolar\": [{\"marker\": {\"line\": {\"color\": \"#E5ECF6\", \"width\": 0.5}}, \"type\": \"barpolar\"}], \"carpet\": [{\"aaxis\": {\"endlinecolor\": \"#2a3f5f\", \"gridcolor\": \"white\", \"linecolor\": \"white\", \"minorgridcolor\": \"white\", \"startlinecolor\": \"#2a3f5f\"}, \"baxis\": {\"endlinecolor\": \"#2a3f5f\", \"gridcolor\": \"white\", \"linecolor\": \"white\", \"minorgridcolor\": \"white\", \"startlinecolor\": \"#2a3f5f\"}, \"type\": \"carpet\"}], \"choropleth\": [{\"colorbar\": {\"outlinewidth\": 0, \"ticks\": \"\"}, \"type\": \"choropleth\"}], \"contour\": [{\"colorbar\": {\"outlinewidth\": 0, \"ticks\": \"\"}, \"colorscale\": [[0.0, \"#0d0887\"], [0.1111111111111111, \"#46039f\"], [0.2222222222222222, \"#7201a8\"], [0.3333333333333333, \"#9c179e\"], [0.4444444444444444, \"#bd3786\"], [0.5555555555555556, \"#d8576b\"], [0.6666666666666666, \"#ed7953\"], [0.7777777777777778, \"#fb9f3a\"], [0.8888888888888888, \"#fdca26\"], [1.0, \"#f0f921\"]], \"type\": \"contour\"}], \"contourcarpet\": [{\"colorbar\": {\"outlinewidth\": 0, \"ticks\": \"\"}, \"type\": \"contourcarpet\"}], \"heatmap\": [{\"colorbar\": {\"outlinewidth\": 0, \"ticks\": \"\"}, \"colorscale\": [[0.0, \"#0d0887\"], [0.1111111111111111, \"#46039f\"], [0.2222222222222222, \"#7201a8\"], [0.3333333333333333, \"#9c179e\"], [0.4444444444444444, \"#bd3786\"], [0.5555555555555556, \"#d8576b\"], [0.6666666666666666, \"#ed7953\"], [0.7777777777777778, \"#fb9f3a\"], [0.8888888888888888, \"#fdca26\"], [1.0, \"#f0f921\"]], \"type\": \"heatmap\"}], \"heatmapgl\": [{\"colorbar\": {\"outlinewidth\": 0, \"ticks\": \"\"}, \"colorscale\": [[0.0, \"#0d0887\"], [0.1111111111111111, \"#46039f\"], [0.2222222222222222, \"#7201a8\"], [0.3333333333333333, \"#9c179e\"], [0.4444444444444444, \"#bd3786\"], [0.5555555555555556, \"#d8576b\"], [0.6666666666666666, \"#ed7953\"], [0.7777777777777778, \"#fb9f3a\"], [0.8888888888888888, \"#fdca26\"], [1.0, \"#f0f921\"]], \"type\": \"heatmapgl\"}], \"histogram\": [{\"marker\": {\"colorbar\": {\"outlinewidth\": 0, \"ticks\": \"\"}}, \"type\": \"histogram\"}], \"histogram2d\": [{\"colorbar\": {\"outlinewidth\": 0, \"ticks\": \"\"}, \"colorscale\": [[0.0, \"#0d0887\"], [0.1111111111111111, \"#46039f\"], [0.2222222222222222, \"#7201a8\"], [0.3333333333333333, \"#9c179e\"], [0.4444444444444444, \"#bd3786\"], [0.5555555555555556, \"#d8576b\"], [0.6666666666666666, \"#ed7953\"], [0.7777777777777778, \"#fb9f3a\"], [0.8888888888888888, \"#fdca26\"], [1.0, \"#f0f921\"]], \"type\": \"histogram2d\"}], \"histogram2dcontour\": [{\"colorbar\": {\"outlinewidth\": 0, \"ticks\": \"\"}, \"colorscale\": [[0.0, \"#0d0887\"], [0.1111111111111111, \"#46039f\"], [0.2222222222222222, \"#7201a8\"], [0.3333333333333333, \"#9c179e\"], [0.4444444444444444, \"#bd3786\"], [0.5555555555555556, \"#d8576b\"], [0.6666666666666666, \"#ed7953\"], [0.7777777777777778, \"#fb9f3a\"], [0.8888888888888888, \"#fdca26\"], [1.0, \"#f0f921\"]], \"type\": \"histogram2dcontour\"}], \"mesh3d\": [{\"colorbar\": {\"outlinewidth\": 0, \"ticks\": \"\"}, \"type\": \"mesh3d\"}], \"parcoords\": [{\"line\": {\"colorbar\": {\"outlinewidth\": 0, \"ticks\": \"\"}}, \"type\": \"parcoords\"}], \"pie\": [{\"automargin\": true, \"type\": \"pie\"}], \"scatter\": [{\"marker\": {\"colorbar\": {\"outlinewidth\": 0, \"ticks\": \"\"}}, \"type\": \"scatter\"}], \"scatter3d\": [{\"line\": {\"colorbar\": {\"outlinewidth\": 0, \"ticks\": \"\"}}, \"marker\": {\"colorbar\": {\"outlinewidth\": 0, \"ticks\": \"\"}}, \"type\": \"scatter3d\"}], \"scattercarpet\": [{\"marker\": {\"colorbar\": {\"outlinewidth\": 0, \"ticks\": \"\"}}, \"type\": \"scattercarpet\"}], \"scattergeo\": [{\"marker\": {\"colorbar\": {\"outlinewidth\": 0, \"ticks\": \"\"}}, \"type\": \"scattergeo\"}], \"scattergl\": [{\"marker\": {\"colorbar\": {\"outlinewidth\": 0, \"ticks\": \"\"}}, \"type\": \"scattergl\"}], \"scattermapbox\": [{\"marker\": {\"colorbar\": {\"outlinewidth\": 0, \"ticks\": \"\"}}, \"type\": \"scattermapbox\"}], \"scatterpolar\": [{\"marker\": {\"colorbar\": {\"outlinewidth\": 0, \"ticks\": \"\"}}, \"type\": \"scatterpolar\"}], \"scatterpolargl\": [{\"marker\": {\"colorbar\": {\"outlinewidth\": 0, \"ticks\": \"\"}}, \"type\": \"scatterpolargl\"}], \"scatterternary\": [{\"marker\": {\"colorbar\": {\"outlinewidth\": 0, \"ticks\": \"\"}}, \"type\": \"scatterternary\"}], \"surface\": [{\"colorbar\": {\"outlinewidth\": 0, \"ticks\": \"\"}, \"colorscale\": [[0.0, \"#0d0887\"], [0.1111111111111111, \"#46039f\"], [0.2222222222222222, \"#7201a8\"], [0.3333333333333333, \"#9c179e\"], [0.4444444444444444, \"#bd3786\"], [0.5555555555555556, \"#d8576b\"], [0.6666666666666666, \"#ed7953\"], [0.7777777777777778, \"#fb9f3a\"], [0.8888888888888888, \"#fdca26\"], [1.0, \"#f0f921\"]], \"type\": \"surface\"}], \"table\": [{\"cells\": {\"fill\": {\"color\": \"#EBF0F8\"}, \"line\": {\"color\": \"white\"}}, \"header\": {\"fill\": {\"color\": \"#C8D4E3\"}, \"line\": {\"color\": \"white\"}}, \"type\": \"table\"}]}, \"layout\": {\"annotationdefaults\": {\"arrowcolor\": \"#2a3f5f\", \"arrowhead\": 0, \"arrowwidth\": 1}, \"autotypenumbers\": \"strict\", \"coloraxis\": {\"colorbar\": {\"outlinewidth\": 0, \"ticks\": \"\"}}, \"colorscale\": {\"diverging\": [[0, \"#8e0152\"], [0.1, \"#c51b7d\"], [0.2, \"#de77ae\"], [0.3, \"#f1b6da\"], [0.4, \"#fde0ef\"], [0.5, \"#f7f7f7\"], [0.6, \"#e6f5d0\"], [0.7, \"#b8e186\"], [0.8, \"#7fbc41\"], [0.9, \"#4d9221\"], [1, \"#276419\"]], \"sequential\": [[0.0, \"#0d0887\"], [0.1111111111111111, \"#46039f\"], [0.2222222222222222, \"#7201a8\"], [0.3333333333333333, \"#9c179e\"], [0.4444444444444444, \"#bd3786\"], [0.5555555555555556, \"#d8576b\"], [0.6666666666666666, \"#ed7953\"], [0.7777777777777778, \"#fb9f3a\"], [0.8888888888888888, \"#fdca26\"], [1.0, \"#f0f921\"]], \"sequentialminus\": [[0.0, \"#0d0887\"], [0.1111111111111111, \"#46039f\"], [0.2222222222222222, \"#7201a8\"], [0.3333333333333333, \"#9c179e\"], [0.4444444444444444, \"#bd3786\"], [0.5555555555555556, \"#d8576b\"], [0.6666666666666666, \"#ed7953\"], [0.7777777777777778, \"#fb9f3a\"], [0.8888888888888888, \"#fdca26\"], [1.0, \"#f0f921\"]]}, \"colorway\": [\"#636efa\", \"#EF553B\", \"#00cc96\", \"#ab63fa\", \"#FFA15A\", \"#19d3f3\", \"#FF6692\", \"#B6E880\", \"#FF97FF\", \"#FECB52\"], \"font\": {\"color\": \"#2a3f5f\"}, \"geo\": {\"bgcolor\": \"white\", \"lakecolor\": \"white\", \"landcolor\": \"#E5ECF6\", \"showlakes\": true, \"showland\": true, \"subunitcolor\": \"white\"}, \"hoverlabel\": {\"align\": \"left\"}, \"hovermode\": \"closest\", \"mapbox\": {\"style\": \"light\"}, \"paper_bgcolor\": \"white\", \"plot_bgcolor\": \"#E5ECF6\", \"polar\": {\"angularaxis\": {\"gridcolor\": \"white\", \"linecolor\": \"white\", \"ticks\": \"\"}, \"bgcolor\": \"#E5ECF6\", \"radialaxis\": {\"gridcolor\": \"white\", \"linecolor\": \"white\", \"ticks\": \"\"}}, \"scene\": {\"xaxis\": {\"backgroundcolor\": \"#E5ECF6\", \"gridcolor\": \"white\", \"gridwidth\": 2, \"linecolor\": \"white\", \"showbackground\": true, \"ticks\": \"\", \"zerolinecolor\": \"white\"}, \"yaxis\": {\"backgroundcolor\": \"#E5ECF6\", \"gridcolor\": \"white\", \"gridwidth\": 2, \"linecolor\": \"white\", \"showbackground\": true, \"ticks\": \"\", \"zerolinecolor\": \"white\"}, \"zaxis\": {\"backgroundcolor\": \"#E5ECF6\", \"gridcolor\": \"white\", \"gridwidth\": 2, \"linecolor\": \"white\", \"showbackground\": true, \"ticks\": \"\", \"zerolinecolor\": \"white\"}}, \"shapedefaults\": {\"line\": {\"color\": \"#2a3f5f\"}}, \"ternary\": {\"aaxis\": {\"gridcolor\": \"white\", \"linecolor\": \"white\", \"ticks\": \"\"}, \"baxis\": {\"gridcolor\": \"white\", \"linecolor\": \"white\", \"ticks\": \"\"}, \"bgcolor\": \"#E5ECF6\", \"caxis\": {\"gridcolor\": \"white\", \"linecolor\": \"white\", \"ticks\": \"\"}}, \"title\": {\"x\": 0.05}, \"xaxis\": {\"automargin\": true, \"gridcolor\": \"white\", \"linecolor\": \"white\", \"ticks\": \"\", \"title\": {\"standoff\": 15}, \"zerolinecolor\": \"white\", \"zerolinewidth\": 2}, \"yaxis\": {\"automargin\": true, \"gridcolor\": \"white\", \"linecolor\": \"white\", \"ticks\": \"\", \"title\": {\"standoff\": 15}, \"zerolinecolor\": \"white\", \"zerolinewidth\": 2}}}, \"title\": {\"font\": {\"color\": \"#4D5663\"}}, \"xaxis\": {\"gridcolor\": \"#E1E5ED\", \"showgrid\": true, \"tickfont\": {\"color\": \"#4D5663\"}, \"title\": {\"font\": {\"color\": \"#4D5663\"}, \"text\": \"\"}, \"zerolinecolor\": \"#E1E5ED\"}, \"yaxis\": {\"gridcolor\": \"#E1E5ED\", \"showgrid\": true, \"tickfont\": {\"color\": \"#4D5663\"}, \"title\": {\"font\": {\"color\": \"#4D5663\"}, \"text\": \"\"}, \"zerolinecolor\": \"#E1E5ED\"}},                        {\"showLink\": true, \"linkText\": \"Export to plot.ly\", \"plotlyServerURL\": \"https://plot.ly\", \"responsive\": true}                    ).then(function(){\n",
       "                            \n",
       "var gd = document.getElementById('33ae976a-e317-4de5-bc6a-014c6c185fa8');\n",
       "var x = new MutationObserver(function (mutations, observer) {{\n",
       "        var display = window.getComputedStyle(gd).display;\n",
       "        if (!display || display === 'none') {{\n",
       "            console.log([gd, 'removed!']);\n",
       "            Plotly.purge(gd);\n",
       "            observer.disconnect();\n",
       "        }}\n",
       "}});\n",
       "\n",
       "// Listen for the removal of the full notebook cells\n",
       "var notebookContainer = gd.closest('#notebook-container');\n",
       "if (notebookContainer) {{\n",
       "    x.observe(notebookContainer, {childList: true});\n",
       "}}\n",
       "\n",
       "// Listen for the clearing of the current output cell\n",
       "var outputEl = gd.closest('.output');\n",
       "if (outputEl) {{\n",
       "    x.observe(outputEl, {childList: true});\n",
       "}}\n",
       "\n",
       "                        })                };                });            </script>        </div>"
      ]
     },
     "metadata": {},
     "output_type": "display_data"
    }
   ],
   "source": [
    "df2.iplot(kind='bar',x='Category',y='Values')"
   ]
  },
  {
   "cell_type": "code",
   "execution_count": 12,
   "metadata": {},
   "outputs": [
    {
     "data": {
      "application/vnd.plotly.v1+json": {
       "config": {
        "linkText": "Export to plot.ly",
        "plotlyServerURL": "https://plot.ly",
        "showLink": true
       },
       "data": [
        {
         "marker": {
          "color": "rgba(255, 153, 51, 0.6)",
          "line": {
           "color": "rgba(255, 153, 51, 1.0)",
           "width": 1
          }
         },
         "name": "None",
         "orientation": "v",
         "text": "",
         "type": "bar",
         "x": [
          "A",
          "B",
          "C",
          "D"
         ],
         "y": [
          100,
          100,
          100,
          100
         ]
        }
       ],
       "layout": {
        "legend": {
         "bgcolor": "#F5F6F9",
         "font": {
          "color": "#4D5663"
         }
        },
        "paper_bgcolor": "#F5F6F9",
        "plot_bgcolor": "#F5F6F9",
        "template": {
         "data": {
          "bar": [
           {
            "error_x": {
             "color": "#2a3f5f"
            },
            "error_y": {
             "color": "#2a3f5f"
            },
            "marker": {
             "line": {
              "color": "#E5ECF6",
              "width": 0.5
             }
            },
            "type": "bar"
           }
          ],
          "barpolar": [
           {
            "marker": {
             "line": {
              "color": "#E5ECF6",
              "width": 0.5
             }
            },
            "type": "barpolar"
           }
          ],
          "carpet": [
           {
            "aaxis": {
             "endlinecolor": "#2a3f5f",
             "gridcolor": "white",
             "linecolor": "white",
             "minorgridcolor": "white",
             "startlinecolor": "#2a3f5f"
            },
            "baxis": {
             "endlinecolor": "#2a3f5f",
             "gridcolor": "white",
             "linecolor": "white",
             "minorgridcolor": "white",
             "startlinecolor": "#2a3f5f"
            },
            "type": "carpet"
           }
          ],
          "choropleth": [
           {
            "colorbar": {
             "outlinewidth": 0,
             "ticks": ""
            },
            "type": "choropleth"
           }
          ],
          "contour": [
           {
            "colorbar": {
             "outlinewidth": 0,
             "ticks": ""
            },
            "colorscale": [
             [
              0,
              "#0d0887"
             ],
             [
              0.1111111111111111,
              "#46039f"
             ],
             [
              0.2222222222222222,
              "#7201a8"
             ],
             [
              0.3333333333333333,
              "#9c179e"
             ],
             [
              0.4444444444444444,
              "#bd3786"
             ],
             [
              0.5555555555555556,
              "#d8576b"
             ],
             [
              0.6666666666666666,
              "#ed7953"
             ],
             [
              0.7777777777777778,
              "#fb9f3a"
             ],
             [
              0.8888888888888888,
              "#fdca26"
             ],
             [
              1,
              "#f0f921"
             ]
            ],
            "type": "contour"
           }
          ],
          "contourcarpet": [
           {
            "colorbar": {
             "outlinewidth": 0,
             "ticks": ""
            },
            "type": "contourcarpet"
           }
          ],
          "heatmap": [
           {
            "colorbar": {
             "outlinewidth": 0,
             "ticks": ""
            },
            "colorscale": [
             [
              0,
              "#0d0887"
             ],
             [
              0.1111111111111111,
              "#46039f"
             ],
             [
              0.2222222222222222,
              "#7201a8"
             ],
             [
              0.3333333333333333,
              "#9c179e"
             ],
             [
              0.4444444444444444,
              "#bd3786"
             ],
             [
              0.5555555555555556,
              "#d8576b"
             ],
             [
              0.6666666666666666,
              "#ed7953"
             ],
             [
              0.7777777777777778,
              "#fb9f3a"
             ],
             [
              0.8888888888888888,
              "#fdca26"
             ],
             [
              1,
              "#f0f921"
             ]
            ],
            "type": "heatmap"
           }
          ],
          "heatmapgl": [
           {
            "colorbar": {
             "outlinewidth": 0,
             "ticks": ""
            },
            "colorscale": [
             [
              0,
              "#0d0887"
             ],
             [
              0.1111111111111111,
              "#46039f"
             ],
             [
              0.2222222222222222,
              "#7201a8"
             ],
             [
              0.3333333333333333,
              "#9c179e"
             ],
             [
              0.4444444444444444,
              "#bd3786"
             ],
             [
              0.5555555555555556,
              "#d8576b"
             ],
             [
              0.6666666666666666,
              "#ed7953"
             ],
             [
              0.7777777777777778,
              "#fb9f3a"
             ],
             [
              0.8888888888888888,
              "#fdca26"
             ],
             [
              1,
              "#f0f921"
             ]
            ],
            "type": "heatmapgl"
           }
          ],
          "histogram": [
           {
            "marker": {
             "colorbar": {
              "outlinewidth": 0,
              "ticks": ""
             }
            },
            "type": "histogram"
           }
          ],
          "histogram2d": [
           {
            "colorbar": {
             "outlinewidth": 0,
             "ticks": ""
            },
            "colorscale": [
             [
              0,
              "#0d0887"
             ],
             [
              0.1111111111111111,
              "#46039f"
             ],
             [
              0.2222222222222222,
              "#7201a8"
             ],
             [
              0.3333333333333333,
              "#9c179e"
             ],
             [
              0.4444444444444444,
              "#bd3786"
             ],
             [
              0.5555555555555556,
              "#d8576b"
             ],
             [
              0.6666666666666666,
              "#ed7953"
             ],
             [
              0.7777777777777778,
              "#fb9f3a"
             ],
             [
              0.8888888888888888,
              "#fdca26"
             ],
             [
              1,
              "#f0f921"
             ]
            ],
            "type": "histogram2d"
           }
          ],
          "histogram2dcontour": [
           {
            "colorbar": {
             "outlinewidth": 0,
             "ticks": ""
            },
            "colorscale": [
             [
              0,
              "#0d0887"
             ],
             [
              0.1111111111111111,
              "#46039f"
             ],
             [
              0.2222222222222222,
              "#7201a8"
             ],
             [
              0.3333333333333333,
              "#9c179e"
             ],
             [
              0.4444444444444444,
              "#bd3786"
             ],
             [
              0.5555555555555556,
              "#d8576b"
             ],
             [
              0.6666666666666666,
              "#ed7953"
             ],
             [
              0.7777777777777778,
              "#fb9f3a"
             ],
             [
              0.8888888888888888,
              "#fdca26"
             ],
             [
              1,
              "#f0f921"
             ]
            ],
            "type": "histogram2dcontour"
           }
          ],
          "mesh3d": [
           {
            "colorbar": {
             "outlinewidth": 0,
             "ticks": ""
            },
            "type": "mesh3d"
           }
          ],
          "parcoords": [
           {
            "line": {
             "colorbar": {
              "outlinewidth": 0,
              "ticks": ""
             }
            },
            "type": "parcoords"
           }
          ],
          "pie": [
           {
            "automargin": true,
            "type": "pie"
           }
          ],
          "scatter": [
           {
            "marker": {
             "colorbar": {
              "outlinewidth": 0,
              "ticks": ""
             }
            },
            "type": "scatter"
           }
          ],
          "scatter3d": [
           {
            "line": {
             "colorbar": {
              "outlinewidth": 0,
              "ticks": ""
             }
            },
            "marker": {
             "colorbar": {
              "outlinewidth": 0,
              "ticks": ""
             }
            },
            "type": "scatter3d"
           }
          ],
          "scattercarpet": [
           {
            "marker": {
             "colorbar": {
              "outlinewidth": 0,
              "ticks": ""
             }
            },
            "type": "scattercarpet"
           }
          ],
          "scattergeo": [
           {
            "marker": {
             "colorbar": {
              "outlinewidth": 0,
              "ticks": ""
             }
            },
            "type": "scattergeo"
           }
          ],
          "scattergl": [
           {
            "marker": {
             "colorbar": {
              "outlinewidth": 0,
              "ticks": ""
             }
            },
            "type": "scattergl"
           }
          ],
          "scattermapbox": [
           {
            "marker": {
             "colorbar": {
              "outlinewidth": 0,
              "ticks": ""
             }
            },
            "type": "scattermapbox"
           }
          ],
          "scatterpolar": [
           {
            "marker": {
             "colorbar": {
              "outlinewidth": 0,
              "ticks": ""
             }
            },
            "type": "scatterpolar"
           }
          ],
          "scatterpolargl": [
           {
            "marker": {
             "colorbar": {
              "outlinewidth": 0,
              "ticks": ""
             }
            },
            "type": "scatterpolargl"
           }
          ],
          "scatterternary": [
           {
            "marker": {
             "colorbar": {
              "outlinewidth": 0,
              "ticks": ""
             }
            },
            "type": "scatterternary"
           }
          ],
          "surface": [
           {
            "colorbar": {
             "outlinewidth": 0,
             "ticks": ""
            },
            "colorscale": [
             [
              0,
              "#0d0887"
             ],
             [
              0.1111111111111111,
              "#46039f"
             ],
             [
              0.2222222222222222,
              "#7201a8"
             ],
             [
              0.3333333333333333,
              "#9c179e"
             ],
             [
              0.4444444444444444,
              "#bd3786"
             ],
             [
              0.5555555555555556,
              "#d8576b"
             ],
             [
              0.6666666666666666,
              "#ed7953"
             ],
             [
              0.7777777777777778,
              "#fb9f3a"
             ],
             [
              0.8888888888888888,
              "#fdca26"
             ],
             [
              1,
              "#f0f921"
             ]
            ],
            "type": "surface"
           }
          ],
          "table": [
           {
            "cells": {
             "fill": {
              "color": "#EBF0F8"
             },
             "line": {
              "color": "white"
             }
            },
            "header": {
             "fill": {
              "color": "#C8D4E3"
             },
             "line": {
              "color": "white"
             }
            },
            "type": "table"
           }
          ]
         },
         "layout": {
          "annotationdefaults": {
           "arrowcolor": "#2a3f5f",
           "arrowhead": 0,
           "arrowwidth": 1
          },
          "autotypenumbers": "strict",
          "coloraxis": {
           "colorbar": {
            "outlinewidth": 0,
            "ticks": ""
           }
          },
          "colorscale": {
           "diverging": [
            [
             0,
             "#8e0152"
            ],
            [
             0.1,
             "#c51b7d"
            ],
            [
             0.2,
             "#de77ae"
            ],
            [
             0.3,
             "#f1b6da"
            ],
            [
             0.4,
             "#fde0ef"
            ],
            [
             0.5,
             "#f7f7f7"
            ],
            [
             0.6,
             "#e6f5d0"
            ],
            [
             0.7,
             "#b8e186"
            ],
            [
             0.8,
             "#7fbc41"
            ],
            [
             0.9,
             "#4d9221"
            ],
            [
             1,
             "#276419"
            ]
           ],
           "sequential": [
            [
             0,
             "#0d0887"
            ],
            [
             0.1111111111111111,
             "#46039f"
            ],
            [
             0.2222222222222222,
             "#7201a8"
            ],
            [
             0.3333333333333333,
             "#9c179e"
            ],
            [
             0.4444444444444444,
             "#bd3786"
            ],
            [
             0.5555555555555556,
             "#d8576b"
            ],
            [
             0.6666666666666666,
             "#ed7953"
            ],
            [
             0.7777777777777778,
             "#fb9f3a"
            ],
            [
             0.8888888888888888,
             "#fdca26"
            ],
            [
             1,
             "#f0f921"
            ]
           ],
           "sequentialminus": [
            [
             0,
             "#0d0887"
            ],
            [
             0.1111111111111111,
             "#46039f"
            ],
            [
             0.2222222222222222,
             "#7201a8"
            ],
            [
             0.3333333333333333,
             "#9c179e"
            ],
            [
             0.4444444444444444,
             "#bd3786"
            ],
            [
             0.5555555555555556,
             "#d8576b"
            ],
            [
             0.6666666666666666,
             "#ed7953"
            ],
            [
             0.7777777777777778,
             "#fb9f3a"
            ],
            [
             0.8888888888888888,
             "#fdca26"
            ],
            [
             1,
             "#f0f921"
            ]
           ]
          },
          "colorway": [
           "#636efa",
           "#EF553B",
           "#00cc96",
           "#ab63fa",
           "#FFA15A",
           "#19d3f3",
           "#FF6692",
           "#B6E880",
           "#FF97FF",
           "#FECB52"
          ],
          "font": {
           "color": "#2a3f5f"
          },
          "geo": {
           "bgcolor": "white",
           "lakecolor": "white",
           "landcolor": "#E5ECF6",
           "showlakes": true,
           "showland": true,
           "subunitcolor": "white"
          },
          "hoverlabel": {
           "align": "left"
          },
          "hovermode": "closest",
          "mapbox": {
           "style": "light"
          },
          "paper_bgcolor": "white",
          "plot_bgcolor": "#E5ECF6",
          "polar": {
           "angularaxis": {
            "gridcolor": "white",
            "linecolor": "white",
            "ticks": ""
           },
           "bgcolor": "#E5ECF6",
           "radialaxis": {
            "gridcolor": "white",
            "linecolor": "white",
            "ticks": ""
           }
          },
          "scene": {
           "xaxis": {
            "backgroundcolor": "#E5ECF6",
            "gridcolor": "white",
            "gridwidth": 2,
            "linecolor": "white",
            "showbackground": true,
            "ticks": "",
            "zerolinecolor": "white"
           },
           "yaxis": {
            "backgroundcolor": "#E5ECF6",
            "gridcolor": "white",
            "gridwidth": 2,
            "linecolor": "white",
            "showbackground": true,
            "ticks": "",
            "zerolinecolor": "white"
           },
           "zaxis": {
            "backgroundcolor": "#E5ECF6",
            "gridcolor": "white",
            "gridwidth": 2,
            "linecolor": "white",
            "showbackground": true,
            "ticks": "",
            "zerolinecolor": "white"
           }
          },
          "shapedefaults": {
           "line": {
            "color": "#2a3f5f"
           }
          },
          "ternary": {
           "aaxis": {
            "gridcolor": "white",
            "linecolor": "white",
            "ticks": ""
           },
           "baxis": {
            "gridcolor": "white",
            "linecolor": "white",
            "ticks": ""
           },
           "bgcolor": "#E5ECF6",
           "caxis": {
            "gridcolor": "white",
            "linecolor": "white",
            "ticks": ""
           }
          },
          "title": {
           "x": 0.05
          },
          "xaxis": {
           "automargin": true,
           "gridcolor": "white",
           "linecolor": "white",
           "ticks": "",
           "title": {
            "standoff": 15
           },
           "zerolinecolor": "white",
           "zerolinewidth": 2
          },
          "yaxis": {
           "automargin": true,
           "gridcolor": "white",
           "linecolor": "white",
           "ticks": "",
           "title": {
            "standoff": 15
           },
           "zerolinecolor": "white",
           "zerolinewidth": 2
          }
         }
        },
        "title": {
         "font": {
          "color": "#4D5663"
         }
        },
        "xaxis": {
         "gridcolor": "#E1E5ED",
         "showgrid": true,
         "tickfont": {
          "color": "#4D5663"
         },
         "title": {
          "font": {
           "color": "#4D5663"
          },
          "text": ""
         },
         "zerolinecolor": "#E1E5ED"
        },
        "yaxis": {
         "gridcolor": "#E1E5ED",
         "showgrid": true,
         "tickfont": {
          "color": "#4D5663"
         },
         "title": {
          "font": {
           "color": "#4D5663"
          },
          "text": ""
         },
         "zerolinecolor": "#E1E5ED"
        }
       }
      },
      "text/html": [
       "<div>                            <div id=\"45cd16f5-3377-4b57-ac54-f7b930f53639\" class=\"plotly-graph-div\" style=\"height:525px; width:100%;\"></div>            <script type=\"text/javascript\">                require([\"plotly\"], function(Plotly) {                    window.PLOTLYENV=window.PLOTLYENV || {};\n",
       "                    window.PLOTLYENV.BASE_URL='https://plot.ly';                                    if (document.getElementById(\"45cd16f5-3377-4b57-ac54-f7b930f53639\")) {                    Plotly.newPlot(                        \"45cd16f5-3377-4b57-ac54-f7b930f53639\",                        [{\"marker\": {\"color\": \"rgba(255, 153, 51, 0.6)\", \"line\": {\"color\": \"rgba(255, 153, 51, 1.0)\", \"width\": 1}}, \"name\": \"None\", \"orientation\": \"v\", \"text\": \"\", \"type\": \"bar\", \"x\": [\"A\", \"B\", \"C\", \"D\"], \"y\": [100, 100, 100, 100]}],                        {\"legend\": {\"bgcolor\": \"#F5F6F9\", \"font\": {\"color\": \"#4D5663\"}}, \"paper_bgcolor\": \"#F5F6F9\", \"plot_bgcolor\": \"#F5F6F9\", \"template\": {\"data\": {\"bar\": [{\"error_x\": {\"color\": \"#2a3f5f\"}, \"error_y\": {\"color\": \"#2a3f5f\"}, \"marker\": {\"line\": {\"color\": \"#E5ECF6\", \"width\": 0.5}}, \"type\": \"bar\"}], \"barpolar\": [{\"marker\": {\"line\": {\"color\": \"#E5ECF6\", \"width\": 0.5}}, \"type\": \"barpolar\"}], \"carpet\": [{\"aaxis\": {\"endlinecolor\": \"#2a3f5f\", \"gridcolor\": \"white\", \"linecolor\": \"white\", \"minorgridcolor\": \"white\", \"startlinecolor\": \"#2a3f5f\"}, \"baxis\": {\"endlinecolor\": \"#2a3f5f\", \"gridcolor\": \"white\", \"linecolor\": \"white\", \"minorgridcolor\": \"white\", \"startlinecolor\": \"#2a3f5f\"}, \"type\": \"carpet\"}], \"choropleth\": [{\"colorbar\": {\"outlinewidth\": 0, \"ticks\": \"\"}, \"type\": \"choropleth\"}], \"contour\": [{\"colorbar\": {\"outlinewidth\": 0, \"ticks\": \"\"}, \"colorscale\": [[0.0, \"#0d0887\"], [0.1111111111111111, \"#46039f\"], [0.2222222222222222, \"#7201a8\"], [0.3333333333333333, \"#9c179e\"], [0.4444444444444444, \"#bd3786\"], [0.5555555555555556, \"#d8576b\"], [0.6666666666666666, \"#ed7953\"], [0.7777777777777778, \"#fb9f3a\"], [0.8888888888888888, \"#fdca26\"], [1.0, \"#f0f921\"]], \"type\": \"contour\"}], \"contourcarpet\": [{\"colorbar\": {\"outlinewidth\": 0, \"ticks\": \"\"}, \"type\": \"contourcarpet\"}], \"heatmap\": [{\"colorbar\": {\"outlinewidth\": 0, \"ticks\": \"\"}, \"colorscale\": [[0.0, \"#0d0887\"], [0.1111111111111111, \"#46039f\"], [0.2222222222222222, \"#7201a8\"], [0.3333333333333333, \"#9c179e\"], [0.4444444444444444, \"#bd3786\"], [0.5555555555555556, \"#d8576b\"], [0.6666666666666666, \"#ed7953\"], [0.7777777777777778, \"#fb9f3a\"], [0.8888888888888888, \"#fdca26\"], [1.0, \"#f0f921\"]], \"type\": \"heatmap\"}], \"heatmapgl\": [{\"colorbar\": {\"outlinewidth\": 0, \"ticks\": \"\"}, \"colorscale\": [[0.0, \"#0d0887\"], [0.1111111111111111, \"#46039f\"], [0.2222222222222222, \"#7201a8\"], [0.3333333333333333, \"#9c179e\"], [0.4444444444444444, \"#bd3786\"], [0.5555555555555556, \"#d8576b\"], [0.6666666666666666, \"#ed7953\"], [0.7777777777777778, \"#fb9f3a\"], [0.8888888888888888, \"#fdca26\"], [1.0, \"#f0f921\"]], \"type\": \"heatmapgl\"}], \"histogram\": [{\"marker\": {\"colorbar\": {\"outlinewidth\": 0, \"ticks\": \"\"}}, \"type\": \"histogram\"}], \"histogram2d\": [{\"colorbar\": {\"outlinewidth\": 0, \"ticks\": \"\"}, \"colorscale\": [[0.0, \"#0d0887\"], [0.1111111111111111, \"#46039f\"], [0.2222222222222222, \"#7201a8\"], [0.3333333333333333, \"#9c179e\"], [0.4444444444444444, \"#bd3786\"], [0.5555555555555556, \"#d8576b\"], [0.6666666666666666, \"#ed7953\"], [0.7777777777777778, \"#fb9f3a\"], [0.8888888888888888, \"#fdca26\"], [1.0, \"#f0f921\"]], \"type\": \"histogram2d\"}], \"histogram2dcontour\": [{\"colorbar\": {\"outlinewidth\": 0, \"ticks\": \"\"}, \"colorscale\": [[0.0, \"#0d0887\"], [0.1111111111111111, \"#46039f\"], [0.2222222222222222, \"#7201a8\"], [0.3333333333333333, \"#9c179e\"], [0.4444444444444444, \"#bd3786\"], [0.5555555555555556, \"#d8576b\"], [0.6666666666666666, \"#ed7953\"], [0.7777777777777778, \"#fb9f3a\"], [0.8888888888888888, \"#fdca26\"], [1.0, \"#f0f921\"]], \"type\": \"histogram2dcontour\"}], \"mesh3d\": [{\"colorbar\": {\"outlinewidth\": 0, \"ticks\": \"\"}, \"type\": \"mesh3d\"}], \"parcoords\": [{\"line\": {\"colorbar\": {\"outlinewidth\": 0, \"ticks\": \"\"}}, \"type\": \"parcoords\"}], \"pie\": [{\"automargin\": true, \"type\": \"pie\"}], \"scatter\": [{\"marker\": {\"colorbar\": {\"outlinewidth\": 0, \"ticks\": \"\"}}, \"type\": \"scatter\"}], \"scatter3d\": [{\"line\": {\"colorbar\": {\"outlinewidth\": 0, \"ticks\": \"\"}}, \"marker\": {\"colorbar\": {\"outlinewidth\": 0, \"ticks\": \"\"}}, \"type\": \"scatter3d\"}], \"scattercarpet\": [{\"marker\": {\"colorbar\": {\"outlinewidth\": 0, \"ticks\": \"\"}}, \"type\": \"scattercarpet\"}], \"scattergeo\": [{\"marker\": {\"colorbar\": {\"outlinewidth\": 0, \"ticks\": \"\"}}, \"type\": \"scattergeo\"}], \"scattergl\": [{\"marker\": {\"colorbar\": {\"outlinewidth\": 0, \"ticks\": \"\"}}, \"type\": \"scattergl\"}], \"scattermapbox\": [{\"marker\": {\"colorbar\": {\"outlinewidth\": 0, \"ticks\": \"\"}}, \"type\": \"scattermapbox\"}], \"scatterpolar\": [{\"marker\": {\"colorbar\": {\"outlinewidth\": 0, \"ticks\": \"\"}}, \"type\": \"scatterpolar\"}], \"scatterpolargl\": [{\"marker\": {\"colorbar\": {\"outlinewidth\": 0, \"ticks\": \"\"}}, \"type\": \"scatterpolargl\"}], \"scatterternary\": [{\"marker\": {\"colorbar\": {\"outlinewidth\": 0, \"ticks\": \"\"}}, \"type\": \"scatterternary\"}], \"surface\": [{\"colorbar\": {\"outlinewidth\": 0, \"ticks\": \"\"}, \"colorscale\": [[0.0, \"#0d0887\"], [0.1111111111111111, \"#46039f\"], [0.2222222222222222, \"#7201a8\"], [0.3333333333333333, \"#9c179e\"], [0.4444444444444444, \"#bd3786\"], [0.5555555555555556, \"#d8576b\"], [0.6666666666666666, \"#ed7953\"], [0.7777777777777778, \"#fb9f3a\"], [0.8888888888888888, \"#fdca26\"], [1.0, \"#f0f921\"]], \"type\": \"surface\"}], \"table\": [{\"cells\": {\"fill\": {\"color\": \"#EBF0F8\"}, \"line\": {\"color\": \"white\"}}, \"header\": {\"fill\": {\"color\": \"#C8D4E3\"}, \"line\": {\"color\": \"white\"}}, \"type\": \"table\"}]}, \"layout\": {\"annotationdefaults\": {\"arrowcolor\": \"#2a3f5f\", \"arrowhead\": 0, \"arrowwidth\": 1}, \"autotypenumbers\": \"strict\", \"coloraxis\": {\"colorbar\": {\"outlinewidth\": 0, \"ticks\": \"\"}}, \"colorscale\": {\"diverging\": [[0, \"#8e0152\"], [0.1, \"#c51b7d\"], [0.2, \"#de77ae\"], [0.3, \"#f1b6da\"], [0.4, \"#fde0ef\"], [0.5, \"#f7f7f7\"], [0.6, \"#e6f5d0\"], [0.7, \"#b8e186\"], [0.8, \"#7fbc41\"], [0.9, \"#4d9221\"], [1, \"#276419\"]], \"sequential\": [[0.0, \"#0d0887\"], [0.1111111111111111, \"#46039f\"], [0.2222222222222222, \"#7201a8\"], [0.3333333333333333, \"#9c179e\"], [0.4444444444444444, \"#bd3786\"], [0.5555555555555556, \"#d8576b\"], [0.6666666666666666, \"#ed7953\"], [0.7777777777777778, \"#fb9f3a\"], [0.8888888888888888, \"#fdca26\"], [1.0, \"#f0f921\"]], \"sequentialminus\": [[0.0, \"#0d0887\"], [0.1111111111111111, \"#46039f\"], [0.2222222222222222, \"#7201a8\"], [0.3333333333333333, \"#9c179e\"], [0.4444444444444444, \"#bd3786\"], [0.5555555555555556, \"#d8576b\"], [0.6666666666666666, \"#ed7953\"], [0.7777777777777778, \"#fb9f3a\"], [0.8888888888888888, \"#fdca26\"], [1.0, \"#f0f921\"]]}, \"colorway\": [\"#636efa\", \"#EF553B\", \"#00cc96\", \"#ab63fa\", \"#FFA15A\", \"#19d3f3\", \"#FF6692\", \"#B6E880\", \"#FF97FF\", \"#FECB52\"], \"font\": {\"color\": \"#2a3f5f\"}, \"geo\": {\"bgcolor\": \"white\", \"lakecolor\": \"white\", \"landcolor\": \"#E5ECF6\", \"showlakes\": true, \"showland\": true, \"subunitcolor\": \"white\"}, \"hoverlabel\": {\"align\": \"left\"}, \"hovermode\": \"closest\", \"mapbox\": {\"style\": \"light\"}, \"paper_bgcolor\": \"white\", \"plot_bgcolor\": \"#E5ECF6\", \"polar\": {\"angularaxis\": {\"gridcolor\": \"white\", \"linecolor\": \"white\", \"ticks\": \"\"}, \"bgcolor\": \"#E5ECF6\", \"radialaxis\": {\"gridcolor\": \"white\", \"linecolor\": \"white\", \"ticks\": \"\"}}, \"scene\": {\"xaxis\": {\"backgroundcolor\": \"#E5ECF6\", \"gridcolor\": \"white\", \"gridwidth\": 2, \"linecolor\": \"white\", \"showbackground\": true, \"ticks\": \"\", \"zerolinecolor\": \"white\"}, \"yaxis\": {\"backgroundcolor\": \"#E5ECF6\", \"gridcolor\": \"white\", \"gridwidth\": 2, \"linecolor\": \"white\", \"showbackground\": true, \"ticks\": \"\", \"zerolinecolor\": \"white\"}, \"zaxis\": {\"backgroundcolor\": \"#E5ECF6\", \"gridcolor\": \"white\", \"gridwidth\": 2, \"linecolor\": \"white\", \"showbackground\": true, \"ticks\": \"\", \"zerolinecolor\": \"white\"}}, \"shapedefaults\": {\"line\": {\"color\": \"#2a3f5f\"}}, \"ternary\": {\"aaxis\": {\"gridcolor\": \"white\", \"linecolor\": \"white\", \"ticks\": \"\"}, \"baxis\": {\"gridcolor\": \"white\", \"linecolor\": \"white\", \"ticks\": \"\"}, \"bgcolor\": \"#E5ECF6\", \"caxis\": {\"gridcolor\": \"white\", \"linecolor\": \"white\", \"ticks\": \"\"}}, \"title\": {\"x\": 0.05}, \"xaxis\": {\"automargin\": true, \"gridcolor\": \"white\", \"linecolor\": \"white\", \"ticks\": \"\", \"title\": {\"standoff\": 15}, \"zerolinecolor\": \"white\", \"zerolinewidth\": 2}, \"yaxis\": {\"automargin\": true, \"gridcolor\": \"white\", \"linecolor\": \"white\", \"ticks\": \"\", \"title\": {\"standoff\": 15}, \"zerolinecolor\": \"white\", \"zerolinewidth\": 2}}}, \"title\": {\"font\": {\"color\": \"#4D5663\"}}, \"xaxis\": {\"gridcolor\": \"#E1E5ED\", \"showgrid\": true, \"tickfont\": {\"color\": \"#4D5663\"}, \"title\": {\"font\": {\"color\": \"#4D5663\"}, \"text\": \"\"}, \"zerolinecolor\": \"#E1E5ED\"}, \"yaxis\": {\"gridcolor\": \"#E1E5ED\", \"showgrid\": true, \"tickfont\": {\"color\": \"#4D5663\"}, \"title\": {\"font\": {\"color\": \"#4D5663\"}, \"text\": \"\"}, \"zerolinecolor\": \"#E1E5ED\"}},                        {\"showLink\": true, \"linkText\": \"Export to plot.ly\", \"plotlyServerURL\": \"https://plot.ly\", \"responsive\": true}                    ).then(function(){\n",
       "                            \n",
       "var gd = document.getElementById('45cd16f5-3377-4b57-ac54-f7b930f53639');\n",
       "var x = new MutationObserver(function (mutations, observer) {{\n",
       "        var display = window.getComputedStyle(gd).display;\n",
       "        if (!display || display === 'none') {{\n",
       "            console.log([gd, 'removed!']);\n",
       "            Plotly.purge(gd);\n",
       "            observer.disconnect();\n",
       "        }}\n",
       "}});\n",
       "\n",
       "// Listen for the removal of the full notebook cells\n",
       "var notebookContainer = gd.closest('#notebook-container');\n",
       "if (notebookContainer) {{\n",
       "    x.observe(notebookContainer, {childList: true});\n",
       "}}\n",
       "\n",
       "// Listen for the clearing of the current output cell\n",
       "var outputEl = gd.closest('.output');\n",
       "if (outputEl) {{\n",
       "    x.observe(outputEl, {childList: true});\n",
       "}}\n",
       "\n",
       "                        })                };                });            </script>        </div>"
      ]
     },
     "metadata": {},
     "output_type": "display_data"
    }
   ],
   "source": [
    "df.count().iplot(kind='bar')"
   ]
  },
  {
   "cell_type": "markdown",
   "metadata": {},
   "source": [
    "## Boxplots"
   ]
  },
  {
   "cell_type": "code",
   "execution_count": 13,
   "metadata": {},
   "outputs": [
    {
     "data": {
      "application/vnd.plotly.v1+json": {
       "config": {
        "linkText": "Export to plot.ly",
        "plotlyServerURL": "https://plot.ly",
        "showLink": true
       },
       "data": [
        {
         "boxpoints": false,
         "line": {
          "width": 1.3
         },
         "marker": {
          "color": "rgba(255, 153, 51, 1.0)"
         },
         "name": "A",
         "orientation": "v",
         "type": "box",
         "y": [
          0.062403000348056896,
          0.682158388145421,
          0.3268464575434144,
          0.28422394171376936,
          -0.8930677967906131,
          0.041223291518847946,
          1.4782858523800568,
          -0.01722465247120283,
          0.20354506830826805,
          -0.4545305600633967,
          -0.38981019744658657,
          -1.3603820914539406,
          -0.1930434719473086,
          -0.4242067670561226,
          0.5805237728658952,
          0.0182563537413149,
          0.5893475068103087,
          0.03891119531541383,
          -1.1659803041570214,
          -1.4954814632608548,
          0.6410459252420906,
          -1.8173897668947723,
          1.1476736695558079,
          -0.008637510156530056,
          0.7333610287703045,
          -0.00341856027323607,
          -0.1705957221128231,
          -0.2755653598251552,
          -0.7028999920512963,
          -0.7686762441966566,
          -1.4320039221064242,
          -0.3777920709864464,
          -0.7893304727600577,
          -1.462585693582685,
          0.25606012549675394,
          -0.7328012321850637,
          0.9282689238426763,
          1.1757725189552224,
          0.5497232961895439,
          1.3504414595074608,
          0.36879921331976007,
          0.6474329912861589,
          0.3425748143184703,
          -0.5524096866845196,
          0.22771702810119573,
          -0.01856107928186663,
          -0.505035272141574,
          1.83767051387475,
          0.7758446792672782,
          0.49530351834577024,
          -0.8959516679869598,
          0.19244410049328461,
          -0.028152661422717846,
          0.2446391640032037,
          -0.8544538723417219,
          -1.1987174971252845,
          -1.0351821498442066,
          1.630876494005205,
          -1.1732747762090505,
          -0.6522848289203391,
          -1.166608830105591,
          -0.6660716373175085,
          0.49650677118547343,
          0.280945589781803,
          2.590006720593593,
          0.4641214459824001,
          0.4167417130776699,
          0.814643013951977,
          -2.135518795380281,
          0.6136241313529066,
          -0.9426705484649059,
          1.050069499491585,
          1.478207789341703,
          -0.6391499024396073,
          1.1037544258288825,
          1.598744213446337,
          -0.9214180706170372,
          -1.2027125149729223,
          -0.8141297322283779,
          0.4167869704791297,
          -0.5529385483286148,
          0.3472229204713509,
          0.718239409702939,
          -0.28359798177231077,
          -0.39401886897279204,
          -0.8053865090960546,
          0.31592140452817635,
          1.2882667023943803,
          0.6850003377061532,
          -1.653096366834222,
          0.10423440668142835,
          -1.1225488317606467,
          -0.7634534972151744,
          0.845927206975368,
          2.4774967936593364,
          -1.1920806362525922,
          -0.932594950136978,
          2.440937192420902,
          -1.0872222548948827,
          0.8000874593014355
         ]
        },
        {
         "boxpoints": false,
         "line": {
          "width": 1.3
         },
         "marker": {
          "color": "rgba(55, 128, 191, 1.0)"
         },
         "name": "B",
         "orientation": "v",
         "type": "box",
         "y": [
          -1.2990683753780665,
          1.624681381422417,
          1.1050144336626813,
          -0.18855637354967572,
          0.48478649153248393,
          -0.1518918367515998,
          -0.7101304630074858,
          -0.8314894580215793,
          0.14864838275340203,
          -0.9883549688724185,
          0.2619736329233981,
          0.433341791706317,
          0.4144785136898204,
          0.5033067567904287,
          1.4965554538363868,
          1.956617306686328,
          -0.578245281812172,
          -1.4174671610760066,
          0.2509113970016073,
          -0.6854460438222966,
          0.23852252212573566,
          -0.4374775713005923,
          0.7413855687297202,
          0.10556881914297436,
          0.1585873008040566,
          2.233260861019369,
          -0.09929731120607435,
          0.7241044725523446,
          0.535088540547648,
          0.5580949721210654,
          -0.11338290316044461,
          -0.7731897813122994,
          -0.45846386467525907,
          -0.2617599441544949,
          -0.6477024075551885,
          -1.4554017026133887,
          0.24741918994602477,
          -0.22522232259468344,
          0.5469031092445472,
          -0.2815805553595161,
          -0.14730474978832764,
          2.152082602828211,
          -0.5849732814667612,
          -1.1672480227212263,
          -1.936000387514932,
          -0.6068892020585201,
          -0.004093622653018009,
          1.768152919880954,
          -0.47379149100178425,
          0.4096662408886199,
          -0.8298725088760005,
          0.23714593080153104,
          1.7182916716167476,
          -0.5536416369860518,
          -0.5008585162696602,
          0.12531474389952071,
          -0.3102922723523502,
          0.3212082519347096,
          0.1273991345162948,
          1.4676643819725206,
          -0.00954134812271558,
          -2.515191437159899,
          0.2858322905211471,
          1.6148968929893681,
          -0.41540727418007933,
          0.7432364152956532,
          0.08943293717910389,
          0.45863524503738756,
          -1.5130666419626568,
          0.25537119307039896,
          0.646208704821914,
          0.14045644314235028,
          -1.654436346805644,
          -1.2485137655752985,
          -1.220472804150455,
          0.5874098939074718,
          -0.8832102261481436,
          -0.7988314318980299,
          -0.573780450292032,
          -1.0383213758032692,
          -0.6318717788688629,
          0.00039752972621937476,
          1.1981581595577502,
          -2.5099274433561014,
          -0.2712993286356339,
          0.18780065535996154,
          -0.5580110046021268,
          -1.373552616923043,
          -0.08136658740476707,
          -0.500895465414146,
          -0.28648841769671246,
          0.760700335336526,
          1.2828632663819213,
          0.6375084363947762,
          0.09553303045392961,
          0.9602945758003074,
          1.264248937029117,
          -0.12940953282095385,
          -1.8627436208339199,
          -0.35263576599728114
         ]
        },
        {
         "boxpoints": false,
         "line": {
          "width": 1.3
         },
         "marker": {
          "color": "rgba(50, 171, 96, 1.0)"
         },
         "name": "C",
         "orientation": "v",
         "type": "box",
         "y": [
          1.3277480686631737,
          1.050547909409751,
          1.3294870859233556,
          -0.13870404447613557,
          1.2218281015381525,
          -1.047591080889363,
          -1.4822808878063358,
          -1.4335267599367494,
          0.07274677269292128,
          -1.385208972739911,
          0.7024703200820424,
          -0.8880380280033623,
          -0.8547896508547369,
          0.31185313506640283,
          0.2563271601287642,
          -0.5261950965768823,
          0.5519014489002535,
          0.4082691591381113,
          -1.2862316779891965,
          0.44859116465226406,
          0.13625194558813486,
          0.280679521344601,
          -0.02835299066476146,
          -0.3830272009784602,
          -0.34353149414286166,
          0.28184497975529327,
          -1.2205571340697343,
          -0.02909238752000967,
          1.1921642115369608,
          0.474260432591272,
          0.9373627235375664,
          1.4776392003195147,
          -0.029564933039379248,
          0.99911966144133,
          0.3240195697926262,
          0.03401387458525973,
          1.410444141420003,
          0.5525302781296415,
          -0.3183084017843572,
          0.7186946417574489,
          -1.1077957092476767,
          1.7001527283039954,
          1.8133694221681342,
          -0.4225946616805115,
          -0.788023560769322,
          1.4058002890335541,
          0.961507413941608,
          0.017780631402030126,
          -1.6268560230227949,
          -0.21389807757329404,
          -0.25804553141361064,
          1.5027656010382409,
          -0.2301925491561469,
          -0.13133770671759212,
          0.6951888892908054,
          -1.0317610337860261,
          1.0727625169742452,
          -0.43083511527863716,
          -2.433419554005068,
          1.5545467140051108,
          0.8031599912754359,
          0.45310615813824545,
          0.9055518604541104,
          0.7846664209606582,
          0.6197006472787928,
          -0.47860177595972264,
          0.1279222369971248,
          0.5465449898282538,
          -1.6933600358972833,
          0.48491522534972553,
          0.2694070585448925,
          -0.11388920518825722,
          0.11272494742647107,
          -1.3920380931256184,
          -1.962700548100472,
          -1.7378697254858495,
          -0.7818474649403422,
          -2.1915026596198284,
          -0.010632375622421088,
          -2.0414814863870068,
          -0.4659494819877405,
          0.3451970702407081,
          0.6268328052907892,
          -0.71567101483495,
          -0.26445647028416147,
          0.16178304128280735,
          -0.5510181008810864,
          -0.5021706791030416,
          -1.5329231160369086,
          1.3879360191670922,
          -0.20967690238226744,
          -1.3670839329746214,
          1.076632444152013,
          0.2953756540651349,
          0.19709824729739248,
          0.18429971334894393,
          -0.9373963033909891,
          0.2646799340244548,
          1.2810675908976386,
          2.589926490087622
         ]
        },
        {
         "boxpoints": false,
         "line": {
          "width": 1.3
         },
         "marker": {
          "color": "rgba(128, 0, 128, 1.0)"
         },
         "name": "D",
         "orientation": "v",
         "type": "box",
         "y": [
          0.9510949294848526,
          0.4695638138892198,
          -0.12821164479171554,
          -1.5257079148558776,
          -0.16233709183306624,
          -0.9638417942564012,
          -0.4915267140279102,
          -2.4184117895314765,
          0.3607053686268968,
          -0.5285612826105017,
          -0.4285178504036213,
          0.07966457306215396,
          2.3652059729730497,
          -0.9870421025768513,
          0.36702706338599883,
          1.1347510327949974,
          0.5894990482523681,
          2.440768159619953,
          0.9838466325555156,
          0.797510734845901,
          -0.624485961244373,
          1.0991759521001998,
          0.9298248741871734,
          0.7133611160971455,
          0.3990976342014481,
          -0.08382319239217625,
          0.18677316791991988,
          -0.24586105029012073,
          -0.9917793106937559,
          0.04845575460362079,
          0.15371514705055928,
          -0.4718618834830073,
          -0.6211000961774438,
          1.1697655277102825,
          -0.2761052450610573,
          0.390290321076468,
          -0.27580277573952555,
          -0.011793728102506337,
          1.4203938063505552,
          -0.3540328421352846,
          -0.05385716129189193,
          1.5687612989007362,
          1.4947811801907642,
          -0.0907906324830042,
          0.2008464745533209,
          0.6540547952065257,
          -0.6453521773434029,
          0.9440170316749986,
          1.5897438489064992,
          -0.8486254691354769,
          0.9046070542679885,
          1.0495623648697618,
          -1.224035202547343,
          -1.0427057175256877,
          0.5945839682902634,
          0.5337946540431762,
          0.2632612245115452,
          0.39868488873597385,
          -0.3654589589077428,
          -1.1342179546915354,
          0.11851262533573535,
          -0.8340798137577661,
          0.5926784388236838,
          -0.6207922204277392,
          0.9651518359562631,
          0.09403334833156134,
          -0.3250940889776582,
          -2.256036962124954,
          0.4846688572318411,
          0.06839142679808732,
          -2.133092503970914,
          1.4539681659416737,
          -0.5664865152294981,
          -0.7341855979315933,
          -0.3566560181728952,
          0.09952804551515838,
          1.081557923070655,
          0.2263069870116225,
          -0.33929955781856347,
          1.5439649056212006,
          -1.4320414456639798,
          -1.3204482658502175,
          2.1615947495792853,
          0.33079081187341614,
          -1.0156246875190234,
          -0.362395604857689,
          0.7536331826381956,
          -1.7368657732073303,
          0.010594486537426498,
          -0.2556207731554825,
          -0.398307797997451,
          1.7935563632068905,
          0.33221143072086234,
          -0.019581137547514754,
          1.8924713508771496,
          -1.4489598139678137,
          0.023367516123193738,
          -0.4067124512310082,
          -1.0153575018769438,
          -0.8289638770916804
         ]
        }
       ],
       "layout": {
        "legend": {
         "bgcolor": "#F5F6F9",
         "font": {
          "color": "#4D5663"
         }
        },
        "paper_bgcolor": "#F5F6F9",
        "plot_bgcolor": "#F5F6F9",
        "template": {
         "data": {
          "bar": [
           {
            "error_x": {
             "color": "#2a3f5f"
            },
            "error_y": {
             "color": "#2a3f5f"
            },
            "marker": {
             "line": {
              "color": "#E5ECF6",
              "width": 0.5
             }
            },
            "type": "bar"
           }
          ],
          "barpolar": [
           {
            "marker": {
             "line": {
              "color": "#E5ECF6",
              "width": 0.5
             }
            },
            "type": "barpolar"
           }
          ],
          "carpet": [
           {
            "aaxis": {
             "endlinecolor": "#2a3f5f",
             "gridcolor": "white",
             "linecolor": "white",
             "minorgridcolor": "white",
             "startlinecolor": "#2a3f5f"
            },
            "baxis": {
             "endlinecolor": "#2a3f5f",
             "gridcolor": "white",
             "linecolor": "white",
             "minorgridcolor": "white",
             "startlinecolor": "#2a3f5f"
            },
            "type": "carpet"
           }
          ],
          "choropleth": [
           {
            "colorbar": {
             "outlinewidth": 0,
             "ticks": ""
            },
            "type": "choropleth"
           }
          ],
          "contour": [
           {
            "colorbar": {
             "outlinewidth": 0,
             "ticks": ""
            },
            "colorscale": [
             [
              0,
              "#0d0887"
             ],
             [
              0.1111111111111111,
              "#46039f"
             ],
             [
              0.2222222222222222,
              "#7201a8"
             ],
             [
              0.3333333333333333,
              "#9c179e"
             ],
             [
              0.4444444444444444,
              "#bd3786"
             ],
             [
              0.5555555555555556,
              "#d8576b"
             ],
             [
              0.6666666666666666,
              "#ed7953"
             ],
             [
              0.7777777777777778,
              "#fb9f3a"
             ],
             [
              0.8888888888888888,
              "#fdca26"
             ],
             [
              1,
              "#f0f921"
             ]
            ],
            "type": "contour"
           }
          ],
          "contourcarpet": [
           {
            "colorbar": {
             "outlinewidth": 0,
             "ticks": ""
            },
            "type": "contourcarpet"
           }
          ],
          "heatmap": [
           {
            "colorbar": {
             "outlinewidth": 0,
             "ticks": ""
            },
            "colorscale": [
             [
              0,
              "#0d0887"
             ],
             [
              0.1111111111111111,
              "#46039f"
             ],
             [
              0.2222222222222222,
              "#7201a8"
             ],
             [
              0.3333333333333333,
              "#9c179e"
             ],
             [
              0.4444444444444444,
              "#bd3786"
             ],
             [
              0.5555555555555556,
              "#d8576b"
             ],
             [
              0.6666666666666666,
              "#ed7953"
             ],
             [
              0.7777777777777778,
              "#fb9f3a"
             ],
             [
              0.8888888888888888,
              "#fdca26"
             ],
             [
              1,
              "#f0f921"
             ]
            ],
            "type": "heatmap"
           }
          ],
          "heatmapgl": [
           {
            "colorbar": {
             "outlinewidth": 0,
             "ticks": ""
            },
            "colorscale": [
             [
              0,
              "#0d0887"
             ],
             [
              0.1111111111111111,
              "#46039f"
             ],
             [
              0.2222222222222222,
              "#7201a8"
             ],
             [
              0.3333333333333333,
              "#9c179e"
             ],
             [
              0.4444444444444444,
              "#bd3786"
             ],
             [
              0.5555555555555556,
              "#d8576b"
             ],
             [
              0.6666666666666666,
              "#ed7953"
             ],
             [
              0.7777777777777778,
              "#fb9f3a"
             ],
             [
              0.8888888888888888,
              "#fdca26"
             ],
             [
              1,
              "#f0f921"
             ]
            ],
            "type": "heatmapgl"
           }
          ],
          "histogram": [
           {
            "marker": {
             "colorbar": {
              "outlinewidth": 0,
              "ticks": ""
             }
            },
            "type": "histogram"
           }
          ],
          "histogram2d": [
           {
            "colorbar": {
             "outlinewidth": 0,
             "ticks": ""
            },
            "colorscale": [
             [
              0,
              "#0d0887"
             ],
             [
              0.1111111111111111,
              "#46039f"
             ],
             [
              0.2222222222222222,
              "#7201a8"
             ],
             [
              0.3333333333333333,
              "#9c179e"
             ],
             [
              0.4444444444444444,
              "#bd3786"
             ],
             [
              0.5555555555555556,
              "#d8576b"
             ],
             [
              0.6666666666666666,
              "#ed7953"
             ],
             [
              0.7777777777777778,
              "#fb9f3a"
             ],
             [
              0.8888888888888888,
              "#fdca26"
             ],
             [
              1,
              "#f0f921"
             ]
            ],
            "type": "histogram2d"
           }
          ],
          "histogram2dcontour": [
           {
            "colorbar": {
             "outlinewidth": 0,
             "ticks": ""
            },
            "colorscale": [
             [
              0,
              "#0d0887"
             ],
             [
              0.1111111111111111,
              "#46039f"
             ],
             [
              0.2222222222222222,
              "#7201a8"
             ],
             [
              0.3333333333333333,
              "#9c179e"
             ],
             [
              0.4444444444444444,
              "#bd3786"
             ],
             [
              0.5555555555555556,
              "#d8576b"
             ],
             [
              0.6666666666666666,
              "#ed7953"
             ],
             [
              0.7777777777777778,
              "#fb9f3a"
             ],
             [
              0.8888888888888888,
              "#fdca26"
             ],
             [
              1,
              "#f0f921"
             ]
            ],
            "type": "histogram2dcontour"
           }
          ],
          "mesh3d": [
           {
            "colorbar": {
             "outlinewidth": 0,
             "ticks": ""
            },
            "type": "mesh3d"
           }
          ],
          "parcoords": [
           {
            "line": {
             "colorbar": {
              "outlinewidth": 0,
              "ticks": ""
             }
            },
            "type": "parcoords"
           }
          ],
          "pie": [
           {
            "automargin": true,
            "type": "pie"
           }
          ],
          "scatter": [
           {
            "marker": {
             "colorbar": {
              "outlinewidth": 0,
              "ticks": ""
             }
            },
            "type": "scatter"
           }
          ],
          "scatter3d": [
           {
            "line": {
             "colorbar": {
              "outlinewidth": 0,
              "ticks": ""
             }
            },
            "marker": {
             "colorbar": {
              "outlinewidth": 0,
              "ticks": ""
             }
            },
            "type": "scatter3d"
           }
          ],
          "scattercarpet": [
           {
            "marker": {
             "colorbar": {
              "outlinewidth": 0,
              "ticks": ""
             }
            },
            "type": "scattercarpet"
           }
          ],
          "scattergeo": [
           {
            "marker": {
             "colorbar": {
              "outlinewidth": 0,
              "ticks": ""
             }
            },
            "type": "scattergeo"
           }
          ],
          "scattergl": [
           {
            "marker": {
             "colorbar": {
              "outlinewidth": 0,
              "ticks": ""
             }
            },
            "type": "scattergl"
           }
          ],
          "scattermapbox": [
           {
            "marker": {
             "colorbar": {
              "outlinewidth": 0,
              "ticks": ""
             }
            },
            "type": "scattermapbox"
           }
          ],
          "scatterpolar": [
           {
            "marker": {
             "colorbar": {
              "outlinewidth": 0,
              "ticks": ""
             }
            },
            "type": "scatterpolar"
           }
          ],
          "scatterpolargl": [
           {
            "marker": {
             "colorbar": {
              "outlinewidth": 0,
              "ticks": ""
             }
            },
            "type": "scatterpolargl"
           }
          ],
          "scatterternary": [
           {
            "marker": {
             "colorbar": {
              "outlinewidth": 0,
              "ticks": ""
             }
            },
            "type": "scatterternary"
           }
          ],
          "surface": [
           {
            "colorbar": {
             "outlinewidth": 0,
             "ticks": ""
            },
            "colorscale": [
             [
              0,
              "#0d0887"
             ],
             [
              0.1111111111111111,
              "#46039f"
             ],
             [
              0.2222222222222222,
              "#7201a8"
             ],
             [
              0.3333333333333333,
              "#9c179e"
             ],
             [
              0.4444444444444444,
              "#bd3786"
             ],
             [
              0.5555555555555556,
              "#d8576b"
             ],
             [
              0.6666666666666666,
              "#ed7953"
             ],
             [
              0.7777777777777778,
              "#fb9f3a"
             ],
             [
              0.8888888888888888,
              "#fdca26"
             ],
             [
              1,
              "#f0f921"
             ]
            ],
            "type": "surface"
           }
          ],
          "table": [
           {
            "cells": {
             "fill": {
              "color": "#EBF0F8"
             },
             "line": {
              "color": "white"
             }
            },
            "header": {
             "fill": {
              "color": "#C8D4E3"
             },
             "line": {
              "color": "white"
             }
            },
            "type": "table"
           }
          ]
         },
         "layout": {
          "annotationdefaults": {
           "arrowcolor": "#2a3f5f",
           "arrowhead": 0,
           "arrowwidth": 1
          },
          "autotypenumbers": "strict",
          "coloraxis": {
           "colorbar": {
            "outlinewidth": 0,
            "ticks": ""
           }
          },
          "colorscale": {
           "diverging": [
            [
             0,
             "#8e0152"
            ],
            [
             0.1,
             "#c51b7d"
            ],
            [
             0.2,
             "#de77ae"
            ],
            [
             0.3,
             "#f1b6da"
            ],
            [
             0.4,
             "#fde0ef"
            ],
            [
             0.5,
             "#f7f7f7"
            ],
            [
             0.6,
             "#e6f5d0"
            ],
            [
             0.7,
             "#b8e186"
            ],
            [
             0.8,
             "#7fbc41"
            ],
            [
             0.9,
             "#4d9221"
            ],
            [
             1,
             "#276419"
            ]
           ],
           "sequential": [
            [
             0,
             "#0d0887"
            ],
            [
             0.1111111111111111,
             "#46039f"
            ],
            [
             0.2222222222222222,
             "#7201a8"
            ],
            [
             0.3333333333333333,
             "#9c179e"
            ],
            [
             0.4444444444444444,
             "#bd3786"
            ],
            [
             0.5555555555555556,
             "#d8576b"
            ],
            [
             0.6666666666666666,
             "#ed7953"
            ],
            [
             0.7777777777777778,
             "#fb9f3a"
            ],
            [
             0.8888888888888888,
             "#fdca26"
            ],
            [
             1,
             "#f0f921"
            ]
           ],
           "sequentialminus": [
            [
             0,
             "#0d0887"
            ],
            [
             0.1111111111111111,
             "#46039f"
            ],
            [
             0.2222222222222222,
             "#7201a8"
            ],
            [
             0.3333333333333333,
             "#9c179e"
            ],
            [
             0.4444444444444444,
             "#bd3786"
            ],
            [
             0.5555555555555556,
             "#d8576b"
            ],
            [
             0.6666666666666666,
             "#ed7953"
            ],
            [
             0.7777777777777778,
             "#fb9f3a"
            ],
            [
             0.8888888888888888,
             "#fdca26"
            ],
            [
             1,
             "#f0f921"
            ]
           ]
          },
          "colorway": [
           "#636efa",
           "#EF553B",
           "#00cc96",
           "#ab63fa",
           "#FFA15A",
           "#19d3f3",
           "#FF6692",
           "#B6E880",
           "#FF97FF",
           "#FECB52"
          ],
          "font": {
           "color": "#2a3f5f"
          },
          "geo": {
           "bgcolor": "white",
           "lakecolor": "white",
           "landcolor": "#E5ECF6",
           "showlakes": true,
           "showland": true,
           "subunitcolor": "white"
          },
          "hoverlabel": {
           "align": "left"
          },
          "hovermode": "closest",
          "mapbox": {
           "style": "light"
          },
          "paper_bgcolor": "white",
          "plot_bgcolor": "#E5ECF6",
          "polar": {
           "angularaxis": {
            "gridcolor": "white",
            "linecolor": "white",
            "ticks": ""
           },
           "bgcolor": "#E5ECF6",
           "radialaxis": {
            "gridcolor": "white",
            "linecolor": "white",
            "ticks": ""
           }
          },
          "scene": {
           "xaxis": {
            "backgroundcolor": "#E5ECF6",
            "gridcolor": "white",
            "gridwidth": 2,
            "linecolor": "white",
            "showbackground": true,
            "ticks": "",
            "zerolinecolor": "white"
           },
           "yaxis": {
            "backgroundcolor": "#E5ECF6",
            "gridcolor": "white",
            "gridwidth": 2,
            "linecolor": "white",
            "showbackground": true,
            "ticks": "",
            "zerolinecolor": "white"
           },
           "zaxis": {
            "backgroundcolor": "#E5ECF6",
            "gridcolor": "white",
            "gridwidth": 2,
            "linecolor": "white",
            "showbackground": true,
            "ticks": "",
            "zerolinecolor": "white"
           }
          },
          "shapedefaults": {
           "line": {
            "color": "#2a3f5f"
           }
          },
          "ternary": {
           "aaxis": {
            "gridcolor": "white",
            "linecolor": "white",
            "ticks": ""
           },
           "baxis": {
            "gridcolor": "white",
            "linecolor": "white",
            "ticks": ""
           },
           "bgcolor": "#E5ECF6",
           "caxis": {
            "gridcolor": "white",
            "linecolor": "white",
            "ticks": ""
           }
          },
          "title": {
           "x": 0.05
          },
          "xaxis": {
           "automargin": true,
           "gridcolor": "white",
           "linecolor": "white",
           "ticks": "",
           "title": {
            "standoff": 15
           },
           "zerolinecolor": "white",
           "zerolinewidth": 2
          },
          "yaxis": {
           "automargin": true,
           "gridcolor": "white",
           "linecolor": "white",
           "ticks": "",
           "title": {
            "standoff": 15
           },
           "zerolinecolor": "white",
           "zerolinewidth": 2
          }
         }
        },
        "title": {
         "font": {
          "color": "#4D5663"
         }
        },
        "xaxis": {
         "gridcolor": "#E1E5ED",
         "showgrid": true,
         "tickfont": {
          "color": "#4D5663"
         },
         "title": {
          "font": {
           "color": "#4D5663"
          },
          "text": ""
         },
         "zerolinecolor": "#E1E5ED"
        },
        "yaxis": {
         "gridcolor": "#E1E5ED",
         "showgrid": true,
         "tickfont": {
          "color": "#4D5663"
         },
         "title": {
          "font": {
           "color": "#4D5663"
          },
          "text": ""
         },
         "zerolinecolor": "#E1E5ED"
        }
       }
      },
      "text/html": [
       "<div>                            <div id=\"4fb17428-4d43-4643-8156-16afb5505dba\" class=\"plotly-graph-div\" style=\"height:525px; width:100%;\"></div>            <script type=\"text/javascript\">                require([\"plotly\"], function(Plotly) {                    window.PLOTLYENV=window.PLOTLYENV || {};\n",
       "                    window.PLOTLYENV.BASE_URL='https://plot.ly';                                    if (document.getElementById(\"4fb17428-4d43-4643-8156-16afb5505dba\")) {                    Plotly.newPlot(                        \"4fb17428-4d43-4643-8156-16afb5505dba\",                        [{\"boxpoints\": false, \"line\": {\"width\": 1.3}, \"marker\": {\"color\": \"rgba(255, 153, 51, 1.0)\"}, \"name\": \"A\", \"orientation\": \"v\", \"type\": \"box\", \"y\": [0.062403000348056896, 0.682158388145421, 0.3268464575434144, 0.28422394171376936, -0.8930677967906131, 0.041223291518847946, 1.4782858523800568, -0.01722465247120283, 0.20354506830826805, -0.4545305600633967, -0.38981019744658657, -1.3603820914539406, -0.1930434719473086, -0.4242067670561226, 0.5805237728658952, 0.0182563537413149, 0.5893475068103087, 0.03891119531541383, -1.1659803041570214, -1.4954814632608548, 0.6410459252420906, -1.8173897668947723, 1.1476736695558079, -0.008637510156530056, 0.7333610287703045, -0.00341856027323607, -0.1705957221128231, -0.2755653598251552, -0.7028999920512963, -0.7686762441966566, -1.4320039221064242, -0.3777920709864464, -0.7893304727600577, -1.462585693582685, 0.25606012549675394, -0.7328012321850637, 0.9282689238426763, 1.1757725189552224, 0.5497232961895439, 1.3504414595074608, 0.36879921331976007, 0.6474329912861589, 0.3425748143184703, -0.5524096866845196, 0.22771702810119573, -0.01856107928186663, -0.505035272141574, 1.83767051387475, 0.7758446792672782, 0.49530351834577024, -0.8959516679869598, 0.19244410049328461, -0.028152661422717846, 0.2446391640032037, -0.8544538723417219, -1.1987174971252845, -1.0351821498442066, 1.630876494005205, -1.1732747762090505, -0.6522848289203391, -1.166608830105591, -0.6660716373175085, 0.49650677118547343, 0.280945589781803, 2.590006720593593, 0.4641214459824001, 0.4167417130776699, 0.814643013951977, -2.135518795380281, 0.6136241313529066, -0.9426705484649059, 1.050069499491585, 1.478207789341703, -0.6391499024396073, 1.1037544258288825, 1.598744213446337, -0.9214180706170372, -1.2027125149729223, -0.8141297322283779, 0.4167869704791297, -0.5529385483286148, 0.3472229204713509, 0.718239409702939, -0.28359798177231077, -0.39401886897279204, -0.8053865090960546, 0.31592140452817635, 1.2882667023943803, 0.6850003377061532, -1.653096366834222, 0.10423440668142835, -1.1225488317606467, -0.7634534972151744, 0.845927206975368, 2.4774967936593364, -1.1920806362525922, -0.932594950136978, 2.440937192420902, -1.0872222548948827, 0.8000874593014355]}, {\"boxpoints\": false, \"line\": {\"width\": 1.3}, \"marker\": {\"color\": \"rgba(55, 128, 191, 1.0)\"}, \"name\": \"B\", \"orientation\": \"v\", \"type\": \"box\", \"y\": [-1.2990683753780665, 1.624681381422417, 1.1050144336626813, -0.18855637354967572, 0.48478649153248393, -0.1518918367515998, -0.7101304630074858, -0.8314894580215793, 0.14864838275340203, -0.9883549688724185, 0.2619736329233981, 0.433341791706317, 0.4144785136898204, 0.5033067567904287, 1.4965554538363868, 1.956617306686328, -0.578245281812172, -1.4174671610760066, 0.2509113970016073, -0.6854460438222966, 0.23852252212573566, -0.4374775713005923, 0.7413855687297202, 0.10556881914297436, 0.1585873008040566, 2.233260861019369, -0.09929731120607435, 0.7241044725523446, 0.535088540547648, 0.5580949721210654, -0.11338290316044461, -0.7731897813122994, -0.45846386467525907, -0.2617599441544949, -0.6477024075551885, -1.4554017026133887, 0.24741918994602477, -0.22522232259468344, 0.5469031092445472, -0.2815805553595161, -0.14730474978832764, 2.152082602828211, -0.5849732814667612, -1.1672480227212263, -1.936000387514932, -0.6068892020585201, -0.004093622653018009, 1.768152919880954, -0.47379149100178425, 0.4096662408886199, -0.8298725088760005, 0.23714593080153104, 1.7182916716167476, -0.5536416369860518, -0.5008585162696602, 0.12531474389952071, -0.3102922723523502, 0.3212082519347096, 0.1273991345162948, 1.4676643819725206, -0.00954134812271558, -2.515191437159899, 0.2858322905211471, 1.6148968929893681, -0.41540727418007933, 0.7432364152956532, 0.08943293717910389, 0.45863524503738756, -1.5130666419626568, 0.25537119307039896, 0.646208704821914, 0.14045644314235028, -1.654436346805644, -1.2485137655752985, -1.220472804150455, 0.5874098939074718, -0.8832102261481436, -0.7988314318980299, -0.573780450292032, -1.0383213758032692, -0.6318717788688629, 0.00039752972621937476, 1.1981581595577502, -2.5099274433561014, -0.2712993286356339, 0.18780065535996154, -0.5580110046021268, -1.373552616923043, -0.08136658740476707, -0.500895465414146, -0.28648841769671246, 0.760700335336526, 1.2828632663819213, 0.6375084363947762, 0.09553303045392961, 0.9602945758003074, 1.264248937029117, -0.12940953282095385, -1.8627436208339199, -0.35263576599728114]}, {\"boxpoints\": false, \"line\": {\"width\": 1.3}, \"marker\": {\"color\": \"rgba(50, 171, 96, 1.0)\"}, \"name\": \"C\", \"orientation\": \"v\", \"type\": \"box\", \"y\": [1.3277480686631737, 1.050547909409751, 1.3294870859233556, -0.13870404447613557, 1.2218281015381525, -1.047591080889363, -1.4822808878063358, -1.4335267599367494, 0.07274677269292128, -1.385208972739911, 0.7024703200820424, -0.8880380280033623, -0.8547896508547369, 0.31185313506640283, 0.2563271601287642, -0.5261950965768823, 0.5519014489002535, 0.4082691591381113, -1.2862316779891965, 0.44859116465226406, 0.13625194558813486, 0.280679521344601, -0.02835299066476146, -0.3830272009784602, -0.34353149414286166, 0.28184497975529327, -1.2205571340697343, -0.02909238752000967, 1.1921642115369608, 0.474260432591272, 0.9373627235375664, 1.4776392003195147, -0.029564933039379248, 0.99911966144133, 0.3240195697926262, 0.03401387458525973, 1.410444141420003, 0.5525302781296415, -0.3183084017843572, 0.7186946417574489, -1.1077957092476767, 1.7001527283039954, 1.8133694221681342, -0.4225946616805115, -0.788023560769322, 1.4058002890335541, 0.961507413941608, 0.017780631402030126, -1.6268560230227949, -0.21389807757329404, -0.25804553141361064, 1.5027656010382409, -0.2301925491561469, -0.13133770671759212, 0.6951888892908054, -1.0317610337860261, 1.0727625169742452, -0.43083511527863716, -2.433419554005068, 1.5545467140051108, 0.8031599912754359, 0.45310615813824545, 0.9055518604541104, 0.7846664209606582, 0.6197006472787928, -0.47860177595972264, 0.1279222369971248, 0.5465449898282538, -1.6933600358972833, 0.48491522534972553, 0.2694070585448925, -0.11388920518825722, 0.11272494742647107, -1.3920380931256184, -1.962700548100472, -1.7378697254858495, -0.7818474649403422, -2.1915026596198284, -0.010632375622421088, -2.0414814863870068, -0.4659494819877405, 0.3451970702407081, 0.6268328052907892, -0.71567101483495, -0.26445647028416147, 0.16178304128280735, -0.5510181008810864, -0.5021706791030416, -1.5329231160369086, 1.3879360191670922, -0.20967690238226744, -1.3670839329746214, 1.076632444152013, 0.2953756540651349, 0.19709824729739248, 0.18429971334894393, -0.9373963033909891, 0.2646799340244548, 1.2810675908976386, 2.589926490087622]}, {\"boxpoints\": false, \"line\": {\"width\": 1.3}, \"marker\": {\"color\": \"rgba(128, 0, 128, 1.0)\"}, \"name\": \"D\", \"orientation\": \"v\", \"type\": \"box\", \"y\": [0.9510949294848526, 0.4695638138892198, -0.12821164479171554, -1.5257079148558776, -0.16233709183306624, -0.9638417942564012, -0.4915267140279102, -2.4184117895314765, 0.3607053686268968, -0.5285612826105017, -0.4285178504036213, 0.07966457306215396, 2.3652059729730497, -0.9870421025768513, 0.36702706338599883, 1.1347510327949974, 0.5894990482523681, 2.440768159619953, 0.9838466325555156, 0.797510734845901, -0.624485961244373, 1.0991759521001998, 0.9298248741871734, 0.7133611160971455, 0.3990976342014481, -0.08382319239217625, 0.18677316791991988, -0.24586105029012073, -0.9917793106937559, 0.04845575460362079, 0.15371514705055928, -0.4718618834830073, -0.6211000961774438, 1.1697655277102825, -0.2761052450610573, 0.390290321076468, -0.27580277573952555, -0.011793728102506337, 1.4203938063505552, -0.3540328421352846, -0.05385716129189193, 1.5687612989007362, 1.4947811801907642, -0.0907906324830042, 0.2008464745533209, 0.6540547952065257, -0.6453521773434029, 0.9440170316749986, 1.5897438489064992, -0.8486254691354769, 0.9046070542679885, 1.0495623648697618, -1.224035202547343, -1.0427057175256877, 0.5945839682902634, 0.5337946540431762, 0.2632612245115452, 0.39868488873597385, -0.3654589589077428, -1.1342179546915354, 0.11851262533573535, -0.8340798137577661, 0.5926784388236838, -0.6207922204277392, 0.9651518359562631, 0.09403334833156134, -0.3250940889776582, -2.256036962124954, 0.4846688572318411, 0.06839142679808732, -2.133092503970914, 1.4539681659416737, -0.5664865152294981, -0.7341855979315933, -0.3566560181728952, 0.09952804551515838, 1.081557923070655, 0.2263069870116225, -0.33929955781856347, 1.5439649056212006, -1.4320414456639798, -1.3204482658502175, 2.1615947495792853, 0.33079081187341614, -1.0156246875190234, -0.362395604857689, 0.7536331826381956, -1.7368657732073303, 0.010594486537426498, -0.2556207731554825, -0.398307797997451, 1.7935563632068905, 0.33221143072086234, -0.019581137547514754, 1.8924713508771496, -1.4489598139678137, 0.023367516123193738, -0.4067124512310082, -1.0153575018769438, -0.8289638770916804]}],                        {\"legend\": {\"bgcolor\": \"#F5F6F9\", \"font\": {\"color\": \"#4D5663\"}}, \"paper_bgcolor\": \"#F5F6F9\", \"plot_bgcolor\": \"#F5F6F9\", \"template\": {\"data\": {\"bar\": [{\"error_x\": {\"color\": \"#2a3f5f\"}, \"error_y\": {\"color\": \"#2a3f5f\"}, \"marker\": {\"line\": {\"color\": \"#E5ECF6\", \"width\": 0.5}}, \"type\": \"bar\"}], \"barpolar\": [{\"marker\": {\"line\": {\"color\": \"#E5ECF6\", \"width\": 0.5}}, \"type\": \"barpolar\"}], \"carpet\": [{\"aaxis\": {\"endlinecolor\": \"#2a3f5f\", \"gridcolor\": \"white\", \"linecolor\": \"white\", \"minorgridcolor\": \"white\", \"startlinecolor\": \"#2a3f5f\"}, \"baxis\": {\"endlinecolor\": \"#2a3f5f\", \"gridcolor\": \"white\", \"linecolor\": \"white\", \"minorgridcolor\": \"white\", \"startlinecolor\": \"#2a3f5f\"}, \"type\": \"carpet\"}], \"choropleth\": [{\"colorbar\": {\"outlinewidth\": 0, \"ticks\": \"\"}, \"type\": \"choropleth\"}], \"contour\": [{\"colorbar\": {\"outlinewidth\": 0, \"ticks\": \"\"}, \"colorscale\": [[0.0, \"#0d0887\"], [0.1111111111111111, \"#46039f\"], [0.2222222222222222, \"#7201a8\"], [0.3333333333333333, \"#9c179e\"], [0.4444444444444444, \"#bd3786\"], [0.5555555555555556, \"#d8576b\"], [0.6666666666666666, \"#ed7953\"], [0.7777777777777778, \"#fb9f3a\"], [0.8888888888888888, \"#fdca26\"], [1.0, \"#f0f921\"]], \"type\": \"contour\"}], \"contourcarpet\": [{\"colorbar\": {\"outlinewidth\": 0, \"ticks\": \"\"}, \"type\": \"contourcarpet\"}], \"heatmap\": [{\"colorbar\": {\"outlinewidth\": 0, \"ticks\": \"\"}, \"colorscale\": [[0.0, \"#0d0887\"], [0.1111111111111111, \"#46039f\"], [0.2222222222222222, \"#7201a8\"], [0.3333333333333333, \"#9c179e\"], [0.4444444444444444, \"#bd3786\"], [0.5555555555555556, \"#d8576b\"], [0.6666666666666666, \"#ed7953\"], [0.7777777777777778, \"#fb9f3a\"], [0.8888888888888888, \"#fdca26\"], [1.0, \"#f0f921\"]], \"type\": \"heatmap\"}], \"heatmapgl\": [{\"colorbar\": {\"outlinewidth\": 0, \"ticks\": \"\"}, \"colorscale\": [[0.0, \"#0d0887\"], [0.1111111111111111, \"#46039f\"], [0.2222222222222222, \"#7201a8\"], [0.3333333333333333, \"#9c179e\"], [0.4444444444444444, \"#bd3786\"], [0.5555555555555556, \"#d8576b\"], [0.6666666666666666, \"#ed7953\"], [0.7777777777777778, \"#fb9f3a\"], [0.8888888888888888, \"#fdca26\"], [1.0, \"#f0f921\"]], \"type\": \"heatmapgl\"}], \"histogram\": [{\"marker\": {\"colorbar\": {\"outlinewidth\": 0, \"ticks\": \"\"}}, \"type\": \"histogram\"}], \"histogram2d\": [{\"colorbar\": {\"outlinewidth\": 0, \"ticks\": \"\"}, \"colorscale\": [[0.0, \"#0d0887\"], [0.1111111111111111, \"#46039f\"], [0.2222222222222222, \"#7201a8\"], [0.3333333333333333, \"#9c179e\"], [0.4444444444444444, \"#bd3786\"], [0.5555555555555556, \"#d8576b\"], [0.6666666666666666, \"#ed7953\"], [0.7777777777777778, \"#fb9f3a\"], [0.8888888888888888, \"#fdca26\"], [1.0, \"#f0f921\"]], \"type\": \"histogram2d\"}], \"histogram2dcontour\": [{\"colorbar\": {\"outlinewidth\": 0, \"ticks\": \"\"}, \"colorscale\": [[0.0, \"#0d0887\"], [0.1111111111111111, \"#46039f\"], [0.2222222222222222, \"#7201a8\"], [0.3333333333333333, \"#9c179e\"], [0.4444444444444444, \"#bd3786\"], [0.5555555555555556, \"#d8576b\"], [0.6666666666666666, \"#ed7953\"], [0.7777777777777778, \"#fb9f3a\"], [0.8888888888888888, \"#fdca26\"], [1.0, \"#f0f921\"]], \"type\": \"histogram2dcontour\"}], \"mesh3d\": [{\"colorbar\": {\"outlinewidth\": 0, \"ticks\": \"\"}, \"type\": \"mesh3d\"}], \"parcoords\": [{\"line\": {\"colorbar\": {\"outlinewidth\": 0, \"ticks\": \"\"}}, \"type\": \"parcoords\"}], \"pie\": [{\"automargin\": true, \"type\": \"pie\"}], \"scatter\": [{\"marker\": {\"colorbar\": {\"outlinewidth\": 0, \"ticks\": \"\"}}, \"type\": \"scatter\"}], \"scatter3d\": [{\"line\": {\"colorbar\": {\"outlinewidth\": 0, \"ticks\": \"\"}}, \"marker\": {\"colorbar\": {\"outlinewidth\": 0, \"ticks\": \"\"}}, \"type\": \"scatter3d\"}], \"scattercarpet\": [{\"marker\": {\"colorbar\": {\"outlinewidth\": 0, \"ticks\": \"\"}}, \"type\": \"scattercarpet\"}], \"scattergeo\": [{\"marker\": {\"colorbar\": {\"outlinewidth\": 0, \"ticks\": \"\"}}, \"type\": \"scattergeo\"}], \"scattergl\": [{\"marker\": {\"colorbar\": {\"outlinewidth\": 0, \"ticks\": \"\"}}, \"type\": \"scattergl\"}], \"scattermapbox\": [{\"marker\": {\"colorbar\": {\"outlinewidth\": 0, \"ticks\": \"\"}}, \"type\": \"scattermapbox\"}], \"scatterpolar\": [{\"marker\": {\"colorbar\": {\"outlinewidth\": 0, \"ticks\": \"\"}}, \"type\": \"scatterpolar\"}], \"scatterpolargl\": [{\"marker\": {\"colorbar\": {\"outlinewidth\": 0, \"ticks\": \"\"}}, \"type\": \"scatterpolargl\"}], \"scatterternary\": [{\"marker\": {\"colorbar\": {\"outlinewidth\": 0, \"ticks\": \"\"}}, \"type\": \"scatterternary\"}], \"surface\": [{\"colorbar\": {\"outlinewidth\": 0, \"ticks\": \"\"}, \"colorscale\": [[0.0, \"#0d0887\"], [0.1111111111111111, \"#46039f\"], [0.2222222222222222, \"#7201a8\"], [0.3333333333333333, \"#9c179e\"], [0.4444444444444444, \"#bd3786\"], [0.5555555555555556, \"#d8576b\"], [0.6666666666666666, \"#ed7953\"], [0.7777777777777778, \"#fb9f3a\"], [0.8888888888888888, \"#fdca26\"], [1.0, \"#f0f921\"]], \"type\": \"surface\"}], \"table\": [{\"cells\": {\"fill\": {\"color\": \"#EBF0F8\"}, \"line\": {\"color\": \"white\"}}, \"header\": {\"fill\": {\"color\": \"#C8D4E3\"}, \"line\": {\"color\": \"white\"}}, \"type\": \"table\"}]}, \"layout\": {\"annotationdefaults\": {\"arrowcolor\": \"#2a3f5f\", \"arrowhead\": 0, \"arrowwidth\": 1}, \"autotypenumbers\": \"strict\", \"coloraxis\": {\"colorbar\": {\"outlinewidth\": 0, \"ticks\": \"\"}}, \"colorscale\": {\"diverging\": [[0, \"#8e0152\"], [0.1, \"#c51b7d\"], [0.2, \"#de77ae\"], [0.3, \"#f1b6da\"], [0.4, \"#fde0ef\"], [0.5, \"#f7f7f7\"], [0.6, \"#e6f5d0\"], [0.7, \"#b8e186\"], [0.8, \"#7fbc41\"], [0.9, \"#4d9221\"], [1, \"#276419\"]], \"sequential\": [[0.0, \"#0d0887\"], [0.1111111111111111, \"#46039f\"], [0.2222222222222222, \"#7201a8\"], [0.3333333333333333, \"#9c179e\"], [0.4444444444444444, \"#bd3786\"], [0.5555555555555556, \"#d8576b\"], [0.6666666666666666, \"#ed7953\"], [0.7777777777777778, \"#fb9f3a\"], [0.8888888888888888, \"#fdca26\"], [1.0, \"#f0f921\"]], \"sequentialminus\": [[0.0, \"#0d0887\"], [0.1111111111111111, \"#46039f\"], [0.2222222222222222, \"#7201a8\"], [0.3333333333333333, \"#9c179e\"], [0.4444444444444444, \"#bd3786\"], [0.5555555555555556, \"#d8576b\"], [0.6666666666666666, \"#ed7953\"], [0.7777777777777778, \"#fb9f3a\"], [0.8888888888888888, \"#fdca26\"], [1.0, \"#f0f921\"]]}, \"colorway\": [\"#636efa\", \"#EF553B\", \"#00cc96\", \"#ab63fa\", \"#FFA15A\", \"#19d3f3\", \"#FF6692\", \"#B6E880\", \"#FF97FF\", \"#FECB52\"], \"font\": {\"color\": \"#2a3f5f\"}, \"geo\": {\"bgcolor\": \"white\", \"lakecolor\": \"white\", \"landcolor\": \"#E5ECF6\", \"showlakes\": true, \"showland\": true, \"subunitcolor\": \"white\"}, \"hoverlabel\": {\"align\": \"left\"}, \"hovermode\": \"closest\", \"mapbox\": {\"style\": \"light\"}, \"paper_bgcolor\": \"white\", \"plot_bgcolor\": \"#E5ECF6\", \"polar\": {\"angularaxis\": {\"gridcolor\": \"white\", \"linecolor\": \"white\", \"ticks\": \"\"}, \"bgcolor\": \"#E5ECF6\", \"radialaxis\": {\"gridcolor\": \"white\", \"linecolor\": \"white\", \"ticks\": \"\"}}, \"scene\": {\"xaxis\": {\"backgroundcolor\": \"#E5ECF6\", \"gridcolor\": \"white\", \"gridwidth\": 2, \"linecolor\": \"white\", \"showbackground\": true, \"ticks\": \"\", \"zerolinecolor\": \"white\"}, \"yaxis\": {\"backgroundcolor\": \"#E5ECF6\", \"gridcolor\": \"white\", \"gridwidth\": 2, \"linecolor\": \"white\", \"showbackground\": true, \"ticks\": \"\", \"zerolinecolor\": \"white\"}, \"zaxis\": {\"backgroundcolor\": \"#E5ECF6\", \"gridcolor\": \"white\", \"gridwidth\": 2, \"linecolor\": \"white\", \"showbackground\": true, \"ticks\": \"\", \"zerolinecolor\": \"white\"}}, \"shapedefaults\": {\"line\": {\"color\": \"#2a3f5f\"}}, \"ternary\": {\"aaxis\": {\"gridcolor\": \"white\", \"linecolor\": \"white\", \"ticks\": \"\"}, \"baxis\": {\"gridcolor\": \"white\", \"linecolor\": \"white\", \"ticks\": \"\"}, \"bgcolor\": \"#E5ECF6\", \"caxis\": {\"gridcolor\": \"white\", \"linecolor\": \"white\", \"ticks\": \"\"}}, \"title\": {\"x\": 0.05}, \"xaxis\": {\"automargin\": true, \"gridcolor\": \"white\", \"linecolor\": \"white\", \"ticks\": \"\", \"title\": {\"standoff\": 15}, \"zerolinecolor\": \"white\", \"zerolinewidth\": 2}, \"yaxis\": {\"automargin\": true, \"gridcolor\": \"white\", \"linecolor\": \"white\", \"ticks\": \"\", \"title\": {\"standoff\": 15}, \"zerolinecolor\": \"white\", \"zerolinewidth\": 2}}}, \"title\": {\"font\": {\"color\": \"#4D5663\"}}, \"xaxis\": {\"gridcolor\": \"#E1E5ED\", \"showgrid\": true, \"tickfont\": {\"color\": \"#4D5663\"}, \"title\": {\"font\": {\"color\": \"#4D5663\"}, \"text\": \"\"}, \"zerolinecolor\": \"#E1E5ED\"}, \"yaxis\": {\"gridcolor\": \"#E1E5ED\", \"showgrid\": true, \"tickfont\": {\"color\": \"#4D5663\"}, \"title\": {\"font\": {\"color\": \"#4D5663\"}, \"text\": \"\"}, \"zerolinecolor\": \"#E1E5ED\"}},                        {\"showLink\": true, \"linkText\": \"Export to plot.ly\", \"plotlyServerURL\": \"https://plot.ly\", \"responsive\": true}                    ).then(function(){\n",
       "                            \n",
       "var gd = document.getElementById('4fb17428-4d43-4643-8156-16afb5505dba');\n",
       "var x = new MutationObserver(function (mutations, observer) {{\n",
       "        var display = window.getComputedStyle(gd).display;\n",
       "        if (!display || display === 'none') {{\n",
       "            console.log([gd, 'removed!']);\n",
       "            Plotly.purge(gd);\n",
       "            observer.disconnect();\n",
       "        }}\n",
       "}});\n",
       "\n",
       "// Listen for the removal of the full notebook cells\n",
       "var notebookContainer = gd.closest('#notebook-container');\n",
       "if (notebookContainer) {{\n",
       "    x.observe(notebookContainer, {childList: true});\n",
       "}}\n",
       "\n",
       "// Listen for the clearing of the current output cell\n",
       "var outputEl = gd.closest('.output');\n",
       "if (outputEl) {{\n",
       "    x.observe(outputEl, {childList: true});\n",
       "}}\n",
       "\n",
       "                        })                };                });            </script>        </div>"
      ]
     },
     "metadata": {},
     "output_type": "display_data"
    }
   ],
   "source": [
    "df.iplot(kind='box')"
   ]
  },
  {
   "cell_type": "markdown",
   "metadata": {},
   "source": [
    "## 3d Surface"
   ]
  },
  {
   "cell_type": "code",
   "execution_count": 14,
   "metadata": {},
   "outputs": [
    {
     "data": {
      "application/vnd.plotly.v1+json": {
       "config": {
        "linkText": "Export to plot.ly",
        "plotlyServerURL": "https://plot.ly",
        "showLink": true
       },
       "data": [
        {
         "colorscale": [
          [
           0,
           "rgb(165,0,38)"
          ],
          [
           0.1,
           "rgb(215,48,39)"
          ],
          [
           0.2,
           "rgb(244,109,67)"
          ],
          [
           0.3,
           "rgb(253,174,97)"
          ],
          [
           0.4,
           "rgb(254,224,144)"
          ],
          [
           0.5,
           "rgb(255,255,191)"
          ],
          [
           0.6,
           "rgb(224,243,248)"
          ],
          [
           0.7,
           "rgb(171,217,233)"
          ],
          [
           0.8,
           "rgb(116,173,209)"
          ],
          [
           0.9,
           "rgb(69,117,180)"
          ],
          [
           1,
           "rgb(49,54,149)"
          ]
         ],
         "type": "surface",
         "x": [
          0,
          1,
          2,
          3,
          4
         ],
         "y": [
          "x",
          "y",
          "z"
         ],
         "z": [
          [
           1,
           2,
           3,
           4,
           5
          ],
          [
           10,
           20,
           30,
           20,
           10
          ],
          [
           5,
           4,
           3,
           2,
           1
          ]
         ]
        }
       ],
       "layout": {
        "legend": {
         "bgcolor": "#F5F6F9",
         "font": {
          "color": "#4D5663"
         }
        },
        "paper_bgcolor": "#F5F6F9",
        "plot_bgcolor": "#F5F6F9",
        "template": {
         "data": {
          "bar": [
           {
            "error_x": {
             "color": "#2a3f5f"
            },
            "error_y": {
             "color": "#2a3f5f"
            },
            "marker": {
             "line": {
              "color": "#E5ECF6",
              "width": 0.5
             }
            },
            "type": "bar"
           }
          ],
          "barpolar": [
           {
            "marker": {
             "line": {
              "color": "#E5ECF6",
              "width": 0.5
             }
            },
            "type": "barpolar"
           }
          ],
          "carpet": [
           {
            "aaxis": {
             "endlinecolor": "#2a3f5f",
             "gridcolor": "white",
             "linecolor": "white",
             "minorgridcolor": "white",
             "startlinecolor": "#2a3f5f"
            },
            "baxis": {
             "endlinecolor": "#2a3f5f",
             "gridcolor": "white",
             "linecolor": "white",
             "minorgridcolor": "white",
             "startlinecolor": "#2a3f5f"
            },
            "type": "carpet"
           }
          ],
          "choropleth": [
           {
            "colorbar": {
             "outlinewidth": 0,
             "ticks": ""
            },
            "type": "choropleth"
           }
          ],
          "contour": [
           {
            "colorbar": {
             "outlinewidth": 0,
             "ticks": ""
            },
            "colorscale": [
             [
              0,
              "#0d0887"
             ],
             [
              0.1111111111111111,
              "#46039f"
             ],
             [
              0.2222222222222222,
              "#7201a8"
             ],
             [
              0.3333333333333333,
              "#9c179e"
             ],
             [
              0.4444444444444444,
              "#bd3786"
             ],
             [
              0.5555555555555556,
              "#d8576b"
             ],
             [
              0.6666666666666666,
              "#ed7953"
             ],
             [
              0.7777777777777778,
              "#fb9f3a"
             ],
             [
              0.8888888888888888,
              "#fdca26"
             ],
             [
              1,
              "#f0f921"
             ]
            ],
            "type": "contour"
           }
          ],
          "contourcarpet": [
           {
            "colorbar": {
             "outlinewidth": 0,
             "ticks": ""
            },
            "type": "contourcarpet"
           }
          ],
          "heatmap": [
           {
            "colorbar": {
             "outlinewidth": 0,
             "ticks": ""
            },
            "colorscale": [
             [
              0,
              "#0d0887"
             ],
             [
              0.1111111111111111,
              "#46039f"
             ],
             [
              0.2222222222222222,
              "#7201a8"
             ],
             [
              0.3333333333333333,
              "#9c179e"
             ],
             [
              0.4444444444444444,
              "#bd3786"
             ],
             [
              0.5555555555555556,
              "#d8576b"
             ],
             [
              0.6666666666666666,
              "#ed7953"
             ],
             [
              0.7777777777777778,
              "#fb9f3a"
             ],
             [
              0.8888888888888888,
              "#fdca26"
             ],
             [
              1,
              "#f0f921"
             ]
            ],
            "type": "heatmap"
           }
          ],
          "heatmapgl": [
           {
            "colorbar": {
             "outlinewidth": 0,
             "ticks": ""
            },
            "colorscale": [
             [
              0,
              "#0d0887"
             ],
             [
              0.1111111111111111,
              "#46039f"
             ],
             [
              0.2222222222222222,
              "#7201a8"
             ],
             [
              0.3333333333333333,
              "#9c179e"
             ],
             [
              0.4444444444444444,
              "#bd3786"
             ],
             [
              0.5555555555555556,
              "#d8576b"
             ],
             [
              0.6666666666666666,
              "#ed7953"
             ],
             [
              0.7777777777777778,
              "#fb9f3a"
             ],
             [
              0.8888888888888888,
              "#fdca26"
             ],
             [
              1,
              "#f0f921"
             ]
            ],
            "type": "heatmapgl"
           }
          ],
          "histogram": [
           {
            "marker": {
             "colorbar": {
              "outlinewidth": 0,
              "ticks": ""
             }
            },
            "type": "histogram"
           }
          ],
          "histogram2d": [
           {
            "colorbar": {
             "outlinewidth": 0,
             "ticks": ""
            },
            "colorscale": [
             [
              0,
              "#0d0887"
             ],
             [
              0.1111111111111111,
              "#46039f"
             ],
             [
              0.2222222222222222,
              "#7201a8"
             ],
             [
              0.3333333333333333,
              "#9c179e"
             ],
             [
              0.4444444444444444,
              "#bd3786"
             ],
             [
              0.5555555555555556,
              "#d8576b"
             ],
             [
              0.6666666666666666,
              "#ed7953"
             ],
             [
              0.7777777777777778,
              "#fb9f3a"
             ],
             [
              0.8888888888888888,
              "#fdca26"
             ],
             [
              1,
              "#f0f921"
             ]
            ],
            "type": "histogram2d"
           }
          ],
          "histogram2dcontour": [
           {
            "colorbar": {
             "outlinewidth": 0,
             "ticks": ""
            },
            "colorscale": [
             [
              0,
              "#0d0887"
             ],
             [
              0.1111111111111111,
              "#46039f"
             ],
             [
              0.2222222222222222,
              "#7201a8"
             ],
             [
              0.3333333333333333,
              "#9c179e"
             ],
             [
              0.4444444444444444,
              "#bd3786"
             ],
             [
              0.5555555555555556,
              "#d8576b"
             ],
             [
              0.6666666666666666,
              "#ed7953"
             ],
             [
              0.7777777777777778,
              "#fb9f3a"
             ],
             [
              0.8888888888888888,
              "#fdca26"
             ],
             [
              1,
              "#f0f921"
             ]
            ],
            "type": "histogram2dcontour"
           }
          ],
          "mesh3d": [
           {
            "colorbar": {
             "outlinewidth": 0,
             "ticks": ""
            },
            "type": "mesh3d"
           }
          ],
          "parcoords": [
           {
            "line": {
             "colorbar": {
              "outlinewidth": 0,
              "ticks": ""
             }
            },
            "type": "parcoords"
           }
          ],
          "pie": [
           {
            "automargin": true,
            "type": "pie"
           }
          ],
          "scatter": [
           {
            "marker": {
             "colorbar": {
              "outlinewidth": 0,
              "ticks": ""
             }
            },
            "type": "scatter"
           }
          ],
          "scatter3d": [
           {
            "line": {
             "colorbar": {
              "outlinewidth": 0,
              "ticks": ""
             }
            },
            "marker": {
             "colorbar": {
              "outlinewidth": 0,
              "ticks": ""
             }
            },
            "type": "scatter3d"
           }
          ],
          "scattercarpet": [
           {
            "marker": {
             "colorbar": {
              "outlinewidth": 0,
              "ticks": ""
             }
            },
            "type": "scattercarpet"
           }
          ],
          "scattergeo": [
           {
            "marker": {
             "colorbar": {
              "outlinewidth": 0,
              "ticks": ""
             }
            },
            "type": "scattergeo"
           }
          ],
          "scattergl": [
           {
            "marker": {
             "colorbar": {
              "outlinewidth": 0,
              "ticks": ""
             }
            },
            "type": "scattergl"
           }
          ],
          "scattermapbox": [
           {
            "marker": {
             "colorbar": {
              "outlinewidth": 0,
              "ticks": ""
             }
            },
            "type": "scattermapbox"
           }
          ],
          "scatterpolar": [
           {
            "marker": {
             "colorbar": {
              "outlinewidth": 0,
              "ticks": ""
             }
            },
            "type": "scatterpolar"
           }
          ],
          "scatterpolargl": [
           {
            "marker": {
             "colorbar": {
              "outlinewidth": 0,
              "ticks": ""
             }
            },
            "type": "scatterpolargl"
           }
          ],
          "scatterternary": [
           {
            "marker": {
             "colorbar": {
              "outlinewidth": 0,
              "ticks": ""
             }
            },
            "type": "scatterternary"
           }
          ],
          "surface": [
           {
            "colorbar": {
             "outlinewidth": 0,
             "ticks": ""
            },
            "colorscale": [
             [
              0,
              "#0d0887"
             ],
             [
              0.1111111111111111,
              "#46039f"
             ],
             [
              0.2222222222222222,
              "#7201a8"
             ],
             [
              0.3333333333333333,
              "#9c179e"
             ],
             [
              0.4444444444444444,
              "#bd3786"
             ],
             [
              0.5555555555555556,
              "#d8576b"
             ],
             [
              0.6666666666666666,
              "#ed7953"
             ],
             [
              0.7777777777777778,
              "#fb9f3a"
             ],
             [
              0.8888888888888888,
              "#fdca26"
             ],
             [
              1,
              "#f0f921"
             ]
            ],
            "type": "surface"
           }
          ],
          "table": [
           {
            "cells": {
             "fill": {
              "color": "#EBF0F8"
             },
             "line": {
              "color": "white"
             }
            },
            "header": {
             "fill": {
              "color": "#C8D4E3"
             },
             "line": {
              "color": "white"
             }
            },
            "type": "table"
           }
          ]
         },
         "layout": {
          "annotationdefaults": {
           "arrowcolor": "#2a3f5f",
           "arrowhead": 0,
           "arrowwidth": 1
          },
          "autotypenumbers": "strict",
          "coloraxis": {
           "colorbar": {
            "outlinewidth": 0,
            "ticks": ""
           }
          },
          "colorscale": {
           "diverging": [
            [
             0,
             "#8e0152"
            ],
            [
             0.1,
             "#c51b7d"
            ],
            [
             0.2,
             "#de77ae"
            ],
            [
             0.3,
             "#f1b6da"
            ],
            [
             0.4,
             "#fde0ef"
            ],
            [
             0.5,
             "#f7f7f7"
            ],
            [
             0.6,
             "#e6f5d0"
            ],
            [
             0.7,
             "#b8e186"
            ],
            [
             0.8,
             "#7fbc41"
            ],
            [
             0.9,
             "#4d9221"
            ],
            [
             1,
             "#276419"
            ]
           ],
           "sequential": [
            [
             0,
             "#0d0887"
            ],
            [
             0.1111111111111111,
             "#46039f"
            ],
            [
             0.2222222222222222,
             "#7201a8"
            ],
            [
             0.3333333333333333,
             "#9c179e"
            ],
            [
             0.4444444444444444,
             "#bd3786"
            ],
            [
             0.5555555555555556,
             "#d8576b"
            ],
            [
             0.6666666666666666,
             "#ed7953"
            ],
            [
             0.7777777777777778,
             "#fb9f3a"
            ],
            [
             0.8888888888888888,
             "#fdca26"
            ],
            [
             1,
             "#f0f921"
            ]
           ],
           "sequentialminus": [
            [
             0,
             "#0d0887"
            ],
            [
             0.1111111111111111,
             "#46039f"
            ],
            [
             0.2222222222222222,
             "#7201a8"
            ],
            [
             0.3333333333333333,
             "#9c179e"
            ],
            [
             0.4444444444444444,
             "#bd3786"
            ],
            [
             0.5555555555555556,
             "#d8576b"
            ],
            [
             0.6666666666666666,
             "#ed7953"
            ],
            [
             0.7777777777777778,
             "#fb9f3a"
            ],
            [
             0.8888888888888888,
             "#fdca26"
            ],
            [
             1,
             "#f0f921"
            ]
           ]
          },
          "colorway": [
           "#636efa",
           "#EF553B",
           "#00cc96",
           "#ab63fa",
           "#FFA15A",
           "#19d3f3",
           "#FF6692",
           "#B6E880",
           "#FF97FF",
           "#FECB52"
          ],
          "font": {
           "color": "#2a3f5f"
          },
          "geo": {
           "bgcolor": "white",
           "lakecolor": "white",
           "landcolor": "#E5ECF6",
           "showlakes": true,
           "showland": true,
           "subunitcolor": "white"
          },
          "hoverlabel": {
           "align": "left"
          },
          "hovermode": "closest",
          "mapbox": {
           "style": "light"
          },
          "paper_bgcolor": "white",
          "plot_bgcolor": "#E5ECF6",
          "polar": {
           "angularaxis": {
            "gridcolor": "white",
            "linecolor": "white",
            "ticks": ""
           },
           "bgcolor": "#E5ECF6",
           "radialaxis": {
            "gridcolor": "white",
            "linecolor": "white",
            "ticks": ""
           }
          },
          "scene": {
           "xaxis": {
            "backgroundcolor": "#E5ECF6",
            "gridcolor": "white",
            "gridwidth": 2,
            "linecolor": "white",
            "showbackground": true,
            "ticks": "",
            "zerolinecolor": "white"
           },
           "yaxis": {
            "backgroundcolor": "#E5ECF6",
            "gridcolor": "white",
            "gridwidth": 2,
            "linecolor": "white",
            "showbackground": true,
            "ticks": "",
            "zerolinecolor": "white"
           },
           "zaxis": {
            "backgroundcolor": "#E5ECF6",
            "gridcolor": "white",
            "gridwidth": 2,
            "linecolor": "white",
            "showbackground": true,
            "ticks": "",
            "zerolinecolor": "white"
           }
          },
          "shapedefaults": {
           "line": {
            "color": "#2a3f5f"
           }
          },
          "ternary": {
           "aaxis": {
            "gridcolor": "white",
            "linecolor": "white",
            "ticks": ""
           },
           "baxis": {
            "gridcolor": "white",
            "linecolor": "white",
            "ticks": ""
           },
           "bgcolor": "#E5ECF6",
           "caxis": {
            "gridcolor": "white",
            "linecolor": "white",
            "ticks": ""
           }
          },
          "title": {
           "x": 0.05
          },
          "xaxis": {
           "automargin": true,
           "gridcolor": "white",
           "linecolor": "white",
           "ticks": "",
           "title": {
            "standoff": 15
           },
           "zerolinecolor": "white",
           "zerolinewidth": 2
          },
          "yaxis": {
           "automargin": true,
           "gridcolor": "white",
           "linecolor": "white",
           "ticks": "",
           "title": {
            "standoff": 15
           },
           "zerolinecolor": "white",
           "zerolinewidth": 2
          }
         }
        },
        "title": {
         "font": {
          "color": "#4D5663"
         }
        },
        "xaxis": {
         "gridcolor": "#E1E5ED",
         "showgrid": true,
         "tickfont": {
          "color": "#4D5663"
         },
         "title": {
          "font": {
           "color": "#4D5663"
          },
          "text": ""
         },
         "zerolinecolor": "#E1E5ED"
        },
        "yaxis": {
         "gridcolor": "#E1E5ED",
         "showgrid": true,
         "tickfont": {
          "color": "#4D5663"
         },
         "title": {
          "font": {
           "color": "#4D5663"
          },
          "text": ""
         },
         "zerolinecolor": "#E1E5ED"
        }
       }
      },
      "text/html": [
       "<div>                            <div id=\"7f5de0cc-edc6-4e9c-a457-babb530dc3af\" class=\"plotly-graph-div\" style=\"height:525px; width:100%;\"></div>            <script type=\"text/javascript\">                require([\"plotly\"], function(Plotly) {                    window.PLOTLYENV=window.PLOTLYENV || {};\n",
       "                    window.PLOTLYENV.BASE_URL='https://plot.ly';                                    if (document.getElementById(\"7f5de0cc-edc6-4e9c-a457-babb530dc3af\")) {                    Plotly.newPlot(                        \"7f5de0cc-edc6-4e9c-a457-babb530dc3af\",                        [{\"colorscale\": [[0.0, \"rgb(165,0,38)\"], [0.1, \"rgb(215,48,39)\"], [0.2, \"rgb(244,109,67)\"], [0.3, \"rgb(253,174,97)\"], [0.4, \"rgb(254,224,144)\"], [0.5, \"rgb(255,255,191)\"], [0.6, \"rgb(224,243,248)\"], [0.7, \"rgb(171,217,233)\"], [0.8, \"rgb(116,173,209)\"], [0.9, \"rgb(69,117,180)\"], [1.0, \"rgb(49,54,149)\"]], \"type\": \"surface\", \"x\": [0, 1, 2, 3, 4], \"y\": [\"x\", \"y\", \"z\"], \"z\": [[1, 2, 3, 4, 5], [10, 20, 30, 20, 10], [5, 4, 3, 2, 1]]}],                        {\"legend\": {\"bgcolor\": \"#F5F6F9\", \"font\": {\"color\": \"#4D5663\"}}, \"paper_bgcolor\": \"#F5F6F9\", \"plot_bgcolor\": \"#F5F6F9\", \"template\": {\"data\": {\"bar\": [{\"error_x\": {\"color\": \"#2a3f5f\"}, \"error_y\": {\"color\": \"#2a3f5f\"}, \"marker\": {\"line\": {\"color\": \"#E5ECF6\", \"width\": 0.5}}, \"type\": \"bar\"}], \"barpolar\": [{\"marker\": {\"line\": {\"color\": \"#E5ECF6\", \"width\": 0.5}}, \"type\": \"barpolar\"}], \"carpet\": [{\"aaxis\": {\"endlinecolor\": \"#2a3f5f\", \"gridcolor\": \"white\", \"linecolor\": \"white\", \"minorgridcolor\": \"white\", \"startlinecolor\": \"#2a3f5f\"}, \"baxis\": {\"endlinecolor\": \"#2a3f5f\", \"gridcolor\": \"white\", \"linecolor\": \"white\", \"minorgridcolor\": \"white\", \"startlinecolor\": \"#2a3f5f\"}, \"type\": \"carpet\"}], \"choropleth\": [{\"colorbar\": {\"outlinewidth\": 0, \"ticks\": \"\"}, \"type\": \"choropleth\"}], \"contour\": [{\"colorbar\": {\"outlinewidth\": 0, \"ticks\": \"\"}, \"colorscale\": [[0.0, \"#0d0887\"], [0.1111111111111111, \"#46039f\"], [0.2222222222222222, \"#7201a8\"], [0.3333333333333333, \"#9c179e\"], [0.4444444444444444, \"#bd3786\"], [0.5555555555555556, \"#d8576b\"], [0.6666666666666666, \"#ed7953\"], [0.7777777777777778, \"#fb9f3a\"], [0.8888888888888888, \"#fdca26\"], [1.0, \"#f0f921\"]], \"type\": \"contour\"}], \"contourcarpet\": [{\"colorbar\": {\"outlinewidth\": 0, \"ticks\": \"\"}, \"type\": \"contourcarpet\"}], \"heatmap\": [{\"colorbar\": {\"outlinewidth\": 0, \"ticks\": \"\"}, \"colorscale\": [[0.0, \"#0d0887\"], [0.1111111111111111, \"#46039f\"], [0.2222222222222222, \"#7201a8\"], [0.3333333333333333, \"#9c179e\"], [0.4444444444444444, \"#bd3786\"], [0.5555555555555556, \"#d8576b\"], [0.6666666666666666, \"#ed7953\"], [0.7777777777777778, \"#fb9f3a\"], [0.8888888888888888, \"#fdca26\"], [1.0, \"#f0f921\"]], \"type\": \"heatmap\"}], \"heatmapgl\": [{\"colorbar\": {\"outlinewidth\": 0, \"ticks\": \"\"}, \"colorscale\": [[0.0, \"#0d0887\"], [0.1111111111111111, \"#46039f\"], [0.2222222222222222, \"#7201a8\"], [0.3333333333333333, \"#9c179e\"], [0.4444444444444444, \"#bd3786\"], [0.5555555555555556, \"#d8576b\"], [0.6666666666666666, \"#ed7953\"], [0.7777777777777778, \"#fb9f3a\"], [0.8888888888888888, \"#fdca26\"], [1.0, \"#f0f921\"]], \"type\": \"heatmapgl\"}], \"histogram\": [{\"marker\": {\"colorbar\": {\"outlinewidth\": 0, \"ticks\": \"\"}}, \"type\": \"histogram\"}], \"histogram2d\": [{\"colorbar\": {\"outlinewidth\": 0, \"ticks\": \"\"}, \"colorscale\": [[0.0, \"#0d0887\"], [0.1111111111111111, \"#46039f\"], [0.2222222222222222, \"#7201a8\"], [0.3333333333333333, \"#9c179e\"], [0.4444444444444444, \"#bd3786\"], [0.5555555555555556, \"#d8576b\"], [0.6666666666666666, \"#ed7953\"], [0.7777777777777778, \"#fb9f3a\"], [0.8888888888888888, \"#fdca26\"], [1.0, \"#f0f921\"]], \"type\": \"histogram2d\"}], \"histogram2dcontour\": [{\"colorbar\": {\"outlinewidth\": 0, \"ticks\": \"\"}, \"colorscale\": [[0.0, \"#0d0887\"], [0.1111111111111111, \"#46039f\"], [0.2222222222222222, \"#7201a8\"], [0.3333333333333333, \"#9c179e\"], [0.4444444444444444, \"#bd3786\"], [0.5555555555555556, \"#d8576b\"], [0.6666666666666666, \"#ed7953\"], [0.7777777777777778, \"#fb9f3a\"], [0.8888888888888888, \"#fdca26\"], [1.0, \"#f0f921\"]], \"type\": \"histogram2dcontour\"}], \"mesh3d\": [{\"colorbar\": {\"outlinewidth\": 0, \"ticks\": \"\"}, \"type\": \"mesh3d\"}], \"parcoords\": [{\"line\": {\"colorbar\": {\"outlinewidth\": 0, \"ticks\": \"\"}}, \"type\": \"parcoords\"}], \"pie\": [{\"automargin\": true, \"type\": \"pie\"}], \"scatter\": [{\"marker\": {\"colorbar\": {\"outlinewidth\": 0, \"ticks\": \"\"}}, \"type\": \"scatter\"}], \"scatter3d\": [{\"line\": {\"colorbar\": {\"outlinewidth\": 0, \"ticks\": \"\"}}, \"marker\": {\"colorbar\": {\"outlinewidth\": 0, \"ticks\": \"\"}}, \"type\": \"scatter3d\"}], \"scattercarpet\": [{\"marker\": {\"colorbar\": {\"outlinewidth\": 0, \"ticks\": \"\"}}, \"type\": \"scattercarpet\"}], \"scattergeo\": [{\"marker\": {\"colorbar\": {\"outlinewidth\": 0, \"ticks\": \"\"}}, \"type\": \"scattergeo\"}], \"scattergl\": [{\"marker\": {\"colorbar\": {\"outlinewidth\": 0, \"ticks\": \"\"}}, \"type\": \"scattergl\"}], \"scattermapbox\": [{\"marker\": {\"colorbar\": {\"outlinewidth\": 0, \"ticks\": \"\"}}, \"type\": \"scattermapbox\"}], \"scatterpolar\": [{\"marker\": {\"colorbar\": {\"outlinewidth\": 0, \"ticks\": \"\"}}, \"type\": \"scatterpolar\"}], \"scatterpolargl\": [{\"marker\": {\"colorbar\": {\"outlinewidth\": 0, \"ticks\": \"\"}}, \"type\": \"scatterpolargl\"}], \"scatterternary\": [{\"marker\": {\"colorbar\": {\"outlinewidth\": 0, \"ticks\": \"\"}}, \"type\": \"scatterternary\"}], \"surface\": [{\"colorbar\": {\"outlinewidth\": 0, \"ticks\": \"\"}, \"colorscale\": [[0.0, \"#0d0887\"], [0.1111111111111111, \"#46039f\"], [0.2222222222222222, \"#7201a8\"], [0.3333333333333333, \"#9c179e\"], [0.4444444444444444, \"#bd3786\"], [0.5555555555555556, \"#d8576b\"], [0.6666666666666666, \"#ed7953\"], [0.7777777777777778, \"#fb9f3a\"], [0.8888888888888888, \"#fdca26\"], [1.0, \"#f0f921\"]], \"type\": \"surface\"}], \"table\": [{\"cells\": {\"fill\": {\"color\": \"#EBF0F8\"}, \"line\": {\"color\": \"white\"}}, \"header\": {\"fill\": {\"color\": \"#C8D4E3\"}, \"line\": {\"color\": \"white\"}}, \"type\": \"table\"}]}, \"layout\": {\"annotationdefaults\": {\"arrowcolor\": \"#2a3f5f\", \"arrowhead\": 0, \"arrowwidth\": 1}, \"autotypenumbers\": \"strict\", \"coloraxis\": {\"colorbar\": {\"outlinewidth\": 0, \"ticks\": \"\"}}, \"colorscale\": {\"diverging\": [[0, \"#8e0152\"], [0.1, \"#c51b7d\"], [0.2, \"#de77ae\"], [0.3, \"#f1b6da\"], [0.4, \"#fde0ef\"], [0.5, \"#f7f7f7\"], [0.6, \"#e6f5d0\"], [0.7, \"#b8e186\"], [0.8, \"#7fbc41\"], [0.9, \"#4d9221\"], [1, \"#276419\"]], \"sequential\": [[0.0, \"#0d0887\"], [0.1111111111111111, \"#46039f\"], [0.2222222222222222, \"#7201a8\"], [0.3333333333333333, \"#9c179e\"], [0.4444444444444444, \"#bd3786\"], [0.5555555555555556, \"#d8576b\"], [0.6666666666666666, \"#ed7953\"], [0.7777777777777778, \"#fb9f3a\"], [0.8888888888888888, \"#fdca26\"], [1.0, \"#f0f921\"]], \"sequentialminus\": [[0.0, \"#0d0887\"], [0.1111111111111111, \"#46039f\"], [0.2222222222222222, \"#7201a8\"], [0.3333333333333333, \"#9c179e\"], [0.4444444444444444, \"#bd3786\"], [0.5555555555555556, \"#d8576b\"], [0.6666666666666666, \"#ed7953\"], [0.7777777777777778, \"#fb9f3a\"], [0.8888888888888888, \"#fdca26\"], [1.0, \"#f0f921\"]]}, \"colorway\": [\"#636efa\", \"#EF553B\", \"#00cc96\", \"#ab63fa\", \"#FFA15A\", \"#19d3f3\", \"#FF6692\", \"#B6E880\", \"#FF97FF\", \"#FECB52\"], \"font\": {\"color\": \"#2a3f5f\"}, \"geo\": {\"bgcolor\": \"white\", \"lakecolor\": \"white\", \"landcolor\": \"#E5ECF6\", \"showlakes\": true, \"showland\": true, \"subunitcolor\": \"white\"}, \"hoverlabel\": {\"align\": \"left\"}, \"hovermode\": \"closest\", \"mapbox\": {\"style\": \"light\"}, \"paper_bgcolor\": \"white\", \"plot_bgcolor\": \"#E5ECF6\", \"polar\": {\"angularaxis\": {\"gridcolor\": \"white\", \"linecolor\": \"white\", \"ticks\": \"\"}, \"bgcolor\": \"#E5ECF6\", \"radialaxis\": {\"gridcolor\": \"white\", \"linecolor\": \"white\", \"ticks\": \"\"}}, \"scene\": {\"xaxis\": {\"backgroundcolor\": \"#E5ECF6\", \"gridcolor\": \"white\", \"gridwidth\": 2, \"linecolor\": \"white\", \"showbackground\": true, \"ticks\": \"\", \"zerolinecolor\": \"white\"}, \"yaxis\": {\"backgroundcolor\": \"#E5ECF6\", \"gridcolor\": \"white\", \"gridwidth\": 2, \"linecolor\": \"white\", \"showbackground\": true, \"ticks\": \"\", \"zerolinecolor\": \"white\"}, \"zaxis\": {\"backgroundcolor\": \"#E5ECF6\", \"gridcolor\": \"white\", \"gridwidth\": 2, \"linecolor\": \"white\", \"showbackground\": true, \"ticks\": \"\", \"zerolinecolor\": \"white\"}}, \"shapedefaults\": {\"line\": {\"color\": \"#2a3f5f\"}}, \"ternary\": {\"aaxis\": {\"gridcolor\": \"white\", \"linecolor\": \"white\", \"ticks\": \"\"}, \"baxis\": {\"gridcolor\": \"white\", \"linecolor\": \"white\", \"ticks\": \"\"}, \"bgcolor\": \"#E5ECF6\", \"caxis\": {\"gridcolor\": \"white\", \"linecolor\": \"white\", \"ticks\": \"\"}}, \"title\": {\"x\": 0.05}, \"xaxis\": {\"automargin\": true, \"gridcolor\": \"white\", \"linecolor\": \"white\", \"ticks\": \"\", \"title\": {\"standoff\": 15}, \"zerolinecolor\": \"white\", \"zerolinewidth\": 2}, \"yaxis\": {\"automargin\": true, \"gridcolor\": \"white\", \"linecolor\": \"white\", \"ticks\": \"\", \"title\": {\"standoff\": 15}, \"zerolinecolor\": \"white\", \"zerolinewidth\": 2}}}, \"title\": {\"font\": {\"color\": \"#4D5663\"}}, \"xaxis\": {\"gridcolor\": \"#E1E5ED\", \"showgrid\": true, \"tickfont\": {\"color\": \"#4D5663\"}, \"title\": {\"font\": {\"color\": \"#4D5663\"}, \"text\": \"\"}, \"zerolinecolor\": \"#E1E5ED\"}, \"yaxis\": {\"gridcolor\": \"#E1E5ED\", \"showgrid\": true, \"tickfont\": {\"color\": \"#4D5663\"}, \"title\": {\"font\": {\"color\": \"#4D5663\"}, \"text\": \"\"}, \"zerolinecolor\": \"#E1E5ED\"}},                        {\"showLink\": true, \"linkText\": \"Export to plot.ly\", \"plotlyServerURL\": \"https://plot.ly\", \"responsive\": true}                    ).then(function(){\n",
       "                            \n",
       "var gd = document.getElementById('7f5de0cc-edc6-4e9c-a457-babb530dc3af');\n",
       "var x = new MutationObserver(function (mutations, observer) {{\n",
       "        var display = window.getComputedStyle(gd).display;\n",
       "        if (!display || display === 'none') {{\n",
       "            console.log([gd, 'removed!']);\n",
       "            Plotly.purge(gd);\n",
       "            observer.disconnect();\n",
       "        }}\n",
       "}});\n",
       "\n",
       "// Listen for the removal of the full notebook cells\n",
       "var notebookContainer = gd.closest('#notebook-container');\n",
       "if (notebookContainer) {{\n",
       "    x.observe(notebookContainer, {childList: true});\n",
       "}}\n",
       "\n",
       "// Listen for the clearing of the current output cell\n",
       "var outputEl = gd.closest('.output');\n",
       "if (outputEl) {{\n",
       "    x.observe(outputEl, {childList: true});\n",
       "}}\n",
       "\n",
       "                        })                };                });            </script>        </div>"
      ]
     },
     "metadata": {},
     "output_type": "display_data"
    }
   ],
   "source": [
    "df3 = pd.DataFrame({'x':[1,2,3,4,5],'y':[10,20,30,20,10],'z':[5,4,3,2,1]})\n",
    "df3.iplot(kind='surface',colorscale='rdylbu')"
   ]
  },
  {
   "cell_type": "markdown",
   "metadata": {},
   "source": [
    "## Spread"
   ]
  },
  {
   "cell_type": "code",
   "execution_count": 15,
   "metadata": {},
   "outputs": [
    {
     "name": "stderr",
     "output_type": "stream",
     "text": [
      "D:\\anaconda\\lib\\site-packages\\cufflinks\\plotlytools.py:849: FutureWarning:\n",
      "\n",
      "The pandas.np module is deprecated and will be removed from pandas in a future version. Import numpy directly instead\n",
      "\n",
      "D:\\anaconda\\lib\\site-packages\\cufflinks\\plotlytools.py:850: FutureWarning:\n",
      "\n",
      "The pandas.np module is deprecated and will be removed from pandas in a future version. Import numpy directly instead\n",
      "\n"
     ]
    },
    {
     "data": {
      "application/vnd.plotly.v1+json": {
       "config": {
        "linkText": "Export to plot.ly",
        "plotlyServerURL": "https://plot.ly",
        "showLink": true
       },
       "data": [
        {
         "line": {
          "color": "rgba(255, 153, 51, 1.0)",
          "dash": "solid",
          "shape": "linear",
          "width": 1.3
         },
         "mode": "lines",
         "name": "A",
         "text": "",
         "type": "scatter",
         "x": [
          0,
          1,
          2,
          3,
          4,
          5,
          6,
          7,
          8,
          9,
          10,
          11,
          12,
          13,
          14,
          15,
          16,
          17,
          18,
          19,
          20,
          21,
          22,
          23,
          24,
          25,
          26,
          27,
          28,
          29,
          30,
          31,
          32,
          33,
          34,
          35,
          36,
          37,
          38,
          39,
          40,
          41,
          42,
          43,
          44,
          45,
          46,
          47,
          48,
          49,
          50,
          51,
          52,
          53,
          54,
          55,
          56,
          57,
          58,
          59,
          60,
          61,
          62,
          63,
          64,
          65,
          66,
          67,
          68,
          69,
          70,
          71,
          72,
          73,
          74,
          75,
          76,
          77,
          78,
          79,
          80,
          81,
          82,
          83,
          84,
          85,
          86,
          87,
          88,
          89,
          90,
          91,
          92,
          93,
          94,
          95,
          96,
          97,
          98,
          99
         ],
         "y": [
          0.062403000348056896,
          0.682158388145421,
          0.3268464575434144,
          0.28422394171376936,
          -0.8930677967906131,
          0.041223291518847946,
          1.4782858523800568,
          -0.01722465247120283,
          0.20354506830826805,
          -0.4545305600633967,
          -0.38981019744658657,
          -1.3603820914539406,
          -0.1930434719473086,
          -0.4242067670561226,
          0.5805237728658952,
          0.0182563537413149,
          0.5893475068103087,
          0.03891119531541383,
          -1.1659803041570214,
          -1.4954814632608548,
          0.6410459252420906,
          -1.8173897668947723,
          1.1476736695558079,
          -0.008637510156530056,
          0.7333610287703045,
          -0.00341856027323607,
          -0.1705957221128231,
          -0.2755653598251552,
          -0.7028999920512963,
          -0.7686762441966566,
          -1.4320039221064242,
          -0.3777920709864464,
          -0.7893304727600577,
          -1.462585693582685,
          0.25606012549675394,
          -0.7328012321850637,
          0.9282689238426763,
          1.1757725189552224,
          0.5497232961895439,
          1.3504414595074608,
          0.36879921331976007,
          0.6474329912861589,
          0.3425748143184703,
          -0.5524096866845196,
          0.22771702810119573,
          -0.01856107928186663,
          -0.505035272141574,
          1.83767051387475,
          0.7758446792672782,
          0.49530351834577024,
          -0.8959516679869598,
          0.19244410049328461,
          -0.028152661422717846,
          0.2446391640032037,
          -0.8544538723417219,
          -1.1987174971252845,
          -1.0351821498442066,
          1.630876494005205,
          -1.1732747762090505,
          -0.6522848289203391,
          -1.166608830105591,
          -0.6660716373175085,
          0.49650677118547343,
          0.280945589781803,
          2.590006720593593,
          0.4641214459824001,
          0.4167417130776699,
          0.814643013951977,
          -2.135518795380281,
          0.6136241313529066,
          -0.9426705484649059,
          1.050069499491585,
          1.478207789341703,
          -0.6391499024396073,
          1.1037544258288825,
          1.598744213446337,
          -0.9214180706170372,
          -1.2027125149729223,
          -0.8141297322283779,
          0.4167869704791297,
          -0.5529385483286148,
          0.3472229204713509,
          0.718239409702939,
          -0.28359798177231077,
          -0.39401886897279204,
          -0.8053865090960546,
          0.31592140452817635,
          1.2882667023943803,
          0.6850003377061532,
          -1.653096366834222,
          0.10423440668142835,
          -1.1225488317606467,
          -0.7634534972151744,
          0.845927206975368,
          2.4774967936593364,
          -1.1920806362525922,
          -0.932594950136978,
          2.440937192420902,
          -1.0872222548948827,
          0.8000874593014355
         ]
        },
        {
         "line": {
          "color": "rgba(55, 128, 191, 1.0)",
          "dash": "solid",
          "shape": "linear",
          "width": 1.3
         },
         "mode": "lines",
         "name": "B",
         "text": "",
         "type": "scatter",
         "x": [
          0,
          1,
          2,
          3,
          4,
          5,
          6,
          7,
          8,
          9,
          10,
          11,
          12,
          13,
          14,
          15,
          16,
          17,
          18,
          19,
          20,
          21,
          22,
          23,
          24,
          25,
          26,
          27,
          28,
          29,
          30,
          31,
          32,
          33,
          34,
          35,
          36,
          37,
          38,
          39,
          40,
          41,
          42,
          43,
          44,
          45,
          46,
          47,
          48,
          49,
          50,
          51,
          52,
          53,
          54,
          55,
          56,
          57,
          58,
          59,
          60,
          61,
          62,
          63,
          64,
          65,
          66,
          67,
          68,
          69,
          70,
          71,
          72,
          73,
          74,
          75,
          76,
          77,
          78,
          79,
          80,
          81,
          82,
          83,
          84,
          85,
          86,
          87,
          88,
          89,
          90,
          91,
          92,
          93,
          94,
          95,
          96,
          97,
          98,
          99
         ],
         "y": [
          -1.2990683753780665,
          1.624681381422417,
          1.1050144336626813,
          -0.18855637354967572,
          0.48478649153248393,
          -0.1518918367515998,
          -0.7101304630074858,
          -0.8314894580215793,
          0.14864838275340203,
          -0.9883549688724185,
          0.2619736329233981,
          0.433341791706317,
          0.4144785136898204,
          0.5033067567904287,
          1.4965554538363868,
          1.956617306686328,
          -0.578245281812172,
          -1.4174671610760066,
          0.2509113970016073,
          -0.6854460438222966,
          0.23852252212573566,
          -0.4374775713005923,
          0.7413855687297202,
          0.10556881914297436,
          0.1585873008040566,
          2.233260861019369,
          -0.09929731120607435,
          0.7241044725523446,
          0.535088540547648,
          0.5580949721210654,
          -0.11338290316044461,
          -0.7731897813122994,
          -0.45846386467525907,
          -0.2617599441544949,
          -0.6477024075551885,
          -1.4554017026133887,
          0.24741918994602477,
          -0.22522232259468344,
          0.5469031092445472,
          -0.2815805553595161,
          -0.14730474978832764,
          2.152082602828211,
          -0.5849732814667612,
          -1.1672480227212263,
          -1.936000387514932,
          -0.6068892020585201,
          -0.004093622653018009,
          1.768152919880954,
          -0.47379149100178425,
          0.4096662408886199,
          -0.8298725088760005,
          0.23714593080153104,
          1.7182916716167476,
          -0.5536416369860518,
          -0.5008585162696602,
          0.12531474389952071,
          -0.3102922723523502,
          0.3212082519347096,
          0.1273991345162948,
          1.4676643819725206,
          -0.00954134812271558,
          -2.515191437159899,
          0.2858322905211471,
          1.6148968929893681,
          -0.41540727418007933,
          0.7432364152956532,
          0.08943293717910389,
          0.45863524503738756,
          -1.5130666419626568,
          0.25537119307039896,
          0.646208704821914,
          0.14045644314235028,
          -1.654436346805644,
          -1.2485137655752985,
          -1.220472804150455,
          0.5874098939074718,
          -0.8832102261481436,
          -0.7988314318980299,
          -0.573780450292032,
          -1.0383213758032692,
          -0.6318717788688629,
          0.00039752972621937476,
          1.1981581595577502,
          -2.5099274433561014,
          -0.2712993286356339,
          0.18780065535996154,
          -0.5580110046021268,
          -1.373552616923043,
          -0.08136658740476707,
          -0.500895465414146,
          -0.28648841769671246,
          0.760700335336526,
          1.2828632663819213,
          0.6375084363947762,
          0.09553303045392961,
          0.9602945758003074,
          1.264248937029117,
          -0.12940953282095385,
          -1.8627436208339199,
          -0.35263576599728114
         ]
        },
        {
         "connectgaps": false,
         "fill": "tozeroy",
         "line": {
          "color": "green",
          "dash": "solid",
          "shape": "linear",
          "width": 0.5
         },
         "mode": "lines",
         "name": "Spread",
         "showlegend": false,
         "type": "scatter",
         "x": [
          0,
          1,
          2,
          3,
          4,
          5,
          6,
          7,
          8,
          9,
          10,
          11,
          12,
          13,
          14,
          15,
          16,
          17,
          18,
          19,
          20,
          21,
          22,
          23,
          24,
          25,
          26,
          27,
          28,
          29,
          30,
          31,
          32,
          33,
          34,
          35,
          36,
          37,
          38,
          39,
          40,
          41,
          42,
          43,
          44,
          45,
          46,
          47,
          48,
          49,
          50,
          51,
          52,
          53,
          54,
          55,
          56,
          57,
          58,
          59,
          60,
          61,
          62,
          63,
          64,
          65,
          66,
          67,
          68,
          69,
          70,
          71,
          72,
          73,
          74,
          75,
          76,
          77,
          78,
          79,
          80,
          81,
          82,
          83,
          84,
          85,
          86,
          87,
          88,
          89,
          90,
          91,
          92,
          93,
          94,
          95,
          96,
          97,
          98,
          99
         ],
         "xaxis": "x2",
         "y": [
          1.3614713757261234,
          "",
          "",
          0.4727803152634451,
          "",
          0.19311512827044774,
          2.188416315387543,
          0.8142648055503764,
          0.054896685554866015,
          0.5338244088090218,
          "",
          "",
          "",
          "",
          "",
          "",
          1.1675927886224806,
          1.4563783563914203,
          "",
          "",
          0.4025234031163549,
          "",
          0.4062881008260877,
          "",
          0.5747737279662479,
          "",
          "",
          "",
          "",
          "",
          "",
          0.395397710325853,
          "",
          "",
          0.9037625330519424,
          0.7226004704283251,
          0.6808497338966516,
          1.4009948415499058,
          0.002820186944996639,
          1.6320220148669768,
          0.5161039631080877,
          "",
          0.9275480957852316,
          0.6148383360367067,
          2.163717415616128,
          0.5883281227766535,
          "",
          0.06951759399379598,
          1.2496361702690624,
          0.08563727745715033,
          "",
          "",
          "",
          0.7982808009892556,
          "",
          "",
          "",
          1.3096682420704955,
          "",
          "",
          "",
          1.8491197998423905,
          0.2106744806643263,
          "",
          3.005413994773672,
          "",
          0.327308775898566,
          0.35600776891458946,
          "",
          0.35825293828250765,
          "",
          0.9096130563492346,
          3.1326441361473467,
          0.6093638631356911,
          2.3242272299793374,
          1.0113343195388653,
          "",
          "",
          "",
          1.4551083462823988,
          0.07893323054024814,
          0.3468253907451315,
          "",
          2.2263294615837905,
          "",
          "",
          0.8739324091303031,
          2.6618193193174235,
          0.7663669251109203,
          "",
          0.3907228243781408,
          "",
          "",
          0.20841877058059188,
          2.3819637632054067,
          "",
          "",
          2.5703467252418557,
          0.7755213659390372,
          1.1527232252987167
         ],
         "yaxis": "y2"
        },
        {
         "connectgaps": false,
         "fill": "tozeroy",
         "line": {
          "color": "red",
          "dash": "solid",
          "shape": "linear",
          "width": 0.5
         },
         "mode": "lines",
         "name": "Spread",
         "showlegend": false,
         "type": "scatter",
         "x": [
          0,
          1,
          2,
          3,
          4,
          5,
          6,
          7,
          8,
          9,
          10,
          11,
          12,
          13,
          14,
          15,
          16,
          17,
          18,
          19,
          20,
          21,
          22,
          23,
          24,
          25,
          26,
          27,
          28,
          29,
          30,
          31,
          32,
          33,
          34,
          35,
          36,
          37,
          38,
          39,
          40,
          41,
          42,
          43,
          44,
          45,
          46,
          47,
          48,
          49,
          50,
          51,
          52,
          53,
          54,
          55,
          56,
          57,
          58,
          59,
          60,
          61,
          62,
          63,
          64,
          65,
          66,
          67,
          68,
          69,
          70,
          71,
          72,
          73,
          74,
          75,
          76,
          77,
          78,
          79,
          80,
          81,
          82,
          83,
          84,
          85,
          86,
          87,
          88,
          89,
          90,
          91,
          92,
          93,
          94,
          95,
          96,
          97,
          98,
          99
         ],
         "xaxis": "x2",
         "y": [
          "",
          -0.9425229932769961,
          -0.7781679761192668,
          "",
          -1.377854288323097,
          "",
          "",
          "",
          "",
          "",
          -0.6517838303699847,
          -1.7937238831602575,
          -0.607521985637129,
          -0.9275135238465513,
          -0.9160316809704916,
          -1.938360952945013,
          "",
          "",
          -1.4168917011586286,
          -0.8100354194385583,
          "",
          -1.37991219559418,
          "",
          -0.11420632929950442,
          "",
          -2.2366794212926053,
          -0.07129841090674874,
          -0.9996698323774997,
          -1.2379885325989441,
          -1.3267712163177219,
          -1.3186210189459797,
          "",
          -0.3308666080847987,
          -1.2008257494281902,
          "",
          "",
          "",
          "",
          "",
          "",
          "",
          -1.504649611542052,
          "",
          "",
          "",
          "",
          -0.5009416494885559,
          "",
          "",
          "",
          -0.0660791591109593,
          -0.044701830308246426,
          -1.7464443330394654,
          "",
          -0.3535953560720617,
          -1.3240322410248053,
          -0.7248898774918564,
          "",
          -1.3006739107253453,
          -2.1199492108928597,
          -1.1570674819828755,
          "",
          "",
          -1.3339513032075652,
          "",
          -0.2791149693132531,
          "",
          "",
          -0.6224521534176242,
          "",
          -1.58887925328682,
          "",
          "",
          "",
          "",
          "",
          -0.03820784446889358,
          -0.40388108307489246,
          -0.24034928193634597,
          "",
          "",
          "",
          -0.4799187498548112,
          "",
          -0.12271954033715815,
          -0.9931871644560162,
          "",
          "",
          "",
          -1.152200901420076,
          "",
          -1.8832491670971727,
          -2.046316763597096,
          "",
          "",
          -2.1523752120529,
          -2.196843887166095,
          "",
          "",
          ""
         ],
         "yaxis": "y2"
        }
       ],
       "layout": {
        "hovermode": "x",
        "legend": {
         "bgcolor": "#F5F6F9",
         "font": {
          "color": "#4D5663"
         }
        },
        "paper_bgcolor": "#F5F6F9",
        "plot_bgcolor": "#F5F6F9",
        "template": {
         "data": {
          "bar": [
           {
            "error_x": {
             "color": "#2a3f5f"
            },
            "error_y": {
             "color": "#2a3f5f"
            },
            "marker": {
             "line": {
              "color": "#E5ECF6",
              "width": 0.5
             }
            },
            "type": "bar"
           }
          ],
          "barpolar": [
           {
            "marker": {
             "line": {
              "color": "#E5ECF6",
              "width": 0.5
             }
            },
            "type": "barpolar"
           }
          ],
          "carpet": [
           {
            "aaxis": {
             "endlinecolor": "#2a3f5f",
             "gridcolor": "white",
             "linecolor": "white",
             "minorgridcolor": "white",
             "startlinecolor": "#2a3f5f"
            },
            "baxis": {
             "endlinecolor": "#2a3f5f",
             "gridcolor": "white",
             "linecolor": "white",
             "minorgridcolor": "white",
             "startlinecolor": "#2a3f5f"
            },
            "type": "carpet"
           }
          ],
          "choropleth": [
           {
            "colorbar": {
             "outlinewidth": 0,
             "ticks": ""
            },
            "type": "choropleth"
           }
          ],
          "contour": [
           {
            "colorbar": {
             "outlinewidth": 0,
             "ticks": ""
            },
            "colorscale": [
             [
              0,
              "#0d0887"
             ],
             [
              0.1111111111111111,
              "#46039f"
             ],
             [
              0.2222222222222222,
              "#7201a8"
             ],
             [
              0.3333333333333333,
              "#9c179e"
             ],
             [
              0.4444444444444444,
              "#bd3786"
             ],
             [
              0.5555555555555556,
              "#d8576b"
             ],
             [
              0.6666666666666666,
              "#ed7953"
             ],
             [
              0.7777777777777778,
              "#fb9f3a"
             ],
             [
              0.8888888888888888,
              "#fdca26"
             ],
             [
              1,
              "#f0f921"
             ]
            ],
            "type": "contour"
           }
          ],
          "contourcarpet": [
           {
            "colorbar": {
             "outlinewidth": 0,
             "ticks": ""
            },
            "type": "contourcarpet"
           }
          ],
          "heatmap": [
           {
            "colorbar": {
             "outlinewidth": 0,
             "ticks": ""
            },
            "colorscale": [
             [
              0,
              "#0d0887"
             ],
             [
              0.1111111111111111,
              "#46039f"
             ],
             [
              0.2222222222222222,
              "#7201a8"
             ],
             [
              0.3333333333333333,
              "#9c179e"
             ],
             [
              0.4444444444444444,
              "#bd3786"
             ],
             [
              0.5555555555555556,
              "#d8576b"
             ],
             [
              0.6666666666666666,
              "#ed7953"
             ],
             [
              0.7777777777777778,
              "#fb9f3a"
             ],
             [
              0.8888888888888888,
              "#fdca26"
             ],
             [
              1,
              "#f0f921"
             ]
            ],
            "type": "heatmap"
           }
          ],
          "heatmapgl": [
           {
            "colorbar": {
             "outlinewidth": 0,
             "ticks": ""
            },
            "colorscale": [
             [
              0,
              "#0d0887"
             ],
             [
              0.1111111111111111,
              "#46039f"
             ],
             [
              0.2222222222222222,
              "#7201a8"
             ],
             [
              0.3333333333333333,
              "#9c179e"
             ],
             [
              0.4444444444444444,
              "#bd3786"
             ],
             [
              0.5555555555555556,
              "#d8576b"
             ],
             [
              0.6666666666666666,
              "#ed7953"
             ],
             [
              0.7777777777777778,
              "#fb9f3a"
             ],
             [
              0.8888888888888888,
              "#fdca26"
             ],
             [
              1,
              "#f0f921"
             ]
            ],
            "type": "heatmapgl"
           }
          ],
          "histogram": [
           {
            "marker": {
             "colorbar": {
              "outlinewidth": 0,
              "ticks": ""
             }
            },
            "type": "histogram"
           }
          ],
          "histogram2d": [
           {
            "colorbar": {
             "outlinewidth": 0,
             "ticks": ""
            },
            "colorscale": [
             [
              0,
              "#0d0887"
             ],
             [
              0.1111111111111111,
              "#46039f"
             ],
             [
              0.2222222222222222,
              "#7201a8"
             ],
             [
              0.3333333333333333,
              "#9c179e"
             ],
             [
              0.4444444444444444,
              "#bd3786"
             ],
             [
              0.5555555555555556,
              "#d8576b"
             ],
             [
              0.6666666666666666,
              "#ed7953"
             ],
             [
              0.7777777777777778,
              "#fb9f3a"
             ],
             [
              0.8888888888888888,
              "#fdca26"
             ],
             [
              1,
              "#f0f921"
             ]
            ],
            "type": "histogram2d"
           }
          ],
          "histogram2dcontour": [
           {
            "colorbar": {
             "outlinewidth": 0,
             "ticks": ""
            },
            "colorscale": [
             [
              0,
              "#0d0887"
             ],
             [
              0.1111111111111111,
              "#46039f"
             ],
             [
              0.2222222222222222,
              "#7201a8"
             ],
             [
              0.3333333333333333,
              "#9c179e"
             ],
             [
              0.4444444444444444,
              "#bd3786"
             ],
             [
              0.5555555555555556,
              "#d8576b"
             ],
             [
              0.6666666666666666,
              "#ed7953"
             ],
             [
              0.7777777777777778,
              "#fb9f3a"
             ],
             [
              0.8888888888888888,
              "#fdca26"
             ],
             [
              1,
              "#f0f921"
             ]
            ],
            "type": "histogram2dcontour"
           }
          ],
          "mesh3d": [
           {
            "colorbar": {
             "outlinewidth": 0,
             "ticks": ""
            },
            "type": "mesh3d"
           }
          ],
          "parcoords": [
           {
            "line": {
             "colorbar": {
              "outlinewidth": 0,
              "ticks": ""
             }
            },
            "type": "parcoords"
           }
          ],
          "pie": [
           {
            "automargin": true,
            "type": "pie"
           }
          ],
          "scatter": [
           {
            "marker": {
             "colorbar": {
              "outlinewidth": 0,
              "ticks": ""
             }
            },
            "type": "scatter"
           }
          ],
          "scatter3d": [
           {
            "line": {
             "colorbar": {
              "outlinewidth": 0,
              "ticks": ""
             }
            },
            "marker": {
             "colorbar": {
              "outlinewidth": 0,
              "ticks": ""
             }
            },
            "type": "scatter3d"
           }
          ],
          "scattercarpet": [
           {
            "marker": {
             "colorbar": {
              "outlinewidth": 0,
              "ticks": ""
             }
            },
            "type": "scattercarpet"
           }
          ],
          "scattergeo": [
           {
            "marker": {
             "colorbar": {
              "outlinewidth": 0,
              "ticks": ""
             }
            },
            "type": "scattergeo"
           }
          ],
          "scattergl": [
           {
            "marker": {
             "colorbar": {
              "outlinewidth": 0,
              "ticks": ""
             }
            },
            "type": "scattergl"
           }
          ],
          "scattermapbox": [
           {
            "marker": {
             "colorbar": {
              "outlinewidth": 0,
              "ticks": ""
             }
            },
            "type": "scattermapbox"
           }
          ],
          "scatterpolar": [
           {
            "marker": {
             "colorbar": {
              "outlinewidth": 0,
              "ticks": ""
             }
            },
            "type": "scatterpolar"
           }
          ],
          "scatterpolargl": [
           {
            "marker": {
             "colorbar": {
              "outlinewidth": 0,
              "ticks": ""
             }
            },
            "type": "scatterpolargl"
           }
          ],
          "scatterternary": [
           {
            "marker": {
             "colorbar": {
              "outlinewidth": 0,
              "ticks": ""
             }
            },
            "type": "scatterternary"
           }
          ],
          "surface": [
           {
            "colorbar": {
             "outlinewidth": 0,
             "ticks": ""
            },
            "colorscale": [
             [
              0,
              "#0d0887"
             ],
             [
              0.1111111111111111,
              "#46039f"
             ],
             [
              0.2222222222222222,
              "#7201a8"
             ],
             [
              0.3333333333333333,
              "#9c179e"
             ],
             [
              0.4444444444444444,
              "#bd3786"
             ],
             [
              0.5555555555555556,
              "#d8576b"
             ],
             [
              0.6666666666666666,
              "#ed7953"
             ],
             [
              0.7777777777777778,
              "#fb9f3a"
             ],
             [
              0.8888888888888888,
              "#fdca26"
             ],
             [
              1,
              "#f0f921"
             ]
            ],
            "type": "surface"
           }
          ],
          "table": [
           {
            "cells": {
             "fill": {
              "color": "#EBF0F8"
             },
             "line": {
              "color": "white"
             }
            },
            "header": {
             "fill": {
              "color": "#C8D4E3"
             },
             "line": {
              "color": "white"
             }
            },
            "type": "table"
           }
          ]
         },
         "layout": {
          "annotationdefaults": {
           "arrowcolor": "#2a3f5f",
           "arrowhead": 0,
           "arrowwidth": 1
          },
          "autotypenumbers": "strict",
          "coloraxis": {
           "colorbar": {
            "outlinewidth": 0,
            "ticks": ""
           }
          },
          "colorscale": {
           "diverging": [
            [
             0,
             "#8e0152"
            ],
            [
             0.1,
             "#c51b7d"
            ],
            [
             0.2,
             "#de77ae"
            ],
            [
             0.3,
             "#f1b6da"
            ],
            [
             0.4,
             "#fde0ef"
            ],
            [
             0.5,
             "#f7f7f7"
            ],
            [
             0.6,
             "#e6f5d0"
            ],
            [
             0.7,
             "#b8e186"
            ],
            [
             0.8,
             "#7fbc41"
            ],
            [
             0.9,
             "#4d9221"
            ],
            [
             1,
             "#276419"
            ]
           ],
           "sequential": [
            [
             0,
             "#0d0887"
            ],
            [
             0.1111111111111111,
             "#46039f"
            ],
            [
             0.2222222222222222,
             "#7201a8"
            ],
            [
             0.3333333333333333,
             "#9c179e"
            ],
            [
             0.4444444444444444,
             "#bd3786"
            ],
            [
             0.5555555555555556,
             "#d8576b"
            ],
            [
             0.6666666666666666,
             "#ed7953"
            ],
            [
             0.7777777777777778,
             "#fb9f3a"
            ],
            [
             0.8888888888888888,
             "#fdca26"
            ],
            [
             1,
             "#f0f921"
            ]
           ],
           "sequentialminus": [
            [
             0,
             "#0d0887"
            ],
            [
             0.1111111111111111,
             "#46039f"
            ],
            [
             0.2222222222222222,
             "#7201a8"
            ],
            [
             0.3333333333333333,
             "#9c179e"
            ],
            [
             0.4444444444444444,
             "#bd3786"
            ],
            [
             0.5555555555555556,
             "#d8576b"
            ],
            [
             0.6666666666666666,
             "#ed7953"
            ],
            [
             0.7777777777777778,
             "#fb9f3a"
            ],
            [
             0.8888888888888888,
             "#fdca26"
            ],
            [
             1,
             "#f0f921"
            ]
           ]
          },
          "colorway": [
           "#636efa",
           "#EF553B",
           "#00cc96",
           "#ab63fa",
           "#FFA15A",
           "#19d3f3",
           "#FF6692",
           "#B6E880",
           "#FF97FF",
           "#FECB52"
          ],
          "font": {
           "color": "#2a3f5f"
          },
          "geo": {
           "bgcolor": "white",
           "lakecolor": "white",
           "landcolor": "#E5ECF6",
           "showlakes": true,
           "showland": true,
           "subunitcolor": "white"
          },
          "hoverlabel": {
           "align": "left"
          },
          "hovermode": "closest",
          "mapbox": {
           "style": "light"
          },
          "paper_bgcolor": "white",
          "plot_bgcolor": "#E5ECF6",
          "polar": {
           "angularaxis": {
            "gridcolor": "white",
            "linecolor": "white",
            "ticks": ""
           },
           "bgcolor": "#E5ECF6",
           "radialaxis": {
            "gridcolor": "white",
            "linecolor": "white",
            "ticks": ""
           }
          },
          "scene": {
           "xaxis": {
            "backgroundcolor": "#E5ECF6",
            "gridcolor": "white",
            "gridwidth": 2,
            "linecolor": "white",
            "showbackground": true,
            "ticks": "",
            "zerolinecolor": "white"
           },
           "yaxis": {
            "backgroundcolor": "#E5ECF6",
            "gridcolor": "white",
            "gridwidth": 2,
            "linecolor": "white",
            "showbackground": true,
            "ticks": "",
            "zerolinecolor": "white"
           },
           "zaxis": {
            "backgroundcolor": "#E5ECF6",
            "gridcolor": "white",
            "gridwidth": 2,
            "linecolor": "white",
            "showbackground": true,
            "ticks": "",
            "zerolinecolor": "white"
           }
          },
          "shapedefaults": {
           "line": {
            "color": "#2a3f5f"
           }
          },
          "ternary": {
           "aaxis": {
            "gridcolor": "white",
            "linecolor": "white",
            "ticks": ""
           },
           "baxis": {
            "gridcolor": "white",
            "linecolor": "white",
            "ticks": ""
           },
           "bgcolor": "#E5ECF6",
           "caxis": {
            "gridcolor": "white",
            "linecolor": "white",
            "ticks": ""
           }
          },
          "title": {
           "x": 0.05
          },
          "xaxis": {
           "automargin": true,
           "gridcolor": "white",
           "linecolor": "white",
           "ticks": "",
           "title": {
            "standoff": 15
           },
           "zerolinecolor": "white",
           "zerolinewidth": 2
          },
          "yaxis": {
           "automargin": true,
           "gridcolor": "white",
           "linecolor": "white",
           "ticks": "",
           "title": {
            "standoff": 15
           },
           "zerolinecolor": "white",
           "zerolinewidth": 2
          }
         }
        },
        "title": {
         "font": {
          "color": "#4D5663"
         }
        },
        "xaxis": {
         "gridcolor": "#E1E5ED",
         "showgrid": true,
         "tickfont": {
          "color": "#4D5663"
         },
         "title": {
          "font": {
           "color": "#4D5663"
          },
          "text": ""
         },
         "zerolinecolor": "#E1E5ED"
        },
        "xaxis2": {
         "anchor": "y2",
         "gridcolor": "#E1E5ED",
         "showgrid": true,
         "showticklabels": false,
         "tickfont": {
          "color": "#4D5663"
         },
         "title": {
          "font": {
           "color": "#4D5663"
          },
          "text": ""
         },
         "zerolinecolor": "#E1E5ED"
        },
        "yaxis": {
         "domain": [
          0.3,
          1
         ],
         "gridcolor": "#E1E5ED",
         "showgrid": true,
         "tickfont": {
          "color": "#4D5663"
         },
         "title": {
          "font": {
           "color": "#4D5663"
          },
          "text": ""
         },
         "zerolinecolor": "#E1E5ED"
        },
        "yaxis2": {
         "domain": [
          0,
          0.25
         ],
         "gridcolor": "#E1E5ED",
         "showgrid": true,
         "tickfont": {
          "color": "#4D5663"
         },
         "title": {
          "font": {
           "color": "#4D5663"
          },
          "text": "Spread"
         },
         "zerolinecolor": "#E1E5ED"
        }
       }
      },
      "text/html": [
       "<div>                            <div id=\"6073c3e2-aca9-47cb-a6de-e37b929a2153\" class=\"plotly-graph-div\" style=\"height:525px; width:100%;\"></div>            <script type=\"text/javascript\">                require([\"plotly\"], function(Plotly) {                    window.PLOTLYENV=window.PLOTLYENV || {};\n",
       "                    window.PLOTLYENV.BASE_URL='https://plot.ly';                                    if (document.getElementById(\"6073c3e2-aca9-47cb-a6de-e37b929a2153\")) {                    Plotly.newPlot(                        \"6073c3e2-aca9-47cb-a6de-e37b929a2153\",                        [{\"line\": {\"color\": \"rgba(255, 153, 51, 1.0)\", \"dash\": \"solid\", \"shape\": \"linear\", \"width\": 1.3}, \"mode\": \"lines\", \"name\": \"A\", \"text\": \"\", \"type\": \"scatter\", \"x\": [0, 1, 2, 3, 4, 5, 6, 7, 8, 9, 10, 11, 12, 13, 14, 15, 16, 17, 18, 19, 20, 21, 22, 23, 24, 25, 26, 27, 28, 29, 30, 31, 32, 33, 34, 35, 36, 37, 38, 39, 40, 41, 42, 43, 44, 45, 46, 47, 48, 49, 50, 51, 52, 53, 54, 55, 56, 57, 58, 59, 60, 61, 62, 63, 64, 65, 66, 67, 68, 69, 70, 71, 72, 73, 74, 75, 76, 77, 78, 79, 80, 81, 82, 83, 84, 85, 86, 87, 88, 89, 90, 91, 92, 93, 94, 95, 96, 97, 98, 99], \"y\": [0.062403000348056896, 0.682158388145421, 0.3268464575434144, 0.28422394171376936, -0.8930677967906131, 0.041223291518847946, 1.4782858523800568, -0.01722465247120283, 0.20354506830826805, -0.4545305600633967, -0.38981019744658657, -1.3603820914539406, -0.1930434719473086, -0.4242067670561226, 0.5805237728658952, 0.0182563537413149, 0.5893475068103087, 0.03891119531541383, -1.1659803041570214, -1.4954814632608548, 0.6410459252420906, -1.8173897668947723, 1.1476736695558079, -0.008637510156530056, 0.7333610287703045, -0.00341856027323607, -0.1705957221128231, -0.2755653598251552, -0.7028999920512963, -0.7686762441966566, -1.4320039221064242, -0.3777920709864464, -0.7893304727600577, -1.462585693582685, 0.25606012549675394, -0.7328012321850637, 0.9282689238426763, 1.1757725189552224, 0.5497232961895439, 1.3504414595074608, 0.36879921331976007, 0.6474329912861589, 0.3425748143184703, -0.5524096866845196, 0.22771702810119573, -0.01856107928186663, -0.505035272141574, 1.83767051387475, 0.7758446792672782, 0.49530351834577024, -0.8959516679869598, 0.19244410049328461, -0.028152661422717846, 0.2446391640032037, -0.8544538723417219, -1.1987174971252845, -1.0351821498442066, 1.630876494005205, -1.1732747762090505, -0.6522848289203391, -1.166608830105591, -0.6660716373175085, 0.49650677118547343, 0.280945589781803, 2.590006720593593, 0.4641214459824001, 0.4167417130776699, 0.814643013951977, -2.135518795380281, 0.6136241313529066, -0.9426705484649059, 1.050069499491585, 1.478207789341703, -0.6391499024396073, 1.1037544258288825, 1.598744213446337, -0.9214180706170372, -1.2027125149729223, -0.8141297322283779, 0.4167869704791297, -0.5529385483286148, 0.3472229204713509, 0.718239409702939, -0.28359798177231077, -0.39401886897279204, -0.8053865090960546, 0.31592140452817635, 1.2882667023943803, 0.6850003377061532, -1.653096366834222, 0.10423440668142835, -1.1225488317606467, -0.7634534972151744, 0.845927206975368, 2.4774967936593364, -1.1920806362525922, -0.932594950136978, 2.440937192420902, -1.0872222548948827, 0.8000874593014355]}, {\"line\": {\"color\": \"rgba(55, 128, 191, 1.0)\", \"dash\": \"solid\", \"shape\": \"linear\", \"width\": 1.3}, \"mode\": \"lines\", \"name\": \"B\", \"text\": \"\", \"type\": \"scatter\", \"x\": [0, 1, 2, 3, 4, 5, 6, 7, 8, 9, 10, 11, 12, 13, 14, 15, 16, 17, 18, 19, 20, 21, 22, 23, 24, 25, 26, 27, 28, 29, 30, 31, 32, 33, 34, 35, 36, 37, 38, 39, 40, 41, 42, 43, 44, 45, 46, 47, 48, 49, 50, 51, 52, 53, 54, 55, 56, 57, 58, 59, 60, 61, 62, 63, 64, 65, 66, 67, 68, 69, 70, 71, 72, 73, 74, 75, 76, 77, 78, 79, 80, 81, 82, 83, 84, 85, 86, 87, 88, 89, 90, 91, 92, 93, 94, 95, 96, 97, 98, 99], \"y\": [-1.2990683753780665, 1.624681381422417, 1.1050144336626813, -0.18855637354967572, 0.48478649153248393, -0.1518918367515998, -0.7101304630074858, -0.8314894580215793, 0.14864838275340203, -0.9883549688724185, 0.2619736329233981, 0.433341791706317, 0.4144785136898204, 0.5033067567904287, 1.4965554538363868, 1.956617306686328, -0.578245281812172, -1.4174671610760066, 0.2509113970016073, -0.6854460438222966, 0.23852252212573566, -0.4374775713005923, 0.7413855687297202, 0.10556881914297436, 0.1585873008040566, 2.233260861019369, -0.09929731120607435, 0.7241044725523446, 0.535088540547648, 0.5580949721210654, -0.11338290316044461, -0.7731897813122994, -0.45846386467525907, -0.2617599441544949, -0.6477024075551885, -1.4554017026133887, 0.24741918994602477, -0.22522232259468344, 0.5469031092445472, -0.2815805553595161, -0.14730474978832764, 2.152082602828211, -0.5849732814667612, -1.1672480227212263, -1.936000387514932, -0.6068892020585201, -0.004093622653018009, 1.768152919880954, -0.47379149100178425, 0.4096662408886199, -0.8298725088760005, 0.23714593080153104, 1.7182916716167476, -0.5536416369860518, -0.5008585162696602, 0.12531474389952071, -0.3102922723523502, 0.3212082519347096, 0.1273991345162948, 1.4676643819725206, -0.00954134812271558, -2.515191437159899, 0.2858322905211471, 1.6148968929893681, -0.41540727418007933, 0.7432364152956532, 0.08943293717910389, 0.45863524503738756, -1.5130666419626568, 0.25537119307039896, 0.646208704821914, 0.14045644314235028, -1.654436346805644, -1.2485137655752985, -1.220472804150455, 0.5874098939074718, -0.8832102261481436, -0.7988314318980299, -0.573780450292032, -1.0383213758032692, -0.6318717788688629, 0.00039752972621937476, 1.1981581595577502, -2.5099274433561014, -0.2712993286356339, 0.18780065535996154, -0.5580110046021268, -1.373552616923043, -0.08136658740476707, -0.500895465414146, -0.28648841769671246, 0.760700335336526, 1.2828632663819213, 0.6375084363947762, 0.09553303045392961, 0.9602945758003074, 1.264248937029117, -0.12940953282095385, -1.8627436208339199, -0.35263576599728114]}, {\"connectgaps\": false, \"fill\": \"tozeroy\", \"line\": {\"color\": \"green\", \"dash\": \"solid\", \"shape\": \"linear\", \"width\": 0.5}, \"mode\": \"lines\", \"name\": \"Spread\", \"showlegend\": false, \"type\": \"scatter\", \"x\": [0, 1, 2, 3, 4, 5, 6, 7, 8, 9, 10, 11, 12, 13, 14, 15, 16, 17, 18, 19, 20, 21, 22, 23, 24, 25, 26, 27, 28, 29, 30, 31, 32, 33, 34, 35, 36, 37, 38, 39, 40, 41, 42, 43, 44, 45, 46, 47, 48, 49, 50, 51, 52, 53, 54, 55, 56, 57, 58, 59, 60, 61, 62, 63, 64, 65, 66, 67, 68, 69, 70, 71, 72, 73, 74, 75, 76, 77, 78, 79, 80, 81, 82, 83, 84, 85, 86, 87, 88, 89, 90, 91, 92, 93, 94, 95, 96, 97, 98, 99], \"xaxis\": \"x2\", \"y\": [1.3614713757261234, \"\", \"\", 0.4727803152634451, \"\", 0.19311512827044774, 2.188416315387543, 0.8142648055503764, 0.054896685554866015, 0.5338244088090218, \"\", \"\", \"\", \"\", \"\", \"\", 1.1675927886224806, 1.4563783563914203, \"\", \"\", 0.4025234031163549, \"\", 0.4062881008260877, \"\", 0.5747737279662479, \"\", \"\", \"\", \"\", \"\", \"\", 0.395397710325853, \"\", \"\", 0.9037625330519424, 0.7226004704283251, 0.6808497338966516, 1.4009948415499058, 0.002820186944996639, 1.6320220148669768, 0.5161039631080877, \"\", 0.9275480957852316, 0.6148383360367067, 2.163717415616128, 0.5883281227766535, \"\", 0.06951759399379598, 1.2496361702690624, 0.08563727745715033, \"\", \"\", \"\", 0.7982808009892556, \"\", \"\", \"\", 1.3096682420704955, \"\", \"\", \"\", 1.8491197998423905, 0.2106744806643263, \"\", 3.005413994773672, \"\", 0.327308775898566, 0.35600776891458946, \"\", 0.35825293828250765, \"\", 0.9096130563492346, 3.1326441361473467, 0.6093638631356911, 2.3242272299793374, 1.0113343195388653, \"\", \"\", \"\", 1.4551083462823988, 0.07893323054024814, 0.3468253907451315, \"\", 2.2263294615837905, \"\", \"\", 0.8739324091303031, 2.6618193193174235, 0.7663669251109203, \"\", 0.3907228243781408, \"\", \"\", 0.20841877058059188, 2.3819637632054067, \"\", \"\", 2.5703467252418557, 0.7755213659390372, 1.1527232252987167], \"yaxis\": \"y2\"}, {\"connectgaps\": false, \"fill\": \"tozeroy\", \"line\": {\"color\": \"red\", \"dash\": \"solid\", \"shape\": \"linear\", \"width\": 0.5}, \"mode\": \"lines\", \"name\": \"Spread\", \"showlegend\": false, \"type\": \"scatter\", \"x\": [0, 1, 2, 3, 4, 5, 6, 7, 8, 9, 10, 11, 12, 13, 14, 15, 16, 17, 18, 19, 20, 21, 22, 23, 24, 25, 26, 27, 28, 29, 30, 31, 32, 33, 34, 35, 36, 37, 38, 39, 40, 41, 42, 43, 44, 45, 46, 47, 48, 49, 50, 51, 52, 53, 54, 55, 56, 57, 58, 59, 60, 61, 62, 63, 64, 65, 66, 67, 68, 69, 70, 71, 72, 73, 74, 75, 76, 77, 78, 79, 80, 81, 82, 83, 84, 85, 86, 87, 88, 89, 90, 91, 92, 93, 94, 95, 96, 97, 98, 99], \"xaxis\": \"x2\", \"y\": [\"\", -0.9425229932769961, -0.7781679761192668, \"\", -1.377854288323097, \"\", \"\", \"\", \"\", \"\", -0.6517838303699847, -1.7937238831602575, -0.607521985637129, -0.9275135238465513, -0.9160316809704916, -1.938360952945013, \"\", \"\", -1.4168917011586286, -0.8100354194385583, \"\", -1.37991219559418, \"\", -0.11420632929950442, \"\", -2.2366794212926053, -0.07129841090674874, -0.9996698323774997, -1.2379885325989441, -1.3267712163177219, -1.3186210189459797, \"\", -0.3308666080847987, -1.2008257494281902, \"\", \"\", \"\", \"\", \"\", \"\", \"\", -1.504649611542052, \"\", \"\", \"\", \"\", -0.5009416494885559, \"\", \"\", \"\", -0.0660791591109593, -0.044701830308246426, -1.7464443330394654, \"\", -0.3535953560720617, -1.3240322410248053, -0.7248898774918564, \"\", -1.3006739107253453, -2.1199492108928597, -1.1570674819828755, \"\", \"\", -1.3339513032075652, \"\", -0.2791149693132531, \"\", \"\", -0.6224521534176242, \"\", -1.58887925328682, \"\", \"\", \"\", \"\", \"\", -0.03820784446889358, -0.40388108307489246, -0.24034928193634597, \"\", \"\", \"\", -0.4799187498548112, \"\", -0.12271954033715815, -0.9931871644560162, \"\", \"\", \"\", -1.152200901420076, \"\", -1.8832491670971727, -2.046316763597096, \"\", \"\", -2.1523752120529, -2.196843887166095, \"\", \"\", \"\"], \"yaxis\": \"y2\"}],                        {\"hovermode\": \"x\", \"legend\": {\"bgcolor\": \"#F5F6F9\", \"font\": {\"color\": \"#4D5663\"}}, \"paper_bgcolor\": \"#F5F6F9\", \"plot_bgcolor\": \"#F5F6F9\", \"template\": {\"data\": {\"bar\": [{\"error_x\": {\"color\": \"#2a3f5f\"}, \"error_y\": {\"color\": \"#2a3f5f\"}, \"marker\": {\"line\": {\"color\": \"#E5ECF6\", \"width\": 0.5}}, \"type\": \"bar\"}], \"barpolar\": [{\"marker\": {\"line\": {\"color\": \"#E5ECF6\", \"width\": 0.5}}, \"type\": \"barpolar\"}], \"carpet\": [{\"aaxis\": {\"endlinecolor\": \"#2a3f5f\", \"gridcolor\": \"white\", \"linecolor\": \"white\", \"minorgridcolor\": \"white\", \"startlinecolor\": \"#2a3f5f\"}, \"baxis\": {\"endlinecolor\": \"#2a3f5f\", \"gridcolor\": \"white\", \"linecolor\": \"white\", \"minorgridcolor\": \"white\", \"startlinecolor\": \"#2a3f5f\"}, \"type\": \"carpet\"}], \"choropleth\": [{\"colorbar\": {\"outlinewidth\": 0, \"ticks\": \"\"}, \"type\": \"choropleth\"}], \"contour\": [{\"colorbar\": {\"outlinewidth\": 0, \"ticks\": \"\"}, \"colorscale\": [[0.0, \"#0d0887\"], [0.1111111111111111, \"#46039f\"], [0.2222222222222222, \"#7201a8\"], [0.3333333333333333, \"#9c179e\"], [0.4444444444444444, \"#bd3786\"], [0.5555555555555556, \"#d8576b\"], [0.6666666666666666, \"#ed7953\"], [0.7777777777777778, \"#fb9f3a\"], [0.8888888888888888, \"#fdca26\"], [1.0, \"#f0f921\"]], \"type\": \"contour\"}], \"contourcarpet\": [{\"colorbar\": {\"outlinewidth\": 0, \"ticks\": \"\"}, \"type\": \"contourcarpet\"}], \"heatmap\": [{\"colorbar\": {\"outlinewidth\": 0, \"ticks\": \"\"}, \"colorscale\": [[0.0, \"#0d0887\"], [0.1111111111111111, \"#46039f\"], [0.2222222222222222, \"#7201a8\"], [0.3333333333333333, \"#9c179e\"], [0.4444444444444444, \"#bd3786\"], [0.5555555555555556, \"#d8576b\"], [0.6666666666666666, \"#ed7953\"], [0.7777777777777778, \"#fb9f3a\"], [0.8888888888888888, \"#fdca26\"], [1.0, \"#f0f921\"]], \"type\": \"heatmap\"}], \"heatmapgl\": [{\"colorbar\": {\"outlinewidth\": 0, \"ticks\": \"\"}, \"colorscale\": [[0.0, \"#0d0887\"], [0.1111111111111111, \"#46039f\"], [0.2222222222222222, \"#7201a8\"], [0.3333333333333333, \"#9c179e\"], [0.4444444444444444, \"#bd3786\"], [0.5555555555555556, \"#d8576b\"], [0.6666666666666666, \"#ed7953\"], [0.7777777777777778, \"#fb9f3a\"], [0.8888888888888888, \"#fdca26\"], [1.0, \"#f0f921\"]], \"type\": \"heatmapgl\"}], \"histogram\": [{\"marker\": {\"colorbar\": {\"outlinewidth\": 0, \"ticks\": \"\"}}, \"type\": \"histogram\"}], \"histogram2d\": [{\"colorbar\": {\"outlinewidth\": 0, \"ticks\": \"\"}, \"colorscale\": [[0.0, \"#0d0887\"], [0.1111111111111111, \"#46039f\"], [0.2222222222222222, \"#7201a8\"], [0.3333333333333333, \"#9c179e\"], [0.4444444444444444, \"#bd3786\"], [0.5555555555555556, \"#d8576b\"], [0.6666666666666666, \"#ed7953\"], [0.7777777777777778, \"#fb9f3a\"], [0.8888888888888888, \"#fdca26\"], [1.0, \"#f0f921\"]], \"type\": \"histogram2d\"}], \"histogram2dcontour\": [{\"colorbar\": {\"outlinewidth\": 0, \"ticks\": \"\"}, \"colorscale\": [[0.0, \"#0d0887\"], [0.1111111111111111, \"#46039f\"], [0.2222222222222222, \"#7201a8\"], [0.3333333333333333, \"#9c179e\"], [0.4444444444444444, \"#bd3786\"], [0.5555555555555556, \"#d8576b\"], [0.6666666666666666, \"#ed7953\"], [0.7777777777777778, \"#fb9f3a\"], [0.8888888888888888, \"#fdca26\"], [1.0, \"#f0f921\"]], \"type\": \"histogram2dcontour\"}], \"mesh3d\": [{\"colorbar\": {\"outlinewidth\": 0, \"ticks\": \"\"}, \"type\": \"mesh3d\"}], \"parcoords\": [{\"line\": {\"colorbar\": {\"outlinewidth\": 0, \"ticks\": \"\"}}, \"type\": \"parcoords\"}], \"pie\": [{\"automargin\": true, \"type\": \"pie\"}], \"scatter\": [{\"marker\": {\"colorbar\": {\"outlinewidth\": 0, \"ticks\": \"\"}}, \"type\": \"scatter\"}], \"scatter3d\": [{\"line\": {\"colorbar\": {\"outlinewidth\": 0, \"ticks\": \"\"}}, \"marker\": {\"colorbar\": {\"outlinewidth\": 0, \"ticks\": \"\"}}, \"type\": \"scatter3d\"}], \"scattercarpet\": [{\"marker\": {\"colorbar\": {\"outlinewidth\": 0, \"ticks\": \"\"}}, \"type\": \"scattercarpet\"}], \"scattergeo\": [{\"marker\": {\"colorbar\": {\"outlinewidth\": 0, \"ticks\": \"\"}}, \"type\": \"scattergeo\"}], \"scattergl\": [{\"marker\": {\"colorbar\": {\"outlinewidth\": 0, \"ticks\": \"\"}}, \"type\": \"scattergl\"}], \"scattermapbox\": [{\"marker\": {\"colorbar\": {\"outlinewidth\": 0, \"ticks\": \"\"}}, \"type\": \"scattermapbox\"}], \"scatterpolar\": [{\"marker\": {\"colorbar\": {\"outlinewidth\": 0, \"ticks\": \"\"}}, \"type\": \"scatterpolar\"}], \"scatterpolargl\": [{\"marker\": {\"colorbar\": {\"outlinewidth\": 0, \"ticks\": \"\"}}, \"type\": \"scatterpolargl\"}], \"scatterternary\": [{\"marker\": {\"colorbar\": {\"outlinewidth\": 0, \"ticks\": \"\"}}, \"type\": \"scatterternary\"}], \"surface\": [{\"colorbar\": {\"outlinewidth\": 0, \"ticks\": \"\"}, \"colorscale\": [[0.0, \"#0d0887\"], [0.1111111111111111, \"#46039f\"], [0.2222222222222222, \"#7201a8\"], [0.3333333333333333, \"#9c179e\"], [0.4444444444444444, \"#bd3786\"], [0.5555555555555556, \"#d8576b\"], [0.6666666666666666, \"#ed7953\"], [0.7777777777777778, \"#fb9f3a\"], [0.8888888888888888, \"#fdca26\"], [1.0, \"#f0f921\"]], \"type\": \"surface\"}], \"table\": [{\"cells\": {\"fill\": {\"color\": \"#EBF0F8\"}, \"line\": {\"color\": \"white\"}}, \"header\": {\"fill\": {\"color\": \"#C8D4E3\"}, \"line\": {\"color\": \"white\"}}, \"type\": \"table\"}]}, \"layout\": {\"annotationdefaults\": {\"arrowcolor\": \"#2a3f5f\", \"arrowhead\": 0, \"arrowwidth\": 1}, \"autotypenumbers\": \"strict\", \"coloraxis\": {\"colorbar\": {\"outlinewidth\": 0, \"ticks\": \"\"}}, \"colorscale\": {\"diverging\": [[0, \"#8e0152\"], [0.1, \"#c51b7d\"], [0.2, \"#de77ae\"], [0.3, \"#f1b6da\"], [0.4, \"#fde0ef\"], [0.5, \"#f7f7f7\"], [0.6, \"#e6f5d0\"], [0.7, \"#b8e186\"], [0.8, \"#7fbc41\"], [0.9, \"#4d9221\"], [1, \"#276419\"]], \"sequential\": [[0.0, \"#0d0887\"], [0.1111111111111111, \"#46039f\"], [0.2222222222222222, \"#7201a8\"], [0.3333333333333333, \"#9c179e\"], [0.4444444444444444, \"#bd3786\"], [0.5555555555555556, \"#d8576b\"], [0.6666666666666666, \"#ed7953\"], [0.7777777777777778, \"#fb9f3a\"], [0.8888888888888888, \"#fdca26\"], [1.0, \"#f0f921\"]], \"sequentialminus\": [[0.0, \"#0d0887\"], [0.1111111111111111, \"#46039f\"], [0.2222222222222222, \"#7201a8\"], [0.3333333333333333, \"#9c179e\"], [0.4444444444444444, \"#bd3786\"], [0.5555555555555556, \"#d8576b\"], [0.6666666666666666, \"#ed7953\"], [0.7777777777777778, \"#fb9f3a\"], [0.8888888888888888, \"#fdca26\"], [1.0, \"#f0f921\"]]}, \"colorway\": [\"#636efa\", \"#EF553B\", \"#00cc96\", \"#ab63fa\", \"#FFA15A\", \"#19d3f3\", \"#FF6692\", \"#B6E880\", \"#FF97FF\", \"#FECB52\"], \"font\": {\"color\": \"#2a3f5f\"}, \"geo\": {\"bgcolor\": \"white\", \"lakecolor\": \"white\", \"landcolor\": \"#E5ECF6\", \"showlakes\": true, \"showland\": true, \"subunitcolor\": \"white\"}, \"hoverlabel\": {\"align\": \"left\"}, \"hovermode\": \"closest\", \"mapbox\": {\"style\": \"light\"}, \"paper_bgcolor\": \"white\", \"plot_bgcolor\": \"#E5ECF6\", \"polar\": {\"angularaxis\": {\"gridcolor\": \"white\", \"linecolor\": \"white\", \"ticks\": \"\"}, \"bgcolor\": \"#E5ECF6\", \"radialaxis\": {\"gridcolor\": \"white\", \"linecolor\": \"white\", \"ticks\": \"\"}}, \"scene\": {\"xaxis\": {\"backgroundcolor\": \"#E5ECF6\", \"gridcolor\": \"white\", \"gridwidth\": 2, \"linecolor\": \"white\", \"showbackground\": true, \"ticks\": \"\", \"zerolinecolor\": \"white\"}, \"yaxis\": {\"backgroundcolor\": \"#E5ECF6\", \"gridcolor\": \"white\", \"gridwidth\": 2, \"linecolor\": \"white\", \"showbackground\": true, \"ticks\": \"\", \"zerolinecolor\": \"white\"}, \"zaxis\": {\"backgroundcolor\": \"#E5ECF6\", \"gridcolor\": \"white\", \"gridwidth\": 2, \"linecolor\": \"white\", \"showbackground\": true, \"ticks\": \"\", \"zerolinecolor\": \"white\"}}, \"shapedefaults\": {\"line\": {\"color\": \"#2a3f5f\"}}, \"ternary\": {\"aaxis\": {\"gridcolor\": \"white\", \"linecolor\": \"white\", \"ticks\": \"\"}, \"baxis\": {\"gridcolor\": \"white\", \"linecolor\": \"white\", \"ticks\": \"\"}, \"bgcolor\": \"#E5ECF6\", \"caxis\": {\"gridcolor\": \"white\", \"linecolor\": \"white\", \"ticks\": \"\"}}, \"title\": {\"x\": 0.05}, \"xaxis\": {\"automargin\": true, \"gridcolor\": \"white\", \"linecolor\": \"white\", \"ticks\": \"\", \"title\": {\"standoff\": 15}, \"zerolinecolor\": \"white\", \"zerolinewidth\": 2}, \"yaxis\": {\"automargin\": true, \"gridcolor\": \"white\", \"linecolor\": \"white\", \"ticks\": \"\", \"title\": {\"standoff\": 15}, \"zerolinecolor\": \"white\", \"zerolinewidth\": 2}}}, \"title\": {\"font\": {\"color\": \"#4D5663\"}}, \"xaxis\": {\"gridcolor\": \"#E1E5ED\", \"showgrid\": true, \"tickfont\": {\"color\": \"#4D5663\"}, \"title\": {\"font\": {\"color\": \"#4D5663\"}, \"text\": \"\"}, \"zerolinecolor\": \"#E1E5ED\"}, \"xaxis2\": {\"anchor\": \"y2\", \"gridcolor\": \"#E1E5ED\", \"showgrid\": true, \"showticklabels\": false, \"tickfont\": {\"color\": \"#4D5663\"}, \"title\": {\"font\": {\"color\": \"#4D5663\"}, \"text\": \"\"}, \"zerolinecolor\": \"#E1E5ED\"}, \"yaxis\": {\"domain\": [0.3, 1], \"gridcolor\": \"#E1E5ED\", \"showgrid\": true, \"tickfont\": {\"color\": \"#4D5663\"}, \"title\": {\"font\": {\"color\": \"#4D5663\"}, \"text\": \"\"}, \"zerolinecolor\": \"#E1E5ED\"}, \"yaxis2\": {\"domain\": [0, 0.25], \"gridcolor\": \"#E1E5ED\", \"showgrid\": true, \"tickfont\": {\"color\": \"#4D5663\"}, \"title\": {\"font\": {\"color\": \"#4D5663\"}, \"text\": \"Spread\"}, \"zerolinecolor\": \"#E1E5ED\"}},                        {\"showLink\": true, \"linkText\": \"Export to plot.ly\", \"plotlyServerURL\": \"https://plot.ly\", \"responsive\": true}                    ).then(function(){\n",
       "                            \n",
       "var gd = document.getElementById('6073c3e2-aca9-47cb-a6de-e37b929a2153');\n",
       "var x = new MutationObserver(function (mutations, observer) {{\n",
       "        var display = window.getComputedStyle(gd).display;\n",
       "        if (!display || display === 'none') {{\n",
       "            console.log([gd, 'removed!']);\n",
       "            Plotly.purge(gd);\n",
       "            observer.disconnect();\n",
       "        }}\n",
       "}});\n",
       "\n",
       "// Listen for the removal of the full notebook cells\n",
       "var notebookContainer = gd.closest('#notebook-container');\n",
       "if (notebookContainer) {{\n",
       "    x.observe(notebookContainer, {childList: true});\n",
       "}}\n",
       "\n",
       "// Listen for the clearing of the current output cell\n",
       "var outputEl = gd.closest('.output');\n",
       "if (outputEl) {{\n",
       "    x.observe(outputEl, {childList: true});\n",
       "}}\n",
       "\n",
       "                        })                };                });            </script>        </div>"
      ]
     },
     "metadata": {},
     "output_type": "display_data"
    }
   ],
   "source": [
    "df[['A','B']].iplot(kind='spread')"
   ]
  },
  {
   "cell_type": "markdown",
   "metadata": {},
   "source": [
    "## histogram"
   ]
  },
  {
   "cell_type": "code",
   "execution_count": 16,
   "metadata": {},
   "outputs": [
    {
     "data": {
      "application/vnd.plotly.v1+json": {
       "config": {
        "linkText": "Export to plot.ly",
        "plotlyServerURL": "https://plot.ly",
        "showLink": true
       },
       "data": [
        {
         "histfunc": "count",
         "histnorm": "",
         "marker": {
          "color": "rgba(255, 153, 51, 1.0)",
          "line": {
           "color": "#4D5663",
           "width": 1.3
          }
         },
         "name": "A",
         "nbinsx": 25,
         "opacity": 0.8,
         "orientation": "v",
         "type": "histogram",
         "x": [
          0.062403000348056896,
          0.682158388145421,
          0.3268464575434144,
          0.28422394171376936,
          -0.8930677967906131,
          0.041223291518847946,
          1.4782858523800568,
          -0.01722465247120283,
          0.20354506830826805,
          -0.4545305600633967,
          -0.38981019744658657,
          -1.3603820914539406,
          -0.1930434719473086,
          -0.4242067670561226,
          0.5805237728658952,
          0.0182563537413149,
          0.5893475068103087,
          0.03891119531541383,
          -1.1659803041570214,
          -1.4954814632608548,
          0.6410459252420906,
          -1.8173897668947723,
          1.1476736695558079,
          -0.008637510156530056,
          0.7333610287703045,
          -0.00341856027323607,
          -0.1705957221128231,
          -0.2755653598251552,
          -0.7028999920512963,
          -0.7686762441966566,
          -1.4320039221064242,
          -0.3777920709864464,
          -0.7893304727600577,
          -1.462585693582685,
          0.25606012549675394,
          -0.7328012321850637,
          0.9282689238426763,
          1.1757725189552224,
          0.5497232961895439,
          1.3504414595074608,
          0.36879921331976007,
          0.6474329912861589,
          0.3425748143184703,
          -0.5524096866845196,
          0.22771702810119573,
          -0.01856107928186663,
          -0.505035272141574,
          1.83767051387475,
          0.7758446792672782,
          0.49530351834577024,
          -0.8959516679869598,
          0.19244410049328461,
          -0.028152661422717846,
          0.2446391640032037,
          -0.8544538723417219,
          -1.1987174971252845,
          -1.0351821498442066,
          1.630876494005205,
          -1.1732747762090505,
          -0.6522848289203391,
          -1.166608830105591,
          -0.6660716373175085,
          0.49650677118547343,
          0.280945589781803,
          2.590006720593593,
          0.4641214459824001,
          0.4167417130776699,
          0.814643013951977,
          -2.135518795380281,
          0.6136241313529066,
          -0.9426705484649059,
          1.050069499491585,
          1.478207789341703,
          -0.6391499024396073,
          1.1037544258288825,
          1.598744213446337,
          -0.9214180706170372,
          -1.2027125149729223,
          -0.8141297322283779,
          0.4167869704791297,
          -0.5529385483286148,
          0.3472229204713509,
          0.718239409702939,
          -0.28359798177231077,
          -0.39401886897279204,
          -0.8053865090960546,
          0.31592140452817635,
          1.2882667023943803,
          0.6850003377061532,
          -1.653096366834222,
          0.10423440668142835,
          -1.1225488317606467,
          -0.7634534972151744,
          0.845927206975368,
          2.4774967936593364,
          -1.1920806362525922,
          -0.932594950136978,
          2.440937192420902,
          -1.0872222548948827,
          0.8000874593014355
         ]
        }
       ],
       "layout": {
        "barmode": "overlay",
        "legend": {
         "bgcolor": "#F5F6F9",
         "font": {
          "color": "#4D5663"
         }
        },
        "paper_bgcolor": "#F5F6F9",
        "plot_bgcolor": "#F5F6F9",
        "template": {
         "data": {
          "bar": [
           {
            "error_x": {
             "color": "#2a3f5f"
            },
            "error_y": {
             "color": "#2a3f5f"
            },
            "marker": {
             "line": {
              "color": "#E5ECF6",
              "width": 0.5
             }
            },
            "type": "bar"
           }
          ],
          "barpolar": [
           {
            "marker": {
             "line": {
              "color": "#E5ECF6",
              "width": 0.5
             }
            },
            "type": "barpolar"
           }
          ],
          "carpet": [
           {
            "aaxis": {
             "endlinecolor": "#2a3f5f",
             "gridcolor": "white",
             "linecolor": "white",
             "minorgridcolor": "white",
             "startlinecolor": "#2a3f5f"
            },
            "baxis": {
             "endlinecolor": "#2a3f5f",
             "gridcolor": "white",
             "linecolor": "white",
             "minorgridcolor": "white",
             "startlinecolor": "#2a3f5f"
            },
            "type": "carpet"
           }
          ],
          "choropleth": [
           {
            "colorbar": {
             "outlinewidth": 0,
             "ticks": ""
            },
            "type": "choropleth"
           }
          ],
          "contour": [
           {
            "colorbar": {
             "outlinewidth": 0,
             "ticks": ""
            },
            "colorscale": [
             [
              0,
              "#0d0887"
             ],
             [
              0.1111111111111111,
              "#46039f"
             ],
             [
              0.2222222222222222,
              "#7201a8"
             ],
             [
              0.3333333333333333,
              "#9c179e"
             ],
             [
              0.4444444444444444,
              "#bd3786"
             ],
             [
              0.5555555555555556,
              "#d8576b"
             ],
             [
              0.6666666666666666,
              "#ed7953"
             ],
             [
              0.7777777777777778,
              "#fb9f3a"
             ],
             [
              0.8888888888888888,
              "#fdca26"
             ],
             [
              1,
              "#f0f921"
             ]
            ],
            "type": "contour"
           }
          ],
          "contourcarpet": [
           {
            "colorbar": {
             "outlinewidth": 0,
             "ticks": ""
            },
            "type": "contourcarpet"
           }
          ],
          "heatmap": [
           {
            "colorbar": {
             "outlinewidth": 0,
             "ticks": ""
            },
            "colorscale": [
             [
              0,
              "#0d0887"
             ],
             [
              0.1111111111111111,
              "#46039f"
             ],
             [
              0.2222222222222222,
              "#7201a8"
             ],
             [
              0.3333333333333333,
              "#9c179e"
             ],
             [
              0.4444444444444444,
              "#bd3786"
             ],
             [
              0.5555555555555556,
              "#d8576b"
             ],
             [
              0.6666666666666666,
              "#ed7953"
             ],
             [
              0.7777777777777778,
              "#fb9f3a"
             ],
             [
              0.8888888888888888,
              "#fdca26"
             ],
             [
              1,
              "#f0f921"
             ]
            ],
            "type": "heatmap"
           }
          ],
          "heatmapgl": [
           {
            "colorbar": {
             "outlinewidth": 0,
             "ticks": ""
            },
            "colorscale": [
             [
              0,
              "#0d0887"
             ],
             [
              0.1111111111111111,
              "#46039f"
             ],
             [
              0.2222222222222222,
              "#7201a8"
             ],
             [
              0.3333333333333333,
              "#9c179e"
             ],
             [
              0.4444444444444444,
              "#bd3786"
             ],
             [
              0.5555555555555556,
              "#d8576b"
             ],
             [
              0.6666666666666666,
              "#ed7953"
             ],
             [
              0.7777777777777778,
              "#fb9f3a"
             ],
             [
              0.8888888888888888,
              "#fdca26"
             ],
             [
              1,
              "#f0f921"
             ]
            ],
            "type": "heatmapgl"
           }
          ],
          "histogram": [
           {
            "marker": {
             "colorbar": {
              "outlinewidth": 0,
              "ticks": ""
             }
            },
            "type": "histogram"
           }
          ],
          "histogram2d": [
           {
            "colorbar": {
             "outlinewidth": 0,
             "ticks": ""
            },
            "colorscale": [
             [
              0,
              "#0d0887"
             ],
             [
              0.1111111111111111,
              "#46039f"
             ],
             [
              0.2222222222222222,
              "#7201a8"
             ],
             [
              0.3333333333333333,
              "#9c179e"
             ],
             [
              0.4444444444444444,
              "#bd3786"
             ],
             [
              0.5555555555555556,
              "#d8576b"
             ],
             [
              0.6666666666666666,
              "#ed7953"
             ],
             [
              0.7777777777777778,
              "#fb9f3a"
             ],
             [
              0.8888888888888888,
              "#fdca26"
             ],
             [
              1,
              "#f0f921"
             ]
            ],
            "type": "histogram2d"
           }
          ],
          "histogram2dcontour": [
           {
            "colorbar": {
             "outlinewidth": 0,
             "ticks": ""
            },
            "colorscale": [
             [
              0,
              "#0d0887"
             ],
             [
              0.1111111111111111,
              "#46039f"
             ],
             [
              0.2222222222222222,
              "#7201a8"
             ],
             [
              0.3333333333333333,
              "#9c179e"
             ],
             [
              0.4444444444444444,
              "#bd3786"
             ],
             [
              0.5555555555555556,
              "#d8576b"
             ],
             [
              0.6666666666666666,
              "#ed7953"
             ],
             [
              0.7777777777777778,
              "#fb9f3a"
             ],
             [
              0.8888888888888888,
              "#fdca26"
             ],
             [
              1,
              "#f0f921"
             ]
            ],
            "type": "histogram2dcontour"
           }
          ],
          "mesh3d": [
           {
            "colorbar": {
             "outlinewidth": 0,
             "ticks": ""
            },
            "type": "mesh3d"
           }
          ],
          "parcoords": [
           {
            "line": {
             "colorbar": {
              "outlinewidth": 0,
              "ticks": ""
             }
            },
            "type": "parcoords"
           }
          ],
          "pie": [
           {
            "automargin": true,
            "type": "pie"
           }
          ],
          "scatter": [
           {
            "marker": {
             "colorbar": {
              "outlinewidth": 0,
              "ticks": ""
             }
            },
            "type": "scatter"
           }
          ],
          "scatter3d": [
           {
            "line": {
             "colorbar": {
              "outlinewidth": 0,
              "ticks": ""
             }
            },
            "marker": {
             "colorbar": {
              "outlinewidth": 0,
              "ticks": ""
             }
            },
            "type": "scatter3d"
           }
          ],
          "scattercarpet": [
           {
            "marker": {
             "colorbar": {
              "outlinewidth": 0,
              "ticks": ""
             }
            },
            "type": "scattercarpet"
           }
          ],
          "scattergeo": [
           {
            "marker": {
             "colorbar": {
              "outlinewidth": 0,
              "ticks": ""
             }
            },
            "type": "scattergeo"
           }
          ],
          "scattergl": [
           {
            "marker": {
             "colorbar": {
              "outlinewidth": 0,
              "ticks": ""
             }
            },
            "type": "scattergl"
           }
          ],
          "scattermapbox": [
           {
            "marker": {
             "colorbar": {
              "outlinewidth": 0,
              "ticks": ""
             }
            },
            "type": "scattermapbox"
           }
          ],
          "scatterpolar": [
           {
            "marker": {
             "colorbar": {
              "outlinewidth": 0,
              "ticks": ""
             }
            },
            "type": "scatterpolar"
           }
          ],
          "scatterpolargl": [
           {
            "marker": {
             "colorbar": {
              "outlinewidth": 0,
              "ticks": ""
             }
            },
            "type": "scatterpolargl"
           }
          ],
          "scatterternary": [
           {
            "marker": {
             "colorbar": {
              "outlinewidth": 0,
              "ticks": ""
             }
            },
            "type": "scatterternary"
           }
          ],
          "surface": [
           {
            "colorbar": {
             "outlinewidth": 0,
             "ticks": ""
            },
            "colorscale": [
             [
              0,
              "#0d0887"
             ],
             [
              0.1111111111111111,
              "#46039f"
             ],
             [
              0.2222222222222222,
              "#7201a8"
             ],
             [
              0.3333333333333333,
              "#9c179e"
             ],
             [
              0.4444444444444444,
              "#bd3786"
             ],
             [
              0.5555555555555556,
              "#d8576b"
             ],
             [
              0.6666666666666666,
              "#ed7953"
             ],
             [
              0.7777777777777778,
              "#fb9f3a"
             ],
             [
              0.8888888888888888,
              "#fdca26"
             ],
             [
              1,
              "#f0f921"
             ]
            ],
            "type": "surface"
           }
          ],
          "table": [
           {
            "cells": {
             "fill": {
              "color": "#EBF0F8"
             },
             "line": {
              "color": "white"
             }
            },
            "header": {
             "fill": {
              "color": "#C8D4E3"
             },
             "line": {
              "color": "white"
             }
            },
            "type": "table"
           }
          ]
         },
         "layout": {
          "annotationdefaults": {
           "arrowcolor": "#2a3f5f",
           "arrowhead": 0,
           "arrowwidth": 1
          },
          "autotypenumbers": "strict",
          "coloraxis": {
           "colorbar": {
            "outlinewidth": 0,
            "ticks": ""
           }
          },
          "colorscale": {
           "diverging": [
            [
             0,
             "#8e0152"
            ],
            [
             0.1,
             "#c51b7d"
            ],
            [
             0.2,
             "#de77ae"
            ],
            [
             0.3,
             "#f1b6da"
            ],
            [
             0.4,
             "#fde0ef"
            ],
            [
             0.5,
             "#f7f7f7"
            ],
            [
             0.6,
             "#e6f5d0"
            ],
            [
             0.7,
             "#b8e186"
            ],
            [
             0.8,
             "#7fbc41"
            ],
            [
             0.9,
             "#4d9221"
            ],
            [
             1,
             "#276419"
            ]
           ],
           "sequential": [
            [
             0,
             "#0d0887"
            ],
            [
             0.1111111111111111,
             "#46039f"
            ],
            [
             0.2222222222222222,
             "#7201a8"
            ],
            [
             0.3333333333333333,
             "#9c179e"
            ],
            [
             0.4444444444444444,
             "#bd3786"
            ],
            [
             0.5555555555555556,
             "#d8576b"
            ],
            [
             0.6666666666666666,
             "#ed7953"
            ],
            [
             0.7777777777777778,
             "#fb9f3a"
            ],
            [
             0.8888888888888888,
             "#fdca26"
            ],
            [
             1,
             "#f0f921"
            ]
           ],
           "sequentialminus": [
            [
             0,
             "#0d0887"
            ],
            [
             0.1111111111111111,
             "#46039f"
            ],
            [
             0.2222222222222222,
             "#7201a8"
            ],
            [
             0.3333333333333333,
             "#9c179e"
            ],
            [
             0.4444444444444444,
             "#bd3786"
            ],
            [
             0.5555555555555556,
             "#d8576b"
            ],
            [
             0.6666666666666666,
             "#ed7953"
            ],
            [
             0.7777777777777778,
             "#fb9f3a"
            ],
            [
             0.8888888888888888,
             "#fdca26"
            ],
            [
             1,
             "#f0f921"
            ]
           ]
          },
          "colorway": [
           "#636efa",
           "#EF553B",
           "#00cc96",
           "#ab63fa",
           "#FFA15A",
           "#19d3f3",
           "#FF6692",
           "#B6E880",
           "#FF97FF",
           "#FECB52"
          ],
          "font": {
           "color": "#2a3f5f"
          },
          "geo": {
           "bgcolor": "white",
           "lakecolor": "white",
           "landcolor": "#E5ECF6",
           "showlakes": true,
           "showland": true,
           "subunitcolor": "white"
          },
          "hoverlabel": {
           "align": "left"
          },
          "hovermode": "closest",
          "mapbox": {
           "style": "light"
          },
          "paper_bgcolor": "white",
          "plot_bgcolor": "#E5ECF6",
          "polar": {
           "angularaxis": {
            "gridcolor": "white",
            "linecolor": "white",
            "ticks": ""
           },
           "bgcolor": "#E5ECF6",
           "radialaxis": {
            "gridcolor": "white",
            "linecolor": "white",
            "ticks": ""
           }
          },
          "scene": {
           "xaxis": {
            "backgroundcolor": "#E5ECF6",
            "gridcolor": "white",
            "gridwidth": 2,
            "linecolor": "white",
            "showbackground": true,
            "ticks": "",
            "zerolinecolor": "white"
           },
           "yaxis": {
            "backgroundcolor": "#E5ECF6",
            "gridcolor": "white",
            "gridwidth": 2,
            "linecolor": "white",
            "showbackground": true,
            "ticks": "",
            "zerolinecolor": "white"
           },
           "zaxis": {
            "backgroundcolor": "#E5ECF6",
            "gridcolor": "white",
            "gridwidth": 2,
            "linecolor": "white",
            "showbackground": true,
            "ticks": "",
            "zerolinecolor": "white"
           }
          },
          "shapedefaults": {
           "line": {
            "color": "#2a3f5f"
           }
          },
          "ternary": {
           "aaxis": {
            "gridcolor": "white",
            "linecolor": "white",
            "ticks": ""
           },
           "baxis": {
            "gridcolor": "white",
            "linecolor": "white",
            "ticks": ""
           },
           "bgcolor": "#E5ECF6",
           "caxis": {
            "gridcolor": "white",
            "linecolor": "white",
            "ticks": ""
           }
          },
          "title": {
           "x": 0.05
          },
          "xaxis": {
           "automargin": true,
           "gridcolor": "white",
           "linecolor": "white",
           "ticks": "",
           "title": {
            "standoff": 15
           },
           "zerolinecolor": "white",
           "zerolinewidth": 2
          },
          "yaxis": {
           "automargin": true,
           "gridcolor": "white",
           "linecolor": "white",
           "ticks": "",
           "title": {
            "standoff": 15
           },
           "zerolinecolor": "white",
           "zerolinewidth": 2
          }
         }
        },
        "title": {
         "font": {
          "color": "#4D5663"
         }
        },
        "xaxis": {
         "gridcolor": "#E1E5ED",
         "showgrid": true,
         "tickfont": {
          "color": "#4D5663"
         },
         "title": {
          "font": {
           "color": "#4D5663"
          },
          "text": ""
         },
         "zerolinecolor": "#E1E5ED"
        },
        "yaxis": {
         "gridcolor": "#E1E5ED",
         "showgrid": true,
         "tickfont": {
          "color": "#4D5663"
         },
         "title": {
          "font": {
           "color": "#4D5663"
          },
          "text": ""
         },
         "zerolinecolor": "#E1E5ED"
        }
       }
      },
      "text/html": [
       "<div>                            <div id=\"183b27d6-85b9-4c4a-85cd-401abf214a85\" class=\"plotly-graph-div\" style=\"height:525px; width:100%;\"></div>            <script type=\"text/javascript\">                require([\"plotly\"], function(Plotly) {                    window.PLOTLYENV=window.PLOTLYENV || {};\n",
       "                    window.PLOTLYENV.BASE_URL='https://plot.ly';                                    if (document.getElementById(\"183b27d6-85b9-4c4a-85cd-401abf214a85\")) {                    Plotly.newPlot(                        \"183b27d6-85b9-4c4a-85cd-401abf214a85\",                        [{\"histfunc\": \"count\", \"histnorm\": \"\", \"marker\": {\"color\": \"rgba(255, 153, 51, 1.0)\", \"line\": {\"color\": \"#4D5663\", \"width\": 1.3}}, \"name\": \"A\", \"nbinsx\": 25, \"opacity\": 0.8, \"orientation\": \"v\", \"type\": \"histogram\", \"x\": [0.062403000348056896, 0.682158388145421, 0.3268464575434144, 0.28422394171376936, -0.8930677967906131, 0.041223291518847946, 1.4782858523800568, -0.01722465247120283, 0.20354506830826805, -0.4545305600633967, -0.38981019744658657, -1.3603820914539406, -0.1930434719473086, -0.4242067670561226, 0.5805237728658952, 0.0182563537413149, 0.5893475068103087, 0.03891119531541383, -1.1659803041570214, -1.4954814632608548, 0.6410459252420906, -1.8173897668947723, 1.1476736695558079, -0.008637510156530056, 0.7333610287703045, -0.00341856027323607, -0.1705957221128231, -0.2755653598251552, -0.7028999920512963, -0.7686762441966566, -1.4320039221064242, -0.3777920709864464, -0.7893304727600577, -1.462585693582685, 0.25606012549675394, -0.7328012321850637, 0.9282689238426763, 1.1757725189552224, 0.5497232961895439, 1.3504414595074608, 0.36879921331976007, 0.6474329912861589, 0.3425748143184703, -0.5524096866845196, 0.22771702810119573, -0.01856107928186663, -0.505035272141574, 1.83767051387475, 0.7758446792672782, 0.49530351834577024, -0.8959516679869598, 0.19244410049328461, -0.028152661422717846, 0.2446391640032037, -0.8544538723417219, -1.1987174971252845, -1.0351821498442066, 1.630876494005205, -1.1732747762090505, -0.6522848289203391, -1.166608830105591, -0.6660716373175085, 0.49650677118547343, 0.280945589781803, 2.590006720593593, 0.4641214459824001, 0.4167417130776699, 0.814643013951977, -2.135518795380281, 0.6136241313529066, -0.9426705484649059, 1.050069499491585, 1.478207789341703, -0.6391499024396073, 1.1037544258288825, 1.598744213446337, -0.9214180706170372, -1.2027125149729223, -0.8141297322283779, 0.4167869704791297, -0.5529385483286148, 0.3472229204713509, 0.718239409702939, -0.28359798177231077, -0.39401886897279204, -0.8053865090960546, 0.31592140452817635, 1.2882667023943803, 0.6850003377061532, -1.653096366834222, 0.10423440668142835, -1.1225488317606467, -0.7634534972151744, 0.845927206975368, 2.4774967936593364, -1.1920806362525922, -0.932594950136978, 2.440937192420902, -1.0872222548948827, 0.8000874593014355]}],                        {\"barmode\": \"overlay\", \"legend\": {\"bgcolor\": \"#F5F6F9\", \"font\": {\"color\": \"#4D5663\"}}, \"paper_bgcolor\": \"#F5F6F9\", \"plot_bgcolor\": \"#F5F6F9\", \"template\": {\"data\": {\"bar\": [{\"error_x\": {\"color\": \"#2a3f5f\"}, \"error_y\": {\"color\": \"#2a3f5f\"}, \"marker\": {\"line\": {\"color\": \"#E5ECF6\", \"width\": 0.5}}, \"type\": \"bar\"}], \"barpolar\": [{\"marker\": {\"line\": {\"color\": \"#E5ECF6\", \"width\": 0.5}}, \"type\": \"barpolar\"}], \"carpet\": [{\"aaxis\": {\"endlinecolor\": \"#2a3f5f\", \"gridcolor\": \"white\", \"linecolor\": \"white\", \"minorgridcolor\": \"white\", \"startlinecolor\": \"#2a3f5f\"}, \"baxis\": {\"endlinecolor\": \"#2a3f5f\", \"gridcolor\": \"white\", \"linecolor\": \"white\", \"minorgridcolor\": \"white\", \"startlinecolor\": \"#2a3f5f\"}, \"type\": \"carpet\"}], \"choropleth\": [{\"colorbar\": {\"outlinewidth\": 0, \"ticks\": \"\"}, \"type\": \"choropleth\"}], \"contour\": [{\"colorbar\": {\"outlinewidth\": 0, \"ticks\": \"\"}, \"colorscale\": [[0.0, \"#0d0887\"], [0.1111111111111111, \"#46039f\"], [0.2222222222222222, \"#7201a8\"], [0.3333333333333333, \"#9c179e\"], [0.4444444444444444, \"#bd3786\"], [0.5555555555555556, \"#d8576b\"], [0.6666666666666666, \"#ed7953\"], [0.7777777777777778, \"#fb9f3a\"], [0.8888888888888888, \"#fdca26\"], [1.0, \"#f0f921\"]], \"type\": \"contour\"}], \"contourcarpet\": [{\"colorbar\": {\"outlinewidth\": 0, \"ticks\": \"\"}, \"type\": \"contourcarpet\"}], \"heatmap\": [{\"colorbar\": {\"outlinewidth\": 0, \"ticks\": \"\"}, \"colorscale\": [[0.0, \"#0d0887\"], [0.1111111111111111, \"#46039f\"], [0.2222222222222222, \"#7201a8\"], [0.3333333333333333, \"#9c179e\"], [0.4444444444444444, \"#bd3786\"], [0.5555555555555556, \"#d8576b\"], [0.6666666666666666, \"#ed7953\"], [0.7777777777777778, \"#fb9f3a\"], [0.8888888888888888, \"#fdca26\"], [1.0, \"#f0f921\"]], \"type\": \"heatmap\"}], \"heatmapgl\": [{\"colorbar\": {\"outlinewidth\": 0, \"ticks\": \"\"}, \"colorscale\": [[0.0, \"#0d0887\"], [0.1111111111111111, \"#46039f\"], [0.2222222222222222, \"#7201a8\"], [0.3333333333333333, \"#9c179e\"], [0.4444444444444444, \"#bd3786\"], [0.5555555555555556, \"#d8576b\"], [0.6666666666666666, \"#ed7953\"], [0.7777777777777778, \"#fb9f3a\"], [0.8888888888888888, \"#fdca26\"], [1.0, \"#f0f921\"]], \"type\": \"heatmapgl\"}], \"histogram\": [{\"marker\": {\"colorbar\": {\"outlinewidth\": 0, \"ticks\": \"\"}}, \"type\": \"histogram\"}], \"histogram2d\": [{\"colorbar\": {\"outlinewidth\": 0, \"ticks\": \"\"}, \"colorscale\": [[0.0, \"#0d0887\"], [0.1111111111111111, \"#46039f\"], [0.2222222222222222, \"#7201a8\"], [0.3333333333333333, \"#9c179e\"], [0.4444444444444444, \"#bd3786\"], [0.5555555555555556, \"#d8576b\"], [0.6666666666666666, \"#ed7953\"], [0.7777777777777778, \"#fb9f3a\"], [0.8888888888888888, \"#fdca26\"], [1.0, \"#f0f921\"]], \"type\": \"histogram2d\"}], \"histogram2dcontour\": [{\"colorbar\": {\"outlinewidth\": 0, \"ticks\": \"\"}, \"colorscale\": [[0.0, \"#0d0887\"], [0.1111111111111111, \"#46039f\"], [0.2222222222222222, \"#7201a8\"], [0.3333333333333333, \"#9c179e\"], [0.4444444444444444, \"#bd3786\"], [0.5555555555555556, \"#d8576b\"], [0.6666666666666666, \"#ed7953\"], [0.7777777777777778, \"#fb9f3a\"], [0.8888888888888888, \"#fdca26\"], [1.0, \"#f0f921\"]], \"type\": \"histogram2dcontour\"}], \"mesh3d\": [{\"colorbar\": {\"outlinewidth\": 0, \"ticks\": \"\"}, \"type\": \"mesh3d\"}], \"parcoords\": [{\"line\": {\"colorbar\": {\"outlinewidth\": 0, \"ticks\": \"\"}}, \"type\": \"parcoords\"}], \"pie\": [{\"automargin\": true, \"type\": \"pie\"}], \"scatter\": [{\"marker\": {\"colorbar\": {\"outlinewidth\": 0, \"ticks\": \"\"}}, \"type\": \"scatter\"}], \"scatter3d\": [{\"line\": {\"colorbar\": {\"outlinewidth\": 0, \"ticks\": \"\"}}, \"marker\": {\"colorbar\": {\"outlinewidth\": 0, \"ticks\": \"\"}}, \"type\": \"scatter3d\"}], \"scattercarpet\": [{\"marker\": {\"colorbar\": {\"outlinewidth\": 0, \"ticks\": \"\"}}, \"type\": \"scattercarpet\"}], \"scattergeo\": [{\"marker\": {\"colorbar\": {\"outlinewidth\": 0, \"ticks\": \"\"}}, \"type\": \"scattergeo\"}], \"scattergl\": [{\"marker\": {\"colorbar\": {\"outlinewidth\": 0, \"ticks\": \"\"}}, \"type\": \"scattergl\"}], \"scattermapbox\": [{\"marker\": {\"colorbar\": {\"outlinewidth\": 0, \"ticks\": \"\"}}, \"type\": \"scattermapbox\"}], \"scatterpolar\": [{\"marker\": {\"colorbar\": {\"outlinewidth\": 0, \"ticks\": \"\"}}, \"type\": \"scatterpolar\"}], \"scatterpolargl\": [{\"marker\": {\"colorbar\": {\"outlinewidth\": 0, \"ticks\": \"\"}}, \"type\": \"scatterpolargl\"}], \"scatterternary\": [{\"marker\": {\"colorbar\": {\"outlinewidth\": 0, \"ticks\": \"\"}}, \"type\": \"scatterternary\"}], \"surface\": [{\"colorbar\": {\"outlinewidth\": 0, \"ticks\": \"\"}, \"colorscale\": [[0.0, \"#0d0887\"], [0.1111111111111111, \"#46039f\"], [0.2222222222222222, \"#7201a8\"], [0.3333333333333333, \"#9c179e\"], [0.4444444444444444, \"#bd3786\"], [0.5555555555555556, \"#d8576b\"], [0.6666666666666666, \"#ed7953\"], [0.7777777777777778, \"#fb9f3a\"], [0.8888888888888888, \"#fdca26\"], [1.0, \"#f0f921\"]], \"type\": \"surface\"}], \"table\": [{\"cells\": {\"fill\": {\"color\": \"#EBF0F8\"}, \"line\": {\"color\": \"white\"}}, \"header\": {\"fill\": {\"color\": \"#C8D4E3\"}, \"line\": {\"color\": \"white\"}}, \"type\": \"table\"}]}, \"layout\": {\"annotationdefaults\": {\"arrowcolor\": \"#2a3f5f\", \"arrowhead\": 0, \"arrowwidth\": 1}, \"autotypenumbers\": \"strict\", \"coloraxis\": {\"colorbar\": {\"outlinewidth\": 0, \"ticks\": \"\"}}, \"colorscale\": {\"diverging\": [[0, \"#8e0152\"], [0.1, \"#c51b7d\"], [0.2, \"#de77ae\"], [0.3, \"#f1b6da\"], [0.4, \"#fde0ef\"], [0.5, \"#f7f7f7\"], [0.6, \"#e6f5d0\"], [0.7, \"#b8e186\"], [0.8, \"#7fbc41\"], [0.9, \"#4d9221\"], [1, \"#276419\"]], \"sequential\": [[0.0, \"#0d0887\"], [0.1111111111111111, \"#46039f\"], [0.2222222222222222, \"#7201a8\"], [0.3333333333333333, \"#9c179e\"], [0.4444444444444444, \"#bd3786\"], [0.5555555555555556, \"#d8576b\"], [0.6666666666666666, \"#ed7953\"], [0.7777777777777778, \"#fb9f3a\"], [0.8888888888888888, \"#fdca26\"], [1.0, \"#f0f921\"]], \"sequentialminus\": [[0.0, \"#0d0887\"], [0.1111111111111111, \"#46039f\"], [0.2222222222222222, \"#7201a8\"], [0.3333333333333333, \"#9c179e\"], [0.4444444444444444, \"#bd3786\"], [0.5555555555555556, \"#d8576b\"], [0.6666666666666666, \"#ed7953\"], [0.7777777777777778, \"#fb9f3a\"], [0.8888888888888888, \"#fdca26\"], [1.0, \"#f0f921\"]]}, \"colorway\": [\"#636efa\", \"#EF553B\", \"#00cc96\", \"#ab63fa\", \"#FFA15A\", \"#19d3f3\", \"#FF6692\", \"#B6E880\", \"#FF97FF\", \"#FECB52\"], \"font\": {\"color\": \"#2a3f5f\"}, \"geo\": {\"bgcolor\": \"white\", \"lakecolor\": \"white\", \"landcolor\": \"#E5ECF6\", \"showlakes\": true, \"showland\": true, \"subunitcolor\": \"white\"}, \"hoverlabel\": {\"align\": \"left\"}, \"hovermode\": \"closest\", \"mapbox\": {\"style\": \"light\"}, \"paper_bgcolor\": \"white\", \"plot_bgcolor\": \"#E5ECF6\", \"polar\": {\"angularaxis\": {\"gridcolor\": \"white\", \"linecolor\": \"white\", \"ticks\": \"\"}, \"bgcolor\": \"#E5ECF6\", \"radialaxis\": {\"gridcolor\": \"white\", \"linecolor\": \"white\", \"ticks\": \"\"}}, \"scene\": {\"xaxis\": {\"backgroundcolor\": \"#E5ECF6\", \"gridcolor\": \"white\", \"gridwidth\": 2, \"linecolor\": \"white\", \"showbackground\": true, \"ticks\": \"\", \"zerolinecolor\": \"white\"}, \"yaxis\": {\"backgroundcolor\": \"#E5ECF6\", \"gridcolor\": \"white\", \"gridwidth\": 2, \"linecolor\": \"white\", \"showbackground\": true, \"ticks\": \"\", \"zerolinecolor\": \"white\"}, \"zaxis\": {\"backgroundcolor\": \"#E5ECF6\", \"gridcolor\": \"white\", \"gridwidth\": 2, \"linecolor\": \"white\", \"showbackground\": true, \"ticks\": \"\", \"zerolinecolor\": \"white\"}}, \"shapedefaults\": {\"line\": {\"color\": \"#2a3f5f\"}}, \"ternary\": {\"aaxis\": {\"gridcolor\": \"white\", \"linecolor\": \"white\", \"ticks\": \"\"}, \"baxis\": {\"gridcolor\": \"white\", \"linecolor\": \"white\", \"ticks\": \"\"}, \"bgcolor\": \"#E5ECF6\", \"caxis\": {\"gridcolor\": \"white\", \"linecolor\": \"white\", \"ticks\": \"\"}}, \"title\": {\"x\": 0.05}, \"xaxis\": {\"automargin\": true, \"gridcolor\": \"white\", \"linecolor\": \"white\", \"ticks\": \"\", \"title\": {\"standoff\": 15}, \"zerolinecolor\": \"white\", \"zerolinewidth\": 2}, \"yaxis\": {\"automargin\": true, \"gridcolor\": \"white\", \"linecolor\": \"white\", \"ticks\": \"\", \"title\": {\"standoff\": 15}, \"zerolinecolor\": \"white\", \"zerolinewidth\": 2}}}, \"title\": {\"font\": {\"color\": \"#4D5663\"}}, \"xaxis\": {\"gridcolor\": \"#E1E5ED\", \"showgrid\": true, \"tickfont\": {\"color\": \"#4D5663\"}, \"title\": {\"font\": {\"color\": \"#4D5663\"}, \"text\": \"\"}, \"zerolinecolor\": \"#E1E5ED\"}, \"yaxis\": {\"gridcolor\": \"#E1E5ED\", \"showgrid\": true, \"tickfont\": {\"color\": \"#4D5663\"}, \"title\": {\"font\": {\"color\": \"#4D5663\"}, \"text\": \"\"}, \"zerolinecolor\": \"#E1E5ED\"}},                        {\"showLink\": true, \"linkText\": \"Export to plot.ly\", \"plotlyServerURL\": \"https://plot.ly\", \"responsive\": true}                    ).then(function(){\n",
       "                            \n",
       "var gd = document.getElementById('183b27d6-85b9-4c4a-85cd-401abf214a85');\n",
       "var x = new MutationObserver(function (mutations, observer) {{\n",
       "        var display = window.getComputedStyle(gd).display;\n",
       "        if (!display || display === 'none') {{\n",
       "            console.log([gd, 'removed!']);\n",
       "            Plotly.purge(gd);\n",
       "            observer.disconnect();\n",
       "        }}\n",
       "}});\n",
       "\n",
       "// Listen for the removal of the full notebook cells\n",
       "var notebookContainer = gd.closest('#notebook-container');\n",
       "if (notebookContainer) {{\n",
       "    x.observe(notebookContainer, {childList: true});\n",
       "}}\n",
       "\n",
       "// Listen for the clearing of the current output cell\n",
       "var outputEl = gd.closest('.output');\n",
       "if (outputEl) {{\n",
       "    x.observe(outputEl, {childList: true});\n",
       "}}\n",
       "\n",
       "                        })                };                });            </script>        </div>"
      ]
     },
     "metadata": {},
     "output_type": "display_data"
    }
   ],
   "source": [
    "df['A'].iplot(kind='hist',bins=25)"
   ]
  },
  {
   "cell_type": "code",
   "execution_count": 17,
   "metadata": {},
   "outputs": [
    {
     "data": {
      "application/vnd.plotly.v1+json": {
       "config": {
        "linkText": "Export to plot.ly",
        "plotlyServerURL": "https://plot.ly",
        "showLink": true
       },
       "data": [
        {
         "marker": {
          "color": [
           "rgb(255, 153, 51)",
           "rgb(55, 128, 191)",
           "rgb(50, 171, 96)",
           "rgb(128, 0, 128)",
           "rgb(219, 64, 82)",
           "rgb(0, 128, 128)",
           "rgb(255, 255, 51)",
           "rgb(128, 128, 0)",
           "rgb(251, 128, 114)",
           "rgb(128, 177, 211)"
          ],
          "line": {
           "width": 1.3
          },
          "size": [
           86,
           81,
           86,
           57,
           84,
           39,
           30,
           31,
           61,
           32,
           74,
           42,
           43,
           66,
           65,
           49,
           71,
           68,
           34,
           69,
           63,
           66,
           59,
           52,
           53,
           66,
           36,
           59,
           84,
           69,
           79,
           89,
           59,
           80,
           66,
           61,
           88,
           71,
           54,
           74,
           38,
           94,
           96,
           52,
           44,
           88,
           79,
           60,
           28,
           56,
           55,
           90,
           55,
           57,
           74,
           39,
           81,
           51,
           12,
           91,
           76,
           69,
           78,
           76,
           72,
           50,
           62,
           71,
           26,
           70,
           65,
           58,
           62,
           32,
           21,
           25,
           44,
           16,
           60,
           19,
           51,
           67,
           72,
           46,
           55,
           63,
           49,
           50,
           29,
           88,
           56,
           33,
           81,
           66,
           64,
           64,
           41,
           65,
           85,
           112
          ],
          "symbol": "circle"
         },
         "mode": "markers",
         "text": "",
         "type": "scatter",
         "x": [
          0.062403000348056896,
          0.682158388145421,
          0.3268464575434144,
          0.28422394171376936,
          -0.8930677967906131,
          0.041223291518847946,
          1.4782858523800568,
          -0.01722465247120283,
          0.20354506830826805,
          -0.4545305600633967,
          -0.38981019744658657,
          -1.3603820914539406,
          -0.1930434719473086,
          -0.4242067670561226,
          0.5805237728658952,
          0.0182563537413149,
          0.5893475068103087,
          0.03891119531541383,
          -1.1659803041570214,
          -1.4954814632608548,
          0.6410459252420906,
          -1.8173897668947723,
          1.1476736695558079,
          -0.008637510156530056,
          0.7333610287703045,
          -0.00341856027323607,
          -0.1705957221128231,
          -0.2755653598251552,
          -0.7028999920512963,
          -0.7686762441966566,
          -1.4320039221064242,
          -0.3777920709864464,
          -0.7893304727600577,
          -1.462585693582685,
          0.25606012549675394,
          -0.7328012321850637,
          0.9282689238426763,
          1.1757725189552224,
          0.5497232961895439,
          1.3504414595074608,
          0.36879921331976007,
          0.6474329912861589,
          0.3425748143184703,
          -0.5524096866845196,
          0.22771702810119573,
          -0.01856107928186663,
          -0.505035272141574,
          1.83767051387475,
          0.7758446792672782,
          0.49530351834577024,
          -0.8959516679869598,
          0.19244410049328461,
          -0.028152661422717846,
          0.2446391640032037,
          -0.8544538723417219,
          -1.1987174971252845,
          -1.0351821498442066,
          1.630876494005205,
          -1.1732747762090505,
          -0.6522848289203391,
          -1.166608830105591,
          -0.6660716373175085,
          0.49650677118547343,
          0.280945589781803,
          2.590006720593593,
          0.4641214459824001,
          0.4167417130776699,
          0.814643013951977,
          -2.135518795380281,
          0.6136241313529066,
          -0.9426705484649059,
          1.050069499491585,
          1.478207789341703,
          -0.6391499024396073,
          1.1037544258288825,
          1.598744213446337,
          -0.9214180706170372,
          -1.2027125149729223,
          -0.8141297322283779,
          0.4167869704791297,
          -0.5529385483286148,
          0.3472229204713509,
          0.718239409702939,
          -0.28359798177231077,
          -0.39401886897279204,
          -0.8053865090960546,
          0.31592140452817635,
          1.2882667023943803,
          0.6850003377061532,
          -1.653096366834222,
          0.10423440668142835,
          -1.1225488317606467,
          -0.7634534972151744,
          0.845927206975368,
          2.4774967936593364,
          -1.1920806362525922,
          -0.932594950136978,
          2.440937192420902,
          -1.0872222548948827,
          0.8000874593014355
         ],
         "y": [
          -1.2990683753780665,
          1.624681381422417,
          1.1050144336626813,
          -0.18855637354967572,
          0.48478649153248393,
          -0.1518918367515998,
          -0.7101304630074858,
          -0.8314894580215793,
          0.14864838275340203,
          -0.9883549688724185,
          0.2619736329233981,
          0.433341791706317,
          0.4144785136898204,
          0.5033067567904287,
          1.4965554538363868,
          1.956617306686328,
          -0.578245281812172,
          -1.4174671610760066,
          0.2509113970016073,
          -0.6854460438222966,
          0.23852252212573566,
          -0.4374775713005923,
          0.7413855687297202,
          0.10556881914297436,
          0.1585873008040566,
          2.233260861019369,
          -0.09929731120607435,
          0.7241044725523446,
          0.535088540547648,
          0.5580949721210654,
          -0.11338290316044461,
          -0.7731897813122994,
          -0.45846386467525907,
          -0.2617599441544949,
          -0.6477024075551885,
          -1.4554017026133887,
          0.24741918994602477,
          -0.22522232259468344,
          0.5469031092445472,
          -0.2815805553595161,
          -0.14730474978832764,
          2.152082602828211,
          -0.5849732814667612,
          -1.1672480227212263,
          -1.936000387514932,
          -0.6068892020585201,
          -0.004093622653018009,
          1.768152919880954,
          -0.47379149100178425,
          0.4096662408886199,
          -0.8298725088760005,
          0.23714593080153104,
          1.7182916716167476,
          -0.5536416369860518,
          -0.5008585162696602,
          0.12531474389952071,
          -0.3102922723523502,
          0.3212082519347096,
          0.1273991345162948,
          1.4676643819725206,
          -0.00954134812271558,
          -2.515191437159899,
          0.2858322905211471,
          1.6148968929893681,
          -0.41540727418007933,
          0.7432364152956532,
          0.08943293717910389,
          0.45863524503738756,
          -1.5130666419626568,
          0.25537119307039896,
          0.646208704821914,
          0.14045644314235028,
          -1.654436346805644,
          -1.2485137655752985,
          -1.220472804150455,
          0.5874098939074718,
          -0.8832102261481436,
          -0.7988314318980299,
          -0.573780450292032,
          -1.0383213758032692,
          -0.6318717788688629,
          0.00039752972621937476,
          1.1981581595577502,
          -2.5099274433561014,
          -0.2712993286356339,
          0.18780065535996154,
          -0.5580110046021268,
          -1.373552616923043,
          -0.08136658740476707,
          -0.500895465414146,
          -0.28648841769671246,
          0.760700335336526,
          1.2828632663819213,
          0.6375084363947762,
          0.09553303045392961,
          0.9602945758003074,
          1.264248937029117,
          -0.12940953282095385,
          -1.8627436208339199,
          -0.35263576599728114
         ]
        }
       ],
       "layout": {
        "legend": {
         "bgcolor": "#F5F6F9",
         "font": {
          "color": "#4D5663"
         }
        },
        "paper_bgcolor": "#F5F6F9",
        "plot_bgcolor": "#F5F6F9",
        "template": {
         "data": {
          "bar": [
           {
            "error_x": {
             "color": "#2a3f5f"
            },
            "error_y": {
             "color": "#2a3f5f"
            },
            "marker": {
             "line": {
              "color": "#E5ECF6",
              "width": 0.5
             }
            },
            "type": "bar"
           }
          ],
          "barpolar": [
           {
            "marker": {
             "line": {
              "color": "#E5ECF6",
              "width": 0.5
             }
            },
            "type": "barpolar"
           }
          ],
          "carpet": [
           {
            "aaxis": {
             "endlinecolor": "#2a3f5f",
             "gridcolor": "white",
             "linecolor": "white",
             "minorgridcolor": "white",
             "startlinecolor": "#2a3f5f"
            },
            "baxis": {
             "endlinecolor": "#2a3f5f",
             "gridcolor": "white",
             "linecolor": "white",
             "minorgridcolor": "white",
             "startlinecolor": "#2a3f5f"
            },
            "type": "carpet"
           }
          ],
          "choropleth": [
           {
            "colorbar": {
             "outlinewidth": 0,
             "ticks": ""
            },
            "type": "choropleth"
           }
          ],
          "contour": [
           {
            "colorbar": {
             "outlinewidth": 0,
             "ticks": ""
            },
            "colorscale": [
             [
              0,
              "#0d0887"
             ],
             [
              0.1111111111111111,
              "#46039f"
             ],
             [
              0.2222222222222222,
              "#7201a8"
             ],
             [
              0.3333333333333333,
              "#9c179e"
             ],
             [
              0.4444444444444444,
              "#bd3786"
             ],
             [
              0.5555555555555556,
              "#d8576b"
             ],
             [
              0.6666666666666666,
              "#ed7953"
             ],
             [
              0.7777777777777778,
              "#fb9f3a"
             ],
             [
              0.8888888888888888,
              "#fdca26"
             ],
             [
              1,
              "#f0f921"
             ]
            ],
            "type": "contour"
           }
          ],
          "contourcarpet": [
           {
            "colorbar": {
             "outlinewidth": 0,
             "ticks": ""
            },
            "type": "contourcarpet"
           }
          ],
          "heatmap": [
           {
            "colorbar": {
             "outlinewidth": 0,
             "ticks": ""
            },
            "colorscale": [
             [
              0,
              "#0d0887"
             ],
             [
              0.1111111111111111,
              "#46039f"
             ],
             [
              0.2222222222222222,
              "#7201a8"
             ],
             [
              0.3333333333333333,
              "#9c179e"
             ],
             [
              0.4444444444444444,
              "#bd3786"
             ],
             [
              0.5555555555555556,
              "#d8576b"
             ],
             [
              0.6666666666666666,
              "#ed7953"
             ],
             [
              0.7777777777777778,
              "#fb9f3a"
             ],
             [
              0.8888888888888888,
              "#fdca26"
             ],
             [
              1,
              "#f0f921"
             ]
            ],
            "type": "heatmap"
           }
          ],
          "heatmapgl": [
           {
            "colorbar": {
             "outlinewidth": 0,
             "ticks": ""
            },
            "colorscale": [
             [
              0,
              "#0d0887"
             ],
             [
              0.1111111111111111,
              "#46039f"
             ],
             [
              0.2222222222222222,
              "#7201a8"
             ],
             [
              0.3333333333333333,
              "#9c179e"
             ],
             [
              0.4444444444444444,
              "#bd3786"
             ],
             [
              0.5555555555555556,
              "#d8576b"
             ],
             [
              0.6666666666666666,
              "#ed7953"
             ],
             [
              0.7777777777777778,
              "#fb9f3a"
             ],
             [
              0.8888888888888888,
              "#fdca26"
             ],
             [
              1,
              "#f0f921"
             ]
            ],
            "type": "heatmapgl"
           }
          ],
          "histogram": [
           {
            "marker": {
             "colorbar": {
              "outlinewidth": 0,
              "ticks": ""
             }
            },
            "type": "histogram"
           }
          ],
          "histogram2d": [
           {
            "colorbar": {
             "outlinewidth": 0,
             "ticks": ""
            },
            "colorscale": [
             [
              0,
              "#0d0887"
             ],
             [
              0.1111111111111111,
              "#46039f"
             ],
             [
              0.2222222222222222,
              "#7201a8"
             ],
             [
              0.3333333333333333,
              "#9c179e"
             ],
             [
              0.4444444444444444,
              "#bd3786"
             ],
             [
              0.5555555555555556,
              "#d8576b"
             ],
             [
              0.6666666666666666,
              "#ed7953"
             ],
             [
              0.7777777777777778,
              "#fb9f3a"
             ],
             [
              0.8888888888888888,
              "#fdca26"
             ],
             [
              1,
              "#f0f921"
             ]
            ],
            "type": "histogram2d"
           }
          ],
          "histogram2dcontour": [
           {
            "colorbar": {
             "outlinewidth": 0,
             "ticks": ""
            },
            "colorscale": [
             [
              0,
              "#0d0887"
             ],
             [
              0.1111111111111111,
              "#46039f"
             ],
             [
              0.2222222222222222,
              "#7201a8"
             ],
             [
              0.3333333333333333,
              "#9c179e"
             ],
             [
              0.4444444444444444,
              "#bd3786"
             ],
             [
              0.5555555555555556,
              "#d8576b"
             ],
             [
              0.6666666666666666,
              "#ed7953"
             ],
             [
              0.7777777777777778,
              "#fb9f3a"
             ],
             [
              0.8888888888888888,
              "#fdca26"
             ],
             [
              1,
              "#f0f921"
             ]
            ],
            "type": "histogram2dcontour"
           }
          ],
          "mesh3d": [
           {
            "colorbar": {
             "outlinewidth": 0,
             "ticks": ""
            },
            "type": "mesh3d"
           }
          ],
          "parcoords": [
           {
            "line": {
             "colorbar": {
              "outlinewidth": 0,
              "ticks": ""
             }
            },
            "type": "parcoords"
           }
          ],
          "pie": [
           {
            "automargin": true,
            "type": "pie"
           }
          ],
          "scatter": [
           {
            "marker": {
             "colorbar": {
              "outlinewidth": 0,
              "ticks": ""
             }
            },
            "type": "scatter"
           }
          ],
          "scatter3d": [
           {
            "line": {
             "colorbar": {
              "outlinewidth": 0,
              "ticks": ""
             }
            },
            "marker": {
             "colorbar": {
              "outlinewidth": 0,
              "ticks": ""
             }
            },
            "type": "scatter3d"
           }
          ],
          "scattercarpet": [
           {
            "marker": {
             "colorbar": {
              "outlinewidth": 0,
              "ticks": ""
             }
            },
            "type": "scattercarpet"
           }
          ],
          "scattergeo": [
           {
            "marker": {
             "colorbar": {
              "outlinewidth": 0,
              "ticks": ""
             }
            },
            "type": "scattergeo"
           }
          ],
          "scattergl": [
           {
            "marker": {
             "colorbar": {
              "outlinewidth": 0,
              "ticks": ""
             }
            },
            "type": "scattergl"
           }
          ],
          "scattermapbox": [
           {
            "marker": {
             "colorbar": {
              "outlinewidth": 0,
              "ticks": ""
             }
            },
            "type": "scattermapbox"
           }
          ],
          "scatterpolar": [
           {
            "marker": {
             "colorbar": {
              "outlinewidth": 0,
              "ticks": ""
             }
            },
            "type": "scatterpolar"
           }
          ],
          "scatterpolargl": [
           {
            "marker": {
             "colorbar": {
              "outlinewidth": 0,
              "ticks": ""
             }
            },
            "type": "scatterpolargl"
           }
          ],
          "scatterternary": [
           {
            "marker": {
             "colorbar": {
              "outlinewidth": 0,
              "ticks": ""
             }
            },
            "type": "scatterternary"
           }
          ],
          "surface": [
           {
            "colorbar": {
             "outlinewidth": 0,
             "ticks": ""
            },
            "colorscale": [
             [
              0,
              "#0d0887"
             ],
             [
              0.1111111111111111,
              "#46039f"
             ],
             [
              0.2222222222222222,
              "#7201a8"
             ],
             [
              0.3333333333333333,
              "#9c179e"
             ],
             [
              0.4444444444444444,
              "#bd3786"
             ],
             [
              0.5555555555555556,
              "#d8576b"
             ],
             [
              0.6666666666666666,
              "#ed7953"
             ],
             [
              0.7777777777777778,
              "#fb9f3a"
             ],
             [
              0.8888888888888888,
              "#fdca26"
             ],
             [
              1,
              "#f0f921"
             ]
            ],
            "type": "surface"
           }
          ],
          "table": [
           {
            "cells": {
             "fill": {
              "color": "#EBF0F8"
             },
             "line": {
              "color": "white"
             }
            },
            "header": {
             "fill": {
              "color": "#C8D4E3"
             },
             "line": {
              "color": "white"
             }
            },
            "type": "table"
           }
          ]
         },
         "layout": {
          "annotationdefaults": {
           "arrowcolor": "#2a3f5f",
           "arrowhead": 0,
           "arrowwidth": 1
          },
          "autotypenumbers": "strict",
          "coloraxis": {
           "colorbar": {
            "outlinewidth": 0,
            "ticks": ""
           }
          },
          "colorscale": {
           "diverging": [
            [
             0,
             "#8e0152"
            ],
            [
             0.1,
             "#c51b7d"
            ],
            [
             0.2,
             "#de77ae"
            ],
            [
             0.3,
             "#f1b6da"
            ],
            [
             0.4,
             "#fde0ef"
            ],
            [
             0.5,
             "#f7f7f7"
            ],
            [
             0.6,
             "#e6f5d0"
            ],
            [
             0.7,
             "#b8e186"
            ],
            [
             0.8,
             "#7fbc41"
            ],
            [
             0.9,
             "#4d9221"
            ],
            [
             1,
             "#276419"
            ]
           ],
           "sequential": [
            [
             0,
             "#0d0887"
            ],
            [
             0.1111111111111111,
             "#46039f"
            ],
            [
             0.2222222222222222,
             "#7201a8"
            ],
            [
             0.3333333333333333,
             "#9c179e"
            ],
            [
             0.4444444444444444,
             "#bd3786"
            ],
            [
             0.5555555555555556,
             "#d8576b"
            ],
            [
             0.6666666666666666,
             "#ed7953"
            ],
            [
             0.7777777777777778,
             "#fb9f3a"
            ],
            [
             0.8888888888888888,
             "#fdca26"
            ],
            [
             1,
             "#f0f921"
            ]
           ],
           "sequentialminus": [
            [
             0,
             "#0d0887"
            ],
            [
             0.1111111111111111,
             "#46039f"
            ],
            [
             0.2222222222222222,
             "#7201a8"
            ],
            [
             0.3333333333333333,
             "#9c179e"
            ],
            [
             0.4444444444444444,
             "#bd3786"
            ],
            [
             0.5555555555555556,
             "#d8576b"
            ],
            [
             0.6666666666666666,
             "#ed7953"
            ],
            [
             0.7777777777777778,
             "#fb9f3a"
            ],
            [
             0.8888888888888888,
             "#fdca26"
            ],
            [
             1,
             "#f0f921"
            ]
           ]
          },
          "colorway": [
           "#636efa",
           "#EF553B",
           "#00cc96",
           "#ab63fa",
           "#FFA15A",
           "#19d3f3",
           "#FF6692",
           "#B6E880",
           "#FF97FF",
           "#FECB52"
          ],
          "font": {
           "color": "#2a3f5f"
          },
          "geo": {
           "bgcolor": "white",
           "lakecolor": "white",
           "landcolor": "#E5ECF6",
           "showlakes": true,
           "showland": true,
           "subunitcolor": "white"
          },
          "hoverlabel": {
           "align": "left"
          },
          "hovermode": "closest",
          "mapbox": {
           "style": "light"
          },
          "paper_bgcolor": "white",
          "plot_bgcolor": "#E5ECF6",
          "polar": {
           "angularaxis": {
            "gridcolor": "white",
            "linecolor": "white",
            "ticks": ""
           },
           "bgcolor": "#E5ECF6",
           "radialaxis": {
            "gridcolor": "white",
            "linecolor": "white",
            "ticks": ""
           }
          },
          "scene": {
           "xaxis": {
            "backgroundcolor": "#E5ECF6",
            "gridcolor": "white",
            "gridwidth": 2,
            "linecolor": "white",
            "showbackground": true,
            "ticks": "",
            "zerolinecolor": "white"
           },
           "yaxis": {
            "backgroundcolor": "#E5ECF6",
            "gridcolor": "white",
            "gridwidth": 2,
            "linecolor": "white",
            "showbackground": true,
            "ticks": "",
            "zerolinecolor": "white"
           },
           "zaxis": {
            "backgroundcolor": "#E5ECF6",
            "gridcolor": "white",
            "gridwidth": 2,
            "linecolor": "white",
            "showbackground": true,
            "ticks": "",
            "zerolinecolor": "white"
           }
          },
          "shapedefaults": {
           "line": {
            "color": "#2a3f5f"
           }
          },
          "ternary": {
           "aaxis": {
            "gridcolor": "white",
            "linecolor": "white",
            "ticks": ""
           },
           "baxis": {
            "gridcolor": "white",
            "linecolor": "white",
            "ticks": ""
           },
           "bgcolor": "#E5ECF6",
           "caxis": {
            "gridcolor": "white",
            "linecolor": "white",
            "ticks": ""
           }
          },
          "title": {
           "x": 0.05
          },
          "xaxis": {
           "automargin": true,
           "gridcolor": "white",
           "linecolor": "white",
           "ticks": "",
           "title": {
            "standoff": 15
           },
           "zerolinecolor": "white",
           "zerolinewidth": 2
          },
          "yaxis": {
           "automargin": true,
           "gridcolor": "white",
           "linecolor": "white",
           "ticks": "",
           "title": {
            "standoff": 15
           },
           "zerolinecolor": "white",
           "zerolinewidth": 2
          }
         }
        },
        "title": {
         "font": {
          "color": "#4D5663"
         }
        },
        "xaxis": {
         "gridcolor": "#E1E5ED",
         "showgrid": true,
         "tickfont": {
          "color": "#4D5663"
         },
         "title": {
          "font": {
           "color": "#4D5663"
          },
          "text": ""
         },
         "zerolinecolor": "#E1E5ED"
        },
        "yaxis": {
         "gridcolor": "#E1E5ED",
         "showgrid": true,
         "tickfont": {
          "color": "#4D5663"
         },
         "title": {
          "font": {
           "color": "#4D5663"
          },
          "text": ""
         },
         "zerolinecolor": "#E1E5ED"
        }
       }
      },
      "text/html": [
       "<div>                            <div id=\"cc77e44d-67c6-49ec-b745-1791d64ef546\" class=\"plotly-graph-div\" style=\"height:525px; width:100%;\"></div>            <script type=\"text/javascript\">                require([\"plotly\"], function(Plotly) {                    window.PLOTLYENV=window.PLOTLYENV || {};\n",
       "                    window.PLOTLYENV.BASE_URL='https://plot.ly';                                    if (document.getElementById(\"cc77e44d-67c6-49ec-b745-1791d64ef546\")) {                    Plotly.newPlot(                        \"cc77e44d-67c6-49ec-b745-1791d64ef546\",                        [{\"marker\": {\"color\": [\"rgb(255, 153, 51)\", \"rgb(55, 128, 191)\", \"rgb(50, 171, 96)\", \"rgb(128, 0, 128)\", \"rgb(219, 64, 82)\", \"rgb(0, 128, 128)\", \"rgb(255, 255, 51)\", \"rgb(128, 128, 0)\", \"rgb(251, 128, 114)\", \"rgb(128, 177, 211)\"], \"line\": {\"width\": 1.3}, \"size\": [86, 81, 86, 57, 84, 39, 30, 31, 61, 32, 74, 42, 43, 66, 65, 49, 71, 68, 34, 69, 63, 66, 59, 52, 53, 66, 36, 59, 84, 69, 79, 89, 59, 80, 66, 61, 88, 71, 54, 74, 38, 94, 96, 52, 44, 88, 79, 60, 28, 56, 55, 90, 55, 57, 74, 39, 81, 51, 12, 91, 76, 69, 78, 76, 72, 50, 62, 71, 26, 70, 65, 58, 62, 32, 21, 25, 44, 16, 60, 19, 51, 67, 72, 46, 55, 63, 49, 50, 29, 88, 56, 33, 81, 66, 64, 64, 41, 65, 85, 112], \"symbol\": \"circle\"}, \"mode\": \"markers\", \"text\": \"\", \"type\": \"scatter\", \"x\": [0.062403000348056896, 0.682158388145421, 0.3268464575434144, 0.28422394171376936, -0.8930677967906131, 0.041223291518847946, 1.4782858523800568, -0.01722465247120283, 0.20354506830826805, -0.4545305600633967, -0.38981019744658657, -1.3603820914539406, -0.1930434719473086, -0.4242067670561226, 0.5805237728658952, 0.0182563537413149, 0.5893475068103087, 0.03891119531541383, -1.1659803041570214, -1.4954814632608548, 0.6410459252420906, -1.8173897668947723, 1.1476736695558079, -0.008637510156530056, 0.7333610287703045, -0.00341856027323607, -0.1705957221128231, -0.2755653598251552, -0.7028999920512963, -0.7686762441966566, -1.4320039221064242, -0.3777920709864464, -0.7893304727600577, -1.462585693582685, 0.25606012549675394, -0.7328012321850637, 0.9282689238426763, 1.1757725189552224, 0.5497232961895439, 1.3504414595074608, 0.36879921331976007, 0.6474329912861589, 0.3425748143184703, -0.5524096866845196, 0.22771702810119573, -0.01856107928186663, -0.505035272141574, 1.83767051387475, 0.7758446792672782, 0.49530351834577024, -0.8959516679869598, 0.19244410049328461, -0.028152661422717846, 0.2446391640032037, -0.8544538723417219, -1.1987174971252845, -1.0351821498442066, 1.630876494005205, -1.1732747762090505, -0.6522848289203391, -1.166608830105591, -0.6660716373175085, 0.49650677118547343, 0.280945589781803, 2.590006720593593, 0.4641214459824001, 0.4167417130776699, 0.814643013951977, -2.135518795380281, 0.6136241313529066, -0.9426705484649059, 1.050069499491585, 1.478207789341703, -0.6391499024396073, 1.1037544258288825, 1.598744213446337, -0.9214180706170372, -1.2027125149729223, -0.8141297322283779, 0.4167869704791297, -0.5529385483286148, 0.3472229204713509, 0.718239409702939, -0.28359798177231077, -0.39401886897279204, -0.8053865090960546, 0.31592140452817635, 1.2882667023943803, 0.6850003377061532, -1.653096366834222, 0.10423440668142835, -1.1225488317606467, -0.7634534972151744, 0.845927206975368, 2.4774967936593364, -1.1920806362525922, -0.932594950136978, 2.440937192420902, -1.0872222548948827, 0.8000874593014355], \"y\": [-1.2990683753780665, 1.624681381422417, 1.1050144336626813, -0.18855637354967572, 0.48478649153248393, -0.1518918367515998, -0.7101304630074858, -0.8314894580215793, 0.14864838275340203, -0.9883549688724185, 0.2619736329233981, 0.433341791706317, 0.4144785136898204, 0.5033067567904287, 1.4965554538363868, 1.956617306686328, -0.578245281812172, -1.4174671610760066, 0.2509113970016073, -0.6854460438222966, 0.23852252212573566, -0.4374775713005923, 0.7413855687297202, 0.10556881914297436, 0.1585873008040566, 2.233260861019369, -0.09929731120607435, 0.7241044725523446, 0.535088540547648, 0.5580949721210654, -0.11338290316044461, -0.7731897813122994, -0.45846386467525907, -0.2617599441544949, -0.6477024075551885, -1.4554017026133887, 0.24741918994602477, -0.22522232259468344, 0.5469031092445472, -0.2815805553595161, -0.14730474978832764, 2.152082602828211, -0.5849732814667612, -1.1672480227212263, -1.936000387514932, -0.6068892020585201, -0.004093622653018009, 1.768152919880954, -0.47379149100178425, 0.4096662408886199, -0.8298725088760005, 0.23714593080153104, 1.7182916716167476, -0.5536416369860518, -0.5008585162696602, 0.12531474389952071, -0.3102922723523502, 0.3212082519347096, 0.1273991345162948, 1.4676643819725206, -0.00954134812271558, -2.515191437159899, 0.2858322905211471, 1.6148968929893681, -0.41540727418007933, 0.7432364152956532, 0.08943293717910389, 0.45863524503738756, -1.5130666419626568, 0.25537119307039896, 0.646208704821914, 0.14045644314235028, -1.654436346805644, -1.2485137655752985, -1.220472804150455, 0.5874098939074718, -0.8832102261481436, -0.7988314318980299, -0.573780450292032, -1.0383213758032692, -0.6318717788688629, 0.00039752972621937476, 1.1981581595577502, -2.5099274433561014, -0.2712993286356339, 0.18780065535996154, -0.5580110046021268, -1.373552616923043, -0.08136658740476707, -0.500895465414146, -0.28648841769671246, 0.760700335336526, 1.2828632663819213, 0.6375084363947762, 0.09553303045392961, 0.9602945758003074, 1.264248937029117, -0.12940953282095385, -1.8627436208339199, -0.35263576599728114]}],                        {\"legend\": {\"bgcolor\": \"#F5F6F9\", \"font\": {\"color\": \"#4D5663\"}}, \"paper_bgcolor\": \"#F5F6F9\", \"plot_bgcolor\": \"#F5F6F9\", \"template\": {\"data\": {\"bar\": [{\"error_x\": {\"color\": \"#2a3f5f\"}, \"error_y\": {\"color\": \"#2a3f5f\"}, \"marker\": {\"line\": {\"color\": \"#E5ECF6\", \"width\": 0.5}}, \"type\": \"bar\"}], \"barpolar\": [{\"marker\": {\"line\": {\"color\": \"#E5ECF6\", \"width\": 0.5}}, \"type\": \"barpolar\"}], \"carpet\": [{\"aaxis\": {\"endlinecolor\": \"#2a3f5f\", \"gridcolor\": \"white\", \"linecolor\": \"white\", \"minorgridcolor\": \"white\", \"startlinecolor\": \"#2a3f5f\"}, \"baxis\": {\"endlinecolor\": \"#2a3f5f\", \"gridcolor\": \"white\", \"linecolor\": \"white\", \"minorgridcolor\": \"white\", \"startlinecolor\": \"#2a3f5f\"}, \"type\": \"carpet\"}], \"choropleth\": [{\"colorbar\": {\"outlinewidth\": 0, \"ticks\": \"\"}, \"type\": \"choropleth\"}], \"contour\": [{\"colorbar\": {\"outlinewidth\": 0, \"ticks\": \"\"}, \"colorscale\": [[0.0, \"#0d0887\"], [0.1111111111111111, \"#46039f\"], [0.2222222222222222, \"#7201a8\"], [0.3333333333333333, \"#9c179e\"], [0.4444444444444444, \"#bd3786\"], [0.5555555555555556, \"#d8576b\"], [0.6666666666666666, \"#ed7953\"], [0.7777777777777778, \"#fb9f3a\"], [0.8888888888888888, \"#fdca26\"], [1.0, \"#f0f921\"]], \"type\": \"contour\"}], \"contourcarpet\": [{\"colorbar\": {\"outlinewidth\": 0, \"ticks\": \"\"}, \"type\": \"contourcarpet\"}], \"heatmap\": [{\"colorbar\": {\"outlinewidth\": 0, \"ticks\": \"\"}, \"colorscale\": [[0.0, \"#0d0887\"], [0.1111111111111111, \"#46039f\"], [0.2222222222222222, \"#7201a8\"], [0.3333333333333333, \"#9c179e\"], [0.4444444444444444, \"#bd3786\"], [0.5555555555555556, \"#d8576b\"], [0.6666666666666666, \"#ed7953\"], [0.7777777777777778, \"#fb9f3a\"], [0.8888888888888888, \"#fdca26\"], [1.0, \"#f0f921\"]], \"type\": \"heatmap\"}], \"heatmapgl\": [{\"colorbar\": {\"outlinewidth\": 0, \"ticks\": \"\"}, \"colorscale\": [[0.0, \"#0d0887\"], [0.1111111111111111, \"#46039f\"], [0.2222222222222222, \"#7201a8\"], [0.3333333333333333, \"#9c179e\"], [0.4444444444444444, \"#bd3786\"], [0.5555555555555556, \"#d8576b\"], [0.6666666666666666, \"#ed7953\"], [0.7777777777777778, \"#fb9f3a\"], [0.8888888888888888, \"#fdca26\"], [1.0, \"#f0f921\"]], \"type\": \"heatmapgl\"}], \"histogram\": [{\"marker\": {\"colorbar\": {\"outlinewidth\": 0, \"ticks\": \"\"}}, \"type\": \"histogram\"}], \"histogram2d\": [{\"colorbar\": {\"outlinewidth\": 0, \"ticks\": \"\"}, \"colorscale\": [[0.0, \"#0d0887\"], [0.1111111111111111, \"#46039f\"], [0.2222222222222222, \"#7201a8\"], [0.3333333333333333, \"#9c179e\"], [0.4444444444444444, \"#bd3786\"], [0.5555555555555556, \"#d8576b\"], [0.6666666666666666, \"#ed7953\"], [0.7777777777777778, \"#fb9f3a\"], [0.8888888888888888, \"#fdca26\"], [1.0, \"#f0f921\"]], \"type\": \"histogram2d\"}], \"histogram2dcontour\": [{\"colorbar\": {\"outlinewidth\": 0, \"ticks\": \"\"}, \"colorscale\": [[0.0, \"#0d0887\"], [0.1111111111111111, \"#46039f\"], [0.2222222222222222, \"#7201a8\"], [0.3333333333333333, \"#9c179e\"], [0.4444444444444444, \"#bd3786\"], [0.5555555555555556, \"#d8576b\"], [0.6666666666666666, \"#ed7953\"], [0.7777777777777778, \"#fb9f3a\"], [0.8888888888888888, \"#fdca26\"], [1.0, \"#f0f921\"]], \"type\": \"histogram2dcontour\"}], \"mesh3d\": [{\"colorbar\": {\"outlinewidth\": 0, \"ticks\": \"\"}, \"type\": \"mesh3d\"}], \"parcoords\": [{\"line\": {\"colorbar\": {\"outlinewidth\": 0, \"ticks\": \"\"}}, \"type\": \"parcoords\"}], \"pie\": [{\"automargin\": true, \"type\": \"pie\"}], \"scatter\": [{\"marker\": {\"colorbar\": {\"outlinewidth\": 0, \"ticks\": \"\"}}, \"type\": \"scatter\"}], \"scatter3d\": [{\"line\": {\"colorbar\": {\"outlinewidth\": 0, \"ticks\": \"\"}}, \"marker\": {\"colorbar\": {\"outlinewidth\": 0, \"ticks\": \"\"}}, \"type\": \"scatter3d\"}], \"scattercarpet\": [{\"marker\": {\"colorbar\": {\"outlinewidth\": 0, \"ticks\": \"\"}}, \"type\": \"scattercarpet\"}], \"scattergeo\": [{\"marker\": {\"colorbar\": {\"outlinewidth\": 0, \"ticks\": \"\"}}, \"type\": \"scattergeo\"}], \"scattergl\": [{\"marker\": {\"colorbar\": {\"outlinewidth\": 0, \"ticks\": \"\"}}, \"type\": \"scattergl\"}], \"scattermapbox\": [{\"marker\": {\"colorbar\": {\"outlinewidth\": 0, \"ticks\": \"\"}}, \"type\": \"scattermapbox\"}], \"scatterpolar\": [{\"marker\": {\"colorbar\": {\"outlinewidth\": 0, \"ticks\": \"\"}}, \"type\": \"scatterpolar\"}], \"scatterpolargl\": [{\"marker\": {\"colorbar\": {\"outlinewidth\": 0, \"ticks\": \"\"}}, \"type\": \"scatterpolargl\"}], \"scatterternary\": [{\"marker\": {\"colorbar\": {\"outlinewidth\": 0, \"ticks\": \"\"}}, \"type\": \"scatterternary\"}], \"surface\": [{\"colorbar\": {\"outlinewidth\": 0, \"ticks\": \"\"}, \"colorscale\": [[0.0, \"#0d0887\"], [0.1111111111111111, \"#46039f\"], [0.2222222222222222, \"#7201a8\"], [0.3333333333333333, \"#9c179e\"], [0.4444444444444444, \"#bd3786\"], [0.5555555555555556, \"#d8576b\"], [0.6666666666666666, \"#ed7953\"], [0.7777777777777778, \"#fb9f3a\"], [0.8888888888888888, \"#fdca26\"], [1.0, \"#f0f921\"]], \"type\": \"surface\"}], \"table\": [{\"cells\": {\"fill\": {\"color\": \"#EBF0F8\"}, \"line\": {\"color\": \"white\"}}, \"header\": {\"fill\": {\"color\": \"#C8D4E3\"}, \"line\": {\"color\": \"white\"}}, \"type\": \"table\"}]}, \"layout\": {\"annotationdefaults\": {\"arrowcolor\": \"#2a3f5f\", \"arrowhead\": 0, \"arrowwidth\": 1}, \"autotypenumbers\": \"strict\", \"coloraxis\": {\"colorbar\": {\"outlinewidth\": 0, \"ticks\": \"\"}}, \"colorscale\": {\"diverging\": [[0, \"#8e0152\"], [0.1, \"#c51b7d\"], [0.2, \"#de77ae\"], [0.3, \"#f1b6da\"], [0.4, \"#fde0ef\"], [0.5, \"#f7f7f7\"], [0.6, \"#e6f5d0\"], [0.7, \"#b8e186\"], [0.8, \"#7fbc41\"], [0.9, \"#4d9221\"], [1, \"#276419\"]], \"sequential\": [[0.0, \"#0d0887\"], [0.1111111111111111, \"#46039f\"], [0.2222222222222222, \"#7201a8\"], [0.3333333333333333, \"#9c179e\"], [0.4444444444444444, \"#bd3786\"], [0.5555555555555556, \"#d8576b\"], [0.6666666666666666, \"#ed7953\"], [0.7777777777777778, \"#fb9f3a\"], [0.8888888888888888, \"#fdca26\"], [1.0, \"#f0f921\"]], \"sequentialminus\": [[0.0, \"#0d0887\"], [0.1111111111111111, \"#46039f\"], [0.2222222222222222, \"#7201a8\"], [0.3333333333333333, \"#9c179e\"], [0.4444444444444444, \"#bd3786\"], [0.5555555555555556, \"#d8576b\"], [0.6666666666666666, \"#ed7953\"], [0.7777777777777778, \"#fb9f3a\"], [0.8888888888888888, \"#fdca26\"], [1.0, \"#f0f921\"]]}, \"colorway\": [\"#636efa\", \"#EF553B\", \"#00cc96\", \"#ab63fa\", \"#FFA15A\", \"#19d3f3\", \"#FF6692\", \"#B6E880\", \"#FF97FF\", \"#FECB52\"], \"font\": {\"color\": \"#2a3f5f\"}, \"geo\": {\"bgcolor\": \"white\", \"lakecolor\": \"white\", \"landcolor\": \"#E5ECF6\", \"showlakes\": true, \"showland\": true, \"subunitcolor\": \"white\"}, \"hoverlabel\": {\"align\": \"left\"}, \"hovermode\": \"closest\", \"mapbox\": {\"style\": \"light\"}, \"paper_bgcolor\": \"white\", \"plot_bgcolor\": \"#E5ECF6\", \"polar\": {\"angularaxis\": {\"gridcolor\": \"white\", \"linecolor\": \"white\", \"ticks\": \"\"}, \"bgcolor\": \"#E5ECF6\", \"radialaxis\": {\"gridcolor\": \"white\", \"linecolor\": \"white\", \"ticks\": \"\"}}, \"scene\": {\"xaxis\": {\"backgroundcolor\": \"#E5ECF6\", \"gridcolor\": \"white\", \"gridwidth\": 2, \"linecolor\": \"white\", \"showbackground\": true, \"ticks\": \"\", \"zerolinecolor\": \"white\"}, \"yaxis\": {\"backgroundcolor\": \"#E5ECF6\", \"gridcolor\": \"white\", \"gridwidth\": 2, \"linecolor\": \"white\", \"showbackground\": true, \"ticks\": \"\", \"zerolinecolor\": \"white\"}, \"zaxis\": {\"backgroundcolor\": \"#E5ECF6\", \"gridcolor\": \"white\", \"gridwidth\": 2, \"linecolor\": \"white\", \"showbackground\": true, \"ticks\": \"\", \"zerolinecolor\": \"white\"}}, \"shapedefaults\": {\"line\": {\"color\": \"#2a3f5f\"}}, \"ternary\": {\"aaxis\": {\"gridcolor\": \"white\", \"linecolor\": \"white\", \"ticks\": \"\"}, \"baxis\": {\"gridcolor\": \"white\", \"linecolor\": \"white\", \"ticks\": \"\"}, \"bgcolor\": \"#E5ECF6\", \"caxis\": {\"gridcolor\": \"white\", \"linecolor\": \"white\", \"ticks\": \"\"}}, \"title\": {\"x\": 0.05}, \"xaxis\": {\"automargin\": true, \"gridcolor\": \"white\", \"linecolor\": \"white\", \"ticks\": \"\", \"title\": {\"standoff\": 15}, \"zerolinecolor\": \"white\", \"zerolinewidth\": 2}, \"yaxis\": {\"automargin\": true, \"gridcolor\": \"white\", \"linecolor\": \"white\", \"ticks\": \"\", \"title\": {\"standoff\": 15}, \"zerolinecolor\": \"white\", \"zerolinewidth\": 2}}}, \"title\": {\"font\": {\"color\": \"#4D5663\"}}, \"xaxis\": {\"gridcolor\": \"#E1E5ED\", \"showgrid\": true, \"tickfont\": {\"color\": \"#4D5663\"}, \"title\": {\"font\": {\"color\": \"#4D5663\"}, \"text\": \"\"}, \"zerolinecolor\": \"#E1E5ED\"}, \"yaxis\": {\"gridcolor\": \"#E1E5ED\", \"showgrid\": true, \"tickfont\": {\"color\": \"#4D5663\"}, \"title\": {\"font\": {\"color\": \"#4D5663\"}, \"text\": \"\"}, \"zerolinecolor\": \"#E1E5ED\"}},                        {\"showLink\": true, \"linkText\": \"Export to plot.ly\", \"plotlyServerURL\": \"https://plot.ly\", \"responsive\": true}                    ).then(function(){\n",
       "                            \n",
       "var gd = document.getElementById('cc77e44d-67c6-49ec-b745-1791d64ef546');\n",
       "var x = new MutationObserver(function (mutations, observer) {{\n",
       "        var display = window.getComputedStyle(gd).display;\n",
       "        if (!display || display === 'none') {{\n",
       "            console.log([gd, 'removed!']);\n",
       "            Plotly.purge(gd);\n",
       "            observer.disconnect();\n",
       "        }}\n",
       "}});\n",
       "\n",
       "// Listen for the removal of the full notebook cells\n",
       "var notebookContainer = gd.closest('#notebook-container');\n",
       "if (notebookContainer) {{\n",
       "    x.observe(notebookContainer, {childList: true});\n",
       "}}\n",
       "\n",
       "// Listen for the clearing of the current output cell\n",
       "var outputEl = gd.closest('.output');\n",
       "if (outputEl) {{\n",
       "    x.observe(outputEl, {childList: true});\n",
       "}}\n",
       "\n",
       "                        })                };                });            </script>        </div>"
      ]
     },
     "metadata": {},
     "output_type": "display_data"
    }
   ],
   "source": [
    "df.iplot(kind='bubble',x='A',y='B',size='C')"
   ]
  },
  {
   "cell_type": "markdown",
   "metadata": {},
   "source": [
    "## scatter_matrix()\n",
    "\n",
    "Similar to sns.pairplot()"
   ]
  },
  {
   "cell_type": "code",
   "execution_count": 18,
   "metadata": {},
   "outputs": [
    {
     "data": {
      "application/vnd.plotly.v1+json": {
       "config": {
        "linkText": "Export to plot.ly",
        "plotlyServerURL": "https://plot.ly",
        "showLink": true
       },
       "data": [
        {
         "histfunc": "count",
         "histnorm": "",
         "marker": {
          "color": "rgba(255, 153, 51, 1.0)",
          "line": {
           "color": "#4D5663",
           "width": 1.3
          }
         },
         "name": "A",
         "nbinsx": 10,
         "opacity": 0.8,
         "orientation": "v",
         "type": "histogram",
         "x": [
          0.062403000348056896,
          0.682158388145421,
          0.3268464575434144,
          0.28422394171376936,
          -0.8930677967906131,
          0.041223291518847946,
          1.4782858523800568,
          -0.01722465247120283,
          0.20354506830826805,
          -0.4545305600633967,
          -0.38981019744658657,
          -1.3603820914539406,
          -0.1930434719473086,
          -0.4242067670561226,
          0.5805237728658952,
          0.0182563537413149,
          0.5893475068103087,
          0.03891119531541383,
          -1.1659803041570214,
          -1.4954814632608548,
          0.6410459252420906,
          -1.8173897668947723,
          1.1476736695558079,
          -0.008637510156530056,
          0.7333610287703045,
          -0.00341856027323607,
          -0.1705957221128231,
          -0.2755653598251552,
          -0.7028999920512963,
          -0.7686762441966566,
          -1.4320039221064242,
          -0.3777920709864464,
          -0.7893304727600577,
          -1.462585693582685,
          0.25606012549675394,
          -0.7328012321850637,
          0.9282689238426763,
          1.1757725189552224,
          0.5497232961895439,
          1.3504414595074608,
          0.36879921331976007,
          0.6474329912861589,
          0.3425748143184703,
          -0.5524096866845196,
          0.22771702810119573,
          -0.01856107928186663,
          -0.505035272141574,
          1.83767051387475,
          0.7758446792672782,
          0.49530351834577024,
          -0.8959516679869598,
          0.19244410049328461,
          -0.028152661422717846,
          0.2446391640032037,
          -0.8544538723417219,
          -1.1987174971252845,
          -1.0351821498442066,
          1.630876494005205,
          -1.1732747762090505,
          -0.6522848289203391,
          -1.166608830105591,
          -0.6660716373175085,
          0.49650677118547343,
          0.280945589781803,
          2.590006720593593,
          0.4641214459824001,
          0.4167417130776699,
          0.814643013951977,
          -2.135518795380281,
          0.6136241313529066,
          -0.9426705484649059,
          1.050069499491585,
          1.478207789341703,
          -0.6391499024396073,
          1.1037544258288825,
          1.598744213446337,
          -0.9214180706170372,
          -1.2027125149729223,
          -0.8141297322283779,
          0.4167869704791297,
          -0.5529385483286148,
          0.3472229204713509,
          0.718239409702939,
          -0.28359798177231077,
          -0.39401886897279204,
          -0.8053865090960546,
          0.31592140452817635,
          1.2882667023943803,
          0.6850003377061532,
          -1.653096366834222,
          0.10423440668142835,
          -1.1225488317606467,
          -0.7634534972151744,
          0.845927206975368,
          2.4774967936593364,
          -1.1920806362525922,
          -0.932594950136978,
          2.440937192420902,
          -1.0872222548948827,
          0.8000874593014355
         ],
         "xaxis": "x",
         "yaxis": "y"
        },
        {
         "line": {
          "color": "rgba(128, 128, 128, 1.0)",
          "dash": "solid",
          "shape": "linear",
          "width": 1.3
         },
         "marker": {
          "size": 2,
          "symbol": "circle"
         },
         "mode": "markers",
         "name": "A",
         "text": "",
         "type": "scatter",
         "x": [
          -1.2990683753780665,
          1.624681381422417,
          1.1050144336626813,
          -0.18855637354967572,
          0.48478649153248393,
          -0.1518918367515998,
          -0.7101304630074858,
          -0.8314894580215793,
          0.14864838275340203,
          -0.9883549688724185,
          0.2619736329233981,
          0.433341791706317,
          0.4144785136898204,
          0.5033067567904287,
          1.4965554538363868,
          1.956617306686328,
          -0.578245281812172,
          -1.4174671610760066,
          0.2509113970016073,
          -0.6854460438222966,
          0.23852252212573566,
          -0.4374775713005923,
          0.7413855687297202,
          0.10556881914297436,
          0.1585873008040566,
          2.233260861019369,
          -0.09929731120607435,
          0.7241044725523446,
          0.535088540547648,
          0.5580949721210654,
          -0.11338290316044461,
          -0.7731897813122994,
          -0.45846386467525907,
          -0.2617599441544949,
          -0.6477024075551885,
          -1.4554017026133887,
          0.24741918994602477,
          -0.22522232259468344,
          0.5469031092445472,
          -0.2815805553595161,
          -0.14730474978832764,
          2.152082602828211,
          -0.5849732814667612,
          -1.1672480227212263,
          -1.936000387514932,
          -0.6068892020585201,
          -0.004093622653018009,
          1.768152919880954,
          -0.47379149100178425,
          0.4096662408886199,
          -0.8298725088760005,
          0.23714593080153104,
          1.7182916716167476,
          -0.5536416369860518,
          -0.5008585162696602,
          0.12531474389952071,
          -0.3102922723523502,
          0.3212082519347096,
          0.1273991345162948,
          1.4676643819725206,
          -0.00954134812271558,
          -2.515191437159899,
          0.2858322905211471,
          1.6148968929893681,
          -0.41540727418007933,
          0.7432364152956532,
          0.08943293717910389,
          0.45863524503738756,
          -1.5130666419626568,
          0.25537119307039896,
          0.646208704821914,
          0.14045644314235028,
          -1.654436346805644,
          -1.2485137655752985,
          -1.220472804150455,
          0.5874098939074718,
          -0.8832102261481436,
          -0.7988314318980299,
          -0.573780450292032,
          -1.0383213758032692,
          -0.6318717788688629,
          0.00039752972621937476,
          1.1981581595577502,
          -2.5099274433561014,
          -0.2712993286356339,
          0.18780065535996154,
          -0.5580110046021268,
          -1.373552616923043,
          -0.08136658740476707,
          -0.500895465414146,
          -0.28648841769671246,
          0.760700335336526,
          1.2828632663819213,
          0.6375084363947762,
          0.09553303045392961,
          0.9602945758003074,
          1.264248937029117,
          -0.12940953282095385,
          -1.8627436208339199,
          -0.35263576599728114
         ],
         "xaxis": "x2",
         "y": [
          0.062403000348056896,
          0.682158388145421,
          0.3268464575434144,
          0.28422394171376936,
          -0.8930677967906131,
          0.041223291518847946,
          1.4782858523800568,
          -0.01722465247120283,
          0.20354506830826805,
          -0.4545305600633967,
          -0.38981019744658657,
          -1.3603820914539406,
          -0.1930434719473086,
          -0.4242067670561226,
          0.5805237728658952,
          0.0182563537413149,
          0.5893475068103087,
          0.03891119531541383,
          -1.1659803041570214,
          -1.4954814632608548,
          0.6410459252420906,
          -1.8173897668947723,
          1.1476736695558079,
          -0.008637510156530056,
          0.7333610287703045,
          -0.00341856027323607,
          -0.1705957221128231,
          -0.2755653598251552,
          -0.7028999920512963,
          -0.7686762441966566,
          -1.4320039221064242,
          -0.3777920709864464,
          -0.7893304727600577,
          -1.462585693582685,
          0.25606012549675394,
          -0.7328012321850637,
          0.9282689238426763,
          1.1757725189552224,
          0.5497232961895439,
          1.3504414595074608,
          0.36879921331976007,
          0.6474329912861589,
          0.3425748143184703,
          -0.5524096866845196,
          0.22771702810119573,
          -0.01856107928186663,
          -0.505035272141574,
          1.83767051387475,
          0.7758446792672782,
          0.49530351834577024,
          -0.8959516679869598,
          0.19244410049328461,
          -0.028152661422717846,
          0.2446391640032037,
          -0.8544538723417219,
          -1.1987174971252845,
          -1.0351821498442066,
          1.630876494005205,
          -1.1732747762090505,
          -0.6522848289203391,
          -1.166608830105591,
          -0.6660716373175085,
          0.49650677118547343,
          0.280945589781803,
          2.590006720593593,
          0.4641214459824001,
          0.4167417130776699,
          0.814643013951977,
          -2.135518795380281,
          0.6136241313529066,
          -0.9426705484649059,
          1.050069499491585,
          1.478207789341703,
          -0.6391499024396073,
          1.1037544258288825,
          1.598744213446337,
          -0.9214180706170372,
          -1.2027125149729223,
          -0.8141297322283779,
          0.4167869704791297,
          -0.5529385483286148,
          0.3472229204713509,
          0.718239409702939,
          -0.28359798177231077,
          -0.39401886897279204,
          -0.8053865090960546,
          0.31592140452817635,
          1.2882667023943803,
          0.6850003377061532,
          -1.653096366834222,
          0.10423440668142835,
          -1.1225488317606467,
          -0.7634534972151744,
          0.845927206975368,
          2.4774967936593364,
          -1.1920806362525922,
          -0.932594950136978,
          2.440937192420902,
          -1.0872222548948827,
          0.8000874593014355
         ],
         "yaxis": "y2"
        },
        {
         "line": {
          "color": "rgba(128, 128, 128, 1.0)",
          "dash": "solid",
          "shape": "linear",
          "width": 1.3
         },
         "marker": {
          "size": 2,
          "symbol": "circle"
         },
         "mode": "markers",
         "name": "A",
         "text": "",
         "type": "scatter",
         "x": [
          1.3277480686631737,
          1.050547909409751,
          1.3294870859233556,
          -0.13870404447613557,
          1.2218281015381525,
          -1.047591080889363,
          -1.4822808878063358,
          -1.4335267599367494,
          0.07274677269292128,
          -1.385208972739911,
          0.7024703200820424,
          -0.8880380280033623,
          -0.8547896508547369,
          0.31185313506640283,
          0.2563271601287642,
          -0.5261950965768823,
          0.5519014489002535,
          0.4082691591381113,
          -1.2862316779891965,
          0.44859116465226406,
          0.13625194558813486,
          0.280679521344601,
          -0.02835299066476146,
          -0.3830272009784602,
          -0.34353149414286166,
          0.28184497975529327,
          -1.2205571340697343,
          -0.02909238752000967,
          1.1921642115369608,
          0.474260432591272,
          0.9373627235375664,
          1.4776392003195147,
          -0.029564933039379248,
          0.99911966144133,
          0.3240195697926262,
          0.03401387458525973,
          1.410444141420003,
          0.5525302781296415,
          -0.3183084017843572,
          0.7186946417574489,
          -1.1077957092476767,
          1.7001527283039954,
          1.8133694221681342,
          -0.4225946616805115,
          -0.788023560769322,
          1.4058002890335541,
          0.961507413941608,
          0.017780631402030126,
          -1.6268560230227949,
          -0.21389807757329404,
          -0.25804553141361064,
          1.5027656010382409,
          -0.2301925491561469,
          -0.13133770671759212,
          0.6951888892908054,
          -1.0317610337860261,
          1.0727625169742452,
          -0.43083511527863716,
          -2.433419554005068,
          1.5545467140051108,
          0.8031599912754359,
          0.45310615813824545,
          0.9055518604541104,
          0.7846664209606582,
          0.6197006472787928,
          -0.47860177595972264,
          0.1279222369971248,
          0.5465449898282538,
          -1.6933600358972833,
          0.48491522534972553,
          0.2694070585448925,
          -0.11388920518825722,
          0.11272494742647107,
          -1.3920380931256184,
          -1.962700548100472,
          -1.7378697254858495,
          -0.7818474649403422,
          -2.1915026596198284,
          -0.010632375622421088,
          -2.0414814863870068,
          -0.4659494819877405,
          0.3451970702407081,
          0.6268328052907892,
          -0.71567101483495,
          -0.26445647028416147,
          0.16178304128280735,
          -0.5510181008810864,
          -0.5021706791030416,
          -1.5329231160369086,
          1.3879360191670922,
          -0.20967690238226744,
          -1.3670839329746214,
          1.076632444152013,
          0.2953756540651349,
          0.19709824729739248,
          0.18429971334894393,
          -0.9373963033909891,
          0.2646799340244548,
          1.2810675908976386,
          2.589926490087622
         ],
         "xaxis": "x3",
         "y": [
          0.062403000348056896,
          0.682158388145421,
          0.3268464575434144,
          0.28422394171376936,
          -0.8930677967906131,
          0.041223291518847946,
          1.4782858523800568,
          -0.01722465247120283,
          0.20354506830826805,
          -0.4545305600633967,
          -0.38981019744658657,
          -1.3603820914539406,
          -0.1930434719473086,
          -0.4242067670561226,
          0.5805237728658952,
          0.0182563537413149,
          0.5893475068103087,
          0.03891119531541383,
          -1.1659803041570214,
          -1.4954814632608548,
          0.6410459252420906,
          -1.8173897668947723,
          1.1476736695558079,
          -0.008637510156530056,
          0.7333610287703045,
          -0.00341856027323607,
          -0.1705957221128231,
          -0.2755653598251552,
          -0.7028999920512963,
          -0.7686762441966566,
          -1.4320039221064242,
          -0.3777920709864464,
          -0.7893304727600577,
          -1.462585693582685,
          0.25606012549675394,
          -0.7328012321850637,
          0.9282689238426763,
          1.1757725189552224,
          0.5497232961895439,
          1.3504414595074608,
          0.36879921331976007,
          0.6474329912861589,
          0.3425748143184703,
          -0.5524096866845196,
          0.22771702810119573,
          -0.01856107928186663,
          -0.505035272141574,
          1.83767051387475,
          0.7758446792672782,
          0.49530351834577024,
          -0.8959516679869598,
          0.19244410049328461,
          -0.028152661422717846,
          0.2446391640032037,
          -0.8544538723417219,
          -1.1987174971252845,
          -1.0351821498442066,
          1.630876494005205,
          -1.1732747762090505,
          -0.6522848289203391,
          -1.166608830105591,
          -0.6660716373175085,
          0.49650677118547343,
          0.280945589781803,
          2.590006720593593,
          0.4641214459824001,
          0.4167417130776699,
          0.814643013951977,
          -2.135518795380281,
          0.6136241313529066,
          -0.9426705484649059,
          1.050069499491585,
          1.478207789341703,
          -0.6391499024396073,
          1.1037544258288825,
          1.598744213446337,
          -0.9214180706170372,
          -1.2027125149729223,
          -0.8141297322283779,
          0.4167869704791297,
          -0.5529385483286148,
          0.3472229204713509,
          0.718239409702939,
          -0.28359798177231077,
          -0.39401886897279204,
          -0.8053865090960546,
          0.31592140452817635,
          1.2882667023943803,
          0.6850003377061532,
          -1.653096366834222,
          0.10423440668142835,
          -1.1225488317606467,
          -0.7634534972151744,
          0.845927206975368,
          2.4774967936593364,
          -1.1920806362525922,
          -0.932594950136978,
          2.440937192420902,
          -1.0872222548948827,
          0.8000874593014355
         ],
         "yaxis": "y3"
        },
        {
         "line": {
          "color": "rgba(128, 128, 128, 1.0)",
          "dash": "solid",
          "shape": "linear",
          "width": 1.3
         },
         "marker": {
          "size": 2,
          "symbol": "circle"
         },
         "mode": "markers",
         "name": "A",
         "text": "",
         "type": "scatter",
         "x": [
          0.9510949294848526,
          0.4695638138892198,
          -0.12821164479171554,
          -1.5257079148558776,
          -0.16233709183306624,
          -0.9638417942564012,
          -0.4915267140279102,
          -2.4184117895314765,
          0.3607053686268968,
          -0.5285612826105017,
          -0.4285178504036213,
          0.07966457306215396,
          2.3652059729730497,
          -0.9870421025768513,
          0.36702706338599883,
          1.1347510327949974,
          0.5894990482523681,
          2.440768159619953,
          0.9838466325555156,
          0.797510734845901,
          -0.624485961244373,
          1.0991759521001998,
          0.9298248741871734,
          0.7133611160971455,
          0.3990976342014481,
          -0.08382319239217625,
          0.18677316791991988,
          -0.24586105029012073,
          -0.9917793106937559,
          0.04845575460362079,
          0.15371514705055928,
          -0.4718618834830073,
          -0.6211000961774438,
          1.1697655277102825,
          -0.2761052450610573,
          0.390290321076468,
          -0.27580277573952555,
          -0.011793728102506337,
          1.4203938063505552,
          -0.3540328421352846,
          -0.05385716129189193,
          1.5687612989007362,
          1.4947811801907642,
          -0.0907906324830042,
          0.2008464745533209,
          0.6540547952065257,
          -0.6453521773434029,
          0.9440170316749986,
          1.5897438489064992,
          -0.8486254691354769,
          0.9046070542679885,
          1.0495623648697618,
          -1.224035202547343,
          -1.0427057175256877,
          0.5945839682902634,
          0.5337946540431762,
          0.2632612245115452,
          0.39868488873597385,
          -0.3654589589077428,
          -1.1342179546915354,
          0.11851262533573535,
          -0.8340798137577661,
          0.5926784388236838,
          -0.6207922204277392,
          0.9651518359562631,
          0.09403334833156134,
          -0.3250940889776582,
          -2.256036962124954,
          0.4846688572318411,
          0.06839142679808732,
          -2.133092503970914,
          1.4539681659416737,
          -0.5664865152294981,
          -0.7341855979315933,
          -0.3566560181728952,
          0.09952804551515838,
          1.081557923070655,
          0.2263069870116225,
          -0.33929955781856347,
          1.5439649056212006,
          -1.4320414456639798,
          -1.3204482658502175,
          2.1615947495792853,
          0.33079081187341614,
          -1.0156246875190234,
          -0.362395604857689,
          0.7536331826381956,
          -1.7368657732073303,
          0.010594486537426498,
          -0.2556207731554825,
          -0.398307797997451,
          1.7935563632068905,
          0.33221143072086234,
          -0.019581137547514754,
          1.8924713508771496,
          -1.4489598139678137,
          0.023367516123193738,
          -0.4067124512310082,
          -1.0153575018769438,
          -0.8289638770916804
         ],
         "xaxis": "x4",
         "y": [
          0.062403000348056896,
          0.682158388145421,
          0.3268464575434144,
          0.28422394171376936,
          -0.8930677967906131,
          0.041223291518847946,
          1.4782858523800568,
          -0.01722465247120283,
          0.20354506830826805,
          -0.4545305600633967,
          -0.38981019744658657,
          -1.3603820914539406,
          -0.1930434719473086,
          -0.4242067670561226,
          0.5805237728658952,
          0.0182563537413149,
          0.5893475068103087,
          0.03891119531541383,
          -1.1659803041570214,
          -1.4954814632608548,
          0.6410459252420906,
          -1.8173897668947723,
          1.1476736695558079,
          -0.008637510156530056,
          0.7333610287703045,
          -0.00341856027323607,
          -0.1705957221128231,
          -0.2755653598251552,
          -0.7028999920512963,
          -0.7686762441966566,
          -1.4320039221064242,
          -0.3777920709864464,
          -0.7893304727600577,
          -1.462585693582685,
          0.25606012549675394,
          -0.7328012321850637,
          0.9282689238426763,
          1.1757725189552224,
          0.5497232961895439,
          1.3504414595074608,
          0.36879921331976007,
          0.6474329912861589,
          0.3425748143184703,
          -0.5524096866845196,
          0.22771702810119573,
          -0.01856107928186663,
          -0.505035272141574,
          1.83767051387475,
          0.7758446792672782,
          0.49530351834577024,
          -0.8959516679869598,
          0.19244410049328461,
          -0.028152661422717846,
          0.2446391640032037,
          -0.8544538723417219,
          -1.1987174971252845,
          -1.0351821498442066,
          1.630876494005205,
          -1.1732747762090505,
          -0.6522848289203391,
          -1.166608830105591,
          -0.6660716373175085,
          0.49650677118547343,
          0.280945589781803,
          2.590006720593593,
          0.4641214459824001,
          0.4167417130776699,
          0.814643013951977,
          -2.135518795380281,
          0.6136241313529066,
          -0.9426705484649059,
          1.050069499491585,
          1.478207789341703,
          -0.6391499024396073,
          1.1037544258288825,
          1.598744213446337,
          -0.9214180706170372,
          -1.2027125149729223,
          -0.8141297322283779,
          0.4167869704791297,
          -0.5529385483286148,
          0.3472229204713509,
          0.718239409702939,
          -0.28359798177231077,
          -0.39401886897279204,
          -0.8053865090960546,
          0.31592140452817635,
          1.2882667023943803,
          0.6850003377061532,
          -1.653096366834222,
          0.10423440668142835,
          -1.1225488317606467,
          -0.7634534972151744,
          0.845927206975368,
          2.4774967936593364,
          -1.1920806362525922,
          -0.932594950136978,
          2.440937192420902,
          -1.0872222548948827,
          0.8000874593014355
         ],
         "yaxis": "y4"
        },
        {
         "line": {
          "color": "rgba(128, 128, 128, 1.0)",
          "dash": "solid",
          "shape": "linear",
          "width": 1.3
         },
         "marker": {
          "size": 2,
          "symbol": "circle"
         },
         "mode": "markers",
         "name": "B",
         "text": "",
         "type": "scatter",
         "x": [
          0.062403000348056896,
          0.682158388145421,
          0.3268464575434144,
          0.28422394171376936,
          -0.8930677967906131,
          0.041223291518847946,
          1.4782858523800568,
          -0.01722465247120283,
          0.20354506830826805,
          -0.4545305600633967,
          -0.38981019744658657,
          -1.3603820914539406,
          -0.1930434719473086,
          -0.4242067670561226,
          0.5805237728658952,
          0.0182563537413149,
          0.5893475068103087,
          0.03891119531541383,
          -1.1659803041570214,
          -1.4954814632608548,
          0.6410459252420906,
          -1.8173897668947723,
          1.1476736695558079,
          -0.008637510156530056,
          0.7333610287703045,
          -0.00341856027323607,
          -0.1705957221128231,
          -0.2755653598251552,
          -0.7028999920512963,
          -0.7686762441966566,
          -1.4320039221064242,
          -0.3777920709864464,
          -0.7893304727600577,
          -1.462585693582685,
          0.25606012549675394,
          -0.7328012321850637,
          0.9282689238426763,
          1.1757725189552224,
          0.5497232961895439,
          1.3504414595074608,
          0.36879921331976007,
          0.6474329912861589,
          0.3425748143184703,
          -0.5524096866845196,
          0.22771702810119573,
          -0.01856107928186663,
          -0.505035272141574,
          1.83767051387475,
          0.7758446792672782,
          0.49530351834577024,
          -0.8959516679869598,
          0.19244410049328461,
          -0.028152661422717846,
          0.2446391640032037,
          -0.8544538723417219,
          -1.1987174971252845,
          -1.0351821498442066,
          1.630876494005205,
          -1.1732747762090505,
          -0.6522848289203391,
          -1.166608830105591,
          -0.6660716373175085,
          0.49650677118547343,
          0.280945589781803,
          2.590006720593593,
          0.4641214459824001,
          0.4167417130776699,
          0.814643013951977,
          -2.135518795380281,
          0.6136241313529066,
          -0.9426705484649059,
          1.050069499491585,
          1.478207789341703,
          -0.6391499024396073,
          1.1037544258288825,
          1.598744213446337,
          -0.9214180706170372,
          -1.2027125149729223,
          -0.8141297322283779,
          0.4167869704791297,
          -0.5529385483286148,
          0.3472229204713509,
          0.718239409702939,
          -0.28359798177231077,
          -0.39401886897279204,
          -0.8053865090960546,
          0.31592140452817635,
          1.2882667023943803,
          0.6850003377061532,
          -1.653096366834222,
          0.10423440668142835,
          -1.1225488317606467,
          -0.7634534972151744,
          0.845927206975368,
          2.4774967936593364,
          -1.1920806362525922,
          -0.932594950136978,
          2.440937192420902,
          -1.0872222548948827,
          0.8000874593014355
         ],
         "xaxis": "x5",
         "y": [
          -1.2990683753780665,
          1.624681381422417,
          1.1050144336626813,
          -0.18855637354967572,
          0.48478649153248393,
          -0.1518918367515998,
          -0.7101304630074858,
          -0.8314894580215793,
          0.14864838275340203,
          -0.9883549688724185,
          0.2619736329233981,
          0.433341791706317,
          0.4144785136898204,
          0.5033067567904287,
          1.4965554538363868,
          1.956617306686328,
          -0.578245281812172,
          -1.4174671610760066,
          0.2509113970016073,
          -0.6854460438222966,
          0.23852252212573566,
          -0.4374775713005923,
          0.7413855687297202,
          0.10556881914297436,
          0.1585873008040566,
          2.233260861019369,
          -0.09929731120607435,
          0.7241044725523446,
          0.535088540547648,
          0.5580949721210654,
          -0.11338290316044461,
          -0.7731897813122994,
          -0.45846386467525907,
          -0.2617599441544949,
          -0.6477024075551885,
          -1.4554017026133887,
          0.24741918994602477,
          -0.22522232259468344,
          0.5469031092445472,
          -0.2815805553595161,
          -0.14730474978832764,
          2.152082602828211,
          -0.5849732814667612,
          -1.1672480227212263,
          -1.936000387514932,
          -0.6068892020585201,
          -0.004093622653018009,
          1.768152919880954,
          -0.47379149100178425,
          0.4096662408886199,
          -0.8298725088760005,
          0.23714593080153104,
          1.7182916716167476,
          -0.5536416369860518,
          -0.5008585162696602,
          0.12531474389952071,
          -0.3102922723523502,
          0.3212082519347096,
          0.1273991345162948,
          1.4676643819725206,
          -0.00954134812271558,
          -2.515191437159899,
          0.2858322905211471,
          1.6148968929893681,
          -0.41540727418007933,
          0.7432364152956532,
          0.08943293717910389,
          0.45863524503738756,
          -1.5130666419626568,
          0.25537119307039896,
          0.646208704821914,
          0.14045644314235028,
          -1.654436346805644,
          -1.2485137655752985,
          -1.220472804150455,
          0.5874098939074718,
          -0.8832102261481436,
          -0.7988314318980299,
          -0.573780450292032,
          -1.0383213758032692,
          -0.6318717788688629,
          0.00039752972621937476,
          1.1981581595577502,
          -2.5099274433561014,
          -0.2712993286356339,
          0.18780065535996154,
          -0.5580110046021268,
          -1.373552616923043,
          -0.08136658740476707,
          -0.500895465414146,
          -0.28648841769671246,
          0.760700335336526,
          1.2828632663819213,
          0.6375084363947762,
          0.09553303045392961,
          0.9602945758003074,
          1.264248937029117,
          -0.12940953282095385,
          -1.8627436208339199,
          -0.35263576599728114
         ],
         "yaxis": "y5"
        },
        {
         "histfunc": "count",
         "histnorm": "",
         "marker": {
          "color": "rgba(55, 128, 191, 1.0)",
          "line": {
           "color": "#4D5663",
           "width": 1.3
          }
         },
         "name": "B",
         "nbinsx": 10,
         "opacity": 0.8,
         "orientation": "v",
         "type": "histogram",
         "x": [
          -1.2990683753780665,
          1.624681381422417,
          1.1050144336626813,
          -0.18855637354967572,
          0.48478649153248393,
          -0.1518918367515998,
          -0.7101304630074858,
          -0.8314894580215793,
          0.14864838275340203,
          -0.9883549688724185,
          0.2619736329233981,
          0.433341791706317,
          0.4144785136898204,
          0.5033067567904287,
          1.4965554538363868,
          1.956617306686328,
          -0.578245281812172,
          -1.4174671610760066,
          0.2509113970016073,
          -0.6854460438222966,
          0.23852252212573566,
          -0.4374775713005923,
          0.7413855687297202,
          0.10556881914297436,
          0.1585873008040566,
          2.233260861019369,
          -0.09929731120607435,
          0.7241044725523446,
          0.535088540547648,
          0.5580949721210654,
          -0.11338290316044461,
          -0.7731897813122994,
          -0.45846386467525907,
          -0.2617599441544949,
          -0.6477024075551885,
          -1.4554017026133887,
          0.24741918994602477,
          -0.22522232259468344,
          0.5469031092445472,
          -0.2815805553595161,
          -0.14730474978832764,
          2.152082602828211,
          -0.5849732814667612,
          -1.1672480227212263,
          -1.936000387514932,
          -0.6068892020585201,
          -0.004093622653018009,
          1.768152919880954,
          -0.47379149100178425,
          0.4096662408886199,
          -0.8298725088760005,
          0.23714593080153104,
          1.7182916716167476,
          -0.5536416369860518,
          -0.5008585162696602,
          0.12531474389952071,
          -0.3102922723523502,
          0.3212082519347096,
          0.1273991345162948,
          1.4676643819725206,
          -0.00954134812271558,
          -2.515191437159899,
          0.2858322905211471,
          1.6148968929893681,
          -0.41540727418007933,
          0.7432364152956532,
          0.08943293717910389,
          0.45863524503738756,
          -1.5130666419626568,
          0.25537119307039896,
          0.646208704821914,
          0.14045644314235028,
          -1.654436346805644,
          -1.2485137655752985,
          -1.220472804150455,
          0.5874098939074718,
          -0.8832102261481436,
          -0.7988314318980299,
          -0.573780450292032,
          -1.0383213758032692,
          -0.6318717788688629,
          0.00039752972621937476,
          1.1981581595577502,
          -2.5099274433561014,
          -0.2712993286356339,
          0.18780065535996154,
          -0.5580110046021268,
          -1.373552616923043,
          -0.08136658740476707,
          -0.500895465414146,
          -0.28648841769671246,
          0.760700335336526,
          1.2828632663819213,
          0.6375084363947762,
          0.09553303045392961,
          0.9602945758003074,
          1.264248937029117,
          -0.12940953282095385,
          -1.8627436208339199,
          -0.35263576599728114
         ],
         "xaxis": "x6",
         "yaxis": "y6"
        },
        {
         "line": {
          "color": "rgba(128, 128, 128, 1.0)",
          "dash": "solid",
          "shape": "linear",
          "width": 1.3
         },
         "marker": {
          "size": 2,
          "symbol": "circle"
         },
         "mode": "markers",
         "name": "B",
         "text": "",
         "type": "scatter",
         "x": [
          1.3277480686631737,
          1.050547909409751,
          1.3294870859233556,
          -0.13870404447613557,
          1.2218281015381525,
          -1.047591080889363,
          -1.4822808878063358,
          -1.4335267599367494,
          0.07274677269292128,
          -1.385208972739911,
          0.7024703200820424,
          -0.8880380280033623,
          -0.8547896508547369,
          0.31185313506640283,
          0.2563271601287642,
          -0.5261950965768823,
          0.5519014489002535,
          0.4082691591381113,
          -1.2862316779891965,
          0.44859116465226406,
          0.13625194558813486,
          0.280679521344601,
          -0.02835299066476146,
          -0.3830272009784602,
          -0.34353149414286166,
          0.28184497975529327,
          -1.2205571340697343,
          -0.02909238752000967,
          1.1921642115369608,
          0.474260432591272,
          0.9373627235375664,
          1.4776392003195147,
          -0.029564933039379248,
          0.99911966144133,
          0.3240195697926262,
          0.03401387458525973,
          1.410444141420003,
          0.5525302781296415,
          -0.3183084017843572,
          0.7186946417574489,
          -1.1077957092476767,
          1.7001527283039954,
          1.8133694221681342,
          -0.4225946616805115,
          -0.788023560769322,
          1.4058002890335541,
          0.961507413941608,
          0.017780631402030126,
          -1.6268560230227949,
          -0.21389807757329404,
          -0.25804553141361064,
          1.5027656010382409,
          -0.2301925491561469,
          -0.13133770671759212,
          0.6951888892908054,
          -1.0317610337860261,
          1.0727625169742452,
          -0.43083511527863716,
          -2.433419554005068,
          1.5545467140051108,
          0.8031599912754359,
          0.45310615813824545,
          0.9055518604541104,
          0.7846664209606582,
          0.6197006472787928,
          -0.47860177595972264,
          0.1279222369971248,
          0.5465449898282538,
          -1.6933600358972833,
          0.48491522534972553,
          0.2694070585448925,
          -0.11388920518825722,
          0.11272494742647107,
          -1.3920380931256184,
          -1.962700548100472,
          -1.7378697254858495,
          -0.7818474649403422,
          -2.1915026596198284,
          -0.010632375622421088,
          -2.0414814863870068,
          -0.4659494819877405,
          0.3451970702407081,
          0.6268328052907892,
          -0.71567101483495,
          -0.26445647028416147,
          0.16178304128280735,
          -0.5510181008810864,
          -0.5021706791030416,
          -1.5329231160369086,
          1.3879360191670922,
          -0.20967690238226744,
          -1.3670839329746214,
          1.076632444152013,
          0.2953756540651349,
          0.19709824729739248,
          0.18429971334894393,
          -0.9373963033909891,
          0.2646799340244548,
          1.2810675908976386,
          2.589926490087622
         ],
         "xaxis": "x7",
         "y": [
          -1.2990683753780665,
          1.624681381422417,
          1.1050144336626813,
          -0.18855637354967572,
          0.48478649153248393,
          -0.1518918367515998,
          -0.7101304630074858,
          -0.8314894580215793,
          0.14864838275340203,
          -0.9883549688724185,
          0.2619736329233981,
          0.433341791706317,
          0.4144785136898204,
          0.5033067567904287,
          1.4965554538363868,
          1.956617306686328,
          -0.578245281812172,
          -1.4174671610760066,
          0.2509113970016073,
          -0.6854460438222966,
          0.23852252212573566,
          -0.4374775713005923,
          0.7413855687297202,
          0.10556881914297436,
          0.1585873008040566,
          2.233260861019369,
          -0.09929731120607435,
          0.7241044725523446,
          0.535088540547648,
          0.5580949721210654,
          -0.11338290316044461,
          -0.7731897813122994,
          -0.45846386467525907,
          -0.2617599441544949,
          -0.6477024075551885,
          -1.4554017026133887,
          0.24741918994602477,
          -0.22522232259468344,
          0.5469031092445472,
          -0.2815805553595161,
          -0.14730474978832764,
          2.152082602828211,
          -0.5849732814667612,
          -1.1672480227212263,
          -1.936000387514932,
          -0.6068892020585201,
          -0.004093622653018009,
          1.768152919880954,
          -0.47379149100178425,
          0.4096662408886199,
          -0.8298725088760005,
          0.23714593080153104,
          1.7182916716167476,
          -0.5536416369860518,
          -0.5008585162696602,
          0.12531474389952071,
          -0.3102922723523502,
          0.3212082519347096,
          0.1273991345162948,
          1.4676643819725206,
          -0.00954134812271558,
          -2.515191437159899,
          0.2858322905211471,
          1.6148968929893681,
          -0.41540727418007933,
          0.7432364152956532,
          0.08943293717910389,
          0.45863524503738756,
          -1.5130666419626568,
          0.25537119307039896,
          0.646208704821914,
          0.14045644314235028,
          -1.654436346805644,
          -1.2485137655752985,
          -1.220472804150455,
          0.5874098939074718,
          -0.8832102261481436,
          -0.7988314318980299,
          -0.573780450292032,
          -1.0383213758032692,
          -0.6318717788688629,
          0.00039752972621937476,
          1.1981581595577502,
          -2.5099274433561014,
          -0.2712993286356339,
          0.18780065535996154,
          -0.5580110046021268,
          -1.373552616923043,
          -0.08136658740476707,
          -0.500895465414146,
          -0.28648841769671246,
          0.760700335336526,
          1.2828632663819213,
          0.6375084363947762,
          0.09553303045392961,
          0.9602945758003074,
          1.264248937029117,
          -0.12940953282095385,
          -1.8627436208339199,
          -0.35263576599728114
         ],
         "yaxis": "y7"
        },
        {
         "line": {
          "color": "rgba(128, 128, 128, 1.0)",
          "dash": "solid",
          "shape": "linear",
          "width": 1.3
         },
         "marker": {
          "size": 2,
          "symbol": "circle"
         },
         "mode": "markers",
         "name": "B",
         "text": "",
         "type": "scatter",
         "x": [
          0.9510949294848526,
          0.4695638138892198,
          -0.12821164479171554,
          -1.5257079148558776,
          -0.16233709183306624,
          -0.9638417942564012,
          -0.4915267140279102,
          -2.4184117895314765,
          0.3607053686268968,
          -0.5285612826105017,
          -0.4285178504036213,
          0.07966457306215396,
          2.3652059729730497,
          -0.9870421025768513,
          0.36702706338599883,
          1.1347510327949974,
          0.5894990482523681,
          2.440768159619953,
          0.9838466325555156,
          0.797510734845901,
          -0.624485961244373,
          1.0991759521001998,
          0.9298248741871734,
          0.7133611160971455,
          0.3990976342014481,
          -0.08382319239217625,
          0.18677316791991988,
          -0.24586105029012073,
          -0.9917793106937559,
          0.04845575460362079,
          0.15371514705055928,
          -0.4718618834830073,
          -0.6211000961774438,
          1.1697655277102825,
          -0.2761052450610573,
          0.390290321076468,
          -0.27580277573952555,
          -0.011793728102506337,
          1.4203938063505552,
          -0.3540328421352846,
          -0.05385716129189193,
          1.5687612989007362,
          1.4947811801907642,
          -0.0907906324830042,
          0.2008464745533209,
          0.6540547952065257,
          -0.6453521773434029,
          0.9440170316749986,
          1.5897438489064992,
          -0.8486254691354769,
          0.9046070542679885,
          1.0495623648697618,
          -1.224035202547343,
          -1.0427057175256877,
          0.5945839682902634,
          0.5337946540431762,
          0.2632612245115452,
          0.39868488873597385,
          -0.3654589589077428,
          -1.1342179546915354,
          0.11851262533573535,
          -0.8340798137577661,
          0.5926784388236838,
          -0.6207922204277392,
          0.9651518359562631,
          0.09403334833156134,
          -0.3250940889776582,
          -2.256036962124954,
          0.4846688572318411,
          0.06839142679808732,
          -2.133092503970914,
          1.4539681659416737,
          -0.5664865152294981,
          -0.7341855979315933,
          -0.3566560181728952,
          0.09952804551515838,
          1.081557923070655,
          0.2263069870116225,
          -0.33929955781856347,
          1.5439649056212006,
          -1.4320414456639798,
          -1.3204482658502175,
          2.1615947495792853,
          0.33079081187341614,
          -1.0156246875190234,
          -0.362395604857689,
          0.7536331826381956,
          -1.7368657732073303,
          0.010594486537426498,
          -0.2556207731554825,
          -0.398307797997451,
          1.7935563632068905,
          0.33221143072086234,
          -0.019581137547514754,
          1.8924713508771496,
          -1.4489598139678137,
          0.023367516123193738,
          -0.4067124512310082,
          -1.0153575018769438,
          -0.8289638770916804
         ],
         "xaxis": "x8",
         "y": [
          -1.2990683753780665,
          1.624681381422417,
          1.1050144336626813,
          -0.18855637354967572,
          0.48478649153248393,
          -0.1518918367515998,
          -0.7101304630074858,
          -0.8314894580215793,
          0.14864838275340203,
          -0.9883549688724185,
          0.2619736329233981,
          0.433341791706317,
          0.4144785136898204,
          0.5033067567904287,
          1.4965554538363868,
          1.956617306686328,
          -0.578245281812172,
          -1.4174671610760066,
          0.2509113970016073,
          -0.6854460438222966,
          0.23852252212573566,
          -0.4374775713005923,
          0.7413855687297202,
          0.10556881914297436,
          0.1585873008040566,
          2.233260861019369,
          -0.09929731120607435,
          0.7241044725523446,
          0.535088540547648,
          0.5580949721210654,
          -0.11338290316044461,
          -0.7731897813122994,
          -0.45846386467525907,
          -0.2617599441544949,
          -0.6477024075551885,
          -1.4554017026133887,
          0.24741918994602477,
          -0.22522232259468344,
          0.5469031092445472,
          -0.2815805553595161,
          -0.14730474978832764,
          2.152082602828211,
          -0.5849732814667612,
          -1.1672480227212263,
          -1.936000387514932,
          -0.6068892020585201,
          -0.004093622653018009,
          1.768152919880954,
          -0.47379149100178425,
          0.4096662408886199,
          -0.8298725088760005,
          0.23714593080153104,
          1.7182916716167476,
          -0.5536416369860518,
          -0.5008585162696602,
          0.12531474389952071,
          -0.3102922723523502,
          0.3212082519347096,
          0.1273991345162948,
          1.4676643819725206,
          -0.00954134812271558,
          -2.515191437159899,
          0.2858322905211471,
          1.6148968929893681,
          -0.41540727418007933,
          0.7432364152956532,
          0.08943293717910389,
          0.45863524503738756,
          -1.5130666419626568,
          0.25537119307039896,
          0.646208704821914,
          0.14045644314235028,
          -1.654436346805644,
          -1.2485137655752985,
          -1.220472804150455,
          0.5874098939074718,
          -0.8832102261481436,
          -0.7988314318980299,
          -0.573780450292032,
          -1.0383213758032692,
          -0.6318717788688629,
          0.00039752972621937476,
          1.1981581595577502,
          -2.5099274433561014,
          -0.2712993286356339,
          0.18780065535996154,
          -0.5580110046021268,
          -1.373552616923043,
          -0.08136658740476707,
          -0.500895465414146,
          -0.28648841769671246,
          0.760700335336526,
          1.2828632663819213,
          0.6375084363947762,
          0.09553303045392961,
          0.9602945758003074,
          1.264248937029117,
          -0.12940953282095385,
          -1.8627436208339199,
          -0.35263576599728114
         ],
         "yaxis": "y8"
        },
        {
         "line": {
          "color": "rgba(128, 128, 128, 1.0)",
          "dash": "solid",
          "shape": "linear",
          "width": 1.3
         },
         "marker": {
          "size": 2,
          "symbol": "circle"
         },
         "mode": "markers",
         "name": "C",
         "text": "",
         "type": "scatter",
         "x": [
          0.062403000348056896,
          0.682158388145421,
          0.3268464575434144,
          0.28422394171376936,
          -0.8930677967906131,
          0.041223291518847946,
          1.4782858523800568,
          -0.01722465247120283,
          0.20354506830826805,
          -0.4545305600633967,
          -0.38981019744658657,
          -1.3603820914539406,
          -0.1930434719473086,
          -0.4242067670561226,
          0.5805237728658952,
          0.0182563537413149,
          0.5893475068103087,
          0.03891119531541383,
          -1.1659803041570214,
          -1.4954814632608548,
          0.6410459252420906,
          -1.8173897668947723,
          1.1476736695558079,
          -0.008637510156530056,
          0.7333610287703045,
          -0.00341856027323607,
          -0.1705957221128231,
          -0.2755653598251552,
          -0.7028999920512963,
          -0.7686762441966566,
          -1.4320039221064242,
          -0.3777920709864464,
          -0.7893304727600577,
          -1.462585693582685,
          0.25606012549675394,
          -0.7328012321850637,
          0.9282689238426763,
          1.1757725189552224,
          0.5497232961895439,
          1.3504414595074608,
          0.36879921331976007,
          0.6474329912861589,
          0.3425748143184703,
          -0.5524096866845196,
          0.22771702810119573,
          -0.01856107928186663,
          -0.505035272141574,
          1.83767051387475,
          0.7758446792672782,
          0.49530351834577024,
          -0.8959516679869598,
          0.19244410049328461,
          -0.028152661422717846,
          0.2446391640032037,
          -0.8544538723417219,
          -1.1987174971252845,
          -1.0351821498442066,
          1.630876494005205,
          -1.1732747762090505,
          -0.6522848289203391,
          -1.166608830105591,
          -0.6660716373175085,
          0.49650677118547343,
          0.280945589781803,
          2.590006720593593,
          0.4641214459824001,
          0.4167417130776699,
          0.814643013951977,
          -2.135518795380281,
          0.6136241313529066,
          -0.9426705484649059,
          1.050069499491585,
          1.478207789341703,
          -0.6391499024396073,
          1.1037544258288825,
          1.598744213446337,
          -0.9214180706170372,
          -1.2027125149729223,
          -0.8141297322283779,
          0.4167869704791297,
          -0.5529385483286148,
          0.3472229204713509,
          0.718239409702939,
          -0.28359798177231077,
          -0.39401886897279204,
          -0.8053865090960546,
          0.31592140452817635,
          1.2882667023943803,
          0.6850003377061532,
          -1.653096366834222,
          0.10423440668142835,
          -1.1225488317606467,
          -0.7634534972151744,
          0.845927206975368,
          2.4774967936593364,
          -1.1920806362525922,
          -0.932594950136978,
          2.440937192420902,
          -1.0872222548948827,
          0.8000874593014355
         ],
         "xaxis": "x9",
         "y": [
          1.3277480686631737,
          1.050547909409751,
          1.3294870859233556,
          -0.13870404447613557,
          1.2218281015381525,
          -1.047591080889363,
          -1.4822808878063358,
          -1.4335267599367494,
          0.07274677269292128,
          -1.385208972739911,
          0.7024703200820424,
          -0.8880380280033623,
          -0.8547896508547369,
          0.31185313506640283,
          0.2563271601287642,
          -0.5261950965768823,
          0.5519014489002535,
          0.4082691591381113,
          -1.2862316779891965,
          0.44859116465226406,
          0.13625194558813486,
          0.280679521344601,
          -0.02835299066476146,
          -0.3830272009784602,
          -0.34353149414286166,
          0.28184497975529327,
          -1.2205571340697343,
          -0.02909238752000967,
          1.1921642115369608,
          0.474260432591272,
          0.9373627235375664,
          1.4776392003195147,
          -0.029564933039379248,
          0.99911966144133,
          0.3240195697926262,
          0.03401387458525973,
          1.410444141420003,
          0.5525302781296415,
          -0.3183084017843572,
          0.7186946417574489,
          -1.1077957092476767,
          1.7001527283039954,
          1.8133694221681342,
          -0.4225946616805115,
          -0.788023560769322,
          1.4058002890335541,
          0.961507413941608,
          0.017780631402030126,
          -1.6268560230227949,
          -0.21389807757329404,
          -0.25804553141361064,
          1.5027656010382409,
          -0.2301925491561469,
          -0.13133770671759212,
          0.6951888892908054,
          -1.0317610337860261,
          1.0727625169742452,
          -0.43083511527863716,
          -2.433419554005068,
          1.5545467140051108,
          0.8031599912754359,
          0.45310615813824545,
          0.9055518604541104,
          0.7846664209606582,
          0.6197006472787928,
          -0.47860177595972264,
          0.1279222369971248,
          0.5465449898282538,
          -1.6933600358972833,
          0.48491522534972553,
          0.2694070585448925,
          -0.11388920518825722,
          0.11272494742647107,
          -1.3920380931256184,
          -1.962700548100472,
          -1.7378697254858495,
          -0.7818474649403422,
          -2.1915026596198284,
          -0.010632375622421088,
          -2.0414814863870068,
          -0.4659494819877405,
          0.3451970702407081,
          0.6268328052907892,
          -0.71567101483495,
          -0.26445647028416147,
          0.16178304128280735,
          -0.5510181008810864,
          -0.5021706791030416,
          -1.5329231160369086,
          1.3879360191670922,
          -0.20967690238226744,
          -1.3670839329746214,
          1.076632444152013,
          0.2953756540651349,
          0.19709824729739248,
          0.18429971334894393,
          -0.9373963033909891,
          0.2646799340244548,
          1.2810675908976386,
          2.589926490087622
         ],
         "yaxis": "y9"
        },
        {
         "line": {
          "color": "rgba(128, 128, 128, 1.0)",
          "dash": "solid",
          "shape": "linear",
          "width": 1.3
         },
         "marker": {
          "size": 2,
          "symbol": "circle"
         },
         "mode": "markers",
         "name": "C",
         "text": "",
         "type": "scatter",
         "x": [
          -1.2990683753780665,
          1.624681381422417,
          1.1050144336626813,
          -0.18855637354967572,
          0.48478649153248393,
          -0.1518918367515998,
          -0.7101304630074858,
          -0.8314894580215793,
          0.14864838275340203,
          -0.9883549688724185,
          0.2619736329233981,
          0.433341791706317,
          0.4144785136898204,
          0.5033067567904287,
          1.4965554538363868,
          1.956617306686328,
          -0.578245281812172,
          -1.4174671610760066,
          0.2509113970016073,
          -0.6854460438222966,
          0.23852252212573566,
          -0.4374775713005923,
          0.7413855687297202,
          0.10556881914297436,
          0.1585873008040566,
          2.233260861019369,
          -0.09929731120607435,
          0.7241044725523446,
          0.535088540547648,
          0.5580949721210654,
          -0.11338290316044461,
          -0.7731897813122994,
          -0.45846386467525907,
          -0.2617599441544949,
          -0.6477024075551885,
          -1.4554017026133887,
          0.24741918994602477,
          -0.22522232259468344,
          0.5469031092445472,
          -0.2815805553595161,
          -0.14730474978832764,
          2.152082602828211,
          -0.5849732814667612,
          -1.1672480227212263,
          -1.936000387514932,
          -0.6068892020585201,
          -0.004093622653018009,
          1.768152919880954,
          -0.47379149100178425,
          0.4096662408886199,
          -0.8298725088760005,
          0.23714593080153104,
          1.7182916716167476,
          -0.5536416369860518,
          -0.5008585162696602,
          0.12531474389952071,
          -0.3102922723523502,
          0.3212082519347096,
          0.1273991345162948,
          1.4676643819725206,
          -0.00954134812271558,
          -2.515191437159899,
          0.2858322905211471,
          1.6148968929893681,
          -0.41540727418007933,
          0.7432364152956532,
          0.08943293717910389,
          0.45863524503738756,
          -1.5130666419626568,
          0.25537119307039896,
          0.646208704821914,
          0.14045644314235028,
          -1.654436346805644,
          -1.2485137655752985,
          -1.220472804150455,
          0.5874098939074718,
          -0.8832102261481436,
          -0.7988314318980299,
          -0.573780450292032,
          -1.0383213758032692,
          -0.6318717788688629,
          0.00039752972621937476,
          1.1981581595577502,
          -2.5099274433561014,
          -0.2712993286356339,
          0.18780065535996154,
          -0.5580110046021268,
          -1.373552616923043,
          -0.08136658740476707,
          -0.500895465414146,
          -0.28648841769671246,
          0.760700335336526,
          1.2828632663819213,
          0.6375084363947762,
          0.09553303045392961,
          0.9602945758003074,
          1.264248937029117,
          -0.12940953282095385,
          -1.8627436208339199,
          -0.35263576599728114
         ],
         "xaxis": "x10",
         "y": [
          1.3277480686631737,
          1.050547909409751,
          1.3294870859233556,
          -0.13870404447613557,
          1.2218281015381525,
          -1.047591080889363,
          -1.4822808878063358,
          -1.4335267599367494,
          0.07274677269292128,
          -1.385208972739911,
          0.7024703200820424,
          -0.8880380280033623,
          -0.8547896508547369,
          0.31185313506640283,
          0.2563271601287642,
          -0.5261950965768823,
          0.5519014489002535,
          0.4082691591381113,
          -1.2862316779891965,
          0.44859116465226406,
          0.13625194558813486,
          0.280679521344601,
          -0.02835299066476146,
          -0.3830272009784602,
          -0.34353149414286166,
          0.28184497975529327,
          -1.2205571340697343,
          -0.02909238752000967,
          1.1921642115369608,
          0.474260432591272,
          0.9373627235375664,
          1.4776392003195147,
          -0.029564933039379248,
          0.99911966144133,
          0.3240195697926262,
          0.03401387458525973,
          1.410444141420003,
          0.5525302781296415,
          -0.3183084017843572,
          0.7186946417574489,
          -1.1077957092476767,
          1.7001527283039954,
          1.8133694221681342,
          -0.4225946616805115,
          -0.788023560769322,
          1.4058002890335541,
          0.961507413941608,
          0.017780631402030126,
          -1.6268560230227949,
          -0.21389807757329404,
          -0.25804553141361064,
          1.5027656010382409,
          -0.2301925491561469,
          -0.13133770671759212,
          0.6951888892908054,
          -1.0317610337860261,
          1.0727625169742452,
          -0.43083511527863716,
          -2.433419554005068,
          1.5545467140051108,
          0.8031599912754359,
          0.45310615813824545,
          0.9055518604541104,
          0.7846664209606582,
          0.6197006472787928,
          -0.47860177595972264,
          0.1279222369971248,
          0.5465449898282538,
          -1.6933600358972833,
          0.48491522534972553,
          0.2694070585448925,
          -0.11388920518825722,
          0.11272494742647107,
          -1.3920380931256184,
          -1.962700548100472,
          -1.7378697254858495,
          -0.7818474649403422,
          -2.1915026596198284,
          -0.010632375622421088,
          -2.0414814863870068,
          -0.4659494819877405,
          0.3451970702407081,
          0.6268328052907892,
          -0.71567101483495,
          -0.26445647028416147,
          0.16178304128280735,
          -0.5510181008810864,
          -0.5021706791030416,
          -1.5329231160369086,
          1.3879360191670922,
          -0.20967690238226744,
          -1.3670839329746214,
          1.076632444152013,
          0.2953756540651349,
          0.19709824729739248,
          0.18429971334894393,
          -0.9373963033909891,
          0.2646799340244548,
          1.2810675908976386,
          2.589926490087622
         ],
         "yaxis": "y10"
        },
        {
         "histfunc": "count",
         "histnorm": "",
         "marker": {
          "color": "rgba(50, 171, 96, 1.0)",
          "line": {
           "color": "#4D5663",
           "width": 1.3
          }
         },
         "name": "C",
         "nbinsx": 10,
         "opacity": 0.8,
         "orientation": "v",
         "type": "histogram",
         "x": [
          1.3277480686631737,
          1.050547909409751,
          1.3294870859233556,
          -0.13870404447613557,
          1.2218281015381525,
          -1.047591080889363,
          -1.4822808878063358,
          -1.4335267599367494,
          0.07274677269292128,
          -1.385208972739911,
          0.7024703200820424,
          -0.8880380280033623,
          -0.8547896508547369,
          0.31185313506640283,
          0.2563271601287642,
          -0.5261950965768823,
          0.5519014489002535,
          0.4082691591381113,
          -1.2862316779891965,
          0.44859116465226406,
          0.13625194558813486,
          0.280679521344601,
          -0.02835299066476146,
          -0.3830272009784602,
          -0.34353149414286166,
          0.28184497975529327,
          -1.2205571340697343,
          -0.02909238752000967,
          1.1921642115369608,
          0.474260432591272,
          0.9373627235375664,
          1.4776392003195147,
          -0.029564933039379248,
          0.99911966144133,
          0.3240195697926262,
          0.03401387458525973,
          1.410444141420003,
          0.5525302781296415,
          -0.3183084017843572,
          0.7186946417574489,
          -1.1077957092476767,
          1.7001527283039954,
          1.8133694221681342,
          -0.4225946616805115,
          -0.788023560769322,
          1.4058002890335541,
          0.961507413941608,
          0.017780631402030126,
          -1.6268560230227949,
          -0.21389807757329404,
          -0.25804553141361064,
          1.5027656010382409,
          -0.2301925491561469,
          -0.13133770671759212,
          0.6951888892908054,
          -1.0317610337860261,
          1.0727625169742452,
          -0.43083511527863716,
          -2.433419554005068,
          1.5545467140051108,
          0.8031599912754359,
          0.45310615813824545,
          0.9055518604541104,
          0.7846664209606582,
          0.6197006472787928,
          -0.47860177595972264,
          0.1279222369971248,
          0.5465449898282538,
          -1.6933600358972833,
          0.48491522534972553,
          0.2694070585448925,
          -0.11388920518825722,
          0.11272494742647107,
          -1.3920380931256184,
          -1.962700548100472,
          -1.7378697254858495,
          -0.7818474649403422,
          -2.1915026596198284,
          -0.010632375622421088,
          -2.0414814863870068,
          -0.4659494819877405,
          0.3451970702407081,
          0.6268328052907892,
          -0.71567101483495,
          -0.26445647028416147,
          0.16178304128280735,
          -0.5510181008810864,
          -0.5021706791030416,
          -1.5329231160369086,
          1.3879360191670922,
          -0.20967690238226744,
          -1.3670839329746214,
          1.076632444152013,
          0.2953756540651349,
          0.19709824729739248,
          0.18429971334894393,
          -0.9373963033909891,
          0.2646799340244548,
          1.2810675908976386,
          2.589926490087622
         ],
         "xaxis": "x11",
         "yaxis": "y11"
        },
        {
         "line": {
          "color": "rgba(128, 128, 128, 1.0)",
          "dash": "solid",
          "shape": "linear",
          "width": 1.3
         },
         "marker": {
          "size": 2,
          "symbol": "circle"
         },
         "mode": "markers",
         "name": "C",
         "text": "",
         "type": "scatter",
         "x": [
          0.9510949294848526,
          0.4695638138892198,
          -0.12821164479171554,
          -1.5257079148558776,
          -0.16233709183306624,
          -0.9638417942564012,
          -0.4915267140279102,
          -2.4184117895314765,
          0.3607053686268968,
          -0.5285612826105017,
          -0.4285178504036213,
          0.07966457306215396,
          2.3652059729730497,
          -0.9870421025768513,
          0.36702706338599883,
          1.1347510327949974,
          0.5894990482523681,
          2.440768159619953,
          0.9838466325555156,
          0.797510734845901,
          -0.624485961244373,
          1.0991759521001998,
          0.9298248741871734,
          0.7133611160971455,
          0.3990976342014481,
          -0.08382319239217625,
          0.18677316791991988,
          -0.24586105029012073,
          -0.9917793106937559,
          0.04845575460362079,
          0.15371514705055928,
          -0.4718618834830073,
          -0.6211000961774438,
          1.1697655277102825,
          -0.2761052450610573,
          0.390290321076468,
          -0.27580277573952555,
          -0.011793728102506337,
          1.4203938063505552,
          -0.3540328421352846,
          -0.05385716129189193,
          1.5687612989007362,
          1.4947811801907642,
          -0.0907906324830042,
          0.2008464745533209,
          0.6540547952065257,
          -0.6453521773434029,
          0.9440170316749986,
          1.5897438489064992,
          -0.8486254691354769,
          0.9046070542679885,
          1.0495623648697618,
          -1.224035202547343,
          -1.0427057175256877,
          0.5945839682902634,
          0.5337946540431762,
          0.2632612245115452,
          0.39868488873597385,
          -0.3654589589077428,
          -1.1342179546915354,
          0.11851262533573535,
          -0.8340798137577661,
          0.5926784388236838,
          -0.6207922204277392,
          0.9651518359562631,
          0.09403334833156134,
          -0.3250940889776582,
          -2.256036962124954,
          0.4846688572318411,
          0.06839142679808732,
          -2.133092503970914,
          1.4539681659416737,
          -0.5664865152294981,
          -0.7341855979315933,
          -0.3566560181728952,
          0.09952804551515838,
          1.081557923070655,
          0.2263069870116225,
          -0.33929955781856347,
          1.5439649056212006,
          -1.4320414456639798,
          -1.3204482658502175,
          2.1615947495792853,
          0.33079081187341614,
          -1.0156246875190234,
          -0.362395604857689,
          0.7536331826381956,
          -1.7368657732073303,
          0.010594486537426498,
          -0.2556207731554825,
          -0.398307797997451,
          1.7935563632068905,
          0.33221143072086234,
          -0.019581137547514754,
          1.8924713508771496,
          -1.4489598139678137,
          0.023367516123193738,
          -0.4067124512310082,
          -1.0153575018769438,
          -0.8289638770916804
         ],
         "xaxis": "x12",
         "y": [
          1.3277480686631737,
          1.050547909409751,
          1.3294870859233556,
          -0.13870404447613557,
          1.2218281015381525,
          -1.047591080889363,
          -1.4822808878063358,
          -1.4335267599367494,
          0.07274677269292128,
          -1.385208972739911,
          0.7024703200820424,
          -0.8880380280033623,
          -0.8547896508547369,
          0.31185313506640283,
          0.2563271601287642,
          -0.5261950965768823,
          0.5519014489002535,
          0.4082691591381113,
          -1.2862316779891965,
          0.44859116465226406,
          0.13625194558813486,
          0.280679521344601,
          -0.02835299066476146,
          -0.3830272009784602,
          -0.34353149414286166,
          0.28184497975529327,
          -1.2205571340697343,
          -0.02909238752000967,
          1.1921642115369608,
          0.474260432591272,
          0.9373627235375664,
          1.4776392003195147,
          -0.029564933039379248,
          0.99911966144133,
          0.3240195697926262,
          0.03401387458525973,
          1.410444141420003,
          0.5525302781296415,
          -0.3183084017843572,
          0.7186946417574489,
          -1.1077957092476767,
          1.7001527283039954,
          1.8133694221681342,
          -0.4225946616805115,
          -0.788023560769322,
          1.4058002890335541,
          0.961507413941608,
          0.017780631402030126,
          -1.6268560230227949,
          -0.21389807757329404,
          -0.25804553141361064,
          1.5027656010382409,
          -0.2301925491561469,
          -0.13133770671759212,
          0.6951888892908054,
          -1.0317610337860261,
          1.0727625169742452,
          -0.43083511527863716,
          -2.433419554005068,
          1.5545467140051108,
          0.8031599912754359,
          0.45310615813824545,
          0.9055518604541104,
          0.7846664209606582,
          0.6197006472787928,
          -0.47860177595972264,
          0.1279222369971248,
          0.5465449898282538,
          -1.6933600358972833,
          0.48491522534972553,
          0.2694070585448925,
          -0.11388920518825722,
          0.11272494742647107,
          -1.3920380931256184,
          -1.962700548100472,
          -1.7378697254858495,
          -0.7818474649403422,
          -2.1915026596198284,
          -0.010632375622421088,
          -2.0414814863870068,
          -0.4659494819877405,
          0.3451970702407081,
          0.6268328052907892,
          -0.71567101483495,
          -0.26445647028416147,
          0.16178304128280735,
          -0.5510181008810864,
          -0.5021706791030416,
          -1.5329231160369086,
          1.3879360191670922,
          -0.20967690238226744,
          -1.3670839329746214,
          1.076632444152013,
          0.2953756540651349,
          0.19709824729739248,
          0.18429971334894393,
          -0.9373963033909891,
          0.2646799340244548,
          1.2810675908976386,
          2.589926490087622
         ],
         "yaxis": "y12"
        },
        {
         "line": {
          "color": "rgba(128, 128, 128, 1.0)",
          "dash": "solid",
          "shape": "linear",
          "width": 1.3
         },
         "marker": {
          "size": 2,
          "symbol": "circle"
         },
         "mode": "markers",
         "name": "D",
         "text": "",
         "type": "scatter",
         "x": [
          0.062403000348056896,
          0.682158388145421,
          0.3268464575434144,
          0.28422394171376936,
          -0.8930677967906131,
          0.041223291518847946,
          1.4782858523800568,
          -0.01722465247120283,
          0.20354506830826805,
          -0.4545305600633967,
          -0.38981019744658657,
          -1.3603820914539406,
          -0.1930434719473086,
          -0.4242067670561226,
          0.5805237728658952,
          0.0182563537413149,
          0.5893475068103087,
          0.03891119531541383,
          -1.1659803041570214,
          -1.4954814632608548,
          0.6410459252420906,
          -1.8173897668947723,
          1.1476736695558079,
          -0.008637510156530056,
          0.7333610287703045,
          -0.00341856027323607,
          -0.1705957221128231,
          -0.2755653598251552,
          -0.7028999920512963,
          -0.7686762441966566,
          -1.4320039221064242,
          -0.3777920709864464,
          -0.7893304727600577,
          -1.462585693582685,
          0.25606012549675394,
          -0.7328012321850637,
          0.9282689238426763,
          1.1757725189552224,
          0.5497232961895439,
          1.3504414595074608,
          0.36879921331976007,
          0.6474329912861589,
          0.3425748143184703,
          -0.5524096866845196,
          0.22771702810119573,
          -0.01856107928186663,
          -0.505035272141574,
          1.83767051387475,
          0.7758446792672782,
          0.49530351834577024,
          -0.8959516679869598,
          0.19244410049328461,
          -0.028152661422717846,
          0.2446391640032037,
          -0.8544538723417219,
          -1.1987174971252845,
          -1.0351821498442066,
          1.630876494005205,
          -1.1732747762090505,
          -0.6522848289203391,
          -1.166608830105591,
          -0.6660716373175085,
          0.49650677118547343,
          0.280945589781803,
          2.590006720593593,
          0.4641214459824001,
          0.4167417130776699,
          0.814643013951977,
          -2.135518795380281,
          0.6136241313529066,
          -0.9426705484649059,
          1.050069499491585,
          1.478207789341703,
          -0.6391499024396073,
          1.1037544258288825,
          1.598744213446337,
          -0.9214180706170372,
          -1.2027125149729223,
          -0.8141297322283779,
          0.4167869704791297,
          -0.5529385483286148,
          0.3472229204713509,
          0.718239409702939,
          -0.28359798177231077,
          -0.39401886897279204,
          -0.8053865090960546,
          0.31592140452817635,
          1.2882667023943803,
          0.6850003377061532,
          -1.653096366834222,
          0.10423440668142835,
          -1.1225488317606467,
          -0.7634534972151744,
          0.845927206975368,
          2.4774967936593364,
          -1.1920806362525922,
          -0.932594950136978,
          2.440937192420902,
          -1.0872222548948827,
          0.8000874593014355
         ],
         "xaxis": "x13",
         "y": [
          0.9510949294848526,
          0.4695638138892198,
          -0.12821164479171554,
          -1.5257079148558776,
          -0.16233709183306624,
          -0.9638417942564012,
          -0.4915267140279102,
          -2.4184117895314765,
          0.3607053686268968,
          -0.5285612826105017,
          -0.4285178504036213,
          0.07966457306215396,
          2.3652059729730497,
          -0.9870421025768513,
          0.36702706338599883,
          1.1347510327949974,
          0.5894990482523681,
          2.440768159619953,
          0.9838466325555156,
          0.797510734845901,
          -0.624485961244373,
          1.0991759521001998,
          0.9298248741871734,
          0.7133611160971455,
          0.3990976342014481,
          -0.08382319239217625,
          0.18677316791991988,
          -0.24586105029012073,
          -0.9917793106937559,
          0.04845575460362079,
          0.15371514705055928,
          -0.4718618834830073,
          -0.6211000961774438,
          1.1697655277102825,
          -0.2761052450610573,
          0.390290321076468,
          -0.27580277573952555,
          -0.011793728102506337,
          1.4203938063505552,
          -0.3540328421352846,
          -0.05385716129189193,
          1.5687612989007362,
          1.4947811801907642,
          -0.0907906324830042,
          0.2008464745533209,
          0.6540547952065257,
          -0.6453521773434029,
          0.9440170316749986,
          1.5897438489064992,
          -0.8486254691354769,
          0.9046070542679885,
          1.0495623648697618,
          -1.224035202547343,
          -1.0427057175256877,
          0.5945839682902634,
          0.5337946540431762,
          0.2632612245115452,
          0.39868488873597385,
          -0.3654589589077428,
          -1.1342179546915354,
          0.11851262533573535,
          -0.8340798137577661,
          0.5926784388236838,
          -0.6207922204277392,
          0.9651518359562631,
          0.09403334833156134,
          -0.3250940889776582,
          -2.256036962124954,
          0.4846688572318411,
          0.06839142679808732,
          -2.133092503970914,
          1.4539681659416737,
          -0.5664865152294981,
          -0.7341855979315933,
          -0.3566560181728952,
          0.09952804551515838,
          1.081557923070655,
          0.2263069870116225,
          -0.33929955781856347,
          1.5439649056212006,
          -1.4320414456639798,
          -1.3204482658502175,
          2.1615947495792853,
          0.33079081187341614,
          -1.0156246875190234,
          -0.362395604857689,
          0.7536331826381956,
          -1.7368657732073303,
          0.010594486537426498,
          -0.2556207731554825,
          -0.398307797997451,
          1.7935563632068905,
          0.33221143072086234,
          -0.019581137547514754,
          1.8924713508771496,
          -1.4489598139678137,
          0.023367516123193738,
          -0.4067124512310082,
          -1.0153575018769438,
          -0.8289638770916804
         ],
         "yaxis": "y13"
        },
        {
         "line": {
          "color": "rgba(128, 128, 128, 1.0)",
          "dash": "solid",
          "shape": "linear",
          "width": 1.3
         },
         "marker": {
          "size": 2,
          "symbol": "circle"
         },
         "mode": "markers",
         "name": "D",
         "text": "",
         "type": "scatter",
         "x": [
          -1.2990683753780665,
          1.624681381422417,
          1.1050144336626813,
          -0.18855637354967572,
          0.48478649153248393,
          -0.1518918367515998,
          -0.7101304630074858,
          -0.8314894580215793,
          0.14864838275340203,
          -0.9883549688724185,
          0.2619736329233981,
          0.433341791706317,
          0.4144785136898204,
          0.5033067567904287,
          1.4965554538363868,
          1.956617306686328,
          -0.578245281812172,
          -1.4174671610760066,
          0.2509113970016073,
          -0.6854460438222966,
          0.23852252212573566,
          -0.4374775713005923,
          0.7413855687297202,
          0.10556881914297436,
          0.1585873008040566,
          2.233260861019369,
          -0.09929731120607435,
          0.7241044725523446,
          0.535088540547648,
          0.5580949721210654,
          -0.11338290316044461,
          -0.7731897813122994,
          -0.45846386467525907,
          -0.2617599441544949,
          -0.6477024075551885,
          -1.4554017026133887,
          0.24741918994602477,
          -0.22522232259468344,
          0.5469031092445472,
          -0.2815805553595161,
          -0.14730474978832764,
          2.152082602828211,
          -0.5849732814667612,
          -1.1672480227212263,
          -1.936000387514932,
          -0.6068892020585201,
          -0.004093622653018009,
          1.768152919880954,
          -0.47379149100178425,
          0.4096662408886199,
          -0.8298725088760005,
          0.23714593080153104,
          1.7182916716167476,
          -0.5536416369860518,
          -0.5008585162696602,
          0.12531474389952071,
          -0.3102922723523502,
          0.3212082519347096,
          0.1273991345162948,
          1.4676643819725206,
          -0.00954134812271558,
          -2.515191437159899,
          0.2858322905211471,
          1.6148968929893681,
          -0.41540727418007933,
          0.7432364152956532,
          0.08943293717910389,
          0.45863524503738756,
          -1.5130666419626568,
          0.25537119307039896,
          0.646208704821914,
          0.14045644314235028,
          -1.654436346805644,
          -1.2485137655752985,
          -1.220472804150455,
          0.5874098939074718,
          -0.8832102261481436,
          -0.7988314318980299,
          -0.573780450292032,
          -1.0383213758032692,
          -0.6318717788688629,
          0.00039752972621937476,
          1.1981581595577502,
          -2.5099274433561014,
          -0.2712993286356339,
          0.18780065535996154,
          -0.5580110046021268,
          -1.373552616923043,
          -0.08136658740476707,
          -0.500895465414146,
          -0.28648841769671246,
          0.760700335336526,
          1.2828632663819213,
          0.6375084363947762,
          0.09553303045392961,
          0.9602945758003074,
          1.264248937029117,
          -0.12940953282095385,
          -1.8627436208339199,
          -0.35263576599728114
         ],
         "xaxis": "x14",
         "y": [
          0.9510949294848526,
          0.4695638138892198,
          -0.12821164479171554,
          -1.5257079148558776,
          -0.16233709183306624,
          -0.9638417942564012,
          -0.4915267140279102,
          -2.4184117895314765,
          0.3607053686268968,
          -0.5285612826105017,
          -0.4285178504036213,
          0.07966457306215396,
          2.3652059729730497,
          -0.9870421025768513,
          0.36702706338599883,
          1.1347510327949974,
          0.5894990482523681,
          2.440768159619953,
          0.9838466325555156,
          0.797510734845901,
          -0.624485961244373,
          1.0991759521001998,
          0.9298248741871734,
          0.7133611160971455,
          0.3990976342014481,
          -0.08382319239217625,
          0.18677316791991988,
          -0.24586105029012073,
          -0.9917793106937559,
          0.04845575460362079,
          0.15371514705055928,
          -0.4718618834830073,
          -0.6211000961774438,
          1.1697655277102825,
          -0.2761052450610573,
          0.390290321076468,
          -0.27580277573952555,
          -0.011793728102506337,
          1.4203938063505552,
          -0.3540328421352846,
          -0.05385716129189193,
          1.5687612989007362,
          1.4947811801907642,
          -0.0907906324830042,
          0.2008464745533209,
          0.6540547952065257,
          -0.6453521773434029,
          0.9440170316749986,
          1.5897438489064992,
          -0.8486254691354769,
          0.9046070542679885,
          1.0495623648697618,
          -1.224035202547343,
          -1.0427057175256877,
          0.5945839682902634,
          0.5337946540431762,
          0.2632612245115452,
          0.39868488873597385,
          -0.3654589589077428,
          -1.1342179546915354,
          0.11851262533573535,
          -0.8340798137577661,
          0.5926784388236838,
          -0.6207922204277392,
          0.9651518359562631,
          0.09403334833156134,
          -0.3250940889776582,
          -2.256036962124954,
          0.4846688572318411,
          0.06839142679808732,
          -2.133092503970914,
          1.4539681659416737,
          -0.5664865152294981,
          -0.7341855979315933,
          -0.3566560181728952,
          0.09952804551515838,
          1.081557923070655,
          0.2263069870116225,
          -0.33929955781856347,
          1.5439649056212006,
          -1.4320414456639798,
          -1.3204482658502175,
          2.1615947495792853,
          0.33079081187341614,
          -1.0156246875190234,
          -0.362395604857689,
          0.7536331826381956,
          -1.7368657732073303,
          0.010594486537426498,
          -0.2556207731554825,
          -0.398307797997451,
          1.7935563632068905,
          0.33221143072086234,
          -0.019581137547514754,
          1.8924713508771496,
          -1.4489598139678137,
          0.023367516123193738,
          -0.4067124512310082,
          -1.0153575018769438,
          -0.8289638770916804
         ],
         "yaxis": "y14"
        },
        {
         "line": {
          "color": "rgba(128, 128, 128, 1.0)",
          "dash": "solid",
          "shape": "linear",
          "width": 1.3
         },
         "marker": {
          "size": 2,
          "symbol": "circle"
         },
         "mode": "markers",
         "name": "D",
         "text": "",
         "type": "scatter",
         "x": [
          1.3277480686631737,
          1.050547909409751,
          1.3294870859233556,
          -0.13870404447613557,
          1.2218281015381525,
          -1.047591080889363,
          -1.4822808878063358,
          -1.4335267599367494,
          0.07274677269292128,
          -1.385208972739911,
          0.7024703200820424,
          -0.8880380280033623,
          -0.8547896508547369,
          0.31185313506640283,
          0.2563271601287642,
          -0.5261950965768823,
          0.5519014489002535,
          0.4082691591381113,
          -1.2862316779891965,
          0.44859116465226406,
          0.13625194558813486,
          0.280679521344601,
          -0.02835299066476146,
          -0.3830272009784602,
          -0.34353149414286166,
          0.28184497975529327,
          -1.2205571340697343,
          -0.02909238752000967,
          1.1921642115369608,
          0.474260432591272,
          0.9373627235375664,
          1.4776392003195147,
          -0.029564933039379248,
          0.99911966144133,
          0.3240195697926262,
          0.03401387458525973,
          1.410444141420003,
          0.5525302781296415,
          -0.3183084017843572,
          0.7186946417574489,
          -1.1077957092476767,
          1.7001527283039954,
          1.8133694221681342,
          -0.4225946616805115,
          -0.788023560769322,
          1.4058002890335541,
          0.961507413941608,
          0.017780631402030126,
          -1.6268560230227949,
          -0.21389807757329404,
          -0.25804553141361064,
          1.5027656010382409,
          -0.2301925491561469,
          -0.13133770671759212,
          0.6951888892908054,
          -1.0317610337860261,
          1.0727625169742452,
          -0.43083511527863716,
          -2.433419554005068,
          1.5545467140051108,
          0.8031599912754359,
          0.45310615813824545,
          0.9055518604541104,
          0.7846664209606582,
          0.6197006472787928,
          -0.47860177595972264,
          0.1279222369971248,
          0.5465449898282538,
          -1.6933600358972833,
          0.48491522534972553,
          0.2694070585448925,
          -0.11388920518825722,
          0.11272494742647107,
          -1.3920380931256184,
          -1.962700548100472,
          -1.7378697254858495,
          -0.7818474649403422,
          -2.1915026596198284,
          -0.010632375622421088,
          -2.0414814863870068,
          -0.4659494819877405,
          0.3451970702407081,
          0.6268328052907892,
          -0.71567101483495,
          -0.26445647028416147,
          0.16178304128280735,
          -0.5510181008810864,
          -0.5021706791030416,
          -1.5329231160369086,
          1.3879360191670922,
          -0.20967690238226744,
          -1.3670839329746214,
          1.076632444152013,
          0.2953756540651349,
          0.19709824729739248,
          0.18429971334894393,
          -0.9373963033909891,
          0.2646799340244548,
          1.2810675908976386,
          2.589926490087622
         ],
         "xaxis": "x15",
         "y": [
          0.9510949294848526,
          0.4695638138892198,
          -0.12821164479171554,
          -1.5257079148558776,
          -0.16233709183306624,
          -0.9638417942564012,
          -0.4915267140279102,
          -2.4184117895314765,
          0.3607053686268968,
          -0.5285612826105017,
          -0.4285178504036213,
          0.07966457306215396,
          2.3652059729730497,
          -0.9870421025768513,
          0.36702706338599883,
          1.1347510327949974,
          0.5894990482523681,
          2.440768159619953,
          0.9838466325555156,
          0.797510734845901,
          -0.624485961244373,
          1.0991759521001998,
          0.9298248741871734,
          0.7133611160971455,
          0.3990976342014481,
          -0.08382319239217625,
          0.18677316791991988,
          -0.24586105029012073,
          -0.9917793106937559,
          0.04845575460362079,
          0.15371514705055928,
          -0.4718618834830073,
          -0.6211000961774438,
          1.1697655277102825,
          -0.2761052450610573,
          0.390290321076468,
          -0.27580277573952555,
          -0.011793728102506337,
          1.4203938063505552,
          -0.3540328421352846,
          -0.05385716129189193,
          1.5687612989007362,
          1.4947811801907642,
          -0.0907906324830042,
          0.2008464745533209,
          0.6540547952065257,
          -0.6453521773434029,
          0.9440170316749986,
          1.5897438489064992,
          -0.8486254691354769,
          0.9046070542679885,
          1.0495623648697618,
          -1.224035202547343,
          -1.0427057175256877,
          0.5945839682902634,
          0.5337946540431762,
          0.2632612245115452,
          0.39868488873597385,
          -0.3654589589077428,
          -1.1342179546915354,
          0.11851262533573535,
          -0.8340798137577661,
          0.5926784388236838,
          -0.6207922204277392,
          0.9651518359562631,
          0.09403334833156134,
          -0.3250940889776582,
          -2.256036962124954,
          0.4846688572318411,
          0.06839142679808732,
          -2.133092503970914,
          1.4539681659416737,
          -0.5664865152294981,
          -0.7341855979315933,
          -0.3566560181728952,
          0.09952804551515838,
          1.081557923070655,
          0.2263069870116225,
          -0.33929955781856347,
          1.5439649056212006,
          -1.4320414456639798,
          -1.3204482658502175,
          2.1615947495792853,
          0.33079081187341614,
          -1.0156246875190234,
          -0.362395604857689,
          0.7536331826381956,
          -1.7368657732073303,
          0.010594486537426498,
          -0.2556207731554825,
          -0.398307797997451,
          1.7935563632068905,
          0.33221143072086234,
          -0.019581137547514754,
          1.8924713508771496,
          -1.4489598139678137,
          0.023367516123193738,
          -0.4067124512310082,
          -1.0153575018769438,
          -0.8289638770916804
         ],
         "yaxis": "y15"
        },
        {
         "histfunc": "count",
         "histnorm": "",
         "marker": {
          "color": "rgba(128, 0, 128, 1.0)",
          "line": {
           "color": "#4D5663",
           "width": 1.3
          }
         },
         "name": "D",
         "nbinsx": 10,
         "opacity": 0.8,
         "orientation": "v",
         "type": "histogram",
         "x": [
          0.9510949294848526,
          0.4695638138892198,
          -0.12821164479171554,
          -1.5257079148558776,
          -0.16233709183306624,
          -0.9638417942564012,
          -0.4915267140279102,
          -2.4184117895314765,
          0.3607053686268968,
          -0.5285612826105017,
          -0.4285178504036213,
          0.07966457306215396,
          2.3652059729730497,
          -0.9870421025768513,
          0.36702706338599883,
          1.1347510327949974,
          0.5894990482523681,
          2.440768159619953,
          0.9838466325555156,
          0.797510734845901,
          -0.624485961244373,
          1.0991759521001998,
          0.9298248741871734,
          0.7133611160971455,
          0.3990976342014481,
          -0.08382319239217625,
          0.18677316791991988,
          -0.24586105029012073,
          -0.9917793106937559,
          0.04845575460362079,
          0.15371514705055928,
          -0.4718618834830073,
          -0.6211000961774438,
          1.1697655277102825,
          -0.2761052450610573,
          0.390290321076468,
          -0.27580277573952555,
          -0.011793728102506337,
          1.4203938063505552,
          -0.3540328421352846,
          -0.05385716129189193,
          1.5687612989007362,
          1.4947811801907642,
          -0.0907906324830042,
          0.2008464745533209,
          0.6540547952065257,
          -0.6453521773434029,
          0.9440170316749986,
          1.5897438489064992,
          -0.8486254691354769,
          0.9046070542679885,
          1.0495623648697618,
          -1.224035202547343,
          -1.0427057175256877,
          0.5945839682902634,
          0.5337946540431762,
          0.2632612245115452,
          0.39868488873597385,
          -0.3654589589077428,
          -1.1342179546915354,
          0.11851262533573535,
          -0.8340798137577661,
          0.5926784388236838,
          -0.6207922204277392,
          0.9651518359562631,
          0.09403334833156134,
          -0.3250940889776582,
          -2.256036962124954,
          0.4846688572318411,
          0.06839142679808732,
          -2.133092503970914,
          1.4539681659416737,
          -0.5664865152294981,
          -0.7341855979315933,
          -0.3566560181728952,
          0.09952804551515838,
          1.081557923070655,
          0.2263069870116225,
          -0.33929955781856347,
          1.5439649056212006,
          -1.4320414456639798,
          -1.3204482658502175,
          2.1615947495792853,
          0.33079081187341614,
          -1.0156246875190234,
          -0.362395604857689,
          0.7536331826381956,
          -1.7368657732073303,
          0.010594486537426498,
          -0.2556207731554825,
          -0.398307797997451,
          1.7935563632068905,
          0.33221143072086234,
          -0.019581137547514754,
          1.8924713508771496,
          -1.4489598139678137,
          0.023367516123193738,
          -0.4067124512310082,
          -1.0153575018769438,
          -0.8289638770916804
         ],
         "xaxis": "x16",
         "yaxis": "y16"
        }
       ],
       "layout": {
        "bargap": 0.02,
        "legend": {
         "bgcolor": "#F5F6F9",
         "font": {
          "color": "#4D5663"
         }
        },
        "paper_bgcolor": "#F5F6F9",
        "plot_bgcolor": "#F5F6F9",
        "showlegend": false,
        "template": {
         "data": {
          "bar": [
           {
            "error_x": {
             "color": "#2a3f5f"
            },
            "error_y": {
             "color": "#2a3f5f"
            },
            "marker": {
             "line": {
              "color": "#E5ECF6",
              "width": 0.5
             }
            },
            "type": "bar"
           }
          ],
          "barpolar": [
           {
            "marker": {
             "line": {
              "color": "#E5ECF6",
              "width": 0.5
             }
            },
            "type": "barpolar"
           }
          ],
          "carpet": [
           {
            "aaxis": {
             "endlinecolor": "#2a3f5f",
             "gridcolor": "white",
             "linecolor": "white",
             "minorgridcolor": "white",
             "startlinecolor": "#2a3f5f"
            },
            "baxis": {
             "endlinecolor": "#2a3f5f",
             "gridcolor": "white",
             "linecolor": "white",
             "minorgridcolor": "white",
             "startlinecolor": "#2a3f5f"
            },
            "type": "carpet"
           }
          ],
          "choropleth": [
           {
            "colorbar": {
             "outlinewidth": 0,
             "ticks": ""
            },
            "type": "choropleth"
           }
          ],
          "contour": [
           {
            "colorbar": {
             "outlinewidth": 0,
             "ticks": ""
            },
            "colorscale": [
             [
              0,
              "#0d0887"
             ],
             [
              0.1111111111111111,
              "#46039f"
             ],
             [
              0.2222222222222222,
              "#7201a8"
             ],
             [
              0.3333333333333333,
              "#9c179e"
             ],
             [
              0.4444444444444444,
              "#bd3786"
             ],
             [
              0.5555555555555556,
              "#d8576b"
             ],
             [
              0.6666666666666666,
              "#ed7953"
             ],
             [
              0.7777777777777778,
              "#fb9f3a"
             ],
             [
              0.8888888888888888,
              "#fdca26"
             ],
             [
              1,
              "#f0f921"
             ]
            ],
            "type": "contour"
           }
          ],
          "contourcarpet": [
           {
            "colorbar": {
             "outlinewidth": 0,
             "ticks": ""
            },
            "type": "contourcarpet"
           }
          ],
          "heatmap": [
           {
            "colorbar": {
             "outlinewidth": 0,
             "ticks": ""
            },
            "colorscale": [
             [
              0,
              "#0d0887"
             ],
             [
              0.1111111111111111,
              "#46039f"
             ],
             [
              0.2222222222222222,
              "#7201a8"
             ],
             [
              0.3333333333333333,
              "#9c179e"
             ],
             [
              0.4444444444444444,
              "#bd3786"
             ],
             [
              0.5555555555555556,
              "#d8576b"
             ],
             [
              0.6666666666666666,
              "#ed7953"
             ],
             [
              0.7777777777777778,
              "#fb9f3a"
             ],
             [
              0.8888888888888888,
              "#fdca26"
             ],
             [
              1,
              "#f0f921"
             ]
            ],
            "type": "heatmap"
           }
          ],
          "heatmapgl": [
           {
            "colorbar": {
             "outlinewidth": 0,
             "ticks": ""
            },
            "colorscale": [
             [
              0,
              "#0d0887"
             ],
             [
              0.1111111111111111,
              "#46039f"
             ],
             [
              0.2222222222222222,
              "#7201a8"
             ],
             [
              0.3333333333333333,
              "#9c179e"
             ],
             [
              0.4444444444444444,
              "#bd3786"
             ],
             [
              0.5555555555555556,
              "#d8576b"
             ],
             [
              0.6666666666666666,
              "#ed7953"
             ],
             [
              0.7777777777777778,
              "#fb9f3a"
             ],
             [
              0.8888888888888888,
              "#fdca26"
             ],
             [
              1,
              "#f0f921"
             ]
            ],
            "type": "heatmapgl"
           }
          ],
          "histogram": [
           {
            "marker": {
             "colorbar": {
              "outlinewidth": 0,
              "ticks": ""
             }
            },
            "type": "histogram"
           }
          ],
          "histogram2d": [
           {
            "colorbar": {
             "outlinewidth": 0,
             "ticks": ""
            },
            "colorscale": [
             [
              0,
              "#0d0887"
             ],
             [
              0.1111111111111111,
              "#46039f"
             ],
             [
              0.2222222222222222,
              "#7201a8"
             ],
             [
              0.3333333333333333,
              "#9c179e"
             ],
             [
              0.4444444444444444,
              "#bd3786"
             ],
             [
              0.5555555555555556,
              "#d8576b"
             ],
             [
              0.6666666666666666,
              "#ed7953"
             ],
             [
              0.7777777777777778,
              "#fb9f3a"
             ],
             [
              0.8888888888888888,
              "#fdca26"
             ],
             [
              1,
              "#f0f921"
             ]
            ],
            "type": "histogram2d"
           }
          ],
          "histogram2dcontour": [
           {
            "colorbar": {
             "outlinewidth": 0,
             "ticks": ""
            },
            "colorscale": [
             [
              0,
              "#0d0887"
             ],
             [
              0.1111111111111111,
              "#46039f"
             ],
             [
              0.2222222222222222,
              "#7201a8"
             ],
             [
              0.3333333333333333,
              "#9c179e"
             ],
             [
              0.4444444444444444,
              "#bd3786"
             ],
             [
              0.5555555555555556,
              "#d8576b"
             ],
             [
              0.6666666666666666,
              "#ed7953"
             ],
             [
              0.7777777777777778,
              "#fb9f3a"
             ],
             [
              0.8888888888888888,
              "#fdca26"
             ],
             [
              1,
              "#f0f921"
             ]
            ],
            "type": "histogram2dcontour"
           }
          ],
          "mesh3d": [
           {
            "colorbar": {
             "outlinewidth": 0,
             "ticks": ""
            },
            "type": "mesh3d"
           }
          ],
          "parcoords": [
           {
            "line": {
             "colorbar": {
              "outlinewidth": 0,
              "ticks": ""
             }
            },
            "type": "parcoords"
           }
          ],
          "pie": [
           {
            "automargin": true,
            "type": "pie"
           }
          ],
          "scatter": [
           {
            "marker": {
             "colorbar": {
              "outlinewidth": 0,
              "ticks": ""
             }
            },
            "type": "scatter"
           }
          ],
          "scatter3d": [
           {
            "line": {
             "colorbar": {
              "outlinewidth": 0,
              "ticks": ""
             }
            },
            "marker": {
             "colorbar": {
              "outlinewidth": 0,
              "ticks": ""
             }
            },
            "type": "scatter3d"
           }
          ],
          "scattercarpet": [
           {
            "marker": {
             "colorbar": {
              "outlinewidth": 0,
              "ticks": ""
             }
            },
            "type": "scattercarpet"
           }
          ],
          "scattergeo": [
           {
            "marker": {
             "colorbar": {
              "outlinewidth": 0,
              "ticks": ""
             }
            },
            "type": "scattergeo"
           }
          ],
          "scattergl": [
           {
            "marker": {
             "colorbar": {
              "outlinewidth": 0,
              "ticks": ""
             }
            },
            "type": "scattergl"
           }
          ],
          "scattermapbox": [
           {
            "marker": {
             "colorbar": {
              "outlinewidth": 0,
              "ticks": ""
             }
            },
            "type": "scattermapbox"
           }
          ],
          "scatterpolar": [
           {
            "marker": {
             "colorbar": {
              "outlinewidth": 0,
              "ticks": ""
             }
            },
            "type": "scatterpolar"
           }
          ],
          "scatterpolargl": [
           {
            "marker": {
             "colorbar": {
              "outlinewidth": 0,
              "ticks": ""
             }
            },
            "type": "scatterpolargl"
           }
          ],
          "scatterternary": [
           {
            "marker": {
             "colorbar": {
              "outlinewidth": 0,
              "ticks": ""
             }
            },
            "type": "scatterternary"
           }
          ],
          "surface": [
           {
            "colorbar": {
             "outlinewidth": 0,
             "ticks": ""
            },
            "colorscale": [
             [
              0,
              "#0d0887"
             ],
             [
              0.1111111111111111,
              "#46039f"
             ],
             [
              0.2222222222222222,
              "#7201a8"
             ],
             [
              0.3333333333333333,
              "#9c179e"
             ],
             [
              0.4444444444444444,
              "#bd3786"
             ],
             [
              0.5555555555555556,
              "#d8576b"
             ],
             [
              0.6666666666666666,
              "#ed7953"
             ],
             [
              0.7777777777777778,
              "#fb9f3a"
             ],
             [
              0.8888888888888888,
              "#fdca26"
             ],
             [
              1,
              "#f0f921"
             ]
            ],
            "type": "surface"
           }
          ],
          "table": [
           {
            "cells": {
             "fill": {
              "color": "#EBF0F8"
             },
             "line": {
              "color": "white"
             }
            },
            "header": {
             "fill": {
              "color": "#C8D4E3"
             },
             "line": {
              "color": "white"
             }
            },
            "type": "table"
           }
          ]
         },
         "layout": {
          "annotationdefaults": {
           "arrowcolor": "#2a3f5f",
           "arrowhead": 0,
           "arrowwidth": 1
          },
          "autotypenumbers": "strict",
          "coloraxis": {
           "colorbar": {
            "outlinewidth": 0,
            "ticks": ""
           }
          },
          "colorscale": {
           "diverging": [
            [
             0,
             "#8e0152"
            ],
            [
             0.1,
             "#c51b7d"
            ],
            [
             0.2,
             "#de77ae"
            ],
            [
             0.3,
             "#f1b6da"
            ],
            [
             0.4,
             "#fde0ef"
            ],
            [
             0.5,
             "#f7f7f7"
            ],
            [
             0.6,
             "#e6f5d0"
            ],
            [
             0.7,
             "#b8e186"
            ],
            [
             0.8,
             "#7fbc41"
            ],
            [
             0.9,
             "#4d9221"
            ],
            [
             1,
             "#276419"
            ]
           ],
           "sequential": [
            [
             0,
             "#0d0887"
            ],
            [
             0.1111111111111111,
             "#46039f"
            ],
            [
             0.2222222222222222,
             "#7201a8"
            ],
            [
             0.3333333333333333,
             "#9c179e"
            ],
            [
             0.4444444444444444,
             "#bd3786"
            ],
            [
             0.5555555555555556,
             "#d8576b"
            ],
            [
             0.6666666666666666,
             "#ed7953"
            ],
            [
             0.7777777777777778,
             "#fb9f3a"
            ],
            [
             0.8888888888888888,
             "#fdca26"
            ],
            [
             1,
             "#f0f921"
            ]
           ],
           "sequentialminus": [
            [
             0,
             "#0d0887"
            ],
            [
             0.1111111111111111,
             "#46039f"
            ],
            [
             0.2222222222222222,
             "#7201a8"
            ],
            [
             0.3333333333333333,
             "#9c179e"
            ],
            [
             0.4444444444444444,
             "#bd3786"
            ],
            [
             0.5555555555555556,
             "#d8576b"
            ],
            [
             0.6666666666666666,
             "#ed7953"
            ],
            [
             0.7777777777777778,
             "#fb9f3a"
            ],
            [
             0.8888888888888888,
             "#fdca26"
            ],
            [
             1,
             "#f0f921"
            ]
           ]
          },
          "colorway": [
           "#636efa",
           "#EF553B",
           "#00cc96",
           "#ab63fa",
           "#FFA15A",
           "#19d3f3",
           "#FF6692",
           "#B6E880",
           "#FF97FF",
           "#FECB52"
          ],
          "font": {
           "color": "#2a3f5f"
          },
          "geo": {
           "bgcolor": "white",
           "lakecolor": "white",
           "landcolor": "#E5ECF6",
           "showlakes": true,
           "showland": true,
           "subunitcolor": "white"
          },
          "hoverlabel": {
           "align": "left"
          },
          "hovermode": "closest",
          "mapbox": {
           "style": "light"
          },
          "paper_bgcolor": "white",
          "plot_bgcolor": "#E5ECF6",
          "polar": {
           "angularaxis": {
            "gridcolor": "white",
            "linecolor": "white",
            "ticks": ""
           },
           "bgcolor": "#E5ECF6",
           "radialaxis": {
            "gridcolor": "white",
            "linecolor": "white",
            "ticks": ""
           }
          },
          "scene": {
           "xaxis": {
            "backgroundcolor": "#E5ECF6",
            "gridcolor": "white",
            "gridwidth": 2,
            "linecolor": "white",
            "showbackground": true,
            "ticks": "",
            "zerolinecolor": "white"
           },
           "yaxis": {
            "backgroundcolor": "#E5ECF6",
            "gridcolor": "white",
            "gridwidth": 2,
            "linecolor": "white",
            "showbackground": true,
            "ticks": "",
            "zerolinecolor": "white"
           },
           "zaxis": {
            "backgroundcolor": "#E5ECF6",
            "gridcolor": "white",
            "gridwidth": 2,
            "linecolor": "white",
            "showbackground": true,
            "ticks": "",
            "zerolinecolor": "white"
           }
          },
          "shapedefaults": {
           "line": {
            "color": "#2a3f5f"
           }
          },
          "ternary": {
           "aaxis": {
            "gridcolor": "white",
            "linecolor": "white",
            "ticks": ""
           },
           "baxis": {
            "gridcolor": "white",
            "linecolor": "white",
            "ticks": ""
           },
           "bgcolor": "#E5ECF6",
           "caxis": {
            "gridcolor": "white",
            "linecolor": "white",
            "ticks": ""
           }
          },
          "title": {
           "x": 0.05
          },
          "xaxis": {
           "automargin": true,
           "gridcolor": "white",
           "linecolor": "white",
           "ticks": "",
           "title": {
            "standoff": 15
           },
           "zerolinecolor": "white",
           "zerolinewidth": 2
          },
          "yaxis": {
           "automargin": true,
           "gridcolor": "white",
           "linecolor": "white",
           "ticks": "",
           "title": {
            "standoff": 15
           },
           "zerolinecolor": "white",
           "zerolinewidth": 2
          }
         }
        },
        "title": {
         "font": {
          "color": "#4D5663"
         }
        },
        "xaxis": {
         "anchor": "y",
         "domain": [
          0,
          0.2125
         ],
         "gridcolor": "#E1E5ED",
         "showgrid": false,
         "tickfont": {
          "color": "#4D5663"
         },
         "title": {
          "font": {
           "color": "#4D5663"
          },
          "text": ""
         },
         "zerolinecolor": "#E1E5ED"
        },
        "xaxis10": {
         "anchor": "y10",
         "domain": [
          0.2625,
          0.475
         ],
         "gridcolor": "#E1E5ED",
         "showgrid": false,
         "tickfont": {
          "color": "#4D5663"
         },
         "title": {
          "font": {
           "color": "#4D5663"
          },
          "text": ""
         },
         "zerolinecolor": "#E1E5ED"
        },
        "xaxis11": {
         "anchor": "y11",
         "domain": [
          0.525,
          0.7375
         ],
         "gridcolor": "#E1E5ED",
         "showgrid": false,
         "tickfont": {
          "color": "#4D5663"
         },
         "title": {
          "font": {
           "color": "#4D5663"
          },
          "text": ""
         },
         "zerolinecolor": "#E1E5ED"
        },
        "xaxis12": {
         "anchor": "y12",
         "domain": [
          0.7875,
          1
         ],
         "gridcolor": "#E1E5ED",
         "showgrid": false,
         "tickfont": {
          "color": "#4D5663"
         },
         "title": {
          "font": {
           "color": "#4D5663"
          },
          "text": ""
         },
         "zerolinecolor": "#E1E5ED"
        },
        "xaxis13": {
         "anchor": "y13",
         "domain": [
          0,
          0.2125
         ],
         "gridcolor": "#E1E5ED",
         "showgrid": false,
         "tickfont": {
          "color": "#4D5663"
         },
         "title": {
          "font": {
           "color": "#4D5663"
          },
          "text": ""
         },
         "zerolinecolor": "#E1E5ED"
        },
        "xaxis14": {
         "anchor": "y14",
         "domain": [
          0.2625,
          0.475
         ],
         "gridcolor": "#E1E5ED",
         "showgrid": false,
         "tickfont": {
          "color": "#4D5663"
         },
         "title": {
          "font": {
           "color": "#4D5663"
          },
          "text": ""
         },
         "zerolinecolor": "#E1E5ED"
        },
        "xaxis15": {
         "anchor": "y15",
         "domain": [
          0.525,
          0.7375
         ],
         "gridcolor": "#E1E5ED",
         "showgrid": false,
         "tickfont": {
          "color": "#4D5663"
         },
         "title": {
          "font": {
           "color": "#4D5663"
          },
          "text": ""
         },
         "zerolinecolor": "#E1E5ED"
        },
        "xaxis16": {
         "anchor": "y16",
         "domain": [
          0.7875,
          1
         ],
         "gridcolor": "#E1E5ED",
         "showgrid": false,
         "tickfont": {
          "color": "#4D5663"
         },
         "title": {
          "font": {
           "color": "#4D5663"
          },
          "text": ""
         },
         "zerolinecolor": "#E1E5ED"
        },
        "xaxis2": {
         "anchor": "y2",
         "domain": [
          0.2625,
          0.475
         ],
         "gridcolor": "#E1E5ED",
         "showgrid": false,
         "tickfont": {
          "color": "#4D5663"
         },
         "title": {
          "font": {
           "color": "#4D5663"
          },
          "text": ""
         },
         "zerolinecolor": "#E1E5ED"
        },
        "xaxis3": {
         "anchor": "y3",
         "domain": [
          0.525,
          0.7375
         ],
         "gridcolor": "#E1E5ED",
         "showgrid": false,
         "tickfont": {
          "color": "#4D5663"
         },
         "title": {
          "font": {
           "color": "#4D5663"
          },
          "text": ""
         },
         "zerolinecolor": "#E1E5ED"
        },
        "xaxis4": {
         "anchor": "y4",
         "domain": [
          0.7875,
          1
         ],
         "gridcolor": "#E1E5ED",
         "showgrid": false,
         "tickfont": {
          "color": "#4D5663"
         },
         "title": {
          "font": {
           "color": "#4D5663"
          },
          "text": ""
         },
         "zerolinecolor": "#E1E5ED"
        },
        "xaxis5": {
         "anchor": "y5",
         "domain": [
          0,
          0.2125
         ],
         "gridcolor": "#E1E5ED",
         "showgrid": false,
         "tickfont": {
          "color": "#4D5663"
         },
         "title": {
          "font": {
           "color": "#4D5663"
          },
          "text": ""
         },
         "zerolinecolor": "#E1E5ED"
        },
        "xaxis6": {
         "anchor": "y6",
         "domain": [
          0.2625,
          0.475
         ],
         "gridcolor": "#E1E5ED",
         "showgrid": false,
         "tickfont": {
          "color": "#4D5663"
         },
         "title": {
          "font": {
           "color": "#4D5663"
          },
          "text": ""
         },
         "zerolinecolor": "#E1E5ED"
        },
        "xaxis7": {
         "anchor": "y7",
         "domain": [
          0.525,
          0.7375
         ],
         "gridcolor": "#E1E5ED",
         "showgrid": false,
         "tickfont": {
          "color": "#4D5663"
         },
         "title": {
          "font": {
           "color": "#4D5663"
          },
          "text": ""
         },
         "zerolinecolor": "#E1E5ED"
        },
        "xaxis8": {
         "anchor": "y8",
         "domain": [
          0.7875,
          1
         ],
         "gridcolor": "#E1E5ED",
         "showgrid": false,
         "tickfont": {
          "color": "#4D5663"
         },
         "title": {
          "font": {
           "color": "#4D5663"
          },
          "text": ""
         },
         "zerolinecolor": "#E1E5ED"
        },
        "xaxis9": {
         "anchor": "y9",
         "domain": [
          0,
          0.2125
         ],
         "gridcolor": "#E1E5ED",
         "showgrid": false,
         "tickfont": {
          "color": "#4D5663"
         },
         "title": {
          "font": {
           "color": "#4D5663"
          },
          "text": ""
         },
         "zerolinecolor": "#E1E5ED"
        },
        "yaxis": {
         "anchor": "x",
         "domain": [
          0.8025,
          1
         ],
         "gridcolor": "#E1E5ED",
         "showgrid": false,
         "tickfont": {
          "color": "#4D5663"
         },
         "title": {
          "font": {
           "color": "#4D5663"
          },
          "text": ""
         },
         "zerolinecolor": "#E1E5ED"
        },
        "yaxis10": {
         "anchor": "x10",
         "domain": [
          0.2675,
          0.465
         ],
         "gridcolor": "#E1E5ED",
         "showgrid": false,
         "tickfont": {
          "color": "#4D5663"
         },
         "title": {
          "font": {
           "color": "#4D5663"
          },
          "text": ""
         },
         "zerolinecolor": "#E1E5ED"
        },
        "yaxis11": {
         "anchor": "x11",
         "domain": [
          0.2675,
          0.465
         ],
         "gridcolor": "#E1E5ED",
         "showgrid": false,
         "tickfont": {
          "color": "#4D5663"
         },
         "title": {
          "font": {
           "color": "#4D5663"
          },
          "text": ""
         },
         "zerolinecolor": "#E1E5ED"
        },
        "yaxis12": {
         "anchor": "x12",
         "domain": [
          0.2675,
          0.465
         ],
         "gridcolor": "#E1E5ED",
         "showgrid": false,
         "tickfont": {
          "color": "#4D5663"
         },
         "title": {
          "font": {
           "color": "#4D5663"
          },
          "text": ""
         },
         "zerolinecolor": "#E1E5ED"
        },
        "yaxis13": {
         "anchor": "x13",
         "domain": [
          0,
          0.1975
         ],
         "gridcolor": "#E1E5ED",
         "showgrid": false,
         "tickfont": {
          "color": "#4D5663"
         },
         "title": {
          "font": {
           "color": "#4D5663"
          },
          "text": ""
         },
         "zerolinecolor": "#E1E5ED"
        },
        "yaxis14": {
         "anchor": "x14",
         "domain": [
          0,
          0.1975
         ],
         "gridcolor": "#E1E5ED",
         "showgrid": false,
         "tickfont": {
          "color": "#4D5663"
         },
         "title": {
          "font": {
           "color": "#4D5663"
          },
          "text": ""
         },
         "zerolinecolor": "#E1E5ED"
        },
        "yaxis15": {
         "anchor": "x15",
         "domain": [
          0,
          0.1975
         ],
         "gridcolor": "#E1E5ED",
         "showgrid": false,
         "tickfont": {
          "color": "#4D5663"
         },
         "title": {
          "font": {
           "color": "#4D5663"
          },
          "text": ""
         },
         "zerolinecolor": "#E1E5ED"
        },
        "yaxis16": {
         "anchor": "x16",
         "domain": [
          0,
          0.1975
         ],
         "gridcolor": "#E1E5ED",
         "showgrid": false,
         "tickfont": {
          "color": "#4D5663"
         },
         "title": {
          "font": {
           "color": "#4D5663"
          },
          "text": ""
         },
         "zerolinecolor": "#E1E5ED"
        },
        "yaxis2": {
         "anchor": "x2",
         "domain": [
          0.8025,
          1
         ],
         "gridcolor": "#E1E5ED",
         "showgrid": false,
         "tickfont": {
          "color": "#4D5663"
         },
         "title": {
          "font": {
           "color": "#4D5663"
          },
          "text": ""
         },
         "zerolinecolor": "#E1E5ED"
        },
        "yaxis3": {
         "anchor": "x3",
         "domain": [
          0.8025,
          1
         ],
         "gridcolor": "#E1E5ED",
         "showgrid": false,
         "tickfont": {
          "color": "#4D5663"
         },
         "title": {
          "font": {
           "color": "#4D5663"
          },
          "text": ""
         },
         "zerolinecolor": "#E1E5ED"
        },
        "yaxis4": {
         "anchor": "x4",
         "domain": [
          0.8025,
          1
         ],
         "gridcolor": "#E1E5ED",
         "showgrid": false,
         "tickfont": {
          "color": "#4D5663"
         },
         "title": {
          "font": {
           "color": "#4D5663"
          },
          "text": ""
         },
         "zerolinecolor": "#E1E5ED"
        },
        "yaxis5": {
         "anchor": "x5",
         "domain": [
          0.535,
          0.7325
         ],
         "gridcolor": "#E1E5ED",
         "showgrid": false,
         "tickfont": {
          "color": "#4D5663"
         },
         "title": {
          "font": {
           "color": "#4D5663"
          },
          "text": ""
         },
         "zerolinecolor": "#E1E5ED"
        },
        "yaxis6": {
         "anchor": "x6",
         "domain": [
          0.535,
          0.7325
         ],
         "gridcolor": "#E1E5ED",
         "showgrid": false,
         "tickfont": {
          "color": "#4D5663"
         },
         "title": {
          "font": {
           "color": "#4D5663"
          },
          "text": ""
         },
         "zerolinecolor": "#E1E5ED"
        },
        "yaxis7": {
         "anchor": "x7",
         "domain": [
          0.535,
          0.7325
         ],
         "gridcolor": "#E1E5ED",
         "showgrid": false,
         "tickfont": {
          "color": "#4D5663"
         },
         "title": {
          "font": {
           "color": "#4D5663"
          },
          "text": ""
         },
         "zerolinecolor": "#E1E5ED"
        },
        "yaxis8": {
         "anchor": "x8",
         "domain": [
          0.535,
          0.7325
         ],
         "gridcolor": "#E1E5ED",
         "showgrid": false,
         "tickfont": {
          "color": "#4D5663"
         },
         "title": {
          "font": {
           "color": "#4D5663"
          },
          "text": ""
         },
         "zerolinecolor": "#E1E5ED"
        },
        "yaxis9": {
         "anchor": "x9",
         "domain": [
          0.2675,
          0.465
         ],
         "gridcolor": "#E1E5ED",
         "showgrid": false,
         "tickfont": {
          "color": "#4D5663"
         },
         "title": {
          "font": {
           "color": "#4D5663"
          },
          "text": ""
         },
         "zerolinecolor": "#E1E5ED"
        }
       }
      },
      "text/html": [
       "<div>                            <div id=\"5e63973c-73d2-477f-8ee8-07d1880f382e\" class=\"plotly-graph-div\" style=\"height:525px; width:100%;\"></div>            <script type=\"text/javascript\">                require([\"plotly\"], function(Plotly) {                    window.PLOTLYENV=window.PLOTLYENV || {};\n",
       "                    window.PLOTLYENV.BASE_URL='https://plot.ly';                                    if (document.getElementById(\"5e63973c-73d2-477f-8ee8-07d1880f382e\")) {                    Plotly.newPlot(                        \"5e63973c-73d2-477f-8ee8-07d1880f382e\",                        [{\"histfunc\": \"count\", \"histnorm\": \"\", \"marker\": {\"color\": \"rgba(255, 153, 51, 1.0)\", \"line\": {\"color\": \"#4D5663\", \"width\": 1.3}}, \"name\": \"A\", \"nbinsx\": 10, \"opacity\": 0.8, \"orientation\": \"v\", \"type\": \"histogram\", \"x\": [0.062403000348056896, 0.682158388145421, 0.3268464575434144, 0.28422394171376936, -0.8930677967906131, 0.041223291518847946, 1.4782858523800568, -0.01722465247120283, 0.20354506830826805, -0.4545305600633967, -0.38981019744658657, -1.3603820914539406, -0.1930434719473086, -0.4242067670561226, 0.5805237728658952, 0.0182563537413149, 0.5893475068103087, 0.03891119531541383, -1.1659803041570214, -1.4954814632608548, 0.6410459252420906, -1.8173897668947723, 1.1476736695558079, -0.008637510156530056, 0.7333610287703045, -0.00341856027323607, -0.1705957221128231, -0.2755653598251552, -0.7028999920512963, -0.7686762441966566, -1.4320039221064242, -0.3777920709864464, -0.7893304727600577, -1.462585693582685, 0.25606012549675394, -0.7328012321850637, 0.9282689238426763, 1.1757725189552224, 0.5497232961895439, 1.3504414595074608, 0.36879921331976007, 0.6474329912861589, 0.3425748143184703, -0.5524096866845196, 0.22771702810119573, -0.01856107928186663, -0.505035272141574, 1.83767051387475, 0.7758446792672782, 0.49530351834577024, -0.8959516679869598, 0.19244410049328461, -0.028152661422717846, 0.2446391640032037, -0.8544538723417219, -1.1987174971252845, -1.0351821498442066, 1.630876494005205, -1.1732747762090505, -0.6522848289203391, -1.166608830105591, -0.6660716373175085, 0.49650677118547343, 0.280945589781803, 2.590006720593593, 0.4641214459824001, 0.4167417130776699, 0.814643013951977, -2.135518795380281, 0.6136241313529066, -0.9426705484649059, 1.050069499491585, 1.478207789341703, -0.6391499024396073, 1.1037544258288825, 1.598744213446337, -0.9214180706170372, -1.2027125149729223, -0.8141297322283779, 0.4167869704791297, -0.5529385483286148, 0.3472229204713509, 0.718239409702939, -0.28359798177231077, -0.39401886897279204, -0.8053865090960546, 0.31592140452817635, 1.2882667023943803, 0.6850003377061532, -1.653096366834222, 0.10423440668142835, -1.1225488317606467, -0.7634534972151744, 0.845927206975368, 2.4774967936593364, -1.1920806362525922, -0.932594950136978, 2.440937192420902, -1.0872222548948827, 0.8000874593014355], \"xaxis\": \"x\", \"yaxis\": \"y\"}, {\"line\": {\"color\": \"rgba(128, 128, 128, 1.0)\", \"dash\": \"solid\", \"shape\": \"linear\", \"width\": 1.3}, \"marker\": {\"size\": 2, \"symbol\": \"circle\"}, \"mode\": \"markers\", \"name\": \"A\", \"text\": \"\", \"type\": \"scatter\", \"x\": [-1.2990683753780665, 1.624681381422417, 1.1050144336626813, -0.18855637354967572, 0.48478649153248393, -0.1518918367515998, -0.7101304630074858, -0.8314894580215793, 0.14864838275340203, -0.9883549688724185, 0.2619736329233981, 0.433341791706317, 0.4144785136898204, 0.5033067567904287, 1.4965554538363868, 1.956617306686328, -0.578245281812172, -1.4174671610760066, 0.2509113970016073, -0.6854460438222966, 0.23852252212573566, -0.4374775713005923, 0.7413855687297202, 0.10556881914297436, 0.1585873008040566, 2.233260861019369, -0.09929731120607435, 0.7241044725523446, 0.535088540547648, 0.5580949721210654, -0.11338290316044461, -0.7731897813122994, -0.45846386467525907, -0.2617599441544949, -0.6477024075551885, -1.4554017026133887, 0.24741918994602477, -0.22522232259468344, 0.5469031092445472, -0.2815805553595161, -0.14730474978832764, 2.152082602828211, -0.5849732814667612, -1.1672480227212263, -1.936000387514932, -0.6068892020585201, -0.004093622653018009, 1.768152919880954, -0.47379149100178425, 0.4096662408886199, -0.8298725088760005, 0.23714593080153104, 1.7182916716167476, -0.5536416369860518, -0.5008585162696602, 0.12531474389952071, -0.3102922723523502, 0.3212082519347096, 0.1273991345162948, 1.4676643819725206, -0.00954134812271558, -2.515191437159899, 0.2858322905211471, 1.6148968929893681, -0.41540727418007933, 0.7432364152956532, 0.08943293717910389, 0.45863524503738756, -1.5130666419626568, 0.25537119307039896, 0.646208704821914, 0.14045644314235028, -1.654436346805644, -1.2485137655752985, -1.220472804150455, 0.5874098939074718, -0.8832102261481436, -0.7988314318980299, -0.573780450292032, -1.0383213758032692, -0.6318717788688629, 0.00039752972621937476, 1.1981581595577502, -2.5099274433561014, -0.2712993286356339, 0.18780065535996154, -0.5580110046021268, -1.373552616923043, -0.08136658740476707, -0.500895465414146, -0.28648841769671246, 0.760700335336526, 1.2828632663819213, 0.6375084363947762, 0.09553303045392961, 0.9602945758003074, 1.264248937029117, -0.12940953282095385, -1.8627436208339199, -0.35263576599728114], \"xaxis\": \"x2\", \"y\": [0.062403000348056896, 0.682158388145421, 0.3268464575434144, 0.28422394171376936, -0.8930677967906131, 0.041223291518847946, 1.4782858523800568, -0.01722465247120283, 0.20354506830826805, -0.4545305600633967, -0.38981019744658657, -1.3603820914539406, -0.1930434719473086, -0.4242067670561226, 0.5805237728658952, 0.0182563537413149, 0.5893475068103087, 0.03891119531541383, -1.1659803041570214, -1.4954814632608548, 0.6410459252420906, -1.8173897668947723, 1.1476736695558079, -0.008637510156530056, 0.7333610287703045, -0.00341856027323607, -0.1705957221128231, -0.2755653598251552, -0.7028999920512963, -0.7686762441966566, -1.4320039221064242, -0.3777920709864464, -0.7893304727600577, -1.462585693582685, 0.25606012549675394, -0.7328012321850637, 0.9282689238426763, 1.1757725189552224, 0.5497232961895439, 1.3504414595074608, 0.36879921331976007, 0.6474329912861589, 0.3425748143184703, -0.5524096866845196, 0.22771702810119573, -0.01856107928186663, -0.505035272141574, 1.83767051387475, 0.7758446792672782, 0.49530351834577024, -0.8959516679869598, 0.19244410049328461, -0.028152661422717846, 0.2446391640032037, -0.8544538723417219, -1.1987174971252845, -1.0351821498442066, 1.630876494005205, -1.1732747762090505, -0.6522848289203391, -1.166608830105591, -0.6660716373175085, 0.49650677118547343, 0.280945589781803, 2.590006720593593, 0.4641214459824001, 0.4167417130776699, 0.814643013951977, -2.135518795380281, 0.6136241313529066, -0.9426705484649059, 1.050069499491585, 1.478207789341703, -0.6391499024396073, 1.1037544258288825, 1.598744213446337, -0.9214180706170372, -1.2027125149729223, -0.8141297322283779, 0.4167869704791297, -0.5529385483286148, 0.3472229204713509, 0.718239409702939, -0.28359798177231077, -0.39401886897279204, -0.8053865090960546, 0.31592140452817635, 1.2882667023943803, 0.6850003377061532, -1.653096366834222, 0.10423440668142835, -1.1225488317606467, -0.7634534972151744, 0.845927206975368, 2.4774967936593364, -1.1920806362525922, -0.932594950136978, 2.440937192420902, -1.0872222548948827, 0.8000874593014355], \"yaxis\": \"y2\"}, {\"line\": {\"color\": \"rgba(128, 128, 128, 1.0)\", \"dash\": \"solid\", \"shape\": \"linear\", \"width\": 1.3}, \"marker\": {\"size\": 2, \"symbol\": \"circle\"}, \"mode\": \"markers\", \"name\": \"A\", \"text\": \"\", \"type\": \"scatter\", \"x\": [1.3277480686631737, 1.050547909409751, 1.3294870859233556, -0.13870404447613557, 1.2218281015381525, -1.047591080889363, -1.4822808878063358, -1.4335267599367494, 0.07274677269292128, -1.385208972739911, 0.7024703200820424, -0.8880380280033623, -0.8547896508547369, 0.31185313506640283, 0.2563271601287642, -0.5261950965768823, 0.5519014489002535, 0.4082691591381113, -1.2862316779891965, 0.44859116465226406, 0.13625194558813486, 0.280679521344601, -0.02835299066476146, -0.3830272009784602, -0.34353149414286166, 0.28184497975529327, -1.2205571340697343, -0.02909238752000967, 1.1921642115369608, 0.474260432591272, 0.9373627235375664, 1.4776392003195147, -0.029564933039379248, 0.99911966144133, 0.3240195697926262, 0.03401387458525973, 1.410444141420003, 0.5525302781296415, -0.3183084017843572, 0.7186946417574489, -1.1077957092476767, 1.7001527283039954, 1.8133694221681342, -0.4225946616805115, -0.788023560769322, 1.4058002890335541, 0.961507413941608, 0.017780631402030126, -1.6268560230227949, -0.21389807757329404, -0.25804553141361064, 1.5027656010382409, -0.2301925491561469, -0.13133770671759212, 0.6951888892908054, -1.0317610337860261, 1.0727625169742452, -0.43083511527863716, -2.433419554005068, 1.5545467140051108, 0.8031599912754359, 0.45310615813824545, 0.9055518604541104, 0.7846664209606582, 0.6197006472787928, -0.47860177595972264, 0.1279222369971248, 0.5465449898282538, -1.6933600358972833, 0.48491522534972553, 0.2694070585448925, -0.11388920518825722, 0.11272494742647107, -1.3920380931256184, -1.962700548100472, -1.7378697254858495, -0.7818474649403422, -2.1915026596198284, -0.010632375622421088, -2.0414814863870068, -0.4659494819877405, 0.3451970702407081, 0.6268328052907892, -0.71567101483495, -0.26445647028416147, 0.16178304128280735, -0.5510181008810864, -0.5021706791030416, -1.5329231160369086, 1.3879360191670922, -0.20967690238226744, -1.3670839329746214, 1.076632444152013, 0.2953756540651349, 0.19709824729739248, 0.18429971334894393, -0.9373963033909891, 0.2646799340244548, 1.2810675908976386, 2.589926490087622], \"xaxis\": \"x3\", \"y\": [0.062403000348056896, 0.682158388145421, 0.3268464575434144, 0.28422394171376936, -0.8930677967906131, 0.041223291518847946, 1.4782858523800568, -0.01722465247120283, 0.20354506830826805, -0.4545305600633967, -0.38981019744658657, -1.3603820914539406, -0.1930434719473086, -0.4242067670561226, 0.5805237728658952, 0.0182563537413149, 0.5893475068103087, 0.03891119531541383, -1.1659803041570214, -1.4954814632608548, 0.6410459252420906, -1.8173897668947723, 1.1476736695558079, -0.008637510156530056, 0.7333610287703045, -0.00341856027323607, -0.1705957221128231, -0.2755653598251552, -0.7028999920512963, -0.7686762441966566, -1.4320039221064242, -0.3777920709864464, -0.7893304727600577, -1.462585693582685, 0.25606012549675394, -0.7328012321850637, 0.9282689238426763, 1.1757725189552224, 0.5497232961895439, 1.3504414595074608, 0.36879921331976007, 0.6474329912861589, 0.3425748143184703, -0.5524096866845196, 0.22771702810119573, -0.01856107928186663, -0.505035272141574, 1.83767051387475, 0.7758446792672782, 0.49530351834577024, -0.8959516679869598, 0.19244410049328461, -0.028152661422717846, 0.2446391640032037, -0.8544538723417219, -1.1987174971252845, -1.0351821498442066, 1.630876494005205, -1.1732747762090505, -0.6522848289203391, -1.166608830105591, -0.6660716373175085, 0.49650677118547343, 0.280945589781803, 2.590006720593593, 0.4641214459824001, 0.4167417130776699, 0.814643013951977, -2.135518795380281, 0.6136241313529066, -0.9426705484649059, 1.050069499491585, 1.478207789341703, -0.6391499024396073, 1.1037544258288825, 1.598744213446337, -0.9214180706170372, -1.2027125149729223, -0.8141297322283779, 0.4167869704791297, -0.5529385483286148, 0.3472229204713509, 0.718239409702939, -0.28359798177231077, -0.39401886897279204, -0.8053865090960546, 0.31592140452817635, 1.2882667023943803, 0.6850003377061532, -1.653096366834222, 0.10423440668142835, -1.1225488317606467, -0.7634534972151744, 0.845927206975368, 2.4774967936593364, -1.1920806362525922, -0.932594950136978, 2.440937192420902, -1.0872222548948827, 0.8000874593014355], \"yaxis\": \"y3\"}, {\"line\": {\"color\": \"rgba(128, 128, 128, 1.0)\", \"dash\": \"solid\", \"shape\": \"linear\", \"width\": 1.3}, \"marker\": {\"size\": 2, \"symbol\": \"circle\"}, \"mode\": \"markers\", \"name\": \"A\", \"text\": \"\", \"type\": \"scatter\", \"x\": [0.9510949294848526, 0.4695638138892198, -0.12821164479171554, -1.5257079148558776, -0.16233709183306624, -0.9638417942564012, -0.4915267140279102, -2.4184117895314765, 0.3607053686268968, -0.5285612826105017, -0.4285178504036213, 0.07966457306215396, 2.3652059729730497, -0.9870421025768513, 0.36702706338599883, 1.1347510327949974, 0.5894990482523681, 2.440768159619953, 0.9838466325555156, 0.797510734845901, -0.624485961244373, 1.0991759521001998, 0.9298248741871734, 0.7133611160971455, 0.3990976342014481, -0.08382319239217625, 0.18677316791991988, -0.24586105029012073, -0.9917793106937559, 0.04845575460362079, 0.15371514705055928, -0.4718618834830073, -0.6211000961774438, 1.1697655277102825, -0.2761052450610573, 0.390290321076468, -0.27580277573952555, -0.011793728102506337, 1.4203938063505552, -0.3540328421352846, -0.05385716129189193, 1.5687612989007362, 1.4947811801907642, -0.0907906324830042, 0.2008464745533209, 0.6540547952065257, -0.6453521773434029, 0.9440170316749986, 1.5897438489064992, -0.8486254691354769, 0.9046070542679885, 1.0495623648697618, -1.224035202547343, -1.0427057175256877, 0.5945839682902634, 0.5337946540431762, 0.2632612245115452, 0.39868488873597385, -0.3654589589077428, -1.1342179546915354, 0.11851262533573535, -0.8340798137577661, 0.5926784388236838, -0.6207922204277392, 0.9651518359562631, 0.09403334833156134, -0.3250940889776582, -2.256036962124954, 0.4846688572318411, 0.06839142679808732, -2.133092503970914, 1.4539681659416737, -0.5664865152294981, -0.7341855979315933, -0.3566560181728952, 0.09952804551515838, 1.081557923070655, 0.2263069870116225, -0.33929955781856347, 1.5439649056212006, -1.4320414456639798, -1.3204482658502175, 2.1615947495792853, 0.33079081187341614, -1.0156246875190234, -0.362395604857689, 0.7536331826381956, -1.7368657732073303, 0.010594486537426498, -0.2556207731554825, -0.398307797997451, 1.7935563632068905, 0.33221143072086234, -0.019581137547514754, 1.8924713508771496, -1.4489598139678137, 0.023367516123193738, -0.4067124512310082, -1.0153575018769438, -0.8289638770916804], \"xaxis\": \"x4\", \"y\": [0.062403000348056896, 0.682158388145421, 0.3268464575434144, 0.28422394171376936, -0.8930677967906131, 0.041223291518847946, 1.4782858523800568, -0.01722465247120283, 0.20354506830826805, -0.4545305600633967, -0.38981019744658657, -1.3603820914539406, -0.1930434719473086, -0.4242067670561226, 0.5805237728658952, 0.0182563537413149, 0.5893475068103087, 0.03891119531541383, -1.1659803041570214, -1.4954814632608548, 0.6410459252420906, -1.8173897668947723, 1.1476736695558079, -0.008637510156530056, 0.7333610287703045, -0.00341856027323607, -0.1705957221128231, -0.2755653598251552, -0.7028999920512963, -0.7686762441966566, -1.4320039221064242, -0.3777920709864464, -0.7893304727600577, -1.462585693582685, 0.25606012549675394, -0.7328012321850637, 0.9282689238426763, 1.1757725189552224, 0.5497232961895439, 1.3504414595074608, 0.36879921331976007, 0.6474329912861589, 0.3425748143184703, -0.5524096866845196, 0.22771702810119573, -0.01856107928186663, -0.505035272141574, 1.83767051387475, 0.7758446792672782, 0.49530351834577024, -0.8959516679869598, 0.19244410049328461, -0.028152661422717846, 0.2446391640032037, -0.8544538723417219, -1.1987174971252845, -1.0351821498442066, 1.630876494005205, -1.1732747762090505, -0.6522848289203391, -1.166608830105591, -0.6660716373175085, 0.49650677118547343, 0.280945589781803, 2.590006720593593, 0.4641214459824001, 0.4167417130776699, 0.814643013951977, -2.135518795380281, 0.6136241313529066, -0.9426705484649059, 1.050069499491585, 1.478207789341703, -0.6391499024396073, 1.1037544258288825, 1.598744213446337, -0.9214180706170372, -1.2027125149729223, -0.8141297322283779, 0.4167869704791297, -0.5529385483286148, 0.3472229204713509, 0.718239409702939, -0.28359798177231077, -0.39401886897279204, -0.8053865090960546, 0.31592140452817635, 1.2882667023943803, 0.6850003377061532, -1.653096366834222, 0.10423440668142835, -1.1225488317606467, -0.7634534972151744, 0.845927206975368, 2.4774967936593364, -1.1920806362525922, -0.932594950136978, 2.440937192420902, -1.0872222548948827, 0.8000874593014355], \"yaxis\": \"y4\"}, {\"line\": {\"color\": \"rgba(128, 128, 128, 1.0)\", \"dash\": \"solid\", \"shape\": \"linear\", \"width\": 1.3}, \"marker\": {\"size\": 2, \"symbol\": \"circle\"}, \"mode\": \"markers\", \"name\": \"B\", \"text\": \"\", \"type\": \"scatter\", \"x\": [0.062403000348056896, 0.682158388145421, 0.3268464575434144, 0.28422394171376936, -0.8930677967906131, 0.041223291518847946, 1.4782858523800568, -0.01722465247120283, 0.20354506830826805, -0.4545305600633967, -0.38981019744658657, -1.3603820914539406, -0.1930434719473086, -0.4242067670561226, 0.5805237728658952, 0.0182563537413149, 0.5893475068103087, 0.03891119531541383, -1.1659803041570214, -1.4954814632608548, 0.6410459252420906, -1.8173897668947723, 1.1476736695558079, -0.008637510156530056, 0.7333610287703045, -0.00341856027323607, -0.1705957221128231, -0.2755653598251552, -0.7028999920512963, -0.7686762441966566, -1.4320039221064242, -0.3777920709864464, -0.7893304727600577, -1.462585693582685, 0.25606012549675394, -0.7328012321850637, 0.9282689238426763, 1.1757725189552224, 0.5497232961895439, 1.3504414595074608, 0.36879921331976007, 0.6474329912861589, 0.3425748143184703, -0.5524096866845196, 0.22771702810119573, -0.01856107928186663, -0.505035272141574, 1.83767051387475, 0.7758446792672782, 0.49530351834577024, -0.8959516679869598, 0.19244410049328461, -0.028152661422717846, 0.2446391640032037, -0.8544538723417219, -1.1987174971252845, -1.0351821498442066, 1.630876494005205, -1.1732747762090505, -0.6522848289203391, -1.166608830105591, -0.6660716373175085, 0.49650677118547343, 0.280945589781803, 2.590006720593593, 0.4641214459824001, 0.4167417130776699, 0.814643013951977, -2.135518795380281, 0.6136241313529066, -0.9426705484649059, 1.050069499491585, 1.478207789341703, -0.6391499024396073, 1.1037544258288825, 1.598744213446337, -0.9214180706170372, -1.2027125149729223, -0.8141297322283779, 0.4167869704791297, -0.5529385483286148, 0.3472229204713509, 0.718239409702939, -0.28359798177231077, -0.39401886897279204, -0.8053865090960546, 0.31592140452817635, 1.2882667023943803, 0.6850003377061532, -1.653096366834222, 0.10423440668142835, -1.1225488317606467, -0.7634534972151744, 0.845927206975368, 2.4774967936593364, -1.1920806362525922, -0.932594950136978, 2.440937192420902, -1.0872222548948827, 0.8000874593014355], \"xaxis\": \"x5\", \"y\": [-1.2990683753780665, 1.624681381422417, 1.1050144336626813, -0.18855637354967572, 0.48478649153248393, -0.1518918367515998, -0.7101304630074858, -0.8314894580215793, 0.14864838275340203, -0.9883549688724185, 0.2619736329233981, 0.433341791706317, 0.4144785136898204, 0.5033067567904287, 1.4965554538363868, 1.956617306686328, -0.578245281812172, -1.4174671610760066, 0.2509113970016073, -0.6854460438222966, 0.23852252212573566, -0.4374775713005923, 0.7413855687297202, 0.10556881914297436, 0.1585873008040566, 2.233260861019369, -0.09929731120607435, 0.7241044725523446, 0.535088540547648, 0.5580949721210654, -0.11338290316044461, -0.7731897813122994, -0.45846386467525907, -0.2617599441544949, -0.6477024075551885, -1.4554017026133887, 0.24741918994602477, -0.22522232259468344, 0.5469031092445472, -0.2815805553595161, -0.14730474978832764, 2.152082602828211, -0.5849732814667612, -1.1672480227212263, -1.936000387514932, -0.6068892020585201, -0.004093622653018009, 1.768152919880954, -0.47379149100178425, 0.4096662408886199, -0.8298725088760005, 0.23714593080153104, 1.7182916716167476, -0.5536416369860518, -0.5008585162696602, 0.12531474389952071, -0.3102922723523502, 0.3212082519347096, 0.1273991345162948, 1.4676643819725206, -0.00954134812271558, -2.515191437159899, 0.2858322905211471, 1.6148968929893681, -0.41540727418007933, 0.7432364152956532, 0.08943293717910389, 0.45863524503738756, -1.5130666419626568, 0.25537119307039896, 0.646208704821914, 0.14045644314235028, -1.654436346805644, -1.2485137655752985, -1.220472804150455, 0.5874098939074718, -0.8832102261481436, -0.7988314318980299, -0.573780450292032, -1.0383213758032692, -0.6318717788688629, 0.00039752972621937476, 1.1981581595577502, -2.5099274433561014, -0.2712993286356339, 0.18780065535996154, -0.5580110046021268, -1.373552616923043, -0.08136658740476707, -0.500895465414146, -0.28648841769671246, 0.760700335336526, 1.2828632663819213, 0.6375084363947762, 0.09553303045392961, 0.9602945758003074, 1.264248937029117, -0.12940953282095385, -1.8627436208339199, -0.35263576599728114], \"yaxis\": \"y5\"}, {\"histfunc\": \"count\", \"histnorm\": \"\", \"marker\": {\"color\": \"rgba(55, 128, 191, 1.0)\", \"line\": {\"color\": \"#4D5663\", \"width\": 1.3}}, \"name\": \"B\", \"nbinsx\": 10, \"opacity\": 0.8, \"orientation\": \"v\", \"type\": \"histogram\", \"x\": [-1.2990683753780665, 1.624681381422417, 1.1050144336626813, -0.18855637354967572, 0.48478649153248393, -0.1518918367515998, -0.7101304630074858, -0.8314894580215793, 0.14864838275340203, -0.9883549688724185, 0.2619736329233981, 0.433341791706317, 0.4144785136898204, 0.5033067567904287, 1.4965554538363868, 1.956617306686328, -0.578245281812172, -1.4174671610760066, 0.2509113970016073, -0.6854460438222966, 0.23852252212573566, -0.4374775713005923, 0.7413855687297202, 0.10556881914297436, 0.1585873008040566, 2.233260861019369, -0.09929731120607435, 0.7241044725523446, 0.535088540547648, 0.5580949721210654, -0.11338290316044461, -0.7731897813122994, -0.45846386467525907, -0.2617599441544949, -0.6477024075551885, -1.4554017026133887, 0.24741918994602477, -0.22522232259468344, 0.5469031092445472, -0.2815805553595161, -0.14730474978832764, 2.152082602828211, -0.5849732814667612, -1.1672480227212263, -1.936000387514932, -0.6068892020585201, -0.004093622653018009, 1.768152919880954, -0.47379149100178425, 0.4096662408886199, -0.8298725088760005, 0.23714593080153104, 1.7182916716167476, -0.5536416369860518, -0.5008585162696602, 0.12531474389952071, -0.3102922723523502, 0.3212082519347096, 0.1273991345162948, 1.4676643819725206, -0.00954134812271558, -2.515191437159899, 0.2858322905211471, 1.6148968929893681, -0.41540727418007933, 0.7432364152956532, 0.08943293717910389, 0.45863524503738756, -1.5130666419626568, 0.25537119307039896, 0.646208704821914, 0.14045644314235028, -1.654436346805644, -1.2485137655752985, -1.220472804150455, 0.5874098939074718, -0.8832102261481436, -0.7988314318980299, -0.573780450292032, -1.0383213758032692, -0.6318717788688629, 0.00039752972621937476, 1.1981581595577502, -2.5099274433561014, -0.2712993286356339, 0.18780065535996154, -0.5580110046021268, -1.373552616923043, -0.08136658740476707, -0.500895465414146, -0.28648841769671246, 0.760700335336526, 1.2828632663819213, 0.6375084363947762, 0.09553303045392961, 0.9602945758003074, 1.264248937029117, -0.12940953282095385, -1.8627436208339199, -0.35263576599728114], \"xaxis\": \"x6\", \"yaxis\": \"y6\"}, {\"line\": {\"color\": \"rgba(128, 128, 128, 1.0)\", \"dash\": \"solid\", \"shape\": \"linear\", \"width\": 1.3}, \"marker\": {\"size\": 2, \"symbol\": \"circle\"}, \"mode\": \"markers\", \"name\": \"B\", \"text\": \"\", \"type\": \"scatter\", \"x\": [1.3277480686631737, 1.050547909409751, 1.3294870859233556, -0.13870404447613557, 1.2218281015381525, -1.047591080889363, -1.4822808878063358, -1.4335267599367494, 0.07274677269292128, -1.385208972739911, 0.7024703200820424, -0.8880380280033623, -0.8547896508547369, 0.31185313506640283, 0.2563271601287642, -0.5261950965768823, 0.5519014489002535, 0.4082691591381113, -1.2862316779891965, 0.44859116465226406, 0.13625194558813486, 0.280679521344601, -0.02835299066476146, -0.3830272009784602, -0.34353149414286166, 0.28184497975529327, -1.2205571340697343, -0.02909238752000967, 1.1921642115369608, 0.474260432591272, 0.9373627235375664, 1.4776392003195147, -0.029564933039379248, 0.99911966144133, 0.3240195697926262, 0.03401387458525973, 1.410444141420003, 0.5525302781296415, -0.3183084017843572, 0.7186946417574489, -1.1077957092476767, 1.7001527283039954, 1.8133694221681342, -0.4225946616805115, -0.788023560769322, 1.4058002890335541, 0.961507413941608, 0.017780631402030126, -1.6268560230227949, -0.21389807757329404, -0.25804553141361064, 1.5027656010382409, -0.2301925491561469, -0.13133770671759212, 0.6951888892908054, -1.0317610337860261, 1.0727625169742452, -0.43083511527863716, -2.433419554005068, 1.5545467140051108, 0.8031599912754359, 0.45310615813824545, 0.9055518604541104, 0.7846664209606582, 0.6197006472787928, -0.47860177595972264, 0.1279222369971248, 0.5465449898282538, -1.6933600358972833, 0.48491522534972553, 0.2694070585448925, -0.11388920518825722, 0.11272494742647107, -1.3920380931256184, -1.962700548100472, -1.7378697254858495, -0.7818474649403422, -2.1915026596198284, -0.010632375622421088, -2.0414814863870068, -0.4659494819877405, 0.3451970702407081, 0.6268328052907892, -0.71567101483495, -0.26445647028416147, 0.16178304128280735, -0.5510181008810864, -0.5021706791030416, -1.5329231160369086, 1.3879360191670922, -0.20967690238226744, -1.3670839329746214, 1.076632444152013, 0.2953756540651349, 0.19709824729739248, 0.18429971334894393, -0.9373963033909891, 0.2646799340244548, 1.2810675908976386, 2.589926490087622], \"xaxis\": \"x7\", \"y\": [-1.2990683753780665, 1.624681381422417, 1.1050144336626813, -0.18855637354967572, 0.48478649153248393, -0.1518918367515998, -0.7101304630074858, -0.8314894580215793, 0.14864838275340203, -0.9883549688724185, 0.2619736329233981, 0.433341791706317, 0.4144785136898204, 0.5033067567904287, 1.4965554538363868, 1.956617306686328, -0.578245281812172, -1.4174671610760066, 0.2509113970016073, -0.6854460438222966, 0.23852252212573566, -0.4374775713005923, 0.7413855687297202, 0.10556881914297436, 0.1585873008040566, 2.233260861019369, -0.09929731120607435, 0.7241044725523446, 0.535088540547648, 0.5580949721210654, -0.11338290316044461, -0.7731897813122994, -0.45846386467525907, -0.2617599441544949, -0.6477024075551885, -1.4554017026133887, 0.24741918994602477, -0.22522232259468344, 0.5469031092445472, -0.2815805553595161, -0.14730474978832764, 2.152082602828211, -0.5849732814667612, -1.1672480227212263, -1.936000387514932, -0.6068892020585201, -0.004093622653018009, 1.768152919880954, -0.47379149100178425, 0.4096662408886199, -0.8298725088760005, 0.23714593080153104, 1.7182916716167476, -0.5536416369860518, -0.5008585162696602, 0.12531474389952071, -0.3102922723523502, 0.3212082519347096, 0.1273991345162948, 1.4676643819725206, -0.00954134812271558, -2.515191437159899, 0.2858322905211471, 1.6148968929893681, -0.41540727418007933, 0.7432364152956532, 0.08943293717910389, 0.45863524503738756, -1.5130666419626568, 0.25537119307039896, 0.646208704821914, 0.14045644314235028, -1.654436346805644, -1.2485137655752985, -1.220472804150455, 0.5874098939074718, -0.8832102261481436, -0.7988314318980299, -0.573780450292032, -1.0383213758032692, -0.6318717788688629, 0.00039752972621937476, 1.1981581595577502, -2.5099274433561014, -0.2712993286356339, 0.18780065535996154, -0.5580110046021268, -1.373552616923043, -0.08136658740476707, -0.500895465414146, -0.28648841769671246, 0.760700335336526, 1.2828632663819213, 0.6375084363947762, 0.09553303045392961, 0.9602945758003074, 1.264248937029117, -0.12940953282095385, -1.8627436208339199, -0.35263576599728114], \"yaxis\": \"y7\"}, {\"line\": {\"color\": \"rgba(128, 128, 128, 1.0)\", \"dash\": \"solid\", \"shape\": \"linear\", \"width\": 1.3}, \"marker\": {\"size\": 2, \"symbol\": \"circle\"}, \"mode\": \"markers\", \"name\": \"B\", \"text\": \"\", \"type\": \"scatter\", \"x\": [0.9510949294848526, 0.4695638138892198, -0.12821164479171554, -1.5257079148558776, -0.16233709183306624, -0.9638417942564012, -0.4915267140279102, -2.4184117895314765, 0.3607053686268968, -0.5285612826105017, -0.4285178504036213, 0.07966457306215396, 2.3652059729730497, -0.9870421025768513, 0.36702706338599883, 1.1347510327949974, 0.5894990482523681, 2.440768159619953, 0.9838466325555156, 0.797510734845901, -0.624485961244373, 1.0991759521001998, 0.9298248741871734, 0.7133611160971455, 0.3990976342014481, -0.08382319239217625, 0.18677316791991988, -0.24586105029012073, -0.9917793106937559, 0.04845575460362079, 0.15371514705055928, -0.4718618834830073, -0.6211000961774438, 1.1697655277102825, -0.2761052450610573, 0.390290321076468, -0.27580277573952555, -0.011793728102506337, 1.4203938063505552, -0.3540328421352846, -0.05385716129189193, 1.5687612989007362, 1.4947811801907642, -0.0907906324830042, 0.2008464745533209, 0.6540547952065257, -0.6453521773434029, 0.9440170316749986, 1.5897438489064992, -0.8486254691354769, 0.9046070542679885, 1.0495623648697618, -1.224035202547343, -1.0427057175256877, 0.5945839682902634, 0.5337946540431762, 0.2632612245115452, 0.39868488873597385, -0.3654589589077428, -1.1342179546915354, 0.11851262533573535, -0.8340798137577661, 0.5926784388236838, -0.6207922204277392, 0.9651518359562631, 0.09403334833156134, -0.3250940889776582, -2.256036962124954, 0.4846688572318411, 0.06839142679808732, -2.133092503970914, 1.4539681659416737, -0.5664865152294981, -0.7341855979315933, -0.3566560181728952, 0.09952804551515838, 1.081557923070655, 0.2263069870116225, -0.33929955781856347, 1.5439649056212006, -1.4320414456639798, -1.3204482658502175, 2.1615947495792853, 0.33079081187341614, -1.0156246875190234, -0.362395604857689, 0.7536331826381956, -1.7368657732073303, 0.010594486537426498, -0.2556207731554825, -0.398307797997451, 1.7935563632068905, 0.33221143072086234, -0.019581137547514754, 1.8924713508771496, -1.4489598139678137, 0.023367516123193738, -0.4067124512310082, -1.0153575018769438, -0.8289638770916804], \"xaxis\": \"x8\", \"y\": [-1.2990683753780665, 1.624681381422417, 1.1050144336626813, -0.18855637354967572, 0.48478649153248393, -0.1518918367515998, -0.7101304630074858, -0.8314894580215793, 0.14864838275340203, -0.9883549688724185, 0.2619736329233981, 0.433341791706317, 0.4144785136898204, 0.5033067567904287, 1.4965554538363868, 1.956617306686328, -0.578245281812172, -1.4174671610760066, 0.2509113970016073, -0.6854460438222966, 0.23852252212573566, -0.4374775713005923, 0.7413855687297202, 0.10556881914297436, 0.1585873008040566, 2.233260861019369, -0.09929731120607435, 0.7241044725523446, 0.535088540547648, 0.5580949721210654, -0.11338290316044461, -0.7731897813122994, -0.45846386467525907, -0.2617599441544949, -0.6477024075551885, -1.4554017026133887, 0.24741918994602477, -0.22522232259468344, 0.5469031092445472, -0.2815805553595161, -0.14730474978832764, 2.152082602828211, -0.5849732814667612, -1.1672480227212263, -1.936000387514932, -0.6068892020585201, -0.004093622653018009, 1.768152919880954, -0.47379149100178425, 0.4096662408886199, -0.8298725088760005, 0.23714593080153104, 1.7182916716167476, -0.5536416369860518, -0.5008585162696602, 0.12531474389952071, -0.3102922723523502, 0.3212082519347096, 0.1273991345162948, 1.4676643819725206, -0.00954134812271558, -2.515191437159899, 0.2858322905211471, 1.6148968929893681, -0.41540727418007933, 0.7432364152956532, 0.08943293717910389, 0.45863524503738756, -1.5130666419626568, 0.25537119307039896, 0.646208704821914, 0.14045644314235028, -1.654436346805644, -1.2485137655752985, -1.220472804150455, 0.5874098939074718, -0.8832102261481436, -0.7988314318980299, -0.573780450292032, -1.0383213758032692, -0.6318717788688629, 0.00039752972621937476, 1.1981581595577502, -2.5099274433561014, -0.2712993286356339, 0.18780065535996154, -0.5580110046021268, -1.373552616923043, -0.08136658740476707, -0.500895465414146, -0.28648841769671246, 0.760700335336526, 1.2828632663819213, 0.6375084363947762, 0.09553303045392961, 0.9602945758003074, 1.264248937029117, -0.12940953282095385, -1.8627436208339199, -0.35263576599728114], \"yaxis\": \"y8\"}, {\"line\": {\"color\": \"rgba(128, 128, 128, 1.0)\", \"dash\": \"solid\", \"shape\": \"linear\", \"width\": 1.3}, \"marker\": {\"size\": 2, \"symbol\": \"circle\"}, \"mode\": \"markers\", \"name\": \"C\", \"text\": \"\", \"type\": \"scatter\", \"x\": [0.062403000348056896, 0.682158388145421, 0.3268464575434144, 0.28422394171376936, -0.8930677967906131, 0.041223291518847946, 1.4782858523800568, -0.01722465247120283, 0.20354506830826805, -0.4545305600633967, -0.38981019744658657, -1.3603820914539406, -0.1930434719473086, -0.4242067670561226, 0.5805237728658952, 0.0182563537413149, 0.5893475068103087, 0.03891119531541383, -1.1659803041570214, -1.4954814632608548, 0.6410459252420906, -1.8173897668947723, 1.1476736695558079, -0.008637510156530056, 0.7333610287703045, -0.00341856027323607, -0.1705957221128231, -0.2755653598251552, -0.7028999920512963, -0.7686762441966566, -1.4320039221064242, -0.3777920709864464, -0.7893304727600577, -1.462585693582685, 0.25606012549675394, -0.7328012321850637, 0.9282689238426763, 1.1757725189552224, 0.5497232961895439, 1.3504414595074608, 0.36879921331976007, 0.6474329912861589, 0.3425748143184703, -0.5524096866845196, 0.22771702810119573, -0.01856107928186663, -0.505035272141574, 1.83767051387475, 0.7758446792672782, 0.49530351834577024, -0.8959516679869598, 0.19244410049328461, -0.028152661422717846, 0.2446391640032037, -0.8544538723417219, -1.1987174971252845, -1.0351821498442066, 1.630876494005205, -1.1732747762090505, -0.6522848289203391, -1.166608830105591, -0.6660716373175085, 0.49650677118547343, 0.280945589781803, 2.590006720593593, 0.4641214459824001, 0.4167417130776699, 0.814643013951977, -2.135518795380281, 0.6136241313529066, -0.9426705484649059, 1.050069499491585, 1.478207789341703, -0.6391499024396073, 1.1037544258288825, 1.598744213446337, -0.9214180706170372, -1.2027125149729223, -0.8141297322283779, 0.4167869704791297, -0.5529385483286148, 0.3472229204713509, 0.718239409702939, -0.28359798177231077, -0.39401886897279204, -0.8053865090960546, 0.31592140452817635, 1.2882667023943803, 0.6850003377061532, -1.653096366834222, 0.10423440668142835, -1.1225488317606467, -0.7634534972151744, 0.845927206975368, 2.4774967936593364, -1.1920806362525922, -0.932594950136978, 2.440937192420902, -1.0872222548948827, 0.8000874593014355], \"xaxis\": \"x9\", \"y\": [1.3277480686631737, 1.050547909409751, 1.3294870859233556, -0.13870404447613557, 1.2218281015381525, -1.047591080889363, -1.4822808878063358, -1.4335267599367494, 0.07274677269292128, -1.385208972739911, 0.7024703200820424, -0.8880380280033623, -0.8547896508547369, 0.31185313506640283, 0.2563271601287642, -0.5261950965768823, 0.5519014489002535, 0.4082691591381113, -1.2862316779891965, 0.44859116465226406, 0.13625194558813486, 0.280679521344601, -0.02835299066476146, -0.3830272009784602, -0.34353149414286166, 0.28184497975529327, -1.2205571340697343, -0.02909238752000967, 1.1921642115369608, 0.474260432591272, 0.9373627235375664, 1.4776392003195147, -0.029564933039379248, 0.99911966144133, 0.3240195697926262, 0.03401387458525973, 1.410444141420003, 0.5525302781296415, -0.3183084017843572, 0.7186946417574489, -1.1077957092476767, 1.7001527283039954, 1.8133694221681342, -0.4225946616805115, -0.788023560769322, 1.4058002890335541, 0.961507413941608, 0.017780631402030126, -1.6268560230227949, -0.21389807757329404, -0.25804553141361064, 1.5027656010382409, -0.2301925491561469, -0.13133770671759212, 0.6951888892908054, -1.0317610337860261, 1.0727625169742452, -0.43083511527863716, -2.433419554005068, 1.5545467140051108, 0.8031599912754359, 0.45310615813824545, 0.9055518604541104, 0.7846664209606582, 0.6197006472787928, -0.47860177595972264, 0.1279222369971248, 0.5465449898282538, -1.6933600358972833, 0.48491522534972553, 0.2694070585448925, -0.11388920518825722, 0.11272494742647107, -1.3920380931256184, -1.962700548100472, -1.7378697254858495, -0.7818474649403422, -2.1915026596198284, -0.010632375622421088, -2.0414814863870068, -0.4659494819877405, 0.3451970702407081, 0.6268328052907892, -0.71567101483495, -0.26445647028416147, 0.16178304128280735, -0.5510181008810864, -0.5021706791030416, -1.5329231160369086, 1.3879360191670922, -0.20967690238226744, -1.3670839329746214, 1.076632444152013, 0.2953756540651349, 0.19709824729739248, 0.18429971334894393, -0.9373963033909891, 0.2646799340244548, 1.2810675908976386, 2.589926490087622], \"yaxis\": \"y9\"}, {\"line\": {\"color\": \"rgba(128, 128, 128, 1.0)\", \"dash\": \"solid\", \"shape\": \"linear\", \"width\": 1.3}, \"marker\": {\"size\": 2, \"symbol\": \"circle\"}, \"mode\": \"markers\", \"name\": \"C\", \"text\": \"\", \"type\": \"scatter\", \"x\": [-1.2990683753780665, 1.624681381422417, 1.1050144336626813, -0.18855637354967572, 0.48478649153248393, -0.1518918367515998, -0.7101304630074858, -0.8314894580215793, 0.14864838275340203, -0.9883549688724185, 0.2619736329233981, 0.433341791706317, 0.4144785136898204, 0.5033067567904287, 1.4965554538363868, 1.956617306686328, -0.578245281812172, -1.4174671610760066, 0.2509113970016073, -0.6854460438222966, 0.23852252212573566, -0.4374775713005923, 0.7413855687297202, 0.10556881914297436, 0.1585873008040566, 2.233260861019369, -0.09929731120607435, 0.7241044725523446, 0.535088540547648, 0.5580949721210654, -0.11338290316044461, -0.7731897813122994, -0.45846386467525907, -0.2617599441544949, -0.6477024075551885, -1.4554017026133887, 0.24741918994602477, -0.22522232259468344, 0.5469031092445472, -0.2815805553595161, -0.14730474978832764, 2.152082602828211, -0.5849732814667612, -1.1672480227212263, -1.936000387514932, -0.6068892020585201, -0.004093622653018009, 1.768152919880954, -0.47379149100178425, 0.4096662408886199, -0.8298725088760005, 0.23714593080153104, 1.7182916716167476, -0.5536416369860518, -0.5008585162696602, 0.12531474389952071, -0.3102922723523502, 0.3212082519347096, 0.1273991345162948, 1.4676643819725206, -0.00954134812271558, -2.515191437159899, 0.2858322905211471, 1.6148968929893681, -0.41540727418007933, 0.7432364152956532, 0.08943293717910389, 0.45863524503738756, -1.5130666419626568, 0.25537119307039896, 0.646208704821914, 0.14045644314235028, -1.654436346805644, -1.2485137655752985, -1.220472804150455, 0.5874098939074718, -0.8832102261481436, -0.7988314318980299, -0.573780450292032, -1.0383213758032692, -0.6318717788688629, 0.00039752972621937476, 1.1981581595577502, -2.5099274433561014, -0.2712993286356339, 0.18780065535996154, -0.5580110046021268, -1.373552616923043, -0.08136658740476707, -0.500895465414146, -0.28648841769671246, 0.760700335336526, 1.2828632663819213, 0.6375084363947762, 0.09553303045392961, 0.9602945758003074, 1.264248937029117, -0.12940953282095385, -1.8627436208339199, -0.35263576599728114], \"xaxis\": \"x10\", \"y\": [1.3277480686631737, 1.050547909409751, 1.3294870859233556, -0.13870404447613557, 1.2218281015381525, -1.047591080889363, -1.4822808878063358, -1.4335267599367494, 0.07274677269292128, -1.385208972739911, 0.7024703200820424, -0.8880380280033623, -0.8547896508547369, 0.31185313506640283, 0.2563271601287642, -0.5261950965768823, 0.5519014489002535, 0.4082691591381113, -1.2862316779891965, 0.44859116465226406, 0.13625194558813486, 0.280679521344601, -0.02835299066476146, -0.3830272009784602, -0.34353149414286166, 0.28184497975529327, -1.2205571340697343, -0.02909238752000967, 1.1921642115369608, 0.474260432591272, 0.9373627235375664, 1.4776392003195147, -0.029564933039379248, 0.99911966144133, 0.3240195697926262, 0.03401387458525973, 1.410444141420003, 0.5525302781296415, -0.3183084017843572, 0.7186946417574489, -1.1077957092476767, 1.7001527283039954, 1.8133694221681342, -0.4225946616805115, -0.788023560769322, 1.4058002890335541, 0.961507413941608, 0.017780631402030126, -1.6268560230227949, -0.21389807757329404, -0.25804553141361064, 1.5027656010382409, -0.2301925491561469, -0.13133770671759212, 0.6951888892908054, -1.0317610337860261, 1.0727625169742452, -0.43083511527863716, -2.433419554005068, 1.5545467140051108, 0.8031599912754359, 0.45310615813824545, 0.9055518604541104, 0.7846664209606582, 0.6197006472787928, -0.47860177595972264, 0.1279222369971248, 0.5465449898282538, -1.6933600358972833, 0.48491522534972553, 0.2694070585448925, -0.11388920518825722, 0.11272494742647107, -1.3920380931256184, -1.962700548100472, -1.7378697254858495, -0.7818474649403422, -2.1915026596198284, -0.010632375622421088, -2.0414814863870068, -0.4659494819877405, 0.3451970702407081, 0.6268328052907892, -0.71567101483495, -0.26445647028416147, 0.16178304128280735, -0.5510181008810864, -0.5021706791030416, -1.5329231160369086, 1.3879360191670922, -0.20967690238226744, -1.3670839329746214, 1.076632444152013, 0.2953756540651349, 0.19709824729739248, 0.18429971334894393, -0.9373963033909891, 0.2646799340244548, 1.2810675908976386, 2.589926490087622], \"yaxis\": \"y10\"}, {\"histfunc\": \"count\", \"histnorm\": \"\", \"marker\": {\"color\": \"rgba(50, 171, 96, 1.0)\", \"line\": {\"color\": \"#4D5663\", \"width\": 1.3}}, \"name\": \"C\", \"nbinsx\": 10, \"opacity\": 0.8, \"orientation\": \"v\", \"type\": \"histogram\", \"x\": [1.3277480686631737, 1.050547909409751, 1.3294870859233556, -0.13870404447613557, 1.2218281015381525, -1.047591080889363, -1.4822808878063358, -1.4335267599367494, 0.07274677269292128, -1.385208972739911, 0.7024703200820424, -0.8880380280033623, -0.8547896508547369, 0.31185313506640283, 0.2563271601287642, -0.5261950965768823, 0.5519014489002535, 0.4082691591381113, -1.2862316779891965, 0.44859116465226406, 0.13625194558813486, 0.280679521344601, -0.02835299066476146, -0.3830272009784602, -0.34353149414286166, 0.28184497975529327, -1.2205571340697343, -0.02909238752000967, 1.1921642115369608, 0.474260432591272, 0.9373627235375664, 1.4776392003195147, -0.029564933039379248, 0.99911966144133, 0.3240195697926262, 0.03401387458525973, 1.410444141420003, 0.5525302781296415, -0.3183084017843572, 0.7186946417574489, -1.1077957092476767, 1.7001527283039954, 1.8133694221681342, -0.4225946616805115, -0.788023560769322, 1.4058002890335541, 0.961507413941608, 0.017780631402030126, -1.6268560230227949, -0.21389807757329404, -0.25804553141361064, 1.5027656010382409, -0.2301925491561469, -0.13133770671759212, 0.6951888892908054, -1.0317610337860261, 1.0727625169742452, -0.43083511527863716, -2.433419554005068, 1.5545467140051108, 0.8031599912754359, 0.45310615813824545, 0.9055518604541104, 0.7846664209606582, 0.6197006472787928, -0.47860177595972264, 0.1279222369971248, 0.5465449898282538, -1.6933600358972833, 0.48491522534972553, 0.2694070585448925, -0.11388920518825722, 0.11272494742647107, -1.3920380931256184, -1.962700548100472, -1.7378697254858495, -0.7818474649403422, -2.1915026596198284, -0.010632375622421088, -2.0414814863870068, -0.4659494819877405, 0.3451970702407081, 0.6268328052907892, -0.71567101483495, -0.26445647028416147, 0.16178304128280735, -0.5510181008810864, -0.5021706791030416, -1.5329231160369086, 1.3879360191670922, -0.20967690238226744, -1.3670839329746214, 1.076632444152013, 0.2953756540651349, 0.19709824729739248, 0.18429971334894393, -0.9373963033909891, 0.2646799340244548, 1.2810675908976386, 2.589926490087622], \"xaxis\": \"x11\", \"yaxis\": \"y11\"}, {\"line\": {\"color\": \"rgba(128, 128, 128, 1.0)\", \"dash\": \"solid\", \"shape\": \"linear\", \"width\": 1.3}, \"marker\": {\"size\": 2, \"symbol\": \"circle\"}, \"mode\": \"markers\", \"name\": \"C\", \"text\": \"\", \"type\": \"scatter\", \"x\": [0.9510949294848526, 0.4695638138892198, -0.12821164479171554, -1.5257079148558776, -0.16233709183306624, -0.9638417942564012, -0.4915267140279102, -2.4184117895314765, 0.3607053686268968, -0.5285612826105017, -0.4285178504036213, 0.07966457306215396, 2.3652059729730497, -0.9870421025768513, 0.36702706338599883, 1.1347510327949974, 0.5894990482523681, 2.440768159619953, 0.9838466325555156, 0.797510734845901, -0.624485961244373, 1.0991759521001998, 0.9298248741871734, 0.7133611160971455, 0.3990976342014481, -0.08382319239217625, 0.18677316791991988, -0.24586105029012073, -0.9917793106937559, 0.04845575460362079, 0.15371514705055928, -0.4718618834830073, -0.6211000961774438, 1.1697655277102825, -0.2761052450610573, 0.390290321076468, -0.27580277573952555, -0.011793728102506337, 1.4203938063505552, -0.3540328421352846, -0.05385716129189193, 1.5687612989007362, 1.4947811801907642, -0.0907906324830042, 0.2008464745533209, 0.6540547952065257, -0.6453521773434029, 0.9440170316749986, 1.5897438489064992, -0.8486254691354769, 0.9046070542679885, 1.0495623648697618, -1.224035202547343, -1.0427057175256877, 0.5945839682902634, 0.5337946540431762, 0.2632612245115452, 0.39868488873597385, -0.3654589589077428, -1.1342179546915354, 0.11851262533573535, -0.8340798137577661, 0.5926784388236838, -0.6207922204277392, 0.9651518359562631, 0.09403334833156134, -0.3250940889776582, -2.256036962124954, 0.4846688572318411, 0.06839142679808732, -2.133092503970914, 1.4539681659416737, -0.5664865152294981, -0.7341855979315933, -0.3566560181728952, 0.09952804551515838, 1.081557923070655, 0.2263069870116225, -0.33929955781856347, 1.5439649056212006, -1.4320414456639798, -1.3204482658502175, 2.1615947495792853, 0.33079081187341614, -1.0156246875190234, -0.362395604857689, 0.7536331826381956, -1.7368657732073303, 0.010594486537426498, -0.2556207731554825, -0.398307797997451, 1.7935563632068905, 0.33221143072086234, -0.019581137547514754, 1.8924713508771496, -1.4489598139678137, 0.023367516123193738, -0.4067124512310082, -1.0153575018769438, -0.8289638770916804], \"xaxis\": \"x12\", \"y\": [1.3277480686631737, 1.050547909409751, 1.3294870859233556, -0.13870404447613557, 1.2218281015381525, -1.047591080889363, -1.4822808878063358, -1.4335267599367494, 0.07274677269292128, -1.385208972739911, 0.7024703200820424, -0.8880380280033623, -0.8547896508547369, 0.31185313506640283, 0.2563271601287642, -0.5261950965768823, 0.5519014489002535, 0.4082691591381113, -1.2862316779891965, 0.44859116465226406, 0.13625194558813486, 0.280679521344601, -0.02835299066476146, -0.3830272009784602, -0.34353149414286166, 0.28184497975529327, -1.2205571340697343, -0.02909238752000967, 1.1921642115369608, 0.474260432591272, 0.9373627235375664, 1.4776392003195147, -0.029564933039379248, 0.99911966144133, 0.3240195697926262, 0.03401387458525973, 1.410444141420003, 0.5525302781296415, -0.3183084017843572, 0.7186946417574489, -1.1077957092476767, 1.7001527283039954, 1.8133694221681342, -0.4225946616805115, -0.788023560769322, 1.4058002890335541, 0.961507413941608, 0.017780631402030126, -1.6268560230227949, -0.21389807757329404, -0.25804553141361064, 1.5027656010382409, -0.2301925491561469, -0.13133770671759212, 0.6951888892908054, -1.0317610337860261, 1.0727625169742452, -0.43083511527863716, -2.433419554005068, 1.5545467140051108, 0.8031599912754359, 0.45310615813824545, 0.9055518604541104, 0.7846664209606582, 0.6197006472787928, -0.47860177595972264, 0.1279222369971248, 0.5465449898282538, -1.6933600358972833, 0.48491522534972553, 0.2694070585448925, -0.11388920518825722, 0.11272494742647107, -1.3920380931256184, -1.962700548100472, -1.7378697254858495, -0.7818474649403422, -2.1915026596198284, -0.010632375622421088, -2.0414814863870068, -0.4659494819877405, 0.3451970702407081, 0.6268328052907892, -0.71567101483495, -0.26445647028416147, 0.16178304128280735, -0.5510181008810864, -0.5021706791030416, -1.5329231160369086, 1.3879360191670922, -0.20967690238226744, -1.3670839329746214, 1.076632444152013, 0.2953756540651349, 0.19709824729739248, 0.18429971334894393, -0.9373963033909891, 0.2646799340244548, 1.2810675908976386, 2.589926490087622], \"yaxis\": \"y12\"}, {\"line\": {\"color\": \"rgba(128, 128, 128, 1.0)\", \"dash\": \"solid\", \"shape\": \"linear\", \"width\": 1.3}, \"marker\": {\"size\": 2, \"symbol\": \"circle\"}, \"mode\": \"markers\", \"name\": \"D\", \"text\": \"\", \"type\": \"scatter\", \"x\": [0.062403000348056896, 0.682158388145421, 0.3268464575434144, 0.28422394171376936, -0.8930677967906131, 0.041223291518847946, 1.4782858523800568, -0.01722465247120283, 0.20354506830826805, -0.4545305600633967, -0.38981019744658657, -1.3603820914539406, -0.1930434719473086, -0.4242067670561226, 0.5805237728658952, 0.0182563537413149, 0.5893475068103087, 0.03891119531541383, -1.1659803041570214, -1.4954814632608548, 0.6410459252420906, -1.8173897668947723, 1.1476736695558079, -0.008637510156530056, 0.7333610287703045, -0.00341856027323607, -0.1705957221128231, -0.2755653598251552, -0.7028999920512963, -0.7686762441966566, -1.4320039221064242, -0.3777920709864464, -0.7893304727600577, -1.462585693582685, 0.25606012549675394, -0.7328012321850637, 0.9282689238426763, 1.1757725189552224, 0.5497232961895439, 1.3504414595074608, 0.36879921331976007, 0.6474329912861589, 0.3425748143184703, -0.5524096866845196, 0.22771702810119573, -0.01856107928186663, -0.505035272141574, 1.83767051387475, 0.7758446792672782, 0.49530351834577024, -0.8959516679869598, 0.19244410049328461, -0.028152661422717846, 0.2446391640032037, -0.8544538723417219, -1.1987174971252845, -1.0351821498442066, 1.630876494005205, -1.1732747762090505, -0.6522848289203391, -1.166608830105591, -0.6660716373175085, 0.49650677118547343, 0.280945589781803, 2.590006720593593, 0.4641214459824001, 0.4167417130776699, 0.814643013951977, -2.135518795380281, 0.6136241313529066, -0.9426705484649059, 1.050069499491585, 1.478207789341703, -0.6391499024396073, 1.1037544258288825, 1.598744213446337, -0.9214180706170372, -1.2027125149729223, -0.8141297322283779, 0.4167869704791297, -0.5529385483286148, 0.3472229204713509, 0.718239409702939, -0.28359798177231077, -0.39401886897279204, -0.8053865090960546, 0.31592140452817635, 1.2882667023943803, 0.6850003377061532, -1.653096366834222, 0.10423440668142835, -1.1225488317606467, -0.7634534972151744, 0.845927206975368, 2.4774967936593364, -1.1920806362525922, -0.932594950136978, 2.440937192420902, -1.0872222548948827, 0.8000874593014355], \"xaxis\": \"x13\", \"y\": [0.9510949294848526, 0.4695638138892198, -0.12821164479171554, -1.5257079148558776, -0.16233709183306624, -0.9638417942564012, -0.4915267140279102, -2.4184117895314765, 0.3607053686268968, -0.5285612826105017, -0.4285178504036213, 0.07966457306215396, 2.3652059729730497, -0.9870421025768513, 0.36702706338599883, 1.1347510327949974, 0.5894990482523681, 2.440768159619953, 0.9838466325555156, 0.797510734845901, -0.624485961244373, 1.0991759521001998, 0.9298248741871734, 0.7133611160971455, 0.3990976342014481, -0.08382319239217625, 0.18677316791991988, -0.24586105029012073, -0.9917793106937559, 0.04845575460362079, 0.15371514705055928, -0.4718618834830073, -0.6211000961774438, 1.1697655277102825, -0.2761052450610573, 0.390290321076468, -0.27580277573952555, -0.011793728102506337, 1.4203938063505552, -0.3540328421352846, -0.05385716129189193, 1.5687612989007362, 1.4947811801907642, -0.0907906324830042, 0.2008464745533209, 0.6540547952065257, -0.6453521773434029, 0.9440170316749986, 1.5897438489064992, -0.8486254691354769, 0.9046070542679885, 1.0495623648697618, -1.224035202547343, -1.0427057175256877, 0.5945839682902634, 0.5337946540431762, 0.2632612245115452, 0.39868488873597385, -0.3654589589077428, -1.1342179546915354, 0.11851262533573535, -0.8340798137577661, 0.5926784388236838, -0.6207922204277392, 0.9651518359562631, 0.09403334833156134, -0.3250940889776582, -2.256036962124954, 0.4846688572318411, 0.06839142679808732, -2.133092503970914, 1.4539681659416737, -0.5664865152294981, -0.7341855979315933, -0.3566560181728952, 0.09952804551515838, 1.081557923070655, 0.2263069870116225, -0.33929955781856347, 1.5439649056212006, -1.4320414456639798, -1.3204482658502175, 2.1615947495792853, 0.33079081187341614, -1.0156246875190234, -0.362395604857689, 0.7536331826381956, -1.7368657732073303, 0.010594486537426498, -0.2556207731554825, -0.398307797997451, 1.7935563632068905, 0.33221143072086234, -0.019581137547514754, 1.8924713508771496, -1.4489598139678137, 0.023367516123193738, -0.4067124512310082, -1.0153575018769438, -0.8289638770916804], \"yaxis\": \"y13\"}, {\"line\": {\"color\": \"rgba(128, 128, 128, 1.0)\", \"dash\": \"solid\", \"shape\": \"linear\", \"width\": 1.3}, \"marker\": {\"size\": 2, \"symbol\": \"circle\"}, \"mode\": \"markers\", \"name\": \"D\", \"text\": \"\", \"type\": \"scatter\", \"x\": [-1.2990683753780665, 1.624681381422417, 1.1050144336626813, -0.18855637354967572, 0.48478649153248393, -0.1518918367515998, -0.7101304630074858, -0.8314894580215793, 0.14864838275340203, -0.9883549688724185, 0.2619736329233981, 0.433341791706317, 0.4144785136898204, 0.5033067567904287, 1.4965554538363868, 1.956617306686328, -0.578245281812172, -1.4174671610760066, 0.2509113970016073, -0.6854460438222966, 0.23852252212573566, -0.4374775713005923, 0.7413855687297202, 0.10556881914297436, 0.1585873008040566, 2.233260861019369, -0.09929731120607435, 0.7241044725523446, 0.535088540547648, 0.5580949721210654, -0.11338290316044461, -0.7731897813122994, -0.45846386467525907, -0.2617599441544949, -0.6477024075551885, -1.4554017026133887, 0.24741918994602477, -0.22522232259468344, 0.5469031092445472, -0.2815805553595161, -0.14730474978832764, 2.152082602828211, -0.5849732814667612, -1.1672480227212263, -1.936000387514932, -0.6068892020585201, -0.004093622653018009, 1.768152919880954, -0.47379149100178425, 0.4096662408886199, -0.8298725088760005, 0.23714593080153104, 1.7182916716167476, -0.5536416369860518, -0.5008585162696602, 0.12531474389952071, -0.3102922723523502, 0.3212082519347096, 0.1273991345162948, 1.4676643819725206, -0.00954134812271558, -2.515191437159899, 0.2858322905211471, 1.6148968929893681, -0.41540727418007933, 0.7432364152956532, 0.08943293717910389, 0.45863524503738756, -1.5130666419626568, 0.25537119307039896, 0.646208704821914, 0.14045644314235028, -1.654436346805644, -1.2485137655752985, -1.220472804150455, 0.5874098939074718, -0.8832102261481436, -0.7988314318980299, -0.573780450292032, -1.0383213758032692, -0.6318717788688629, 0.00039752972621937476, 1.1981581595577502, -2.5099274433561014, -0.2712993286356339, 0.18780065535996154, -0.5580110046021268, -1.373552616923043, -0.08136658740476707, -0.500895465414146, -0.28648841769671246, 0.760700335336526, 1.2828632663819213, 0.6375084363947762, 0.09553303045392961, 0.9602945758003074, 1.264248937029117, -0.12940953282095385, -1.8627436208339199, -0.35263576599728114], \"xaxis\": \"x14\", \"y\": [0.9510949294848526, 0.4695638138892198, -0.12821164479171554, -1.5257079148558776, -0.16233709183306624, -0.9638417942564012, -0.4915267140279102, -2.4184117895314765, 0.3607053686268968, -0.5285612826105017, -0.4285178504036213, 0.07966457306215396, 2.3652059729730497, -0.9870421025768513, 0.36702706338599883, 1.1347510327949974, 0.5894990482523681, 2.440768159619953, 0.9838466325555156, 0.797510734845901, -0.624485961244373, 1.0991759521001998, 0.9298248741871734, 0.7133611160971455, 0.3990976342014481, -0.08382319239217625, 0.18677316791991988, -0.24586105029012073, -0.9917793106937559, 0.04845575460362079, 0.15371514705055928, -0.4718618834830073, -0.6211000961774438, 1.1697655277102825, -0.2761052450610573, 0.390290321076468, -0.27580277573952555, -0.011793728102506337, 1.4203938063505552, -0.3540328421352846, -0.05385716129189193, 1.5687612989007362, 1.4947811801907642, -0.0907906324830042, 0.2008464745533209, 0.6540547952065257, -0.6453521773434029, 0.9440170316749986, 1.5897438489064992, -0.8486254691354769, 0.9046070542679885, 1.0495623648697618, -1.224035202547343, -1.0427057175256877, 0.5945839682902634, 0.5337946540431762, 0.2632612245115452, 0.39868488873597385, -0.3654589589077428, -1.1342179546915354, 0.11851262533573535, -0.8340798137577661, 0.5926784388236838, -0.6207922204277392, 0.9651518359562631, 0.09403334833156134, -0.3250940889776582, -2.256036962124954, 0.4846688572318411, 0.06839142679808732, -2.133092503970914, 1.4539681659416737, -0.5664865152294981, -0.7341855979315933, -0.3566560181728952, 0.09952804551515838, 1.081557923070655, 0.2263069870116225, -0.33929955781856347, 1.5439649056212006, -1.4320414456639798, -1.3204482658502175, 2.1615947495792853, 0.33079081187341614, -1.0156246875190234, -0.362395604857689, 0.7536331826381956, -1.7368657732073303, 0.010594486537426498, -0.2556207731554825, -0.398307797997451, 1.7935563632068905, 0.33221143072086234, -0.019581137547514754, 1.8924713508771496, -1.4489598139678137, 0.023367516123193738, -0.4067124512310082, -1.0153575018769438, -0.8289638770916804], \"yaxis\": \"y14\"}, {\"line\": {\"color\": \"rgba(128, 128, 128, 1.0)\", \"dash\": \"solid\", \"shape\": \"linear\", \"width\": 1.3}, \"marker\": {\"size\": 2, \"symbol\": \"circle\"}, \"mode\": \"markers\", \"name\": \"D\", \"text\": \"\", \"type\": \"scatter\", \"x\": [1.3277480686631737, 1.050547909409751, 1.3294870859233556, -0.13870404447613557, 1.2218281015381525, -1.047591080889363, -1.4822808878063358, -1.4335267599367494, 0.07274677269292128, -1.385208972739911, 0.7024703200820424, -0.8880380280033623, -0.8547896508547369, 0.31185313506640283, 0.2563271601287642, -0.5261950965768823, 0.5519014489002535, 0.4082691591381113, -1.2862316779891965, 0.44859116465226406, 0.13625194558813486, 0.280679521344601, -0.02835299066476146, -0.3830272009784602, -0.34353149414286166, 0.28184497975529327, -1.2205571340697343, -0.02909238752000967, 1.1921642115369608, 0.474260432591272, 0.9373627235375664, 1.4776392003195147, -0.029564933039379248, 0.99911966144133, 0.3240195697926262, 0.03401387458525973, 1.410444141420003, 0.5525302781296415, -0.3183084017843572, 0.7186946417574489, -1.1077957092476767, 1.7001527283039954, 1.8133694221681342, -0.4225946616805115, -0.788023560769322, 1.4058002890335541, 0.961507413941608, 0.017780631402030126, -1.6268560230227949, -0.21389807757329404, -0.25804553141361064, 1.5027656010382409, -0.2301925491561469, -0.13133770671759212, 0.6951888892908054, -1.0317610337860261, 1.0727625169742452, -0.43083511527863716, -2.433419554005068, 1.5545467140051108, 0.8031599912754359, 0.45310615813824545, 0.9055518604541104, 0.7846664209606582, 0.6197006472787928, -0.47860177595972264, 0.1279222369971248, 0.5465449898282538, -1.6933600358972833, 0.48491522534972553, 0.2694070585448925, -0.11388920518825722, 0.11272494742647107, -1.3920380931256184, -1.962700548100472, -1.7378697254858495, -0.7818474649403422, -2.1915026596198284, -0.010632375622421088, -2.0414814863870068, -0.4659494819877405, 0.3451970702407081, 0.6268328052907892, -0.71567101483495, -0.26445647028416147, 0.16178304128280735, -0.5510181008810864, -0.5021706791030416, -1.5329231160369086, 1.3879360191670922, -0.20967690238226744, -1.3670839329746214, 1.076632444152013, 0.2953756540651349, 0.19709824729739248, 0.18429971334894393, -0.9373963033909891, 0.2646799340244548, 1.2810675908976386, 2.589926490087622], \"xaxis\": \"x15\", \"y\": [0.9510949294848526, 0.4695638138892198, -0.12821164479171554, -1.5257079148558776, -0.16233709183306624, -0.9638417942564012, -0.4915267140279102, -2.4184117895314765, 0.3607053686268968, -0.5285612826105017, -0.4285178504036213, 0.07966457306215396, 2.3652059729730497, -0.9870421025768513, 0.36702706338599883, 1.1347510327949974, 0.5894990482523681, 2.440768159619953, 0.9838466325555156, 0.797510734845901, -0.624485961244373, 1.0991759521001998, 0.9298248741871734, 0.7133611160971455, 0.3990976342014481, -0.08382319239217625, 0.18677316791991988, -0.24586105029012073, -0.9917793106937559, 0.04845575460362079, 0.15371514705055928, -0.4718618834830073, -0.6211000961774438, 1.1697655277102825, -0.2761052450610573, 0.390290321076468, -0.27580277573952555, -0.011793728102506337, 1.4203938063505552, -0.3540328421352846, -0.05385716129189193, 1.5687612989007362, 1.4947811801907642, -0.0907906324830042, 0.2008464745533209, 0.6540547952065257, -0.6453521773434029, 0.9440170316749986, 1.5897438489064992, -0.8486254691354769, 0.9046070542679885, 1.0495623648697618, -1.224035202547343, -1.0427057175256877, 0.5945839682902634, 0.5337946540431762, 0.2632612245115452, 0.39868488873597385, -0.3654589589077428, -1.1342179546915354, 0.11851262533573535, -0.8340798137577661, 0.5926784388236838, -0.6207922204277392, 0.9651518359562631, 0.09403334833156134, -0.3250940889776582, -2.256036962124954, 0.4846688572318411, 0.06839142679808732, -2.133092503970914, 1.4539681659416737, -0.5664865152294981, -0.7341855979315933, -0.3566560181728952, 0.09952804551515838, 1.081557923070655, 0.2263069870116225, -0.33929955781856347, 1.5439649056212006, -1.4320414456639798, -1.3204482658502175, 2.1615947495792853, 0.33079081187341614, -1.0156246875190234, -0.362395604857689, 0.7536331826381956, -1.7368657732073303, 0.010594486537426498, -0.2556207731554825, -0.398307797997451, 1.7935563632068905, 0.33221143072086234, -0.019581137547514754, 1.8924713508771496, -1.4489598139678137, 0.023367516123193738, -0.4067124512310082, -1.0153575018769438, -0.8289638770916804], \"yaxis\": \"y15\"}, {\"histfunc\": \"count\", \"histnorm\": \"\", \"marker\": {\"color\": \"rgba(128, 0, 128, 1.0)\", \"line\": {\"color\": \"#4D5663\", \"width\": 1.3}}, \"name\": \"D\", \"nbinsx\": 10, \"opacity\": 0.8, \"orientation\": \"v\", \"type\": \"histogram\", \"x\": [0.9510949294848526, 0.4695638138892198, -0.12821164479171554, -1.5257079148558776, -0.16233709183306624, -0.9638417942564012, -0.4915267140279102, -2.4184117895314765, 0.3607053686268968, -0.5285612826105017, -0.4285178504036213, 0.07966457306215396, 2.3652059729730497, -0.9870421025768513, 0.36702706338599883, 1.1347510327949974, 0.5894990482523681, 2.440768159619953, 0.9838466325555156, 0.797510734845901, -0.624485961244373, 1.0991759521001998, 0.9298248741871734, 0.7133611160971455, 0.3990976342014481, -0.08382319239217625, 0.18677316791991988, -0.24586105029012073, -0.9917793106937559, 0.04845575460362079, 0.15371514705055928, -0.4718618834830073, -0.6211000961774438, 1.1697655277102825, -0.2761052450610573, 0.390290321076468, -0.27580277573952555, -0.011793728102506337, 1.4203938063505552, -0.3540328421352846, -0.05385716129189193, 1.5687612989007362, 1.4947811801907642, -0.0907906324830042, 0.2008464745533209, 0.6540547952065257, -0.6453521773434029, 0.9440170316749986, 1.5897438489064992, -0.8486254691354769, 0.9046070542679885, 1.0495623648697618, -1.224035202547343, -1.0427057175256877, 0.5945839682902634, 0.5337946540431762, 0.2632612245115452, 0.39868488873597385, -0.3654589589077428, -1.1342179546915354, 0.11851262533573535, -0.8340798137577661, 0.5926784388236838, -0.6207922204277392, 0.9651518359562631, 0.09403334833156134, -0.3250940889776582, -2.256036962124954, 0.4846688572318411, 0.06839142679808732, -2.133092503970914, 1.4539681659416737, -0.5664865152294981, -0.7341855979315933, -0.3566560181728952, 0.09952804551515838, 1.081557923070655, 0.2263069870116225, -0.33929955781856347, 1.5439649056212006, -1.4320414456639798, -1.3204482658502175, 2.1615947495792853, 0.33079081187341614, -1.0156246875190234, -0.362395604857689, 0.7536331826381956, -1.7368657732073303, 0.010594486537426498, -0.2556207731554825, -0.398307797997451, 1.7935563632068905, 0.33221143072086234, -0.019581137547514754, 1.8924713508771496, -1.4489598139678137, 0.023367516123193738, -0.4067124512310082, -1.0153575018769438, -0.8289638770916804], \"xaxis\": \"x16\", \"yaxis\": \"y16\"}],                        {\"bargap\": 0.02, \"legend\": {\"bgcolor\": \"#F5F6F9\", \"font\": {\"color\": \"#4D5663\"}}, \"paper_bgcolor\": \"#F5F6F9\", \"plot_bgcolor\": \"#F5F6F9\", \"showlegend\": false, \"template\": {\"data\": {\"bar\": [{\"error_x\": {\"color\": \"#2a3f5f\"}, \"error_y\": {\"color\": \"#2a3f5f\"}, \"marker\": {\"line\": {\"color\": \"#E5ECF6\", \"width\": 0.5}}, \"type\": \"bar\"}], \"barpolar\": [{\"marker\": {\"line\": {\"color\": \"#E5ECF6\", \"width\": 0.5}}, \"type\": \"barpolar\"}], \"carpet\": [{\"aaxis\": {\"endlinecolor\": \"#2a3f5f\", \"gridcolor\": \"white\", \"linecolor\": \"white\", \"minorgridcolor\": \"white\", \"startlinecolor\": \"#2a3f5f\"}, \"baxis\": {\"endlinecolor\": \"#2a3f5f\", \"gridcolor\": \"white\", \"linecolor\": \"white\", \"minorgridcolor\": \"white\", \"startlinecolor\": \"#2a3f5f\"}, \"type\": \"carpet\"}], \"choropleth\": [{\"colorbar\": {\"outlinewidth\": 0, \"ticks\": \"\"}, \"type\": \"choropleth\"}], \"contour\": [{\"colorbar\": {\"outlinewidth\": 0, \"ticks\": \"\"}, \"colorscale\": [[0.0, \"#0d0887\"], [0.1111111111111111, \"#46039f\"], [0.2222222222222222, \"#7201a8\"], [0.3333333333333333, \"#9c179e\"], [0.4444444444444444, \"#bd3786\"], [0.5555555555555556, \"#d8576b\"], [0.6666666666666666, \"#ed7953\"], [0.7777777777777778, \"#fb9f3a\"], [0.8888888888888888, \"#fdca26\"], [1.0, \"#f0f921\"]], \"type\": \"contour\"}], \"contourcarpet\": [{\"colorbar\": {\"outlinewidth\": 0, \"ticks\": \"\"}, \"type\": \"contourcarpet\"}], \"heatmap\": [{\"colorbar\": {\"outlinewidth\": 0, \"ticks\": \"\"}, \"colorscale\": [[0.0, \"#0d0887\"], [0.1111111111111111, \"#46039f\"], [0.2222222222222222, \"#7201a8\"], [0.3333333333333333, \"#9c179e\"], [0.4444444444444444, \"#bd3786\"], [0.5555555555555556, \"#d8576b\"], [0.6666666666666666, \"#ed7953\"], [0.7777777777777778, \"#fb9f3a\"], [0.8888888888888888, \"#fdca26\"], [1.0, \"#f0f921\"]], \"type\": \"heatmap\"}], \"heatmapgl\": [{\"colorbar\": {\"outlinewidth\": 0, \"ticks\": \"\"}, \"colorscale\": [[0.0, \"#0d0887\"], [0.1111111111111111, \"#46039f\"], [0.2222222222222222, \"#7201a8\"], [0.3333333333333333, \"#9c179e\"], [0.4444444444444444, \"#bd3786\"], [0.5555555555555556, \"#d8576b\"], [0.6666666666666666, \"#ed7953\"], [0.7777777777777778, \"#fb9f3a\"], [0.8888888888888888, \"#fdca26\"], [1.0, \"#f0f921\"]], \"type\": \"heatmapgl\"}], \"histogram\": [{\"marker\": {\"colorbar\": {\"outlinewidth\": 0, \"ticks\": \"\"}}, \"type\": \"histogram\"}], \"histogram2d\": [{\"colorbar\": {\"outlinewidth\": 0, \"ticks\": \"\"}, \"colorscale\": [[0.0, \"#0d0887\"], [0.1111111111111111, \"#46039f\"], [0.2222222222222222, \"#7201a8\"], [0.3333333333333333, \"#9c179e\"], [0.4444444444444444, \"#bd3786\"], [0.5555555555555556, \"#d8576b\"], [0.6666666666666666, \"#ed7953\"], [0.7777777777777778, \"#fb9f3a\"], [0.8888888888888888, \"#fdca26\"], [1.0, \"#f0f921\"]], \"type\": \"histogram2d\"}], \"histogram2dcontour\": [{\"colorbar\": {\"outlinewidth\": 0, \"ticks\": \"\"}, \"colorscale\": [[0.0, \"#0d0887\"], [0.1111111111111111, \"#46039f\"], [0.2222222222222222, \"#7201a8\"], [0.3333333333333333, \"#9c179e\"], [0.4444444444444444, \"#bd3786\"], [0.5555555555555556, \"#d8576b\"], [0.6666666666666666, \"#ed7953\"], [0.7777777777777778, \"#fb9f3a\"], [0.8888888888888888, \"#fdca26\"], [1.0, \"#f0f921\"]], \"type\": \"histogram2dcontour\"}], \"mesh3d\": [{\"colorbar\": {\"outlinewidth\": 0, \"ticks\": \"\"}, \"type\": \"mesh3d\"}], \"parcoords\": [{\"line\": {\"colorbar\": {\"outlinewidth\": 0, \"ticks\": \"\"}}, \"type\": \"parcoords\"}], \"pie\": [{\"automargin\": true, \"type\": \"pie\"}], \"scatter\": [{\"marker\": {\"colorbar\": {\"outlinewidth\": 0, \"ticks\": \"\"}}, \"type\": \"scatter\"}], \"scatter3d\": [{\"line\": {\"colorbar\": {\"outlinewidth\": 0, \"ticks\": \"\"}}, \"marker\": {\"colorbar\": {\"outlinewidth\": 0, \"ticks\": \"\"}}, \"type\": \"scatter3d\"}], \"scattercarpet\": [{\"marker\": {\"colorbar\": {\"outlinewidth\": 0, \"ticks\": \"\"}}, \"type\": \"scattercarpet\"}], \"scattergeo\": [{\"marker\": {\"colorbar\": {\"outlinewidth\": 0, \"ticks\": \"\"}}, \"type\": \"scattergeo\"}], \"scattergl\": [{\"marker\": {\"colorbar\": {\"outlinewidth\": 0, \"ticks\": \"\"}}, \"type\": \"scattergl\"}], \"scattermapbox\": [{\"marker\": {\"colorbar\": {\"outlinewidth\": 0, \"ticks\": \"\"}}, \"type\": \"scattermapbox\"}], \"scatterpolar\": [{\"marker\": {\"colorbar\": {\"outlinewidth\": 0, \"ticks\": \"\"}}, \"type\": \"scatterpolar\"}], \"scatterpolargl\": [{\"marker\": {\"colorbar\": {\"outlinewidth\": 0, \"ticks\": \"\"}}, \"type\": \"scatterpolargl\"}], \"scatterternary\": [{\"marker\": {\"colorbar\": {\"outlinewidth\": 0, \"ticks\": \"\"}}, \"type\": \"scatterternary\"}], \"surface\": [{\"colorbar\": {\"outlinewidth\": 0, \"ticks\": \"\"}, \"colorscale\": [[0.0, \"#0d0887\"], [0.1111111111111111, \"#46039f\"], [0.2222222222222222, \"#7201a8\"], [0.3333333333333333, \"#9c179e\"], [0.4444444444444444, \"#bd3786\"], [0.5555555555555556, \"#d8576b\"], [0.6666666666666666, \"#ed7953\"], [0.7777777777777778, \"#fb9f3a\"], [0.8888888888888888, \"#fdca26\"], [1.0, \"#f0f921\"]], \"type\": \"surface\"}], \"table\": [{\"cells\": {\"fill\": {\"color\": \"#EBF0F8\"}, \"line\": {\"color\": \"white\"}}, \"header\": {\"fill\": {\"color\": \"#C8D4E3\"}, \"line\": {\"color\": \"white\"}}, \"type\": \"table\"}]}, \"layout\": {\"annotationdefaults\": {\"arrowcolor\": \"#2a3f5f\", \"arrowhead\": 0, \"arrowwidth\": 1}, \"autotypenumbers\": \"strict\", \"coloraxis\": {\"colorbar\": {\"outlinewidth\": 0, \"ticks\": \"\"}}, \"colorscale\": {\"diverging\": [[0, \"#8e0152\"], [0.1, \"#c51b7d\"], [0.2, \"#de77ae\"], [0.3, \"#f1b6da\"], [0.4, \"#fde0ef\"], [0.5, \"#f7f7f7\"], [0.6, \"#e6f5d0\"], [0.7, \"#b8e186\"], [0.8, \"#7fbc41\"], [0.9, \"#4d9221\"], [1, \"#276419\"]], \"sequential\": [[0.0, \"#0d0887\"], [0.1111111111111111, \"#46039f\"], [0.2222222222222222, \"#7201a8\"], [0.3333333333333333, \"#9c179e\"], [0.4444444444444444, \"#bd3786\"], [0.5555555555555556, \"#d8576b\"], [0.6666666666666666, \"#ed7953\"], [0.7777777777777778, \"#fb9f3a\"], [0.8888888888888888, \"#fdca26\"], [1.0, \"#f0f921\"]], \"sequentialminus\": [[0.0, \"#0d0887\"], [0.1111111111111111, \"#46039f\"], [0.2222222222222222, \"#7201a8\"], [0.3333333333333333, \"#9c179e\"], [0.4444444444444444, \"#bd3786\"], [0.5555555555555556, \"#d8576b\"], [0.6666666666666666, \"#ed7953\"], [0.7777777777777778, \"#fb9f3a\"], [0.8888888888888888, \"#fdca26\"], [1.0, \"#f0f921\"]]}, \"colorway\": [\"#636efa\", \"#EF553B\", \"#00cc96\", \"#ab63fa\", \"#FFA15A\", \"#19d3f3\", \"#FF6692\", \"#B6E880\", \"#FF97FF\", \"#FECB52\"], \"font\": {\"color\": \"#2a3f5f\"}, \"geo\": {\"bgcolor\": \"white\", \"lakecolor\": \"white\", \"landcolor\": \"#E5ECF6\", \"showlakes\": true, \"showland\": true, \"subunitcolor\": \"white\"}, \"hoverlabel\": {\"align\": \"left\"}, \"hovermode\": \"closest\", \"mapbox\": {\"style\": \"light\"}, \"paper_bgcolor\": \"white\", \"plot_bgcolor\": \"#E5ECF6\", \"polar\": {\"angularaxis\": {\"gridcolor\": \"white\", \"linecolor\": \"white\", \"ticks\": \"\"}, \"bgcolor\": \"#E5ECF6\", \"radialaxis\": {\"gridcolor\": \"white\", \"linecolor\": \"white\", \"ticks\": \"\"}}, \"scene\": {\"xaxis\": {\"backgroundcolor\": \"#E5ECF6\", \"gridcolor\": \"white\", \"gridwidth\": 2, \"linecolor\": \"white\", \"showbackground\": true, \"ticks\": \"\", \"zerolinecolor\": \"white\"}, \"yaxis\": {\"backgroundcolor\": \"#E5ECF6\", \"gridcolor\": \"white\", \"gridwidth\": 2, \"linecolor\": \"white\", \"showbackground\": true, \"ticks\": \"\", \"zerolinecolor\": \"white\"}, \"zaxis\": {\"backgroundcolor\": \"#E5ECF6\", \"gridcolor\": \"white\", \"gridwidth\": 2, \"linecolor\": \"white\", \"showbackground\": true, \"ticks\": \"\", \"zerolinecolor\": \"white\"}}, \"shapedefaults\": {\"line\": {\"color\": \"#2a3f5f\"}}, \"ternary\": {\"aaxis\": {\"gridcolor\": \"white\", \"linecolor\": \"white\", \"ticks\": \"\"}, \"baxis\": {\"gridcolor\": \"white\", \"linecolor\": \"white\", \"ticks\": \"\"}, \"bgcolor\": \"#E5ECF6\", \"caxis\": {\"gridcolor\": \"white\", \"linecolor\": \"white\", \"ticks\": \"\"}}, \"title\": {\"x\": 0.05}, \"xaxis\": {\"automargin\": true, \"gridcolor\": \"white\", \"linecolor\": \"white\", \"ticks\": \"\", \"title\": {\"standoff\": 15}, \"zerolinecolor\": \"white\", \"zerolinewidth\": 2}, \"yaxis\": {\"automargin\": true, \"gridcolor\": \"white\", \"linecolor\": \"white\", \"ticks\": \"\", \"title\": {\"standoff\": 15}, \"zerolinecolor\": \"white\", \"zerolinewidth\": 2}}}, \"title\": {\"font\": {\"color\": \"#4D5663\"}}, \"xaxis\": {\"anchor\": \"y\", \"domain\": [0.0, 0.2125], \"gridcolor\": \"#E1E5ED\", \"showgrid\": false, \"tickfont\": {\"color\": \"#4D5663\"}, \"title\": {\"font\": {\"color\": \"#4D5663\"}, \"text\": \"\"}, \"zerolinecolor\": \"#E1E5ED\"}, \"xaxis10\": {\"anchor\": \"y10\", \"domain\": [0.2625, 0.475], \"gridcolor\": \"#E1E5ED\", \"showgrid\": false, \"tickfont\": {\"color\": \"#4D5663\"}, \"title\": {\"font\": {\"color\": \"#4D5663\"}, \"text\": \"\"}, \"zerolinecolor\": \"#E1E5ED\"}, \"xaxis11\": {\"anchor\": \"y11\", \"domain\": [0.525, 0.7375], \"gridcolor\": \"#E1E5ED\", \"showgrid\": false, \"tickfont\": {\"color\": \"#4D5663\"}, \"title\": {\"font\": {\"color\": \"#4D5663\"}, \"text\": \"\"}, \"zerolinecolor\": \"#E1E5ED\"}, \"xaxis12\": {\"anchor\": \"y12\", \"domain\": [0.7875, 1.0], \"gridcolor\": \"#E1E5ED\", \"showgrid\": false, \"tickfont\": {\"color\": \"#4D5663\"}, \"title\": {\"font\": {\"color\": \"#4D5663\"}, \"text\": \"\"}, \"zerolinecolor\": \"#E1E5ED\"}, \"xaxis13\": {\"anchor\": \"y13\", \"domain\": [0.0, 0.2125], \"gridcolor\": \"#E1E5ED\", \"showgrid\": false, \"tickfont\": {\"color\": \"#4D5663\"}, \"title\": {\"font\": {\"color\": \"#4D5663\"}, \"text\": \"\"}, \"zerolinecolor\": \"#E1E5ED\"}, \"xaxis14\": {\"anchor\": \"y14\", \"domain\": [0.2625, 0.475], \"gridcolor\": \"#E1E5ED\", \"showgrid\": false, \"tickfont\": {\"color\": \"#4D5663\"}, \"title\": {\"font\": {\"color\": \"#4D5663\"}, \"text\": \"\"}, \"zerolinecolor\": \"#E1E5ED\"}, \"xaxis15\": {\"anchor\": \"y15\", \"domain\": [0.525, 0.7375], \"gridcolor\": \"#E1E5ED\", \"showgrid\": false, \"tickfont\": {\"color\": \"#4D5663\"}, \"title\": {\"font\": {\"color\": \"#4D5663\"}, \"text\": \"\"}, \"zerolinecolor\": \"#E1E5ED\"}, \"xaxis16\": {\"anchor\": \"y16\", \"domain\": [0.7875, 1.0], \"gridcolor\": \"#E1E5ED\", \"showgrid\": false, \"tickfont\": {\"color\": \"#4D5663\"}, \"title\": {\"font\": {\"color\": \"#4D5663\"}, \"text\": \"\"}, \"zerolinecolor\": \"#E1E5ED\"}, \"xaxis2\": {\"anchor\": \"y2\", \"domain\": [0.2625, 0.475], \"gridcolor\": \"#E1E5ED\", \"showgrid\": false, \"tickfont\": {\"color\": \"#4D5663\"}, \"title\": {\"font\": {\"color\": \"#4D5663\"}, \"text\": \"\"}, \"zerolinecolor\": \"#E1E5ED\"}, \"xaxis3\": {\"anchor\": \"y3\", \"domain\": [0.525, 0.7375], \"gridcolor\": \"#E1E5ED\", \"showgrid\": false, \"tickfont\": {\"color\": \"#4D5663\"}, \"title\": {\"font\": {\"color\": \"#4D5663\"}, \"text\": \"\"}, \"zerolinecolor\": \"#E1E5ED\"}, \"xaxis4\": {\"anchor\": \"y4\", \"domain\": [0.7875, 1.0], \"gridcolor\": \"#E1E5ED\", \"showgrid\": false, \"tickfont\": {\"color\": \"#4D5663\"}, \"title\": {\"font\": {\"color\": \"#4D5663\"}, \"text\": \"\"}, \"zerolinecolor\": \"#E1E5ED\"}, \"xaxis5\": {\"anchor\": \"y5\", \"domain\": [0.0, 0.2125], \"gridcolor\": \"#E1E5ED\", \"showgrid\": false, \"tickfont\": {\"color\": \"#4D5663\"}, \"title\": {\"font\": {\"color\": \"#4D5663\"}, \"text\": \"\"}, \"zerolinecolor\": \"#E1E5ED\"}, \"xaxis6\": {\"anchor\": \"y6\", \"domain\": [0.2625, 0.475], \"gridcolor\": \"#E1E5ED\", \"showgrid\": false, \"tickfont\": {\"color\": \"#4D5663\"}, \"title\": {\"font\": {\"color\": \"#4D5663\"}, \"text\": \"\"}, \"zerolinecolor\": \"#E1E5ED\"}, \"xaxis7\": {\"anchor\": \"y7\", \"domain\": [0.525, 0.7375], \"gridcolor\": \"#E1E5ED\", \"showgrid\": false, \"tickfont\": {\"color\": \"#4D5663\"}, \"title\": {\"font\": {\"color\": \"#4D5663\"}, \"text\": \"\"}, \"zerolinecolor\": \"#E1E5ED\"}, \"xaxis8\": {\"anchor\": \"y8\", \"domain\": [0.7875, 1.0], \"gridcolor\": \"#E1E5ED\", \"showgrid\": false, \"tickfont\": {\"color\": \"#4D5663\"}, \"title\": {\"font\": {\"color\": \"#4D5663\"}, \"text\": \"\"}, \"zerolinecolor\": \"#E1E5ED\"}, \"xaxis9\": {\"anchor\": \"y9\", \"domain\": [0.0, 0.2125], \"gridcolor\": \"#E1E5ED\", \"showgrid\": false, \"tickfont\": {\"color\": \"#4D5663\"}, \"title\": {\"font\": {\"color\": \"#4D5663\"}, \"text\": \"\"}, \"zerolinecolor\": \"#E1E5ED\"}, \"yaxis\": {\"anchor\": \"x\", \"domain\": [0.8025, 1.0], \"gridcolor\": \"#E1E5ED\", \"showgrid\": false, \"tickfont\": {\"color\": \"#4D5663\"}, \"title\": {\"font\": {\"color\": \"#4D5663\"}, \"text\": \"\"}, \"zerolinecolor\": \"#E1E5ED\"}, \"yaxis10\": {\"anchor\": \"x10\", \"domain\": [0.2675, 0.465], \"gridcolor\": \"#E1E5ED\", \"showgrid\": false, \"tickfont\": {\"color\": \"#4D5663\"}, \"title\": {\"font\": {\"color\": \"#4D5663\"}, \"text\": \"\"}, \"zerolinecolor\": \"#E1E5ED\"}, \"yaxis11\": {\"anchor\": \"x11\", \"domain\": [0.2675, 0.465], \"gridcolor\": \"#E1E5ED\", \"showgrid\": false, \"tickfont\": {\"color\": \"#4D5663\"}, \"title\": {\"font\": {\"color\": \"#4D5663\"}, \"text\": \"\"}, \"zerolinecolor\": \"#E1E5ED\"}, \"yaxis12\": {\"anchor\": \"x12\", \"domain\": [0.2675, 0.465], \"gridcolor\": \"#E1E5ED\", \"showgrid\": false, \"tickfont\": {\"color\": \"#4D5663\"}, \"title\": {\"font\": {\"color\": \"#4D5663\"}, \"text\": \"\"}, \"zerolinecolor\": \"#E1E5ED\"}, \"yaxis13\": {\"anchor\": \"x13\", \"domain\": [0.0, 0.1975], \"gridcolor\": \"#E1E5ED\", \"showgrid\": false, \"tickfont\": {\"color\": \"#4D5663\"}, \"title\": {\"font\": {\"color\": \"#4D5663\"}, \"text\": \"\"}, \"zerolinecolor\": \"#E1E5ED\"}, \"yaxis14\": {\"anchor\": \"x14\", \"domain\": [0.0, 0.1975], \"gridcolor\": \"#E1E5ED\", \"showgrid\": false, \"tickfont\": {\"color\": \"#4D5663\"}, \"title\": {\"font\": {\"color\": \"#4D5663\"}, \"text\": \"\"}, \"zerolinecolor\": \"#E1E5ED\"}, \"yaxis15\": {\"anchor\": \"x15\", \"domain\": [0.0, 0.1975], \"gridcolor\": \"#E1E5ED\", \"showgrid\": false, \"tickfont\": {\"color\": \"#4D5663\"}, \"title\": {\"font\": {\"color\": \"#4D5663\"}, \"text\": \"\"}, \"zerolinecolor\": \"#E1E5ED\"}, \"yaxis16\": {\"anchor\": \"x16\", \"domain\": [0.0, 0.1975], \"gridcolor\": \"#E1E5ED\", \"showgrid\": false, \"tickfont\": {\"color\": \"#4D5663\"}, \"title\": {\"font\": {\"color\": \"#4D5663\"}, \"text\": \"\"}, \"zerolinecolor\": \"#E1E5ED\"}, \"yaxis2\": {\"anchor\": \"x2\", \"domain\": [0.8025, 1.0], \"gridcolor\": \"#E1E5ED\", \"showgrid\": false, \"tickfont\": {\"color\": \"#4D5663\"}, \"title\": {\"font\": {\"color\": \"#4D5663\"}, \"text\": \"\"}, \"zerolinecolor\": \"#E1E5ED\"}, \"yaxis3\": {\"anchor\": \"x3\", \"domain\": [0.8025, 1.0], \"gridcolor\": \"#E1E5ED\", \"showgrid\": false, \"tickfont\": {\"color\": \"#4D5663\"}, \"title\": {\"font\": {\"color\": \"#4D5663\"}, \"text\": \"\"}, \"zerolinecolor\": \"#E1E5ED\"}, \"yaxis4\": {\"anchor\": \"x4\", \"domain\": [0.8025, 1.0], \"gridcolor\": \"#E1E5ED\", \"showgrid\": false, \"tickfont\": {\"color\": \"#4D5663\"}, \"title\": {\"font\": {\"color\": \"#4D5663\"}, \"text\": \"\"}, \"zerolinecolor\": \"#E1E5ED\"}, \"yaxis5\": {\"anchor\": \"x5\", \"domain\": [0.535, 0.7325], \"gridcolor\": \"#E1E5ED\", \"showgrid\": false, \"tickfont\": {\"color\": \"#4D5663\"}, \"title\": {\"font\": {\"color\": \"#4D5663\"}, \"text\": \"\"}, \"zerolinecolor\": \"#E1E5ED\"}, \"yaxis6\": {\"anchor\": \"x6\", \"domain\": [0.535, 0.7325], \"gridcolor\": \"#E1E5ED\", \"showgrid\": false, \"tickfont\": {\"color\": \"#4D5663\"}, \"title\": {\"font\": {\"color\": \"#4D5663\"}, \"text\": \"\"}, \"zerolinecolor\": \"#E1E5ED\"}, \"yaxis7\": {\"anchor\": \"x7\", \"domain\": [0.535, 0.7325], \"gridcolor\": \"#E1E5ED\", \"showgrid\": false, \"tickfont\": {\"color\": \"#4D5663\"}, \"title\": {\"font\": {\"color\": \"#4D5663\"}, \"text\": \"\"}, \"zerolinecolor\": \"#E1E5ED\"}, \"yaxis8\": {\"anchor\": \"x8\", \"domain\": [0.535, 0.7325], \"gridcolor\": \"#E1E5ED\", \"showgrid\": false, \"tickfont\": {\"color\": \"#4D5663\"}, \"title\": {\"font\": {\"color\": \"#4D5663\"}, \"text\": \"\"}, \"zerolinecolor\": \"#E1E5ED\"}, \"yaxis9\": {\"anchor\": \"x9\", \"domain\": [0.2675, 0.465], \"gridcolor\": \"#E1E5ED\", \"showgrid\": false, \"tickfont\": {\"color\": \"#4D5663\"}, \"title\": {\"font\": {\"color\": \"#4D5663\"}, \"text\": \"\"}, \"zerolinecolor\": \"#E1E5ED\"}},                        {\"showLink\": true, \"linkText\": \"Export to plot.ly\", \"plotlyServerURL\": \"https://plot.ly\", \"responsive\": true}                    ).then(function(){\n",
       "                            \n",
       "var gd = document.getElementById('5e63973c-73d2-477f-8ee8-07d1880f382e');\n",
       "var x = new MutationObserver(function (mutations, observer) {{\n",
       "        var display = window.getComputedStyle(gd).display;\n",
       "        if (!display || display === 'none') {{\n",
       "            console.log([gd, 'removed!']);\n",
       "            Plotly.purge(gd);\n",
       "            observer.disconnect();\n",
       "        }}\n",
       "}});\n",
       "\n",
       "// Listen for the removal of the full notebook cells\n",
       "var notebookContainer = gd.closest('#notebook-container');\n",
       "if (notebookContainer) {{\n",
       "    x.observe(notebookContainer, {childList: true});\n",
       "}}\n",
       "\n",
       "// Listen for the clearing of the current output cell\n",
       "var outputEl = gd.closest('.output');\n",
       "if (outputEl) {{\n",
       "    x.observe(outputEl, {childList: true});\n",
       "}}\n",
       "\n",
       "                        })                };                });            </script>        </div>"
      ]
     },
     "metadata": {},
     "output_type": "display_data"
    }
   ],
   "source": [
    "df.scatter_matrix()"
   ]
  },
  {
   "cell_type": "markdown",
   "metadata": {
    "collapsed": true
   },
   "source": [
    "# Great Job!"
   ]
  }
 ],
 "metadata": {
  "kernelspec": {
   "display_name": "Python 3",
   "language": "python",
   "name": "python3"
  },
  "language_info": {
   "codemirror_mode": {
    "name": "ipython",
    "version": 3
   },
   "file_extension": ".py",
   "mimetype": "text/x-python",
   "name": "python",
   "nbconvert_exporter": "python",
   "pygments_lexer": "ipython3",
   "version": "3.7.6"
  }
 },
 "nbformat": 4,
 "nbformat_minor": 1
}
