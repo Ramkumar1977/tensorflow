{
 "cells": [
  {
   "cell_type": "code",
   "execution_count": 1,
   "metadata": {},
   "outputs": [
    {
     "name": "stdout",
     "output_type": "stream",
     "text": [
      "     name  score1  score2\n",
      "0     Tom      30      10\n",
      "1    Dick      60      20\n",
      "2   Harry      90      50\n",
      "3  Angshu     100      80\n",
      "4    Tina      80      90\n",
      "5  Simran      50      20\n"
     ]
    }
   ],
   "source": [
    "#1.import python packages and create a Data Frame with dates\n",
    "import pandas as pd\n",
    "import numpy as np\n",
    "data = {\"name\":['Tom','Dick','Harry','Angshu','Tina','Simran'],\n",
    "       \"score1\":[30,60,90,100,80,50],\n",
    "       \"score2\":[10,20,50,80,90,20]}\n",
    "df = pd.DataFrame(data = data,columns = ['name','score1','score2'])\n",
    "print(df)"
   ]
  },
  {
   "cell_type": "code",
   "execution_count": 2,
   "metadata": {},
   "outputs": [
    {
     "name": "stdout",
     "output_type": "stream",
     "text": [
      "<class 'pandas.core.frame.DataFrame'>\n",
      "RangeIndex: 6 entries, 0 to 5\n",
      "Data columns (total 3 columns):\n",
      " #   Column  Non-Null Count  Dtype \n",
      "---  ------  --------------  ----- \n",
      " 0   name    6 non-null      object\n",
      " 1   score1  6 non-null      int64 \n",
      " 2   score2  6 non-null      int64 \n",
      "dtypes: int64(2), object(1)\n",
      "memory usage: 272.0+ bytes\n",
      "None\n"
     ]
    }
   ],
   "source": [
    "#2. Get info of Data Frame\n",
    "print(df.info())"
   ]
  },
  {
   "cell_type": "code",
   "execution_count": 3,
   "metadata": {},
   "outputs": [
    {
     "name": "stdout",
     "output_type": "stream",
     "text": [
      "           score1    score2\n",
      "count    6.000000   6.00000\n",
      "mean    68.333333  45.00000\n",
      "std     26.394444  33.91165\n",
      "min     30.000000  10.00000\n",
      "25%     52.500000  20.00000\n",
      "50%     70.000000  35.00000\n",
      "75%     87.500000  72.50000\n",
      "max    100.000000  90.00000\n"
     ]
    }
   ],
   "source": [
    "#3. Get the descriptive statistics from Data Frame\n",
    "print(df.describe())"
   ]
  },
  {
   "cell_type": "code",
   "execution_count": 4,
   "metadata": {},
   "outputs": [
    {
     "name": "stdout",
     "output_type": "stream",
     "text": [
      "68.33333333333333\n"
     ]
    }
   ],
   "source": [
    "#4. Get an average of score1\n",
    "print(df['score1'].mean())"
   ]
  },
  {
   "cell_type": "code",
   "execution_count": 5,
   "metadata": {},
   "outputs": [
    {
     "name": "stdout",
     "output_type": "stream",
     "text": [
      "minimum score1= 30\n",
      "maximum score2= 90\n"
     ]
    }
   ],
   "source": [
    "#5. Get the minimum of score1 and maximum of score2\n",
    "print('minimum score1=',df['score1'].min())\n",
    "print('maximum score2=',df['score2'].max())"
   ]
  },
  {
   "cell_type": "code",
   "execution_count": 6,
   "metadata": {},
   "outputs": [
    {
     "name": "stdout",
     "output_type": "stream",
     "text": [
      "     name  score1  score2  total\n",
      "0     Tom      30      10     40\n",
      "1    Dick      60      20     80\n",
      "2   Harry      90      50    140\n",
      "3  Angshu     100      80    180\n",
      "4    Tina      80      90    170\n",
      "5  Simran      50      20     70\n"
     ]
    }
   ],
   "source": [
    "#6. Create new column 'total' as sum of score1 and score2\n",
    "\n",
    "df['total']= df['score1']+df['score2']\n",
    "print(df)"
   ]
  },
  {
   "cell_type": "code",
   "execution_count": 7,
   "metadata": {},
   "outputs": [
    {
     "name": "stdout",
     "output_type": "stream",
     "text": [
      "     name  score1  score2  total\n",
      "2   Harry      90      50    140\n",
      "3  Angshu     100      80    180\n",
      "4    Tina      80      90    170\n"
     ]
    }
   ],
   "source": [
    "#7. Find out who all got \"total\" score of more than 100\n",
    "print(df[df['total']>100])"
   ]
  },
  {
   "cell_type": "code",
   "execution_count": 8,
   "metadata": {},
   "outputs": [
    {
     "name": "stdout",
     "output_type": "stream",
     "text": [
      "    name  score1  score2  total\n",
      "2  Harry      90      50    140\n"
     ]
    }
   ],
   "source": [
    "#8. Find out who got \"total\" score of more than 100 AND less than 80 in \"score2\"\n",
    "print(df[(df['total'] > 100) & (df['score2'] < 80)])"
   ]
  },
  {
   "cell_type": "code",
   "execution_count": 9,
   "metadata": {},
   "outputs": [
    {
     "name": "stdout",
     "output_type": "stream",
     "text": [
      "     name  score1  score2  total\n",
      "0     Tom      30      10     40\n",
      "2   Harry      90      50    140\n",
      "3  Angshu     100      80    180\n",
      "4    Tina      80      90    170\n"
     ]
    }
   ],
   "source": [
    "#9. Find out who got \"total\" score of more than 100 OR more than 50 in \"score1\"\n",
    "print(df[(df['total'] > 100) | (df['score1'] < 50)])"
   ]
  },
  {
   "cell_type": "code",
   "execution_count": 10,
   "metadata": {},
   "outputs": [
    {
     "name": "stdout",
     "output_type": "stream",
     "text": [
      "     name  score1  score2  total\n",
      "3  Angshu     100      80    180\n"
     ]
    }
   ],
   "source": [
    "#10. Find out who got maximum 'total'\n",
    "print(df[df['total'] == df['total'].max()])"
   ]
  },
  {
   "cell_type": "code",
   "execution_count": null,
   "metadata": {},
   "outputs": [],
   "source": []
  }
 ],
 "metadata": {
  "kernelspec": {
   "display_name": "Python 3",
   "language": "python",
   "name": "python3"
  },
  "language_info": {
   "codemirror_mode": {
    "name": "ipython",
    "version": 3
   },
   "file_extension": ".py",
   "mimetype": "text/x-python",
   "name": "python",
   "nbconvert_exporter": "python",
   "pygments_lexer": "ipython3",
   "version": "3.7.6"
  }
 },
 "nbformat": 4,
 "nbformat_minor": 4
}
