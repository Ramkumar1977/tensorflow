{
 "cells": [
  {
   "cell_type": "markdown",
   "metadata": {},
   "source": [
    "**CASE STUDY HEALTHCARE DATA ANALYSIS (PART 3)**"
   ]
  },
  {
   "cell_type": "markdown",
   "metadata": {},
   "source": [
    "**PART 3: Identify 10,000 Medicare patients who were involved in anomalous activities**"
   ]
  },
  {
   "cell_type": "markdown",
   "metadata": {},
   "source": [
    "**1. Importing Libraries and datasets**"
   ]
  },
  {
   "cell_type": "code",
   "execution_count": 1,
   "metadata": {},
   "outputs": [],
   "source": [
    "import pandas as pd\n",
    "import numpy as np\n",
    "import seaborn as sns\n",
    "import matplotlib.pyplot as plt\n",
    "import statsmodels.formula.api as sm\n",
    "import scipy.stats as stats\n",
    "from matplotlib.backends.backend_pdf import PdfPages\n",
    "from sklearn.model_selection import train_test_split\n",
    "from sklearn import metrics\n",
    "from sklearn.linear_model import LogisticRegression\n",
    "from statsmodels.stats.outliers_influence import variance_inflation_factor\n",
    "from patsy import dmatrices\n",
    "import pandas_profiling\n",
    "%matplotlib inline"
   ]
  },
  {
   "cell_type": "code",
   "execution_count": 2,
   "metadata": {},
   "outputs": [],
   "source": [
    "Patient_history = pd.read_csv(\"D:\\\\end_to_end\\\\Patient_history_samp.csv\")\n",
    "Review_patient = pd.read_csv(\"D:\\\\end_to_end\\\\Review_patient_history_samp.csv\")\n",
    "Review_transaction = pd.read_csv(\"D:\\\\end_to_end\\\\Rreview_transaction_coo.csv\")\n",
    "Transaction = pd.read_csv(\"D:\\\\end_to_end\\\\Transaction_coo.csv\")"
   ]
  },
  {
   "cell_type": "markdown",
   "metadata": {},
   "source": [
    "**2. Data Analysis and Data Preparation**"
   ]
  },
  {
   "cell_type": "markdown",
   "metadata": {},
   "source": [
    "    Generally for anomaly detection, we aim to learn what is most representative of ‘normal’, \n",
    "    then anything outside of some threshold can be considered an anomaly\n",
    "    \n",
    "    Review_patient_history_samp.csv and Rreview_transaction_coo.csv datasets are the details for reviewed patient.\n",
    "    Patient_history_samp.csv and Transaction_coo.csv are unclassified patient.\n",
    "    \n",
    "    We have to identify the cause/pattern for the review patient and based on that the unmarked patients needs to be marked."
   ]
  },
  {
   "cell_type": "code",
   "execution_count": 3,
   "metadata": {},
   "outputs": [
    {
     "name": "stdout",
     "output_type": "stream",
     "text": [
      "<class 'pandas.core.frame.DataFrame'>\n",
      "RangeIndex: 500000 entries, 0 to 499999\n",
      "Data columns (total 4 columns):\n",
      "id        500000 non-null int64\n",
      "age       497470 non-null object\n",
      "gender    500000 non-null object\n",
      "income    497469 non-null object\n",
      "dtypes: int64(1), object(3)\n",
      "memory usage: 15.3+ MB\n"
     ]
    }
   ],
   "source": [
    "Patient_history.info()"
   ]
  },
  {
   "cell_type": "code",
   "execution_count": 4,
   "metadata": {},
   "outputs": [
    {
     "name": "stdout",
     "output_type": "stream",
     "text": [
      "<class 'pandas.core.frame.DataFrame'>\n",
      "RangeIndex: 5000 entries, 0 to 4999\n",
      "Data columns (total 4 columns):\n",
      "id        5000 non-null int64\n",
      "age       4974 non-null object\n",
      "gender    5000 non-null object\n",
      "income    4974 non-null object\n",
      "dtypes: int64(1), object(3)\n",
      "memory usage: 156.4+ KB\n"
     ]
    }
   ],
   "source": [
    "Review_patient.info()"
   ]
  },
  {
   "cell_type": "code",
   "execution_count": 5,
   "metadata": {},
   "outputs": [
    {
     "data": {
      "text/plain": [
       "gender\n",
       "F    274512\n",
       "M    225488\n",
       "Name: id, dtype: int64"
      ]
     },
     "execution_count": 5,
     "metadata": {},
     "output_type": "execute_result"
    }
   ],
   "source": [
    "Patient_history.groupby('gender')['id'].nunique()"
   ]
  },
  {
   "cell_type": "code",
   "execution_count": 6,
   "metadata": {},
   "outputs": [
    {
     "data": {
      "text/plain": [
       "income\n",
       "16000-23999    102492\n",
       "24000-31999     75670\n",
       "32000-47999     95899\n",
       "48000+         115865\n",
       "<16000         107543\n",
       "Name: id, dtype: int64"
      ]
     },
     "execution_count": 6,
     "metadata": {},
     "output_type": "execute_result"
    }
   ],
   "source": [
    "Patient_history.groupby('income')['id'].nunique()"
   ]
  },
  {
   "cell_type": "code",
   "execution_count": 7,
   "metadata": {},
   "outputs": [
    {
     "data": {
      "text/plain": [
       "age\n",
       "65-74    219329\n",
       "75-84    128992\n",
       "85+       64581\n",
       "<65       84568\n",
       "Name: id, dtype: int64"
      ]
     },
     "execution_count": 7,
     "metadata": {},
     "output_type": "execute_result"
    }
   ],
   "source": [
    "Patient_history.groupby('age')['id'].nunique()"
   ]
  },
  {
   "cell_type": "markdown",
   "metadata": {},
   "source": [
    "    Transforming categorical variables to numerical variables (grouping) for better data preprocesing\n",
    "    and dropping the categorical variables"
   ]
  },
  {
   "cell_type": "code",
   "execution_count": 8,
   "metadata": {},
   "outputs": [],
   "source": [
    "#function to get the income group indicator\n",
    "def incometyp(patient):\n",
    "    if (patient['income']  == '16000-23999'):\n",
    "        return 2\n",
    "    elif (patient['income']  == '24000-31999'):\n",
    "        return 3\n",
    "    elif (patient['income']  == '32000-47999'):\n",
    "        return 4\n",
    "    elif (patient['income']  == '48000+'):\n",
    "        return 5\n",
    "    else:\n",
    "        return 1"
   ]
  },
  {
   "cell_type": "code",
   "execution_count": 9,
   "metadata": {},
   "outputs": [],
   "source": [
    "#function to get the age group indicator\n",
    "def agetyp(patient):\n",
    "    if (patient['age']  == '65-74'):\n",
    "        return 2\n",
    "    elif (patient['age']  == '75-84'):\n",
    "        return 3\n",
    "    elif (patient['age']  == '85+'):\n",
    "        return 4\n",
    "    else:\n",
    "        return 1"
   ]
  },
  {
   "cell_type": "code",
   "execution_count": 10,
   "metadata": {},
   "outputs": [],
   "source": [
    "#function to get the gender group indicator\n",
    "def gendertyp(patient):\n",
    "    if (patient['gender']  == 'M'):\n",
    "        return 1\n",
    "    else:\n",
    "        return 0"
   ]
  },
  {
   "cell_type": "markdown",
   "metadata": {},
   "source": [
    "    Executing the functions on review and unmarked datasets"
   ]
  },
  {
   "cell_type": "code",
   "execution_count": 11,
   "metadata": {},
   "outputs": [],
   "source": [
    "Patient_history['INCOME_GROUP'] = Patient_history.apply(incometyp, axis=1)"
   ]
  },
  {
   "cell_type": "code",
   "execution_count": 12,
   "metadata": {},
   "outputs": [],
   "source": [
    "Patient_history['AGE_GROUP'] = Patient_history.apply(agetyp, axis=1)"
   ]
  },
  {
   "cell_type": "code",
   "execution_count": 13,
   "metadata": {},
   "outputs": [],
   "source": [
    "Patient_history['GENDER_GROUP'] = Patient_history.apply(gendertyp, axis=1)"
   ]
  },
  {
   "cell_type": "code",
   "execution_count": 14,
   "metadata": {},
   "outputs": [],
   "source": [
    "Review_patient['INCOME_GROUP'] = Review_patient.apply(incometyp, axis=1)"
   ]
  },
  {
   "cell_type": "code",
   "execution_count": 15,
   "metadata": {},
   "outputs": [],
   "source": [
    "Review_patient['AGE_GROUP'] = Review_patient.apply(agetyp, axis=1)"
   ]
  },
  {
   "cell_type": "code",
   "execution_count": 16,
   "metadata": {},
   "outputs": [],
   "source": [
    "Review_patient['GENDER_GROUP'] = Review_patient.apply(gendertyp, axis=1)"
   ]
  },
  {
   "cell_type": "code",
   "execution_count": 17,
   "metadata": {},
   "outputs": [],
   "source": [
    "Patient_history.drop(['age', 'gender', 'income'], axis =1 , inplace = True)"
   ]
  },
  {
   "cell_type": "code",
   "execution_count": 18,
   "metadata": {},
   "outputs": [],
   "source": [
    "Review_patient.drop(['age', 'gender', 'income'], axis =1 , inplace = True)"
   ]
  },
  {
   "cell_type": "markdown",
   "metadata": {},
   "source": [
    "    Create dummies to count and sum the number of procedure used by patient\n",
    "    Grouping them at patient level - so that there are 1 row per patient for the transaction dataset"
   ]
  },
  {
   "cell_type": "markdown",
   "metadata": {},
   "source": [
    "    For full dataset - unlabeled"
   ]
  },
  {
   "cell_type": "code",
   "execution_count": 19,
   "metadata": {},
   "outputs": [],
   "source": [
    "col_dummies=pd.get_dummies(Transaction['global_proc_id'], prefix='proc')\n",
    "Transaction_cat = pd.concat([Transaction, col_dummies], axis=1)\n",
    "Transaction_cat.drop( 'global_proc_id', axis = 1, inplace = True )"
   ]
  },
  {
   "cell_type": "code",
   "execution_count": 20,
   "metadata": {},
   "outputs": [],
   "source": [
    "Transaction_grouped = pd.DataFrame(Transaction_cat[['id', 'count','proc_1' ,'proc_2' ,'proc_3' ,'proc_4' ,'proc_5' ,\n",
    "                                                    'proc_6' ,'proc_7' ,'proc_8' ,'proc_9' ,'proc_10' ,'proc_11' ,\n",
    "                                                    'proc_12' ,'proc_13' ,'proc_14' ,'proc_15' ,'proc_16' ,'proc_17' ,\n",
    "                                                    'proc_18' ,'proc_19' ,'proc_20' ,'proc_21' ,'proc_22' ,'proc_23' ,\n",
    "                                                    'proc_24' ,'proc_25' ,'proc_26' ,'proc_27' ,'proc_28' ,'proc_29' ,\n",
    "                                                    'proc_30' ,'proc_31' ,'proc_32' ,'proc_33' ,'proc_34' ,'proc_35' ,\n",
    "                                                    'proc_36' ,'proc_37' ,'proc_38' ,'proc_39' ,'proc_40' ,'proc_41' ,\n",
    "                                                    'proc_42' ,'proc_43' ,'proc_44' ,'proc_45' ,'proc_46' ,'proc_47' ,\n",
    "                                                    'proc_48' ,'proc_49' ,'proc_50' ,'proc_51' ,'proc_52' ,'proc_53' ,\n",
    "                                                    'proc_54' ,'proc_55' ,'proc_56' ,'proc_57' ,'proc_58' ,'proc_59' ,\n",
    "                                                    'proc_60' ,'proc_61' ,'proc_62' ,'proc_63' ,'proc_64' ,'proc_65' ,\n",
    "                                                    'proc_66' ,'proc_67' ,'proc_68' ,'proc_69' ,'proc_70' ,'proc_71' ,\n",
    "                                                    'proc_72' ,'proc_73' ,'proc_74' ,'proc_75' ,'proc_76' ,'proc_77' ,\n",
    "                                                    'proc_78' ,'proc_79' ,'proc_80' ,'proc_81' ,'proc_82' ,'proc_83' ,\n",
    "                                                    'proc_84' ,'proc_85' ,'proc_86' ,'proc_87' ,'proc_88' ,'proc_89' ,\n",
    "                                                    'proc_90' ,'proc_91' ,'proc_92' ,'proc_93' ,'proc_94' ,'proc_95' ,\n",
    "                                                    'proc_96' ,'proc_97' ,'proc_98' ,'proc_99' ,'proc_100' ,'proc_101' ,\n",
    "                                                    'proc_102' ,'proc_103' ,'proc_104' ,'proc_105' ,'proc_106' ,\n",
    "                                                    'proc_107' ,'proc_108' ,'proc_109' ,'proc_110' ,'proc_111' ,\n",
    "                                                    'proc_112' ,'proc_113' ,'proc_114' ,'proc_115' ,'proc_116' ,\n",
    "                                                    'proc_117' ,'proc_118' ,'proc_119' ,'proc_120' ,'proc_121' ,\n",
    "                                                    'proc_122' ,'proc_123' ,'proc_124' ,'proc_125' ,'proc_126' ,\n",
    "                                                    'proc_127' ,'proc_128' ,'proc_129' ,'proc_130']].groupby(['id']).agg({'count':'sum',\n",
    "                                                                                         'proc_1' :'sum' ,\n",
    "                                                                                         'proc_2' :'sum' ,\n",
    "                                                                                         'proc_3' :'sum' ,\n",
    "                                                                                         'proc_4' :'sum' ,\n",
    "                                                                                         'proc_5' :'sum' ,\n",
    "                                                                                         'proc_6' :'sum' ,\n",
    "                                                                                         'proc_7' :'sum' ,\n",
    "                                                                                         'proc_8' :'sum' ,\n",
    "                                                                                         'proc_9' :'sum' ,\n",
    "                                                                                         'proc_10' :'sum' ,\n",
    "                                                                                         'proc_11' :'sum' ,\n",
    "                                                                                         'proc_12' :'sum' ,\n",
    "                                                                                         'proc_13' :'sum' ,\n",
    "                                                                                         'proc_14' :'sum' ,\n",
    "                                                                                         'proc_15' :'sum' ,\n",
    "                                                                                         'proc_16' :'sum' ,\n",
    "                                                                                         'proc_17' :'sum' ,\n",
    "                                                                                         'proc_18' :'sum' ,\n",
    "                                                                                         'proc_19' :'sum' ,\n",
    "                                                                                         'proc_20' :'sum' ,\n",
    "                                                                                         'proc_21' :'sum' ,\n",
    "                                                                                         'proc_22' :'sum' ,\n",
    "                                                                                         'proc_23' :'sum' ,\n",
    "                                                                                         'proc_24' :'sum' ,\n",
    "                                                                                         'proc_25' :'sum' ,\n",
    "                                                                                         'proc_26' :'sum' ,\n",
    "                                                                                         'proc_27' :'sum' ,\n",
    "                                                                                         'proc_28' :'sum' ,\n",
    "                                                                                         'proc_29' :'sum' ,\n",
    "                                                                                         'proc_30' :'sum' ,\n",
    "                                                                                         'proc_31' :'sum' ,\n",
    "                                                                                         'proc_32' :'sum' ,\n",
    "                                                                                         'proc_33' :'sum' ,\n",
    "                                                                                         'proc_34' :'sum' ,\n",
    "                                                                                         'proc_35' :'sum' ,\n",
    "                                                                                         'proc_36' :'sum' ,\n",
    "                                                                                         'proc_37' :'sum' ,\n",
    "                                                                                         'proc_38' :'sum' ,\n",
    "                                                                                         'proc_39' :'sum' ,\n",
    "                                                                                         'proc_40' :'sum' ,\n",
    "                                                                                         'proc_41' :'sum' ,\n",
    "                                                                                         'proc_42' :'sum' ,\n",
    "                                                                                         'proc_43' :'sum' ,\n",
    "                                                                                         'proc_44' :'sum' ,\n",
    "                                                                                         'proc_45' :'sum' ,\n",
    "                                                                                         'proc_46' :'sum' ,\n",
    "                                                                                         'proc_47' :'sum' ,\n",
    "                                                                                         'proc_48' :'sum' ,\n",
    "                                                                                         'proc_49' :'sum' ,\n",
    "                                                                                         'proc_50' :'sum' ,\n",
    "                                                                                         'proc_51' :'sum' ,\n",
    "                                                                                         'proc_52' :'sum' ,\n",
    "                                                                                         'proc_53' :'sum' ,\n",
    "                                                                                         'proc_54' :'sum' ,\n",
    "                                                                                         'proc_55' :'sum' ,\n",
    "                                                                                         'proc_56' :'sum' ,\n",
    "                                                                                         'proc_57' :'sum' ,\n",
    "                                                                                         'proc_58' :'sum' ,\n",
    "                                                                                         'proc_59' :'sum' ,\n",
    "                                                                                         'proc_60' :'sum' ,\n",
    "                                                                                         'proc_61' :'sum' ,\n",
    "                                                                                         'proc_62' :'sum' ,\n",
    "                                                                                         'proc_63' :'sum' ,\n",
    "                                                                                         'proc_64' :'sum' ,\n",
    "                                                                                         'proc_65' :'sum' ,\n",
    "                                                                                         'proc_66' :'sum' ,\n",
    "                                                                                         'proc_67' :'sum' ,\n",
    "                                                                                         'proc_68' :'sum' ,\n",
    "                                                                                         'proc_69' :'sum' ,\n",
    "                                                                                         'proc_70' :'sum' ,\n",
    "                                                                                         'proc_71' :'sum' ,\n",
    "                                                                                         'proc_72' :'sum' ,\n",
    "                                                                                         'proc_73' :'sum' ,\n",
    "                                                                                         'proc_74' :'sum' ,\n",
    "                                                                                         'proc_75' :'sum' ,\n",
    "                                                                                         'proc_76' :'sum' ,\n",
    "                                                                                         'proc_77' :'sum' ,\n",
    "                                                                                         'proc_78' :'sum' ,\n",
    "                                                                                         'proc_79' :'sum' ,\n",
    "                                                                                         'proc_80' :'sum' ,\n",
    "                                                                                         'proc_81' :'sum' ,\n",
    "                                                                                         'proc_82' :'sum' ,\n",
    "                                                                                         'proc_83' :'sum' ,\n",
    "                                                                                         'proc_84' :'sum' ,\n",
    "                                                                                         'proc_85' :'sum' ,\n",
    "                                                                                         'proc_86' :'sum' ,\n",
    "                                                                                         'proc_87' :'sum' ,\n",
    "                                                                                         'proc_88' :'sum' ,\n",
    "                                                                                         'proc_89' :'sum' ,\n",
    "                                                                                         'proc_90' :'sum' ,\n",
    "                                                                                         'proc_91' :'sum' ,\n",
    "                                                                                         'proc_92' :'sum' ,\n",
    "                                                                                         'proc_93' :'sum' ,\n",
    "                                                                                         'proc_94' :'sum' ,\n",
    "                                                                                         'proc_95' :'sum' ,\n",
    "                                                                                         'proc_96' :'sum' ,\n",
    "                                                                                         'proc_97' :'sum' ,\n",
    "                                                                                         'proc_98' :'sum' ,\n",
    "                                                                                         'proc_99' :'sum' ,\n",
    "                                                                                         'proc_100' :'sum' ,\n",
    "                                                                                         'proc_101' :'sum' ,\n",
    "                                                                                         'proc_102' :'sum' ,\n",
    "                                                                                         'proc_103' :'sum' ,\n",
    "                                                                                         'proc_104' :'sum' ,\n",
    "                                                                                         'proc_105' :'sum' ,\n",
    "                                                                                         'proc_106' :'sum' ,\n",
    "                                                                                         'proc_107' :'sum' ,\n",
    "                                                                                         'proc_108' :'sum' ,\n",
    "                                                                                         'proc_109' :'sum' ,\n",
    "                                                                                         'proc_110' :'sum' ,\n",
    "                                                                                         'proc_111' :'sum' ,\n",
    "                                                                                         'proc_112' :'sum' ,\n",
    "                                                                                         'proc_113' :'sum' ,\n",
    "                                                                                         'proc_114' :'sum' ,\n",
    "                                                                                         'proc_115' :'sum' ,\n",
    "                                                                                         'proc_116' :'sum' ,\n",
    "                                                                                         'proc_117' :'sum' ,\n",
    "                                                                                         'proc_118' :'sum' ,\n",
    "                                                                                         'proc_119' :'sum' ,\n",
    "                                                                                         'proc_120' :'sum' ,\n",
    "                                                                                         'proc_121' :'sum' ,\n",
    "                                                                                         'proc_122' :'sum' ,\n",
    "                                                                                         'proc_123' :'sum' ,\n",
    "                                                                                         'proc_124' :'sum' ,\n",
    "                                                                                         'proc_125' :'sum' ,\n",
    "                                                                                         'proc_126' :'sum' ,\n",
    "                                                                                         'proc_127' :'sum' ,\n",
    "                                                                                         'proc_128' :'sum' ,\n",
    "                                                                                         'proc_129' :'sum' ,\n",
    "                                                                                         'proc_130' :'sum' }))"
   ]
  },
  {
   "cell_type": "code",
   "execution_count": 21,
   "metadata": {},
   "outputs": [
    {
     "data": {
      "text/html": [
       "<div>\n",
       "<style scoped>\n",
       "    .dataframe tbody tr th:only-of-type {\n",
       "        vertical-align: middle;\n",
       "    }\n",
       "\n",
       "    .dataframe tbody tr th {\n",
       "        vertical-align: top;\n",
       "    }\n",
       "\n",
       "    .dataframe thead th {\n",
       "        text-align: right;\n",
       "    }\n",
       "</style>\n",
       "<table border=\"1\" class=\"dataframe\">\n",
       "  <thead>\n",
       "    <tr style=\"text-align: right;\">\n",
       "      <th></th>\n",
       "      <th>count</th>\n",
       "      <th>proc_1</th>\n",
       "      <th>proc_2</th>\n",
       "      <th>proc_3</th>\n",
       "      <th>proc_4</th>\n",
       "      <th>proc_5</th>\n",
       "      <th>proc_6</th>\n",
       "      <th>proc_7</th>\n",
       "      <th>proc_8</th>\n",
       "      <th>proc_9</th>\n",
       "      <th>...</th>\n",
       "      <th>proc_121</th>\n",
       "      <th>proc_122</th>\n",
       "      <th>proc_123</th>\n",
       "      <th>proc_124</th>\n",
       "      <th>proc_125</th>\n",
       "      <th>proc_126</th>\n",
       "      <th>proc_127</th>\n",
       "      <th>proc_128</th>\n",
       "      <th>proc_129</th>\n",
       "      <th>proc_130</th>\n",
       "    </tr>\n",
       "    <tr>\n",
       "      <th>id</th>\n",
       "      <th></th>\n",
       "      <th></th>\n",
       "      <th></th>\n",
       "      <th></th>\n",
       "      <th></th>\n",
       "      <th></th>\n",
       "      <th></th>\n",
       "      <th></th>\n",
       "      <th></th>\n",
       "      <th></th>\n",
       "      <th></th>\n",
       "      <th></th>\n",
       "      <th></th>\n",
       "      <th></th>\n",
       "      <th></th>\n",
       "      <th></th>\n",
       "      <th></th>\n",
       "      <th></th>\n",
       "      <th></th>\n",
       "      <th></th>\n",
       "      <th></th>\n",
       "    </tr>\n",
       "  </thead>\n",
       "  <tbody>\n",
       "    <tr>\n",
       "      <th>7561</th>\n",
       "      <td>2</td>\n",
       "      <td>0</td>\n",
       "      <td>0</td>\n",
       "      <td>0</td>\n",
       "      <td>0</td>\n",
       "      <td>0</td>\n",
       "      <td>0</td>\n",
       "      <td>0</td>\n",
       "      <td>0</td>\n",
       "      <td>0</td>\n",
       "      <td>...</td>\n",
       "      <td>0</td>\n",
       "      <td>0</td>\n",
       "      <td>0</td>\n",
       "      <td>0</td>\n",
       "      <td>0</td>\n",
       "      <td>0</td>\n",
       "      <td>0</td>\n",
       "      <td>0</td>\n",
       "      <td>0</td>\n",
       "      <td>0</td>\n",
       "    </tr>\n",
       "    <tr>\n",
       "      <th>7619</th>\n",
       "      <td>2</td>\n",
       "      <td>0</td>\n",
       "      <td>0</td>\n",
       "      <td>0</td>\n",
       "      <td>0</td>\n",
       "      <td>0</td>\n",
       "      <td>0</td>\n",
       "      <td>0</td>\n",
       "      <td>0</td>\n",
       "      <td>0</td>\n",
       "      <td>...</td>\n",
       "      <td>0</td>\n",
       "      <td>0</td>\n",
       "      <td>0</td>\n",
       "      <td>0</td>\n",
       "      <td>0</td>\n",
       "      <td>0</td>\n",
       "      <td>0</td>\n",
       "      <td>0</td>\n",
       "      <td>0</td>\n",
       "      <td>0</td>\n",
       "    </tr>\n",
       "    <tr>\n",
       "      <th>10479</th>\n",
       "      <td>4</td>\n",
       "      <td>0</td>\n",
       "      <td>1</td>\n",
       "      <td>0</td>\n",
       "      <td>0</td>\n",
       "      <td>0</td>\n",
       "      <td>0</td>\n",
       "      <td>0</td>\n",
       "      <td>0</td>\n",
       "      <td>1</td>\n",
       "      <td>...</td>\n",
       "      <td>0</td>\n",
       "      <td>0</td>\n",
       "      <td>0</td>\n",
       "      <td>0</td>\n",
       "      <td>0</td>\n",
       "      <td>0</td>\n",
       "      <td>0</td>\n",
       "      <td>0</td>\n",
       "      <td>0</td>\n",
       "      <td>0</td>\n",
       "    </tr>\n",
       "    <tr>\n",
       "      <th>13515</th>\n",
       "      <td>2</td>\n",
       "      <td>0</td>\n",
       "      <td>0</td>\n",
       "      <td>0</td>\n",
       "      <td>0</td>\n",
       "      <td>0</td>\n",
       "      <td>0</td>\n",
       "      <td>0</td>\n",
       "      <td>0</td>\n",
       "      <td>0</td>\n",
       "      <td>...</td>\n",
       "      <td>0</td>\n",
       "      <td>0</td>\n",
       "      <td>0</td>\n",
       "      <td>0</td>\n",
       "      <td>0</td>\n",
       "      <td>0</td>\n",
       "      <td>0</td>\n",
       "      <td>0</td>\n",
       "      <td>0</td>\n",
       "      <td>0</td>\n",
       "    </tr>\n",
       "    <tr>\n",
       "      <th>15213</th>\n",
       "      <td>6</td>\n",
       "      <td>0</td>\n",
       "      <td>0</td>\n",
       "      <td>0</td>\n",
       "      <td>0</td>\n",
       "      <td>0</td>\n",
       "      <td>0</td>\n",
       "      <td>0</td>\n",
       "      <td>0</td>\n",
       "      <td>0</td>\n",
       "      <td>...</td>\n",
       "      <td>0</td>\n",
       "      <td>0</td>\n",
       "      <td>0</td>\n",
       "      <td>0</td>\n",
       "      <td>0</td>\n",
       "      <td>0</td>\n",
       "      <td>0</td>\n",
       "      <td>0</td>\n",
       "      <td>0</td>\n",
       "      <td>0</td>\n",
       "    </tr>\n",
       "  </tbody>\n",
       "</table>\n",
       "<p>5 rows × 131 columns</p>\n",
       "</div>"
      ],
      "text/plain": [
       "       count  proc_1  proc_2  proc_3  proc_4  proc_5  proc_6  proc_7  proc_8  \\\n",
       "id                                                                             \n",
       "7561       2       0       0       0       0       0       0       0       0   \n",
       "7619       2       0       0       0       0       0       0       0       0   \n",
       "10479      4       0       1       0       0       0       0       0       0   \n",
       "13515      2       0       0       0       0       0       0       0       0   \n",
       "15213      6       0       0       0       0       0       0       0       0   \n",
       "\n",
       "       proc_9  ...  proc_121  proc_122  proc_123  proc_124  proc_125  \\\n",
       "id             ...                                                     \n",
       "7561        0  ...         0         0         0         0         0   \n",
       "7619        0  ...         0         0         0         0         0   \n",
       "10479       1  ...         0         0         0         0         0   \n",
       "13515       0  ...         0         0         0         0         0   \n",
       "15213       0  ...         0         0         0         0         0   \n",
       "\n",
       "       proc_126  proc_127  proc_128  proc_129  proc_130  \n",
       "id                                                       \n",
       "7561          0         0         0         0         0  \n",
       "7619          0         0         0         0         0  \n",
       "10479         0         0         0         0         0  \n",
       "13515         0         0         0         0         0  \n",
       "15213         0         0         0         0         0  \n",
       "\n",
       "[5 rows x 131 columns]"
      ]
     },
     "execution_count": 21,
     "metadata": {},
     "output_type": "execute_result"
    }
   ],
   "source": [
    "Transaction_grouped.head()"
   ]
  },
  {
   "cell_type": "code",
   "execution_count": 22,
   "metadata": {},
   "outputs": [],
   "source": [
    "Transaction_grouped = Transaction_grouped.reset_index()"
   ]
  },
  {
   "cell_type": "code",
   "execution_count": 23,
   "metadata": {},
   "outputs": [],
   "source": [
    "full_dataset = Transaction_grouped.merge(Patient_history,on='id', how='left')"
   ]
  },
  {
   "cell_type": "markdown",
   "metadata": {},
   "source": [
    "    For review dataset - labeled"
   ]
  },
  {
   "cell_type": "code",
   "execution_count": 24,
   "metadata": {},
   "outputs": [],
   "source": [
    "col_dummies=pd.get_dummies(Review_transaction['global_proc_id'], prefix='proc')\n",
    "Review_transaction_cat = pd.concat([Review_transaction, col_dummies], axis=1)\n",
    "Review_transaction_cat.drop( 'global_proc_id', axis = 1, inplace = True )"
   ]
  },
  {
   "cell_type": "code",
   "execution_count": 25,
   "metadata": {},
   "outputs": [],
   "source": [
    "Review_transaction_grouped = pd.DataFrame(Review_transaction_cat[['id', 'count','proc_1' ,'proc_2' ,'proc_3' ,'proc_5' ,\n",
    "                                                    'proc_6' ,'proc_7' ,'proc_8' ,'proc_9' ,'proc_10' ,'proc_11' ,\n",
    "                                                    'proc_12' ,'proc_13' ,'proc_14' ,'proc_15' ,'proc_16' ,'proc_17' ,\n",
    "                                                    'proc_18' ,'proc_19' ,'proc_20' ,'proc_21' ,'proc_22' ,'proc_23' ,\n",
    "                                                    'proc_24' ,'proc_25' ,'proc_26' ,'proc_27' ,'proc_28' ,'proc_29' ,\n",
    "                                                    'proc_30' ,'proc_31' ,'proc_32' ,'proc_33' ,'proc_34' ,'proc_35' ,\n",
    "                                                    'proc_36' ,'proc_37' ,'proc_38' ,'proc_39' ,'proc_40' ,'proc_41' ,\n",
    "                                                    'proc_42' ,'proc_43' ,'proc_44' ,'proc_45' ,'proc_46' ,'proc_47' ,\n",
    "                                                    'proc_48' ,'proc_49' ,'proc_50' ,'proc_51' ,'proc_52' ,'proc_53' ,\n",
    "                                                    'proc_54' ,'proc_55' ,'proc_56' ,'proc_57' ,'proc_58' ,'proc_59' ,\n",
    "                                                    'proc_60' ,'proc_61' ,'proc_62' ,'proc_63' ,'proc_64' ,'proc_65' ,\n",
    "                                                    'proc_66' ,'proc_67' ,'proc_68' ,'proc_69' ,'proc_70' ,'proc_71' ,\n",
    "                                                    'proc_72' ,'proc_73' ,'proc_74' ,'proc_75' ,'proc_76' ,'proc_77' ,\n",
    "                                                    'proc_78' ,'proc_79' ,'proc_80' ,'proc_81' ,'proc_82' ,'proc_83' ,\n",
    "                                                    'proc_84' ,'proc_85' ,'proc_86' ,'proc_87' ,'proc_88' ,'proc_89' ,\n",
    "                                                    'proc_90' ,'proc_91' ,'proc_92' ,'proc_93' ,'proc_94' ,'proc_95' ,\n",
    "                                                    'proc_96' ,'proc_97' ,'proc_98' ,'proc_99' ,'proc_100' ,'proc_101' ,\n",
    "                                                    'proc_102' ,'proc_103' ,'proc_104' ,'proc_105' ,'proc_106' ,\n",
    "                                                    'proc_107' ,'proc_108' ,'proc_109' ,'proc_110' ,'proc_111' ,\n",
    "                                                    'proc_112' ,'proc_113' ,'proc_114' ,'proc_115' ,'proc_116' ,\n",
    "                                                    'proc_117' ,'proc_118' ,'proc_119' ,'proc_120' ,'proc_121' ,\n",
    "                                                    'proc_122' ,'proc_123' ,'proc_124' ,'proc_125' ,'proc_126' ,\n",
    "                                                    'proc_127' ,'proc_128' ,'proc_129' ,'proc_130']].groupby(['id']).agg({'count':'sum',\n",
    "                                                                                         'proc_1' :'sum' ,\n",
    "                                                                                         'proc_2' :'sum' ,\n",
    "                                                                                         'proc_3' :'sum' ,\n",
    "                                                                                         'proc_5' :'sum' ,\n",
    "                                                                                         'proc_6' :'sum' ,\n",
    "                                                                                         'proc_7' :'sum' ,\n",
    "                                                                                         'proc_8' :'sum' ,\n",
    "                                                                                         'proc_9' :'sum' ,\n",
    "                                                                                         'proc_10' :'sum' ,\n",
    "                                                                                         'proc_11' :'sum' ,\n",
    "                                                                                         'proc_12' :'sum' ,\n",
    "                                                                                         'proc_13' :'sum' ,\n",
    "                                                                                         'proc_14' :'sum' ,\n",
    "                                                                                         'proc_15' :'sum' ,\n",
    "                                                                                         'proc_16' :'sum' ,\n",
    "                                                                                         'proc_17' :'sum' ,\n",
    "                                                                                         'proc_18' :'sum' ,\n",
    "                                                                                         'proc_19' :'sum' ,\n",
    "                                                                                         'proc_20' :'sum' ,\n",
    "                                                                                         'proc_21' :'sum' ,\n",
    "                                                                                         'proc_22' :'sum' ,\n",
    "                                                                                         'proc_23' :'sum' ,\n",
    "                                                                                         'proc_24' :'sum' ,\n",
    "                                                                                         'proc_25' :'sum' ,\n",
    "                                                                                         'proc_26' :'sum' ,\n",
    "                                                                                         'proc_27' :'sum' ,\n",
    "                                                                                         'proc_28' :'sum' ,\n",
    "                                                                                         'proc_29' :'sum' ,\n",
    "                                                                                         'proc_30' :'sum' ,\n",
    "                                                                                         'proc_31' :'sum' ,\n",
    "                                                                                         'proc_32' :'sum' ,\n",
    "                                                                                         'proc_33' :'sum' ,\n",
    "                                                                                         'proc_34' :'sum' ,\n",
    "                                                                                         'proc_35' :'sum' ,\n",
    "                                                                                         'proc_36' :'sum' ,\n",
    "                                                                                         'proc_37' :'sum' ,\n",
    "                                                                                         'proc_38' :'sum' ,\n",
    "                                                                                         'proc_39' :'sum' ,\n",
    "                                                                                         'proc_40' :'sum' ,\n",
    "                                                                                         'proc_41' :'sum' ,\n",
    "                                                                                         'proc_42' :'sum' ,\n",
    "                                                                                         'proc_43' :'sum' ,\n",
    "                                                                                         'proc_44' :'sum' ,\n",
    "                                                                                         'proc_45' :'sum' ,\n",
    "                                                                                         'proc_46' :'sum' ,\n",
    "                                                                                         'proc_47' :'sum' ,\n",
    "                                                                                         'proc_48' :'sum' ,\n",
    "                                                                                         'proc_49' :'sum' ,\n",
    "                                                                                         'proc_50' :'sum' ,\n",
    "                                                                                         'proc_51' :'sum' ,\n",
    "                                                                                         'proc_52' :'sum' ,\n",
    "                                                                                         'proc_53' :'sum' ,\n",
    "                                                                                         'proc_54' :'sum' ,\n",
    "                                                                                         'proc_55' :'sum' ,\n",
    "                                                                                         'proc_56' :'sum' ,\n",
    "                                                                                         'proc_57' :'sum' ,\n",
    "                                                                                         'proc_58' :'sum' ,\n",
    "                                                                                         'proc_59' :'sum' ,\n",
    "                                                                                         'proc_60' :'sum' ,\n",
    "                                                                                         'proc_61' :'sum' ,\n",
    "                                                                                         'proc_62' :'sum' ,\n",
    "                                                                                         'proc_63' :'sum' ,\n",
    "                                                                                         'proc_64' :'sum' ,\n",
    "                                                                                         'proc_65' :'sum' ,\n",
    "                                                                                         'proc_66' :'sum' ,\n",
    "                                                                                         'proc_67' :'sum' ,\n",
    "                                                                                         'proc_68' :'sum' ,\n",
    "                                                                                         'proc_69' :'sum' ,\n",
    "                                                                                         'proc_70' :'sum' ,\n",
    "                                                                                         'proc_71' :'sum' ,\n",
    "                                                                                         'proc_72' :'sum' ,\n",
    "                                                                                         'proc_73' :'sum' ,\n",
    "                                                                                         'proc_74' :'sum' ,\n",
    "                                                                                         'proc_75' :'sum' ,\n",
    "                                                                                         'proc_76' :'sum' ,\n",
    "                                                                                         'proc_77' :'sum' ,\n",
    "                                                                                         'proc_78' :'sum' ,\n",
    "                                                                                         'proc_79' :'sum' ,\n",
    "                                                                                         'proc_80' :'sum' ,\n",
    "                                                                                         'proc_81' :'sum' ,\n",
    "                                                                                         'proc_82' :'sum' ,\n",
    "                                                                                         'proc_83' :'sum' ,\n",
    "                                                                                         'proc_84' :'sum' ,\n",
    "                                                                                         'proc_85' :'sum' ,\n",
    "                                                                                         'proc_86' :'sum' ,\n",
    "                                                                                         'proc_87' :'sum' ,\n",
    "                                                                                         'proc_88' :'sum' ,\n",
    "                                                                                         'proc_89' :'sum' ,\n",
    "                                                                                         'proc_90' :'sum' ,\n",
    "                                                                                         'proc_91' :'sum' ,\n",
    "                                                                                         'proc_92' :'sum' ,\n",
    "                                                                                         'proc_93' :'sum' ,\n",
    "                                                                                         'proc_94' :'sum' ,\n",
    "                                                                                         'proc_95' :'sum' ,\n",
    "                                                                                         'proc_96' :'sum' ,\n",
    "                                                                                         'proc_97' :'sum' ,\n",
    "                                                                                         'proc_98' :'sum' ,\n",
    "                                                                                         'proc_99' :'sum' ,\n",
    "                                                                                         'proc_100' :'sum' ,\n",
    "                                                                                         'proc_101' :'sum' ,\n",
    "                                                                                         'proc_102' :'sum' ,\n",
    "                                                                                         'proc_103' :'sum' ,\n",
    "                                                                                         'proc_104' :'sum' ,\n",
    "                                                                                         'proc_105' :'sum' ,\n",
    "                                                                                         'proc_106' :'sum' ,\n",
    "                                                                                         'proc_107' :'sum' ,\n",
    "                                                                                         'proc_108' :'sum' ,\n",
    "                                                                                         'proc_109' :'sum' ,\n",
    "                                                                                         'proc_110' :'sum' ,\n",
    "                                                                                         'proc_111' :'sum' ,\n",
    "                                                                                         'proc_112' :'sum' ,\n",
    "                                                                                         'proc_113' :'sum' ,\n",
    "                                                                                         'proc_114' :'sum' ,\n",
    "                                                                                         'proc_115' :'sum' ,\n",
    "                                                                                         'proc_116' :'sum' ,\n",
    "                                                                                         'proc_117' :'sum' ,\n",
    "                                                                                         'proc_118' :'sum' ,\n",
    "                                                                                         'proc_119' :'sum' ,\n",
    "                                                                                         'proc_120' :'sum' ,\n",
    "                                                                                         'proc_121' :'sum' ,\n",
    "                                                                                         'proc_122' :'sum' ,\n",
    "                                                                                         'proc_123' :'sum' ,\n",
    "                                                                                         'proc_124' :'sum' ,\n",
    "                                                                                         'proc_125' :'sum' ,\n",
    "                                                                                         'proc_126' :'sum' ,\n",
    "                                                                                         'proc_127' :'sum' ,\n",
    "                                                                                         'proc_128' :'sum' ,\n",
    "                                                                                         'proc_129' :'sum' ,\n",
    "                                                                                         'proc_130' :'sum' }))"
   ]
  },
  {
   "cell_type": "code",
   "execution_count": 26,
   "metadata": {},
   "outputs": [],
   "source": [
    "Review_transaction_grouped = Review_transaction_grouped.reset_index()"
   ]
  },
  {
   "cell_type": "code",
   "execution_count": 27,
   "metadata": {},
   "outputs": [],
   "source": [
    "# Review dataset do not have patient opting for proc 4 - hence creating a dummy column with all zeros\n",
    "Review_transaction_grouped['proc_4'] = 0"
   ]
  },
  {
   "cell_type": "code",
   "execution_count": 28,
   "metadata": {},
   "outputs": [],
   "source": [
    "review_dataset = Review_transaction_grouped.merge(Review_patient,on='id', how='left')"
   ]
  },
  {
   "cell_type": "markdown",
   "metadata": {},
   "source": [
    "    Adding flag to the review and unmarked datasets"
   ]
  },
  {
   "cell_type": "code",
   "execution_count": 29,
   "metadata": {},
   "outputs": [],
   "source": [
    "full_dataset['REVIEW_IND'] = 0"
   ]
  },
  {
   "cell_type": "code",
   "execution_count": 30,
   "metadata": {},
   "outputs": [],
   "source": [
    "review_dataset['REVIEW_IND'] = 1"
   ]
  },
  {
   "cell_type": "markdown",
   "metadata": {},
   "source": [
    "    Aligning the data type - int64 to all dummy variables"
   ]
  },
  {
   "cell_type": "code",
   "execution_count": 31,
   "metadata": {},
   "outputs": [],
   "source": [
    "list1 = (full_dataset.filter(like='proc').columns)"
   ]
  },
  {
   "cell_type": "code",
   "execution_count": 32,
   "metadata": {},
   "outputs": [],
   "source": [
    "full_dataset[list1] = full_dataset[list1].astype('int64')\n",
    "review_dataset[list1] = full_dataset[list1].astype('int64')"
   ]
  },
  {
   "cell_type": "code",
   "execution_count": 33,
   "metadata": {},
   "outputs": [],
   "source": [
    "# Dropping columns having null values\n",
    "full_dataset.dropna(axis=0, how='any', inplace = True)"
   ]
  },
  {
   "cell_type": "code",
   "execution_count": 34,
   "metadata": {},
   "outputs": [],
   "source": [
    "full_dataset[['INCOME_GROUP', 'AGE_GROUP', 'GENDER_GROUP']] = full_dataset[['INCOME_GROUP', 'AGE_GROUP', 'GENDER_GROUP']].astype('int64')"
   ]
  },
  {
   "cell_type": "code",
   "execution_count": 35,
   "metadata": {},
   "outputs": [
    {
     "name": "stdout",
     "output_type": "stream",
     "text": [
      "<class 'pandas.core.frame.DataFrame'>\n",
      "Int64Index: 500000 entries, 0 to 504999\n",
      "Columns: 136 entries, id to REVIEW_IND\n",
      "dtypes: int64(136)\n",
      "memory usage: 522.6 MB\n"
     ]
    }
   ],
   "source": [
    "full_dataset.info()"
   ]
  },
  {
   "cell_type": "code",
   "execution_count": 36,
   "metadata": {},
   "outputs": [
    {
     "name": "stdout",
     "output_type": "stream",
     "text": [
      "<class 'pandas.core.frame.DataFrame'>\n",
      "Int64Index: 5000 entries, 0 to 4999\n",
      "Columns: 136 entries, id to REVIEW_IND\n",
      "dtypes: int64(136)\n",
      "memory usage: 5.2 MB\n"
     ]
    }
   ],
   "source": [
    "review_dataset.info()"
   ]
  },
  {
   "cell_type": "code",
   "execution_count": 37,
   "metadata": {},
   "outputs": [
    {
     "data": {
      "text/plain": [
       "500000"
      ]
     },
     "execution_count": 37,
     "metadata": {},
     "output_type": "execute_result"
    }
   ],
   "source": [
    "full_dataset['id'].count()"
   ]
  },
  {
   "cell_type": "code",
   "execution_count": 38,
   "metadata": {},
   "outputs": [
    {
     "data": {
      "text/plain": [
       "5000"
      ]
     },
     "execution_count": 38,
     "metadata": {},
     "output_type": "execute_result"
    }
   ],
   "source": [
    "review_dataset['id'].count()"
   ]
  },
  {
   "cell_type": "markdown",
   "metadata": {},
   "source": [
    "    So at this moment we have 500000 unmarked patients and 5000 marked (review) patient.\n",
    "    This is an imbalanced data.\n",
    "    \n",
    "    We have to create a model by sampling out data from unmarked dataset and overfitting the review patient to get\n",
    "    a balanced data."
   ]
  },
  {
   "cell_type": "markdown",
   "metadata": {},
   "source": [
    "**3. Using SMOTE (overfitting) and Random forest to perform association analysis**"
   ]
  },
  {
   "cell_type": "code",
   "execution_count": 39,
   "metadata": {},
   "outputs": [],
   "source": [
    "sample_dataset = full_dataset.sample(frac=0.1)"
   ]
  },
  {
   "cell_type": "code",
   "execution_count": 40,
   "metadata": {},
   "outputs": [
    {
     "name": "stderr",
     "output_type": "stream",
     "text": [
      "C:\\Users\\RAMKUMAR\\Documents\\Python Scripts\\lib\\site-packages\\ipykernel_launcher.py:2: FutureWarning: Sorting because non-concatenation axis is not aligned. A future version\n",
      "of pandas will change to not sort by default.\n",
      "\n",
      "To accept the future behavior, pass 'sort=False'.\n",
      "\n",
      "To retain the current behavior and silence the warning, pass 'sort=True'.\n",
      "\n",
      "  \n"
     ]
    }
   ],
   "source": [
    "frames = [sample_dataset, review_dataset]\n",
    "train_df = pd.concat(frames)"
   ]
  },
  {
   "cell_type": "code",
   "execution_count": 41,
   "metadata": {},
   "outputs": [],
   "source": [
    "cols = train_df.columns.difference( ['REVIEW_IND', 'id'] )"
   ]
  },
  {
   "cell_type": "code",
   "execution_count": 42,
   "metadata": {},
   "outputs": [],
   "source": [
    "df_train = train_df[cols ]\n",
    "df_test = full_dataset[cols ]"
   ]
  },
  {
   "cell_type": "code",
   "execution_count": 43,
   "metadata": {},
   "outputs": [],
   "source": [
    "from sklearn.model_selection import train_test_split\n",
    "\n",
    "train_X, test_X, train_y, test_y = train_test_split( train_df[cols ],\n",
    "                                                  train_df['REVIEW_IND'],\n",
    "                                                  test_size = 0.2,\n",
    "                                                  random_state = 42 )"
   ]
  },
  {
   "cell_type": "markdown",
   "metadata": {},
   "source": [
    "    Overfitting the data using SMOTE"
   ]
  },
  {
   "cell_type": "code",
   "execution_count": 44,
   "metadata": {},
   "outputs": [
    {
     "name": "stderr",
     "output_type": "stream",
     "text": [
      "C:\\Users\\RAMKUMAR\\Documents\\Python Scripts\\lib\\site-packages\\sklearn\\utils\\deprecation.py:144: FutureWarning: The sklearn.neighbors.base module is  deprecated in version 0.22 and will be removed in version 0.24. The corresponding classes / functions should instead be imported from sklearn.neighbors. Anything that cannot be imported from sklearn.neighbors is now part of the private API.\n",
      "  warnings.warn(message, FutureWarning)\n",
      "C:\\Users\\RAMKUMAR\\Documents\\Python Scripts\\lib\\site-packages\\sklearn\\utils\\deprecation.py:144: FutureWarning: The sklearn.ensemble.bagging module is  deprecated in version 0.22 and will be removed in version 0.24. The corresponding classes / functions should instead be imported from sklearn.ensemble. Anything that cannot be imported from sklearn.ensemble is now part of the private API.\n",
      "  warnings.warn(message, FutureWarning)\n",
      "C:\\Users\\RAMKUMAR\\Documents\\Python Scripts\\lib\\site-packages\\sklearn\\utils\\deprecation.py:144: FutureWarning: The sklearn.ensemble.base module is  deprecated in version 0.22 and will be removed in version 0.24. The corresponding classes / functions should instead be imported from sklearn.ensemble. Anything that cannot be imported from sklearn.ensemble is now part of the private API.\n",
      "  warnings.warn(message, FutureWarning)\n",
      "C:\\Users\\RAMKUMAR\\Documents\\Python Scripts\\lib\\site-packages\\sklearn\\utils\\deprecation.py:144: FutureWarning: The sklearn.ensemble.forest module is  deprecated in version 0.22 and will be removed in version 0.24. The corresponding classes / functions should instead be imported from sklearn.ensemble. Anything that cannot be imported from sklearn.ensemble is now part of the private API.\n",
      "  warnings.warn(message, FutureWarning)\n",
      "Using TensorFlow backend.\n",
      "C:\\Users\\RAMKUMAR\\Documents\\Python Scripts\\lib\\site-packages\\sklearn\\utils\\deprecation.py:144: FutureWarning: The sklearn.utils.testing module is  deprecated in version 0.22 and will be removed in version 0.24. The corresponding classes / functions should instead be imported from sklearn.utils. Anything that cannot be imported from sklearn.utils is now part of the private API.\n",
      "  warnings.warn(message, FutureWarning)\n",
      "C:\\Users\\RAMKUMAR\\Documents\\Python Scripts\\lib\\site-packages\\sklearn\\utils\\deprecation.py:144: FutureWarning: The sklearn.metrics.classification module is  deprecated in version 0.22 and will be removed in version 0.24. The corresponding classes / functions should instead be imported from sklearn.metrics. Anything that cannot be imported from sklearn.metrics is now part of the private API.\n",
      "  warnings.warn(message, FutureWarning)\n"
     ]
    }
   ],
   "source": [
    "import imblearn "
   ]
  },
  {
   "cell_type": "code",
   "execution_count": 45,
   "metadata": {},
   "outputs": [],
   "source": [
    "from imblearn import under_sampling \n",
    "from imblearn import over_sampling\n",
    "from imblearn.over_sampling import SMOTE"
   ]
  },
  {
   "cell_type": "code",
   "execution_count": 46,
   "metadata": {},
   "outputs": [
    {
     "name": "stderr",
     "output_type": "stream",
     "text": [
      "C:\\Users\\RAMKUMAR\\Documents\\Python Scripts\\lib\\site-packages\\sklearn\\utils\\deprecation.py:87: FutureWarning: Function safe_indexing is deprecated; safe_indexing is deprecated in version 0.22 and will be removed in version 0.24.\n",
      "  warnings.warn(msg, category=FutureWarning)\n"
     ]
    }
   ],
   "source": [
    "from imblearn.over_sampling import SMOTE\n",
    "sm = SMOTE(random_state=123, ratio = 0.5)\n",
    "x_train_res, y_train_res = sm.fit_sample(train_X,  train_y)"
   ]
  },
  {
   "cell_type": "markdown",
   "metadata": {},
   "source": [
    "    Using RANDOM Forest to get the final model and getting the prediction probabilities"
   ]
  },
  {
   "cell_type": "code",
   "execution_count": 47,
   "metadata": {},
   "outputs": [],
   "source": [
    "from sklearn.ensemble import RandomForestClassifier"
   ]
  },
  {
   "cell_type": "code",
   "execution_count": 48,
   "metadata": {},
   "outputs": [],
   "source": [
    "df_test  = full_dataset.copy()"
   ]
  },
  {
   "cell_type": "code",
   "execution_count": 49,
   "metadata": {},
   "outputs": [
    {
     "data": {
      "text/html": [
       "<div>\n",
       "<style scoped>\n",
       "    .dataframe tbody tr th:only-of-type {\n",
       "        vertical-align: middle;\n",
       "    }\n",
       "\n",
       "    .dataframe tbody tr th {\n",
       "        vertical-align: top;\n",
       "    }\n",
       "\n",
       "    .dataframe thead th {\n",
       "        text-align: right;\n",
       "    }\n",
       "</style>\n",
       "<table border=\"1\" class=\"dataframe\">\n",
       "  <thead>\n",
       "    <tr style=\"text-align: right;\">\n",
       "      <th></th>\n",
       "      <th>AGE_GROUP</th>\n",
       "      <th>GENDER_GROUP</th>\n",
       "      <th>INCOME_GROUP</th>\n",
       "      <th>count</th>\n",
       "      <th>proc_1</th>\n",
       "      <th>proc_10</th>\n",
       "      <th>proc_100</th>\n",
       "      <th>proc_101</th>\n",
       "      <th>proc_102</th>\n",
       "      <th>proc_103</th>\n",
       "      <th>...</th>\n",
       "      <th>proc_90</th>\n",
       "      <th>proc_91</th>\n",
       "      <th>proc_92</th>\n",
       "      <th>proc_93</th>\n",
       "      <th>proc_94</th>\n",
       "      <th>proc_95</th>\n",
       "      <th>proc_96</th>\n",
       "      <th>proc_97</th>\n",
       "      <th>proc_98</th>\n",
       "      <th>proc_99</th>\n",
       "    </tr>\n",
       "  </thead>\n",
       "  <tbody>\n",
       "    <tr>\n",
       "      <th>0</th>\n",
       "      <td>2</td>\n",
       "      <td>1</td>\n",
       "      <td>5</td>\n",
       "      <td>2</td>\n",
       "      <td>0</td>\n",
       "      <td>0</td>\n",
       "      <td>0</td>\n",
       "      <td>0</td>\n",
       "      <td>0</td>\n",
       "      <td>0</td>\n",
       "      <td>...</td>\n",
       "      <td>0</td>\n",
       "      <td>0</td>\n",
       "      <td>0</td>\n",
       "      <td>0</td>\n",
       "      <td>0</td>\n",
       "      <td>0</td>\n",
       "      <td>0</td>\n",
       "      <td>0</td>\n",
       "      <td>0</td>\n",
       "      <td>0</td>\n",
       "    </tr>\n",
       "    <tr>\n",
       "      <th>1</th>\n",
       "      <td>1</td>\n",
       "      <td>0</td>\n",
       "      <td>5</td>\n",
       "      <td>2</td>\n",
       "      <td>0</td>\n",
       "      <td>0</td>\n",
       "      <td>0</td>\n",
       "      <td>0</td>\n",
       "      <td>0</td>\n",
       "      <td>0</td>\n",
       "      <td>...</td>\n",
       "      <td>0</td>\n",
       "      <td>0</td>\n",
       "      <td>0</td>\n",
       "      <td>0</td>\n",
       "      <td>0</td>\n",
       "      <td>0</td>\n",
       "      <td>0</td>\n",
       "      <td>0</td>\n",
       "      <td>0</td>\n",
       "      <td>0</td>\n",
       "    </tr>\n",
       "    <tr>\n",
       "      <th>2</th>\n",
       "      <td>2</td>\n",
       "      <td>0</td>\n",
       "      <td>1</td>\n",
       "      <td>4</td>\n",
       "      <td>0</td>\n",
       "      <td>0</td>\n",
       "      <td>0</td>\n",
       "      <td>0</td>\n",
       "      <td>0</td>\n",
       "      <td>0</td>\n",
       "      <td>...</td>\n",
       "      <td>0</td>\n",
       "      <td>0</td>\n",
       "      <td>0</td>\n",
       "      <td>0</td>\n",
       "      <td>0</td>\n",
       "      <td>0</td>\n",
       "      <td>0</td>\n",
       "      <td>0</td>\n",
       "      <td>0</td>\n",
       "      <td>0</td>\n",
       "    </tr>\n",
       "    <tr>\n",
       "      <th>3</th>\n",
       "      <td>3</td>\n",
       "      <td>1</td>\n",
       "      <td>1</td>\n",
       "      <td>2</td>\n",
       "      <td>0</td>\n",
       "      <td>0</td>\n",
       "      <td>0</td>\n",
       "      <td>0</td>\n",
       "      <td>0</td>\n",
       "      <td>0</td>\n",
       "      <td>...</td>\n",
       "      <td>0</td>\n",
       "      <td>0</td>\n",
       "      <td>0</td>\n",
       "      <td>0</td>\n",
       "      <td>0</td>\n",
       "      <td>0</td>\n",
       "      <td>0</td>\n",
       "      <td>0</td>\n",
       "      <td>0</td>\n",
       "      <td>0</td>\n",
       "    </tr>\n",
       "    <tr>\n",
       "      <th>4</th>\n",
       "      <td>4</td>\n",
       "      <td>1</td>\n",
       "      <td>4</td>\n",
       "      <td>6</td>\n",
       "      <td>0</td>\n",
       "      <td>0</td>\n",
       "      <td>0</td>\n",
       "      <td>0</td>\n",
       "      <td>0</td>\n",
       "      <td>0</td>\n",
       "      <td>...</td>\n",
       "      <td>0</td>\n",
       "      <td>0</td>\n",
       "      <td>0</td>\n",
       "      <td>0</td>\n",
       "      <td>0</td>\n",
       "      <td>0</td>\n",
       "      <td>0</td>\n",
       "      <td>0</td>\n",
       "      <td>0</td>\n",
       "      <td>1</td>\n",
       "    </tr>\n",
       "  </tbody>\n",
       "</table>\n",
       "<p>5 rows × 134 columns</p>\n",
       "</div>"
      ],
      "text/plain": [
       "   AGE_GROUP  GENDER_GROUP  INCOME_GROUP  count  proc_1  proc_10  proc_100  \\\n",
       "0          2             1             5      2       0        0         0   \n",
       "1          1             0             5      2       0        0         0   \n",
       "2          2             0             1      4       0        0         0   \n",
       "3          3             1             1      2       0        0         0   \n",
       "4          4             1             4      6       0        0         0   \n",
       "\n",
       "   proc_101  proc_102  proc_103  ...  proc_90  proc_91  proc_92  proc_93  \\\n",
       "0         0         0         0  ...        0        0        0        0   \n",
       "1         0         0         0  ...        0        0        0        0   \n",
       "2         0         0         0  ...        0        0        0        0   \n",
       "3         0         0         0  ...        0        0        0        0   \n",
       "4         0         0         0  ...        0        0        0        0   \n",
       "\n",
       "   proc_94  proc_95  proc_96  proc_97  proc_98  proc_99  \n",
       "0        0        0        0        0        0        0  \n",
       "1        0        0        0        0        0        0  \n",
       "2        0        0        0        0        0        0  \n",
       "3        0        0        0        0        0        0  \n",
       "4        0        0        0        0        0        1  \n",
       "\n",
       "[5 rows x 134 columns]"
      ]
     },
     "execution_count": 49,
     "metadata": {},
     "output_type": "execute_result"
    }
   ],
   "source": [
    "df_test[cols].head()"
   ]
  },
  {
   "cell_type": "markdown",
   "metadata": {},
   "source": [
    "    Using the sampled overfitted data as train dataset and the complete unmarked data as test dataset"
   ]
  },
  {
   "cell_type": "code",
   "execution_count": 50,
   "metadata": {},
   "outputs": [
    {
     "data": {
      "text/plain": [
       "array([0, 0, 0, ..., 0, 0, 0], dtype=int64)"
      ]
     },
     "metadata": {},
     "output_type": "display_data"
    }
   ],
   "source": [
    "clf = RandomForestClassifier(n_estimators=50 )\n",
    "clf.fit(x_train_res, y_train_res)\n",
    "\n",
    "# Make predictions for train and test dataset\n",
    "predictions_train = clf.predict(x_train_res)\n",
    "probs_train = clf.predict_proba(x_train_res)\n",
    "predictions = clf.predict(df_test[cols])\n",
    "probs = clf.predict_proba(df_test[cols])\n",
    "display(predictions)"
   ]
  },
  {
   "cell_type": "code",
   "execution_count": 51,
   "metadata": {},
   "outputs": [
    {
     "name": "stdout",
     "output_type": "stream",
     "text": [
      "Accuracy:  0.9578633432746297\n"
     ]
    }
   ],
   "source": [
    "score = clf.score(x_train_res, y_train_res)\n",
    "print(\"Accuracy: \", score)"
   ]
  },
  {
   "cell_type": "code",
   "execution_count": 52,
   "metadata": {},
   "outputs": [
    {
     "data": {
      "text/plain": [
       "Text(0.5, 15.0, 'Predicted label')"
      ]
     },
     "execution_count": 52,
     "metadata": {},
     "output_type": "execute_result"
    },
    {
     "data": {
      "image/png": "[encoded data removed]",
      "text/plain": [
       "<Figure size 432x288 with 2 Axes>"
      ]
     },
     "metadata": {
      "needs_background": "light"
     },
     "output_type": "display_data"
    }
   ],
   "source": [
    "tree_cm = metrics.confusion_matrix( predictions_train,\n",
    "                                 y_train_res, [1,0] )\n",
    "sns.heatmap(tree_cm, annot=True,\n",
    "         fmt='.2f',\n",
    "         xticklabels = [\"Review\", \"No Review\"] , yticklabels = [\"Review\", \"No Review\"] )\n",
    "\n",
    "plt.ylabel('True label')\n",
    "plt.xlabel('Predicted label')"
   ]
  },
  {
   "cell_type": "markdown",
   "metadata": {},
   "source": [
    "    This is more accurately identifying the REVIEW =1 indicator\n",
    "    19705/20006 = 98%"
   ]
  },
  {
   "cell_type": "code",
   "execution_count": 53,
   "metadata": {},
   "outputs": [],
   "source": [
    "#Predicting the test cases\n",
    "predictions_train_df = pd.DataFrame( { 'actual':  y_train_res,\n",
    "                            'predicted': predictions_train } )"
   ]
  },
  {
   "cell_type": "code",
   "execution_count": 54,
   "metadata": {},
   "outputs": [],
   "source": [
    "probs_train_df = pd.DataFrame(probs_train)"
   ]
  },
  {
   "cell_type": "code",
   "execution_count": 55,
   "metadata": {},
   "outputs": [],
   "source": [
    "train_pred = pd.concat( [predictions_train_df, probs_train_df], axis = 1 )"
   ]
  },
  {
   "cell_type": "code",
   "execution_count": 56,
   "metadata": {},
   "outputs": [],
   "source": [
    "train_pred.columns = ['actual', 'predicted', 'Review_0', 'Review_1']"
   ]
  },
  {
   "cell_type": "code",
   "execution_count": 57,
   "metadata": {},
   "outputs": [
    {
     "data": {
      "text/html": [
       "<div>\n",
       "<style scoped>\n",
       "    .dataframe tbody tr th:only-of-type {\n",
       "        vertical-align: middle;\n",
       "    }\n",
       "\n",
       "    .dataframe tbody tr th {\n",
       "        vertical-align: top;\n",
       "    }\n",
       "\n",
       "    .dataframe thead th {\n",
       "        text-align: right;\n",
       "    }\n",
       "</style>\n",
       "<table border=\"1\" class=\"dataframe\">\n",
       "  <thead>\n",
       "    <tr style=\"text-align: right;\">\n",
       "      <th></th>\n",
       "      <th>actual</th>\n",
       "      <th>predicted</th>\n",
       "      <th>Review_0</th>\n",
       "      <th>Review_1</th>\n",
       "    </tr>\n",
       "  </thead>\n",
       "  <tbody>\n",
       "    <tr>\n",
       "      <th>0</th>\n",
       "      <td>0</td>\n",
       "      <td>0</td>\n",
       "      <td>0.960000</td>\n",
       "      <td>0.040000</td>\n",
       "    </tr>\n",
       "    <tr>\n",
       "      <th>1</th>\n",
       "      <td>0</td>\n",
       "      <td>1</td>\n",
       "      <td>0.479213</td>\n",
       "      <td>0.520787</td>\n",
       "    </tr>\n",
       "    <tr>\n",
       "      <th>2</th>\n",
       "      <td>1</td>\n",
       "      <td>1</td>\n",
       "      <td>0.366000</td>\n",
       "      <td>0.634000</td>\n",
       "    </tr>\n",
       "    <tr>\n",
       "      <th>3</th>\n",
       "      <td>0</td>\n",
       "      <td>0</td>\n",
       "      <td>0.940000</td>\n",
       "      <td>0.060000</td>\n",
       "    </tr>\n",
       "    <tr>\n",
       "      <th>4</th>\n",
       "      <td>0</td>\n",
       "      <td>0</td>\n",
       "      <td>0.500515</td>\n",
       "      <td>0.499485</td>\n",
       "    </tr>\n",
       "    <tr>\n",
       "      <th>5</th>\n",
       "      <td>1</td>\n",
       "      <td>1</td>\n",
       "      <td>0.240000</td>\n",
       "      <td>0.760000</td>\n",
       "    </tr>\n",
       "    <tr>\n",
       "      <th>6</th>\n",
       "      <td>0</td>\n",
       "      <td>0</td>\n",
       "      <td>0.920000</td>\n",
       "      <td>0.080000</td>\n",
       "    </tr>\n",
       "    <tr>\n",
       "      <th>7</th>\n",
       "      <td>0</td>\n",
       "      <td>0</td>\n",
       "      <td>0.840000</td>\n",
       "      <td>0.160000</td>\n",
       "    </tr>\n",
       "    <tr>\n",
       "      <th>8</th>\n",
       "      <td>0</td>\n",
       "      <td>0</td>\n",
       "      <td>0.720000</td>\n",
       "      <td>0.280000</td>\n",
       "    </tr>\n",
       "    <tr>\n",
       "      <th>9</th>\n",
       "      <td>1</td>\n",
       "      <td>1</td>\n",
       "      <td>0.100000</td>\n",
       "      <td>0.900000</td>\n",
       "    </tr>\n",
       "  </tbody>\n",
       "</table>\n",
       "</div>"
      ],
      "text/plain": [
       "   actual  predicted  Review_0  Review_1\n",
       "0       0          0  0.960000  0.040000\n",
       "1       0          1  0.479213  0.520787\n",
       "2       1          1  0.366000  0.634000\n",
       "3       0          0  0.940000  0.060000\n",
       "4       0          0  0.500515  0.499485\n",
       "5       1          1  0.240000  0.760000\n",
       "6       0          0  0.920000  0.080000\n",
       "7       0          0  0.840000  0.160000\n",
       "8       0          0  0.720000  0.280000\n",
       "9       1          1  0.100000  0.900000"
      ]
     },
     "execution_count": 57,
     "metadata": {},
     "output_type": "execute_result"
    }
   ],
   "source": [
    "train_pred.head(10)"
   ]
  },
  {
   "cell_type": "code",
   "execution_count": 58,
   "metadata": {},
   "outputs": [
    {
     "name": "stdout",
     "output_type": "stream",
     "text": [
      "Accuracy:  0.9132\n"
     ]
    }
   ],
   "source": [
    "#Score for test Datasets\n",
    "score = clf.score(df_test[cols], df_test[\"REVIEW_IND\"])\n",
    "print(\"Accuracy: \", score)"
   ]
  },
  {
   "cell_type": "markdown",
   "metadata": {},
   "source": [
    "    There are 13787 patient who are showing as anomolous -REVIEW_ID predicted as 1 (having prediction prob > 0.5)\n",
    "    This is close to our objective of finding 10000 patient"
   ]
  },
  {
   "cell_type": "markdown",
   "metadata": {},
   "source": [
    "    Adding test probabilities with test datasets"
   ]
  },
  {
   "cell_type": "code",
   "execution_count": 59,
   "metadata": {},
   "outputs": [],
   "source": [
    "df_test[\"prob_true\"] = probs[:, 1]"
   ]
  },
  {
   "cell_type": "code",
   "execution_count": 60,
   "metadata": {},
   "outputs": [
    {
     "data": {
      "text/plain": [
       "43400"
      ]
     },
     "execution_count": 60,
     "metadata": {},
     "output_type": "execute_result"
    }
   ],
   "source": [
    "df_anomalous= df_test[df_test[\"prob_true\"] > 0.5 ]\n",
    "df_anomalous[\"prob_true\"].count()"
   ]
  },
  {
   "cell_type": "code",
   "execution_count": 61,
   "metadata": {},
   "outputs": [
    {
     "data": {
      "text/html": [
       "<div>\n",
       "<style scoped>\n",
       "    .dataframe tbody tr th:only-of-type {\n",
       "        vertical-align: middle;\n",
       "    }\n",
       "\n",
       "    .dataframe tbody tr th {\n",
       "        vertical-align: top;\n",
       "    }\n",
       "\n",
       "    .dataframe thead th {\n",
       "        text-align: right;\n",
       "    }\n",
       "</style>\n",
       "<table border=\"1\" class=\"dataframe\">\n",
       "  <thead>\n",
       "    <tr style=\"text-align: right;\">\n",
       "      <th></th>\n",
       "      <th>id</th>\n",
       "      <th>count</th>\n",
       "      <th>proc_1</th>\n",
       "      <th>proc_2</th>\n",
       "      <th>proc_3</th>\n",
       "      <th>proc_4</th>\n",
       "      <th>proc_5</th>\n",
       "      <th>proc_6</th>\n",
       "      <th>proc_7</th>\n",
       "      <th>proc_8</th>\n",
       "      <th>...</th>\n",
       "      <th>proc_126</th>\n",
       "      <th>proc_127</th>\n",
       "      <th>proc_128</th>\n",
       "      <th>proc_129</th>\n",
       "      <th>proc_130</th>\n",
       "      <th>INCOME_GROUP</th>\n",
       "      <th>AGE_GROUP</th>\n",
       "      <th>GENDER_GROUP</th>\n",
       "      <th>REVIEW_IND</th>\n",
       "      <th>prob_true</th>\n",
       "    </tr>\n",
       "  </thead>\n",
       "  <tbody>\n",
       "    <tr>\n",
       "      <th>6</th>\n",
       "      <td>19106</td>\n",
       "      <td>3</td>\n",
       "      <td>0</td>\n",
       "      <td>0</td>\n",
       "      <td>0</td>\n",
       "      <td>0</td>\n",
       "      <td>0</td>\n",
       "      <td>0</td>\n",
       "      <td>0</td>\n",
       "      <td>0</td>\n",
       "      <td>...</td>\n",
       "      <td>0</td>\n",
       "      <td>0</td>\n",
       "      <td>0</td>\n",
       "      <td>0</td>\n",
       "      <td>0</td>\n",
       "      <td>4</td>\n",
       "      <td>3</td>\n",
       "      <td>0</td>\n",
       "      <td>0</td>\n",
       "      <td>0.74</td>\n",
       "    </tr>\n",
       "    <tr>\n",
       "      <th>14</th>\n",
       "      <td>28504</td>\n",
       "      <td>3</td>\n",
       "      <td>0</td>\n",
       "      <td>0</td>\n",
       "      <td>0</td>\n",
       "      <td>0</td>\n",
       "      <td>0</td>\n",
       "      <td>0</td>\n",
       "      <td>0</td>\n",
       "      <td>0</td>\n",
       "      <td>...</td>\n",
       "      <td>0</td>\n",
       "      <td>0</td>\n",
       "      <td>0</td>\n",
       "      <td>0</td>\n",
       "      <td>0</td>\n",
       "      <td>1</td>\n",
       "      <td>3</td>\n",
       "      <td>0</td>\n",
       "      <td>0</td>\n",
       "      <td>0.52</td>\n",
       "    </tr>\n",
       "    <tr>\n",
       "      <th>23</th>\n",
       "      <td>39897</td>\n",
       "      <td>4</td>\n",
       "      <td>0</td>\n",
       "      <td>0</td>\n",
       "      <td>0</td>\n",
       "      <td>0</td>\n",
       "      <td>0</td>\n",
       "      <td>0</td>\n",
       "      <td>0</td>\n",
       "      <td>0</td>\n",
       "      <td>...</td>\n",
       "      <td>0</td>\n",
       "      <td>0</td>\n",
       "      <td>0</td>\n",
       "      <td>0</td>\n",
       "      <td>0</td>\n",
       "      <td>2</td>\n",
       "      <td>2</td>\n",
       "      <td>1</td>\n",
       "      <td>0</td>\n",
       "      <td>0.62</td>\n",
       "    </tr>\n",
       "    <tr>\n",
       "      <th>26</th>\n",
       "      <td>41908</td>\n",
       "      <td>4</td>\n",
       "      <td>0</td>\n",
       "      <td>0</td>\n",
       "      <td>0</td>\n",
       "      <td>0</td>\n",
       "      <td>0</td>\n",
       "      <td>0</td>\n",
       "      <td>0</td>\n",
       "      <td>0</td>\n",
       "      <td>...</td>\n",
       "      <td>0</td>\n",
       "      <td>0</td>\n",
       "      <td>0</td>\n",
       "      <td>0</td>\n",
       "      <td>0</td>\n",
       "      <td>1</td>\n",
       "      <td>2</td>\n",
       "      <td>0</td>\n",
       "      <td>0</td>\n",
       "      <td>0.60</td>\n",
       "    </tr>\n",
       "    <tr>\n",
       "      <th>30</th>\n",
       "      <td>47601</td>\n",
       "      <td>2</td>\n",
       "      <td>0</td>\n",
       "      <td>0</td>\n",
       "      <td>0</td>\n",
       "      <td>0</td>\n",
       "      <td>0</td>\n",
       "      <td>0</td>\n",
       "      <td>0</td>\n",
       "      <td>0</td>\n",
       "      <td>...</td>\n",
       "      <td>0</td>\n",
       "      <td>0</td>\n",
       "      <td>0</td>\n",
       "      <td>0</td>\n",
       "      <td>0</td>\n",
       "      <td>1</td>\n",
       "      <td>4</td>\n",
       "      <td>0</td>\n",
       "      <td>0</td>\n",
       "      <td>0.76</td>\n",
       "    </tr>\n",
       "  </tbody>\n",
       "</table>\n",
       "<p>5 rows × 137 columns</p>\n",
       "</div>"
      ],
      "text/plain": [
       "       id  count  proc_1  proc_2  proc_3  proc_4  proc_5  proc_6  proc_7  \\\n",
       "6   19106      3       0       0       0       0       0       0       0   \n",
       "14  28504      3       0       0       0       0       0       0       0   \n",
       "23  39897      4       0       0       0       0       0       0       0   \n",
       "26  41908      4       0       0       0       0       0       0       0   \n",
       "30  47601      2       0       0       0       0       0       0       0   \n",
       "\n",
       "    proc_8  ...  proc_126  proc_127  proc_128  proc_129  proc_130  \\\n",
       "6        0  ...         0         0         0         0         0   \n",
       "14       0  ...         0         0         0         0         0   \n",
       "23       0  ...         0         0         0         0         0   \n",
       "26       0  ...         0         0         0         0         0   \n",
       "30       0  ...         0         0         0         0         0   \n",
       "\n",
       "    INCOME_GROUP  AGE_GROUP  GENDER_GROUP  REVIEW_IND  prob_true  \n",
       "6              4          3             0           0       0.74  \n",
       "14             1          3             0           0       0.52  \n",
       "23             2          2             1           0       0.62  \n",
       "26             1          2             0           0       0.60  \n",
       "30             1          4             0           0       0.76  \n",
       "\n",
       "[5 rows x 137 columns]"
      ]
     },
     "execution_count": 61,
     "metadata": {},
     "output_type": "execute_result"
    }
   ],
   "source": [
    "df_anomalous.head()"
   ]
  },
  {
   "cell_type": "code",
   "execution_count": 62,
   "metadata": {},
   "outputs": [],
   "source": [
    "df_id_review = df_anomalous['id']"
   ]
  },
  {
   "cell_type": "markdown",
   "metadata": {},
   "source": [
    "**4. Refining the anomalous patient by K-MEANS Cluster Analysis**"
   ]
  },
  {
   "cell_type": "markdown",
   "metadata": {},
   "source": [
    "    Using clustering determine the anomany -\n",
    "    \n",
    "    A. Feature importance - Using Recursive feature elmination (top 20).\n",
    "    B. Using K-MEANS to check if the anomolous participants are clustering together.\n",
    "\n",
    "    KMEANS gives us the suspicious/anamalous patients are getting clustered at Cluster 0 (highest) and Cluster 2 (next high)"
   ]
  },
  {
   "attachments": {
    "image.png": {
     "image/png": "[encoded data removed]"
    }
   },
   "cell_type": "markdown",
   "metadata": {},
   "source": [
    "#### Cluster Analysis -\n",
    "\n",
    "   ![image.png](attachment:image.png)"
   ]
  },
  {
   "attachments": {
    "image.png": {
     "image/png": "[encoded data removed]"
    }
   },
   "cell_type": "markdown",
   "metadata": {},
   "source": [
    "   ![image.png](attachment:image.png)"
   ]
  },
  {
   "cell_type": "code",
   "execution_count": 63,
   "metadata": {},
   "outputs": [],
   "source": [
    "indices = np.argsort(clf.feature_importances_)[::-1]"
   ]
  },
  {
   "cell_type": "code",
   "execution_count": 64,
   "metadata": {},
   "outputs": [],
   "source": [
    "#Using Recursive feature elmination\n",
    "#The Recursive Feature Elimination (or RFE) works by recursively removing attributes and building a model on those attributes that remain.\n",
    "\n",
    "from sklearn.feature_selection import RFE\n",
    "import itertools\n",
    "from itertools import zip_longest\n",
    "rfc = RandomForestClassifier()\n",
    "\n",
    "# create the RFE model and select 20 attributes\n",
    "rfe = RFE(rfc, n_features_to_select=20)\n",
    "rfe = rfe.fit(x_train_res, y_train_res)\n",
    "\n",
    "# summarize the selection of the attributes\n",
    "feature_map = [(i, v) for i, v in itertools.zip_longest(rfe.get_support(), cols)]\n",
    "selected_features = [v for i, v in feature_map if i==True]"
   ]
  },
  {
   "cell_type": "code",
   "execution_count": 65,
   "metadata": {},
   "outputs": [
    {
     "data": {
      "text/plain": [
       "['AGE_GROUP',\n",
       " 'GENDER_GROUP',\n",
       " 'INCOME_GROUP',\n",
       " 'count',\n",
       " 'proc_1',\n",
       " 'proc_124',\n",
       " 'proc_13',\n",
       " 'proc_14',\n",
       " 'proc_17',\n",
       " 'proc_19',\n",
       " 'proc_2',\n",
       " 'proc_20',\n",
       " 'proc_22',\n",
       " 'proc_25',\n",
       " 'proc_26',\n",
       " 'proc_27',\n",
       " 'proc_28',\n",
       " 'proc_3',\n",
       " 'proc_34',\n",
       " 'proc_99']"
      ]
     },
     "execution_count": 65,
     "metadata": {},
     "output_type": "execute_result"
    }
   ],
   "source": [
    "# Selecting top 20 features for clustering\n",
    "selected_features"
   ]
  },
  {
   "cell_type": "markdown",
   "metadata": {},
   "source": [
    "**Preparing Data -**\n",
    "\n",
    "**Merging the anomalous data with review data to check if patients are comming together in specific clusters**"
   ]
  },
  {
   "cell_type": "code",
   "execution_count": 66,
   "metadata": {},
   "outputs": [],
   "source": [
    "df_subdata = df_anomalous.drop('prob_true', axis =1)"
   ]
  },
  {
   "cell_type": "code",
   "execution_count": 67,
   "metadata": {},
   "outputs": [
    {
     "name": "stderr",
     "output_type": "stream",
     "text": [
      "C:\\Users\\RAMKUMAR\\Documents\\Python Scripts\\lib\\site-packages\\ipykernel_launcher.py:2: FutureWarning: Sorting because non-concatenation axis is not aligned. A future version\n",
      "of pandas will change to not sort by default.\n",
      "\n",
      "To accept the future behavior, pass 'sort=False'.\n",
      "\n",
      "To retain the current behavior and silence the warning, pass 'sort=True'.\n",
      "\n",
      "  \n"
     ]
    }
   ],
   "source": [
    "frames = [df_subdata, review_dataset]\n",
    "medi_data = pd.concat(frames)"
   ]
  },
  {
   "cell_type": "code",
   "execution_count": 68,
   "metadata": {},
   "outputs": [
    {
     "data": {
      "text/html": [
       "<div>\n",
       "<style scoped>\n",
       "    .dataframe tbody tr th:only-of-type {\n",
       "        vertical-align: middle;\n",
       "    }\n",
       "\n",
       "    .dataframe tbody tr th {\n",
       "        vertical-align: top;\n",
       "    }\n",
       "\n",
       "    .dataframe thead th {\n",
       "        text-align: right;\n",
       "    }\n",
       "</style>\n",
       "<table border=\"1\" class=\"dataframe\">\n",
       "  <thead>\n",
       "    <tr style=\"text-align: right;\">\n",
       "      <th></th>\n",
       "      <th>AGE_GROUP</th>\n",
       "      <th>GENDER_GROUP</th>\n",
       "      <th>INCOME_GROUP</th>\n",
       "      <th>REVIEW_IND</th>\n",
       "      <th>count</th>\n",
       "      <th>id</th>\n",
       "      <th>proc_1</th>\n",
       "      <th>proc_10</th>\n",
       "      <th>proc_100</th>\n",
       "      <th>proc_101</th>\n",
       "      <th>...</th>\n",
       "      <th>proc_90</th>\n",
       "      <th>proc_91</th>\n",
       "      <th>proc_92</th>\n",
       "      <th>proc_93</th>\n",
       "      <th>proc_94</th>\n",
       "      <th>proc_95</th>\n",
       "      <th>proc_96</th>\n",
       "      <th>proc_97</th>\n",
       "      <th>proc_98</th>\n",
       "      <th>proc_99</th>\n",
       "    </tr>\n",
       "  </thead>\n",
       "  <tbody>\n",
       "    <tr>\n",
       "      <th>6</th>\n",
       "      <td>3</td>\n",
       "      <td>0</td>\n",
       "      <td>4</td>\n",
       "      <td>0</td>\n",
       "      <td>3</td>\n",
       "      <td>19106</td>\n",
       "      <td>0</td>\n",
       "      <td>0</td>\n",
       "      <td>0</td>\n",
       "      <td>0</td>\n",
       "      <td>...</td>\n",
       "      <td>0</td>\n",
       "      <td>0</td>\n",
       "      <td>0</td>\n",
       "      <td>0</td>\n",
       "      <td>0</td>\n",
       "      <td>0</td>\n",
       "      <td>0</td>\n",
       "      <td>0</td>\n",
       "      <td>0</td>\n",
       "      <td>0</td>\n",
       "    </tr>\n",
       "    <tr>\n",
       "      <th>14</th>\n",
       "      <td>3</td>\n",
       "      <td>0</td>\n",
       "      <td>1</td>\n",
       "      <td>0</td>\n",
       "      <td>3</td>\n",
       "      <td>28504</td>\n",
       "      <td>0</td>\n",
       "      <td>0</td>\n",
       "      <td>0</td>\n",
       "      <td>0</td>\n",
       "      <td>...</td>\n",
       "      <td>0</td>\n",
       "      <td>0</td>\n",
       "      <td>0</td>\n",
       "      <td>0</td>\n",
       "      <td>0</td>\n",
       "      <td>0</td>\n",
       "      <td>0</td>\n",
       "      <td>0</td>\n",
       "      <td>0</td>\n",
       "      <td>0</td>\n",
       "    </tr>\n",
       "    <tr>\n",
       "      <th>23</th>\n",
       "      <td>2</td>\n",
       "      <td>1</td>\n",
       "      <td>2</td>\n",
       "      <td>0</td>\n",
       "      <td>4</td>\n",
       "      <td>39897</td>\n",
       "      <td>0</td>\n",
       "      <td>0</td>\n",
       "      <td>0</td>\n",
       "      <td>0</td>\n",
       "      <td>...</td>\n",
       "      <td>0</td>\n",
       "      <td>0</td>\n",
       "      <td>0</td>\n",
       "      <td>0</td>\n",
       "      <td>0</td>\n",
       "      <td>0</td>\n",
       "      <td>0</td>\n",
       "      <td>0</td>\n",
       "      <td>0</td>\n",
       "      <td>0</td>\n",
       "    </tr>\n",
       "    <tr>\n",
       "      <th>26</th>\n",
       "      <td>2</td>\n",
       "      <td>0</td>\n",
       "      <td>1</td>\n",
       "      <td>0</td>\n",
       "      <td>4</td>\n",
       "      <td>41908</td>\n",
       "      <td>0</td>\n",
       "      <td>0</td>\n",
       "      <td>0</td>\n",
       "      <td>0</td>\n",
       "      <td>...</td>\n",
       "      <td>0</td>\n",
       "      <td>0</td>\n",
       "      <td>0</td>\n",
       "      <td>0</td>\n",
       "      <td>0</td>\n",
       "      <td>0</td>\n",
       "      <td>0</td>\n",
       "      <td>0</td>\n",
       "      <td>0</td>\n",
       "      <td>0</td>\n",
       "    </tr>\n",
       "    <tr>\n",
       "      <th>30</th>\n",
       "      <td>4</td>\n",
       "      <td>0</td>\n",
       "      <td>1</td>\n",
       "      <td>0</td>\n",
       "      <td>2</td>\n",
       "      <td>47601</td>\n",
       "      <td>0</td>\n",
       "      <td>0</td>\n",
       "      <td>0</td>\n",
       "      <td>0</td>\n",
       "      <td>...</td>\n",
       "      <td>0</td>\n",
       "      <td>0</td>\n",
       "      <td>0</td>\n",
       "      <td>0</td>\n",
       "      <td>0</td>\n",
       "      <td>0</td>\n",
       "      <td>0</td>\n",
       "      <td>0</td>\n",
       "      <td>0</td>\n",
       "      <td>0</td>\n",
       "    </tr>\n",
       "  </tbody>\n",
       "</table>\n",
       "<p>5 rows × 136 columns</p>\n",
       "</div>"
      ],
      "text/plain": [
       "    AGE_GROUP  GENDER_GROUP  INCOME_GROUP  REVIEW_IND  count     id  proc_1  \\\n",
       "6           3             0             4           0      3  19106       0   \n",
       "14          3             0             1           0      3  28504       0   \n",
       "23          2             1             2           0      4  39897       0   \n",
       "26          2             0             1           0      4  41908       0   \n",
       "30          4             0             1           0      2  47601       0   \n",
       "\n",
       "    proc_10  proc_100  proc_101  ...  proc_90  proc_91  proc_92  proc_93  \\\n",
       "6         0         0         0  ...        0        0        0        0   \n",
       "14        0         0         0  ...        0        0        0        0   \n",
       "23        0         0         0  ...        0        0        0        0   \n",
       "26        0         0         0  ...        0        0        0        0   \n",
       "30        0         0         0  ...        0        0        0        0   \n",
       "\n",
       "    proc_94  proc_95  proc_96  proc_97  proc_98  proc_99  \n",
       "6         0        0        0        0        0        0  \n",
       "14        0        0        0        0        0        0  \n",
       "23        0        0        0        0        0        0  \n",
       "26        0        0        0        0        0        0  \n",
       "30        0        0        0        0        0        0  \n",
       "\n",
       "[5 rows x 136 columns]"
      ]
     },
     "execution_count": 68,
     "metadata": {},
     "output_type": "execute_result"
    }
   ],
   "source": [
    "medi_data.head()"
   ]
  },
  {
   "cell_type": "code",
   "execution_count": 69,
   "metadata": {},
   "outputs": [],
   "source": [
    "analysis_data = medi_data[selected_features]"
   ]
  },
  {
   "cell_type": "code",
   "execution_count": 70,
   "metadata": {},
   "outputs": [
    {
     "data": {
      "text/html": [
       "<div>\n",
       "<style scoped>\n",
       "    .dataframe tbody tr th:only-of-type {\n",
       "        vertical-align: middle;\n",
       "    }\n",
       "\n",
       "    .dataframe tbody tr th {\n",
       "        vertical-align: top;\n",
       "    }\n",
       "\n",
       "    .dataframe thead th {\n",
       "        text-align: right;\n",
       "    }\n",
       "</style>\n",
       "<table border=\"1\" class=\"dataframe\">\n",
       "  <thead>\n",
       "    <tr style=\"text-align: right;\">\n",
       "      <th></th>\n",
       "      <th>AGE_GROUP</th>\n",
       "      <th>GENDER_GROUP</th>\n",
       "      <th>INCOME_GROUP</th>\n",
       "      <th>count</th>\n",
       "      <th>proc_1</th>\n",
       "      <th>proc_124</th>\n",
       "      <th>proc_13</th>\n",
       "      <th>proc_14</th>\n",
       "      <th>proc_17</th>\n",
       "      <th>proc_19</th>\n",
       "      <th>proc_2</th>\n",
       "      <th>proc_20</th>\n",
       "      <th>proc_22</th>\n",
       "      <th>proc_25</th>\n",
       "      <th>proc_26</th>\n",
       "      <th>proc_27</th>\n",
       "      <th>proc_28</th>\n",
       "      <th>proc_3</th>\n",
       "      <th>proc_34</th>\n",
       "      <th>proc_99</th>\n",
       "    </tr>\n",
       "  </thead>\n",
       "  <tbody>\n",
       "    <tr>\n",
       "      <th>6</th>\n",
       "      <td>3</td>\n",
       "      <td>0</td>\n",
       "      <td>4</td>\n",
       "      <td>3</td>\n",
       "      <td>0</td>\n",
       "      <td>0</td>\n",
       "      <td>0</td>\n",
       "      <td>0</td>\n",
       "      <td>1</td>\n",
       "      <td>0</td>\n",
       "      <td>0</td>\n",
       "      <td>0</td>\n",
       "      <td>0</td>\n",
       "      <td>0</td>\n",
       "      <td>1</td>\n",
       "      <td>0</td>\n",
       "      <td>0</td>\n",
       "      <td>0</td>\n",
       "      <td>0</td>\n",
       "      <td>0</td>\n",
       "    </tr>\n",
       "    <tr>\n",
       "      <th>14</th>\n",
       "      <td>3</td>\n",
       "      <td>0</td>\n",
       "      <td>1</td>\n",
       "      <td>3</td>\n",
       "      <td>0</td>\n",
       "      <td>0</td>\n",
       "      <td>0</td>\n",
       "      <td>0</td>\n",
       "      <td>0</td>\n",
       "      <td>0</td>\n",
       "      <td>0</td>\n",
       "      <td>0</td>\n",
       "      <td>0</td>\n",
       "      <td>0</td>\n",
       "      <td>0</td>\n",
       "      <td>0</td>\n",
       "      <td>0</td>\n",
       "      <td>0</td>\n",
       "      <td>0</td>\n",
       "      <td>0</td>\n",
       "    </tr>\n",
       "    <tr>\n",
       "      <th>23</th>\n",
       "      <td>2</td>\n",
       "      <td>1</td>\n",
       "      <td>2</td>\n",
       "      <td>4</td>\n",
       "      <td>0</td>\n",
       "      <td>0</td>\n",
       "      <td>0</td>\n",
       "      <td>0</td>\n",
       "      <td>0</td>\n",
       "      <td>0</td>\n",
       "      <td>0</td>\n",
       "      <td>0</td>\n",
       "      <td>1</td>\n",
       "      <td>1</td>\n",
       "      <td>0</td>\n",
       "      <td>0</td>\n",
       "      <td>0</td>\n",
       "      <td>0</td>\n",
       "      <td>0</td>\n",
       "      <td>0</td>\n",
       "    </tr>\n",
       "    <tr>\n",
       "      <th>26</th>\n",
       "      <td>2</td>\n",
       "      <td>0</td>\n",
       "      <td>1</td>\n",
       "      <td>4</td>\n",
       "      <td>0</td>\n",
       "      <td>0</td>\n",
       "      <td>0</td>\n",
       "      <td>0</td>\n",
       "      <td>1</td>\n",
       "      <td>0</td>\n",
       "      <td>0</td>\n",
       "      <td>0</td>\n",
       "      <td>0</td>\n",
       "      <td>0</td>\n",
       "      <td>1</td>\n",
       "      <td>0</td>\n",
       "      <td>0</td>\n",
       "      <td>0</td>\n",
       "      <td>0</td>\n",
       "      <td>0</td>\n",
       "    </tr>\n",
       "    <tr>\n",
       "      <th>30</th>\n",
       "      <td>4</td>\n",
       "      <td>0</td>\n",
       "      <td>1</td>\n",
       "      <td>2</td>\n",
       "      <td>0</td>\n",
       "      <td>0</td>\n",
       "      <td>0</td>\n",
       "      <td>0</td>\n",
       "      <td>0</td>\n",
       "      <td>0</td>\n",
       "      <td>0</td>\n",
       "      <td>0</td>\n",
       "      <td>0</td>\n",
       "      <td>0</td>\n",
       "      <td>1</td>\n",
       "      <td>0</td>\n",
       "      <td>0</td>\n",
       "      <td>0</td>\n",
       "      <td>0</td>\n",
       "      <td>0</td>\n",
       "    </tr>\n",
       "  </tbody>\n",
       "</table>\n",
       "</div>"
      ],
      "text/plain": [
       "    AGE_GROUP  GENDER_GROUP  INCOME_GROUP  count  proc_1  proc_124  proc_13  \\\n",
       "6           3             0             4      3       0         0        0   \n",
       "14          3             0             1      3       0         0        0   \n",
       "23          2             1             2      4       0         0        0   \n",
       "26          2             0             1      4       0         0        0   \n",
       "30          4             0             1      2       0         0        0   \n",
       "\n",
       "    proc_14  proc_17  proc_19  proc_2  proc_20  proc_22  proc_25  proc_26  \\\n",
       "6         0        1        0       0        0        0        0        1   \n",
       "14        0        0        0       0        0        0        0        0   \n",
       "23        0        0        0       0        0        1        1        0   \n",
       "26        0        1        0       0        0        0        0        1   \n",
       "30        0        0        0       0        0        0        0        1   \n",
       "\n",
       "    proc_27  proc_28  proc_3  proc_34  proc_99  \n",
       "6         0        0       0        0        0  \n",
       "14        0        0       0        0        0  \n",
       "23        0        0       0        0        0  \n",
       "26        0        0       0        0        0  \n",
       "30        0        0       0        0        0  "
      ]
     },
     "execution_count": 70,
     "metadata": {},
     "output_type": "execute_result"
    }
   ],
   "source": [
    "analysis_data.head()"
   ]
  },
  {
   "cell_type": "code",
   "execution_count": 71,
   "metadata": {},
   "outputs": [],
   "source": [
    "col_list = analysis_data.columns"
   ]
  },
  {
   "cell_type": "code",
   "execution_count": 72,
   "metadata": {},
   "outputs": [
    {
     "data": {
      "text/plain": [
       "Index(['AGE_GROUP', 'GENDER_GROUP', 'INCOME_GROUP', 'count', 'proc_1',\n",
       "       'proc_124', 'proc_13', 'proc_14', 'proc_17', 'proc_19', 'proc_2',\n",
       "       'proc_20', 'proc_22', 'proc_25', 'proc_26', 'proc_27', 'proc_28',\n",
       "       'proc_3', 'proc_34', 'proc_99'],\n",
       "      dtype='object')"
      ]
     },
     "execution_count": 72,
     "metadata": {},
     "output_type": "execute_result"
    }
   ],
   "source": [
    "col_list"
   ]
  },
  {
   "cell_type": "markdown",
   "metadata": {},
   "source": [
    "**A. Standardizing the data**"
   ]
  },
  {
   "cell_type": "code",
   "execution_count": 73,
   "metadata": {},
   "outputs": [],
   "source": [
    "from sklearn.preprocessing import StandardScaler"
   ]
  },
  {
   "cell_type": "code",
   "execution_count": 74,
   "metadata": {},
   "outputs": [],
   "source": [
    "sc=StandardScaler()"
   ]
  },
  {
   "cell_type": "code",
   "execution_count": 75,
   "metadata": {},
   "outputs": [],
   "source": [
    "analysis_scaled=sc.fit_transform(analysis_data)"
   ]
  },
  {
   "cell_type": "markdown",
   "metadata": {},
   "source": [
    "**B. Applying PCA**"
   ]
  },
  {
   "cell_type": "code",
   "execution_count": 76,
   "metadata": {},
   "outputs": [],
   "source": [
    "from sklearn.decomposition import PCA"
   ]
  },
  {
   "cell_type": "code",
   "execution_count": 77,
   "metadata": {},
   "outputs": [],
   "source": [
    "var_ratio={}\n",
    "for n in range(2,20):\n",
    "    pc = PCA(n_components=n)\n",
    "    analysis_pca=pc.fit(analysis_scaled)\n",
    "    var_ratio[n]=sum(analysis_pca.explained_variance_ratio_)"
   ]
  },
  {
   "cell_type": "code",
   "execution_count": 78,
   "metadata": {},
   "outputs": [
    {
     "data": {
      "text/plain": [
       "<matplotlib.axes._subplots.AxesSubplot at 0x1ed95a37cf8>"
      ]
     },
     "execution_count": 78,
     "metadata": {},
     "output_type": "execute_result"
    },
    {
     "data": {
      "image/png": "[encoded data removed]",
      "text/plain": [
       "<Figure size 720x648 with 1 Axes>"
      ]
     },
     "metadata": {},
     "output_type": "display_data"
    }
   ],
   "source": [
    "sns.set(rc={'figure.figsize':(10,9)})\n",
    "pd.Series(var_ratio).plot()"
   ]
  },
  {
   "cell_type": "code",
   "execution_count": 79,
   "metadata": {},
   "outputs": [
    {
     "data": {
      "text/plain": [
       "{2: 0.13638410273220697,\n",
       " 3: 0.193348565913856,\n",
       " 4: 0.24684820880241115,\n",
       " 5: 0.30236319647017534,\n",
       " 6: 0.35493610300432915,\n",
       " 7: 0.40638205446375886,\n",
       " 8: 0.4592847211241804,\n",
       " 9: 0.5110065179063212,\n",
       " 10: 0.561855990181035,\n",
       " 11: 0.6123609952649697,\n",
       " 12: 0.6625752667051866,\n",
       " 13: 0.7117917433897608,\n",
       " 14: 0.7605697725467743,\n",
       " 15: 0.8081186465111116,\n",
       " 16: 0.8550374932888914,\n",
       " 17: 0.9001993949584844,\n",
       " 18: 0.9438073641929628,\n",
       " 19: 0.9820212288417692}"
      ]
     },
     "execution_count": 79,
     "metadata": {},
     "output_type": "execute_result"
    }
   ],
   "source": [
    "var_ratio"
   ]
  },
  {
   "cell_type": "code",
   "execution_count": 80,
   "metadata": {},
   "outputs": [],
   "source": [
    "# 16 component is defining 84% of variability\n",
    "pc_final=PCA(n_components=16).fit(analysis_scaled)\n",
    "reduced_cr=pc_final.fit_transform(analysis_scaled)"
   ]
  },
  {
   "cell_type": "code",
   "execution_count": 81,
   "metadata": {},
   "outputs": [
    {
     "data": {
      "text/plain": [
       "(48400, 16)"
      ]
     },
     "execution_count": 81,
     "metadata": {},
     "output_type": "execute_result"
    }
   ],
   "source": [
    "reduced_cr.shape"
   ]
  },
  {
   "cell_type": "code",
   "execution_count": 82,
   "metadata": {},
   "outputs": [
    {
     "data": {
      "text/html": [
       "<div>\n",
       "<style scoped>\n",
       "    .dataframe tbody tr th:only-of-type {\n",
       "        vertical-align: middle;\n",
       "    }\n",
       "\n",
       "    .dataframe tbody tr th {\n",
       "        vertical-align: top;\n",
       "    }\n",
       "\n",
       "    .dataframe thead th {\n",
       "        text-align: right;\n",
       "    }\n",
       "</style>\n",
       "<table border=\"1\" class=\"dataframe\">\n",
       "  <thead>\n",
       "    <tr style=\"text-align: right;\">\n",
       "      <th></th>\n",
       "      <th>PC_0</th>\n",
       "      <th>PC_1</th>\n",
       "      <th>PC_2</th>\n",
       "      <th>PC_3</th>\n",
       "      <th>PC_4</th>\n",
       "      <th>PC_5</th>\n",
       "      <th>PC_6</th>\n",
       "      <th>PC_7</th>\n",
       "      <th>PC_8</th>\n",
       "      <th>PC_9</th>\n",
       "      <th>PC_10</th>\n",
       "      <th>PC_11</th>\n",
       "      <th>PC_12</th>\n",
       "      <th>PC_13</th>\n",
       "      <th>PC_14</th>\n",
       "      <th>PC_15</th>\n",
       "    </tr>\n",
       "  </thead>\n",
       "  <tbody>\n",
       "    <tr>\n",
       "      <th>AGE_GROUP</th>\n",
       "      <td>0.007351</td>\n",
       "      <td>-0.559506</td>\n",
       "      <td>0.281501</td>\n",
       "      <td>0.214425</td>\n",
       "      <td>0.029170</td>\n",
       "      <td>-0.053919</td>\n",
       "      <td>-0.010474</td>\n",
       "      <td>-0.021909</td>\n",
       "      <td>-0.104982</td>\n",
       "      <td>0.018752</td>\n",
       "      <td>-0.037202</td>\n",
       "      <td>0.055981</td>\n",
       "      <td>0.201466</td>\n",
       "      <td>-0.066232</td>\n",
       "      <td>0.313678</td>\n",
       "      <td>0.143963</td>\n",
       "    </tr>\n",
       "    <tr>\n",
       "      <th>GENDER_GROUP</th>\n",
       "      <td>-0.032569</td>\n",
       "      <td>0.098971</td>\n",
       "      <td>-0.196906</td>\n",
       "      <td>0.547209</td>\n",
       "      <td>0.051024</td>\n",
       "      <td>0.147467</td>\n",
       "      <td>0.143997</td>\n",
       "      <td>-0.311201</td>\n",
       "      <td>0.004261</td>\n",
       "      <td>-0.169797</td>\n",
       "      <td>0.061199</td>\n",
       "      <td>-0.022245</td>\n",
       "      <td>-0.009022</td>\n",
       "      <td>0.033780</td>\n",
       "      <td>-0.230038</td>\n",
       "      <td>0.189217</td>\n",
       "    </tr>\n",
       "    <tr>\n",
       "      <th>INCOME_GROUP</th>\n",
       "      <td>-0.056836</td>\n",
       "      <td>0.663186</td>\n",
       "      <td>0.070763</td>\n",
       "      <td>0.124118</td>\n",
       "      <td>0.015283</td>\n",
       "      <td>-0.078927</td>\n",
       "      <td>0.014145</td>\n",
       "      <td>0.081433</td>\n",
       "      <td>-0.054134</td>\n",
       "      <td>0.014637</td>\n",
       "      <td>0.043523</td>\n",
       "      <td>-0.035305</td>\n",
       "      <td>-0.026640</td>\n",
       "      <td>0.045118</td>\n",
       "      <td>-0.102560</td>\n",
       "      <td>-0.095571</td>\n",
       "    </tr>\n",
       "    <tr>\n",
       "      <th>count</th>\n",
       "      <td>0.692219</td>\n",
       "      <td>0.083700</td>\n",
       "      <td>-0.041582</td>\n",
       "      <td>0.047527</td>\n",
       "      <td>0.077122</td>\n",
       "      <td>0.090440</td>\n",
       "      <td>0.008674</td>\n",
       "      <td>0.067424</td>\n",
       "      <td>-0.005486</td>\n",
       "      <td>0.099234</td>\n",
       "      <td>0.060769</td>\n",
       "      <td>-0.041017</td>\n",
       "      <td>-0.021881</td>\n",
       "      <td>-0.053682</td>\n",
       "      <td>-0.031789</td>\n",
       "      <td>-0.050185</td>\n",
       "    </tr>\n",
       "    <tr>\n",
       "      <th>proc_1</th>\n",
       "      <td>0.055774</td>\n",
       "      <td>0.105725</td>\n",
       "      <td>0.099468</td>\n",
       "      <td>0.049669</td>\n",
       "      <td>0.139601</td>\n",
       "      <td>0.470052</td>\n",
       "      <td>0.233311</td>\n",
       "      <td>0.187198</td>\n",
       "      <td>-0.005797</td>\n",
       "      <td>0.134124</td>\n",
       "      <td>-0.155785</td>\n",
       "      <td>-0.148282</td>\n",
       "      <td>0.086028</td>\n",
       "      <td>0.605552</td>\n",
       "      <td>0.317036</td>\n",
       "      <td>0.279053</td>\n",
       "    </tr>\n",
       "    <tr>\n",
       "      <th>proc_124</th>\n",
       "      <td>-0.049003</td>\n",
       "      <td>-0.000962</td>\n",
       "      <td>0.017654</td>\n",
       "      <td>0.295450</td>\n",
       "      <td>0.273413</td>\n",
       "      <td>0.342270</td>\n",
       "      <td>0.100230</td>\n",
       "      <td>0.025068</td>\n",
       "      <td>0.421152</td>\n",
       "      <td>-0.146728</td>\n",
       "      <td>-0.108867</td>\n",
       "      <td>-0.143297</td>\n",
       "      <td>0.366692</td>\n",
       "      <td>-0.342803</td>\n",
       "      <td>0.005412</td>\n",
       "      <td>-0.360608</td>\n",
       "    </tr>\n",
       "    <tr>\n",
       "      <th>proc_13</th>\n",
       "      <td>0.024197</td>\n",
       "      <td>-0.096559</td>\n",
       "      <td>0.129095</td>\n",
       "      <td>-0.376518</td>\n",
       "      <td>0.018369</td>\n",
       "      <td>0.515271</td>\n",
       "      <td>-0.144288</td>\n",
       "      <td>0.028645</td>\n",
       "      <td>-0.190893</td>\n",
       "      <td>-0.352423</td>\n",
       "      <td>-0.034873</td>\n",
       "      <td>-0.110816</td>\n",
       "      <td>-0.044706</td>\n",
       "      <td>-0.088395</td>\n",
       "      <td>-0.478371</td>\n",
       "      <td>0.221772</td>\n",
       "    </tr>\n",
       "    <tr>\n",
       "      <th>proc_14</th>\n",
       "      <td>-0.041462</td>\n",
       "      <td>0.204672</td>\n",
       "      <td>0.056757</td>\n",
       "      <td>-0.058190</td>\n",
       "      <td>-0.151286</td>\n",
       "      <td>0.058943</td>\n",
       "      <td>-0.083526</td>\n",
       "      <td>0.125894</td>\n",
       "      <td>0.219181</td>\n",
       "      <td>-0.116791</td>\n",
       "      <td>0.457702</td>\n",
       "      <td>0.565882</td>\n",
       "      <td>0.389788</td>\n",
       "      <td>0.066541</td>\n",
       "      <td>0.094075</td>\n",
       "      <td>0.227547</td>\n",
       "    </tr>\n",
       "    <tr>\n",
       "      <th>proc_17</th>\n",
       "      <td>-0.004401</td>\n",
       "      <td>-0.156491</td>\n",
       "      <td>-0.485496</td>\n",
       "      <td>0.109517</td>\n",
       "      <td>-0.209802</td>\n",
       "      <td>0.020397</td>\n",
       "      <td>-0.220380</td>\n",
       "      <td>0.469659</td>\n",
       "      <td>0.200931</td>\n",
       "      <td>0.304546</td>\n",
       "      <td>0.142063</td>\n",
       "      <td>-0.316752</td>\n",
       "      <td>-0.027850</td>\n",
       "      <td>0.071539</td>\n",
       "      <td>-0.113282</td>\n",
       "      <td>0.026990</td>\n",
       "    </tr>\n",
       "    <tr>\n",
       "      <th>proc_19</th>\n",
       "      <td>0.069344</td>\n",
       "      <td>0.054300</td>\n",
       "      <td>-0.527797</td>\n",
       "      <td>-0.027400</td>\n",
       "      <td>0.259272</td>\n",
       "      <td>0.096236</td>\n",
       "      <td>-0.127996</td>\n",
       "      <td>-0.120679</td>\n",
       "      <td>-0.300281</td>\n",
       "      <td>-0.111549</td>\n",
       "      <td>-0.319557</td>\n",
       "      <td>0.387078</td>\n",
       "      <td>-0.091773</td>\n",
       "      <td>0.060365</td>\n",
       "      <td>0.265783</td>\n",
       "      <td>-0.176624</td>\n",
       "    </tr>\n",
       "    <tr>\n",
       "      <th>proc_2</th>\n",
       "      <td>-0.049976</td>\n",
       "      <td>0.245150</td>\n",
       "      <td>0.069684</td>\n",
       "      <td>-0.286924</td>\n",
       "      <td>0.002254</td>\n",
       "      <td>-0.237210</td>\n",
       "      <td>0.256264</td>\n",
       "      <td>0.164030</td>\n",
       "      <td>-0.140201</td>\n",
       "      <td>0.085846</td>\n",
       "      <td>-0.381581</td>\n",
       "      <td>-0.217366</td>\n",
       "      <td>0.431646</td>\n",
       "      <td>-0.195822</td>\n",
       "      <td>0.053738</td>\n",
       "      <td>0.061634</td>\n",
       "    </tr>\n",
       "    <tr>\n",
       "      <th>proc_20</th>\n",
       "      <td>0.044469</td>\n",
       "      <td>-0.080944</td>\n",
       "      <td>0.377006</td>\n",
       "      <td>0.278042</td>\n",
       "      <td>0.185531</td>\n",
       "      <td>-0.228273</td>\n",
       "      <td>-0.187363</td>\n",
       "      <td>0.262004</td>\n",
       "      <td>-0.132317</td>\n",
       "      <td>-0.042113</td>\n",
       "      <td>-0.135120</td>\n",
       "      <td>0.144037</td>\n",
       "      <td>0.037009</td>\n",
       "      <td>0.424958</td>\n",
       "      <td>-0.388688</td>\n",
       "      <td>-0.327328</td>\n",
       "    </tr>\n",
       "    <tr>\n",
       "      <th>proc_22</th>\n",
       "      <td>0.017550</td>\n",
       "      <td>0.065205</td>\n",
       "      <td>0.096725</td>\n",
       "      <td>-0.254640</td>\n",
       "      <td>0.341480</td>\n",
       "      <td>-0.087628</td>\n",
       "      <td>-0.246466</td>\n",
       "      <td>-0.431126</td>\n",
       "      <td>0.132577</td>\n",
       "      <td>0.006400</td>\n",
       "      <td>0.381654</td>\n",
       "      <td>-0.397671</td>\n",
       "      <td>0.011449</td>\n",
       "      <td>0.238646</td>\n",
       "      <td>0.201136</td>\n",
       "      <td>-0.170368</td>\n",
       "    </tr>\n",
       "    <tr>\n",
       "      <th>proc_25</th>\n",
       "      <td>0.410767</td>\n",
       "      <td>-0.042929</td>\n",
       "      <td>-0.106358</td>\n",
       "      <td>0.054748</td>\n",
       "      <td>0.390309</td>\n",
       "      <td>-0.356070</td>\n",
       "      <td>0.161790</td>\n",
       "      <td>-0.013177</td>\n",
       "      <td>0.007333</td>\n",
       "      <td>-0.029627</td>\n",
       "      <td>0.087932</td>\n",
       "      <td>-0.023606</td>\n",
       "      <td>0.106098</td>\n",
       "      <td>-0.084523</td>\n",
       "      <td>-0.185492</td>\n",
       "      <td>0.462643</td>\n",
       "    </tr>\n",
       "    <tr>\n",
       "      <th>proc_26</th>\n",
       "      <td>0.473452</td>\n",
       "      <td>0.064800</td>\n",
       "      <td>0.167297</td>\n",
       "      <td>-0.093027</td>\n",
       "      <td>-0.088585</td>\n",
       "      <td>0.176129</td>\n",
       "      <td>-0.302783</td>\n",
       "      <td>0.111508</td>\n",
       "      <td>0.052349</td>\n",
       "      <td>0.069336</td>\n",
       "      <td>-0.041403</td>\n",
       "      <td>0.125967</td>\n",
       "      <td>0.037175</td>\n",
       "      <td>-0.167437</td>\n",
       "      <td>0.152023</td>\n",
       "      <td>-0.199731</td>\n",
       "    </tr>\n",
       "    <tr>\n",
       "      <th>proc_27</th>\n",
       "      <td>0.302934</td>\n",
       "      <td>-0.052253</td>\n",
       "      <td>0.022539</td>\n",
       "      <td>0.042480</td>\n",
       "      <td>-0.572401</td>\n",
       "      <td>0.004760</td>\n",
       "      <td>0.449510</td>\n",
       "      <td>-0.246568</td>\n",
       "      <td>-0.115636</td>\n",
       "      <td>-0.130851</td>\n",
       "      <td>0.094517</td>\n",
       "      <td>-0.089997</td>\n",
       "      <td>0.026796</td>\n",
       "      <td>0.152523</td>\n",
       "      <td>-0.002774</td>\n",
       "      <td>-0.267480</td>\n",
       "    </tr>\n",
       "    <tr>\n",
       "      <th>proc_28</th>\n",
       "      <td>-0.103488</td>\n",
       "      <td>0.011766</td>\n",
       "      <td>0.175747</td>\n",
       "      <td>0.043686</td>\n",
       "      <td>0.270016</td>\n",
       "      <td>0.194563</td>\n",
       "      <td>0.365485</td>\n",
       "      <td>0.211123</td>\n",
       "      <td>-0.313709</td>\n",
       "      <td>0.336082</td>\n",
       "      <td>0.397651</td>\n",
       "      <td>0.097887</td>\n",
       "      <td>-0.332688</td>\n",
       "      <td>-0.303812</td>\n",
       "      <td>0.052800</td>\n",
       "      <td>-0.120393</td>\n",
       "    </tr>\n",
       "    <tr>\n",
       "      <th>proc_3</th>\n",
       "      <td>0.055973</td>\n",
       "      <td>0.035204</td>\n",
       "      <td>0.132789</td>\n",
       "      <td>-0.045321</td>\n",
       "      <td>0.034168</td>\n",
       "      <td>-0.153010</td>\n",
       "      <td>0.172917</td>\n",
       "      <td>0.260993</td>\n",
       "      <td>0.456943</td>\n",
       "      <td>-0.458618</td>\n",
       "      <td>-0.139108</td>\n",
       "      <td>0.008802</td>\n",
       "      <td>-0.541034</td>\n",
       "      <td>-0.016479</td>\n",
       "      <td>0.225664</td>\n",
       "      <td>0.077798</td>\n",
       "    </tr>\n",
       "    <tr>\n",
       "      <th>proc_34</th>\n",
       "      <td>0.018169</td>\n",
       "      <td>0.243566</td>\n",
       "      <td>0.263593</td>\n",
       "      <td>0.363129</td>\n",
       "      <td>-0.220476</td>\n",
       "      <td>0.038291</td>\n",
       "      <td>-0.412611</td>\n",
       "      <td>-0.127339</td>\n",
       "      <td>-0.159542</td>\n",
       "      <td>0.080786</td>\n",
       "      <td>-0.148020</td>\n",
       "      <td>-0.174454</td>\n",
       "      <td>-0.155761</td>\n",
       "      <td>-0.237602</td>\n",
       "      <td>0.207811</td>\n",
       "      <td>0.312787</td>\n",
       "    </tr>\n",
       "    <tr>\n",
       "      <th>proc_99</th>\n",
       "      <td>0.015249</td>\n",
       "      <td>-0.011390</td>\n",
       "      <td>0.129326</td>\n",
       "      <td>-0.124538</td>\n",
       "      <td>-0.010260</td>\n",
       "      <td>0.086976</td>\n",
       "      <td>0.080573</td>\n",
       "      <td>-0.346815</td>\n",
       "      <td>0.435895</td>\n",
       "      <td>0.562499</td>\n",
       "      <td>-0.304744</td>\n",
       "      <td>0.278392</td>\n",
       "      <td>-0.155916</td>\n",
       "      <td>0.031427</td>\n",
       "      <td>-0.258091</td>\n",
       "      <td>0.084841</td>\n",
       "    </tr>\n",
       "  </tbody>\n",
       "</table>\n",
       "</div>"
      ],
      "text/plain": [
       "                  PC_0      PC_1      PC_2      PC_3      PC_4      PC_5  \\\n",
       "AGE_GROUP     0.007351 -0.559506  0.281501  0.214425  0.029170 -0.053919   \n",
       "GENDER_GROUP -0.032569  0.098971 -0.196906  0.547209  0.051024  0.147467   \n",
       "INCOME_GROUP -0.056836  0.663186  0.070763  0.124118  0.015283 -0.078927   \n",
       "count         0.692219  0.083700 -0.041582  0.047527  0.077122  0.090440   \n",
       "proc_1        0.055774  0.105725  0.099468  0.049669  0.139601  0.470052   \n",
       "proc_124     -0.049003 -0.000962  0.017654  0.295450  0.273413  0.342270   \n",
       "proc_13       0.024197 -0.096559  0.129095 -0.376518  0.018369  0.515271   \n",
       "proc_14      -0.041462  0.204672  0.056757 -0.058190 -0.151286  0.058943   \n",
       "proc_17      -0.004401 -0.156491 -0.485496  0.109517 -0.209802  0.020397   \n",
       "proc_19       0.069344  0.054300 -0.527797 -0.027400  0.259272  0.096236   \n",
       "proc_2       -0.049976  0.245150  0.069684 -0.286924  0.002254 -0.237210   \n",
       "proc_20       0.044469 -0.080944  0.377006  0.278042  0.185531 -0.228273   \n",
       "proc_22       0.017550  0.065205  0.096725 -0.254640  0.341480 -0.087628   \n",
       "proc_25       0.410767 -0.042929 -0.106358  0.054748  0.390309 -0.356070   \n",
       "proc_26       0.473452  0.064800  0.167297 -0.093027 -0.088585  0.176129   \n",
       "proc_27       0.302934 -0.052253  0.022539  0.042480 -0.572401  0.004760   \n",
       "proc_28      -0.103488  0.011766  0.175747  0.043686  0.270016  0.194563   \n",
       "proc_3        0.055973  0.035204  0.132789 -0.045321  0.034168 -0.153010   \n",
       "proc_34       0.018169  0.243566  0.263593  0.363129 -0.220476  0.038291   \n",
       "proc_99       0.015249 -0.011390  0.129326 -0.124538 -0.010260  0.086976   \n",
       "\n",
       "                  PC_6      PC_7      PC_8      PC_9     PC_10     PC_11  \\\n",
       "AGE_GROUP    -0.010474 -0.021909 -0.104982  0.018752 -0.037202  0.055981   \n",
       "GENDER_GROUP  0.143997 -0.311201  0.004261 -0.169797  0.061199 -0.022245   \n",
       "INCOME_GROUP  0.014145  0.081433 -0.054134  0.014637  0.043523 -0.035305   \n",
       "count         0.008674  0.067424 -0.005486  0.099234  0.060769 -0.041017   \n",
       "proc_1        0.233311  0.187198 -0.005797  0.134124 -0.155785 -0.148282   \n",
       "proc_124      0.100230  0.025068  0.421152 -0.146728 -0.108867 -0.143297   \n",
       "proc_13      -0.144288  0.028645 -0.190893 -0.352423 -0.034873 -0.110816   \n",
       "proc_14      -0.083526  0.125894  0.219181 -0.116791  0.457702  0.565882   \n",
       "proc_17      -0.220380  0.469659  0.200931  0.304546  0.142063 -0.316752   \n",
       "proc_19      -0.127996 -0.120679 -0.300281 -0.111549 -0.319557  0.387078   \n",
       "proc_2        0.256264  0.164030 -0.140201  0.085846 -0.381581 -0.217366   \n",
       "proc_20      -0.187363  0.262004 -0.132317 -0.042113 -0.135120  0.144037   \n",
       "proc_22      -0.246466 -0.431126  0.132577  0.006400  0.381654 -0.397671   \n",
       "proc_25       0.161790 -0.013177  0.007333 -0.029627  0.087932 -0.023606   \n",
       "proc_26      -0.302783  0.111508  0.052349  0.069336 -0.041403  0.125967   \n",
       "proc_27       0.449510 -0.246568 -0.115636 -0.130851  0.094517 -0.089997   \n",
       "proc_28       0.365485  0.211123 -0.313709  0.336082  0.397651  0.097887   \n",
       "proc_3        0.172917  0.260993  0.456943 -0.458618 -0.139108  0.008802   \n",
       "proc_34      -0.412611 -0.127339 -0.159542  0.080786 -0.148020 -0.174454   \n",
       "proc_99       0.080573 -0.346815  0.435895  0.562499 -0.304744  0.278392   \n",
       "\n",
       "                 PC_12     PC_13     PC_14     PC_15  \n",
       "AGE_GROUP     0.201466 -0.066232  0.313678  0.143963  \n",
       "GENDER_GROUP -0.009022  0.033780 -0.230038  0.189217  \n",
       "INCOME_GROUP -0.026640  0.045118 -0.102560 -0.095571  \n",
       "count        -0.021881 -0.053682 -0.031789 -0.050185  \n",
       "proc_1        0.086028  0.605552  0.317036  0.279053  \n",
       "proc_124      0.366692 -0.342803  0.005412 -0.360608  \n",
       "proc_13      -0.044706 -0.088395 -0.478371  0.221772  \n",
       "proc_14       0.389788  0.066541  0.094075  0.227547  \n",
       "proc_17      -0.027850  0.071539 -0.113282  0.026990  \n",
       "proc_19      -0.091773  0.060365  0.265783 -0.176624  \n",
       "proc_2        0.431646 -0.195822  0.053738  0.061634  \n",
       "proc_20       0.037009  0.424958 -0.388688 -0.327328  \n",
       "proc_22       0.011449  0.238646  0.201136 -0.170368  \n",
       "proc_25       0.106098 -0.084523 -0.185492  0.462643  \n",
       "proc_26       0.037175 -0.167437  0.152023 -0.199731  \n",
       "proc_27       0.026796  0.152523 -0.002774 -0.267480  \n",
       "proc_28      -0.332688 -0.303812  0.052800 -0.120393  \n",
       "proc_3       -0.541034 -0.016479  0.225664  0.077798  \n",
       "proc_34      -0.155761 -0.237602  0.207811  0.312787  \n",
       "proc_99      -0.155916  0.031427 -0.258091  0.084841  "
      ]
     },
     "execution_count": 82,
     "metadata": {},
     "output_type": "execute_result"
    }
   ],
   "source": [
    "pd.DataFrame(pc_final.components_.T, columns=['PC_' + str(i) for i in range(16)], index=col_list)"
   ]
  },
  {
   "cell_type": "code",
   "execution_count": 83,
   "metadata": {},
   "outputs": [
    {
     "data": {
      "text/plain": [
       "PC_0     0.075019\n",
       "PC_1     0.062278\n",
       "PC_2     0.056608\n",
       "PC_3     0.055257\n",
       "PC_4     0.054103\n",
       "PC_5     0.052645\n",
       "PC_6     0.052016\n",
       "PC_7     0.051726\n",
       "PC_8     0.051372\n",
       "PC_9     0.050833\n",
       "PC_10    0.050505\n",
       "PC_11    0.050214\n",
       "PC_12    0.049216\n",
       "PC_13    0.048778\n",
       "PC_14    0.047549\n",
       "PC_15    0.046919\n",
       "dtype: float64"
      ]
     },
     "execution_count": 83,
     "metadata": {},
     "output_type": "execute_result"
    }
   ],
   "source": [
    "pd.Series(pc_final.explained_variance_ratio_,index=['PC_' + str(i) for i in range(16)])"
   ]
  },
  {
   "cell_type": "markdown",
   "metadata": {},
   "source": [
    "**C. Clustering**"
   ]
  },
  {
   "cell_type": "markdown",
   "metadata": {},
   "source": [
    "#### Silhouette Coefficient"
   ]
  },
  {
   "cell_type": "code",
   "execution_count": 84,
   "metadata": {},
   "outputs": [],
   "source": [
    "from sklearn import metrics\n",
    "from sklearn.cluster import KMeans"
   ]
  },
  {
   "cell_type": "code",
   "execution_count": 85,
   "metadata": {},
   "outputs": [],
   "source": [
    "# calculate SC for K=3 through K=15\n",
    "k_range = range(3, 15)\n",
    "scores = []\n",
    "for k in k_range:\n",
    "    km = KMeans(n_clusters=k, random_state=1)\n",
    "    km.fit(analysis_scaled)\n",
    "    scores.append(metrics.silhouette_score(analysis_scaled, km.labels_))"
   ]
  },
  {
   "cell_type": "code",
   "execution_count": 86,
   "metadata": {},
   "outputs": [
    {
     "data": {
      "text/plain": [
       "[0.09124637510763021,\n",
       " 0.11458693466488452,\n",
       " 0.13274029657580574,\n",
       " 0.13038672201844617,\n",
       " 0.14784541041017818,\n",
       " 0.1555094746285737,\n",
       " 0.18713155717837307,\n",
       " 0.18288203663765845,\n",
       " 0.192837604935436,\n",
       " 0.20782194639366042,\n",
       " 0.21810654015241654,\n",
       " 0.23431984284495372]"
      ]
     },
     "execution_count": 86,
     "metadata": {},
     "output_type": "execute_result"
    }
   ],
   "source": [
    "scores"
   ]
  },
  {
   "cell_type": "code",
   "execution_count": 87,
   "metadata": {},
   "outputs": [
    {
     "data": {
      "image/png": "[encoded data removed]",
      "text/plain": [
       "<Figure size 720x648 with 1 Axes>"
      ]
     },
     "metadata": {},
     "output_type": "display_data"
    }
   ],
   "source": [
    "# plot the results\n",
    "plt.plot(k_range, scores)\n",
    "plt.xlabel('Number of clusters')\n",
    "plt.ylabel('Silhouette Coefficient')\n",
    "plt.grid(True)"
   ]
  },
  {
   "cell_type": "markdown",
   "metadata": {},
   "source": [
    "    Silhouette Coefficient shows 5 Cluster should be apt for the cause"
   ]
  },
  {
   "cell_type": "markdown",
   "metadata": {},
   "source": [
    "#### Elbow Analysis"
   ]
  },
  {
   "cell_type": "code",
   "execution_count": 88,
   "metadata": {},
   "outputs": [],
   "source": [
    "cluster_range = range( 1, 15 )\n",
    "cluster_errors = []\n",
    "\n",
    "for num_clusters in cluster_range:\n",
    "    clusters = KMeans( num_clusters )\n",
    "    clusters.fit( analysis_scaled )\n",
    "    cluster_errors.append( clusters.inertia_ )"
   ]
  },
  {
   "cell_type": "code",
   "execution_count": 89,
   "metadata": {},
   "outputs": [
    {
     "data": {
      "text/html": [
       "<div>\n",
       "<style scoped>\n",
       "    .dataframe tbody tr th:only-of-type {\n",
       "        vertical-align: middle;\n",
       "    }\n",
       "\n",
       "    .dataframe tbody tr th {\n",
       "        vertical-align: top;\n",
       "    }\n",
       "\n",
       "    .dataframe thead th {\n",
       "        text-align: right;\n",
       "    }\n",
       "</style>\n",
       "<table border=\"1\" class=\"dataframe\">\n",
       "  <thead>\n",
       "    <tr style=\"text-align: right;\">\n",
       "      <th></th>\n",
       "      <th>num_clusters</th>\n",
       "      <th>cluster_errors</th>\n",
       "    </tr>\n",
       "  </thead>\n",
       "  <tbody>\n",
       "    <tr>\n",
       "      <th>0</th>\n",
       "      <td>1</td>\n",
       "      <td>968000.000000</td>\n",
       "    </tr>\n",
       "    <tr>\n",
       "      <th>1</th>\n",
       "      <td>2</td>\n",
       "      <td>914125.495316</td>\n",
       "    </tr>\n",
       "    <tr>\n",
       "      <th>2</th>\n",
       "      <td>3</td>\n",
       "      <td>866272.793825</td>\n",
       "    </tr>\n",
       "    <tr>\n",
       "      <th>3</th>\n",
       "      <td>4</td>\n",
       "      <td>819589.597402</td>\n",
       "    </tr>\n",
       "    <tr>\n",
       "      <th>4</th>\n",
       "      <td>5</td>\n",
       "      <td>776995.572088</td>\n",
       "    </tr>\n",
       "    <tr>\n",
       "      <th>5</th>\n",
       "      <td>6</td>\n",
       "      <td>730159.761488</td>\n",
       "    </tr>\n",
       "    <tr>\n",
       "      <th>6</th>\n",
       "      <td>7</td>\n",
       "      <td>685873.969453</td>\n",
       "    </tr>\n",
       "    <tr>\n",
       "      <th>7</th>\n",
       "      <td>8</td>\n",
       "      <td>645073.500090</td>\n",
       "    </tr>\n",
       "    <tr>\n",
       "      <th>8</th>\n",
       "      <td>9</td>\n",
       "      <td>597686.596412</td>\n",
       "    </tr>\n",
       "    <tr>\n",
       "      <th>9</th>\n",
       "      <td>10</td>\n",
       "      <td>571832.487257</td>\n",
       "    </tr>\n",
       "  </tbody>\n",
       "</table>\n",
       "</div>"
      ],
      "text/plain": [
       "   num_clusters  cluster_errors\n",
       "0             1   968000.000000\n",
       "1             2   914125.495316\n",
       "2             3   866272.793825\n",
       "3             4   819589.597402\n",
       "4             5   776995.572088\n",
       "5             6   730159.761488\n",
       "6             7   685873.969453\n",
       "7             8   645073.500090\n",
       "8             9   597686.596412\n",
       "9            10   571832.487257"
      ]
     },
     "execution_count": 89,
     "metadata": {},
     "output_type": "execute_result"
    }
   ],
   "source": [
    "clusters_df = pd.DataFrame( { \"num_clusters\":cluster_range, \"cluster_errors\": cluster_errors } )\n",
    "\n",
    "clusters_df[0:10]"
   ]
  },
  {
   "cell_type": "code",
   "execution_count": 90,
   "metadata": {},
   "outputs": [
    {
     "data": {
      "text/plain": [
       "[<matplotlib.lines.Line2D at 0x1edd1933eb8>]"
      ]
     },
     "execution_count": 90,
     "metadata": {},
     "output_type": "execute_result"
    },
    {
     "data": {
      "image/png": "[encoded data removed]",
      "text/plain": [
       "<Figure size 864x432 with 1 Axes>"
      ]
     },
     "metadata": {
      "needs_background": "light"
     },
     "output_type": "display_data"
    }
   ],
   "source": [
    "# allow plots to appear in the notebook\n",
    "%matplotlib inline\n",
    "import matplotlib.pyplot as plt\n",
    "plt.figure(figsize=(12,6))\n",
    "plt.plot( clusters_df.num_clusters, clusters_df.cluster_errors, marker = \"o\" )"
   ]
  },
  {
   "cell_type": "markdown",
   "metadata": {},
   "source": [
    "    The elbow diagram shows that the gain in explained variance reduces significantly from 4 to 5 to 6. So, optimal number of clusters could either 5 or 6. "
   ]
  },
  {
   "cell_type": "code",
   "execution_count": 91,
   "metadata": {},
   "outputs": [],
   "source": [
    "km_5=KMeans(init='k-means++', n_clusters=5,random_state=123)"
   ]
  },
  {
   "cell_type": "code",
   "execution_count": 92,
   "metadata": {},
   "outputs": [
    {
     "data": {
      "text/plain": [
       "array([0, 3, 3, ..., 3, 3, 0])"
      ]
     },
     "execution_count": 92,
     "metadata": {},
     "output_type": "execute_result"
    }
   ],
   "source": [
    "km_5.fit(reduced_cr)\n",
    "km_5.labels_"
   ]
  },
  {
   "cell_type": "code",
   "execution_count": 93,
   "metadata": {},
   "outputs": [
    {
     "data": {
      "text/plain": [
       "3    37112\n",
       "0     5387\n",
       "1     4391\n",
       "4     1183\n",
       "2      327\n",
       "dtype: int64"
      ]
     },
     "execution_count": 93,
     "metadata": {},
     "output_type": "execute_result"
    }
   ],
   "source": [
    "pd.Series(km_5.labels_).value_counts()"
   ]
  },
  {
   "cell_type": "code",
   "execution_count": 94,
   "metadata": {},
   "outputs": [
    {
     "data": {
      "text/plain": [
       "Text(0.5, 0, 'PC_5')"
      ]
     },
     "execution_count": 94,
     "metadata": {},
     "output_type": "execute_result"
    },
    {
     "data": {
      "image/png": "[encoded data removed]",
      "text/plain": [
       "<Figure size 504x504 with 1 Axes>"
      ]
     },
     "metadata": {
      "needs_background": "light"
     },
     "output_type": "display_data"
    }
   ],
   "source": [
    "plt.figure(figsize=(7,7))\n",
    "plt.scatter(reduced_cr[:,0], reduced_cr[:,1], c=km_5.labels_,cmap='Spectral',alpha=0.5)\n",
    "plt.xlabel('PC_5')"
   ]
  },
  {
   "cell_type": "code",
   "execution_count": 95,
   "metadata": {},
   "outputs": [],
   "source": [
    "km_5 = pd.DataFrame(km_5.labels_)"
   ]
  },
  {
   "cell_type": "code",
   "execution_count": 96,
   "metadata": {},
   "outputs": [
    {
     "data": {
      "text/plain": [
       "0    48400\n",
       "dtype: int64"
      ]
     },
     "execution_count": 96,
     "metadata": {},
     "output_type": "execute_result"
    }
   ],
   "source": [
    "km_5.count()"
   ]
  },
  {
   "cell_type": "code",
   "execution_count": 97,
   "metadata": {},
   "outputs": [],
   "source": [
    "medi_data = medi_data.reset_index()"
   ]
  },
  {
   "cell_type": "code",
   "execution_count": 98,
   "metadata": {},
   "outputs": [],
   "source": [
    "cluster_df_5= pd.concat([medi_data, km_5], axis=1)"
   ]
  },
  {
   "cell_type": "code",
   "execution_count": 99,
   "metadata": {},
   "outputs": [],
   "source": [
    "cluster_df_5.rename(columns={0: 'KMEANS_5'}, inplace=True)"
   ]
  },
  {
   "cell_type": "code",
   "execution_count": 100,
   "metadata": {},
   "outputs": [],
   "source": [
    "cluster_df_5.to_csv('cluster_df_5.csv')"
   ]
  },
  {
   "cell_type": "code",
   "execution_count": 101,
   "metadata": {},
   "outputs": [
    {
     "data": {
      "text/html": [
       "<div>\n",
       "<style scoped>\n",
       "    .dataframe tbody tr th:only-of-type {\n",
       "        vertical-align: middle;\n",
       "    }\n",
       "\n",
       "    .dataframe tbody tr th {\n",
       "        vertical-align: top;\n",
       "    }\n",
       "\n",
       "    .dataframe thead th {\n",
       "        text-align: right;\n",
       "    }\n",
       "</style>\n",
       "<table border=\"1\" class=\"dataframe\">\n",
       "  <thead>\n",
       "    <tr style=\"text-align: right;\">\n",
       "      <th></th>\n",
       "      <th>index</th>\n",
       "      <th>AGE_GROUP</th>\n",
       "      <th>GENDER_GROUP</th>\n",
       "      <th>INCOME_GROUP</th>\n",
       "      <th>REVIEW_IND</th>\n",
       "      <th>count</th>\n",
       "      <th>id</th>\n",
       "      <th>proc_1</th>\n",
       "      <th>proc_10</th>\n",
       "      <th>proc_100</th>\n",
       "      <th>...</th>\n",
       "      <th>proc_91</th>\n",
       "      <th>proc_92</th>\n",
       "      <th>proc_93</th>\n",
       "      <th>proc_94</th>\n",
       "      <th>proc_95</th>\n",
       "      <th>proc_96</th>\n",
       "      <th>proc_97</th>\n",
       "      <th>proc_98</th>\n",
       "      <th>proc_99</th>\n",
       "      <th>KMEANS_5</th>\n",
       "    </tr>\n",
       "  </thead>\n",
       "  <tbody>\n",
       "    <tr>\n",
       "      <th>0</th>\n",
       "      <td>6</td>\n",
       "      <td>3</td>\n",
       "      <td>0</td>\n",
       "      <td>4</td>\n",
       "      <td>0</td>\n",
       "      <td>3</td>\n",
       "      <td>19106</td>\n",
       "      <td>0</td>\n",
       "      <td>0</td>\n",
       "      <td>0</td>\n",
       "      <td>...</td>\n",
       "      <td>0</td>\n",
       "      <td>0</td>\n",
       "      <td>0</td>\n",
       "      <td>0</td>\n",
       "      <td>0</td>\n",
       "      <td>0</td>\n",
       "      <td>0</td>\n",
       "      <td>0</td>\n",
       "      <td>0</td>\n",
       "      <td>0</td>\n",
       "    </tr>\n",
       "    <tr>\n",
       "      <th>1</th>\n",
       "      <td>14</td>\n",
       "      <td>3</td>\n",
       "      <td>0</td>\n",
       "      <td>1</td>\n",
       "      <td>0</td>\n",
       "      <td>3</td>\n",
       "      <td>28504</td>\n",
       "      <td>0</td>\n",
       "      <td>0</td>\n",
       "      <td>0</td>\n",
       "      <td>...</td>\n",
       "      <td>0</td>\n",
       "      <td>0</td>\n",
       "      <td>0</td>\n",
       "      <td>0</td>\n",
       "      <td>0</td>\n",
       "      <td>0</td>\n",
       "      <td>0</td>\n",
       "      <td>0</td>\n",
       "      <td>0</td>\n",
       "      <td>3</td>\n",
       "    </tr>\n",
       "    <tr>\n",
       "      <th>2</th>\n",
       "      <td>23</td>\n",
       "      <td>2</td>\n",
       "      <td>1</td>\n",
       "      <td>2</td>\n",
       "      <td>0</td>\n",
       "      <td>4</td>\n",
       "      <td>39897</td>\n",
       "      <td>0</td>\n",
       "      <td>0</td>\n",
       "      <td>0</td>\n",
       "      <td>...</td>\n",
       "      <td>0</td>\n",
       "      <td>0</td>\n",
       "      <td>0</td>\n",
       "      <td>0</td>\n",
       "      <td>0</td>\n",
       "      <td>0</td>\n",
       "      <td>0</td>\n",
       "      <td>0</td>\n",
       "      <td>0</td>\n",
       "      <td>3</td>\n",
       "    </tr>\n",
       "    <tr>\n",
       "      <th>3</th>\n",
       "      <td>26</td>\n",
       "      <td>2</td>\n",
       "      <td>0</td>\n",
       "      <td>1</td>\n",
       "      <td>0</td>\n",
       "      <td>4</td>\n",
       "      <td>41908</td>\n",
       "      <td>0</td>\n",
       "      <td>0</td>\n",
       "      <td>0</td>\n",
       "      <td>...</td>\n",
       "      <td>0</td>\n",
       "      <td>0</td>\n",
       "      <td>0</td>\n",
       "      <td>0</td>\n",
       "      <td>0</td>\n",
       "      <td>0</td>\n",
       "      <td>0</td>\n",
       "      <td>0</td>\n",
       "      <td>0</td>\n",
       "      <td>0</td>\n",
       "    </tr>\n",
       "    <tr>\n",
       "      <th>4</th>\n",
       "      <td>30</td>\n",
       "      <td>4</td>\n",
       "      <td>0</td>\n",
       "      <td>1</td>\n",
       "      <td>0</td>\n",
       "      <td>2</td>\n",
       "      <td>47601</td>\n",
       "      <td>0</td>\n",
       "      <td>0</td>\n",
       "      <td>0</td>\n",
       "      <td>...</td>\n",
       "      <td>0</td>\n",
       "      <td>0</td>\n",
       "      <td>0</td>\n",
       "      <td>0</td>\n",
       "      <td>0</td>\n",
       "      <td>0</td>\n",
       "      <td>0</td>\n",
       "      <td>0</td>\n",
       "      <td>0</td>\n",
       "      <td>3</td>\n",
       "    </tr>\n",
       "  </tbody>\n",
       "</table>\n",
       "<p>5 rows × 138 columns</p>\n",
       "</div>"
      ],
      "text/plain": [
       "   index  AGE_GROUP  GENDER_GROUP  INCOME_GROUP  REVIEW_IND  count     id  \\\n",
       "0      6          3             0             4           0      3  19106   \n",
       "1     14          3             0             1           0      3  28504   \n",
       "2     23          2             1             2           0      4  39897   \n",
       "3     26          2             0             1           0      4  41908   \n",
       "4     30          4             0             1           0      2  47601   \n",
       "\n",
       "   proc_1  proc_10  proc_100  ...  proc_91  proc_92  proc_93  proc_94  \\\n",
       "0       0        0         0  ...        0        0        0        0   \n",
       "1       0        0         0  ...        0        0        0        0   \n",
       "2       0        0         0  ...        0        0        0        0   \n",
       "3       0        0         0  ...        0        0        0        0   \n",
       "4       0        0         0  ...        0        0        0        0   \n",
       "\n",
       "   proc_95  proc_96  proc_97  proc_98  proc_99  KMEANS_5  \n",
       "0        0        0        0        0        0         0  \n",
       "1        0        0        0        0        0         3  \n",
       "2        0        0        0        0        0         3  \n",
       "3        0        0        0        0        0         0  \n",
       "4        0        0        0        0        0         3  \n",
       "\n",
       "[5 rows x 138 columns]"
      ]
     },
     "execution_count": 101,
     "metadata": {},
     "output_type": "execute_result"
    }
   ],
   "source": [
    "cluster_df_5.head()"
   ]
  },
  {
   "cell_type": "code",
   "execution_count": 102,
   "metadata": {},
   "outputs": [],
   "source": [
    "cluster_to_audit = cluster_df_5[['id', 'REVIEW_IND', 'KMEANS_5']]"
   ]
  },
  {
   "attachments": {
    "image.png": {
     "image/png": "[encoded data removed]"
    }
   },
   "cell_type": "markdown",
   "metadata": {},
   "source": [
    "    We see the anomalous patients are getting grouped at Cluster 0 to the highest follwed by cluster 2\n",
    "\n",
    "   ![image.png](attachment:image.png)"
   ]
  },
  {
   "cell_type": "markdown",
   "metadata": {},
   "source": [
    "**END OF PART 3**"
   ]
  }
 ],
 "metadata": {
  "kernelspec": {
   "display_name": "Python 3",
   "language": "python",
   "name": "python3"
  },
  "language_info": {
   "codemirror_mode": {
    "name": "ipython",
    "version": 3
   },
   "file_extension": ".py",
   "mimetype": "text/x-python",
   "name": "python",
   "nbconvert_exporter": "python",
   "pygments_lexer": "ipython3",
   "version": "3.7.6"
  }
 },
 "nbformat": 4,
 "nbformat_minor": 2
}
