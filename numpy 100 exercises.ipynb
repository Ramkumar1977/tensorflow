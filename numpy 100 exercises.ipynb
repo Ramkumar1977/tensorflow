{
 "cells": [
  {
   "cell_type": "markdown",
   "metadata": {},
   "source": [
    "# numpy exercises\n",
    "A joint effort of the numpy community\n",
    "The goal is both to offer a quick reference for new and old users and to providealso a set of exercices for those who teach.\n",
    "If you remember having asked oranswered a (short) problem, you can send a pull request. \n",
    "The format is:\n",
    "#. Find indices of non-zero elements from [1,2,0,0,4,0]\n",
    ".. code:: python      \n",
    "        # Author: Somebody     \n",
    "        print(np.nonzero([1,2,0,0,4,0]))Here is what the page looks like so far:http://www.labri.fr/perso/nrougier/teaching/numpy.100/index.htmlRepository is at: https://github.com/rougier/numpy­100Thanks to Michiaki Ariga, there is now a Julia version.\n",
    "                       "
   ]
  },
  {
   "cell_type": "code",
   "execution_count": 1,
   "metadata": {},
   "outputs": [],
   "source": [
    "#1. Import the numpy package under the name np (★☆☆) \n",
    "import numpy as np"
   ]
  },
  {
   "cell_type": "code",
   "execution_count": 3,
   "metadata": {
    "scrolled": true
   },
   "outputs": [
    {
     "name": "stdout",
     "output_type": "stream",
     "text": [
      "1.19.5\n",
      "blas_mkl_info:\n",
      "  NOT AVAILABLE\n",
      "blis_info:\n",
      "  NOT AVAILABLE\n",
      "openblas_info:\n",
      "    library_dirs = ['D:\\\\a\\\\1\\\\s\\\\numpy\\\\build\\\\openblas_info']\n",
      "    libraries = ['openblas_info']\n",
      "    language = f77\n",
      "    define_macros = [('HAVE_CBLAS', None)]\n",
      "blas_opt_info:\n",
      "    library_dirs = ['D:\\\\a\\\\1\\\\s\\\\numpy\\\\build\\\\openblas_info']\n",
      "    libraries = ['openblas_info']\n",
      "    language = f77\n",
      "    define_macros = [('HAVE_CBLAS', None)]\n",
      "lapack_mkl_info:\n",
      "  NOT AVAILABLE\n",
      "openblas_lapack_info:\n",
      "    library_dirs = ['D:\\\\a\\\\1\\\\s\\\\numpy\\\\build\\\\openblas_lapack_info']\n",
      "    libraries = ['openblas_lapack_info']\n",
      "    language = f77\n",
      "    define_macros = [('HAVE_CBLAS', None)]\n",
      "lapack_opt_info:\n",
      "    library_dirs = ['D:\\\\a\\\\1\\\\s\\\\numpy\\\\build\\\\openblas_lapack_info']\n",
      "    libraries = ['openblas_lapack_info']\n",
      "    language = f77\n",
      "    define_macros = [('HAVE_CBLAS', None)]\n"
     ]
    }
   ],
   "source": [
    "#2. Print the numpy version and the configuration (★☆☆)\n",
    "print(np.__version__)\n",
    "np.show_config()"
   ]
  },
  {
   "cell_type": "code",
   "execution_count": 4,
   "metadata": {},
   "outputs": [
    {
     "name": "stdout",
     "output_type": "stream",
     "text": [
      "[0. 0. 0. 0. 0. 0. 0. 0. 0. 0.]\n"
     ]
    }
   ],
   "source": [
    "#3. Create a null vector of size 10 (★☆☆)\n",
    "Z = np.zeros(10)\n",
    "print(Z)"
   ]
  },
  {
   "cell_type": "code",
   "execution_count": 61,
   "metadata": {},
   "outputs": [],
   "source": [
    "#4. How to get the documentation of the numpy add function from the commandline? (★☆☆)\n",
    "#python -c \"import numpy; numpy.info(numpy.add)\""
   ]
  },
  {
   "cell_type": "code",
   "execution_count": 7,
   "metadata": {},
   "outputs": [
    {
     "name": "stdout",
     "output_type": "stream",
     "text": [
      "[0. 0. 0. 0. 1. 0. 0. 0. 0. 0.]\n"
     ]
    }
   ],
   "source": [
    "#5. Create a null vector of size 10 but the fifth value which is 1 (★☆☆)\n",
    "Z = np.zeros(10)\n",
    "Z[4] = 1\n",
    "print(Z)"
   ]
  },
  {
   "cell_type": "code",
   "execution_count": 8,
   "metadata": {},
   "outputs": [
    {
     "name": "stdout",
     "output_type": "stream",
     "text": [
      "[10 11 12 13 14 15 16 17 18 19 20 21 22 23 24 25 26 27 28 29 30 31 32 33\n",
      " 34 35 36 37 38 39 40 41 42 43 44 45 46 47 48 49]\n"
     ]
    }
   ],
   "source": [
    "#6. Create a vector with values ranging from 10 to 49 (★☆☆)\n",
    "Z = np.arange(10,50)\n",
    "print(Z)"
   ]
  },
  {
   "cell_type": "code",
   "execution_count": 9,
   "metadata": {},
   "outputs": [],
   "source": [
    "#7. Reverse a vector (first element becomes last) (★☆☆)\n",
    "Z = np.arange(50)\n",
    "Z = Z[::-1]"
   ]
  },
  {
   "cell_type": "code",
   "execution_count": 10,
   "metadata": {},
   "outputs": [],
   "source": [
    "#8. Create a 3x3 matrix with values ranging from 0 to 8 (★☆☆)"
   ]
  },
  {
   "cell_type": "code",
   "execution_count": 11,
   "metadata": {},
   "outputs": [
    {
     "name": "stdout",
     "output_type": "stream",
     "text": [
      "[[0 1 2]\n",
      " [3 4 5]\n",
      " [6 7 8]]\n"
     ]
    }
   ],
   "source": [
    "Z = np.arange(9).reshape(3,3)\n",
    "print(Z)"
   ]
  },
  {
   "cell_type": "code",
   "execution_count": 12,
   "metadata": {},
   "outputs": [
    {
     "name": "stdout",
     "output_type": "stream",
     "text": [
      "(array([0, 1, 4], dtype=int64),)\n"
     ]
    }
   ],
   "source": [
    "#9. Find indices of non­zero elements from [1,2,0,0,4,0] (★☆☆)\n",
    "nz = np.nonzero([1,2,0,0,4,0])\n",
    "print(nz)"
   ]
  },
  {
   "cell_type": "code",
   "execution_count": 13,
   "metadata": {},
   "outputs": [
    {
     "name": "stdout",
     "output_type": "stream",
     "text": [
      "[[1. 0. 0.]\n",
      " [0. 1. 0.]\n",
      " [0. 0. 1.]]\n"
     ]
    }
   ],
   "source": [
    "#10. Create a 3x3 identity matrix (★☆☆)\n",
    "Z = np.eye(3)\n",
    "print(Z)"
   ]
  },
  {
   "cell_type": "code",
   "execution_count": 14,
   "metadata": {},
   "outputs": [
    {
     "name": "stdout",
     "output_type": "stream",
     "text": [
      "[[[0.23662687 0.18872171 0.12339821]\n",
      "  [0.57630268 0.01495411 0.31488181]\n",
      "  [0.53930508 0.48335842 0.74894765]]\n",
      "\n",
      " [[0.04471176 0.65636827 0.42822382]\n",
      "  [0.53210811 0.60827796 0.68260539]\n",
      "  [0.95729994 0.77110503 0.68060824]]\n",
      "\n",
      " [[0.97825546 0.67576206 0.67592179]\n",
      "  [0.93131052 0.13102964 0.06187632]\n",
      "  [0.2087487  0.42889664 0.52153036]]]\n"
     ]
    }
   ],
   "source": [
    "#11. Create a 3x3x3 array with random values (★☆☆)\n",
    "Z = np.random.random((3,3,3))\n",
    "print(Z)"
   ]
  },
  {
   "cell_type": "code",
   "execution_count": 15,
   "metadata": {},
   "outputs": [
    {
     "name": "stdout",
     "output_type": "stream",
     "text": [
      "0.008439926844244883 0.9794460855631003\n"
     ]
    }
   ],
   "source": [
    "#12. Create a 10x10 array with random values and find the minimum and maximumvalues (★☆☆)\n",
    "Z = np.random.random((10,10))\n",
    "Zmin,Zmax = Z.min(),Z.max()\n",
    "print(Zmin,Zmax)"
   ]
  },
  {
   "cell_type": "code",
   "execution_count": 16,
   "metadata": {},
   "outputs": [
    {
     "name": "stdout",
     "output_type": "stream",
     "text": [
      "0.4992463894313142\n"
     ]
    }
   ],
   "source": [
    "#13. Create a random vector of size 30 and find the mean value (★☆☆)\n",
    "Z = np.random.random(30)\n",
    "m = Z.mean()\n",
    "print(m)"
   ]
  },
  {
   "cell_type": "code",
   "execution_count": 17,
   "metadata": {},
   "outputs": [],
   "source": [
    "#14. Create a 2d array with 1 on the border and 0 inside (★☆☆)\n",
    "Z = np.ones((10,10))\n",
    "Z[1:-1,1:-1] = 0"
   ]
  },
  {
   "cell_type": "code",
   "execution_count": 18,
   "metadata": {},
   "outputs": [
    {
     "data": {
      "text/plain": [
       "False"
      ]
     },
     "execution_count": 18,
     "metadata": {},
     "output_type": "execute_result"
    }
   ],
   "source": [
    "#15. What is the result of the following expression? (★☆☆)\n",
    "0*np.nan\n",
    "np.nan == np.nan\n",
    "np.inf>np.nan\n",
    "np.nan-np.nan\n",
    "0.3 == 3*0.1"
   ]
  },
  {
   "cell_type": "code",
   "execution_count": 19,
   "metadata": {},
   "outputs": [
    {
     "name": "stdout",
     "output_type": "stream",
     "text": [
      "[[0 0 0 0 0]\n",
      " [1 0 0 0 0]\n",
      " [0 2 0 0 0]\n",
      " [0 0 3 0 0]\n",
      " [0 0 0 4 0]]\n"
     ]
    }
   ],
   "source": [
    "#16. Create a 5x5 matrix with values 1,2,3,4 just below the diagonal (★☆☆)\n",
    "Z = np.diag(1+np.arange(4),k=-1)\n",
    "print(Z)"
   ]
  },
  {
   "cell_type": "code",
   "execution_count": 23,
   "metadata": {},
   "outputs": [
    {
     "name": "stdout",
     "output_type": "stream",
     "text": [
      "[[0 1 0 1 0 1 0 1]\n",
      " [1 0 1 0 1 0 1 0]\n",
      " [0 1 0 1 0 1 0 1]\n",
      " [1 0 1 0 1 0 1 0]\n",
      " [0 1 0 1 0 1 0 1]\n",
      " [1 0 1 0 1 0 1 0]\n",
      " [0 1 0 1 0 1 0 1]\n",
      " [1 0 1 0 1 0 1 0]]\n"
     ]
    }
   ],
   "source": [
    "#17. Create a 8x8 matrix and fill it with a checkerboard pattern (★☆☆)\n",
    "Z = np.zeros((8,8),dtype=int)\n",
    "Z[1::2,::2] = 1\n",
    "Z[::2,1::2] = 1\n",
    "print(Z)"
   ]
  },
  {
   "cell_type": "code",
   "execution_count": 21,
   "metadata": {},
   "outputs": [
    {
     "name": "stdout",
     "output_type": "stream",
     "text": [
      "(1, 5, 4)\n"
     ]
    }
   ],
   "source": [
    "#18. Consider a (6,7,8) shape array, what is the index (x,y,z) of the 100th element?\n",
    "print(np.unravel_index(100,(6,7,8)))"
   ]
  },
  {
   "cell_type": "code",
   "execution_count": 22,
   "metadata": {},
   "outputs": [
    {
     "name": "stdout",
     "output_type": "stream",
     "text": [
      "[[0 1 0 1 0 1 0 1]\n",
      " [1 0 1 0 1 0 1 0]\n",
      " [0 1 0 1 0 1 0 1]\n",
      " [1 0 1 0 1 0 1 0]\n",
      " [0 1 0 1 0 1 0 1]\n",
      " [1 0 1 0 1 0 1 0]\n",
      " [0 1 0 1 0 1 0 1]\n",
      " [1 0 1 0 1 0 1 0]]\n"
     ]
    }
   ],
   "source": [
    "#19. Create a checkerboard 8x8 matrix using the tile function (★☆☆)\n",
    "Z = np.tile(np.array([[0,1],[1,0]]),(4,4))\n",
    "print(Z)"
   ]
  },
  {
   "cell_type": "code",
   "execution_count": 162,
   "metadata": {},
   "outputs": [
    {
     "name": "stdout",
     "output_type": "stream",
     "text": [
      "[[0.28607083 0.20141935 0.24932898 0.49056162 0.87663891]\n",
      " [0.2758539  0.32041917 0.         0.45196631 0.67920654]\n",
      " [0.39264614 0.67958542 0.68104983 0.16981269 0.51886507]\n",
      " [0.31875736 0.93388535 0.81072521 0.22700333 1.        ]\n",
      " [0.16328969 0.00327262 0.9915005  0.55304053 0.69793191]]\n"
     ]
    }
   ],
   "source": [
    "#20. Normalize a 5x5 random matrix (★☆☆)\n",
    "Z = np.random.random((5,5))\n",
    "Zmax,Zmin = Z.max(),Z.min()\n",
    "Z = (Z-Zmin)/(Zmax-Zmin)\n",
    "print(Z)"
   ]
  },
  {
   "cell_type": "code",
   "execution_count": 26,
   "metadata": {},
   "outputs": [
    {
     "name": "stderr",
     "output_type": "stream",
     "text": [
      "D:\\anaconda\\lib\\site-packages\\ipykernel_launcher.py:2: FutureWarning: Passing (type, 1) or '1type' as a synonym of type is deprecated; in a future version of numpy, it will be understood as (type, (1,)) / '(1,)type'.\n",
      "  \n"
     ]
    }
   ],
   "source": [
    "#21. Create a custom dtype that describes a color as four unisgned bytes (RGBA)(★☆☆)\n",
    "color = np.dtype([(\"r\",np.ubyte,1),(\"g\",np.ubyte,1),(\"b\",np.ubyte,1),(\"a\",np.ubyte,1)])"
   ]
  },
  {
   "cell_type": "code",
   "execution_count": 163,
   "metadata": {},
   "outputs": [
    {
     "name": "stdout",
     "output_type": "stream",
     "text": [
      "[[3. 3.]\n",
      " [3. 3.]\n",
      " [3. 3.]\n",
      " [3. 3.]\n",
      " [3. 3.]]\n"
     ]
    }
   ],
   "source": [
    "#22. Multiply a 5x3 matrix by a 3x2 matrix (real matrix product) (★☆☆)\n",
    "Z = np.dot(np.ones((5,3)),np.ones((3,2)))\n",
    "print(Z)"
   ]
  },
  {
   "cell_type": "code",
   "execution_count": 164,
   "metadata": {},
   "outputs": [],
   "source": [
    "#23. Given a 1D array, negate all elements which are between 3 and 8, in place.(★☆☆)\n",
    "# Author: Evgeni Burovski\n",
    "Z = np.arange(11)\n",
    "Z[(3<Z)&(Z<=8)]*=-1"
   ]
  },
  {
   "cell_type": "code",
   "execution_count": 166,
   "metadata": {},
   "outputs": [
    {
     "name": "stdout",
     "output_type": "stream",
     "text": [
      "10\n"
     ]
    }
   ],
   "source": [
    "#24. What is the output of the following script? (★☆☆)\n",
    "# Author: Jake VanderPlas\n",
    "from numpy import*\n",
    "print(sum(range(5),-1))"
   ]
  },
  {
   "cell_type": "code",
   "execution_count": 60,
   "metadata": {},
   "outputs": [],
   "source": [
    "#25. Consider an integer vector Z, which of these expressions are legal? (★☆☆)\n",
    "#Z**Z\n",
    "#2<<Z>>2\n",
    "#Z<-Z\n",
    "#1j*Z\n",
    "#Z/1/1\n",
    "#Z<Z>Z"
   ]
  },
  {
   "cell_type": "code",
   "execution_count": 167,
   "metadata": {},
   "outputs": [
    {
     "name": "stderr",
     "output_type": "stream",
     "text": [
      "D:\\anaconda\\lib\\site-packages\\ipykernel_launcher.py:2: RuntimeWarning: divide by zero encountered in floor_divide\n",
      "  \n",
      "D:\\anaconda\\lib\\site-packages\\ipykernel_launcher.py:3: RuntimeWarning: invalid value encountered in floor_divide\n",
      "  This is separate from the ipykernel package so we can avoid doing imports until\n",
      "D:\\anaconda\\lib\\site-packages\\ipykernel_launcher.py:4: RuntimeWarning: invalid value encountered in true_divide\n",
      "  after removing the cwd from sys.path.\n",
      "D:\\anaconda\\lib\\site-packages\\ipykernel_launcher.py:5: RuntimeWarning: invalid value encountered in true_divide\n",
      "  \"\"\"\n"
     ]
    },
    {
     "data": {
      "text/plain": [
       "nan"
      ]
     },
     "execution_count": 167,
     "metadata": {},
     "output_type": "execute_result"
    }
   ],
   "source": [
    "#26. What are the result of the following expressions?\n",
    "np.array(0)//np.array(0)\n",
    "np.array(0)//np.array(0.)\n",
    "np.array(0)/np.array(0)\n",
    "np.array(0)/np.array(0.)"
   ]
  },
  {
   "cell_type": "code",
   "execution_count": 168,
   "metadata": {},
   "outputs": [
    {
     "name": "stdout",
     "output_type": "stream",
     "text": [
      "[ 4. -4.  8.  5. -6. -2. 10.  4.  4. -7.]\n"
     ]
    }
   ],
   "source": [
    "#27. How to round away from zero a float array ? (★☆☆)\n",
    "# Author: Charles R Harris\n",
    "Z = np.random.uniform(-10,+10,10)\n",
    "print(np.trunc(Z+np.copysign(0.5,Z)))"
   ]
  },
  {
   "cell_type": "code",
   "execution_count": 169,
   "metadata": {},
   "outputs": [
    {
     "name": "stdout",
     "output_type": "stream",
     "text": [
      "[4. 6. 9. 5. 5. 2. 7. 2. 2. 5.]\n",
      "[4. 6. 9. 5. 5. 2. 7. 2. 2. 5.]\n",
      "[4. 6. 9. 5. 5. 2. 7. 2. 2. 5.]\n",
      "[4 6 9 5 5 2 7 2 2 5]\n",
      "[4. 6. 9. 5. 5. 2. 7. 2. 2. 5.]\n"
     ]
    }
   ],
   "source": [
    "#28. Extract the integer part of a random array using 5 different methods (★★☆)\n",
    "Z = np.random.uniform(0,10,10)\n",
    "print(Z-Z%1)\n",
    "print(np.floor(Z))\n",
    "print(np.ceil(Z)-1)\n",
    "print(Z.astype(int))\n",
    "print(np.trunc(Z))"
   ]
  },
  {
   "cell_type": "code",
   "execution_count": 170,
   "metadata": {},
   "outputs": [
    {
     "name": "stdout",
     "output_type": "stream",
     "text": [
      "[[0. 1. 2. 3. 4.]\n",
      " [0. 1. 2. 3. 4.]\n",
      " [0. 1. 2. 3. 4.]\n",
      " [0. 1. 2. 3. 4.]\n",
      " [0. 1. 2. 3. 4.]]\n"
     ]
    }
   ],
   "source": [
    "#29. Create a 5x5 matrix with row values ranging from 0 to 4 (★★☆)\n",
    "Z = np.zeros((5,5))\n",
    "Z+= np.arange(5)\n",
    "print(Z)"
   ]
  },
  {
   "cell_type": "code",
   "execution_count": 171,
   "metadata": {},
   "outputs": [],
   "source": [
    "#30. Consider a generator function that generates 10 integers and use it to build anarray (★☆☆)\n",
    "#def generate():\n",
    " #   for x in xrange(10):\n",
    "#        yield x\n",
    "#Z=np.fromiter(generate(),dtype=float,count=-1)\n",
    "#print(Z)   "
   ]
  },
  {
   "cell_type": "code",
   "execution_count": 172,
   "metadata": {},
   "outputs": [
    {
     "name": "stdout",
     "output_type": "stream",
     "text": [
      "[0.09090909 0.18181818 0.27272727 0.36363636 0.45454545 0.54545455\n",
      " 0.63636364 0.72727273 0.81818182 0.90909091]\n"
     ]
    }
   ],
   "source": [
    "#31. Create a vector of size 10 with values ranging from 0 to 1, both excluded (★★☆)\n",
    "Z = np.linspace(0,1,12,endpoint=True)[1:-1]\n",
    "print(Z)      "
   ]
  },
  {
   "cell_type": "code",
   "execution_count": 173,
   "metadata": {},
   "outputs": [
    {
     "name": "stdout",
     "output_type": "stream",
     "text": [
      "[0.02358363 0.21074487 0.30274654 0.36654083 0.4803157  0.61516762\n",
      " 0.7022566  0.83065336 0.86045505 0.92951049]\n"
     ]
    }
   ],
   "source": [
    "#32. Create a random vector of size 10 and sort it (★★☆)\n",
    "Z = np.random.random(10)\n",
    "Z.sort()\n",
    "print(Z)       "
   ]
  },
  {
   "cell_type": "code",
   "execution_count": 174,
   "metadata": {},
   "outputs": [
    {
     "data": {
      "text/plain": [
       "45"
      ]
     },
     "execution_count": 174,
     "metadata": {},
     "output_type": "execute_result"
    }
   ],
   "source": [
    "#33. How to sum a small array faster than np.sum? (★★☆)# Author: Evgeni Burovski\n",
    "Z = np.arange(10)\n",
    "np.add.reduce(Z)     "
   ]
  },
  {
   "cell_type": "code",
   "execution_count": 175,
   "metadata": {},
   "outputs": [
    {
     "name": "stdout",
     "output_type": "stream",
     "text": [
      "False\n"
     ]
    }
   ],
   "source": [
    "#34. Consider two random array A anb B, check if they are equal (★★☆)\n",
    "A = np.random.randint(0,2,5)\n",
    "B = np.random.randint(0,2,5)\n",
    "equal = np.allclose(A,B)\n",
    "print(equal) "
   ]
  },
  {
   "cell_type": "code",
   "execution_count": 176,
   "metadata": {},
   "outputs": [
    {
     "data": {
      "text/plain": [
       "0.0"
      ]
     },
     "execution_count": 176,
     "metadata": {},
     "output_type": "execute_result"
    }
   ],
   "source": [
    "#35. Make an array immutable (read­only) (★★☆)\n",
    "Z = np.zeros(10)\n",
    "Z.flags.writeable = False\n",
    "Z[0]"
   ]
  },
  {
   "cell_type": "code",
   "execution_count": 177,
   "metadata": {},
   "outputs": [
    {
     "name": "stdout",
     "output_type": "stream",
     "text": [
      "[0.70168058 0.61005118 0.19234129 0.88184922 0.88542234 0.52972228\n",
      " 1.06773792 0.67341631 0.64323783 1.03115355]\n",
      "[0.72401381 1.28599379 1.02885136 0.63445015 0.74930439 0.68838811\n",
      " 0.99644304 0.37156746 0.68353535 1.30798075]\n"
     ]
    }
   ],
   "source": [
    "#36. Consider a random 10x2 matrix representing cartesian coordinates, convert themto polar coordinates (★★☆)\n",
    "Z = np.random.random((10,2))\n",
    "X,Y = Z[:,0],Z[:,1]\n",
    "R = np.sqrt(X**2+Y**2)\n",
    "T = np.arctan2(Y,X)\n",
    "print(R)\n",
    "print(T)      "
   ]
  },
  {
   "cell_type": "code",
   "execution_count": 178,
   "metadata": {},
   "outputs": [
    {
     "name": "stdout",
     "output_type": "stream",
     "text": [
      "[0.56761659 0.4255427  0.64862186 0.63991228 0.04107728 0.\n",
      " 0.24675217 0.94636607 0.74859105 0.22628025]\n"
     ]
    }
   ],
   "source": [
    "#37. Create random vector of size 10 and replace the maximum value by 0 (★★☆)\n",
    "Z = np.random.random(10)\n",
    "Z[Z.argmax()] = 0\n",
    "print(Z)      "
   ]
  },
  {
   "cell_type": "code",
   "execution_count": 180,
   "metadata": {
    "scrolled": true
   },
   "outputs": [
    {
     "name": "stdout",
     "output_type": "stream",
     "text": [
      "[[(0.        , 0.        ) (0.11111111, 0.        )\n",
      "  (0.22222222, 0.        ) (0.33333333, 0.        )\n",
      "  (0.44444444, 0.        ) (0.55555556, 0.        )\n",
      "  (0.66666667, 0.        ) (0.77777778, 0.        )\n",
      "  (0.88888889, 0.        ) (1.        , 0.        )]\n",
      " [(0.        , 0.11111111) (0.11111111, 0.11111111)\n",
      "  (0.22222222, 0.11111111) (0.33333333, 0.11111111)\n",
      "  (0.44444444, 0.11111111) (0.55555556, 0.11111111)\n",
      "  (0.66666667, 0.11111111) (0.77777778, 0.11111111)\n",
      "  (0.88888889, 0.11111111) (1.        , 0.11111111)]\n",
      " [(0.        , 0.22222222) (0.11111111, 0.22222222)\n",
      "  (0.22222222, 0.22222222) (0.33333333, 0.22222222)\n",
      "  (0.44444444, 0.22222222) (0.55555556, 0.22222222)\n",
      "  (0.66666667, 0.22222222) (0.77777778, 0.22222222)\n",
      "  (0.88888889, 0.22222222) (1.        , 0.22222222)]\n",
      " [(0.        , 0.33333333) (0.11111111, 0.33333333)\n",
      "  (0.22222222, 0.33333333) (0.33333333, 0.33333333)\n",
      "  (0.44444444, 0.33333333) (0.55555556, 0.33333333)\n",
      "  (0.66666667, 0.33333333) (0.77777778, 0.33333333)\n",
      "  (0.88888889, 0.33333333) (1.        , 0.33333333)]\n",
      " [(0.        , 0.44444444) (0.11111111, 0.44444444)\n",
      "  (0.22222222, 0.44444444) (0.33333333, 0.44444444)\n",
      "  (0.44444444, 0.44444444) (0.55555556, 0.44444444)\n",
      "  (0.66666667, 0.44444444) (0.77777778, 0.44444444)\n",
      "  (0.88888889, 0.44444444) (1.        , 0.44444444)]\n",
      " [(0.        , 0.55555556) (0.11111111, 0.55555556)\n",
      "  (0.22222222, 0.55555556) (0.33333333, 0.55555556)\n",
      "  (0.44444444, 0.55555556) (0.55555556, 0.55555556)\n",
      "  (0.66666667, 0.55555556) (0.77777778, 0.55555556)\n",
      "  (0.88888889, 0.55555556) (1.        , 0.55555556)]\n",
      " [(0.        , 0.66666667) (0.11111111, 0.66666667)\n",
      "  (0.22222222, 0.66666667) (0.33333333, 0.66666667)\n",
      "  (0.44444444, 0.66666667) (0.55555556, 0.66666667)\n",
      "  (0.66666667, 0.66666667) (0.77777778, 0.66666667)\n",
      "  (0.88888889, 0.66666667) (1.        , 0.66666667)]\n",
      " [(0.        , 0.77777778) (0.11111111, 0.77777778)\n",
      "  (0.22222222, 0.77777778) (0.33333333, 0.77777778)\n",
      "  (0.44444444, 0.77777778) (0.55555556, 0.77777778)\n",
      "  (0.66666667, 0.77777778) (0.77777778, 0.77777778)\n",
      "  (0.88888889, 0.77777778) (1.        , 0.77777778)]\n",
      " [(0.        , 0.88888889) (0.11111111, 0.88888889)\n",
      "  (0.22222222, 0.88888889) (0.33333333, 0.88888889)\n",
      "  (0.44444444, 0.88888889) (0.55555556, 0.88888889)\n",
      "  (0.66666667, 0.88888889) (0.77777778, 0.88888889)\n",
      "  (0.88888889, 0.88888889) (1.        , 0.88888889)]\n",
      " [(0.        , 1.        ) (0.11111111, 1.        )\n",
      "  (0.22222222, 1.        ) (0.33333333, 1.        )\n",
      "  (0.44444444, 1.        ) (0.55555556, 1.        )\n",
      "  (0.66666667, 1.        ) (0.77777778, 1.        )\n",
      "  (0.88888889, 1.        ) (1.        , 1.        )]]\n"
     ]
    }
   ],
   "source": [
    "#38. Create a structured array with x and y coordinates covering the [0,1]x[0,1] area(★★☆\n",
    "Z = np.zeros((10,10),[('x',float),('y',float)])\n",
    "Z['x'],Z['y'] = np.meshgrid(np.linspace(0,1,10),np.linspace(0,1,10))\n",
    "print(Z)"
   ]
  },
  {
   "cell_type": "code",
   "execution_count": 181,
   "metadata": {},
   "outputs": [
    {
     "name": "stdout",
     "output_type": "stream",
     "text": [
      "3638.1636371179666\n"
     ]
    }
   ],
   "source": [
    "#39. Given two arrays, X and Y, construct the Cauchy matrix C (Cij = 1/(xi ­ yj))# Author: Evgeni Burovski\n",
    "X = np.arange(8)\n",
    "Y = X+0.5\n",
    "C = 1.0/np.subtract.outer(X,Y)\n",
    "print(np.linalg.det(C))"
   ]
  },
  {
   "cell_type": "code",
   "execution_count": 182,
   "metadata": {},
   "outputs": [
    {
     "name": "stdout",
     "output_type": "stream",
     "text": [
      "-128\n",
      "127\n",
      "-2147483648\n",
      "2147483647\n",
      "-9223372036854775808\n",
      "9223372036854775807\n",
      "-3.4028235e+38\n",
      "3.4028235e+38\n",
      "1.1920929e-07\n",
      "-1.7976931348623157e+308\n",
      "1.7976931348623157e+308\n",
      "2.220446049250313e-16\n"
     ]
    }
   ],
   "source": [
    "#40. Print the minimum and maximum representable value for each numpy scalar type(★★☆)\n",
    "for dtype in[np.int8,np.int32,np.int64]:\n",
    "    print(np.iinfo(dtype).min)\n",
    "    print(np.iinfo(dtype).max)\n",
    "for dtype in[np.float32,np.float64]:\n",
    "        print(np.finfo(dtype).min)\n",
    "        print(np.finfo(dtype).max)\n",
    "        print(np.finfo(dtype).eps)  "
   ]
  },
  {
   "cell_type": "code",
   "execution_count": 183,
   "metadata": {},
   "outputs": [],
   "source": [
    "#41. How to print all the values of an array? (★★☆)\n",
    "#np.set_printoptions(threshold=np.nan)\n",
    "#Z=np.zeros((25,25))\n",
    "#print(Z)    "
   ]
  },
  {
   "cell_type": "code",
   "execution_count": 184,
   "metadata": {},
   "outputs": [
    {
     "name": "stdout",
     "output_type": "stream",
     "text": [
      "54\n"
     ]
    }
   ],
   "source": [
    "#42. How to find the closest value (to a given scalar) in an array? (★★☆)\n",
    "Z = np.arange(100)\n",
    "v = np.random.uniform(0,100)\n",
    "index = (np.abs(Z-v)).argmin()\n",
    "print(Z[index])       "
   ]
  },
  {
   "cell_type": "code",
   "execution_count": 185,
   "metadata": {},
   "outputs": [
    {
     "name": "stdout",
     "output_type": "stream",
     "text": [
      "[((0., 0.), (0., 0., 0.)) ((0., 0.), (0., 0., 0.))\n",
      " ((0., 0.), (0., 0., 0.)) ((0., 0.), (0., 0., 0.))\n",
      " ((0., 0.), (0., 0., 0.)) ((0., 0.), (0., 0., 0.))\n",
      " ((0., 0.), (0., 0., 0.)) ((0., 0.), (0., 0., 0.))\n",
      " ((0., 0.), (0., 0., 0.)) ((0., 0.), (0., 0., 0.))]\n"
     ]
    },
    {
     "name": "stderr",
     "output_type": "stream",
     "text": [
      "D:\\anaconda\\lib\\site-packages\\ipykernel_launcher.py:2: FutureWarning: Passing (type, 1) or '1type' as a synonym of type is deprecated; in a future version of numpy, it will be understood as (type, (1,)) / '(1,)type'.\n",
      "  \n"
     ]
    }
   ],
   "source": [
    "#43. Create a structured array representing a position (x,y) and a color (r,g,b) (★★☆)\n",
    "Z = np.zeros(10,[('position',[('x',float,1),('y',float,1)]),('color',[('r',float,1),('g',float,1),('b',float,1)])])\n",
    "print(Z)     "
   ]
  },
  {
   "cell_type": "code",
   "execution_count": 186,
   "metadata": {
    "scrolled": true
   },
   "outputs": [
    {
     "name": "stdout",
     "output_type": "stream",
     "text": [
      "[[0.         0.83012744 0.89207648 0.6405638  0.17285385 0.65903824\n",
      "  0.34939168 1.05376047 0.61136186 0.64532325]\n",
      " [0.83012744 0.         0.62296862 0.534034   0.71151745 0.31837799\n",
      "  0.73806429 0.41622602 0.3727063  0.24681521]\n",
      " [0.89207648 0.62296862 0.         0.25315706 0.71922275 0.83594527\n",
      "  0.57769955 0.38237572 0.36169806 0.7434744 ]\n",
      " [0.6405638  0.534034   0.25315706 0.         0.46787229 0.65932385\n",
      "  0.34526786 0.48967215 0.17217669 0.57248186]\n",
      " [0.17285385 0.71151745 0.71922275 0.46787229 0.         0.60086539\n",
      "  0.19700828 0.89393782 0.44977877 0.56421498]\n",
      " [0.65903824 0.31837799 0.83594527 0.65932385 0.60086539 0.\n",
      "  0.71052138 0.72215079 0.49190543 0.09292118]\n",
      " [0.34939168 0.73806429 0.57769955 0.34526786 0.19700828 0.71052138\n",
      "  0.         0.82276808 0.4001542  0.65232933]\n",
      " [1.05376047 0.41622602 0.38237572 0.48967215 0.89393782 0.72215079\n",
      "  0.82276808 0.         0.44415905 0.63684678]\n",
      " [0.61136186 0.3727063  0.36169806 0.17217669 0.44977877 0.49190543\n",
      "  0.4001542  0.44415905 0.         0.40302823]\n",
      " [0.64532325 0.24681521 0.7434744  0.57248186 0.56421498 0.09292118\n",
      "  0.65232933 0.63684678 0.40302823 0.        ]]\n",
      "[[0.         0.56602984 0.18332862 0.32085376 0.4799556  0.6737207\n",
      "  0.16082558 0.69461597 0.50510553 0.50843601]\n",
      " [0.56602984 0.         0.38923498 0.52922494 0.71548788 0.23275808\n",
      "  0.5649321  0.80167752 0.10193697 0.44946876]\n",
      " [0.18332862 0.38923498 0.         0.33907734 0.53866486 0.52704436\n",
      "  0.19527212 0.72118909 0.32243968 0.37702031]\n",
      " [0.32085376 0.52922494 0.33907734 0.         0.20572729 0.51474886\n",
      "  0.4653299  0.38549544 0.5264283  0.70979412]\n",
      " [0.4799556  0.71548788 0.53866486 0.20572729 0.         0.65430176\n",
      "  0.63784587 0.22808844 0.72453538 0.91321955]\n",
      " [0.6737207  0.23275808 0.52704436 0.51474886 0.65430176 0.\n",
      "  0.7210405  0.67415044 0.3287936  0.67783745]\n",
      " [0.16082558 0.5649321  0.19527212 0.4653299  0.63784587 0.7210405\n",
      "  0.         0.84727823 0.48229253 0.38236138]\n",
      " [0.69461597 0.80167752 0.72118909 0.38549544 0.22808844 0.67415044\n",
      "  0.84727823 0.         0.83728058 1.08141133]\n",
      " [0.50510553 0.10193697 0.32243968 0.5264283  0.72453538 0.3287936\n",
      "  0.48229253 0.83728058 0.         0.34941889]\n",
      " [0.50843601 0.44946876 0.37702031 0.70979412 0.91321955 0.67783745\n",
      "  0.38236138 1.08141133 0.34941889 0.        ]]\n"
     ]
    }
   ],
   "source": [
    "#44. Consider a random vector with shape (100,2) representing coordinates, find pointby point distances (★★☆)\n",
    "Z = np.random.random((10,2))\n",
    "X,Y = np.atleast_2d(Z[:,0]),np.atleast_2d(Z[:,1])\n",
    "D = np.sqrt((X-X.T)**2+(Y-Y.T)**2)\n",
    "print(D)\n",
    "# Much faster with scipyimportscipy# Thanks Gavin Heverly-Coulson (#issue 1)\n",
    "import scipy.spatial\n",
    "Z = np.random.random((10,2))\n",
    "D = scipy.spatial.distance.cdist(Z,Z)\n",
    "print(D)"
   ]
  },
  {
   "cell_type": "code",
   "execution_count": 188,
   "metadata": {},
   "outputs": [
    {
     "data": {
      "text/plain": [
       "array([0., 1., 2., 3., 4., 5., 6., 7., 8., 9.], dtype=float32)"
      ]
     },
     "execution_count": 188,
     "metadata": {},
     "output_type": "execute_result"
    }
   ],
   "source": [
    "#45. How to convert a float (32 bits) array into an integer (32 bits) in place?\n",
    "\n",
    "Z = np.arange(10,dtype=np.int32)\n",
    "Z = Z.astype(np.float32,copy=False)\n",
    "Z"
   ]
  },
  {
   "cell_type": "code",
   "execution_count": 189,
   "metadata": {},
   "outputs": [],
   "source": [
    "#46. How to read the following file? (★★☆)# File content:# -------------1,2,3,4,56,,,7,8,,9,10,11# -------------\n",
    "\n",
    "\n",
    "#Z=np.genfromtxt(\"missing.dat\",delimiter=\",\")"
   ]
  },
  {
   "cell_type": "code",
   "execution_count": 190,
   "metadata": {},
   "outputs": [],
   "source": [
    "#Z=np.genfromtxt(\"missing.dat\",delimiter=\",\")"
   ]
  },
  {
   "cell_type": "code",
   "execution_count": 191,
   "metadata": {},
   "outputs": [
    {
     "name": "stdout",
     "output_type": "stream",
     "text": [
      "(0, 0) 0\n",
      "(0, 1) 1\n",
      "(0, 2) 2\n",
      "(1, 0) 3\n",
      "(1, 1) 4\n",
      "(1, 2) 5\n",
      "(2, 0) 6\n",
      "(2, 1) 7\n",
      "(2, 2) 8\n",
      "(0, 0) 0\n",
      "(0, 1) 1\n",
      "(0, 2) 2\n",
      "(1, 0) 3\n",
      "(1, 1) 4\n",
      "(1, 2) 5\n",
      "(2, 0) 6\n",
      "(2, 1) 7\n",
      "(2, 2) 8\n"
     ]
    }
   ],
   "source": [
    "#47. What is the equivalent of enumerate for numpy arrays? (★★☆)\n",
    "\n",
    "Z = np.arange(9).reshape(3,3)\n",
    "for index,value in np.ndenumerate(Z):\n",
    "    print(index,value)\n",
    "for index in np.ndindex(Z.shape):\n",
    "        print(index,Z[index])"
   ]
  },
  {
   "cell_type": "code",
   "execution_count": 192,
   "metadata": {},
   "outputs": [
    {
     "name": "stdout",
     "output_type": "stream",
     "text": [
      "[[0.36787944 0.44822088 0.51979489 0.57375342 0.60279818 0.60279818\n",
      "  0.57375342 0.51979489 0.44822088 0.36787944]\n",
      " [0.44822088 0.54610814 0.63331324 0.69905581 0.73444367 0.73444367\n",
      "  0.69905581 0.63331324 0.54610814 0.44822088]\n",
      " [0.51979489 0.63331324 0.73444367 0.81068432 0.85172308 0.85172308\n",
      "  0.81068432 0.73444367 0.63331324 0.51979489]\n",
      " [0.57375342 0.69905581 0.81068432 0.89483932 0.9401382  0.9401382\n",
      "  0.89483932 0.81068432 0.69905581 0.57375342]\n",
      " [0.60279818 0.73444367 0.85172308 0.9401382  0.98773022 0.98773022\n",
      "  0.9401382  0.85172308 0.73444367 0.60279818]\n",
      " [0.60279818 0.73444367 0.85172308 0.9401382  0.98773022 0.98773022\n",
      "  0.9401382  0.85172308 0.73444367 0.60279818]\n",
      " [0.57375342 0.69905581 0.81068432 0.89483932 0.9401382  0.9401382\n",
      "  0.89483932 0.81068432 0.69905581 0.57375342]\n",
      " [0.51979489 0.63331324 0.73444367 0.81068432 0.85172308 0.85172308\n",
      "  0.81068432 0.73444367 0.63331324 0.51979489]\n",
      " [0.44822088 0.54610814 0.63331324 0.69905581 0.73444367 0.73444367\n",
      "  0.69905581 0.63331324 0.54610814 0.44822088]\n",
      " [0.36787944 0.44822088 0.51979489 0.57375342 0.60279818 0.60279818\n",
      "  0.57375342 0.51979489 0.44822088 0.36787944]]\n"
     ]
    }
   ],
   "source": [
    "#48. Generate a generic 2D Gaussian­like array (★★☆)\n",
    "X,Y = np.meshgrid(np.linspace(-1,1,10),np.linspace(-1,1,10))\n",
    "D = np.sqrt(X*X+Y*Y)\n",
    "sigma,mu = 1.0,0.0\n",
    "G = np.exp(-((D-mu)**2/(2.0*sigma**2)))\n",
    "print(G)      "
   ]
  },
  {
   "cell_type": "code",
   "execution_count": 193,
   "metadata": {},
   "outputs": [],
   "source": [
    "#49. How to randomly place p elements in a 2D array? (★★☆)\n",
    "# Author: Divakar\n",
    "\n",
    "n = 10\n",
    "p = 3\n",
    "Z = np.zeros((n,n))\n",
    "np.put(Z,np.random.choice(range(n*n),p,replace = False),1)    "
   ]
  },
  {
   "cell_type": "code",
   "execution_count": 195,
   "metadata": {},
   "outputs": [
    {
     "data": {
      "text/plain": [
       "array([[-0.46580823,  0.33341597,  0.47389293, -0.26468288,  0.42716847,\n",
       "         0.26129579, -0.26233066, -0.09125536, -0.2693691 , -0.14232694],\n",
       "       [-0.38567106,  0.49678276,  0.14433729,  0.28543564, -0.40824746,\n",
       "         0.00855283,  0.14044616, -0.30938393,  0.05894589, -0.03119813],\n",
       "       [ 0.55381303, -0.22166312, -0.16154936, -0.2899991 , -0.32826809,\n",
       "        -0.0559067 , -0.20441181,  0.53299788, -0.03353044,  0.20851771],\n",
       "       [-0.01649826,  0.36214383,  0.11513478, -0.02447806, -0.41472927,\n",
       "        -0.39321515, -0.04670029,  0.26078685,  0.03258021,  0.12497535],\n",
       "       [ 0.27690184,  0.31489952, -0.07477368,  0.2553104 ,  0.26958153,\n",
       "        -0.1414909 , -0.25915651,  0.00413082, -0.33673461, -0.30866839]])"
      ]
     },
     "execution_count": 195,
     "metadata": {},
     "output_type": "execute_result"
    }
   ],
   "source": [
    "#50. Subtract the mean of each row of a matrix (★★☆)# Author: Warren Weckesser\n",
    "X = np.random.rand(5,10)# Recent versions of numpy\n",
    "Y = X-X.mean(axis = 1,keepdims=True)# Older versions of numpy\n",
    "Y = X-X.mean(axis = 1).reshape(-1,1) \n",
    "Y"
   ]
  },
  {
   "cell_type": "code",
   "execution_count": 196,
   "metadata": {},
   "outputs": [
    {
     "name": "stdout",
     "output_type": "stream",
     "text": [
      "[[4 9 5]\n",
      " [0 8 1]\n",
      " [6 7 9]]\n",
      "[[6 7 9]\n",
      " [0 8 1]\n",
      " [4 9 5]]\n"
     ]
    }
   ],
   "source": [
    "#51. How to I sort an array by the nth column? (★★☆)# Author: Steve Tjoa\n",
    "Z = np.random.randint(0,10,(3,3))\n",
    "print(Z)\n",
    "print(Z[Z[:,1].argsort()])      "
   ]
  },
  {
   "cell_type": "code",
   "execution_count": 197,
   "metadata": {},
   "outputs": [
    {
     "name": "stdout",
     "output_type": "stream",
     "text": [
      "False\n"
     ]
    }
   ],
   "source": [
    "#52. How to tell if a given 2D array has null columns? (★★☆)# Author: Warren Weckesser\n",
    "Z = np.random.randint(0,3,(3,10))\n",
    "print((~Z.any(axis=0)).any())      "
   ]
  },
  {
   "cell_type": "code",
   "execution_count": 198,
   "metadata": {},
   "outputs": [
    {
     "name": "stdout",
     "output_type": "stream",
     "text": [
      "0.5076043602987383\n"
     ]
    }
   ],
   "source": [
    "#53. Find the nearest value from a given value in an array (★★☆)\n",
    "Z = np.random.uniform(0,1,10)\n",
    "z = 0.5\n",
    "m = Z.flat[np.abs(Z-z).argmin()]\n",
    "print(m)      "
   ]
  },
  {
   "cell_type": "code",
   "execution_count": 199,
   "metadata": {},
   "outputs": [],
   "source": [
    "#54. Create an array class that has a name attribute"
   ]
  },
  {
   "cell_type": "code",
   "execution_count": 200,
   "metadata": {},
   "outputs": [],
   "source": [
    "#class NamedArray(np.ndarray):\n",
    "    #def__new__(cls,array,name=\"no name\")\n",
    "   # obj=np.asarray(array).view(cls)\n",
    "    #obj.name=name\n",
    "    #return obj\n",
    "    #def__array_finalize__(self,obj)\n",
    "    #if obj is None:return \n",
    "    #self.info=getattr(obj,'name',\"no name\")\n",
    "#Z=NamedArray(np.arange(10),\"range_10\")\n",
    "#print(Z.name)"
   ]
  },
  {
   "cell_type": "code",
   "execution_count": 201,
   "metadata": {},
   "outputs": [
    {
     "name": "stdout",
     "output_type": "stream",
     "text": [
      "[1. 4. 2. 3. 3. 4. 3. 6. 3. 1.]\n"
     ]
    }
   ],
   "source": [
    "#55. Consider a given vector, how to add 1 to each element indexed by a secondvector (be careful with repeated indices)? (★★★)# Author: Brett Olsen\n",
    "Z = np.ones(10)\n",
    "I = np.random.randint(0,len(Z),20)\n",
    "Z += np.bincount(I,minlength=len(Z))\n",
    "print(Z)"
   ]
  },
  {
   "cell_type": "code",
   "execution_count": 202,
   "metadata": {},
   "outputs": [
    {
     "name": "stdout",
     "output_type": "stream",
     "text": [
      "[0. 7. 0. 6. 5. 0. 0. 0. 0. 3.]\n"
     ]
    }
   ],
   "source": [
    "#56. How to accumulate elements of a vector (X) to an array (F) based on an index list(I)? (★★★)# Author: Alan G Isaac\n",
    "X = [1,2,3,4,5,6]\n",
    "I = [1,3,9,3,4,1]\n",
    "F = np.bincount(I,X)\n",
    "print(F)"
   ]
  },
  {
   "cell_type": "code",
   "execution_count": 203,
   "metadata": {},
   "outputs": [
    {
     "name": "stdout",
     "output_type": "stream",
     "text": [
      "[0 1]\n"
     ]
    }
   ],
   "source": [
    "#57. Considering a (w,h,3) image of (dtype=ubyte), compute the number of uniquecolors (★★★)# Author: Nadav Horesh\n",
    "w,h = 16,16\n",
    "I = np.random.randint(0,2,(h,w,3)).astype(np.ubyte)\n",
    "F = I[...,0]*256*256+I[...,1]*256+I[...,2]\n",
    "n = len(np.unique(F))\n",
    "print(np.unique(I))"
   ]
  },
  {
   "cell_type": "code",
   "execution_count": 204,
   "metadata": {},
   "outputs": [
    {
     "name": "stdout",
     "output_type": "stream",
     "text": [
      "[[51 56 47 53]\n",
      " [42 53 33 67]\n",
      " [67 58 56 62]]\n"
     ]
    }
   ],
   "source": [
    "#58. Considering a four dimensions array, how to get sum over the last two axis atonce? (★★★)\n",
    "A = np.random.randint(0,10,(3,4,3,4))\n",
    "sum = A.reshape(A.shape[:-2]+(-1,)).sum(axis=-1)\n",
    "print(sum)"
   ]
  },
  {
   "cell_type": "code",
   "execution_count": 205,
   "metadata": {},
   "outputs": [
    {
     "name": "stdout",
     "output_type": "stream",
     "text": [
      "[0.51621061 0.5217955  0.32989765 0.47783591 0.53855411 0.48084149\n",
      " 0.66542837 0.51309301 0.48327219 0.50348468]\n"
     ]
    }
   ],
   "source": [
    "#59. Considering a one­dimensional vector D, how to compute means of subsets of Dusing a vector S of same size describing subset indices? (★★★)# Author: Jaime Fernández del Río\n",
    "D = np.random.uniform(0,1,100)\n",
    "S = np.random.randint(0,10,100)\n",
    "D_sums = np.bincount(S,weights = D)\n",
    "D_counts = np.bincount(S)\n",
    "D_means = D_sums/D_counts\n",
    "print(D_means)"
   ]
  },
  {
   "cell_type": "code",
   "execution_count": 206,
   "metadata": {},
   "outputs": [],
   "source": [
    "#60. How to get the diagonal of a dot product? (★★★)# Author: Mathieu Blondel# Slow version\n",
    "#np.diag(np.dot(A,B))# Fast version\n",
    "#np.sum(A*B.T,axis=1)# Faster version\n",
    "#np.einsum(\"ij,ji->i\",A,B)"
   ]
  },
  {
   "cell_type": "code",
   "execution_count": 207,
   "metadata": {},
   "outputs": [
    {
     "name": "stdout",
     "output_type": "stream",
     "text": [
      "[1. 0. 0. 0. 2. 0. 0. 0. 3. 0. 0. 0. 4. 0. 0. 0. 5.]\n"
     ]
    }
   ],
   "source": [
    "#61. Consider the vector [1, 2, 3, 4, 5], how to build a new vector with 3 consecutivezeros interleaved between each value? (★★★)# Author: Warren WeckesserZ=np.array([1,2,3,4,5])\n",
    "Z = np.array([1,2,3,4,5])\n",
    "nz = 3\n",
    "Z0 = np.zeros(len(Z)+(len(Z)-1)*(nz))\n",
    "Z0[::nz+1] = Z\n",
    "print(Z0)"
   ]
  },
  {
   "cell_type": "code",
   "execution_count": 208,
   "metadata": {
    "scrolled": true
   },
   "outputs": [
    {
     "name": "stdout",
     "output_type": "stream",
     "text": [
      "[[[2. 2. 2.]\n",
      "  [2. 2. 2.]\n",
      "  [2. 2. 2.]\n",
      "  [2. 2. 2.]\n",
      "  [2. 2. 2.]]\n",
      "\n",
      " [[2. 2. 2.]\n",
      "  [2. 2. 2.]\n",
      "  [2. 2. 2.]\n",
      "  [2. 2. 2.]\n",
      "  [2. 2. 2.]]\n",
      "\n",
      " [[2. 2. 2.]\n",
      "  [2. 2. 2.]\n",
      "  [2. 2. 2.]\n",
      "  [2. 2. 2.]\n",
      "  [2. 2. 2.]]\n",
      "\n",
      " [[2. 2. 2.]\n",
      "  [2. 2. 2.]\n",
      "  [2. 2. 2.]\n",
      "  [2. 2. 2.]\n",
      "  [2. 2. 2.]]\n",
      "\n",
      " [[2. 2. 2.]\n",
      "  [2. 2. 2.]\n",
      "  [2. 2. 2.]\n",
      "  [2. 2. 2.]\n",
      "  [2. 2. 2.]]]\n"
     ]
    }
   ],
   "source": [
    "#62. Consider an array of dimension (5,5,3), how to mulitply it by an array withdimensions (5,5)? (★★★)\n",
    "A = np.ones((5,5,3))\n",
    "B = 2*np.ones((5,5))\n",
    "print(A*B[:,:,None])"
   ]
  },
  {
   "cell_type": "code",
   "execution_count": 209,
   "metadata": {},
   "outputs": [
    {
     "name": "stdout",
     "output_type": "stream",
     "text": [
      "[[ 5  6  7  8  9]\n",
      " [ 0  1  2  3  4]\n",
      " [10 11 12 13 14]\n",
      " [15 16 17 18 19]\n",
      " [20 21 22 23 24]]\n"
     ]
    }
   ],
   "source": [
    "#63. How to swap two rows of an array? (★★★)# Author: Eelco Hoogendoorn\n",
    "A = np.arange(25).reshape(5,5)\n",
    "A[[0,1]] = A[[1,0]]\n",
    "print(A)"
   ]
  },
  {
   "cell_type": "code",
   "execution_count": 211,
   "metadata": {},
   "outputs": [
    {
     "name": "stdout",
     "output_type": "stream",
     "text": [
      "[( 3, 31) ( 3, 94) ( 5, 41) ( 5, 93) (18, 28) (18, 50) (18, 75) (18, 97)\n",
      " (19, 40) (19, 86) (26, 45) (26, 48) (27, 37) (27, 48) (27, 57) (27, 74)\n",
      " (28, 75) (31, 94) (37, 74) (40, 86) (41, 93) (45, 48) (48, 57) (50, 97)\n",
      " (51, 66) (51, 83) (60, 73) (60, 94) (66, 83) (73, 94)]\n"
     ]
    }
   ],
   "source": [
    "#64. Consider a set of 10 triplets describing 10 triangles (with shared vertices), \n",
    "#find the set of unique line segments composing all the triangles (★★★)# Author: Nicolas P. Rougier\n",
    "faces = np.random.randint(0,100,(10,3))\n",
    "F = np.roll(faces.repeat(2,axis=1),-1,axis=1)\n",
    "F = F.reshape(len(F)*3,2)\n",
    "F = np.sort(F,axis=1)\n",
    "G = F.view(dtype=[('p0',F.dtype),('p1',F.dtype)])\n",
    "G = np.unique(G)\n",
    "print(G)"
   ]
  },
  {
   "cell_type": "code",
   "execution_count": 212,
   "metadata": {},
   "outputs": [
    {
     "name": "stdout",
     "output_type": "stream",
     "text": [
      "[1 1 2 3 4 4 6]\n"
     ]
    }
   ],
   "source": [
    "#65. Given an array C that is a bincount, how to produce an array A such thatnp.bincount(A) == C? (★★★)\n",
    "# Author: Jaime Fernández del Río\n",
    "C=np.bincount([1,1,2,3,4,4,6])\n",
    "A=np.repeat(np.arange(len(C)),C)\n",
    "print(A)"
   ]
  },
  {
   "cell_type": "code",
   "execution_count": 213,
   "metadata": {},
   "outputs": [
    {
     "name": "stdout",
     "output_type": "stream",
     "text": [
      "[ 1.  2.  3.  4.  5.  6.  7.  8.  9. 10. 11. 12. 13. 14. 15. 16. 17. 18.]\n"
     ]
    }
   ],
   "source": [
    "#66. How to compute averages using a sliding window over an array? (★★★)# Author: Jaime Fernández del Ríodef\n",
    "def moving_average(a,n=3):\n",
    "    ret=np.cumsum(a,dtype=float)\n",
    "    ret[n:]=ret[n:]-ret[:-n]\n",
    "    return ret[n-1:]/n\n",
    "Z=np.arange(20)\n",
    "print(moving_average(Z,n=3))"
   ]
  },
  {
   "cell_type": "code",
   "execution_count": 214,
   "metadata": {},
   "outputs": [
    {
     "name": "stdout",
     "output_type": "stream",
     "text": [
      "[[0 1 2]\n",
      " [1 2 3]\n",
      " [2 3 4]\n",
      " [3 4 5]\n",
      " [4 5 6]\n",
      " [5 6 7]\n",
      " [6 7 8]\n",
      " [7 8 9]]\n"
     ]
    }
   ],
   "source": [
    "#67. Consider a one­dimensional array Z, build a two­dimensional array whose firstrow is (Z[0],Z[1],Z[2]) \n",
    "#and each subsequent row is shifted by 1 (last row shouldbe (Z[­3],Z[­2],Z[­1]) (★★★)\n",
    "# Author: Joe Kington / Erik Rigtorp\n",
    "from numpy.lib import stride_tricks \n",
    "def rolling(a,window):\n",
    "    shape=(a.size-window+1,window)\n",
    "    strides=(a.itemsize,a.itemsize)\n",
    "    return stride_tricks.as_strided(a,shape=shape,strides=strides)\n",
    "Z=rolling(np.arange(10),3)\n",
    "print(Z)\n",
    "\n"
   ]
  },
  {
   "cell_type": "code",
   "execution_count": 117,
   "metadata": {},
   "outputs": [],
   "source": [
    "#68. How to negate a boolean, or to change the sign of a float inplace? (★★★)\n",
    "\n",
    "\n",
    "\n"
   ]
  },
  {
   "cell_type": "code",
   "execution_count": 215,
   "metadata": {},
   "outputs": [
    {
     "name": "stdout",
     "output_type": "stream",
     "text": [
      "[3.68053328 7.168036   6.99195871 1.01317211 8.84139752 8.85672988\n",
      " 7.13231367 0.83715276 4.63389423 6.00461804]\n"
     ]
    }
   ],
   "source": [
    "#69. Consider 2 sets of points P0,P1 describing lines (2d) and a point p, how tocompute distance from p to each line i (P0[i],P1[i])? (★★★)\n",
    "def distance(P0,P1,p):\n",
    "    T=P1-P0\n",
    "    L=(T**2).sum(axis=1)\n",
    "    U=-((P0[:,0]-p[...,0])*T[:,0]+(P0[:,1]-p[...,1])*T[:,1])/L\n",
    "    U=U.reshape(len(U),1)\n",
    "    D=P0+U*T-p\n",
    "    return np.sqrt((D**2).sum(axis=1))\n",
    "P0=np.random.uniform(-10,10,(10,2))\n",
    "P1=np.random.uniform(-10,10,(10,2))\n",
    "p=np.random.uniform(-10,10,(1,2))\n",
    "print(distance(P0,P1,p))"
   ]
  },
  {
   "cell_type": "code",
   "execution_count": 216,
   "metadata": {},
   "outputs": [
    {
     "name": "stdout",
     "output_type": "stream",
     "text": [
      "[[ 9.63354801  6.28720747  8.84560178  7.43841612  7.1105376  11.18430585\n",
      "  12.10945053  6.298678    9.97006007  3.26680177]\n",
      " [13.40862761  8.65987289  8.00208045 13.1863683   6.47822506 16.69993235\n",
      "  15.9136136   6.49721715 13.1381425   1.74808371]\n",
      " [ 8.90265479  1.90684704  1.53316675 14.81363725  2.95896592 17.0414993\n",
      "  11.46395547  2.44089435  7.55666176  0.22886609]\n",
      " [ 4.1535801   2.52141983  4.3528812  10.70740408  5.91547862 12.65214123\n",
      "   6.7118042   5.89381667  2.90854775  4.43559759]\n",
      " [ 1.51733638  2.75768993  5.86185738  5.13142521  3.68478637  1.51108418\n",
      "   0.91993763  1.19303325  0.32276527 15.75997872]\n",
      " [ 5.63377599  9.74729637  5.05474844  1.86891473  7.06897851  0.24985108\n",
      "   3.12601009  8.79288616  5.79834686 16.21333994]\n",
      " [ 1.56965309  5.39215427  7.12747626  9.47197577  8.72330373 11.0787588\n",
      "   4.13691401  8.79632223  0.16775575  6.44793424]\n",
      " [ 8.4285984  13.398238    9.52353163  2.0234157  11.52495298  0.48779841\n",
      "   5.89838451 13.14371186  9.01344746 17.76805352]\n",
      " [ 2.46801567  3.94339001  4.49285406  5.30562851  2.31512168  1.86124915\n",
      "   0.02441042  0.1622299   1.39060784 16.3528399 ]\n",
      " [ 8.13811657  5.41157258  9.35250531  5.02236822  7.52803632  8.88590334\n",
      "  10.60100644  6.3626192   8.74457764  5.32655652]]\n"
     ]
    }
   ],
   "source": [
    "#70. Consider 2 sets of points P0,P1 describing lines (2d) and a set of points P, howto compute distance from each point j (P[j]) to each line i (P0[i],P1[i])? (★★★)# Author: Italmassov Kuanysh# based on distance function from previous question\n",
    "P0=np.random.uniform(-10,10,(10,2))\n",
    "P1=np.random.uniform(-10,10,(10,2))\n",
    "p=np.random.uniform(-10,10,(10,2))\n",
    "print(np.array([distance(P0,P1,p_i)for p_i in p]))"
   ]
  },
  {
   "cell_type": "code",
   "execution_count": 217,
   "metadata": {},
   "outputs": [
    {
     "name": "stdout",
     "output_type": "stream",
     "text": [
      "[[8 1 4 3 8 9 2 0 8 1]\n",
      " [2 2 8 8 7 5 5 2 0 6]\n",
      " [6 6 5 5 0 6 5 5 6 6]\n",
      " [3 1 8 0 2 0 1 6 7 6]\n",
      " [4 3 4 7 8 1 1 7 7 4]\n",
      " [1 6 8 6 8 7 8 5 9 9]\n",
      " [5 8 4 4 9 7 3 0 1 3]\n",
      " [5 7 9 6 3 4 7 0 6 7]\n",
      " [2 2 1 2 4 1 4 4 1 3]\n",
      " [1 4 0 1 4 7 4 6 0 1]]\n",
      "[[0 0 0 0 0]\n",
      " [0 8 1 4 3]\n",
      " [0 2 2 8 8]\n",
      " [0 6 6 5 5]\n",
      " [0 3 1 8 0]]\n"
     ]
    },
    {
     "name": "stderr",
     "output_type": "stream",
     "text": [
      "D:\\anaconda\\lib\\site-packages\\ipykernel_launcher.py:20: FutureWarning: Using a non-tuple sequence for multidimensional indexing is deprecated; use `arr[tuple(seq)]` instead of `arr[seq]`. In the future this will be interpreted as an array index, `arr[np.array(seq)]`, which will result either in an error or a different result.\n"
     ]
    }
   ],
   "source": [
    "#71. Consider an arbitrary array, write a function that extract a subpart with a fixedshape and centered on a given element (pad with a fill value when necessary)(★★★)# Author: Nicolas Rougier\n",
    "Z=np.random.randint(0,10,(10,10))\n",
    "shape=(5,5)\n",
    "fill=0\n",
    "position=(1,1)\n",
    "R=np.ones(shape,dtype=Z.dtype)*fill\n",
    "P=np.array(list(position)).astype(int)\n",
    "Rs=np.array(list(R.shape)).astype(int)\n",
    "Zs=np.array(list(Z.shape)).astype(int)\n",
    "R_start=np.zeros((len(shape),)).astype(int)\n",
    "R_stop=np.array(list(shape)).astype(int)\n",
    "Z_start=(P-Rs//2)\n",
    "Z_stop=(P+Rs//2)+Rs%2\n",
    "R_start=(R_start-np.minimum(Z_start,0)).tolist()\n",
    "Z_start=(np.maximum(Z_start,0)).tolist()\n",
    "R_stop=np.maximum(R_start,(R_stop-np.maximum(Z_stop-Zs,0))).tolist()\n",
    "Z_stop=(np.minimum(Z_stop,Zs)).tolist()\n",
    "r=[slice(start,stop) for start,stop in zip(R_start,R_stop)]\n",
    "z=[slice(start,stop) for start,stop in zip(Z_start,Z_stop)]\n",
    "R[r]=Z[z]\n",
    "print(Z)\n",
    "print(R)"
   ]
  },
  {
   "cell_type": "code",
   "execution_count": 218,
   "metadata": {},
   "outputs": [
    {
     "name": "stdout",
     "output_type": "stream",
     "text": [
      "[[ 1  2  3  4]\n",
      " [ 2  3  4  5]\n",
      " [ 3  4  5  6]\n",
      " [ 4  5  6  7]\n",
      " [ 5  6  7  8]\n",
      " [ 6  7  8  9]\n",
      " [ 7  8  9 10]\n",
      " [ 8  9 10 11]\n",
      " [ 9 10 11 12]\n",
      " [10 11 12 13]\n",
      " [11 12 13 14]]\n"
     ]
    }
   ],
   "source": [
    "#72. Consider an array Z = [1,2,3,4,5,6,7,8,9,10,11,12,13,14], how to generate anarray R = [[1,2,3,4], [2,3,4,5], [3,4,5,6], ..., [11,12,13,14]]? (★★★)# Author: Stefan van der Walt\n",
    "Z=np.arange(1,15,dtype=uint32)\n",
    "R=stride_tricks.as_strided(Z,(11,4),(4,4))\n",
    "print(R)\n"
   ]
  },
  {
   "cell_type": "code",
   "execution_count": 220,
   "metadata": {},
   "outputs": [
    {
     "data": {
      "text/plain": [
       "10"
      ]
     },
     "execution_count": 220,
     "metadata": {},
     "output_type": "execute_result"
    }
   ],
   "source": [
    "#73. Compute a matrix rank (★★★)# Author: Stefan van der Walt\n",
    "Z=np.random.uniform(0,1,(10,10))\n",
    "U,S,V=np.linalg.svd(Z)\n",
    "# Singular Value Decomposition\n",
    "rank=np.sum(S>1e-10)\n",
    "rank"
   ]
  },
  {
   "cell_type": "code",
   "execution_count": 221,
   "metadata": {},
   "outputs": [
    {
     "name": "stdout",
     "output_type": "stream",
     "text": [
      "3\n"
     ]
    }
   ],
   "source": [
    "#74. How to find the most frequent value in an array?\n",
    "Z=np.random.randint(0,10,50)\n",
    "print(np.bincount(Z).argmax())"
   ]
  },
  {
   "cell_type": "code",
   "execution_count": 222,
   "metadata": {},
   "outputs": [
    {
     "name": "stdout",
     "output_type": "stream",
     "text": [
      "[[[[4 2 4]\n",
      "   [2 4 0]\n",
      "   [2 3 3]]\n",
      "\n",
      "  [[2 4 2]\n",
      "   [4 0 2]\n",
      "   [3 3 1]]\n",
      "\n",
      "  [[4 2 1]\n",
      "   [0 2 1]\n",
      "   [3 1 3]]\n",
      "\n",
      "  [[2 1 4]\n",
      "   [2 1 4]\n",
      "   [1 3 4]]\n",
      "\n",
      "  [[1 4 4]\n",
      "   [1 4 1]\n",
      "   [3 4 0]]\n",
      "\n",
      "  [[4 4 0]\n",
      "   [4 1 1]\n",
      "   [4 0 0]]\n",
      "\n",
      "  [[4 0 0]\n",
      "   [1 1 3]\n",
      "   [0 0 3]]\n",
      "\n",
      "  [[0 0 3]\n",
      "   [1 3 2]\n",
      "   [0 3 3]]]\n",
      "\n",
      "\n",
      " [[[2 4 0]\n",
      "   [2 3 3]\n",
      "   [3 4 4]]\n",
      "\n",
      "  [[4 0 2]\n",
      "   [3 3 1]\n",
      "   [4 4 4]]\n",
      "\n",
      "  [[0 2 1]\n",
      "   [3 1 3]\n",
      "   [4 4 1]]\n",
      "\n",
      "  [[2 1 4]\n",
      "   [1 3 4]\n",
      "   [4 1 1]]\n",
      "\n",
      "  [[1 4 1]\n",
      "   [3 4 0]\n",
      "   [1 1 1]]\n",
      "\n",
      "  [[4 1 1]\n",
      "   [4 0 0]\n",
      "   [1 1 3]]\n",
      "\n",
      "  [[1 1 3]\n",
      "   [0 0 3]\n",
      "   [1 3 4]]\n",
      "\n",
      "  [[1 3 2]\n",
      "   [0 3 3]\n",
      "   [3 4 3]]]\n",
      "\n",
      "\n",
      " [[[2 3 3]\n",
      "   [3 4 4]\n",
      "   [4 4 1]]\n",
      "\n",
      "  [[3 3 1]\n",
      "   [4 4 4]\n",
      "   [4 1 3]]\n",
      "\n",
      "  [[3 1 3]\n",
      "   [4 4 1]\n",
      "   [1 3 1]]\n",
      "\n",
      "  [[1 3 4]\n",
      "   [4 1 1]\n",
      "   [3 1 4]]\n",
      "\n",
      "  [[3 4 0]\n",
      "   [1 1 1]\n",
      "   [1 4 0]]\n",
      "\n",
      "  [[4 0 0]\n",
      "   [1 1 3]\n",
      "   [4 0 2]]\n",
      "\n",
      "  [[0 0 3]\n",
      "   [1 3 4]\n",
      "   [0 2 4]]\n",
      "\n",
      "  [[0 3 3]\n",
      "   [3 4 3]\n",
      "   [2 4 0]]]\n",
      "\n",
      "\n",
      " [[[3 4 4]\n",
      "   [4 4 1]\n",
      "   [1 4 0]]\n",
      "\n",
      "  [[4 4 4]\n",
      "   [4 1 3]\n",
      "   [4 0 3]]\n",
      "\n",
      "  [[4 4 1]\n",
      "   [1 3 1]\n",
      "   [0 3 1]]\n",
      "\n",
      "  [[4 1 1]\n",
      "   [3 1 4]\n",
      "   [3 1 3]]\n",
      "\n",
      "  [[1 1 1]\n",
      "   [1 4 0]\n",
      "   [1 3 3]]\n",
      "\n",
      "  [[1 1 3]\n",
      "   [4 0 2]\n",
      "   [3 3 2]]\n",
      "\n",
      "  [[1 3 4]\n",
      "   [0 2 4]\n",
      "   [3 2 2]]\n",
      "\n",
      "  [[3 4 3]\n",
      "   [2 4 0]\n",
      "   [2 2 4]]]\n",
      "\n",
      "\n",
      " [[[4 4 1]\n",
      "   [1 4 0]\n",
      "   [4 0 2]]\n",
      "\n",
      "  [[4 1 3]\n",
      "   [4 0 3]\n",
      "   [0 2 1]]\n",
      "\n",
      "  [[1 3 1]\n",
      "   [0 3 1]\n",
      "   [2 1 3]]\n",
      "\n",
      "  [[3 1 4]\n",
      "   [3 1 3]\n",
      "   [1 3 3]]\n",
      "\n",
      "  [[1 4 0]\n",
      "   [1 3 3]\n",
      "   [3 3 4]]\n",
      "\n",
      "  [[4 0 2]\n",
      "   [3 3 2]\n",
      "   [3 4 4]]\n",
      "\n",
      "  [[0 2 4]\n",
      "   [3 2 2]\n",
      "   [4 4 2]]\n",
      "\n",
      "  [[2 4 0]\n",
      "   [2 2 4]\n",
      "   [4 2 4]]]\n",
      "\n",
      "\n",
      " [[[1 4 0]\n",
      "   [4 0 2]\n",
      "   [4 1 1]]\n",
      "\n",
      "  [[4 0 3]\n",
      "   [0 2 1]\n",
      "   [1 1 4]]\n",
      "\n",
      "  [[0 3 1]\n",
      "   [2 1 3]\n",
      "   [1 4 3]]\n",
      "\n",
      "  [[3 1 3]\n",
      "   [1 3 3]\n",
      "   [4 3 1]]\n",
      "\n",
      "  [[1 3 3]\n",
      "   [3 3 4]\n",
      "   [3 1 1]]\n",
      "\n",
      "  [[3 3 2]\n",
      "   [3 4 4]\n",
      "   [1 1 3]]\n",
      "\n",
      "  [[3 2 2]\n",
      "   [4 4 2]\n",
      "   [1 3 0]]\n",
      "\n",
      "  [[2 2 4]\n",
      "   [4 2 4]\n",
      "   [3 0 3]]]\n",
      "\n",
      "\n",
      " [[[4 0 2]\n",
      "   [4 1 1]\n",
      "   [0 0 0]]\n",
      "\n",
      "  [[0 2 1]\n",
      "   [1 1 4]\n",
      "   [0 0 4]]\n",
      "\n",
      "  [[2 1 3]\n",
      "   [1 4 3]\n",
      "   [0 4 4]]\n",
      "\n",
      "  [[1 3 3]\n",
      "   [4 3 1]\n",
      "   [4 4 4]]\n",
      "\n",
      "  [[3 3 4]\n",
      "   [3 1 1]\n",
      "   [4 4 4]]\n",
      "\n",
      "  [[3 4 4]\n",
      "   [1 1 3]\n",
      "   [4 4 1]]\n",
      "\n",
      "  [[4 4 2]\n",
      "   [1 3 0]\n",
      "   [4 1 2]]\n",
      "\n",
      "  [[4 2 4]\n",
      "   [3 0 3]\n",
      "   [1 2 1]]]\n",
      "\n",
      "\n",
      " [[[4 1 1]\n",
      "   [0 0 0]\n",
      "   [0 3 0]]\n",
      "\n",
      "  [[1 1 4]\n",
      "   [0 0 4]\n",
      "   [3 0 2]]\n",
      "\n",
      "  [[1 4 3]\n",
      "   [0 4 4]\n",
      "   [0 2 2]]\n",
      "\n",
      "  [[4 3 1]\n",
      "   [4 4 4]\n",
      "   [2 2 1]]\n",
      "\n",
      "  [[3 1 1]\n",
      "   [4 4 4]\n",
      "   [2 1 4]]\n",
      "\n",
      "  [[1 1 3]\n",
      "   [4 4 1]\n",
      "   [1 4 4]]\n",
      "\n",
      "  [[1 3 0]\n",
      "   [4 1 2]\n",
      "   [4 4 1]]\n",
      "\n",
      "  [[3 0 3]\n",
      "   [1 2 1]\n",
      "   [4 1 3]]]]\n"
     ]
    }
   ],
   "source": [
    "#75. Extract all the contiguous 3x3 blocks from a random 10x10 matrix (★★★)# Author: Chris Barker\n",
    "Z=np.random.randint(0,5,(10,10))\n",
    "n=3\n",
    "i=1+(Z.shape[0]-3)\n",
    "j=1+(Z.shape[1]-3)\n",
    "C=stride_tricks.as_strided(Z,shape=(i,j,n,n),strides=Z.strides+Z.strides)\n",
    "print(C)"
   ]
  },
  {
   "cell_type": "code",
   "execution_count": 223,
   "metadata": {},
   "outputs": [],
   "source": [
    "#76. Create a 2D array subclass such that Z[i,j] == Z[j,i] (★★★)# Author: Eric O. Lebigot\n",
    "# Note: only works for 2d array and value setting using indices\n",
    "#class Symetric(np.ndarray):\n",
    "    #def__setitem__(self,(i,j),value)\n",
    "    #super(Symetric,self).__setitem__((i,j),value)\n",
    "    #super(Symetric,self).__setitem__((j,i),value)\n",
    "#def symetric(Z):\n",
    "    #return np.asarray(Z+Z.T-np.diag(Z.diagonal())).view(Symetric)\n",
    "#S=symetric(np.random.randint(0,10,(5,5)))\n",
    "#S[2,3]=42\n",
    "#print(S)"
   ]
  },
  {
   "cell_type": "code",
   "execution_count": 136,
   "metadata": {},
   "outputs": [
    {
     "name": "stdout",
     "output_type": "stream",
     "text": [
      "[[200.]\n",
      " [200.]\n",
      " [200.]\n",
      " [200.]\n",
      " [200.]\n",
      " [200.]\n",
      " [200.]\n",
      " [200.]\n",
      " [200.]\n",
      " [200.]\n",
      " [200.]\n",
      " [200.]\n",
      " [200.]\n",
      " [200.]\n",
      " [200.]\n",
      " [200.]\n",
      " [200.]\n",
      " [200.]\n",
      " [200.]\n",
      " [200.]]\n"
     ]
    }
   ],
   "source": [
    "#77. Consider a set of p matrices wich shape (n,n) and a set of p vectors with shape(n,1). How to compute the sum of of the p matrix products at once? (result hasshape (n,1)) (★★★)# Author: Stefan van der Walt\n",
    "p,n=10,20\n",
    "M=np.ones((p,n,n))\n",
    "V=np.ones((p,n,1))\n",
    "S=np.tensordot(M,V,axes=[[0,2],[0,1]])\n",
    "print(S)# It works, because:# M is (p,n,n)\n",
    "# V is (p,n,1)\n",
    "# Thus, summing over the paired axes 0 and 0 (of M and V independently),\n",
    "# and 2 and 1, to remain with a (n,1) vector."
   ]
  },
  {
   "cell_type": "code",
   "execution_count": 224,
   "metadata": {},
   "outputs": [],
   "source": [
    "#78. Consider a 16x16 array, how to get the block­sum (block size is 4x4)? (★★★)# Author: Robert Kern\n",
    "#Z=np.ones(16)\n",
    "#k=4\n",
    "#S=np.add.reduceat(np.add.reduceat(Z,np.arange(0,Z.shape[0],k),axis=0),np.arange(0,Z.shape[1],k),axis=1)"
   ]
  },
  {
   "cell_type": "code",
   "execution_count": 225,
   "metadata": {},
   "outputs": [],
   "source": [
    "#79. How to implement the Game of Life using numpy arrays? (★★★)# Author: Nicolas Rougier\n",
    "def iterate(Z):# Count neighbours\n",
    "# Count neighbours \n",
    "    N=(Z[0:-2,0:-2]+Z[0:-2,1:-1]+Z[0:-2,2:]+\n",
    "       Z[1:-1,0:-2]             +Z[1:-1,2:]+\n",
    "       Z[2:,0:-2]+Z[2:,1:-1]+Z[2:,2:])# Apply rules\n",
    "    birth=(N==3)&(Z[1:-1,1:-1]==0)\n",
    "    survive=((N==2)|(N==3))&(Z[1:-1,1:-1]==1)\n",
    "    Z[...]=0\n",
    "    Z[1:-1,1:-1][birth|survive]=1\n",
    "    return Z\n",
    "Z=np.random.randint(0,2,(50,50))\n",
    "for i in range(100):\n",
    "    Z=iterate(Z)"
   ]
  },
  {
   "cell_type": "code",
   "execution_count": 226,
   "metadata": {},
   "outputs": [
    {
     "data": {
      "text/plain": [
       "array([[0, 0, 0, ..., 0, 0, 0],\n",
       "       [0, 0, 0, ..., 0, 0, 0],\n",
       "       [0, 0, 0, ..., 0, 0, 0],\n",
       "       ...,\n",
       "       [0, 0, 0, ..., 0, 0, 0],\n",
       "       [0, 0, 0, ..., 0, 0, 0],\n",
       "       [0, 0, 0, ..., 0, 0, 0]])"
      ]
     },
     "execution_count": 226,
     "metadata": {},
     "output_type": "execute_result"
    }
   ],
   "source": [
    "Z"
   ]
  },
  {
   "cell_type": "code",
   "execution_count": 227,
   "metadata": {},
   "outputs": [
    {
     "name": "stdout",
     "output_type": "stream",
     "text": [
      "[9995 9996 9997 9998 9999]\n",
      "[9998 9996 9999 9997 9995]\n"
     ]
    }
   ],
   "source": [
    "#80. How to get the n largest values of an array (★★★)\n",
    "Z=np.arange(10000)\n",
    "np.random.shuffle(Z)\n",
    "n=5# Slow\n",
    "print(Z[np.argsort(Z)[-n:]])\n",
    "# Fast\n",
    "print(Z[np.argpartition(-Z,n)[:n]])"
   ]
  },
  {
   "cell_type": "code",
   "execution_count": 231,
   "metadata": {},
   "outputs": [],
   "source": [
    "#81. Given an arbitrary number of vectors, build the cartesian product (everycombinations of every item) (★★★)\n",
    "# Author: Stefan Van der Walt\n",
    "\n",
    "#def cartesian(arrays):\n",
    "   # arrays=[np.asarray(a)for a in arrays]\n",
    "    #shape=(len(x)for x in arrays)\n",
    "    #ix=np.indices(shape,dtype=int)\n",
    "    #ix=ix.reshape(len(arrays),-1).T\n",
    "    #for n,arr in enumerate(arrays):\n",
    "        #ix[:,n]=arrays[n][ix[:,n]]\n",
    "       # return ix \n",
    "#print(cartesian([1,2,3],[4,5],[6,7]))"
   ]
  },
  {
   "cell_type": "code",
   "execution_count": 233,
   "metadata": {},
   "outputs": [
    {
     "data": {
      "text/plain": [
       "rec.array([(b'Hello', 2.5, 3), (b'World', 3.6, 2)],\n",
       "          dtype=[('col1', 'S8'), ('col2', '<f8'), ('col3', '<i8')])"
      ]
     },
     "execution_count": 233,
     "metadata": {},
     "output_type": "execute_result"
    }
   ],
   "source": [
    "#82. How to create a record array from a regular array? (★★★)\n",
    "Z=np.array([(\"Hello\",2.5,3),(\"World\",3.6,2)])\n",
    "R=np.core.records.fromarrays(Z.T,names='col1, col2, col3',formats='S8, f8, i8')\n",
    "R"
   ]
  },
  {
   "cell_type": "code",
   "execution_count": 241,
   "metadata": {},
   "outputs": [],
   "source": [
    "#83. Consider a large vector Z, compute Z to the power of 3 using 3 different methods(★★★)Author:Ryan\n",
    "#x=np.random.rand(5e7)\n",
    "#%time it np.power(x,3)\n",
    "#1 loops,best of 3:574 ms per loop\n",
    "#%time it x*x*x\n",
    "#1 loops,best of 3:429 ms per loop\n",
    "#%time it np.einsum('i,i,i->i',x,x,x)\n",
    "#1 loops,best of 3:244 ms per loop(★★★)# Author: Gabe Schwartz"
   ]
  },
  {
   "cell_type": "code",
   "execution_count": null,
   "metadata": {},
   "outputs": [],
   "source": []
  },
  {
   "cell_type": "code",
   "execution_count": 242,
   "metadata": {},
   "outputs": [
    {
     "name": "stdout",
     "output_type": "stream",
     "text": [
      "[0 1 2 5 6 7]\n"
     ]
    }
   ],
   "source": [
    "#84. Consider two arrays A and B of shape (8,3) and (2,2). \n",
    "#How to find rows of A thatcontain elements of each row of B regardless of the order of the elements in B?\n",
    "\n",
    "A=np.random.randint(0,5,(8,3))\n",
    "B=np.random.randint(0,5,(2,2))\n",
    "C=(A[...,np.newaxis,np.newaxis]==B)\n",
    "rows=(C.sum(axis=(1,2,3))>=B.shape[1]).nonzero()[0]\n",
    "print(rows)"
   ]
  },
  {
   "cell_type": "code",
   "execution_count": null,
   "metadata": {},
   "outputs": [],
   "source": []
  },
  {
   "cell_type": "code",
   "execution_count": 243,
   "metadata": {},
   "outputs": [
    {
     "name": "stdout",
     "output_type": "stream",
     "text": [
      "[0 5 7]\n"
     ]
    }
   ],
   "source": [
    "A=np.random.randint(0,5,(8,3))\n",
    "B=np.random.randint(0,5,(2,2))\n",
    "C=(A[...,np.newaxis,np.newaxis]==B)\n",
    "rows=(C.sum(axis=(1,2,3))>=B.shape[1]).nonzero()[0]\n",
    "print(rows)"
   ]
  },
  {
   "cell_type": "code",
   "execution_count": null,
   "metadata": {},
   "outputs": [],
   "source": []
  },
  {
   "cell_type": "code",
   "execution_count": null,
   "metadata": {},
   "outputs": [],
   "source": []
  },
  {
   "cell_type": "code",
   "execution_count": 244,
   "metadata": {},
   "outputs": [
    {
     "name": "stdout",
     "output_type": "stream",
     "text": [
      "[[2 1 1]\n",
      " [1 2 3]\n",
      " [4 1 4]\n",
      " [0 2 2]\n",
      " [0 2 1]\n",
      " [0 2 2]\n",
      " [1 2 1]\n",
      " [1 0 0]\n",
      " [4 0 0]\n",
      " [3 0 2]]\n",
      "[[2 1 1]\n",
      " [1 2 3]\n",
      " [4 1 4]\n",
      " [0 2 2]\n",
      " [0 2 1]\n",
      " [0 2 2]\n",
      " [1 2 1]\n",
      " [1 0 0]\n",
      " [4 0 0]\n",
      " [3 0 2]]\n"
     ]
    }
   ],
   "source": [
    "#85. Considering a 10x3 matrix, extract rows with unequal values (e.g. [2,2,3]) (★★★)# Author: Robert Kern\n",
    "\n",
    "Z=np.random.randint(0,5,(10,3))\n",
    "E=np.logical_and.reduce(Z[:,1:]==Z[:,:-1],axis=1)\n",
    "U=Z[~E]\n",
    "print(Z)\n",
    "print(U)"
   ]
  },
  {
   "cell_type": "code",
   "execution_count": 245,
   "metadata": {},
   "outputs": [
    {
     "name": "stdout",
     "output_type": "stream",
     "text": [
      "[[0 0 0 0 0 0 0 0]\n",
      " [0 0 0 0 0 0 0 1]\n",
      " [0 0 0 0 0 0 1 0]\n",
      " [0 0 0 0 0 0 1 1]\n",
      " [0 0 0 0 1 1 1 1]\n",
      " [0 0 0 1 0 0 0 0]\n",
      " [0 0 1 0 0 0 0 0]\n",
      " [0 1 0 0 0 0 0 0]\n",
      " [1 0 0 0 0 0 0 0]]\n",
      "[[0 0 0 0 0 0 0 0]\n",
      " [0 0 0 0 0 0 0 1]\n",
      " [0 0 0 0 0 0 1 0]\n",
      " [0 0 0 0 0 0 1 1]\n",
      " [0 0 0 0 1 1 1 1]\n",
      " [0 0 0 1 0 0 0 0]\n",
      " [0 0 1 0 0 0 0 0]\n",
      " [0 1 0 0 0 0 0 0]\n",
      " [1 0 0 0 0 0 0 0]]\n"
     ]
    }
   ],
   "source": [
    "#86. Convert a vector of ints into a matrix binary representation (★★★)# Author: Warren Weckesser\n",
    "\n",
    "I=np.array([0,1,2,3,15,16,32,64,128])\n",
    "B=((I.reshape(-1,1)&(2**np.arange(8)))!=0).astype(int)\n",
    "\n",
    "print(B[:,::-1])# Author: Daniel T. McDonald\n",
    "I=np.array([0,1,2,3,15,16,32,64,128],dtype=np.uint8)\n",
    "print(np.unpackbits(I[:,np.newaxis],axis=1))"
   ]
  },
  {
   "cell_type": "code",
   "execution_count": 246,
   "metadata": {},
   "outputs": [],
   "source": [
    "#87. Given a two dimensional array, how to extract unique rows? (★★★)# Author: Jaime Fernández del Río\n",
    "\n",
    "#Z=np.random.randint(0,2,(6,3))\n",
    "#T=np.ascontiguousarray(Z).view(np.dtype((np.void,Z.dtype.itemsize*Z.shape[1]))),idx=np.unique(T,return_index=True)\n",
    "#uZ=Z[idx]\n",
    "#print(uZ)"
   ]
  },
  {
   "cell_type": "code",
   "execution_count": 248,
   "metadata": {},
   "outputs": [],
   "source": [
    "#88. Considering 2 vectors A & B, write the einsum equivalent of inner, outer, sum,and mul function (★★★)\n",
    "# Author: Alex Riley# Make sure to read: http://ajcr.net/Basic-guide-to-einsum/\n",
    "\n",
    "#np.einsum('i->',A)# np.sum(A)\n",
    "#np.einsum('i,i->i',A,B)# A * B\n",
    "#np.einsum('i,i',A,B)# np.inner(A, B)\n",
    "#np.einsum('i,j',A,B)# np.outer(A, B)"
   ]
  },
  {
   "cell_type": "code",
   "execution_count": 249,
   "metadata": {},
   "outputs": [],
   "source": [
    "#89. Considering a path described by two vectors (X,Y), how to sample it usingequidistant samples (★★★)?\n",
    "# Author: Bas Swinckels\n",
    "phi=np.arange(0,10*np.pi,0.1)\n",
    "a=1\n",
    "x=a*phi*np.cos(phi)\n",
    "y=a*phi*np.sin(phi)\n",
    "dr=(np.diff(x)**2+np.diff(y)**2)**.5# segment lengths\n",
    "\n",
    "r=np.zeros_like(x)\n",
    "r[1:]=np.cumsum(dr)# integrate path\n",
    "r_int=np.linspace(0,r.max(),200)# regular spaced path\n",
    "x_int=np.interp(r_int,r,x)# integrate path\n",
    "y_int=np.interp(r_int,r,y)"
   ]
  },
  {
   "cell_type": "code",
   "execution_count": 251,
   "metadata": {
    "scrolled": true
   },
   "outputs": [
    {
     "data": {
      "text/plain": [
       "array([  0.        ,   2.48788858,   4.97577716,   7.46366574,\n",
       "         9.95155432,  12.43944289,  14.92733147,  17.41522005,\n",
       "        19.90310863,  22.39099721,  24.87888579,  27.36677437,\n",
       "        29.85466295,  32.34255152,  34.8304401 ,  37.31832868,\n",
       "        39.80621726,  42.29410584,  44.78199442,  47.269883  ,\n",
       "        49.75777158,  52.24566016,  54.73354873,  57.22143731,\n",
       "        59.70932589,  62.19721447,  64.68510305,  67.17299163,\n",
       "        69.66088021,  72.14876879,  74.63665736,  77.12454594,\n",
       "        79.61243452,  82.1003231 ,  84.58821168,  87.07610026,\n",
       "        89.56398884,  92.05187742,  94.539766  ,  97.02765457,\n",
       "        99.51554315, 102.00343173, 104.49132031, 106.97920889,\n",
       "       109.46709747, 111.95498605, 114.44287463, 116.9307632 ,\n",
       "       119.41865178, 121.90654036, 124.39442894, 126.88231752,\n",
       "       129.3702061 , 131.85809468, 134.34598326, 136.83387184,\n",
       "       139.32176041, 141.80964899, 144.29753757, 146.78542615,\n",
       "       149.27331473, 151.76120331, 154.24909189, 156.73698047,\n",
       "       159.22486904, 161.71275762, 164.2006462 , 166.68853478,\n",
       "       169.17642336, 171.66431194, 174.15220052, 176.6400891 ,\n",
       "       179.12797768, 181.61586625, 184.10375483, 186.59164341,\n",
       "       189.07953199, 191.56742057, 194.05530915, 196.54319773,\n",
       "       199.03108631, 201.51897488, 204.00686346, 206.49475204,\n",
       "       208.98264062, 211.4705292 , 213.95841778, 216.44630636,\n",
       "       218.93419494, 221.42208352, 223.90997209, 226.39786067,\n",
       "       228.88574925, 231.37363783, 233.86152641, 236.34941499,\n",
       "       238.83730357, 241.32519215, 243.81308072, 246.3009693 ,\n",
       "       248.78885788, 251.27674646, 253.76463504, 256.25252362,\n",
       "       258.7404122 , 261.22830078, 263.71618936, 266.20407793,\n",
       "       268.69196651, 271.17985509, 273.66774367, 276.15563225,\n",
       "       278.64352083, 281.13140941, 283.61929799, 286.10718656,\n",
       "       288.59507514, 291.08296372, 293.5708523 , 296.05874088,\n",
       "       298.54662946, 301.03451804, 303.52240662, 306.0102952 ,\n",
       "       308.49818377, 310.98607235, 313.47396093, 315.96184951,\n",
       "       318.44973809, 320.93762667, 323.42551525, 325.91340383,\n",
       "       328.4012924 , 330.88918098, 333.37706956, 335.86495814,\n",
       "       338.35284672, 340.8407353 , 343.32862388, 345.81651246,\n",
       "       348.30440104, 350.79228961, 353.28017819, 355.76806677,\n",
       "       358.25595535, 360.74384393, 363.23173251, 365.71962109,\n",
       "       368.20750967, 370.69539824, 373.18328682, 375.6711754 ,\n",
       "       378.15906398, 380.64695256, 383.13484114, 385.62272972,\n",
       "       388.1106183 , 390.59850688, 393.08639545, 395.57428403,\n",
       "       398.06217261, 400.55006119, 403.03794977, 405.52583835,\n",
       "       408.01372693, 410.50161551, 412.98950408, 415.47739266,\n",
       "       417.96528124, 420.45316982, 422.9410584 , 425.42894698,\n",
       "       427.91683556, 430.40472414, 432.89261272, 435.38050129,\n",
       "       437.86838987, 440.35627845, 442.84416703, 445.33205561,\n",
       "       447.81994419, 450.30783277, 452.79572135, 455.28360992,\n",
       "       457.7714985 , 460.25938708, 462.74727566, 465.23516424,\n",
       "       467.72305282, 470.2109414 , 472.69882998, 475.18671856,\n",
       "       477.67460713, 480.16249571, 482.65038429, 485.13827287,\n",
       "       487.62616145, 490.11405003, 492.60193861, 495.08982719])"
      ]
     },
     "execution_count": 251,
     "metadata": {},
     "output_type": "execute_result"
    }
   ],
   "source": [
    "r_int"
   ]
  },
  {
   "cell_type": "code",
   "execution_count": 252,
   "metadata": {
    "scrolled": true
   },
   "outputs": [
    {
     "data": {
      "text/plain": [
       "array([ 0.00000000e+00, -3.73131229e-01, -2.59817608e+00, -3.26212050e+00,\n",
       "       -2.18442687e+00, -2.98929946e-02,  2.42923642e+00,  4.54913599e+00,\n",
       "        5.92318348e+00,  6.35117933e+00,  5.82369277e+00,  4.46259540e+00,\n",
       "        2.47320794e+00,  1.09577220e-01, -2.36575300e+00, -4.71261671e+00,\n",
       "       -6.72701769e+00, -8.25541575e+00, -9.18486120e+00, -9.46381505e+00,\n",
       "       -9.11085788e+00, -8.12875279e+00, -6.63306046e+00, -4.69271059e+00,\n",
       "       -2.44736165e+00, -2.05444585e-02,  2.46101146e+00,  4.86841760e+00,\n",
       "        7.08937968e+00,  9.02539126e+00,  1.05948609e+01,  1.17357250e+01,\n",
       "        1.24068974e+01,  1.25885805e+01,  1.22815267e+01,  1.15053927e+01,\n",
       "        1.02963689e+01,  8.70429550e+00,  6.78948686e+00,  4.61716636e+00,\n",
       "        2.25853448e+00, -1.98731680e-01, -2.68040566e+00, -5.11543300e+00,\n",
       "       -7.41973991e+00, -9.53891040e+00, -1.14237629e+01, -1.29919305e+01,\n",
       "       -1.42355069e+01, -1.51243232e+01, -1.56061571e+01, -1.57219415e+01,\n",
       "       -1.54217066e+01, -1.47579136e+01, -1.37255236e+01, -1.23634834e+01,\n",
       "       -1.07024632e+01, -8.78327367e+00, -6.65029558e+00, -4.35514246e+00,\n",
       "       -1.94290275e+00,  5.28038914e-01,  3.00985904e+00,  5.45450275e+00,\n",
       "        7.80093594e+00,  1.00179639e+01,  1.20595602e+01,  1.38732623e+01,\n",
       "        1.54564938e+01,  1.67497894e+01,  1.77435802e+01,  1.84439878e+01,\n",
       "        1.87990820e+01,  1.88271003e+01,  1.85472755e+01,  1.79378850e+01,\n",
       "        1.70105456e+01,  1.58085777e+01,  1.43501808e+01,  1.26222364e+01,\n",
       "        1.06905445e+01,  8.58498641e+00,  6.33562529e+00,  3.96179025e+00,\n",
       "        1.51802643e+00, -9.61699044e-01, -3.44349301e+00, -5.88951759e+00,\n",
       "       -8.26006582e+00, -1.05270865e+01, -1.26610269e+01, -1.46343020e+01,\n",
       "       -1.64206033e+01, -1.79708499e+01, -1.92894561e+01, -2.03605967e+01,\n",
       "       -2.11716587e+01, -2.17133504e+01, -2.19797677e+01, -2.19626531e+01,\n",
       "       -2.16476737e+01, -2.10622561e+01, -2.02145809e+01, -1.91158467e+01,\n",
       "       -1.77800930e+01, -1.62239930e+01, -1.44666197e+01, -1.25291882e+01,\n",
       "       -1.04347777e+01, -8.20773276e+00, -5.86978851e+00, -3.45563299e+00,\n",
       "       -9.92556869e-01,  1.49191203e+00,  3.97031733e+00,  6.41557503e+00,\n",
       "        8.80126359e+00,  1.11019001e+01,  1.32931995e+01,  1.53523150e+01,\n",
       "        1.72580567e+01,  1.89910866e+01,  2.05340895e+01,  2.18719167e+01,\n",
       "        2.29917039e+01,  2.38829603e+01,  2.45376309e+01,  2.49501314e+01,\n",
       "        2.51173551e+01,  2.50386548e+01,  2.47157984e+01,  2.41529019e+01,\n",
       "        2.33563391e+01,  2.23346314e+01,  2.10983193e+01,  1.96598169e+01,\n",
       "        1.80332532e+01,  1.62343003e+01,  1.42799934e+01,  1.21885425e+01,\n",
       "        9.97914013e+00,  7.67176574e+00,  5.28699023e+00,  2.84441658e+00,\n",
       "        3.68190102e-01, -2.11846865e+00, -4.59426061e+00, -7.03829202e+00,\n",
       "       -9.43024209e+00, -1.17505186e+01, -1.39803999e+01, -1.61021634e+01,\n",
       "       -1.80991985e+01, -1.99561058e+01, -2.16587804e+01, -2.31850397e+01,\n",
       "       -2.45166960e+01, -2.56568097e+01, -2.65976904e+01, -2.73332424e+01,\n",
       "       -2.78589555e+01, -2.81718833e+01, -2.82706110e+01, -2.81552119e+01,\n",
       "       -2.78066635e+01, -2.72341677e+01, -2.64578863e+01, -2.54844118e+01,\n",
       "       -2.43214986e+01, -2.29779690e+01, -2.14636172e+01, -1.97837046e+01,\n",
       "       -1.79341987e+01, -1.59545785e+01, -1.38585628e+01, -1.16602783e+01,\n",
       "       -9.37416511e+00, -7.01488958e+00, -4.59184632e+00, -2.12995331e+00,\n",
       "        3.50691071e-01,  2.83498918e+00,  5.30813450e+00,  7.75565814e+00,\n",
       "        1.01522531e+01,  1.24813227e+01,  1.47337756e+01,  1.68973642e+01,\n",
       "        1.89604991e+01,  2.09071945e+01,  2.26943693e+01,  2.43420179e+01,\n",
       "        2.58422998e+01,  2.71881423e+01,  2.83731992e+01,  2.93376609e+01,\n",
       "        3.01222558e+01,  3.07280750e+01,  3.11531219e+01,  3.13960177e+01])"
      ]
     },
     "execution_count": 252,
     "metadata": {},
     "output_type": "execute_result"
    }
   ],
   "source": [
    "x_int"
   ]
  },
  {
   "cell_type": "code",
   "execution_count": 253,
   "metadata": {
    "scrolled": true
   },
   "outputs": [
    {
     "data": {
      "text/plain": [
       "array([ 0.00000000e+00,  1.74026724e+00,  9.81816584e-01, -1.34251287e+00,\n",
       "       -3.53191891e+00, -4.70449474e+00, -4.59573427e+00, -3.33831870e+00,\n",
       "       -1.28956083e+00,  1.14234685e+00,  3.55645601e+00,  5.62188218e+00,\n",
       "        7.09389488e+00,  7.82951803e+00,  7.78700678e+00,  6.99685666e+00,\n",
       "        5.55535240e+00,  3.60417006e+00,  1.30506373e+00, -1.15819722e+00,\n",
       "       -3.61328132e+00, -5.89130465e+00, -7.87065053e+00, -9.41689057e+00,\n",
       "       -1.04714836e+01, -1.09903787e+01, -1.09354306e+01, -1.03330912e+01,\n",
       "       -9.22690166e+00, -7.67489830e+00, -5.75257980e+00, -3.54832201e+00,\n",
       "       -1.15854355e+00,  1.31709956e+00,  3.78023622e+00,  6.13780326e+00,\n",
       "        8.30540149e+00,  1.02098724e+01,  1.17910419e+01,  1.29972950e+01,\n",
       "        1.37774249e+01,  1.41319792e+01,  1.40585758e+01,  1.35636816e+01,\n",
       "        1.26345244e+01,  1.13409083e+01,  9.72216360e+00,  7.79464305e+00,\n",
       "        5.64544223e+00,  3.32503222e+00,  8.88107041e-01, -1.59329248e+00,\n",
       "       -4.05992507e+00, -6.45313746e+00, -8.71327144e+00, -1.07900854e+01,\n",
       "       -1.26380653e+01, -1.42147006e+01, -1.54892299e+01, -1.64390858e+01,\n",
       "       -1.70351433e+01, -1.72938948e+01, -1.71685631e+01, -1.67219979e+01,\n",
       "       -1.59044166e+01, -1.47824153e+01, -1.33665280e+01, -1.16678134e+01,\n",
       "       -9.75246391e+00, -7.63091465e+00, -5.35345831e+00, -2.96905840e+00,\n",
       "       -5.09631905e-01,  1.97507060e+00,  4.44430515e+00,  6.85344809e+00,\n",
       "        9.15903461e+00,  1.13337844e+01,  1.33467125e+01,  1.51336120e+01,\n",
       "        1.66966787e+01,  1.80162922e+01,  1.90746708e+01,  1.98127969e+01,\n",
       "        2.02634499e+01,  2.04221761e+01,  2.02877631e+01,  1.98449702e+01,\n",
       "        1.90974465e+01,  1.80799531e+01,  1.68069397e+01,  1.52959771e+01,\n",
       "        1.35665801e+01,  1.16227312e+01,  9.51601869e+00,  7.27388893e+00,\n",
       "        4.92519240e+00,  2.49981337e+00,  2.82932820e-02, -2.45817963e+00,\n",
       "       -4.92460367e+00, -7.34030894e+00, -9.67635928e+00, -1.19050601e+01,\n",
       "       -1.40002645e+01, -1.59376556e+01, -1.76950019e+01, -1.92523833e+01,\n",
       "       -2.05923861e+01, -2.16995543e+01, -2.25478860e+01, -2.31432552e+01,\n",
       "       -2.34800725e+01, -2.35556687e+01, -2.33702741e+01, -2.29269662e+01,\n",
       "       -2.22315865e+01, -2.12926288e+01, -2.01211000e+01, -1.87303570e+01,\n",
       "       -1.71359212e+01, -1.53552740e+01, -1.34076356e+01, -1.13137308e+01,\n",
       "       -9.09554383e+00, -6.77606668e+00, -4.37904252e+00, -1.92870828e+00,\n",
       "        5.50461201e-01,  3.03400451e+00,  5.49771780e+00,  7.91788934e+00,\n",
       "        1.02715222e+01,  1.25365431e+01,  1.46919953e+01,  1.67182148e+01,\n",
       "        1.85969872e+01,  2.03116866e+01,  2.18473923e+01,  2.31909872e+01,\n",
       "        2.43312337e+01,  2.52588296e+01,  2.59664444e+01,  2.64391214e+01,\n",
       "        2.66748505e+01,  2.66796333e+01,  2.64545680e+01,  2.60026765e+01,\n",
       "        2.53288265e+01,  2.44396400e+01,  2.33433894e+01,  2.20498837e+01,\n",
       "        2.05703459e+01,  1.89172843e+01,  1.71043584e+01,  1.51396391e+01,\n",
       "        1.30387952e+01,  1.08294252e+01,  8.52903617e+00,  6.15551380e+00,\n",
       "        3.72697869e+00,  1.26164946e+00, -1.22228693e+00, -3.70679651e+00,\n",
       "       -6.17014862e+00, -8.59028675e+00, -1.09516293e+01, -1.32379536e+01,\n",
       "       -1.54338179e+01, -1.75246263e+01, -1.94966815e+01, -2.13317519e+01,\n",
       "       -2.29952001e+01, -2.44987532e+01, -2.58335652e+01, -2.69919481e+01,\n",
       "       -2.79673583e+01, -2.87543764e+01, -2.93186910e+01, -2.96679958e+01,\n",
       "       -2.98181354e+01, -2.97693731e+01, -2.95229769e+01, -2.90811595e+01,\n",
       "       -2.84133854e+01, -2.75430665e+01, -2.64934034e+01, -2.52713717e+01,\n",
       "       -2.38845608e+01, -2.23353782e+01, -2.06051319e+01, -1.87442619e+01,\n",
       "       -1.67635423e+01, -1.46739620e+01, -1.24866789e+01, -1.01933401e+01,\n",
       "       -7.83474328e+00, -5.42495146e+00, -2.97607515e+00, -5.00072086e-01])"
      ]
     },
     "execution_count": 253,
     "metadata": {},
     "output_type": "execute_result"
    }
   ],
   "source": [
    "y_int"
   ]
  },
  {
   "cell_type": "code",
   "execution_count": 254,
   "metadata": {},
   "outputs": [
    {
     "name": "stdout",
     "output_type": "stream",
     "text": [
      "[[2. 0. 1. 1.]]\n"
     ]
    }
   ],
   "source": [
    "#90. Given an integer n and a 2D array X, select from X \n",
    "#the rows which can be interpreted as draws from a multinomial distribution with n degrees,\n",
    "#i.e., the rows which only contain integers and which sum to n. (★★★)\n",
    "\n",
    "\n",
    "# Author: Evgeni Burovski\n",
    "\n",
    "X=np.asarray([[1.0,0.0,3.0,8.0],[2.0,0.0,1.0,1.0],[1.5,2.5,1.0,0.0]])\n",
    "n=4\n",
    "M=np.logical_and.reduce(np.mod(X,1)==0,axis=-1)\n",
    "M&=(X.sum(axis=-1)==n)\n",
    "print(X[M])"
   ]
  },
  {
   "cell_type": "code",
   "execution_count": null,
   "metadata": {},
   "outputs": [],
   "source": []
  },
  {
   "cell_type": "code",
   "execution_count": null,
   "metadata": {},
   "outputs": [],
   "source": [
    "# Author: Evgeni BurovskiX=np.asarray([[1.0,0.0,3.0,8.0],[2.0,0.0,1.0,1.0],[1.5,2.5,1.0,0.0]])n=4M=np.logical_and.reduce(np.mod(X,1)==0,axis=-1)M&=(X.sum(axis=-1)==n)print(X[M])"
   ]
  }
 ],
 "metadata": {
  "kernelspec": {
   "display_name": "Python 3",
   "language": "python",
   "name": "python3"
  },
  "language_info": {
   "codemirror_mode": {
    "name": "ipython",
    "version": 3
   },
   "file_extension": ".py",
   "mimetype": "text/x-python",
   "name": "python",
   "nbconvert_exporter": "python",
   "pygments_lexer": "ipython3",
   "version": "3.7.6"
  }
 },
 "nbformat": 4,
 "nbformat_minor": 4
}
