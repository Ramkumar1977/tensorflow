{
 "cells": [
  {
   "cell_type": "code",
   "execution_count": 1,
   "metadata": {},
   "outputs": [
    {
     "name": "stdout",
     "output_type": "stream",
     "text": [
      "    A   B   C   D   E\n",
      "0  89  64  34  51  47\n",
      "1  87  37  79  72  14\n",
      "2  98  47  84  82   8\n",
      "3  58  33  67   6  74\n",
      "4  45  76  28  21  26\n",
      "5  46  61  29  95  75\n",
      "6  31  68  10  46  42\n",
      "7  80  60  31  24  75\n",
      "8  97  88  84  74  10\n",
      "9  20  34  16  40  51\n"
     ]
    }
   ],
   "source": [
    "#1.import python packages and create a Data Frame random integer numbers\n",
    "import pandas as pd\n",
    "import numpy as np\n",
    "data = np.random.randint(1,100,(10,5))\n",
    "df = pd.DataFrame(data = data,columns = list(\"ABCDE\"))\n",
    "print(df)"
   ]
  },
  {
   "cell_type": "code",
   "execution_count": 2,
   "metadata": {},
   "outputs": [
    {
     "data": {
      "text/html": [
       "<div>\n",
       "<style scoped>\n",
       "    .dataframe tbody tr th:only-of-type {\n",
       "        vertical-align: middle;\n",
       "    }\n",
       "\n",
       "    .dataframe tbody tr th {\n",
       "        vertical-align: top;\n",
       "    }\n",
       "\n",
       "    .dataframe thead th {\n",
       "        text-align: right;\n",
       "    }\n",
       "</style>\n",
       "<table border=\"1\" class=\"dataframe\">\n",
       "  <thead>\n",
       "    <tr style=\"text-align: right;\">\n",
       "      <th></th>\n",
       "      <th>A</th>\n",
       "      <th>B</th>\n",
       "      <th>C</th>\n",
       "      <th>D</th>\n",
       "      <th>E</th>\n",
       "    </tr>\n",
       "  </thead>\n",
       "  <tbody>\n",
       "    <tr>\n",
       "      <th>0</th>\n",
       "      <td>89</td>\n",
       "      <td>64</td>\n",
       "      <td>34</td>\n",
       "      <td>51</td>\n",
       "      <td>47</td>\n",
       "    </tr>\n",
       "    <tr>\n",
       "      <th>1</th>\n",
       "      <td>87</td>\n",
       "      <td>37</td>\n",
       "      <td>79</td>\n",
       "      <td>72</td>\n",
       "      <td>14</td>\n",
       "    </tr>\n",
       "    <tr>\n",
       "      <th>2</th>\n",
       "      <td>98</td>\n",
       "      <td>47</td>\n",
       "      <td>84</td>\n",
       "      <td>82</td>\n",
       "      <td>8</td>\n",
       "    </tr>\n",
       "    <tr>\n",
       "      <th>3</th>\n",
       "      <td>58</td>\n",
       "      <td>33</td>\n",
       "      <td>67</td>\n",
       "      <td>6</td>\n",
       "      <td>74</td>\n",
       "    </tr>\n",
       "    <tr>\n",
       "      <th>4</th>\n",
       "      <td>45</td>\n",
       "      <td>76</td>\n",
       "      <td>28</td>\n",
       "      <td>21</td>\n",
       "      <td>26</td>\n",
       "    </tr>\n",
       "    <tr>\n",
       "      <th>5</th>\n",
       "      <td>46</td>\n",
       "      <td>61</td>\n",
       "      <td>29</td>\n",
       "      <td>95</td>\n",
       "      <td>75</td>\n",
       "    </tr>\n",
       "    <tr>\n",
       "      <th>6</th>\n",
       "      <td>31</td>\n",
       "      <td>68</td>\n",
       "      <td>10</td>\n",
       "      <td>46</td>\n",
       "      <td>42</td>\n",
       "    </tr>\n",
       "    <tr>\n",
       "      <th>7</th>\n",
       "      <td>80</td>\n",
       "      <td>60</td>\n",
       "      <td>31</td>\n",
       "      <td>24</td>\n",
       "      <td>75</td>\n",
       "    </tr>\n",
       "    <tr>\n",
       "      <th>8</th>\n",
       "      <td>97</td>\n",
       "      <td>88</td>\n",
       "      <td>84</td>\n",
       "      <td>74</td>\n",
       "      <td>10</td>\n",
       "    </tr>\n",
       "    <tr>\n",
       "      <th>9</th>\n",
       "      <td>20</td>\n",
       "      <td>34</td>\n",
       "      <td>16</td>\n",
       "      <td>40</td>\n",
       "      <td>51</td>\n",
       "    </tr>\n",
       "  </tbody>\n",
       "</table>\n",
       "</div>"
      ],
      "text/plain": [
       "    A   B   C   D   E\n",
       "0  89  64  34  51  47\n",
       "1  87  37  79  72  14\n",
       "2  98  47  84  82   8\n",
       "3  58  33  67   6  74\n",
       "4  45  76  28  21  26\n",
       "5  46  61  29  95  75\n",
       "6  31  68  10  46  42\n",
       "7  80  60  31  24  75\n",
       "8  97  88  84  74  10\n",
       "9  20  34  16  40  51"
      ]
     },
     "execution_count": 2,
     "metadata": {},
     "output_type": "execute_result"
    }
   ],
   "source": [
    "df"
   ]
  },
  {
   "cell_type": "code",
   "execution_count": 3,
   "metadata": {},
   "outputs": [],
   "source": [
    "#2. create a numpy array from the data frame\n",
    "df_np = df.to_numpy()"
   ]
  },
  {
   "cell_type": "code",
   "execution_count": 4,
   "metadata": {},
   "outputs": [
    {
     "data": {
      "text/plain": [
       "array([[89, 64, 34, 51, 47],\n",
       "       [87, 37, 79, 72, 14],\n",
       "       [98, 47, 84, 82,  8],\n",
       "       [58, 33, 67,  6, 74],\n",
       "       [45, 76, 28, 21, 26],\n",
       "       [46, 61, 29, 95, 75],\n",
       "       [31, 68, 10, 46, 42],\n",
       "       [80, 60, 31, 24, 75],\n",
       "       [97, 88, 84, 74, 10],\n",
       "       [20, 34, 16, 40, 51]])"
      ]
     },
     "execution_count": 4,
     "metadata": {},
     "output_type": "execute_result"
    }
   ],
   "source": [
    "df_np"
   ]
  },
  {
   "cell_type": "code",
   "execution_count": 5,
   "metadata": {},
   "outputs": [
    {
     "name": "stdout",
     "output_type": "stream",
     "text": [
      "[[89 64 34 51 47]\n",
      " [87 37 79 72 14]\n",
      " [98 47 84 82  8]\n",
      " [58 33 67  6 74]\n",
      " [45 76 28 21 26]\n",
      " [46 61 29 95 75]\n",
      " [31 68 10 46 42]\n",
      " [80 60 31 24 75]\n",
      " [97 88 84 74 10]\n",
      " [20 34 16 40 51]]\n"
     ]
    }
   ],
   "source": [
    "print(df_np)"
   ]
  },
  {
   "cell_type": "code",
   "execution_count": 6,
   "metadata": {},
   "outputs": [
    {
     "data": {
      "text/html": [
       "<div>\n",
       "<style scoped>\n",
       "    .dataframe tbody tr th:only-of-type {\n",
       "        vertical-align: middle;\n",
       "    }\n",
       "\n",
       "    .dataframe tbody tr th {\n",
       "        vertical-align: top;\n",
       "    }\n",
       "\n",
       "    .dataframe thead th {\n",
       "        text-align: right;\n",
       "    }\n",
       "</style>\n",
       "<table border=\"1\" class=\"dataframe\">\n",
       "  <thead>\n",
       "    <tr style=\"text-align: right;\">\n",
       "      <th></th>\n",
       "      <th>A</th>\n",
       "      <th>B</th>\n",
       "      <th>C</th>\n",
       "      <th>D</th>\n",
       "      <th>E</th>\n",
       "    </tr>\n",
       "  </thead>\n",
       "  <tbody>\n",
       "    <tr>\n",
       "      <th>0</th>\n",
       "      <td>89</td>\n",
       "      <td>64</td>\n",
       "      <td>34</td>\n",
       "      <td>51</td>\n",
       "      <td>47</td>\n",
       "    </tr>\n",
       "    <tr>\n",
       "      <th>1</th>\n",
       "      <td>87</td>\n",
       "      <td>37</td>\n",
       "      <td>79</td>\n",
       "      <td>72</td>\n",
       "      <td>14</td>\n",
       "    </tr>\n",
       "    <tr>\n",
       "      <th>2</th>\n",
       "      <td>98</td>\n",
       "      <td>47</td>\n",
       "      <td>84</td>\n",
       "      <td>82</td>\n",
       "      <td>8</td>\n",
       "    </tr>\n",
       "    <tr>\n",
       "      <th>3</th>\n",
       "      <td>58</td>\n",
       "      <td>33</td>\n",
       "      <td>67</td>\n",
       "      <td>6</td>\n",
       "      <td>74</td>\n",
       "    </tr>\n",
       "    <tr>\n",
       "      <th>4</th>\n",
       "      <td>45</td>\n",
       "      <td>76</td>\n",
       "      <td>28</td>\n",
       "      <td>21</td>\n",
       "      <td>26</td>\n",
       "    </tr>\n",
       "  </tbody>\n",
       "</table>\n",
       "</div>"
      ],
      "text/plain": [
       "    A   B   C   D   E\n",
       "0  89  64  34  51  47\n",
       "1  87  37  79  72  14\n",
       "2  98  47  84  82   8\n",
       "3  58  33  67   6  74\n",
       "4  45  76  28  21  26"
      ]
     },
     "execution_count": 6,
     "metadata": {},
     "output_type": "execute_result"
    }
   ],
   "source": [
    "#3. View top few rows of the data frame\n",
    "df.head()"
   ]
  },
  {
   "cell_type": "code",
   "execution_count": 7,
   "metadata": {},
   "outputs": [
    {
     "name": "stdout",
     "output_type": "stream",
     "text": [
      "    A   B   C   D   E\n",
      "0  89  64  34  51  47\n",
      "1  87  37  79  72  14\n",
      "2  98  47  84  82   8\n",
      "3  58  33  67   6  74\n",
      "4  45  76  28  21  26\n"
     ]
    }
   ],
   "source": [
    "print(df.head())"
   ]
  },
  {
   "cell_type": "code",
   "execution_count": 8,
   "metadata": {},
   "outputs": [
    {
     "name": "stdout",
     "output_type": "stream",
     "text": [
      "    A   B   C   D   E\n",
      "0  89  64  34  51  47\n",
      "1  87  37  79  72  14\n"
     ]
    }
   ],
   "source": [
    "#4. View top 2 rows of the data frame\n",
    "print(df.head(2))"
   ]
  },
  {
   "cell_type": "code",
   "execution_count": 9,
   "metadata": {},
   "outputs": [
    {
     "name": "stdout",
     "output_type": "stream",
     "text": [
      "    A   B   C   D   E\n",
      "7  80  60  31  24  75\n",
      "8  97  88  84  74  10\n",
      "9  20  34  16  40  51\n"
     ]
    }
   ],
   "source": [
    "#5. view last 3 rows of the data frame\n",
    "print(df.tail(3))"
   ]
  },
  {
   "cell_type": "code",
   "execution_count": 10,
   "metadata": {},
   "outputs": [
    {
     "name": "stdout",
     "output_type": "stream",
     "text": [
      "60\n"
     ]
    }
   ],
   "source": [
    "#6. Get the value at 8 th row and 2 nd column\n",
    "print(df.iloc[7,1])"
   ]
  },
  {
   "cell_type": "code",
   "execution_count": 11,
   "metadata": {},
   "outputs": [],
   "source": [
    "#7. Set value at 8 th row and 2 nd column\n",
    "df.iat[7,1]=-9999"
   ]
  },
  {
   "cell_type": "code",
   "execution_count": 12,
   "metadata": {},
   "outputs": [
    {
     "name": "stdout",
     "output_type": "stream",
     "text": [
      "    A     B   C   D   E\n",
      "0  89    64  34  51  47\n",
      "1  87    37  79  72  14\n",
      "2  98    47  84  82   8\n",
      "3  58    33  67   6  74\n",
      "4  45    76  28  21  26\n",
      "5  46    61  29  95  75\n",
      "6  31    68  10  46  42\n",
      "7  80 -9999  31  24  75\n",
      "8  97    88  84  74  10\n",
      "9  20    34  16  40  51\n"
     ]
    }
   ],
   "source": [
    "print(df)"
   ]
  },
  {
   "cell_type": "code",
   "execution_count": 13,
   "metadata": {},
   "outputs": [
    {
     "data": {
      "text/plain": [
       "A    2\n",
       "B    8\n",
       "C    2\n",
       "D    5\n",
       "E    5\n",
       "dtype: int64"
      ]
     },
     "execution_count": 13,
     "metadata": {},
     "output_type": "execute_result"
    }
   ],
   "source": [
    "df.idxmax()"
   ]
  },
  {
   "cell_type": "code",
   "execution_count": 14,
   "metadata": {},
   "outputs": [
    {
     "data": {
      "text/plain": [
       "A    9\n",
       "B    7\n",
       "C    6\n",
       "D    3\n",
       "E    2\n",
       "dtype: int64"
      ]
     },
     "execution_count": 14,
     "metadata": {},
     "output_type": "execute_result"
    }
   ],
   "source": [
    "df.idxmin()"
   ]
  },
  {
   "cell_type": "code",
   "execution_count": 15,
   "metadata": {},
   "outputs": [
    {
     "name": "stdout",
     "output_type": "stream",
     "text": [
      "    A     B   C   D   E\n",
      "0  89    64  34  51  47\n",
      "1  87    37  79  72  14\n",
      "2  98    47  84  82   8\n",
      "3  58    33  67   6  74\n",
      "4  45    76  28  21  26\n",
      "5  46    61  29  95  75\n",
      "6  31    68  10  46  42\n",
      "7  80 -9999  31  24  75\n",
      "8  97    88  84  74  10\n",
      "9  20    34  16  40  51\n"
     ]
    }
   ],
   "source": [
    "#8. Copy the data from one data frame to another\n",
    "df1 = df.copy()\n",
    "print(df1)"
   ]
  },
  {
   "cell_type": "code",
   "execution_count": 16,
   "metadata": {},
   "outputs": [
    {
     "name": "stdout",
     "output_type": "stream",
     "text": [
      "      A     B     C     D     E\n",
      "0  89.0  64.0   NaN  51.0   NaN\n",
      "1  87.0   NaN  79.0  72.0   NaN\n",
      "2  98.0   NaN  84.0  82.0   NaN\n",
      "3  58.0   NaN  67.0   NaN  74.0\n",
      "4   NaN  76.0   NaN   NaN   NaN\n",
      "5   NaN  61.0   NaN  95.0  75.0\n",
      "6   NaN  68.0   NaN   NaN   NaN\n",
      "7  80.0   NaN   NaN   NaN  75.0\n",
      "8  97.0  88.0  84.0  74.0   NaN\n",
      "9   NaN   NaN   NaN   NaN  51.0\n"
     ]
    }
   ],
   "source": [
    "#9. Find out values from data frame which are more than 50\n",
    "print(df[df>50])"
   ]
  },
  {
   "cell_type": "code",
   "execution_count": 17,
   "metadata": {},
   "outputs": [
    {
     "name": "stdout",
     "output_type": "stream",
     "text": [
      "      A     B     C     D     E\n",
      "0 -5555 -5555    34 -5555    47\n",
      "1 -5555    37 -5555 -5555    14\n",
      "2 -5555    47 -5555 -5555     8\n",
      "3 -5555    33 -5555     6 -5555\n",
      "4    45 -5555    28    21    26\n",
      "5    46 -5555    29 -5555 -5555\n",
      "6    31 -5555    10    46    42\n",
      "7 -5555 -9999    31    24 -5555\n",
      "8 -5555 -5555 -5555 -5555    10\n",
      "9    20    34    16    40 -5555\n"
     ]
    }
   ],
   "source": [
    "#10. Set all the values in data frame as -5555 when value is more than 50\n",
    "\n",
    "df[df>50] = -5555\n",
    "print(df)"
   ]
  },
  {
   "cell_type": "code",
   "execution_count": null,
   "metadata": {},
   "outputs": [],
   "source": []
  }
 ],
 "metadata": {
  "kernelspec": {
   "display_name": "Python 3",
   "language": "python",
   "name": "python3"
  },
  "language_info": {
   "codemirror_mode": {
    "name": "ipython",
    "version": 3
   },
   "file_extension": ".py",
   "mimetype": "text/x-python",
   "name": "python",
   "nbconvert_exporter": "python",
   "pygments_lexer": "ipython3",
   "version": "3.7.6"
  }
 },
 "nbformat": 4,
 "nbformat_minor": 4
}
